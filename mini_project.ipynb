{
 "cells": [
  {
   "cell_type": "code",
   "execution_count": 4,
   "id": "97869d39",
   "metadata": {},
   "outputs": [
    {
     "name": "stdout",
     "output_type": "stream",
     "text": [
      "Requirement already satisfied: pip in c:\\python39\\lib\\site-packages (25.2)\n",
      "Requirement already satisfied: ultralytics in c:\\python39\\lib\\site-packages (8.0.21)\n",
      "Requirement already satisfied: opencv-python in c:\\python39\\lib\\site-packages (4.8.1.78)\n",
      "Requirement already satisfied: matplotlib>=3.2.2 in c:\\python39\\lib\\site-packages (from ultralytics) (3.8.2)\n",
      "Requirement already satisfied: numpy>=1.18.5 in c:\\python39\\lib\\site-packages (from ultralytics) (1.26.2)\n",
      "Requirement already satisfied: Pillow>=7.1.2 in c:\\python39\\lib\\site-packages (from ultralytics) (10.1.0)\n",
      "Requirement already satisfied: PyYAML>=5.3.1 in c:\\python39\\lib\\site-packages (from ultralytics) (6.0.1)\n",
      "Requirement already satisfied: requests>=2.23.0 in c:\\python39\\lib\\site-packages (from ultralytics) (2.31.0)\n",
      "Requirement already satisfied: scipy>=1.4.1 in c:\\python39\\lib\\site-packages (from ultralytics) (1.11.4)\n",
      "Requirement already satisfied: torch>=1.7.0 in c:\\python39\\lib\\site-packages (from ultralytics) (2.7.1)\n",
      "Requirement already satisfied: torchvision>=0.8.1 in c:\\python39\\lib\\site-packages (from ultralytics) (0.22.1)\n",
      "Requirement already satisfied: tqdm>=4.64.0 in c:\\python39\\lib\\site-packages (from ultralytics) (4.66.1)\n",
      "Requirement already satisfied: tensorboard>=2.4.1 in c:\\python39\\lib\\site-packages (from ultralytics) (2.15.1)\n",
      "Requirement already satisfied: pandas>=1.1.4 in c:\\python39\\lib\\site-packages (from ultralytics) (2.1.4)\n",
      "Requirement already satisfied: seaborn>=0.11.0 in c:\\python39\\lib\\site-packages (from ultralytics) (0.13.0)\n",
      "Requirement already satisfied: ipython in c:\\python39\\lib\\site-packages (from ultralytics) (8.18.1)\n",
      "Requirement already satisfied: psutil in c:\\python39\\lib\\site-packages (from ultralytics) (5.9.6)\n",
      "Requirement already satisfied: thop>=0.1.1 in c:\\python39\\lib\\site-packages (from ultralytics) (0.1.1.post2209072238)\n",
      "Requirement already satisfied: sentry-sdk in c:\\python39\\lib\\site-packages (from ultralytics) (1.38.0)\n",
      "Requirement already satisfied: contourpy>=1.0.1 in c:\\python39\\lib\\site-packages (from matplotlib>=3.2.2->ultralytics) (1.2.0)\n",
      "Requirement already satisfied: cycler>=0.10 in c:\\python39\\lib\\site-packages (from matplotlib>=3.2.2->ultralytics) (0.12.1)\n",
      "Requirement already satisfied: fonttools>=4.22.0 in c:\\python39\\lib\\site-packages (from matplotlib>=3.2.2->ultralytics) (4.46.0)\n",
      "Requirement already satisfied: kiwisolver>=1.3.1 in c:\\python39\\lib\\site-packages (from matplotlib>=3.2.2->ultralytics) (1.4.5)\n",
      "Requirement already satisfied: packaging>=20.0 in c:\\python39\\lib\\site-packages (from matplotlib>=3.2.2->ultralytics) (23.2)\n",
      "Requirement already satisfied: pyparsing>=2.3.1 in c:\\python39\\lib\\site-packages (from matplotlib>=3.2.2->ultralytics) (3.1.1)\n",
      "Requirement already satisfied: python-dateutil>=2.7 in c:\\python39\\lib\\site-packages (from matplotlib>=3.2.2->ultralytics) (2.8.2)\n",
      "Requirement already satisfied: importlib-resources>=3.2.0 in c:\\python39\\lib\\site-packages (from matplotlib>=3.2.2->ultralytics) (6.1.1)\n",
      "Requirement already satisfied: zipp>=3.1.0 in c:\\python39\\lib\\site-packages (from importlib-resources>=3.2.0->matplotlib>=3.2.2->ultralytics) (3.17.0)\n",
      "Requirement already satisfied: pytz>=2020.1 in c:\\python39\\lib\\site-packages (from pandas>=1.1.4->ultralytics) (2023.3.post1)\n",
      "Requirement already satisfied: tzdata>=2022.1 in c:\\python39\\lib\\site-packages (from pandas>=1.1.4->ultralytics) (2023.3)\n",
      "Requirement already satisfied: six>=1.5 in c:\\python39\\lib\\site-packages (from python-dateutil>=2.7->matplotlib>=3.2.2->ultralytics) (1.16.0)\n",
      "Requirement already satisfied: charset-normalizer<4,>=2 in c:\\python39\\lib\\site-packages (from requests>=2.23.0->ultralytics) (3.3.2)\n",
      "Requirement already satisfied: idna<4,>=2.5 in c:\\python39\\lib\\site-packages (from requests>=2.23.0->ultralytics) (3.6)\n",
      "Requirement already satisfied: urllib3<3,>=1.21.1 in c:\\python39\\lib\\site-packages (from requests>=2.23.0->ultralytics) (2.1.0)\n",
      "Requirement already satisfied: certifi>=2017.4.17 in c:\\python39\\lib\\site-packages (from requests>=2.23.0->ultralytics) (2023.11.17)\n",
      "Requirement already satisfied: absl-py>=0.4 in c:\\python39\\lib\\site-packages (from tensorboard>=2.4.1->ultralytics) (2.0.0)\n",
      "Requirement already satisfied: grpcio>=1.48.2 in c:\\python39\\lib\\site-packages (from tensorboard>=2.4.1->ultralytics) (1.60.0)\n",
      "Requirement already satisfied: google-auth<3,>=1.6.3 in c:\\python39\\lib\\site-packages (from tensorboard>=2.4.1->ultralytics) (2.25.2)\n",
      "Requirement already satisfied: google-auth-oauthlib<2,>=0.5 in c:\\python39\\lib\\site-packages (from tensorboard>=2.4.1->ultralytics) (1.1.0)\n",
      "Requirement already satisfied: markdown>=2.6.8 in c:\\python39\\lib\\site-packages (from tensorboard>=2.4.1->ultralytics) (3.5.1)\n",
      "Requirement already satisfied: protobuf<4.24,>=3.19.6 in c:\\python39\\lib\\site-packages (from tensorboard>=2.4.1->ultralytics) (4.23.4)\n",
      "Requirement already satisfied: setuptools>=41.0.0 in c:\\python39\\lib\\site-packages (from tensorboard>=2.4.1->ultralytics) (49.2.1)\n",
      "Requirement already satisfied: tensorboard-data-server<0.8.0,>=0.7.0 in c:\\python39\\lib\\site-packages (from tensorboard>=2.4.1->ultralytics) (0.7.2)\n",
      "Requirement already satisfied: werkzeug>=1.0.1 in c:\\python39\\lib\\site-packages (from tensorboard>=2.4.1->ultralytics) (3.0.1)\n",
      "Requirement already satisfied: cachetools<6.0,>=2.0.0 in c:\\python39\\lib\\site-packages (from google-auth<3,>=1.6.3->tensorboard>=2.4.1->ultralytics) (5.3.2)\n",
      "Requirement already satisfied: pyasn1-modules>=0.2.1 in c:\\python39\\lib\\site-packages (from google-auth<3,>=1.6.3->tensorboard>=2.4.1->ultralytics) (0.3.0)\n",
      "Requirement already satisfied: rsa<5,>=3.1.4 in c:\\python39\\lib\\site-packages (from google-auth<3,>=1.6.3->tensorboard>=2.4.1->ultralytics) (4.9)\n",
      "Requirement already satisfied: requests-oauthlib>=0.7.0 in c:\\python39\\lib\\site-packages (from google-auth-oauthlib<2,>=0.5->tensorboard>=2.4.1->ultralytics) (1.3.1)\n",
      "Requirement already satisfied: pyasn1>=0.1.3 in c:\\python39\\lib\\site-packages (from rsa<5,>=3.1.4->google-auth<3,>=1.6.3->tensorboard>=2.4.1->ultralytics) (0.5.1)\n",
      "Requirement already satisfied: importlib-metadata>=4.4 in c:\\python39\\lib\\site-packages (from markdown>=2.6.8->tensorboard>=2.4.1->ultralytics) (6.11.0)\n",
      "Requirement already satisfied: oauthlib>=3.0.0 in c:\\python39\\lib\\site-packages (from requests-oauthlib>=0.7.0->google-auth-oauthlib<2,>=0.5->tensorboard>=2.4.1->ultralytics) (3.2.2)\n",
      "Requirement already satisfied: filelock in c:\\python39\\lib\\site-packages (from torch>=1.7.0->ultralytics) (3.13.1)\n",
      "Requirement already satisfied: typing-extensions>=4.10.0 in c:\\python39\\lib\\site-packages (from torch>=1.7.0->ultralytics) (4.14.1)\n",
      "Requirement already satisfied: sympy>=1.13.3 in c:\\python39\\lib\\site-packages (from torch>=1.7.0->ultralytics) (1.14.0)\n",
      "Requirement already satisfied: networkx in c:\\python39\\lib\\site-packages (from torch>=1.7.0->ultralytics) (3.2.1)\n",
      "Requirement already satisfied: jinja2 in c:\\python39\\lib\\site-packages (from torch>=1.7.0->ultralytics) (3.1.2)\n",
      "Requirement already satisfied: fsspec in c:\\python39\\lib\\site-packages (from torch>=1.7.0->ultralytics) (2023.12.1)\n",
      "Requirement already satisfied: mpmath<1.4,>=1.1.0 in c:\\python39\\lib\\site-packages (from sympy>=1.13.3->torch>=1.7.0->ultralytics) (1.3.0)\n",
      "Requirement already satisfied: colorama in c:\\python39\\lib\\site-packages (from tqdm>=4.64.0->ultralytics) (0.4.6)\n",
      "Requirement already satisfied: MarkupSafe>=2.1.1 in c:\\python39\\lib\\site-packages (from werkzeug>=1.0.1->tensorboard>=2.4.1->ultralytics) (2.1.3)\n",
      "Requirement already satisfied: decorator in c:\\python39\\lib\\site-packages (from ipython->ultralytics) (5.1.1)\n",
      "Requirement already satisfied: jedi>=0.16 in c:\\python39\\lib\\site-packages (from ipython->ultralytics) (0.19.1)\n",
      "Requirement already satisfied: matplotlib-inline in c:\\python39\\lib\\site-packages (from ipython->ultralytics) (0.1.6)\n",
      "Requirement already satisfied: prompt-toolkit<3.1.0,>=3.0.41 in c:\\python39\\lib\\site-packages (from ipython->ultralytics) (3.0.41)\n",
      "Requirement already satisfied: pygments>=2.4.0 in c:\\python39\\lib\\site-packages (from ipython->ultralytics) (2.17.2)\n",
      "Requirement already satisfied: stack-data in c:\\python39\\lib\\site-packages (from ipython->ultralytics) (0.6.3)\n",
      "Requirement already satisfied: traitlets>=5 in c:\\python39\\lib\\site-packages (from ipython->ultralytics) (5.14.0)\n",
      "Requirement already satisfied: exceptiongroup in c:\\python39\\lib\\site-packages (from ipython->ultralytics) (1.2.0)\n",
      "Requirement already satisfied: wcwidth in c:\\python39\\lib\\site-packages (from prompt-toolkit<3.1.0,>=3.0.41->ipython->ultralytics) (0.2.12)\n",
      "Requirement already satisfied: parso<0.9.0,>=0.8.3 in c:\\python39\\lib\\site-packages (from jedi>=0.16->ipython->ultralytics) (0.8.3)\n",
      "Requirement already satisfied: executing>=1.2.0 in c:\\python39\\lib\\site-packages (from stack-data->ipython->ultralytics) (2.0.1)\n",
      "Requirement already satisfied: asttokens>=2.1.0 in c:\\python39\\lib\\site-packages (from stack-data->ipython->ultralytics) (2.4.1)\n",
      "Requirement already satisfied: pure-eval in c:\\python39\\lib\\site-packages (from stack-data->ipython->ultralytics) (0.2.2)\n",
      "Requirement already satisfied: pandas in c:\\python39\\lib\\site-packages (2.1.4)\n",
      "Requirement already satisfied: numpy<2,>=1.22.4 in c:\\python39\\lib\\site-packages (from pandas) (1.26.2)\n",
      "Requirement already satisfied: python-dateutil>=2.8.2 in c:\\python39\\lib\\site-packages (from pandas) (2.8.2)\n",
      "Requirement already satisfied: pytz>=2020.1 in c:\\python39\\lib\\site-packages (from pandas) (2023.3.post1)\n",
      "Requirement already satisfied: tzdata>=2022.1 in c:\\python39\\lib\\site-packages (from pandas) (2023.3)\n",
      "Requirement already satisfied: six>=1.5 in c:\\python39\\lib\\site-packages (from python-dateutil>=2.8.2->pandas) (1.16.0)\n",
      "Collecting albumentations\n",
      "  Using cached albumentations-2.0.8-py3-none-any.whl.metadata (43 kB)\n",
      "Requirement already satisfied: numpy>=1.24.4 in c:\\python39\\lib\\site-packages (from albumentations) (1.26.2)\n",
      "Requirement already satisfied: scipy>=1.10.0 in c:\\python39\\lib\\site-packages (from albumentations) (1.11.4)\n",
      "Requirement already satisfied: PyYAML in c:\\python39\\lib\\site-packages (from albumentations) (6.0.1)\n",
      "Requirement already satisfied: typing-extensions>=4.9.0 in c:\\python39\\lib\\site-packages (from albumentations) (4.14.1)\n",
      "Collecting pydantic>=2.9.2 (from albumentations)\n",
      "  Using cached pydantic-2.11.7-py3-none-any.whl.metadata (67 kB)\n",
      "Collecting albucore==0.0.24 (from albumentations)\n",
      "  Using cached albucore-0.0.24-py3-none-any.whl.metadata (5.3 kB)\n",
      "Collecting eval-type-backport (from albumentations)\n",
      "  Using cached eval_type_backport-0.2.2-py3-none-any.whl.metadata (2.2 kB)\n",
      "Collecting opencv-python-headless>=4.9.0.80 (from albumentations)\n",
      "  Using cached opencv_python_headless-4.12.0.88-cp37-abi3-win_amd64.whl.metadata (20 kB)\n",
      "Collecting stringzilla>=3.10.4 (from albucore==0.0.24->albumentations)\n",
      "  Using cached stringzilla-3.12.5-cp39-cp39-win_amd64.whl.metadata (81 kB)\n",
      "Collecting simsimd>=5.9.2 (from albucore==0.0.24->albumentations)\n",
      "  Using cached simsimd-6.5.0-cp39-cp39-win_amd64.whl.metadata (72 kB)\n",
      "Collecting numpy>=1.24.4 (from albumentations)\n",
      "  Using cached numpy-2.0.2-cp39-cp39-win_amd64.whl.metadata (59 kB)\n",
      "Collecting annotated-types>=0.6.0 (from pydantic>=2.9.2->albumentations)\n",
      "  Using cached annotated_types-0.7.0-py3-none-any.whl.metadata (15 kB)\n",
      "Collecting pydantic-core==2.33.2 (from pydantic>=2.9.2->albumentations)\n",
      "  Using cached pydantic_core-2.33.2-cp39-cp39-win_amd64.whl.metadata (6.9 kB)\n",
      "Collecting typing-inspection>=0.4.0 (from pydantic>=2.9.2->albumentations)\n",
      "  Using cached typing_inspection-0.4.1-py3-none-any.whl.metadata (2.6 kB)\n",
      "INFO: pip is looking at multiple versions of scipy to determine which version is compatible with other requirements. This could take a while.\n",
      "Collecting scipy>=1.10.0 (from albumentations)\n",
      "  Using cached scipy-1.13.1-cp39-cp39-win_amd64.whl.metadata (60 kB)\n",
      "Using cached albumentations-2.0.8-py3-none-any.whl (369 kB)\n",
      "Using cached albucore-0.0.24-py3-none-any.whl (15 kB)\n",
      "Using cached opencv_python_headless-4.12.0.88-cp37-abi3-win_amd64.whl (38.9 MB)\n",
      "Using cached numpy-2.0.2-cp39-cp39-win_amd64.whl (15.9 MB)\n",
      "Using cached pydantic-2.11.7-py3-none-any.whl (444 kB)\n",
      "Using cached pydantic_core-2.33.2-cp39-cp39-win_amd64.whl (2.0 MB)\n",
      "Using cached annotated_types-0.7.0-py3-none-any.whl (13 kB)\n",
      "Using cached scipy-1.13.1-cp39-cp39-win_amd64.whl (46.2 MB)\n",
      "Using cached simsimd-6.5.0-cp39-cp39-win_amd64.whl (94 kB)\n",
      "Using cached stringzilla-3.12.5-cp39-cp39-win_amd64.whl (80 kB)\n",
      "Using cached typing_inspection-0.4.1-py3-none-any.whl (14 kB)\n",
      "Using cached eval_type_backport-0.2.2-py3-none-any.whl (5.8 kB)\n",
      "Installing collected packages: stringzilla, simsimd, typing-inspection, pydantic-core, numpy, eval-type-backport, annotated-types, scipy, pydantic, opencv-python-headless, albucore, albumentations\n",
      "\n",
      "   ----------------------------------------  0/12 [stringzilla]\n",
      "  Attempting uninstall: numpy\n",
      "   ----------------------------------------  0/12 [stringzilla]\n",
      "    Found existing installation: numpy 1.26.2\n",
      "   ----------------------------------------  0/12 [stringzilla]\n",
      "   ------------- --------------------------  4/12 [numpy]\n",
      "   ------------- --------------------------  4/12 [numpy]\n",
      "   ------------- --------------------------  4/12 [numpy]\n",
      "    Uninstalling numpy-1.26.2:\n",
      "   ------------- --------------------------  4/12 [numpy]\n",
      "   ------------- --------------------------  4/12 [numpy]\n",
      "   ------------- --------------------------  4/12 [numpy]\n",
      "   ------------- --------------------------  4/12 [numpy]\n",
      "   ------------- --------------------------  4/12 [numpy]\n",
      "   ------------- --------------------------  4/12 [numpy]\n",
      "   ------------- --------------------------  4/12 [numpy]\n",
      "   ------------- --------------------------  4/12 [numpy]\n",
      "   ------------- --------------------------  4/12 [numpy]\n",
      "   ------------- --------------------------  4/12 [numpy]\n",
      "   ------------- --------------------------  4/12 [numpy]\n",
      "      Successfully uninstalled numpy-1.26.2\n",
      "   ------------- --------------------------  4/12 [numpy]\n",
      "   ------------- --------------------------  4/12 [numpy]\n",
      "   ------------- --------------------------  4/12 [numpy]\n",
      "   ------------- --------------------------  4/12 [numpy]\n",
      "   ------------- --------------------------  4/12 [numpy]\n",
      "   ------------- --------------------------  4/12 [numpy]\n",
      "   ------------- --------------------------  4/12 [numpy]\n",
      "   ------------- --------------------------  4/12 [numpy]\n",
      "   ------------- --------------------------  4/12 [numpy]\n",
      "   ------------- --------------------------  4/12 [numpy]\n",
      "   ------------- --------------------------  4/12 [numpy]\n",
      "   ------------- --------------------------  4/12 [numpy]\n",
      "   ------------- --------------------------  4/12 [numpy]\n",
      "   ------------- --------------------------  4/12 [numpy]\n",
      "   ------------- --------------------------  4/12 [numpy]\n",
      "   ------------- --------------------------  4/12 [numpy]\n",
      "   ------------- --------------------------  4/12 [numpy]\n",
      "   ------------- --------------------------  4/12 [numpy]\n",
      "   ------------- --------------------------  4/12 [numpy]\n",
      "   ------------- --------------------------  4/12 [numpy]\n",
      "   ------------- --------------------------  4/12 [numpy]\n",
      "   ------------- --------------------------  4/12 [numpy]\n",
      "   ------------- --------------------------  4/12 [numpy]\n",
      "   ------------- --------------------------  4/12 [numpy]\n",
      "   ------------- --------------------------  4/12 [numpy]\n",
      "   ------------- --------------------------  4/12 [numpy]\n",
      "   ------------- --------------------------  4/12 [numpy]\n",
      "   ------------- --------------------------  4/12 [numpy]\n",
      "   ------------- --------------------------  4/12 [numpy]\n",
      "   ------------- --------------------------  4/12 [numpy]\n",
      "   ------------- --------------------------  4/12 [numpy]\n",
      "   ------------- --------------------------  4/12 [numpy]\n",
      "   ------------- --------------------------  4/12 [numpy]\n",
      "   ------------- --------------------------  4/12 [numpy]\n",
      "   ------------- --------------------------  4/12 [numpy]\n",
      "   ------------- --------------------------  4/12 [numpy]\n",
      "   ------------- --------------------------  4/12 [numpy]\n",
      "   ------------- --------------------------  4/12 [numpy]\n",
      "   ------------- --------------------------  4/12 [numpy]\n",
      "   ------------- --------------------------  4/12 [numpy]\n",
      "   ------------- --------------------------  4/12 [numpy]\n",
      "   ------------- --------------------------  4/12 [numpy]\n",
      "   ------------- --------------------------  4/12 [numpy]\n",
      "   ------------- --------------------------  4/12 [numpy]\n",
      "   ------------- --------------------------  4/12 [numpy]\n",
      "   ------------- --------------------------  4/12 [numpy]\n",
      "   ------------- --------------------------  4/12 [numpy]\n",
      "   ------------- --------------------------  4/12 [numpy]\n",
      "   ------------- --------------------------  4/12 [numpy]\n",
      "   ------------- --------------------------  4/12 [numpy]\n",
      "   ------------- --------------------------  4/12 [numpy]\n",
      "   ------------- --------------------------  4/12 [numpy]\n",
      "   ------------- --------------------------  4/12 [numpy]\n",
      "   ------------- --------------------------  4/12 [numpy]\n",
      "   ------------- --------------------------  4/12 [numpy]\n",
      "   ------------- --------------------------  4/12 [numpy]\n",
      "   ------------- --------------------------  4/12 [numpy]\n",
      "   ------------- --------------------------  4/12 [numpy]\n",
      "   ------------- --------------------------  4/12 [numpy]\n",
      "   ------------- --------------------------  4/12 [numpy]\n",
      "   ------------- --------------------------  4/12 [numpy]\n",
      "   ------------- --------------------------  4/12 [numpy]\n",
      "   ------------- --------------------------  4/12 [numpy]\n",
      "   ------------- --------------------------  4/12 [numpy]\n",
      "   ------------- --------------------------  4/12 [numpy]\n",
      "   ------------- --------------------------  4/12 [numpy]\n",
      "   ------------- --------------------------  4/12 [numpy]\n",
      "   ------------- --------------------------  4/12 [numpy]\n",
      "   ------------- --------------------------  4/12 [numpy]\n",
      "   ------------- --------------------------  4/12 [numpy]\n",
      "   ------------- --------------------------  4/12 [numpy]\n",
      "   ------------- --------------------------  4/12 [numpy]\n",
      "   ------------- --------------------------  4/12 [numpy]\n",
      "   ------------- --------------------------  4/12 [numpy]\n",
      "   ------------- --------------------------  4/12 [numpy]\n",
      "   ------------- --------------------------  4/12 [numpy]\n",
      "   ------------- --------------------------  4/12 [numpy]\n",
      "   ------------- --------------------------  4/12 [numpy]\n",
      "   ------------- --------------------------  4/12 [numpy]\n",
      "   ------------- --------------------------  4/12 [numpy]\n",
      "   ------------- --------------------------  4/12 [numpy]\n",
      "   -------------------- -------------------  6/12 [annotated-types]\n",
      "  Attempting uninstall: scipy\n",
      "   -------------------- -------------------  6/12 [annotated-types]\n",
      "    Found existing installation: scipy 1.11.4\n",
      "   -------------------- -------------------  6/12 [annotated-types]\n",
      "   ----------------------- ----------------  7/12 [scipy]\n",
      "   ----------------------- ----------------  7/12 [scipy]\n",
      "    Uninstalling scipy-1.11.4:\n",
      "   ----------------------- ----------------  7/12 [scipy]\n",
      "   ----------------------- ----------------  7/12 [scipy]\n",
      "   ----------------------- ----------------  7/12 [scipy]\n",
      "   ----------------------- ----------------  7/12 [scipy]\n",
      "   ----------------------- ----------------  7/12 [scipy]\n",
      "      Successfully uninstalled scipy-1.11.4\n",
      "   ----------------------- ----------------  7/12 [scipy]\n",
      "   ----------------------- ----------------  7/12 [scipy]\n",
      "   ----------------------- ----------------  7/12 [scipy]\n",
      "   ----------------------- ----------------  7/12 [scipy]\n",
      "   ----------------------- ----------------  7/12 [scipy]\n",
      "   ----------------------- ----------------  7/12 [scipy]\n",
      "   ----------------------- ----------------  7/12 [scipy]\n",
      "   ----------------------- ----------------  7/12 [scipy]\n",
      "   ----------------------- ----------------  7/12 [scipy]\n",
      "   ----------------------- ----------------  7/12 [scipy]\n",
      "   ----------------------- ----------------  7/12 [scipy]\n",
      "   ----------------------- ----------------  7/12 [scipy]\n",
      "   ----------------------- ----------------  7/12 [scipy]\n",
      "   ----------------------- ----------------  7/12 [scipy]\n",
      "   ----------------------- ----------------  7/12 [scipy]\n",
      "   ----------------------- ----------------  7/12 [scipy]\n",
      "   ----------------------- ----------------  7/12 [scipy]\n",
      "   ----------------------- ----------------  7/12 [scipy]\n",
      "   ----------------------- ----------------  7/12 [scipy]\n",
      "   ----------------------- ----------------  7/12 [scipy]\n",
      "   ----------------------- ----------------  7/12 [scipy]\n",
      "   ----------------------- ----------------  7/12 [scipy]\n",
      "   ----------------------- ----------------  7/12 [scipy]\n",
      "   ----------------------- ----------------  7/12 [scipy]\n",
      "   ----------------------- ----------------  7/12 [scipy]\n",
      "   ----------------------- ----------------  7/12 [scipy]\n",
      "   ----------------------- ----------------  7/12 [scipy]\n",
      "   ----------------------- ----------------  7/12 [scipy]\n",
      "   ----------------------- ----------------  7/12 [scipy]\n",
      "   ----------------------- ----------------  7/12 [scipy]\n",
      "   ----------------------- ----------------  7/12 [scipy]\n",
      "   ----------------------- ----------------  7/12 [scipy]\n",
      "   ----------------------- ----------------  7/12 [scipy]\n",
      "   ----------------------- ----------------  7/12 [scipy]\n",
      "   ----------------------- ----------------  7/12 [scipy]\n",
      "   ----------------------- ----------------  7/12 [scipy]\n",
      "   ----------------------- ----------------  7/12 [scipy]\n",
      "   ----------------------- ----------------  7/12 [scipy]\n",
      "   ----------------------- ----------------  7/12 [scipy]\n",
      "   ----------------------- ----------------  7/12 [scipy]\n",
      "   ----------------------- ----------------  7/12 [scipy]\n",
      "   ----------------------- ----------------  7/12 [scipy]\n",
      "   ----------------------- ----------------  7/12 [scipy]\n",
      "   ----------------------- ----------------  7/12 [scipy]\n",
      "   ----------------------- ----------------  7/12 [scipy]\n",
      "   ----------------------- ----------------  7/12 [scipy]\n",
      "   ----------------------- ----------------  7/12 [scipy]\n",
      "   ----------------------- ----------------  7/12 [scipy]\n",
      "   ----------------------- ----------------  7/12 [scipy]\n",
      "   ----------------------- ----------------  7/12 [scipy]\n",
      "   ----------------------- ----------------  7/12 [scipy]\n",
      "   ----------------------- ----------------  7/12 [scipy]\n",
      "   ----------------------- ----------------  7/12 [scipy]\n",
      "   ----------------------- ----------------  7/12 [scipy]\n",
      "   ----------------------- ----------------  7/12 [scipy]\n",
      "   ----------------------- ----------------  7/12 [scipy]\n",
      "   ----------------------- ----------------  7/12 [scipy]\n",
      "   ----------------------- ----------------  7/12 [scipy]\n",
      "   ----------------------- ----------------  7/12 [scipy]\n",
      "   ----------------------- ----------------  7/12 [scipy]\n",
      "   ----------------------- ----------------  7/12 [scipy]\n",
      "   ----------------------- ----------------  7/12 [scipy]\n",
      "   ----------------------- ----------------  7/12 [scipy]\n",
      "   ----------------------- ----------------  7/12 [scipy]\n",
      "   ----------------------- ----------------  7/12 [scipy]\n",
      "   ----------------------- ----------------  7/12 [scipy]\n",
      "   ----------------------- ----------------  7/12 [scipy]\n",
      "   ----------------------- ----------------  7/12 [scipy]\n",
      "   ----------------------- ----------------  7/12 [scipy]\n",
      "   ----------------------- ----------------  7/12 [scipy]\n",
      "   ----------------------- ----------------  7/12 [scipy]\n",
      "   ----------------------- ----------------  7/12 [scipy]\n",
      "   ----------------------- ----------------  7/12 [scipy]\n",
      "   ----------------------- ----------------  7/12 [scipy]\n",
      "   ----------------------- ----------------  7/12 [scipy]\n",
      "   -------------------------- -------------  8/12 [pydantic]\n",
      "   -------------------------- -------------  8/12 [pydantic]\n",
      "   -------------------------- -------------  8/12 [pydantic]\n",
      "   -------------------------- -------------  8/12 [pydantic]\n",
      "   -------------------------- -------------  8/12 [pydantic]\n",
      "   -------------------------- -------------  8/12 [pydantic]\n",
      "   -------------------------- -------------  8/12 [pydantic]\n",
      "   -------------------------- -------------  8/12 [pydantic]\n",
      "   -------------------------- -------------  8/12 [pydantic]\n",
      "   ------------------------------ ---------  9/12 [opencv-python-headless]\n",
      "\n"
     ]
    },
    {
     "name": "stderr",
     "output_type": "stream",
     "text": [
      "  WARNING: Failed to remove contents in a temporary directory 'C:\\Python39\\Lib\\site-packages\\~umpy.libs'.\n",
      "  You can safely remove it manually.\n",
      "  WARNING: Failed to remove contents in a temporary directory 'C:\\Python39\\Lib\\site-packages\\~umpy'.\n",
      "  You can safely remove it manually.\n",
      "ERROR: Could not install packages due to an OSError: [WinError 5] Access is denied: 'c:\\\\python39\\\\Lib\\\\site-packages\\\\cv2\\\\cv2.pyd'\n",
      "Consider using the `--user` option or check the permissions.\n",
      "\n"
     ]
    }
   ],
   "source": [
    "# to use virtual env\n",
    "# python3 -m venv venv\n",
    "# source venv/bin/activate\n",
    "\n",
    "!pip3 install --upgrade pip\n",
    "!pip3 install ultralytics opencv-python\n",
    "!pip3 install pandas\n",
    "!pip3 install albumentations\n"
   ]
  },
  {
   "cell_type": "code",
   "execution_count": null,
   "id": "a04189ed",
   "metadata": {},
   "outputs": [],
   "source": [
    "# download the dataset: https://www.kaggle.com/datasets/andrewmvd/car-plate-detection?resource=download\n",
    "# rename the folder: \"dataset\"\n",
    "# https://www.kaggle.com/datasets/ronakgohil/license-plate-dataset deownload and rename it dataset_split\n"
   ]
  },
  {
   "cell_type": "code",
   "execution_count": 3,
   "id": "2283c272",
   "metadata": {},
   "outputs": [],
   "source": [
    "import os\n",
    "import shutil\n",
    "import random\n",
    "import time\n",
    "import pandas as pd\n",
    "from ultralytics import YOLO\n",
    "import xml.etree.ElementTree as ET\n",
    "import torch\n",
    "import cv2\n",
    "from collections import defaultdict\n",
    "\n"
   ]
  },
  {
   "cell_type": "code",
   "execution_count": 2,
   "id": "e4155ae3",
   "metadata": {},
   "outputs": [
    {
     "name": "stdout",
     "output_type": "stream",
     "text": [
      "Files split, grouped, and labels converted to YOLO TXT format\n"
     ]
    }
   ],
   "source": [
    "# process the annotations in YOLO text format\n",
    "# split the data into train 70%, val 20% and test 10%\n",
    "\n",
    "random.seed(42)\n",
    "\n",
    "image_dir = 'dataset/images'\n",
    "label_dir = 'dataset/annotations'\n",
    "\n",
    "out_base = 'dataset_split'\n",
    "\n",
    "def convert_xml_to_yolo(xml_path, txt_path):\n",
    "    tree = ET.parse(xml_path)\n",
    "    root = tree.getroot()\n",
    "\n",
    "    size = root.find('size')\n",
    "    width = float(size.find('width').text)\n",
    "    height = float(size.find('height').text)\n",
    "\n",
    "    lines = []\n",
    "    for obj in root.findall('object'):\n",
    "        class_id = 0 \n",
    "\n",
    "        bndbox = obj.find('bndbox')\n",
    "        xmin = float(bndbox.find('xmin').text)\n",
    "        ymin = float(bndbox.find('ymin').text)\n",
    "        xmax = float(bndbox.find('xmax').text)\n",
    "        ymax = float(bndbox.find('ymax').text)\n",
    "\n",
    "        x_center = ((xmin + xmax) / 2) / width\n",
    "        y_center = ((ymin + ymax) / 2) / height\n",
    "        w = (xmax - xmin) / width\n",
    "        h = (ymax - ymin) / height\n",
    "\n",
    "        lines.append(f\"{class_id} {x_center:.6f} {y_center:.6f} {w:.6f} {h:.6f}\")\n",
    "\n",
    "    with open(txt_path, 'w') as f:\n",
    "        f.write(\"\\n\".join(lines))\n",
    "\n",
    "image_files = [f for f in os.listdir(image_dir) if f.endswith('.png')]\n",
    "base_names = [os.path.splitext(f)[0] for f in image_files]\n",
    "\n",
    "random.shuffle(base_names)\n",
    "total = len(base_names)\n",
    "train_end = int(0.7 * total)\n",
    "val_end = int(0.9 * total)\n",
    "\n",
    "splits = {\n",
    "    'train': base_names[:train_end],\n",
    "    'val': base_names[train_end:val_end],\n",
    "    'test': base_names[val_end:]\n",
    "}\n",
    "\n",
    "for split in ['train', 'val', 'test']:\n",
    "    os.makedirs(f'{out_base}/images/{split}', exist_ok=True)\n",
    "    os.makedirs(f'{out_base}/labels/{split}', exist_ok=True)\n",
    "\n",
    "for split, names in splits.items():\n",
    "    for name in names:\n",
    "        img_src = os.path.join(image_dir, f'{name}.png')\n",
    "        lbl_src = os.path.join(label_dir, f'{name}.xml')\n",
    "\n",
    "        img_dst = os.path.join(out_base, 'images', split, f'{name}.png')\n",
    "        txt_dst = os.path.join(out_base, 'labels', split, f'{name}.txt')\n",
    "\n",
    "        if os.path.exists(img_src):\n",
    "            shutil.copy(img_src, img_dst)\n",
    "\n",
    "        if os.path.exists(lbl_src):\n",
    "            convert_xml_to_yolo(lbl_src, txt_dst)\n",
    "\n",
    "print(\"Files split, grouped, and labels converted to YOLO TXT format\")\n"
   ]
  },
  {
   "cell_type": "code",
   "execution_count": 7,
   "id": "34953ef3",
   "metadata": {},
   "outputs": [
    {
     "name": "stdout",
     "output_type": "stream",
     "text": [
      "Using device: cpu\n"
     ]
    }
   ],
   "source": [
    "if torch.backends.mps.is_available():\n",
    "    device = \"mps\"\n",
    "\n",
    "elif torch.cuda.is_available():        \n",
    "    device = \"cuda\"\n",
    "\n",
    "else:\n",
    "    device = \"cpu\"\n",
    "\n",
    "print(f\"Using device: {device}\")\n"
   ]
  },
  {
   "cell_type": "code",
   "execution_count": null,
   "id": "080e50df",
   "metadata": {},
   "outputs": [],
   "source": [
    "models = [\"yolov8n.pt\", \"yolov8s.pt\", \"yolov8m.pt\"]\n",
    "data_yaml = \"dataset_split/data.yaml\"\n",
    "epochs = 5\n",
    "\n",
    "results = []\n",
    "\n",
    "for model_name in models:\n",
    "    print(f\"\\nTraining {model_name}...\")\n",
    "    model = YOLO(model_name)\n",
    "    \n",
    "    start_time = time.time()\n",
    "    metrics = model.train(data=data_yaml, epochs=epochs)\n",
    "    end_time = time.time()\n",
    "    train_time = round(end_time - start_time, 2)\n",
    "    \n",
    "    map50 = metrics.results_dict.get(\"metrics/mAP50(B)\", None)\n",
    "    recall = metrics.results_dict.get(\"metrics/recall(B)\", None)\n",
    "    precision = metrics.results_dict.get(\"metrics/precision(B)\", None)\n",
    "    f1 = metrics.results_dict.get(\"metrics/f1(B)\", None)\n",
    "    \n",
    "    results.append({\n",
    "        \"Model\": model_name,\n",
    "        \"Precision\": round(precision, 4) if precision else None,\n",
    "        \"Recall\": round(recall, 4) if recall else None,\n",
    "        \"F1 Score\": round(f1, 4) if f1 else None,\n",
    "        \"mAP50\": round(map50, 4) if map50 else None,\n",
    "        \"Training Time (s)\": train_time\n",
    "    })\n",
    "\n",
    "df = pd.DataFrame(results)\n",
    "df.to_csv(\"yolo_model_comparison.csv\", index=False)\n",
    "display(df)\n"
   ]
  },
  {
   "cell_type": "code",
   "execution_count": null,
   "id": "df750a82",
   "metadata": {},
   "outputs": [
    {
     "name": "stdout",
     "output_type": "stream",
     "text": [
      "Ultralytics 8.3.174  Python-3.9.2 torch-2.5.1+cu121 CUDA:0 (NVIDIA GeForce RTX 3050 Laptop GPU, 4096MiB)\n",
      "\u001b[34m\u001b[1mengine\\trainer: \u001b[0magnostic_nms=False, amp=True, augment=False, auto_augment=randaugment, batch=16, bgr=0.0, box=7.5, cache=False, cfg=None, classes=None, close_mosaic=10, cls=0.5, conf=None, copy_paste=0.0, copy_paste_mode=flip, cos_lr=False, cutmix=0.0, data=dataset_split/data.yaml, degrees=0.0, deterministic=True, device=0, dfl=1.5, dnn=False, dropout=0.0, dynamic=False, embed=None, epochs=50, erasing=0.4, exist_ok=False, fliplr=0.5, flipud=0.0, format=torchscript, fraction=1.0, freeze=None, half=False, hsv_h=0.015, hsv_s=0.7, hsv_v=0.4, imgsz=640, int8=False, iou=0.7, keras=False, kobj=1.0, line_width=None, lr0=0.01, lrf=0.01, mask_ratio=4, max_det=300, mixup=0.0, mode=train, model=yolov8s.pt, momentum=0.937, mosaic=1.0, multi_scale=False, name=model_blur, nbs=64, nms=False, opset=None, optimize=False, optimizer=auto, overlap_mask=True, patience=100, perspective=0.0, plots=True, pose=12.0, pretrained=True, profile=False, project=None, rect=False, resume=False, retina_masks=False, save=True, save_conf=False, save_crop=False, save_dir=runs\\detect\\model_blur, save_frames=False, save_json=False, save_period=-1, save_txt=False, scale=0.5, seed=0, shear=0.0, show=False, show_boxes=True, show_conf=True, show_labels=True, simplify=True, single_cls=False, source=None, split=val, stream_buffer=False, task=detect, time=None, tracker=botsort.yaml, translate=0.1, val=True, verbose=True, vid_stride=1, visualize=False, warmup_bias_lr=0.1, warmup_epochs=3.0, warmup_momentum=0.8, weight_decay=0.0005, workers=8, workspace=None\n",
      "Overriding model.yaml nc=80 with nc=1\n",
      "\n",
      "                   from  n    params  module                                       arguments                     \n",
      "  0                  -1  1       928  ultralytics.nn.modules.conv.Conv             [3, 32, 3, 2]                 \n",
      "  1                  -1  1     18560  ultralytics.nn.modules.conv.Conv             [32, 64, 3, 2]                \n",
      "  2                  -1  1     29056  ultralytics.nn.modules.block.C2f             [64, 64, 1, True]             \n",
      "  3                  -1  1     73984  ultralytics.nn.modules.conv.Conv             [64, 128, 3, 2]               \n",
      "  4                  -1  2    197632  ultralytics.nn.modules.block.C2f             [128, 128, 2, True]           \n",
      "  5                  -1  1    295424  ultralytics.nn.modules.conv.Conv             [128, 256, 3, 2]              \n",
      "  6                  -1  2    788480  ultralytics.nn.modules.block.C2f             [256, 256, 2, True]           \n",
      "  7                  -1  1   1180672  ultralytics.nn.modules.conv.Conv             [256, 512, 3, 2]              \n",
      "  8                  -1  1   1838080  ultralytics.nn.modules.block.C2f             [512, 512, 1, True]           \n",
      "  9                  -1  1    656896  ultralytics.nn.modules.block.SPPF            [512, 512, 5]                 \n",
      " 10                  -1  1         0  torch.nn.modules.upsampling.Upsample         [None, 2, 'nearest']          \n",
      " 11             [-1, 6]  1         0  ultralytics.nn.modules.conv.Concat           [1]                           \n",
      " 12                  -1  1    591360  ultralytics.nn.modules.block.C2f             [768, 256, 1]                 \n",
      " 13                  -1  1         0  torch.nn.modules.upsampling.Upsample         [None, 2, 'nearest']          \n",
      " 14             [-1, 4]  1         0  ultralytics.nn.modules.conv.Concat           [1]                           \n",
      " 15                  -1  1    148224  ultralytics.nn.modules.block.C2f             [384, 128, 1]                 \n",
      " 16                  -1  1    147712  ultralytics.nn.modules.conv.Conv             [128, 128, 3, 2]              \n",
      " 17            [-1, 12]  1         0  ultralytics.nn.modules.conv.Concat           [1]                           \n",
      " 18                  -1  1    493056  ultralytics.nn.modules.block.C2f             [384, 256, 1]                 \n",
      " 19                  -1  1    590336  ultralytics.nn.modules.conv.Conv             [256, 256, 3, 2]              \n",
      " 20             [-1, 9]  1         0  ultralytics.nn.modules.conv.Concat           [1]                           \n",
      " 21                  -1  1   1969152  ultralytics.nn.modules.block.C2f             [768, 512, 1]                 \n",
      " 22        [15, 18, 21]  1   2116435  ultralytics.nn.modules.head.Detect           [1, [128, 256, 512]]          \n",
      "Model summary: 129 layers, 11,135,987 parameters, 11,135,971 gradients, 28.6 GFLOPs\n",
      "\n",
      "Transferred 349/355 items from pretrained weights\n",
      "Freezing layer 'model.22.dfl.conv.weight'\n",
      "\u001b[34m\u001b[1mAMP: \u001b[0mrunning Automatic Mixed Precision (AMP) checks...\n",
      "\u001b[34m\u001b[1mAMP: \u001b[0mchecks passed \n",
      "\u001b[34m\u001b[1mtrain: \u001b[0mFast image access  (ping: 0.00.0 ms, read: 120.594.4 MB/s, size: 73.3 KB)\n"
     ]
    },
    {
     "name": "stderr",
     "output_type": "stream",
     "text": [
      "\u001b[34m\u001b[1mtrain: \u001b[0mScanning D:\\Term 2\\Deep_Learning_Project\\dl_project\\dataset_split\\labels\\train.cache... 1829 images, 0 backgrounds, 0 corrupt: 100%|██████████| 1829/1829 [00:00<?, ?it/s]"
     ]
    },
    {
     "name": "stdout",
     "output_type": "stream",
     "text": [
      "\u001b[34m\u001b[1mtrain: \u001b[0mD:\\Term 2\\Deep_Learning_Project\\dl_project\\dataset_split\\images\\train\\car-wbs-MH03AR5549_00000.jpg: corrupt JPEG restored and saved\n"
     ]
    },
    {
     "name": "stderr",
     "output_type": "stream",
     "text": [
      "\n"
     ]
    },
    {
     "name": "stdout",
     "output_type": "stream",
     "text": [
      "\u001b[34m\u001b[1malbumentations: \u001b[0mBlur(p=0.01, blur_limit=(3, 7)), MedianBlur(p=0.01, blur_limit=(3, 7)), ToGray(p=0.01, method='weighted_average', num_output_channels=3), CLAHE(p=0.01, clip_limit=(1.0, 4.0), tile_grid_size=(8, 8))\n",
      "\u001b[34m\u001b[1mval: \u001b[0mFast image access  (ping: 0.10.0 ms, read: 257.856.0 MB/s, size: 393.5 KB)\n"
     ]
    },
    {
     "name": "stderr",
     "output_type": "stream",
     "text": [
      "\u001b[34m\u001b[1mval: \u001b[0mScanning D:\\Term 2\\Deep_Learning_Project\\dl_project\\dataset_split\\labels\\val.cache... 255 images, 0 backgrounds, 0 corrupt: 100%|██████████| 255/255 [00:00<?, ?it/s]\n"
     ]
    },
    {
     "name": "stdout",
     "output_type": "stream",
     "text": [
      "Plotting labels to runs\\detect\\model_blur\\labels.jpg... \n",
      "\u001b[34m\u001b[1moptimizer:\u001b[0m 'optimizer=auto' found, ignoring 'lr0=0.01' and 'momentum=0.937' and determining best 'optimizer', 'lr0' and 'momentum' automatically... \n",
      "\u001b[34m\u001b[1moptimizer:\u001b[0m AdamW(lr=0.002, momentum=0.9) with parameter groups 57 weight(decay=0.0), 64 weight(decay=0.0005), 63 bias(decay=0.0)\n",
      "Image sizes 640 train, 640 val\n",
      "Using 8 dataloader workers\n",
      "Logging results to \u001b[1mruns\\detect\\model_blur\u001b[0m\n",
      "Starting training for 50 epochs...\n",
      "\n",
      "      Epoch    GPU_mem   box_loss   cls_loss   dfl_loss  Instances       Size\n"
     ]
    },
    {
     "name": "stderr",
     "output_type": "stream",
     "text": [
      "       1/50      3.71G      1.087      1.661      1.081          6        640: 100%|██████████| 115/115 [00:45<00:00,  2.52it/s]\n",
      "                 Class     Images  Instances      Box(P          R      mAP50  mAP50-95): 100%|██████████| 8/8 [00:02<00:00,  3.26it/s]"
     ]
    },
    {
     "name": "stdout",
     "output_type": "stream",
     "text": [
      "                   all        255        262      0.943      0.888      0.936       0.64\n"
     ]
    },
    {
     "name": "stderr",
     "output_type": "stream",
     "text": [
      "\n"
     ]
    },
    {
     "name": "stdout",
     "output_type": "stream",
     "text": [
      "\n",
      "      Epoch    GPU_mem   box_loss   cls_loss   dfl_loss  Instances       Size\n"
     ]
    },
    {
     "name": "stderr",
     "output_type": "stream",
     "text": [
      "       2/50      3.52G      1.075     0.7976      1.073         10        640: 100%|██████████| 115/115 [00:44<00:00,  2.60it/s]\n",
      "                 Class     Images  Instances      Box(P          R      mAP50  mAP50-95): 100%|██████████| 8/8 [00:02<00:00,  3.05it/s]"
     ]
    },
    {
     "name": "stdout",
     "output_type": "stream",
     "text": [
      "                   all        255        262      0.942      0.771      0.882      0.609\n"
     ]
    },
    {
     "name": "stderr",
     "output_type": "stream",
     "text": [
      "\n"
     ]
    },
    {
     "name": "stdout",
     "output_type": "stream",
     "text": [
      "\n",
      "      Epoch    GPU_mem   box_loss   cls_loss   dfl_loss  Instances       Size\n"
     ]
    },
    {
     "name": "stderr",
     "output_type": "stream",
     "text": [
      "       3/50      3.54G      1.048     0.7397      1.075         11        640: 100%|██████████| 115/115 [00:44<00:00,  2.58it/s]\n",
      "                 Class     Images  Instances      Box(P          R      mAP50  mAP50-95): 100%|██████████| 8/8 [00:02<00:00,  3.00it/s]"
     ]
    },
    {
     "name": "stdout",
     "output_type": "stream",
     "text": [
      "                   all        255        262      0.865      0.691        0.8      0.561\n"
     ]
    },
    {
     "name": "stderr",
     "output_type": "stream",
     "text": [
      "\n"
     ]
    },
    {
     "name": "stdout",
     "output_type": "stream",
     "text": [
      "\n",
      "      Epoch    GPU_mem   box_loss   cls_loss   dfl_loss  Instances       Size\n"
     ]
    },
    {
     "name": "stderr",
     "output_type": "stream",
     "text": [
      "       4/50      3.52G      1.063     0.7315      1.071         13        640: 100%|██████████| 115/115 [00:44<00:00,  2.56it/s]\n",
      "                 Class     Images  Instances      Box(P          R      mAP50  mAP50-95): 100%|██████████| 8/8 [00:02<00:00,  3.18it/s]"
     ]
    },
    {
     "name": "stdout",
     "output_type": "stream",
     "text": [
      "                   all        255        262      0.948      0.909      0.954      0.688\n"
     ]
    },
    {
     "name": "stderr",
     "output_type": "stream",
     "text": [
      "\n"
     ]
    },
    {
     "name": "stdout",
     "output_type": "stream",
     "text": [
      "\n",
      "      Epoch    GPU_mem   box_loss   cls_loss   dfl_loss  Instances       Size\n"
     ]
    },
    {
     "name": "stderr",
     "output_type": "stream",
     "text": [
      "       5/50      3.51G     0.9913     0.6753      1.058          9        640: 100%|██████████| 115/115 [00:43<00:00,  2.62it/s]\n",
      "                 Class     Images  Instances      Box(P          R      mAP50  mAP50-95): 100%|██████████| 8/8 [00:02<00:00,  3.12it/s]"
     ]
    },
    {
     "name": "stdout",
     "output_type": "stream",
     "text": [
      "                   all        255        262      0.919      0.874      0.936      0.661\n"
     ]
    },
    {
     "name": "stderr",
     "output_type": "stream",
     "text": [
      "\n"
     ]
    },
    {
     "name": "stdout",
     "output_type": "stream",
     "text": [
      "\n",
      "      Epoch    GPU_mem   box_loss   cls_loss   dfl_loss  Instances       Size\n"
     ]
    },
    {
     "name": "stderr",
     "output_type": "stream",
     "text": [
      "       6/50      3.54G      1.001     0.6656      1.053          9        640: 100%|██████████| 115/115 [00:44<00:00,  2.61it/s]\n",
      "                 Class     Images  Instances      Box(P          R      mAP50  mAP50-95): 100%|██████████| 8/8 [00:02<00:00,  3.16it/s]"
     ]
    },
    {
     "name": "stdout",
     "output_type": "stream",
     "text": [
      "                   all        255        262      0.935      0.901      0.952      0.694\n"
     ]
    },
    {
     "name": "stderr",
     "output_type": "stream",
     "text": [
      "\n"
     ]
    },
    {
     "name": "stdout",
     "output_type": "stream",
     "text": [
      "\n",
      "      Epoch    GPU_mem   box_loss   cls_loss   dfl_loss  Instances       Size\n"
     ]
    },
    {
     "name": "stderr",
     "output_type": "stream",
     "text": [
      "       7/50      3.64G     0.9543     0.6326       1.03         11        640: 100%|██████████| 115/115 [00:43<00:00,  2.62it/s]\n",
      "                 Class     Images  Instances      Box(P          R      mAP50  mAP50-95): 100%|██████████| 8/8 [00:02<00:00,  3.22it/s]"
     ]
    },
    {
     "name": "stdout",
     "output_type": "stream",
     "text": [
      "                   all        255        262      0.963      0.855      0.952      0.687\n"
     ]
    },
    {
     "name": "stderr",
     "output_type": "stream",
     "text": [
      "\n"
     ]
    },
    {
     "name": "stdout",
     "output_type": "stream",
     "text": [
      "\n",
      "      Epoch    GPU_mem   box_loss   cls_loss   dfl_loss  Instances       Size\n"
     ]
    },
    {
     "name": "stderr",
     "output_type": "stream",
     "text": [
      "       8/50      3.52G     0.9297     0.5923      1.029          9        640: 100%|██████████| 115/115 [00:44<00:00,  2.60it/s]\n",
      "                 Class     Images  Instances      Box(P          R      mAP50  mAP50-95): 100%|██████████| 8/8 [00:02<00:00,  3.16it/s]"
     ]
    },
    {
     "name": "stdout",
     "output_type": "stream",
     "text": [
      "                   all        255        262      0.979      0.897      0.966      0.677\n"
     ]
    },
    {
     "name": "stderr",
     "output_type": "stream",
     "text": [
      "\n"
     ]
    },
    {
     "name": "stdout",
     "output_type": "stream",
     "text": [
      "\n",
      "      Epoch    GPU_mem   box_loss   cls_loss   dfl_loss  Instances       Size\n"
     ]
    },
    {
     "name": "stderr",
     "output_type": "stream",
     "text": [
      "       9/50       3.5G     0.9285     0.5913      1.028          7        640: 100%|██████████| 115/115 [00:44<00:00,  2.60it/s]\n",
      "                 Class     Images  Instances      Box(P          R      mAP50  mAP50-95): 100%|██████████| 8/8 [00:02<00:00,  3.31it/s]"
     ]
    },
    {
     "name": "stdout",
     "output_type": "stream",
     "text": [
      "                   all        255        262      0.978      0.897      0.953      0.704\n"
     ]
    },
    {
     "name": "stderr",
     "output_type": "stream",
     "text": [
      "\n"
     ]
    },
    {
     "name": "stdout",
     "output_type": "stream",
     "text": [
      "\n",
      "      Epoch    GPU_mem   box_loss   cls_loss   dfl_loss  Instances       Size\n"
     ]
    },
    {
     "name": "stderr",
     "output_type": "stream",
     "text": [
      "      10/50      3.54G     0.9137     0.5786      1.016         13        640: 100%|██████████| 115/115 [00:44<00:00,  2.60it/s]\n",
      "                 Class     Images  Instances      Box(P          R      mAP50  mAP50-95): 100%|██████████| 8/8 [00:02<00:00,  3.14it/s]"
     ]
    },
    {
     "name": "stdout",
     "output_type": "stream",
     "text": [
      "                   all        255        262      0.987      0.943      0.979      0.719\n"
     ]
    },
    {
     "name": "stderr",
     "output_type": "stream",
     "text": [
      "\n"
     ]
    },
    {
     "name": "stdout",
     "output_type": "stream",
     "text": [
      "\n",
      "      Epoch    GPU_mem   box_loss   cls_loss   dfl_loss  Instances       Size\n"
     ]
    },
    {
     "name": "stderr",
     "output_type": "stream",
     "text": [
      "      11/50      3.79G     0.8727     0.5472      1.006         13        640: 100%|██████████| 115/115 [00:49<00:00,  2.33it/s]\n",
      "                 Class     Images  Instances      Box(P          R      mAP50  mAP50-95): 100%|██████████| 8/8 [00:02<00:00,  3.18it/s]"
     ]
    },
    {
     "name": "stdout",
     "output_type": "stream",
     "text": [
      "                   all        255        262      0.973      0.935      0.974      0.729\n"
     ]
    },
    {
     "name": "stderr",
     "output_type": "stream",
     "text": [
      "\n"
     ]
    },
    {
     "name": "stdout",
     "output_type": "stream",
     "text": [
      "\n",
      "      Epoch    GPU_mem   box_loss   cls_loss   dfl_loss  Instances       Size\n"
     ]
    },
    {
     "name": "stderr",
     "output_type": "stream",
     "text": [
      "      12/50      3.52G      0.865      0.542     0.9932          9        640: 100%|██████████| 115/115 [00:44<00:00,  2.59it/s]\n",
      "                 Class     Images  Instances      Box(P          R      mAP50  mAP50-95): 100%|██████████| 8/8 [00:02<00:00,  3.11it/s]"
     ]
    },
    {
     "name": "stdout",
     "output_type": "stream",
     "text": [
      "                   all        255        262      0.963       0.95       0.98      0.752\n"
     ]
    },
    {
     "name": "stderr",
     "output_type": "stream",
     "text": [
      "\n"
     ]
    },
    {
     "name": "stdout",
     "output_type": "stream",
     "text": [
      "\n",
      "      Epoch    GPU_mem   box_loss   cls_loss   dfl_loss  Instances       Size\n"
     ]
    },
    {
     "name": "stderr",
     "output_type": "stream",
     "text": [
      "      13/50      3.51G     0.8721     0.5248     0.9928         11        640: 100%|██████████| 115/115 [00:44<00:00,  2.58it/s]\n",
      "                 Class     Images  Instances      Box(P          R      mAP50  mAP50-95): 100%|██████████| 8/8 [00:02<00:00,  3.01it/s]"
     ]
    },
    {
     "name": "stdout",
     "output_type": "stream",
     "text": [
      "                   all        255        262      0.979       0.95      0.976      0.685\n"
     ]
    },
    {
     "name": "stderr",
     "output_type": "stream",
     "text": [
      "\n"
     ]
    },
    {
     "name": "stdout",
     "output_type": "stream",
     "text": [
      "\n",
      "      Epoch    GPU_mem   box_loss   cls_loss   dfl_loss  Instances       Size\n"
     ]
    },
    {
     "name": "stderr",
     "output_type": "stream",
     "text": [
      "      14/50      3.53G     0.8557      0.528     0.9922         12        640: 100%|██████████| 115/115 [00:44<00:00,  2.57it/s]\n",
      "                 Class     Images  Instances      Box(P          R      mAP50  mAP50-95): 100%|██████████| 8/8 [00:02<00:00,  3.12it/s]"
     ]
    },
    {
     "name": "stdout",
     "output_type": "stream",
     "text": [
      "                   all        255        262      0.959       0.92      0.975      0.741\n"
     ]
    },
    {
     "name": "stderr",
     "output_type": "stream",
     "text": [
      "\n"
     ]
    },
    {
     "name": "stdout",
     "output_type": "stream",
     "text": [
      "\n",
      "      Epoch    GPU_mem   box_loss   cls_loss   dfl_loss  Instances       Size\n"
     ]
    },
    {
     "name": "stderr",
     "output_type": "stream",
     "text": [
      "      15/50      3.64G     0.8623     0.5252      0.997          9        640: 100%|██████████| 115/115 [00:44<00:00,  2.60it/s]\n",
      "                 Class     Images  Instances      Box(P          R      mAP50  mAP50-95): 100%|██████████| 8/8 [00:02<00:00,  3.21it/s]"
     ]
    },
    {
     "name": "stdout",
     "output_type": "stream",
     "text": [
      "                   all        255        262      0.971      0.958      0.984      0.745\n"
     ]
    },
    {
     "name": "stderr",
     "output_type": "stream",
     "text": [
      "\n"
     ]
    },
    {
     "name": "stdout",
     "output_type": "stream",
     "text": [
      "\n",
      "      Epoch    GPU_mem   box_loss   cls_loss   dfl_loss  Instances       Size\n"
     ]
    },
    {
     "name": "stderr",
     "output_type": "stream",
     "text": [
      "      16/50      3.52G     0.8301     0.5004     0.9887         10        640: 100%|██████████| 115/115 [00:44<00:00,  2.58it/s]\n",
      "                 Class     Images  Instances      Box(P          R      mAP50  mAP50-95): 100%|██████████| 8/8 [00:02<00:00,  3.34it/s]"
     ]
    },
    {
     "name": "stdout",
     "output_type": "stream",
     "text": [
      "                   all        255        262      0.974      0.939      0.983      0.745\n"
     ]
    },
    {
     "name": "stderr",
     "output_type": "stream",
     "text": [
      "\n"
     ]
    },
    {
     "name": "stdout",
     "output_type": "stream",
     "text": [
      "\n",
      "      Epoch    GPU_mem   box_loss   cls_loss   dfl_loss  Instances       Size\n"
     ]
    },
    {
     "name": "stderr",
     "output_type": "stream",
     "text": [
      "      17/50       3.5G     0.8344     0.5026     0.9893         10        640: 100%|██████████| 115/115 [00:44<00:00,  2.60it/s]\n",
      "                 Class     Images  Instances      Box(P          R      mAP50  mAP50-95): 100%|██████████| 8/8 [00:02<00:00,  3.34it/s]"
     ]
    },
    {
     "name": "stdout",
     "output_type": "stream",
     "text": [
      "                   all        255        262      0.961      0.952      0.983      0.748\n"
     ]
    },
    {
     "name": "stderr",
     "output_type": "stream",
     "text": [
      "\n"
     ]
    },
    {
     "name": "stdout",
     "output_type": "stream",
     "text": [
      "\n",
      "      Epoch    GPU_mem   box_loss   cls_loss   dfl_loss  Instances       Size\n"
     ]
    },
    {
     "name": "stderr",
     "output_type": "stream",
     "text": [
      "      18/50      3.55G     0.8239     0.4902     0.9888          8        640: 100%|██████████| 115/115 [00:44<00:00,  2.60it/s]\n",
      "                 Class     Images  Instances      Box(P          R      mAP50  mAP50-95): 100%|██████████| 8/8 [00:02<00:00,  3.38it/s]"
     ]
    },
    {
     "name": "stdout",
     "output_type": "stream",
     "text": [
      "                   all        255        262      0.986      0.954      0.985       0.76\n"
     ]
    },
    {
     "name": "stderr",
     "output_type": "stream",
     "text": [
      "\n"
     ]
    },
    {
     "name": "stdout",
     "output_type": "stream",
     "text": [
      "\n",
      "      Epoch    GPU_mem   box_loss   cls_loss   dfl_loss  Instances       Size\n"
     ]
    },
    {
     "name": "stderr",
     "output_type": "stream",
     "text": [
      "      19/50      3.64G     0.8094     0.4777     0.9883          9        640: 100%|██████████| 115/115 [00:44<00:00,  2.60it/s]\n",
      "                 Class     Images  Instances      Box(P          R      mAP50  mAP50-95): 100%|██████████| 8/8 [00:02<00:00,  3.15it/s]"
     ]
    },
    {
     "name": "stdout",
     "output_type": "stream",
     "text": [
      "                   all        255        262       0.98      0.954       0.98      0.754\n"
     ]
    },
    {
     "name": "stderr",
     "output_type": "stream",
     "text": [
      "\n"
     ]
    },
    {
     "name": "stdout",
     "output_type": "stream",
     "text": [
      "\n",
      "      Epoch    GPU_mem   box_loss   cls_loss   dfl_loss  Instances       Size\n"
     ]
    },
    {
     "name": "stderr",
     "output_type": "stream",
     "text": [
      "      20/50      3.52G     0.8154     0.4842     0.9796          7        640: 100%|██████████| 115/115 [00:44<00:00,  2.61it/s]\n",
      "                 Class     Images  Instances      Box(P          R      mAP50  mAP50-95): 100%|██████████| 8/8 [00:02<00:00,  3.19it/s]"
     ]
    },
    {
     "name": "stdout",
     "output_type": "stream",
     "text": [
      "                   all        255        262      0.978      0.927       0.98      0.761\n"
     ]
    },
    {
     "name": "stderr",
     "output_type": "stream",
     "text": [
      "\n"
     ]
    },
    {
     "name": "stdout",
     "output_type": "stream",
     "text": [
      "\n",
      "      Epoch    GPU_mem   box_loss   cls_loss   dfl_loss  Instances       Size\n"
     ]
    },
    {
     "name": "stderr",
     "output_type": "stream",
     "text": [
      "      21/50      3.51G      0.803     0.4684     0.9707         12        640: 100%|██████████| 115/115 [00:44<00:00,  2.60it/s]\n",
      "                 Class     Images  Instances      Box(P          R      mAP50  mAP50-95): 100%|██████████| 8/8 [00:02<00:00,  3.25it/s]"
     ]
    },
    {
     "name": "stdout",
     "output_type": "stream",
     "text": [
      "                   all        255        262      0.968      0.943      0.978      0.741\n"
     ]
    },
    {
     "name": "stderr",
     "output_type": "stream",
     "text": [
      "\n"
     ]
    },
    {
     "name": "stdout",
     "output_type": "stream",
     "text": [
      "\n",
      "      Epoch    GPU_mem   box_loss   cls_loss   dfl_loss  Instances       Size\n"
     ]
    },
    {
     "name": "stderr",
     "output_type": "stream",
     "text": [
      "      22/50      3.53G     0.7807     0.4641     0.9598          9        640: 100%|██████████| 115/115 [00:44<00:00,  2.57it/s]\n",
      "                 Class     Images  Instances      Box(P          R      mAP50  mAP50-95): 100%|██████████| 8/8 [00:02<00:00,  3.20it/s]"
     ]
    },
    {
     "name": "stdout",
     "output_type": "stream",
     "text": [
      "                   all        255        262      0.969      0.946      0.983      0.763\n"
     ]
    },
    {
     "name": "stderr",
     "output_type": "stream",
     "text": [
      "\n"
     ]
    },
    {
     "name": "stdout",
     "output_type": "stream",
     "text": [
      "\n",
      "      Epoch    GPU_mem   box_loss   cls_loss   dfl_loss  Instances       Size\n"
     ]
    },
    {
     "name": "stderr",
     "output_type": "stream",
     "text": [
      "      23/50      3.64G     0.8013     0.4627     0.9684         10        640: 100%|██████████| 115/115 [00:44<00:00,  2.61it/s]\n",
      "                 Class     Images  Instances      Box(P          R      mAP50  mAP50-95): 100%|██████████| 8/8 [00:02<00:00,  3.16it/s]"
     ]
    },
    {
     "name": "stdout",
     "output_type": "stream",
     "text": [
      "                   all        255        262      0.961      0.938      0.976       0.76\n"
     ]
    },
    {
     "name": "stderr",
     "output_type": "stream",
     "text": [
      "\n"
     ]
    },
    {
     "name": "stdout",
     "output_type": "stream",
     "text": [
      "\n",
      "      Epoch    GPU_mem   box_loss   cls_loss   dfl_loss  Instances       Size\n"
     ]
    },
    {
     "name": "stderr",
     "output_type": "stream",
     "text": [
      "      24/50      3.52G     0.7684     0.4492     0.9553          9        640: 100%|██████████| 115/115 [00:44<00:00,  2.61it/s]\n",
      "                 Class     Images  Instances      Box(P          R      mAP50  mAP50-95): 100%|██████████| 8/8 [00:02<00:00,  3.14it/s]"
     ]
    },
    {
     "name": "stdout",
     "output_type": "stream",
     "text": [
      "                   all        255        262      0.961      0.954      0.982      0.772\n"
     ]
    },
    {
     "name": "stderr",
     "output_type": "stream",
     "text": [
      "\n"
     ]
    },
    {
     "name": "stdout",
     "output_type": "stream",
     "text": [
      "\n",
      "      Epoch    GPU_mem   box_loss   cls_loss   dfl_loss  Instances       Size\n"
     ]
    },
    {
     "name": "stderr",
     "output_type": "stream",
     "text": [
      "      25/50      3.51G     0.7823     0.4448     0.9642         11        640: 100%|██████████| 115/115 [00:44<00:00,  2.61it/s]\n",
      "                 Class     Images  Instances      Box(P          R      mAP50  mAP50-95): 100%|██████████| 8/8 [00:02<00:00,  3.07it/s]"
     ]
    },
    {
     "name": "stdout",
     "output_type": "stream",
     "text": [
      "                   all        255        262      0.973      0.973      0.983      0.749\n"
     ]
    },
    {
     "name": "stderr",
     "output_type": "stream",
     "text": [
      "\n"
     ]
    },
    {
     "name": "stdout",
     "output_type": "stream",
     "text": [
      "\n",
      "      Epoch    GPU_mem   box_loss   cls_loss   dfl_loss  Instances       Size\n"
     ]
    },
    {
     "name": "stderr",
     "output_type": "stream",
     "text": [
      "      26/50      3.53G     0.7834     0.4421     0.9617          5        640: 100%|██████████| 115/115 [00:44<00:00,  2.60it/s]\n",
      "                 Class     Images  Instances      Box(P          R      mAP50  mAP50-95): 100%|██████████| 8/8 [00:02<00:00,  3.21it/s]"
     ]
    },
    {
     "name": "stdout",
     "output_type": "stream",
     "text": [
      "                   all        255        262      0.982       0.95      0.976      0.749\n"
     ]
    },
    {
     "name": "stderr",
     "output_type": "stream",
     "text": [
      "\n"
     ]
    },
    {
     "name": "stdout",
     "output_type": "stream",
     "text": [
      "\n",
      "      Epoch    GPU_mem   box_loss   cls_loss   dfl_loss  Instances       Size\n"
     ]
    },
    {
     "name": "stderr",
     "output_type": "stream",
     "text": [
      "      27/50      3.79G     0.7697     0.4422     0.9637          7        640: 100%|██████████| 115/115 [00:49<00:00,  2.34it/s]\n",
      "                 Class     Images  Instances      Box(P          R      mAP50  mAP50-95): 100%|██████████| 8/8 [00:02<00:00,  3.45it/s]"
     ]
    },
    {
     "name": "stdout",
     "output_type": "stream",
     "text": [
      "                   all        255        262       0.96      0.958      0.983      0.783\n"
     ]
    },
    {
     "name": "stderr",
     "output_type": "stream",
     "text": [
      "\n"
     ]
    },
    {
     "name": "stdout",
     "output_type": "stream",
     "text": [
      "\n",
      "      Epoch    GPU_mem   box_loss   cls_loss   dfl_loss  Instances       Size\n"
     ]
    },
    {
     "name": "stderr",
     "output_type": "stream",
     "text": [
      "      28/50      3.52G     0.7629     0.4328      0.966          7        640: 100%|██████████| 115/115 [00:44<00:00,  2.60it/s]\n",
      "                 Class     Images  Instances      Box(P          R      mAP50  mAP50-95): 100%|██████████| 8/8 [00:02<00:00,  3.15it/s]"
     ]
    },
    {
     "name": "stdout",
     "output_type": "stream",
     "text": [
      "                   all        255        262      0.969      0.966      0.986      0.783\n"
     ]
    },
    {
     "name": "stderr",
     "output_type": "stream",
     "text": [
      "\n"
     ]
    },
    {
     "name": "stdout",
     "output_type": "stream",
     "text": [
      "\n",
      "      Epoch    GPU_mem   box_loss   cls_loss   dfl_loss  Instances       Size\n"
     ]
    },
    {
     "name": "stderr",
     "output_type": "stream",
     "text": [
      "      29/50      3.51G     0.7442     0.4188     0.9506          9        640: 100%|██████████| 115/115 [00:44<00:00,  2.60it/s]\n",
      "                 Class     Images  Instances      Box(P          R      mAP50  mAP50-95): 100%|██████████| 8/8 [00:02<00:00,  3.21it/s]"
     ]
    },
    {
     "name": "stdout",
     "output_type": "stream",
     "text": [
      "                   all        255        262      0.984      0.962      0.983      0.771\n"
     ]
    },
    {
     "name": "stderr",
     "output_type": "stream",
     "text": [
      "\n"
     ]
    },
    {
     "name": "stdout",
     "output_type": "stream",
     "text": [
      "\n",
      "      Epoch    GPU_mem   box_loss   cls_loss   dfl_loss  Instances       Size\n"
     ]
    },
    {
     "name": "stderr",
     "output_type": "stream",
     "text": [
      "      30/50      3.53G     0.7605     0.4303     0.9505         11        640: 100%|██████████| 115/115 [00:44<00:00,  2.60it/s]\n",
      "                 Class     Images  Instances      Box(P          R      mAP50  mAP50-95): 100%|██████████| 8/8 [00:02<00:00,  3.17it/s]"
     ]
    },
    {
     "name": "stdout",
     "output_type": "stream",
     "text": [
      "                   all        255        262      0.969      0.965      0.979       0.76\n"
     ]
    },
    {
     "name": "stderr",
     "output_type": "stream",
     "text": [
      "\n"
     ]
    },
    {
     "name": "stdout",
     "output_type": "stream",
     "text": [
      "\n",
      "      Epoch    GPU_mem   box_loss   cls_loss   dfl_loss  Instances       Size\n"
     ]
    },
    {
     "name": "stderr",
     "output_type": "stream",
     "text": [
      "      31/50      3.64G     0.7588     0.4202     0.9571         12        640: 100%|██████████| 115/115 [00:44<00:00,  2.59it/s]\n",
      "                 Class     Images  Instances      Box(P          R      mAP50  mAP50-95): 100%|██████████| 8/8 [00:02<00:00,  3.18it/s]"
     ]
    },
    {
     "name": "stdout",
     "output_type": "stream",
     "text": [
      "                   all        255        262      0.979      0.954      0.976      0.766\n"
     ]
    },
    {
     "name": "stderr",
     "output_type": "stream",
     "text": [
      "\n"
     ]
    },
    {
     "name": "stdout",
     "output_type": "stream",
     "text": [
      "\n",
      "      Epoch    GPU_mem   box_loss   cls_loss   dfl_loss  Instances       Size\n"
     ]
    },
    {
     "name": "stderr",
     "output_type": "stream",
     "text": [
      "      32/50      3.52G      0.749     0.4112     0.9464         13        640: 100%|██████████| 115/115 [00:44<00:00,  2.59it/s]\n",
      "                 Class     Images  Instances      Box(P          R      mAP50  mAP50-95): 100%|██████████| 8/8 [00:02<00:00,  3.18it/s]"
     ]
    },
    {
     "name": "stdout",
     "output_type": "stream",
     "text": [
      "                   all        255        262      0.983      0.962      0.986      0.782\n"
     ]
    },
    {
     "name": "stderr",
     "output_type": "stream",
     "text": [
      "\n"
     ]
    },
    {
     "name": "stdout",
     "output_type": "stream",
     "text": [
      "\n",
      "      Epoch    GPU_mem   box_loss   cls_loss   dfl_loss  Instances       Size\n"
     ]
    },
    {
     "name": "stderr",
     "output_type": "stream",
     "text": [
      "      33/50       3.5G     0.7296     0.4069     0.9519         10        640: 100%|██████████| 115/115 [00:44<00:00,  2.57it/s]\n",
      "                 Class     Images  Instances      Box(P          R      mAP50  mAP50-95): 100%|██████████| 8/8 [00:02<00:00,  3.11it/s]"
     ]
    },
    {
     "name": "stdout",
     "output_type": "stream",
     "text": [
      "                   all        255        262      0.981      0.961      0.984      0.769\n"
     ]
    },
    {
     "name": "stderr",
     "output_type": "stream",
     "text": [
      "\n"
     ]
    },
    {
     "name": "stdout",
     "output_type": "stream",
     "text": [
      "\n",
      "      Epoch    GPU_mem   box_loss   cls_loss   dfl_loss  Instances       Size\n"
     ]
    },
    {
     "name": "stderr",
     "output_type": "stream",
     "text": [
      "      34/50      3.53G     0.7352     0.3977     0.9455          9        640: 100%|██████████| 115/115 [00:44<00:00,  2.61it/s]\n",
      "                 Class     Images  Instances      Box(P          R      mAP50  mAP50-95): 100%|██████████| 8/8 [00:02<00:00,  3.23it/s]"
     ]
    },
    {
     "name": "stdout",
     "output_type": "stream",
     "text": [
      "                   all        255        262      0.972       0.94      0.983      0.772\n"
     ]
    },
    {
     "name": "stderr",
     "output_type": "stream",
     "text": [
      "\n"
     ]
    },
    {
     "name": "stdout",
     "output_type": "stream",
     "text": [
      "\n",
      "      Epoch    GPU_mem   box_loss   cls_loss   dfl_loss  Instances       Size\n"
     ]
    },
    {
     "name": "stderr",
     "output_type": "stream",
     "text": [
      "      35/50      3.64G     0.7136     0.3948     0.9373         11        640: 100%|██████████| 115/115 [00:44<00:00,  2.59it/s]\n",
      "                 Class     Images  Instances      Box(P          R      mAP50  mAP50-95): 100%|██████████| 8/8 [00:02<00:00,  3.28it/s]"
     ]
    },
    {
     "name": "stdout",
     "output_type": "stream",
     "text": [
      "                   all        255        262      0.973       0.96      0.984      0.778\n"
     ]
    },
    {
     "name": "stderr",
     "output_type": "stream",
     "text": [
      "\n"
     ]
    },
    {
     "name": "stdout",
     "output_type": "stream",
     "text": [
      "\n",
      "      Epoch    GPU_mem   box_loss   cls_loss   dfl_loss  Instances       Size\n"
     ]
    },
    {
     "name": "stderr",
     "output_type": "stream",
     "text": [
      "      36/50      3.52G     0.7078      0.394     0.9327         13        640: 100%|██████████| 115/115 [00:44<00:00,  2.61it/s]\n",
      "                 Class     Images  Instances      Box(P          R      mAP50  mAP50-95): 100%|██████████| 8/8 [00:02<00:00,  3.21it/s]"
     ]
    },
    {
     "name": "stdout",
     "output_type": "stream",
     "text": [
      "                   all        255        262      0.984      0.963      0.977      0.762\n"
     ]
    },
    {
     "name": "stderr",
     "output_type": "stream",
     "text": [
      "\n"
     ]
    },
    {
     "name": "stdout",
     "output_type": "stream",
     "text": [
      "\n",
      "      Epoch    GPU_mem   box_loss   cls_loss   dfl_loss  Instances       Size\n"
     ]
    },
    {
     "name": "stderr",
     "output_type": "stream",
     "text": [
      "      37/50       3.5G     0.6974     0.3871     0.9272         15        640: 100%|██████████| 115/115 [00:44<00:00,  2.61it/s]\n",
      "                 Class     Images  Instances      Box(P          R      mAP50  mAP50-95): 100%|██████████| 8/8 [00:02<00:00,  3.15it/s]"
     ]
    },
    {
     "name": "stdout",
     "output_type": "stream",
     "text": [
      "                   all        255        262      0.974      0.962      0.982      0.778\n"
     ]
    },
    {
     "name": "stderr",
     "output_type": "stream",
     "text": [
      "\n"
     ]
    },
    {
     "name": "stdout",
     "output_type": "stream",
     "text": [
      "\n",
      "      Epoch    GPU_mem   box_loss   cls_loss   dfl_loss  Instances       Size\n"
     ]
    },
    {
     "name": "stderr",
     "output_type": "stream",
     "text": [
      "      38/50      3.54G     0.6935     0.3783     0.9274         12        640: 100%|██████████| 115/115 [00:44<00:00,  2.58it/s]\n",
      "                 Class     Images  Instances      Box(P          R      mAP50  mAP50-95): 100%|██████████| 8/8 [00:02<00:00,  2.85it/s]"
     ]
    },
    {
     "name": "stdout",
     "output_type": "stream",
     "text": [
      "                   all        255        262      0.968      0.966      0.978       0.78\n"
     ]
    },
    {
     "name": "stderr",
     "output_type": "stream",
     "text": [
      "\n"
     ]
    },
    {
     "name": "stdout",
     "output_type": "stream",
     "text": [
      "\n",
      "      Epoch    GPU_mem   box_loss   cls_loss   dfl_loss  Instances       Size\n"
     ]
    },
    {
     "name": "stderr",
     "output_type": "stream",
     "text": [
      "      39/50      3.64G     0.7073     0.3853     0.9334          9        640: 100%|██████████| 115/115 [00:44<00:00,  2.56it/s]\n",
      "                 Class     Images  Instances      Box(P          R      mAP50  mAP50-95): 100%|██████████| 8/8 [00:02<00:00,  3.15it/s]"
     ]
    },
    {
     "name": "stdout",
     "output_type": "stream",
     "text": [
      "                   all        255        262      0.981      0.961      0.982      0.774\n"
     ]
    },
    {
     "name": "stderr",
     "output_type": "stream",
     "text": [
      "\n"
     ]
    },
    {
     "name": "stdout",
     "output_type": "stream",
     "text": [
      "\n",
      "      Epoch    GPU_mem   box_loss   cls_loss   dfl_loss  Instances       Size\n"
     ]
    },
    {
     "name": "stderr",
     "output_type": "stream",
     "text": [
      "      40/50      3.52G     0.6767      0.363     0.9247         10        640: 100%|██████████| 115/115 [00:44<00:00,  2.58it/s]\n",
      "                 Class     Images  Instances      Box(P          R      mAP50  mAP50-95): 100%|██████████| 8/8 [00:02<00:00,  3.21it/s]"
     ]
    },
    {
     "name": "stdout",
     "output_type": "stream",
     "text": [
      "                   all        255        262      0.966      0.954      0.977      0.773\n"
     ]
    },
    {
     "name": "stderr",
     "output_type": "stream",
     "text": [
      "\n"
     ]
    },
    {
     "name": "stdout",
     "output_type": "stream",
     "text": [
      "Closing dataloader mosaic\n",
      "\u001b[34m\u001b[1malbumentations: \u001b[0mBlur(p=0.01, blur_limit=(3, 7)), MedianBlur(p=0.01, blur_limit=(3, 7)), ToGray(p=0.01, method='weighted_average', num_output_channels=3), CLAHE(p=0.01, clip_limit=(1.0, 4.0), tile_grid_size=(8, 8))\n",
      "\n",
      "      Epoch    GPU_mem   box_loss   cls_loss   dfl_loss  Instances       Size\n"
     ]
    },
    {
     "name": "stderr",
     "output_type": "stream",
     "text": [
      "      41/50      3.51G     0.6634     0.3335     0.9169          8        640: 100%|██████████| 115/115 [00:44<00:00,  2.60it/s]\n",
      "                 Class     Images  Instances      Box(P          R      mAP50  mAP50-95): 100%|██████████| 8/8 [00:02<00:00,  3.19it/s]"
     ]
    },
    {
     "name": "stdout",
     "output_type": "stream",
     "text": [
      "                   all        255        262      0.962      0.957      0.977      0.775\n"
     ]
    },
    {
     "name": "stderr",
     "output_type": "stream",
     "text": [
      "\n"
     ]
    },
    {
     "name": "stdout",
     "output_type": "stream",
     "text": [
      "\n",
      "      Epoch    GPU_mem   box_loss   cls_loss   dfl_loss  Instances       Size\n"
     ]
    },
    {
     "name": "stderr",
     "output_type": "stream",
     "text": [
      "      42/50      3.53G     0.6603     0.3377     0.9168          5        640: 100%|██████████| 115/115 [00:44<00:00,  2.61it/s]\n",
      "                 Class     Images  Instances      Box(P          R      mAP50  mAP50-95): 100%|██████████| 8/8 [00:02<00:00,  3.20it/s]"
     ]
    },
    {
     "name": "stdout",
     "output_type": "stream",
     "text": [
      "                   all        255        262      0.966      0.963      0.983       0.78\n"
     ]
    },
    {
     "name": "stderr",
     "output_type": "stream",
     "text": [
      "\n"
     ]
    },
    {
     "name": "stdout",
     "output_type": "stream",
     "text": [
      "\n",
      "      Epoch    GPU_mem   box_loss   cls_loss   dfl_loss  Instances       Size\n"
     ]
    },
    {
     "name": "stderr",
     "output_type": "stream",
     "text": [
      "      43/50      3.65G     0.6547     0.3295     0.9118          5        640: 100%|██████████| 115/115 [00:43<00:00,  2.62it/s]\n",
      "                 Class     Images  Instances      Box(P          R      mAP50  mAP50-95): 100%|██████████| 8/8 [00:02<00:00,  3.21it/s]"
     ]
    },
    {
     "name": "stdout",
     "output_type": "stream",
     "text": [
      "                   all        255        262      0.973      0.965      0.979      0.771\n"
     ]
    },
    {
     "name": "stderr",
     "output_type": "stream",
     "text": [
      "\n"
     ]
    },
    {
     "name": "stdout",
     "output_type": "stream",
     "text": [
      "\n",
      "      Epoch    GPU_mem   box_loss   cls_loss   dfl_loss  Instances       Size\n"
     ]
    },
    {
     "name": "stderr",
     "output_type": "stream",
     "text": [
      "      44/50      3.52G     0.6563     0.3237     0.8981          5        640: 100%|██████████| 115/115 [00:44<00:00,  2.59it/s]\n",
      "                 Class     Images  Instances      Box(P          R      mAP50  mAP50-95): 100%|██████████| 8/8 [00:02<00:00,  3.01it/s]"
     ]
    },
    {
     "name": "stdout",
     "output_type": "stream",
     "text": [
      "                   all        255        262      0.967      0.962      0.985      0.779\n"
     ]
    },
    {
     "name": "stderr",
     "output_type": "stream",
     "text": [
      "\n"
     ]
    },
    {
     "name": "stdout",
     "output_type": "stream",
     "text": [
      "\n",
      "      Epoch    GPU_mem   box_loss   cls_loss   dfl_loss  Instances       Size\n"
     ]
    },
    {
     "name": "stderr",
     "output_type": "stream",
     "text": [
      "      45/50       3.5G     0.6407     0.3188     0.9059          5        640: 100%|██████████| 115/115 [00:44<00:00,  2.59it/s]\n",
      "                 Class     Images  Instances      Box(P          R      mAP50  mAP50-95): 100%|██████████| 8/8 [00:02<00:00,  3.07it/s]"
     ]
    },
    {
     "name": "stdout",
     "output_type": "stream",
     "text": [
      "                   all        255        262      0.977      0.958      0.983      0.783\n"
     ]
    },
    {
     "name": "stderr",
     "output_type": "stream",
     "text": [
      "\n"
     ]
    },
    {
     "name": "stdout",
     "output_type": "stream",
     "text": [
      "\n",
      "      Epoch    GPU_mem   box_loss   cls_loss   dfl_loss  Instances       Size\n"
     ]
    },
    {
     "name": "stderr",
     "output_type": "stream",
     "text": [
      "      46/50      3.54G     0.6347     0.3134     0.9001          5        640: 100%|██████████| 115/115 [00:44<00:00,  2.61it/s]\n",
      "                 Class     Images  Instances      Box(P          R      mAP50  mAP50-95): 100%|██████████| 8/8 [00:02<00:00,  2.96it/s]"
     ]
    },
    {
     "name": "stdout",
     "output_type": "stream",
     "text": [
      "                   all        255        262      0.968      0.958      0.984      0.797\n"
     ]
    },
    {
     "name": "stderr",
     "output_type": "stream",
     "text": [
      "\n"
     ]
    },
    {
     "name": "stdout",
     "output_type": "stream",
     "text": [
      "\n",
      "      Epoch    GPU_mem   box_loss   cls_loss   dfl_loss  Instances       Size\n"
     ]
    },
    {
     "name": "stderr",
     "output_type": "stream",
     "text": [
      "      47/50      3.79G     0.6298     0.3063     0.8963          5        640: 100%|██████████| 115/115 [00:48<00:00,  2.36it/s]\n",
      "                 Class     Images  Instances      Box(P          R      mAP50  mAP50-95): 100%|██████████| 8/8 [00:02<00:00,  3.19it/s]"
     ]
    },
    {
     "name": "stdout",
     "output_type": "stream",
     "text": [
      "                   all        255        262      0.968      0.966      0.982      0.782\n"
     ]
    },
    {
     "name": "stderr",
     "output_type": "stream",
     "text": [
      "\n"
     ]
    },
    {
     "name": "stdout",
     "output_type": "stream",
     "text": [
      "\n",
      "      Epoch    GPU_mem   box_loss   cls_loss   dfl_loss  Instances       Size\n"
     ]
    },
    {
     "name": "stderr",
     "output_type": "stream",
     "text": [
      "      48/50      3.52G     0.6172     0.2982     0.8964          5        640: 100%|██████████| 115/115 [00:43<00:00,  2.62it/s]\n",
      "                 Class     Images  Instances      Box(P          R      mAP50  mAP50-95): 100%|██████████| 8/8 [00:02<00:00,  3.21it/s]"
     ]
    },
    {
     "name": "stdout",
     "output_type": "stream",
     "text": [
      "                   all        255        262      0.976      0.958      0.983      0.781\n"
     ]
    },
    {
     "name": "stderr",
     "output_type": "stream",
     "text": [
      "\n"
     ]
    },
    {
     "name": "stdout",
     "output_type": "stream",
     "text": [
      "\n",
      "      Epoch    GPU_mem   box_loss   cls_loss   dfl_loss  Instances       Size\n"
     ]
    },
    {
     "name": "stderr",
     "output_type": "stream",
     "text": [
      "      49/50       3.5G     0.6093     0.2956     0.8938          6        640: 100%|██████████| 115/115 [00:44<00:00,  2.61it/s]\n",
      "                 Class     Images  Instances      Box(P          R      mAP50  mAP50-95): 100%|██████████| 8/8 [00:02<00:00,  3.23it/s]"
     ]
    },
    {
     "name": "stdout",
     "output_type": "stream",
     "text": [
      "                   all        255        262      0.969      0.962      0.982      0.787\n"
     ]
    },
    {
     "name": "stderr",
     "output_type": "stream",
     "text": [
      "\n"
     ]
    },
    {
     "name": "stdout",
     "output_type": "stream",
     "text": [
      "\n",
      "      Epoch    GPU_mem   box_loss   cls_loss   dfl_loss  Instances       Size\n"
     ]
    },
    {
     "name": "stderr",
     "output_type": "stream",
     "text": [
      "      50/50      3.53G     0.6162     0.2959     0.8902          5        640: 100%|██████████| 115/115 [00:44<00:00,  2.61it/s]\n",
      "                 Class     Images  Instances      Box(P          R      mAP50  mAP50-95): 100%|██████████| 8/8 [00:02<00:00,  3.23it/s]"
     ]
    },
    {
     "name": "stdout",
     "output_type": "stream",
     "text": [
      "                   all        255        262      0.981      0.964      0.982      0.793\n"
     ]
    },
    {
     "name": "stderr",
     "output_type": "stream",
     "text": [
      "\n"
     ]
    },
    {
     "name": "stdout",
     "output_type": "stream",
     "text": [
      "\n",
      "50 epochs completed in 0.674 hours.\n",
      "Optimizer stripped from runs\\detect\\model_blur\\weights\\last.pt, 22.5MB\n",
      "Optimizer stripped from runs\\detect\\model_blur\\weights\\best.pt, 22.5MB\n",
      "\n",
      "Validating runs\\detect\\model_blur\\weights\\best.pt...\n",
      "Ultralytics 8.3.174  Python-3.9.2 torch-2.5.1+cu121 CUDA:0 (NVIDIA GeForce RTX 3050 Laptop GPU, 4096MiB)\n",
      "Model summary (fused): 72 layers, 11,125,971 parameters, 0 gradients, 28.4 GFLOPs\n"
     ]
    },
    {
     "name": "stderr",
     "output_type": "stream",
     "text": [
      "                 Class     Images  Instances      Box(P          R      mAP50  mAP50-95): 100%|██████████| 8/8 [00:02<00:00,  2.91it/s]\n"
     ]
    },
    {
     "name": "stdout",
     "output_type": "stream",
     "text": [
      "                   all        255        262      0.968      0.958      0.984      0.797\n",
      "Speed: 0.4ms preprocess, 5.4ms inference, 0.0ms loss, 1.9ms postprocess per image\n",
      "Results saved to \u001b[1mruns\\detect\\model_blur\u001b[0m\n",
      "Ultralytics 8.3.174  Python-3.9.2 torch-2.5.1+cu121 CUDA:0 (NVIDIA GeForce RTX 3050 Laptop GPU, 4096MiB)\n",
      "Model summary (fused): 72 layers, 11,125,971 parameters, 0 gradients, 28.4 GFLOPs\n",
      "\u001b[34m\u001b[1mval: \u001b[0mFast image access  (ping: 0.00.0 ms, read: 1561.3627.8 MB/s, size: 234.4 KB)\n"
     ]
    },
    {
     "name": "stderr",
     "output_type": "stream",
     "text": [
      "\u001b[34m\u001b[1mval: \u001b[0mScanning D:\\Term 2\\Deep_Learning_Project\\dl_project\\dataset_split\\labels\\val.cache... 255 images, 0 backgrounds, 0 corrupt: 100%|██████████| 255/255 [00:00<?, ?it/s]\n",
      "                 Class     Images  Instances      Box(P          R      mAP50  mAP50-95): 100%|██████████| 16/16 [00:03<00:00,  4.64it/s]\n"
     ]
    },
    {
     "name": "stdout",
     "output_type": "stream",
     "text": [
      "                   all        255        262      0.967      0.958      0.984      0.798\n",
      "Speed: 0.5ms preprocess, 9.2ms inference, 0.0ms loss, 1.1ms postprocess per image\n",
      "Results saved to \u001b[1mruns\\detect\\model_blur2\u001b[0m\n",
      "ultralytics.utils.metrics.DetMetrics object with attributes:\n",
      "\n",
      "ap_class_index: array([0])\n",
      "box: ultralytics.utils.metrics.Metric object\n",
      "confusion_matrix: <ultralytics.utils.metrics.ConfusionMatrix object at 0x000001F2D70BD160>\n",
      "curves: ['Precision-Recall(B)', 'F1-Confidence(B)', 'Precision-Confidence(B)', 'Recall-Confidence(B)']\n",
      "curves_results: [[array([          0,    0.001001,    0.002002,    0.003003,    0.004004,    0.005005,    0.006006,    0.007007,    0.008008,    0.009009,     0.01001,    0.011011,    0.012012,    0.013013,    0.014014,    0.015015,    0.016016,    0.017017,    0.018018,    0.019019,     0.02002,    0.021021,    0.022022,    0.023023,\n",
      "          0.024024,    0.025025,    0.026026,    0.027027,    0.028028,    0.029029,     0.03003,    0.031031,    0.032032,    0.033033,    0.034034,    0.035035,    0.036036,    0.037037,    0.038038,    0.039039,     0.04004,    0.041041,    0.042042,    0.043043,    0.044044,    0.045045,    0.046046,    0.047047,\n",
      "          0.048048,    0.049049,     0.05005,    0.051051,    0.052052,    0.053053,    0.054054,    0.055055,    0.056056,    0.057057,    0.058058,    0.059059,     0.06006,    0.061061,    0.062062,    0.063063,    0.064064,    0.065065,    0.066066,    0.067067,    0.068068,    0.069069,     0.07007,    0.071071,\n",
      "          0.072072,    0.073073,    0.074074,    0.075075,    0.076076,    0.077077,    0.078078,    0.079079,     0.08008,    0.081081,    0.082082,    0.083083,    0.084084,    0.085085,    0.086086,    0.087087,    0.088088,    0.089089,     0.09009,    0.091091,    0.092092,    0.093093,    0.094094,    0.095095,\n",
      "          0.096096,    0.097097,    0.098098,    0.099099,      0.1001,      0.1011,      0.1021,      0.1031,      0.1041,     0.10511,     0.10611,     0.10711,     0.10811,     0.10911,     0.11011,     0.11111,     0.11211,     0.11311,     0.11411,     0.11512,     0.11612,     0.11712,     0.11812,     0.11912,\n",
      "           0.12012,     0.12112,     0.12212,     0.12312,     0.12412,     0.12513,     0.12613,     0.12713,     0.12813,     0.12913,     0.13013,     0.13113,     0.13213,     0.13313,     0.13413,     0.13514,     0.13614,     0.13714,     0.13814,     0.13914,     0.14014,     0.14114,     0.14214,     0.14314,\n",
      "           0.14414,     0.14515,     0.14615,     0.14715,     0.14815,     0.14915,     0.15015,     0.15115,     0.15215,     0.15315,     0.15415,     0.15516,     0.15616,     0.15716,     0.15816,     0.15916,     0.16016,     0.16116,     0.16216,     0.16316,     0.16416,     0.16517,     0.16617,     0.16717,\n",
      "           0.16817,     0.16917,     0.17017,     0.17117,     0.17217,     0.17317,     0.17417,     0.17518,     0.17618,     0.17718,     0.17818,     0.17918,     0.18018,     0.18118,     0.18218,     0.18318,     0.18418,     0.18519,     0.18619,     0.18719,     0.18819,     0.18919,     0.19019,     0.19119,\n",
      "           0.19219,     0.19319,     0.19419,      0.1952,      0.1962,      0.1972,      0.1982,      0.1992,      0.2002,      0.2012,      0.2022,      0.2032,      0.2042,     0.20521,     0.20621,     0.20721,     0.20821,     0.20921,     0.21021,     0.21121,     0.21221,     0.21321,     0.21421,     0.21522,\n",
      "           0.21622,     0.21722,     0.21822,     0.21922,     0.22022,     0.22122,     0.22222,     0.22322,     0.22422,     0.22523,     0.22623,     0.22723,     0.22823,     0.22923,     0.23023,     0.23123,     0.23223,     0.23323,     0.23423,     0.23524,     0.23624,     0.23724,     0.23824,     0.23924,\n",
      "           0.24024,     0.24124,     0.24224,     0.24324,     0.24424,     0.24525,     0.24625,     0.24725,     0.24825,     0.24925,     0.25025,     0.25125,     0.25225,     0.25325,     0.25425,     0.25526,     0.25626,     0.25726,     0.25826,     0.25926,     0.26026,     0.26126,     0.26226,     0.26326,\n",
      "           0.26426,     0.26527,     0.26627,     0.26727,     0.26827,     0.26927,     0.27027,     0.27127,     0.27227,     0.27327,     0.27427,     0.27528,     0.27628,     0.27728,     0.27828,     0.27928,     0.28028,     0.28128,     0.28228,     0.28328,     0.28428,     0.28529,     0.28629,     0.28729,\n",
      "           0.28829,     0.28929,     0.29029,     0.29129,     0.29229,     0.29329,     0.29429,      0.2953,      0.2963,      0.2973,      0.2983,      0.2993,      0.3003,      0.3013,      0.3023,      0.3033,      0.3043,     0.30531,     0.30631,     0.30731,     0.30831,     0.30931,     0.31031,     0.31131,\n",
      "           0.31231,     0.31331,     0.31431,     0.31532,     0.31632,     0.31732,     0.31832,     0.31932,     0.32032,     0.32132,     0.32232,     0.32332,     0.32432,     0.32533,     0.32633,     0.32733,     0.32833,     0.32933,     0.33033,     0.33133,     0.33233,     0.33333,     0.33433,     0.33534,\n",
      "           0.33634,     0.33734,     0.33834,     0.33934,     0.34034,     0.34134,     0.34234,     0.34334,     0.34434,     0.34535,     0.34635,     0.34735,     0.34835,     0.34935,     0.35035,     0.35135,     0.35235,     0.35335,     0.35435,     0.35536,     0.35636,     0.35736,     0.35836,     0.35936,\n",
      "           0.36036,     0.36136,     0.36236,     0.36336,     0.36436,     0.36537,     0.36637,     0.36737,     0.36837,     0.36937,     0.37037,     0.37137,     0.37237,     0.37337,     0.37437,     0.37538,     0.37638,     0.37738,     0.37838,     0.37938,     0.38038,     0.38138,     0.38238,     0.38338,\n",
      "           0.38438,     0.38539,     0.38639,     0.38739,     0.38839,     0.38939,     0.39039,     0.39139,     0.39239,     0.39339,     0.39439,      0.3954,      0.3964,      0.3974,      0.3984,      0.3994,      0.4004,      0.4014,      0.4024,      0.4034,      0.4044,     0.40541,     0.40641,     0.40741,\n",
      "           0.40841,     0.40941,     0.41041,     0.41141,     0.41241,     0.41341,     0.41441,     0.41542,     0.41642,     0.41742,     0.41842,     0.41942,     0.42042,     0.42142,     0.42242,     0.42342,     0.42442,     0.42543,     0.42643,     0.42743,     0.42843,     0.42943,     0.43043,     0.43143,\n",
      "           0.43243,     0.43343,     0.43443,     0.43544,     0.43644,     0.43744,     0.43844,     0.43944,     0.44044,     0.44144,     0.44244,     0.44344,     0.44444,     0.44545,     0.44645,     0.44745,     0.44845,     0.44945,     0.45045,     0.45145,     0.45245,     0.45345,     0.45445,     0.45546,\n",
      "           0.45646,     0.45746,     0.45846,     0.45946,     0.46046,     0.46146,     0.46246,     0.46346,     0.46446,     0.46547,     0.46647,     0.46747,     0.46847,     0.46947,     0.47047,     0.47147,     0.47247,     0.47347,     0.47447,     0.47548,     0.47648,     0.47748,     0.47848,     0.47948,\n",
      "           0.48048,     0.48148,     0.48248,     0.48348,     0.48448,     0.48549,     0.48649,     0.48749,     0.48849,     0.48949,     0.49049,     0.49149,     0.49249,     0.49349,     0.49449,      0.4955,      0.4965,      0.4975,      0.4985,      0.4995,      0.5005,      0.5015,      0.5025,      0.5035,\n",
      "            0.5045,     0.50551,     0.50651,     0.50751,     0.50851,     0.50951,     0.51051,     0.51151,     0.51251,     0.51351,     0.51451,     0.51552,     0.51652,     0.51752,     0.51852,     0.51952,     0.52052,     0.52152,     0.52252,     0.52352,     0.52452,     0.52553,     0.52653,     0.52753,\n",
      "           0.52853,     0.52953,     0.53053,     0.53153,     0.53253,     0.53353,     0.53453,     0.53554,     0.53654,     0.53754,     0.53854,     0.53954,     0.54054,     0.54154,     0.54254,     0.54354,     0.54454,     0.54555,     0.54655,     0.54755,     0.54855,     0.54955,     0.55055,     0.55155,\n",
      "           0.55255,     0.55355,     0.55455,     0.55556,     0.55656,     0.55756,     0.55856,     0.55956,     0.56056,     0.56156,     0.56256,     0.56356,     0.56456,     0.56557,     0.56657,     0.56757,     0.56857,     0.56957,     0.57057,     0.57157,     0.57257,     0.57357,     0.57457,     0.57558,\n",
      "           0.57658,     0.57758,     0.57858,     0.57958,     0.58058,     0.58158,     0.58258,     0.58358,     0.58458,     0.58559,     0.58659,     0.58759,     0.58859,     0.58959,     0.59059,     0.59159,     0.59259,     0.59359,     0.59459,      0.5956,      0.5966,      0.5976,      0.5986,      0.5996,\n",
      "            0.6006,      0.6016,      0.6026,      0.6036,      0.6046,     0.60561,     0.60661,     0.60761,     0.60861,     0.60961,     0.61061,     0.61161,     0.61261,     0.61361,     0.61461,     0.61562,     0.61662,     0.61762,     0.61862,     0.61962,     0.62062,     0.62162,     0.62262,     0.62362,\n",
      "           0.62462,     0.62563,     0.62663,     0.62763,     0.62863,     0.62963,     0.63063,     0.63163,     0.63263,     0.63363,     0.63463,     0.63564,     0.63664,     0.63764,     0.63864,     0.63964,     0.64064,     0.64164,     0.64264,     0.64364,     0.64464,     0.64565,     0.64665,     0.64765,\n",
      "           0.64865,     0.64965,     0.65065,     0.65165,     0.65265,     0.65365,     0.65465,     0.65566,     0.65666,     0.65766,     0.65866,     0.65966,     0.66066,     0.66166,     0.66266,     0.66366,     0.66466,     0.66567,     0.66667,     0.66767,     0.66867,     0.66967,     0.67067,     0.67167,\n",
      "           0.67267,     0.67367,     0.67467,     0.67568,     0.67668,     0.67768,     0.67868,     0.67968,     0.68068,     0.68168,     0.68268,     0.68368,     0.68468,     0.68569,     0.68669,     0.68769,     0.68869,     0.68969,     0.69069,     0.69169,     0.69269,     0.69369,     0.69469,      0.6957,\n",
      "            0.6967,      0.6977,      0.6987,      0.6997,      0.7007,      0.7017,      0.7027,      0.7037,      0.7047,     0.70571,     0.70671,     0.70771,     0.70871,     0.70971,     0.71071,     0.71171,     0.71271,     0.71371,     0.71471,     0.71572,     0.71672,     0.71772,     0.71872,     0.71972,\n",
      "           0.72072,     0.72172,     0.72272,     0.72372,     0.72472,     0.72573,     0.72673,     0.72773,     0.72873,     0.72973,     0.73073,     0.73173,     0.73273,     0.73373,     0.73473,     0.73574,     0.73674,     0.73774,     0.73874,     0.73974,     0.74074,     0.74174,     0.74274,     0.74374,\n",
      "           0.74474,     0.74575,     0.74675,     0.74775,     0.74875,     0.74975,     0.75075,     0.75175,     0.75275,     0.75375,     0.75475,     0.75576,     0.75676,     0.75776,     0.75876,     0.75976,     0.76076,     0.76176,     0.76276,     0.76376,     0.76476,     0.76577,     0.76677,     0.76777,\n",
      "           0.76877,     0.76977,     0.77077,     0.77177,     0.77277,     0.77377,     0.77477,     0.77578,     0.77678,     0.77778,     0.77878,     0.77978,     0.78078,     0.78178,     0.78278,     0.78378,     0.78478,     0.78579,     0.78679,     0.78779,     0.78879,     0.78979,     0.79079,     0.79179,\n",
      "           0.79279,     0.79379,     0.79479,      0.7958,      0.7968,      0.7978,      0.7988,      0.7998,      0.8008,      0.8018,      0.8028,      0.8038,      0.8048,     0.80581,     0.80681,     0.80781,     0.80881,     0.80981,     0.81081,     0.81181,     0.81281,     0.81381,     0.81481,     0.81582,\n",
      "           0.81682,     0.81782,     0.81882,     0.81982,     0.82082,     0.82182,     0.82282,     0.82382,     0.82482,     0.82583,     0.82683,     0.82783,     0.82883,     0.82983,     0.83083,     0.83183,     0.83283,     0.83383,     0.83483,     0.83584,     0.83684,     0.83784,     0.83884,     0.83984,\n",
      "           0.84084,     0.84184,     0.84284,     0.84384,     0.84484,     0.84585,     0.84685,     0.84785,     0.84885,     0.84985,     0.85085,     0.85185,     0.85285,     0.85385,     0.85485,     0.85586,     0.85686,     0.85786,     0.85886,     0.85986,     0.86086,     0.86186,     0.86286,     0.86386,\n",
      "           0.86486,     0.86587,     0.86687,     0.86787,     0.86887,     0.86987,     0.87087,     0.87187,     0.87287,     0.87387,     0.87487,     0.87588,     0.87688,     0.87788,     0.87888,     0.87988,     0.88088,     0.88188,     0.88288,     0.88388,     0.88488,     0.88589,     0.88689,     0.88789,\n",
      "           0.88889,     0.88989,     0.89089,     0.89189,     0.89289,     0.89389,     0.89489,      0.8959,      0.8969,      0.8979,      0.8989,      0.8999,      0.9009,      0.9019,      0.9029,      0.9039,      0.9049,     0.90591,     0.90691,     0.90791,     0.90891,     0.90991,     0.91091,     0.91191,\n",
      "           0.91291,     0.91391,     0.91491,     0.91592,     0.91692,     0.91792,     0.91892,     0.91992,     0.92092,     0.92192,     0.92292,     0.92392,     0.92492,     0.92593,     0.92693,     0.92793,     0.92893,     0.92993,     0.93093,     0.93193,     0.93293,     0.93393,     0.93493,     0.93594,\n",
      "           0.93694,     0.93794,     0.93894,     0.93994,     0.94094,     0.94194,     0.94294,     0.94394,     0.94494,     0.94595,     0.94695,     0.94795,     0.94895,     0.94995,     0.95095,     0.95195,     0.95295,     0.95395,     0.95495,     0.95596,     0.95696,     0.95796,     0.95896,     0.95996,\n",
      "           0.96096,     0.96196,     0.96296,     0.96396,     0.96496,     0.96597,     0.96697,     0.96797,     0.96897,     0.96997,     0.97097,     0.97197,     0.97297,     0.97397,     0.97497,     0.97598,     0.97698,     0.97798,     0.97898,     0.97998,     0.98098,     0.98198,     0.98298,     0.98398,\n",
      "           0.98498,     0.98599,     0.98699,     0.98799,     0.98899,     0.98999,     0.99099,     0.99199,     0.99299,     0.99399,     0.99499,       0.996,       0.997,       0.998,       0.999,           1]), array([[          1,           1,           1,           1,           1,           1,           1,           1,           1,           1,           1,           1,           1,           1,           1,           1,           1,           1,           1,           1,           1,           1,           1,\n",
      "                  1,           1,           1,           1,           1,           1,           1,           1,           1,           1,           1,           1,           1,           1,           1,           1,           1,           1,           1,           1,           1,           1,           1,\n",
      "                  1,           1,           1,           1,           1,           1,           1,           1,           1,           1,           1,           1,           1,           1,           1,           1,           1,           1,           1,           1,           1,           1,           1,\n",
      "                  1,           1,           1,           1,           1,           1,           1,           1,           1,           1,           1,           1,           1,           1,           1,           1,           1,           1,           1,           1,           1,           1,           1,\n",
      "                  1,           1,           1,           1,           1,           1,           1,           1,           1,           1,           1,           1,           1,           1,           1,           1,           1,           1,           1,           1,           1,           1,           1,\n",
      "                  1,           1,           1,           1,           1,           1,           1,           1,           1,           1,           1,           1,           1,           1,           1,           1,           1,           1,           1,           1,           1,           1,           1,\n",
      "                  1,           1,           1,           1,           1,           1,           1,           1,           1,           1,           1,           1,           1,           1,           1,           1,           1,           1,           1,           1,           1,           1,           1,\n",
      "                  1,           1,           1,           1,           1,           1,           1,           1,           1,           1,           1,           1,           1,           1,           1,           1,           1,           1,           1,           1,           1,           1,           1,\n",
      "                  1,           1,           1,           1,           1,           1,           1,           1,           1,           1,           1,           1,           1,           1,           1,           1,           1,           1,           1,           1,           1,           1,           1,\n",
      "                  1,           1,           1,           1,           1,           1,           1,           1,           1,           1,           1,           1,           1,           1,           1,           1,           1,           1,           1,           1,           1,           1,           1,\n",
      "                  1,           1,           1,           1,           1,           1,           1,           1,           1,           1,           1,           1,           1,           1,           1,           1,           1,           1,           1,           1,           1,           1,           1,\n",
      "                  1,           1,           1,           1,           1,           1,           1,           1,           1,           1,           1,           1,           1,           1,           1,           1,           1,           1,           1,           1,           1,           1,           1,\n",
      "                  1,           1,           1,           1,           1,           1,           1,           1,           1,           1,           1,           1,           1,           1,           1,           1,           1,           1,           1,           1,           1,           1,           1,\n",
      "                  1,           1,           1,           1,           1,           1,           1,           1,           1,           1,           1,           1,           1,           1,           1,           1,           1,           1,           1,           1,           1,           1,           1,\n",
      "                  1,           1,           1,           1,           1,           1,           1,           1,           1,           1,           1,           1,           1,           1,           1,           1,           1,           1,           1,           1,           1,           1,           1,\n",
      "                  1,           1,           1,           1,           1,           1,           1,           1,           1,           1,           1,           1,           1,           1,           1,           1,           1,           1,           1,           1,           1,           1,           1,\n",
      "                  1,           1,           1,           1,           1,           1,           1,           1,           1,           1,           1,           1,           1,           1,           1,           1,           1,           1,           1,           1,           1,           1,           1,\n",
      "                  1,           1,           1,           1,           1,           1,           1,           1,           1,           1,           1,           1,           1,           1,           1,           1,           1,           1,           1,           1,           1,           1,           1,\n",
      "                  1,           1,           1,           1,           1,           1,           1,           1,           1,           1,           1,           1,           1,           1,           1,           1,           1,           1,           1,           1,           1,           1,           1,\n",
      "                  1,           1,           1,           1,           1,           1,           1,           1,           1,           1,           1,           1,           1,           1,           1,           1,           1,           1,           1,           1,           1,           1,           1,\n",
      "                  1,           1,           1,           1,           1,           1,           1,           1,           1,           1,           1,           1,           1,           1,           1,           1,           1,           1,           1,           1,           1,           1,           1,\n",
      "                  1,           1,           1,           1,           1,           1,           1,           1,           1,           1,           1,           1,           1,           1,           1,           1,           1,           1,           1,           1,           1,           1,           1,\n",
      "                  1,           1,           1,           1,           1,           1,           1,           1,           1,           1,           1,           1,           1,           1,           1,           1,           1,           1,           1,           1,           1,           1,           1,\n",
      "                  1,           1,           1,           1,           1,           1,           1,           1,           1,           1,           1,           1,           1,           1,           1,           1,           1,           1,           1,           1,           1,           1,           1,\n",
      "                  1,           1,           1,           1,           1,           1,           1,           1,           1,           1,           1,           1,           1,           1,           1,           1,           1,           1,           1,           1,           1,           1,           1,\n",
      "                  1,           1,           1,           1,           1,           1,           1,           1,           1,           1,           1,           1,           1,           1,           1,           1,           1,           1,           1,           1,           1,           1,           1,\n",
      "                  1,           1,           1,           1,           1,           1,           1,           1,           1,           1,           1,           1,           1,           1,           1,           1,           1,           1,           1,           1,           1,           1,           1,\n",
      "                  1,           1,           1,           1,           1,           1,           1,           1,           1,           1,           1,           1,           1,           1,           1,           1,           1,           1,           1,           1,           1,           1,           1,\n",
      "                  1,           1,           1,           1,           1,           1,           1,           1,           1,           1,           1,           1,           1,           1,           1,           1,           1,           1,           1,           1,           1,           1,           1,\n",
      "                  1,           1,           1,           1,           1,           1,           1,           1,           1,           1,           1,           1,           1,           1,           1,           1,           1,           1,           1,           1,           1,           1,           1,\n",
      "                  1,           1,           1,           1,           1,           1,           1,           1,           1,           1,           1,           1,           1,           1,           1,           1,           1,           1,           1,           1,           1,           1,           1,\n",
      "                  1,           1,           1,           1,           1,           1,           1,           1,           1,           1,           1,           1,           1,           1,           1,           1,           1,           1,           1,           1,           1,           1,           1,\n",
      "                  1,           1,           1,           1,           1,           1,           1,           1,           1,           1,           1,           1,           1,           1,           1,           1,           1,           1,           1,           1,           1,           1,           1,\n",
      "                  1,           1,           1,           1,           1,           1,           1,           1,           1,           1,           1,           1,           1,           1,           1,           1,           1,           1,           1,           1,           1,           1,           1,\n",
      "                  1,           1,           1,           1,           1,           1,           1,           1,           1,           1,           1,           1,           1,           1,           1,           1,           1,           1,           1,           1,           1,           1,           1,\n",
      "                  1,           1,           1,           1,     0.99588,     0.99588,     0.99588,     0.99588,     0.99588,     0.99588,     0.99588,     0.99588,     0.99588,     0.99588,     0.99588,     0.99588,     0.99588,     0.99588,     0.99588,     0.99588,     0.99588,     0.99588,     0.99588,\n",
      "            0.99588,     0.99588,     0.99588,     0.99588,     0.99588,     0.99588,     0.99588,     0.99588,     0.99588,     0.99588,     0.99588,     0.99588,     0.99588,     0.99588,     0.99588,     0.99588,     0.99588,     0.99588,     0.99588,     0.99588,     0.99588,     0.99588,     0.99588,\n",
      "            0.99588,     0.99588,     0.99588,     0.99588,     0.99588,     0.99588,     0.99588,     0.99588,     0.99588,     0.99588,     0.99588,     0.99588,     0.99588,     0.99588,     0.99588,     0.99588,     0.99588,     0.99588,     0.99588,     0.99588,     0.99588,     0.99588,     0.99588,\n",
      "            0.99588,     0.99588,     0.99588,     0.99588,     0.99588,     0.99588,     0.99588,     0.99588,     0.99588,     0.99588,     0.99588,     0.99588,     0.99588,     0.99588,     0.99588,     0.99588,     0.99588,     0.99588,     0.99588,     0.99588,     0.99588,     0.99588,     0.99588,\n",
      "            0.99588,     0.99588,     0.99588,     0.99588,     0.99588,     0.99588,     0.99588,     0.99588,     0.99588,     0.99588,     0.99588,     0.99588,     0.99588,     0.99588,     0.99588,     0.99588,     0.99588,     0.99588,     0.99588,     0.99588,     0.99588,     0.99588,     0.99588,\n",
      "            0.99588,     0.99588,     0.99588,     0.98785,     0.98785,     0.98785,     0.98785,     0.98785,     0.98785,     0.98785,     0.98785,     0.98394,     0.98394,     0.98394,     0.98394,     0.97647,     0.97647,     0.97647,     0.97647,     0.97647,     0.97647,     0.97647,     0.97647,\n",
      "            0.97647,     0.97647,     0.97647,     0.97647,     0.97647,     0.97647,     0.97647,     0.96911,     0.96911,     0.96911,     0.96911,     0.96911,     0.96911,     0.96911,     0.96911,     0.96552,     0.96552,     0.96552,     0.96198,     0.96198,     0.96198,     0.96198,      0.9304,\n",
      "             0.9304,      0.9304,      0.9304,     0.88542,     0.88542,     0.88542,     0.88542,     0.82372,     0.82372,     0.82372,     0.82372,     0.82372,     0.82372,     0.82372,     0.64179,     0.64179,     0.64179,     0.64179,     0.47875,     0.44684,     0.41492,       0.383,     0.35109,\n",
      "            0.31917,     0.28725,     0.25533,     0.22342,      0.1915,     0.15958,     0.12767,     0.09575,    0.063834,    0.031917,           0]]), 'Recall', 'Precision'], [array([          0,    0.001001,    0.002002,    0.003003,    0.004004,    0.005005,    0.006006,    0.007007,    0.008008,    0.009009,     0.01001,    0.011011,    0.012012,    0.013013,    0.014014,    0.015015,    0.016016,    0.017017,    0.018018,    0.019019,     0.02002,    0.021021,    0.022022,    0.023023,\n",
      "          0.024024,    0.025025,    0.026026,    0.027027,    0.028028,    0.029029,     0.03003,    0.031031,    0.032032,    0.033033,    0.034034,    0.035035,    0.036036,    0.037037,    0.038038,    0.039039,     0.04004,    0.041041,    0.042042,    0.043043,    0.044044,    0.045045,    0.046046,    0.047047,\n",
      "          0.048048,    0.049049,     0.05005,    0.051051,    0.052052,    0.053053,    0.054054,    0.055055,    0.056056,    0.057057,    0.058058,    0.059059,     0.06006,    0.061061,    0.062062,    0.063063,    0.064064,    0.065065,    0.066066,    0.067067,    0.068068,    0.069069,     0.07007,    0.071071,\n",
      "          0.072072,    0.073073,    0.074074,    0.075075,    0.076076,    0.077077,    0.078078,    0.079079,     0.08008,    0.081081,    0.082082,    0.083083,    0.084084,    0.085085,    0.086086,    0.087087,    0.088088,    0.089089,     0.09009,    0.091091,    0.092092,    0.093093,    0.094094,    0.095095,\n",
      "          0.096096,    0.097097,    0.098098,    0.099099,      0.1001,      0.1011,      0.1021,      0.1031,      0.1041,     0.10511,     0.10611,     0.10711,     0.10811,     0.10911,     0.11011,     0.11111,     0.11211,     0.11311,     0.11411,     0.11512,     0.11612,     0.11712,     0.11812,     0.11912,\n",
      "           0.12012,     0.12112,     0.12212,     0.12312,     0.12412,     0.12513,     0.12613,     0.12713,     0.12813,     0.12913,     0.13013,     0.13113,     0.13213,     0.13313,     0.13413,     0.13514,     0.13614,     0.13714,     0.13814,     0.13914,     0.14014,     0.14114,     0.14214,     0.14314,\n",
      "           0.14414,     0.14515,     0.14615,     0.14715,     0.14815,     0.14915,     0.15015,     0.15115,     0.15215,     0.15315,     0.15415,     0.15516,     0.15616,     0.15716,     0.15816,     0.15916,     0.16016,     0.16116,     0.16216,     0.16316,     0.16416,     0.16517,     0.16617,     0.16717,\n",
      "           0.16817,     0.16917,     0.17017,     0.17117,     0.17217,     0.17317,     0.17417,     0.17518,     0.17618,     0.17718,     0.17818,     0.17918,     0.18018,     0.18118,     0.18218,     0.18318,     0.18418,     0.18519,     0.18619,     0.18719,     0.18819,     0.18919,     0.19019,     0.19119,\n",
      "           0.19219,     0.19319,     0.19419,      0.1952,      0.1962,      0.1972,      0.1982,      0.1992,      0.2002,      0.2012,      0.2022,      0.2032,      0.2042,     0.20521,     0.20621,     0.20721,     0.20821,     0.20921,     0.21021,     0.21121,     0.21221,     0.21321,     0.21421,     0.21522,\n",
      "           0.21622,     0.21722,     0.21822,     0.21922,     0.22022,     0.22122,     0.22222,     0.22322,     0.22422,     0.22523,     0.22623,     0.22723,     0.22823,     0.22923,     0.23023,     0.23123,     0.23223,     0.23323,     0.23423,     0.23524,     0.23624,     0.23724,     0.23824,     0.23924,\n",
      "           0.24024,     0.24124,     0.24224,     0.24324,     0.24424,     0.24525,     0.24625,     0.24725,     0.24825,     0.24925,     0.25025,     0.25125,     0.25225,     0.25325,     0.25425,     0.25526,     0.25626,     0.25726,     0.25826,     0.25926,     0.26026,     0.26126,     0.26226,     0.26326,\n",
      "           0.26426,     0.26527,     0.26627,     0.26727,     0.26827,     0.26927,     0.27027,     0.27127,     0.27227,     0.27327,     0.27427,     0.27528,     0.27628,     0.27728,     0.27828,     0.27928,     0.28028,     0.28128,     0.28228,     0.28328,     0.28428,     0.28529,     0.28629,     0.28729,\n",
      "           0.28829,     0.28929,     0.29029,     0.29129,     0.29229,     0.29329,     0.29429,      0.2953,      0.2963,      0.2973,      0.2983,      0.2993,      0.3003,      0.3013,      0.3023,      0.3033,      0.3043,     0.30531,     0.30631,     0.30731,     0.30831,     0.30931,     0.31031,     0.31131,\n",
      "           0.31231,     0.31331,     0.31431,     0.31532,     0.31632,     0.31732,     0.31832,     0.31932,     0.32032,     0.32132,     0.32232,     0.32332,     0.32432,     0.32533,     0.32633,     0.32733,     0.32833,     0.32933,     0.33033,     0.33133,     0.33233,     0.33333,     0.33433,     0.33534,\n",
      "           0.33634,     0.33734,     0.33834,     0.33934,     0.34034,     0.34134,     0.34234,     0.34334,     0.34434,     0.34535,     0.34635,     0.34735,     0.34835,     0.34935,     0.35035,     0.35135,     0.35235,     0.35335,     0.35435,     0.35536,     0.35636,     0.35736,     0.35836,     0.35936,\n",
      "           0.36036,     0.36136,     0.36236,     0.36336,     0.36436,     0.36537,     0.36637,     0.36737,     0.36837,     0.36937,     0.37037,     0.37137,     0.37237,     0.37337,     0.37437,     0.37538,     0.37638,     0.37738,     0.37838,     0.37938,     0.38038,     0.38138,     0.38238,     0.38338,\n",
      "           0.38438,     0.38539,     0.38639,     0.38739,     0.38839,     0.38939,     0.39039,     0.39139,     0.39239,     0.39339,     0.39439,      0.3954,      0.3964,      0.3974,      0.3984,      0.3994,      0.4004,      0.4014,      0.4024,      0.4034,      0.4044,     0.40541,     0.40641,     0.40741,\n",
      "           0.40841,     0.40941,     0.41041,     0.41141,     0.41241,     0.41341,     0.41441,     0.41542,     0.41642,     0.41742,     0.41842,     0.41942,     0.42042,     0.42142,     0.42242,     0.42342,     0.42442,     0.42543,     0.42643,     0.42743,     0.42843,     0.42943,     0.43043,     0.43143,\n",
      "           0.43243,     0.43343,     0.43443,     0.43544,     0.43644,     0.43744,     0.43844,     0.43944,     0.44044,     0.44144,     0.44244,     0.44344,     0.44444,     0.44545,     0.44645,     0.44745,     0.44845,     0.44945,     0.45045,     0.45145,     0.45245,     0.45345,     0.45445,     0.45546,\n",
      "           0.45646,     0.45746,     0.45846,     0.45946,     0.46046,     0.46146,     0.46246,     0.46346,     0.46446,     0.46547,     0.46647,     0.46747,     0.46847,     0.46947,     0.47047,     0.47147,     0.47247,     0.47347,     0.47447,     0.47548,     0.47648,     0.47748,     0.47848,     0.47948,\n",
      "           0.48048,     0.48148,     0.48248,     0.48348,     0.48448,     0.48549,     0.48649,     0.48749,     0.48849,     0.48949,     0.49049,     0.49149,     0.49249,     0.49349,     0.49449,      0.4955,      0.4965,      0.4975,      0.4985,      0.4995,      0.5005,      0.5015,      0.5025,      0.5035,\n",
      "            0.5045,     0.50551,     0.50651,     0.50751,     0.50851,     0.50951,     0.51051,     0.51151,     0.51251,     0.51351,     0.51451,     0.51552,     0.51652,     0.51752,     0.51852,     0.51952,     0.52052,     0.52152,     0.52252,     0.52352,     0.52452,     0.52553,     0.52653,     0.52753,\n",
      "           0.52853,     0.52953,     0.53053,     0.53153,     0.53253,     0.53353,     0.53453,     0.53554,     0.53654,     0.53754,     0.53854,     0.53954,     0.54054,     0.54154,     0.54254,     0.54354,     0.54454,     0.54555,     0.54655,     0.54755,     0.54855,     0.54955,     0.55055,     0.55155,\n",
      "           0.55255,     0.55355,     0.55455,     0.55556,     0.55656,     0.55756,     0.55856,     0.55956,     0.56056,     0.56156,     0.56256,     0.56356,     0.56456,     0.56557,     0.56657,     0.56757,     0.56857,     0.56957,     0.57057,     0.57157,     0.57257,     0.57357,     0.57457,     0.57558,\n",
      "           0.57658,     0.57758,     0.57858,     0.57958,     0.58058,     0.58158,     0.58258,     0.58358,     0.58458,     0.58559,     0.58659,     0.58759,     0.58859,     0.58959,     0.59059,     0.59159,     0.59259,     0.59359,     0.59459,      0.5956,      0.5966,      0.5976,      0.5986,      0.5996,\n",
      "            0.6006,      0.6016,      0.6026,      0.6036,      0.6046,     0.60561,     0.60661,     0.60761,     0.60861,     0.60961,     0.61061,     0.61161,     0.61261,     0.61361,     0.61461,     0.61562,     0.61662,     0.61762,     0.61862,     0.61962,     0.62062,     0.62162,     0.62262,     0.62362,\n",
      "           0.62462,     0.62563,     0.62663,     0.62763,     0.62863,     0.62963,     0.63063,     0.63163,     0.63263,     0.63363,     0.63463,     0.63564,     0.63664,     0.63764,     0.63864,     0.63964,     0.64064,     0.64164,     0.64264,     0.64364,     0.64464,     0.64565,     0.64665,     0.64765,\n",
      "           0.64865,     0.64965,     0.65065,     0.65165,     0.65265,     0.65365,     0.65465,     0.65566,     0.65666,     0.65766,     0.65866,     0.65966,     0.66066,     0.66166,     0.66266,     0.66366,     0.66466,     0.66567,     0.66667,     0.66767,     0.66867,     0.66967,     0.67067,     0.67167,\n",
      "           0.67267,     0.67367,     0.67467,     0.67568,     0.67668,     0.67768,     0.67868,     0.67968,     0.68068,     0.68168,     0.68268,     0.68368,     0.68468,     0.68569,     0.68669,     0.68769,     0.68869,     0.68969,     0.69069,     0.69169,     0.69269,     0.69369,     0.69469,      0.6957,\n",
      "            0.6967,      0.6977,      0.6987,      0.6997,      0.7007,      0.7017,      0.7027,      0.7037,      0.7047,     0.70571,     0.70671,     0.70771,     0.70871,     0.70971,     0.71071,     0.71171,     0.71271,     0.71371,     0.71471,     0.71572,     0.71672,     0.71772,     0.71872,     0.71972,\n",
      "           0.72072,     0.72172,     0.72272,     0.72372,     0.72472,     0.72573,     0.72673,     0.72773,     0.72873,     0.72973,     0.73073,     0.73173,     0.73273,     0.73373,     0.73473,     0.73574,     0.73674,     0.73774,     0.73874,     0.73974,     0.74074,     0.74174,     0.74274,     0.74374,\n",
      "           0.74474,     0.74575,     0.74675,     0.74775,     0.74875,     0.74975,     0.75075,     0.75175,     0.75275,     0.75375,     0.75475,     0.75576,     0.75676,     0.75776,     0.75876,     0.75976,     0.76076,     0.76176,     0.76276,     0.76376,     0.76476,     0.76577,     0.76677,     0.76777,\n",
      "           0.76877,     0.76977,     0.77077,     0.77177,     0.77277,     0.77377,     0.77477,     0.77578,     0.77678,     0.77778,     0.77878,     0.77978,     0.78078,     0.78178,     0.78278,     0.78378,     0.78478,     0.78579,     0.78679,     0.78779,     0.78879,     0.78979,     0.79079,     0.79179,\n",
      "           0.79279,     0.79379,     0.79479,      0.7958,      0.7968,      0.7978,      0.7988,      0.7998,      0.8008,      0.8018,      0.8028,      0.8038,      0.8048,     0.80581,     0.80681,     0.80781,     0.80881,     0.80981,     0.81081,     0.81181,     0.81281,     0.81381,     0.81481,     0.81582,\n",
      "           0.81682,     0.81782,     0.81882,     0.81982,     0.82082,     0.82182,     0.82282,     0.82382,     0.82482,     0.82583,     0.82683,     0.82783,     0.82883,     0.82983,     0.83083,     0.83183,     0.83283,     0.83383,     0.83483,     0.83584,     0.83684,     0.83784,     0.83884,     0.83984,\n",
      "           0.84084,     0.84184,     0.84284,     0.84384,     0.84484,     0.84585,     0.84685,     0.84785,     0.84885,     0.84985,     0.85085,     0.85185,     0.85285,     0.85385,     0.85485,     0.85586,     0.85686,     0.85786,     0.85886,     0.85986,     0.86086,     0.86186,     0.86286,     0.86386,\n",
      "           0.86486,     0.86587,     0.86687,     0.86787,     0.86887,     0.86987,     0.87087,     0.87187,     0.87287,     0.87387,     0.87487,     0.87588,     0.87688,     0.87788,     0.87888,     0.87988,     0.88088,     0.88188,     0.88288,     0.88388,     0.88488,     0.88589,     0.88689,     0.88789,\n",
      "           0.88889,     0.88989,     0.89089,     0.89189,     0.89289,     0.89389,     0.89489,      0.8959,      0.8969,      0.8979,      0.8989,      0.8999,      0.9009,      0.9019,      0.9029,      0.9039,      0.9049,     0.90591,     0.90691,     0.90791,     0.90891,     0.90991,     0.91091,     0.91191,\n",
      "           0.91291,     0.91391,     0.91491,     0.91592,     0.91692,     0.91792,     0.91892,     0.91992,     0.92092,     0.92192,     0.92292,     0.92392,     0.92492,     0.92593,     0.92693,     0.92793,     0.92893,     0.92993,     0.93093,     0.93193,     0.93293,     0.93393,     0.93493,     0.93594,\n",
      "           0.93694,     0.93794,     0.93894,     0.93994,     0.94094,     0.94194,     0.94294,     0.94394,     0.94494,     0.94595,     0.94695,     0.94795,     0.94895,     0.94995,     0.95095,     0.95195,     0.95295,     0.95395,     0.95495,     0.95596,     0.95696,     0.95796,     0.95896,     0.95996,\n",
      "           0.96096,     0.96196,     0.96296,     0.96396,     0.96496,     0.96597,     0.96697,     0.96797,     0.96897,     0.96997,     0.97097,     0.97197,     0.97297,     0.97397,     0.97497,     0.97598,     0.97698,     0.97798,     0.97898,     0.97998,     0.98098,     0.98198,     0.98298,     0.98398,\n",
      "           0.98498,     0.98599,     0.98699,     0.98799,     0.98899,     0.98999,     0.99099,     0.99199,     0.99299,     0.99399,     0.99499,       0.996,       0.997,       0.998,       0.999,           1]), array([[    0.65152,     0.65152,     0.75011,     0.78148,     0.80825,     0.82153,     0.83917,     0.84765,     0.85814,     0.87124,     0.87497,     0.88142,      0.8855,     0.89015,     0.89432,     0.89496,     0.89518,     0.89368,     0.89487,     0.89615,     0.89872,     0.90129,     0.90194,\n",
      "             0.9026,     0.90612,     0.90709,     0.90874,     0.90958,     0.91017,     0.91081,     0.91229,       0.913,     0.91369,     0.91893,     0.91983,     0.92198,     0.92502,     0.92701,     0.92639,     0.92577,     0.92556,     0.92646,     0.92726,     0.92793,     0.92859,     0.93072,\n",
      "            0.93198,      0.9343,     0.93491,     0.93553,      0.9362,     0.93687,     0.93734,      0.9375,     0.93767,     0.93783,       0.938,     0.93816,     0.93833,     0.93849,     0.93866,     0.93883,     0.93899,     0.93921,     0.93944,     0.93966,     0.93988,     0.94011,     0.94033,\n",
      "            0.94056,     0.94117,     0.94258,     0.94281,     0.94303,     0.94325,     0.94347,      0.9437,     0.94392,     0.94414,      0.9444,      0.9447,     0.94499,     0.94528,     0.94558,     0.94587,     0.94665,     0.94776,     0.94781,     0.94785,     0.94789,     0.94793,     0.94798,\n",
      "            0.94802,     0.94806,     0.94811,     0.94815,     0.94819,     0.94824,     0.94828,     0.94832,     0.94836,     0.94841,     0.94845,     0.94849,     0.94854,     0.94858,     0.94862,     0.94867,     0.94871,     0.94875,     0.94879,     0.94884,     0.94888,     0.94892,     0.94897,\n",
      "            0.94901,     0.94905,     0.94909,     0.94914,     0.94918,     0.94922,     0.94927,     0.94931,     0.94935,      0.9494,     0.94944,     0.94948,     0.94952,     0.94818,     0.94776,     0.94807,     0.94837,     0.94868,     0.94898,     0.94929,     0.94965,     0.95003,     0.95041,\n",
      "            0.95079,     0.95292,     0.95298,     0.95304,      0.9531,     0.95316,     0.95322,     0.95328,     0.95334,      0.9534,     0.95346,     0.95352,     0.95358,     0.95364,      0.9537,     0.95376,     0.95381,     0.95387,     0.95393,     0.95399,     0.95405,     0.95411,     0.95417,\n",
      "            0.95423,     0.95429,     0.95435,     0.95441,     0.95447,     0.95453,     0.95459,     0.95465,     0.95471,     0.95485,     0.95501,     0.95517,     0.95533,     0.95549,     0.95565,     0.95581,     0.95597,     0.95613,     0.95629,     0.95645,     0.95656,     0.95663,      0.9567,\n",
      "            0.95677,     0.95684,     0.95691,     0.95698,     0.95705,     0.95712,     0.95719,     0.95725,     0.95732,     0.95739,     0.95746,     0.95753,      0.9576,     0.95767,     0.95774,     0.95781,     0.95788,     0.95795,     0.95802,     0.95809,     0.95815,     0.95822,     0.95829,\n",
      "            0.95842,     0.95865,     0.95887,     0.95909,     0.95931,     0.95953,     0.95975,     0.95997,     0.96016,     0.96023,     0.96029,     0.96035,     0.96042,     0.96048,     0.96054,     0.96061,     0.96067,     0.96074,      0.9608,     0.96086,     0.96093,     0.96099,     0.96105,\n",
      "            0.96112,     0.96118,     0.96124,     0.96131,     0.96137,     0.96144,      0.9615,     0.96156,     0.96163,     0.96169,     0.96175,     0.96182,     0.96188,     0.96194,     0.96204,     0.96218,     0.96232,     0.96246,      0.9626,     0.96274,     0.96288,     0.96301,     0.96315,\n",
      "            0.96329,     0.96343,     0.96357,     0.96371,     0.96377,     0.96359,     0.96342,     0.96324,     0.96307,     0.96289,     0.96272,     0.96254,     0.96237,     0.96219,     0.96202,     0.96184,     0.96189,     0.96194,       0.962,     0.96205,     0.96211,     0.96216,     0.96222,\n",
      "            0.96227,     0.96233,     0.96239,     0.96244,      0.9625,     0.96255,     0.96261,     0.96266,     0.96272,     0.96278,     0.96283,     0.96289,     0.96294,       0.963,     0.96305,     0.96311,     0.96316,     0.96322,     0.96328,     0.96333,     0.96339,     0.96344,      0.9635,\n",
      "            0.96355,     0.96361,     0.96366,      0.9636,     0.96352,     0.96344,     0.96336,     0.96328,      0.9632,     0.96312,     0.96304,     0.96296,     0.96288,      0.9628,     0.96272,     0.96264,     0.96257,     0.96249,     0.96241,     0.96233,     0.96225,     0.96217,     0.96209,\n",
      "            0.96201,     0.96193,     0.96185,     0.96177,     0.96169,     0.96171,     0.96174,     0.96176,     0.96179,     0.96181,     0.96184,     0.96186,     0.96189,     0.96191,     0.96194,     0.96196,     0.96198,     0.96201,     0.96203,     0.96206,     0.96208,     0.96211,     0.96213,\n",
      "            0.96216,     0.96218,     0.96221,     0.96223,     0.96226,     0.96228,     0.96231,     0.96233,     0.96236,     0.96238,     0.96241,     0.96243,     0.96246,     0.96248,     0.96251,     0.96253,     0.96256,     0.96258,     0.96261,     0.96263,     0.96266,     0.96268,     0.96271,\n",
      "            0.96273,     0.96276,     0.96278,     0.96281,     0.96283,     0.96286,     0.96288,     0.96291,     0.96293,     0.96296,     0.96298,     0.96301,     0.96303,     0.96306,     0.96308,     0.96311,     0.96313,     0.96315,     0.96318,      0.9632,     0.96323,     0.96325,     0.96328,\n",
      "             0.9633,     0.96333,     0.96335,     0.96338,      0.9634,     0.96343,     0.96345,     0.96348,      0.9635,     0.96353,     0.96345,     0.96335,     0.96326,     0.96316,     0.96307,     0.96297,     0.96287,     0.96278,     0.96268,     0.96258,     0.96249,     0.96239,     0.96229,\n",
      "             0.9622,      0.9621,       0.962,     0.96191,     0.96181,     0.96171,     0.96162,     0.96152,     0.96141,     0.96131,      0.9612,     0.96109,     0.96098,     0.96088,     0.96077,     0.96066,     0.96056,     0.96045,     0.96034,     0.96024,     0.96013,     0.96002,     0.95991,\n",
      "            0.95981,      0.9597,     0.95959,     0.95963,     0.95983,     0.96003,     0.96022,     0.96042,     0.96062,     0.96081,     0.96101,     0.96121,      0.9614,     0.96149,     0.96158,     0.96166,     0.96175,     0.96184,     0.96193,     0.96202,     0.96211,      0.9622,     0.96229,\n",
      "            0.96238,     0.96247,     0.96256,     0.96265,     0.96274,     0.96283,     0.96292,       0.963,     0.96309,     0.96318,     0.96324,     0.96318,     0.96312,     0.96307,     0.96301,     0.96295,      0.9629,     0.96284,     0.96279,     0.96273,     0.96267,     0.96262,     0.96256,\n",
      "             0.9625,     0.96245,     0.96239,     0.96234,     0.96228,     0.96222,     0.96217,     0.96211,     0.96205,       0.962,     0.96194,     0.96188,     0.96183,     0.96177,     0.96172,     0.96166,      0.9616,     0.96155,     0.96149,     0.96143,     0.96138,     0.96132,     0.96126,\n",
      "            0.96093,     0.96041,     0.95988,     0.95935,      0.9588,     0.95824,     0.95768,     0.95716,     0.95689,     0.95663,     0.95636,      0.9561,     0.95583,     0.95557,      0.9553,     0.95528,     0.95553,     0.95577,     0.95602,     0.95626,     0.95651,     0.95675,       0.957,\n",
      "            0.95708,     0.95713,     0.95719,     0.95724,      0.9573,     0.95735,      0.9574,     0.95746,     0.95751,     0.95757,     0.95762,     0.95767,     0.95773,     0.95778,     0.95784,     0.95789,     0.95795,       0.958,     0.95805,     0.95811,     0.95816,     0.95822,     0.95827,\n",
      "            0.95832,     0.95838,     0.95843,     0.95849,     0.95854,     0.95859,     0.95865,      0.9587,     0.95876,     0.95881,     0.95886,     0.95878,     0.95835,     0.95791,     0.95748,     0.95704,      0.9569,     0.95698,     0.95705,     0.95712,     0.95719,     0.95726,     0.95734,\n",
      "            0.95741,     0.95748,     0.95755,     0.95762,     0.95769,     0.95777,     0.95784,     0.95791,     0.95798,     0.95805,     0.95812,     0.95819,     0.95827,     0.95834,     0.95841,     0.95848,     0.95855,     0.95862,      0.9587,     0.95862,     0.95826,      0.9579,     0.95754,\n",
      "            0.95717,     0.95681,     0.95623,     0.95553,     0.95483,     0.95471,     0.95482,     0.95493,     0.95504,     0.95515,     0.95526,     0.95537,     0.95548,     0.95559,      0.9557,     0.95581,     0.95592,     0.95603,     0.95614,     0.95625,     0.95636,     0.95647,     0.95679,\n",
      "             0.9573,     0.95781,     0.95832,     0.95731,     0.95632,     0.95622,     0.95613,     0.95603,     0.95594,     0.95584,     0.95574,     0.95565,     0.95555,     0.95545,     0.95536,     0.95526,     0.95516,     0.95507,     0.95497,     0.95487,     0.95478,     0.95468,     0.95458,\n",
      "            0.95449,     0.95439,     0.95429,     0.95422,     0.95414,     0.95407,       0.954,     0.95393,     0.95385,     0.95378,     0.95371,     0.95364,     0.95356,     0.95349,     0.95342,     0.95334,     0.95327,      0.9532,     0.95313,     0.95305,     0.95298,     0.95291,     0.95284,\n",
      "            0.95276,     0.95269,     0.95262,     0.95254,     0.95247,      0.9524,     0.95233,     0.95225,     0.95218,      0.9521,     0.95201,     0.95193,     0.95184,     0.95176,     0.95168,     0.95159,     0.95151,     0.95142,     0.95134,     0.95126,     0.95117,     0.95109,       0.951,\n",
      "            0.95092,     0.95084,     0.95075,     0.95067,     0.95058,      0.9505,     0.95042,     0.95033,     0.95025,     0.95016,     0.94998,     0.94947,     0.94897,     0.94846,     0.94784,     0.94628,      0.9456,     0.94522,     0.94484,     0.94445,     0.94407,     0.94375,     0.94365,\n",
      "            0.94355,     0.94345,     0.94335,     0.94325,     0.94315,     0.94305,     0.94295,     0.94285,     0.94275,     0.94265,     0.94255,     0.94244,     0.94234,     0.94224,     0.94214,     0.94204,     0.94194,     0.94184,     0.94174,     0.94164,     0.94157,      0.9415,     0.94143,\n",
      "            0.94136,     0.94129,     0.94122,     0.94115,     0.94107,       0.941,     0.94093,     0.94086,     0.94079,     0.94072,     0.94065,     0.94058,     0.94051,     0.94043,     0.94036,     0.94029,     0.94022,     0.94015,     0.94008,     0.94001,     0.93994,     0.93987,     0.93979,\n",
      "            0.93972,     0.93965,     0.93958,     0.93949,     0.93922,     0.93896,     0.93869,     0.93842,     0.93816,     0.93789,     0.93762,     0.93722,      0.9352,     0.93494,     0.93467,     0.93441,     0.93414,     0.93388,     0.93361,     0.93335,     0.93308,     0.93241,     0.93171,\n",
      "            0.93101,     0.92988,     0.92867,     0.92754,     0.92645,     0.92578,      0.9251,     0.92442,     0.92354,     0.92263,     0.92103,      0.9193,     0.91815,     0.91481,     0.91286,     0.91077,     0.90991,     0.90906,     0.90784,     0.90628,     0.90396,     0.90353,      0.9031,\n",
      "            0.90267,     0.90223,     0.90181,     0.90146,      0.9011,     0.90075,     0.90039,     0.90003,     0.89968,     0.89892,     0.89803,     0.89619,     0.89459,     0.89414,      0.8937,     0.89325,      0.8928,     0.89303,     0.89367,     0.89431,     0.89363,     0.89232,     0.89166,\n",
      "            0.89108,      0.8905,     0.88992,     0.88477,     0.88405,     0.88334,     0.88167,     0.87905,      0.8682,     0.86613,     0.86396,     0.86118,     0.85693,     0.85088,     0.84574,     0.84331,      0.8406,     0.83986,     0.83912,     0.83838,     0.83451,     0.82966,     0.82706,\n",
      "             0.8244,     0.82146,     0.81676,     0.81129,     0.80645,     0.80145,     0.79208,     0.78857,     0.78581,     0.77658,     0.77063,     0.76736,     0.76561,     0.76325,     0.75462,     0.74626,      0.7406,     0.73504,     0.72414,     0.70935,     0.70629,     0.69946,     0.69799,\n",
      "            0.69652,     0.68809,     0.68232,     0.67707,     0.66564,     0.66261,     0.65753,     0.65166,     0.63787,     0.62691,     0.61201,     0.60428,     0.59293,     0.58072,     0.55707,     0.54519,     0.53504,     0.53107,     0.52545,     0.49417,     0.48342,     0.45617,     0.44948,\n",
      "            0.42927,     0.40859,     0.38106,     0.34222,     0.31352,     0.29468,     0.26832,     0.25534,     0.24225,     0.21247,     0.19952,     0.18876,     0.17497,      0.1601,     0.13838,     0.13156,     0.11626,    0.098212,    0.072084,     0.06696,    0.050099,    0.041829,    0.035622,\n",
      "            0.02938,    0.026578,    0.023767,    0.010325,           0,           0,           0,           0,           0,           0,           0,           0,           0,           0,           0,           0,           0,           0,           0,           0,           0,           0,           0,\n",
      "                  0,           0,           0,           0,           0,           0,           0,           0,           0,           0,           0,           0,           0,           0,           0,           0,           0,           0,           0,           0,           0,           0,           0,\n",
      "                  0,           0,           0,           0,           0,           0,           0,           0,           0,           0,           0,           0,           0,           0,           0,           0,           0,           0,           0,           0,           0,           0,           0,\n",
      "                  0,           0,           0,           0,           0,           0,           0,           0,           0,           0,           0]]), 'Confidence', 'F1'], [array([          0,    0.001001,    0.002002,    0.003003,    0.004004,    0.005005,    0.006006,    0.007007,    0.008008,    0.009009,     0.01001,    0.011011,    0.012012,    0.013013,    0.014014,    0.015015,    0.016016,    0.017017,    0.018018,    0.019019,     0.02002,    0.021021,    0.022022,    0.023023,\n",
      "          0.024024,    0.025025,    0.026026,    0.027027,    0.028028,    0.029029,     0.03003,    0.031031,    0.032032,    0.033033,    0.034034,    0.035035,    0.036036,    0.037037,    0.038038,    0.039039,     0.04004,    0.041041,    0.042042,    0.043043,    0.044044,    0.045045,    0.046046,    0.047047,\n",
      "          0.048048,    0.049049,     0.05005,    0.051051,    0.052052,    0.053053,    0.054054,    0.055055,    0.056056,    0.057057,    0.058058,    0.059059,     0.06006,    0.061061,    0.062062,    0.063063,    0.064064,    0.065065,    0.066066,    0.067067,    0.068068,    0.069069,     0.07007,    0.071071,\n",
      "          0.072072,    0.073073,    0.074074,    0.075075,    0.076076,    0.077077,    0.078078,    0.079079,     0.08008,    0.081081,    0.082082,    0.083083,    0.084084,    0.085085,    0.086086,    0.087087,    0.088088,    0.089089,     0.09009,    0.091091,    0.092092,    0.093093,    0.094094,    0.095095,\n",
      "          0.096096,    0.097097,    0.098098,    0.099099,      0.1001,      0.1011,      0.1021,      0.1031,      0.1041,     0.10511,     0.10611,     0.10711,     0.10811,     0.10911,     0.11011,     0.11111,     0.11211,     0.11311,     0.11411,     0.11512,     0.11612,     0.11712,     0.11812,     0.11912,\n",
      "           0.12012,     0.12112,     0.12212,     0.12312,     0.12412,     0.12513,     0.12613,     0.12713,     0.12813,     0.12913,     0.13013,     0.13113,     0.13213,     0.13313,     0.13413,     0.13514,     0.13614,     0.13714,     0.13814,     0.13914,     0.14014,     0.14114,     0.14214,     0.14314,\n",
      "           0.14414,     0.14515,     0.14615,     0.14715,     0.14815,     0.14915,     0.15015,     0.15115,     0.15215,     0.15315,     0.15415,     0.15516,     0.15616,     0.15716,     0.15816,     0.15916,     0.16016,     0.16116,     0.16216,     0.16316,     0.16416,     0.16517,     0.16617,     0.16717,\n",
      "           0.16817,     0.16917,     0.17017,     0.17117,     0.17217,     0.17317,     0.17417,     0.17518,     0.17618,     0.17718,     0.17818,     0.17918,     0.18018,     0.18118,     0.18218,     0.18318,     0.18418,     0.18519,     0.18619,     0.18719,     0.18819,     0.18919,     0.19019,     0.19119,\n",
      "           0.19219,     0.19319,     0.19419,      0.1952,      0.1962,      0.1972,      0.1982,      0.1992,      0.2002,      0.2012,      0.2022,      0.2032,      0.2042,     0.20521,     0.20621,     0.20721,     0.20821,     0.20921,     0.21021,     0.21121,     0.21221,     0.21321,     0.21421,     0.21522,\n",
      "           0.21622,     0.21722,     0.21822,     0.21922,     0.22022,     0.22122,     0.22222,     0.22322,     0.22422,     0.22523,     0.22623,     0.22723,     0.22823,     0.22923,     0.23023,     0.23123,     0.23223,     0.23323,     0.23423,     0.23524,     0.23624,     0.23724,     0.23824,     0.23924,\n",
      "           0.24024,     0.24124,     0.24224,     0.24324,     0.24424,     0.24525,     0.24625,     0.24725,     0.24825,     0.24925,     0.25025,     0.25125,     0.25225,     0.25325,     0.25425,     0.25526,     0.25626,     0.25726,     0.25826,     0.25926,     0.26026,     0.26126,     0.26226,     0.26326,\n",
      "           0.26426,     0.26527,     0.26627,     0.26727,     0.26827,     0.26927,     0.27027,     0.27127,     0.27227,     0.27327,     0.27427,     0.27528,     0.27628,     0.27728,     0.27828,     0.27928,     0.28028,     0.28128,     0.28228,     0.28328,     0.28428,     0.28529,     0.28629,     0.28729,\n",
      "           0.28829,     0.28929,     0.29029,     0.29129,     0.29229,     0.29329,     0.29429,      0.2953,      0.2963,      0.2973,      0.2983,      0.2993,      0.3003,      0.3013,      0.3023,      0.3033,      0.3043,     0.30531,     0.30631,     0.30731,     0.30831,     0.30931,     0.31031,     0.31131,\n",
      "           0.31231,     0.31331,     0.31431,     0.31532,     0.31632,     0.31732,     0.31832,     0.31932,     0.32032,     0.32132,     0.32232,     0.32332,     0.32432,     0.32533,     0.32633,     0.32733,     0.32833,     0.32933,     0.33033,     0.33133,     0.33233,     0.33333,     0.33433,     0.33534,\n",
      "           0.33634,     0.33734,     0.33834,     0.33934,     0.34034,     0.34134,     0.34234,     0.34334,     0.34434,     0.34535,     0.34635,     0.34735,     0.34835,     0.34935,     0.35035,     0.35135,     0.35235,     0.35335,     0.35435,     0.35536,     0.35636,     0.35736,     0.35836,     0.35936,\n",
      "           0.36036,     0.36136,     0.36236,     0.36336,     0.36436,     0.36537,     0.36637,     0.36737,     0.36837,     0.36937,     0.37037,     0.37137,     0.37237,     0.37337,     0.37437,     0.37538,     0.37638,     0.37738,     0.37838,     0.37938,     0.38038,     0.38138,     0.38238,     0.38338,\n",
      "           0.38438,     0.38539,     0.38639,     0.38739,     0.38839,     0.38939,     0.39039,     0.39139,     0.39239,     0.39339,     0.39439,      0.3954,      0.3964,      0.3974,      0.3984,      0.3994,      0.4004,      0.4014,      0.4024,      0.4034,      0.4044,     0.40541,     0.40641,     0.40741,\n",
      "           0.40841,     0.40941,     0.41041,     0.41141,     0.41241,     0.41341,     0.41441,     0.41542,     0.41642,     0.41742,     0.41842,     0.41942,     0.42042,     0.42142,     0.42242,     0.42342,     0.42442,     0.42543,     0.42643,     0.42743,     0.42843,     0.42943,     0.43043,     0.43143,\n",
      "           0.43243,     0.43343,     0.43443,     0.43544,     0.43644,     0.43744,     0.43844,     0.43944,     0.44044,     0.44144,     0.44244,     0.44344,     0.44444,     0.44545,     0.44645,     0.44745,     0.44845,     0.44945,     0.45045,     0.45145,     0.45245,     0.45345,     0.45445,     0.45546,\n",
      "           0.45646,     0.45746,     0.45846,     0.45946,     0.46046,     0.46146,     0.46246,     0.46346,     0.46446,     0.46547,     0.46647,     0.46747,     0.46847,     0.46947,     0.47047,     0.47147,     0.47247,     0.47347,     0.47447,     0.47548,     0.47648,     0.47748,     0.47848,     0.47948,\n",
      "           0.48048,     0.48148,     0.48248,     0.48348,     0.48448,     0.48549,     0.48649,     0.48749,     0.48849,     0.48949,     0.49049,     0.49149,     0.49249,     0.49349,     0.49449,      0.4955,      0.4965,      0.4975,      0.4985,      0.4995,      0.5005,      0.5015,      0.5025,      0.5035,\n",
      "            0.5045,     0.50551,     0.50651,     0.50751,     0.50851,     0.50951,     0.51051,     0.51151,     0.51251,     0.51351,     0.51451,     0.51552,     0.51652,     0.51752,     0.51852,     0.51952,     0.52052,     0.52152,     0.52252,     0.52352,     0.52452,     0.52553,     0.52653,     0.52753,\n",
      "           0.52853,     0.52953,     0.53053,     0.53153,     0.53253,     0.53353,     0.53453,     0.53554,     0.53654,     0.53754,     0.53854,     0.53954,     0.54054,     0.54154,     0.54254,     0.54354,     0.54454,     0.54555,     0.54655,     0.54755,     0.54855,     0.54955,     0.55055,     0.55155,\n",
      "           0.55255,     0.55355,     0.55455,     0.55556,     0.55656,     0.55756,     0.55856,     0.55956,     0.56056,     0.56156,     0.56256,     0.56356,     0.56456,     0.56557,     0.56657,     0.56757,     0.56857,     0.56957,     0.57057,     0.57157,     0.57257,     0.57357,     0.57457,     0.57558,\n",
      "           0.57658,     0.57758,     0.57858,     0.57958,     0.58058,     0.58158,     0.58258,     0.58358,     0.58458,     0.58559,     0.58659,     0.58759,     0.58859,     0.58959,     0.59059,     0.59159,     0.59259,     0.59359,     0.59459,      0.5956,      0.5966,      0.5976,      0.5986,      0.5996,\n",
      "            0.6006,      0.6016,      0.6026,      0.6036,      0.6046,     0.60561,     0.60661,     0.60761,     0.60861,     0.60961,     0.61061,     0.61161,     0.61261,     0.61361,     0.61461,     0.61562,     0.61662,     0.61762,     0.61862,     0.61962,     0.62062,     0.62162,     0.62262,     0.62362,\n",
      "           0.62462,     0.62563,     0.62663,     0.62763,     0.62863,     0.62963,     0.63063,     0.63163,     0.63263,     0.63363,     0.63463,     0.63564,     0.63664,     0.63764,     0.63864,     0.63964,     0.64064,     0.64164,     0.64264,     0.64364,     0.64464,     0.64565,     0.64665,     0.64765,\n",
      "           0.64865,     0.64965,     0.65065,     0.65165,     0.65265,     0.65365,     0.65465,     0.65566,     0.65666,     0.65766,     0.65866,     0.65966,     0.66066,     0.66166,     0.66266,     0.66366,     0.66466,     0.66567,     0.66667,     0.66767,     0.66867,     0.66967,     0.67067,     0.67167,\n",
      "           0.67267,     0.67367,     0.67467,     0.67568,     0.67668,     0.67768,     0.67868,     0.67968,     0.68068,     0.68168,     0.68268,     0.68368,     0.68468,     0.68569,     0.68669,     0.68769,     0.68869,     0.68969,     0.69069,     0.69169,     0.69269,     0.69369,     0.69469,      0.6957,\n",
      "            0.6967,      0.6977,      0.6987,      0.6997,      0.7007,      0.7017,      0.7027,      0.7037,      0.7047,     0.70571,     0.70671,     0.70771,     0.70871,     0.70971,     0.71071,     0.71171,     0.71271,     0.71371,     0.71471,     0.71572,     0.71672,     0.71772,     0.71872,     0.71972,\n",
      "           0.72072,     0.72172,     0.72272,     0.72372,     0.72472,     0.72573,     0.72673,     0.72773,     0.72873,     0.72973,     0.73073,     0.73173,     0.73273,     0.73373,     0.73473,     0.73574,     0.73674,     0.73774,     0.73874,     0.73974,     0.74074,     0.74174,     0.74274,     0.74374,\n",
      "           0.74474,     0.74575,     0.74675,     0.74775,     0.74875,     0.74975,     0.75075,     0.75175,     0.75275,     0.75375,     0.75475,     0.75576,     0.75676,     0.75776,     0.75876,     0.75976,     0.76076,     0.76176,     0.76276,     0.76376,     0.76476,     0.76577,     0.76677,     0.76777,\n",
      "           0.76877,     0.76977,     0.77077,     0.77177,     0.77277,     0.77377,     0.77477,     0.77578,     0.77678,     0.77778,     0.77878,     0.77978,     0.78078,     0.78178,     0.78278,     0.78378,     0.78478,     0.78579,     0.78679,     0.78779,     0.78879,     0.78979,     0.79079,     0.79179,\n",
      "           0.79279,     0.79379,     0.79479,      0.7958,      0.7968,      0.7978,      0.7988,      0.7998,      0.8008,      0.8018,      0.8028,      0.8038,      0.8048,     0.80581,     0.80681,     0.80781,     0.80881,     0.80981,     0.81081,     0.81181,     0.81281,     0.81381,     0.81481,     0.81582,\n",
      "           0.81682,     0.81782,     0.81882,     0.81982,     0.82082,     0.82182,     0.82282,     0.82382,     0.82482,     0.82583,     0.82683,     0.82783,     0.82883,     0.82983,     0.83083,     0.83183,     0.83283,     0.83383,     0.83483,     0.83584,     0.83684,     0.83784,     0.83884,     0.83984,\n",
      "           0.84084,     0.84184,     0.84284,     0.84384,     0.84484,     0.84585,     0.84685,     0.84785,     0.84885,     0.84985,     0.85085,     0.85185,     0.85285,     0.85385,     0.85485,     0.85586,     0.85686,     0.85786,     0.85886,     0.85986,     0.86086,     0.86186,     0.86286,     0.86386,\n",
      "           0.86486,     0.86587,     0.86687,     0.86787,     0.86887,     0.86987,     0.87087,     0.87187,     0.87287,     0.87387,     0.87487,     0.87588,     0.87688,     0.87788,     0.87888,     0.87988,     0.88088,     0.88188,     0.88288,     0.88388,     0.88488,     0.88589,     0.88689,     0.88789,\n",
      "           0.88889,     0.88989,     0.89089,     0.89189,     0.89289,     0.89389,     0.89489,      0.8959,      0.8969,      0.8979,      0.8989,      0.8999,      0.9009,      0.9019,      0.9029,      0.9039,      0.9049,     0.90591,     0.90691,     0.90791,     0.90891,     0.90991,     0.91091,     0.91191,\n",
      "           0.91291,     0.91391,     0.91491,     0.91592,     0.91692,     0.91792,     0.91892,     0.91992,     0.92092,     0.92192,     0.92292,     0.92392,     0.92492,     0.92593,     0.92693,     0.92793,     0.92893,     0.92993,     0.93093,     0.93193,     0.93293,     0.93393,     0.93493,     0.93594,\n",
      "           0.93694,     0.93794,     0.93894,     0.93994,     0.94094,     0.94194,     0.94294,     0.94394,     0.94494,     0.94595,     0.94695,     0.94795,     0.94895,     0.94995,     0.95095,     0.95195,     0.95295,     0.95395,     0.95495,     0.95596,     0.95696,     0.95796,     0.95896,     0.95996,\n",
      "           0.96096,     0.96196,     0.96296,     0.96396,     0.96496,     0.96597,     0.96697,     0.96797,     0.96897,     0.96997,     0.97097,     0.97197,     0.97297,     0.97397,     0.97497,     0.97598,     0.97698,     0.97798,     0.97898,     0.97998,     0.98098,     0.98198,     0.98298,     0.98398,\n",
      "           0.98498,     0.98599,     0.98699,     0.98799,     0.98899,     0.98999,     0.99099,     0.99199,     0.99299,     0.99399,     0.99499,       0.996,       0.997,       0.998,       0.999,           1]), array([[    0.48679,     0.48679,     0.60578,     0.64943,     0.68728,     0.70669,     0.73322,     0.74627,     0.76267,     0.78362,     0.78968,     0.80024,     0.80699,     0.81476,     0.82177,     0.82285,     0.82363,     0.82319,     0.82815,     0.83034,     0.83476,     0.83922,     0.84035,\n",
      "            0.84148,     0.84764,     0.84932,     0.85223,     0.85371,     0.85474,     0.85588,     0.85848,     0.85975,     0.86097,     0.87034,     0.87194,     0.87582,     0.88132,     0.88536,     0.88524,     0.88511,     0.88546,      0.8871,     0.88858,     0.88981,     0.89103,     0.89496,\n",
      "            0.89729,      0.9016,     0.90274,     0.90388,     0.90514,      0.9064,     0.90727,     0.90758,     0.90789,      0.9082,     0.90851,     0.90882,     0.90913,     0.90944,     0.90975,     0.91006,     0.91037,     0.91079,     0.91121,     0.91163,     0.91206,     0.91248,      0.9129,\n",
      "            0.91332,     0.91447,     0.91715,     0.91757,       0.918,     0.91842,     0.91884,     0.91926,     0.91968,      0.9201,      0.9206,     0.92116,     0.92172,     0.92228,     0.92284,      0.9234,     0.92489,     0.92701,     0.92709,     0.92717,     0.92726,     0.92734,     0.92742,\n",
      "             0.9275,     0.92759,     0.92767,     0.92775,     0.92783,     0.92792,       0.928,     0.92808,     0.92816,     0.92824,     0.92833,     0.92841,     0.92849,     0.92857,     0.92866,     0.92874,     0.92882,      0.9289,     0.92899,     0.92907,     0.92915,     0.92923,     0.92932,\n",
      "             0.9294,     0.92948,     0.92956,     0.92964,     0.92973,     0.92981,     0.92989,     0.92997,     0.93006,     0.93014,     0.93022,      0.9303,     0.93039,     0.93023,     0.93053,     0.93111,      0.9317,     0.93229,     0.93288,     0.93347,     0.93417,     0.93491,     0.93564,\n",
      "            0.93638,     0.94052,     0.94064,     0.94076,     0.94087,     0.94099,      0.9411,     0.94122,     0.94134,     0.94145,     0.94157,     0.94169,      0.9418,     0.94192,     0.94203,     0.94215,     0.94227,     0.94238,      0.9425,     0.94262,     0.94273,     0.94285,     0.94296,\n",
      "            0.94308,      0.9432,     0.94331,     0.94343,     0.94355,     0.94366,     0.94378,     0.94389,     0.94401,     0.94429,     0.94461,     0.94492,     0.94523,     0.94555,     0.94586,     0.94617,     0.94649,      0.9468,     0.94711,     0.94743,     0.94764,     0.94778,     0.94791,\n",
      "            0.94805,     0.94819,     0.94832,     0.94846,      0.9486,     0.94873,     0.94887,       0.949,     0.94914,     0.94928,     0.94941,     0.94955,     0.94969,     0.94982,     0.94996,     0.95009,     0.95023,     0.95037,      0.9505,     0.95064,     0.95078,     0.95091,     0.95105,\n",
      "            0.95131,     0.95174,     0.95218,     0.95261,     0.95305,     0.95348,     0.95391,     0.95435,     0.95474,     0.95486,     0.95499,     0.95511,     0.95524,     0.95537,     0.95549,     0.95562,     0.95575,     0.95587,       0.956,     0.95612,     0.95625,     0.95638,      0.9565,\n",
      "            0.95663,     0.95675,     0.95688,     0.95701,     0.95713,     0.95726,     0.95738,     0.95751,     0.95764,     0.95776,     0.95789,     0.95802,     0.95814,     0.95827,     0.95847,     0.95874,     0.95902,     0.95929,     0.95957,     0.95984,     0.96012,     0.96039,     0.96067,\n",
      "            0.96094,     0.96122,     0.96149,     0.96177,     0.96197,     0.96196,     0.96195,     0.96194,     0.96192,     0.96191,      0.9619,     0.96188,     0.96187,     0.96186,     0.96185,     0.96183,     0.96194,     0.96205,     0.96216,     0.96227,     0.96238,      0.9625,     0.96261,\n",
      "            0.96272,     0.96283,     0.96294,     0.96305,     0.96316,     0.96327,     0.96339,      0.9635,     0.96361,     0.96372,     0.96383,     0.96394,     0.96405,     0.96417,     0.96428,     0.96439,      0.9645,     0.96461,     0.96472,     0.96483,     0.96495,     0.96506,     0.96517,\n",
      "            0.96528,     0.96539,      0.9655,     0.96551,     0.96551,      0.9655,      0.9655,     0.96549,     0.96549,     0.96548,     0.96548,     0.96547,     0.96546,     0.96546,     0.96545,     0.96545,     0.96544,     0.96544,     0.96543,     0.96543,     0.96542,     0.96542,     0.96541,\n",
      "            0.96541,      0.9654,      0.9654,     0.96539,     0.96538,     0.96543,     0.96548,     0.96554,     0.96559,     0.96564,     0.96569,     0.96574,     0.96579,     0.96584,     0.96589,     0.96594,     0.96599,     0.96604,     0.96609,     0.96614,     0.96619,     0.96624,     0.96629,\n",
      "            0.96634,     0.96639,     0.96644,     0.96649,     0.96654,     0.96659,     0.96664,     0.96669,     0.96674,     0.96679,     0.96684,     0.96689,     0.96694,     0.96699,     0.96704,     0.96709,     0.96714,     0.96719,     0.96724,     0.96729,     0.96734,     0.96739,     0.96745,\n",
      "             0.9675,     0.96755,      0.9676,     0.96765,      0.9677,     0.96775,      0.9678,     0.96785,      0.9679,     0.96795,       0.968,     0.96805,      0.9681,     0.96815,      0.9682,     0.96825,      0.9683,     0.96835,      0.9684,     0.96845,      0.9685,     0.96855,      0.9686,\n",
      "            0.96865,      0.9687,     0.96875,      0.9688,     0.96885,      0.9689,     0.96895,       0.969,     0.96905,      0.9691,     0.96911,      0.9691,      0.9691,     0.96909,     0.96908,     0.96908,     0.96907,     0.96907,     0.96906,     0.96905,     0.96905,     0.96904,     0.96904,\n",
      "            0.96903,     0.96903,     0.96902,     0.96901,     0.96901,       0.969,       0.969,     0.96899,     0.96898,     0.96898,     0.96897,     0.96897,     0.96896,     0.96895,     0.96895,     0.96894,     0.96893,     0.96893,     0.96892,     0.96891,     0.96891,      0.9689,     0.96889,\n",
      "            0.96889,     0.96888,     0.96887,     0.96907,     0.96947,     0.96987,     0.97027,     0.97067,     0.97108,     0.97148,     0.97188,     0.97228,     0.97267,     0.97285,     0.97304,     0.97322,      0.9734,     0.97359,     0.97377,     0.97395,     0.97414,     0.97432,      0.9745,\n",
      "            0.97468,     0.97487,     0.97505,     0.97523,     0.97542,      0.9756,     0.97578,     0.97597,     0.97615,     0.97633,     0.97647,     0.97647,     0.97646,     0.97646,     0.97646,     0.97646,     0.97645,     0.97645,     0.97645,     0.97645,     0.97644,     0.97644,     0.97644,\n",
      "            0.97644,     0.97643,     0.97643,     0.97643,     0.97643,     0.97642,     0.97642,     0.97642,     0.97642,     0.97641,     0.97641,     0.97641,     0.97641,      0.9764,      0.9764,      0.9764,     0.97639,     0.97639,     0.97639,     0.97639,     0.97638,     0.97638,     0.97638,\n",
      "            0.97636,     0.97634,     0.97631,     0.97629,     0.97626,     0.97624,     0.97621,     0.97619,     0.97618,     0.97616,     0.97615,     0.97614,     0.97613,     0.97611,      0.9761,     0.97634,     0.97686,     0.97737,     0.97788,     0.97839,     0.97891,     0.97942,     0.97993,\n",
      "             0.9801,     0.98021,     0.98033,     0.98044,     0.98055,     0.98067,     0.98078,     0.98089,     0.98101,     0.98112,     0.98124,     0.98135,     0.98146,     0.98158,     0.98169,     0.98181,     0.98192,     0.98203,     0.98215,     0.98226,     0.98237,     0.98249,      0.9826,\n",
      "            0.98272,     0.98283,     0.98294,     0.98306,     0.98317,     0.98328,      0.9834,     0.98351,     0.98363,     0.98374,     0.98385,     0.98393,     0.98392,      0.9839,     0.98389,     0.98388,     0.98396,     0.98411,     0.98426,     0.98441,     0.98457,     0.98472,     0.98487,\n",
      "            0.98502,     0.98517,     0.98533,     0.98548,     0.98563,     0.98578,     0.98593,     0.98608,     0.98624,     0.98639,     0.98654,     0.98669,     0.98684,       0.987,     0.98715,      0.9873,     0.98745,      0.9876,     0.98775,     0.98785,     0.98784,     0.98783,     0.98783,\n",
      "            0.98782,     0.98781,     0.98779,     0.98778,     0.98776,     0.98793,     0.98816,      0.9884,     0.98863,     0.98887,      0.9891,     0.98934,     0.98957,     0.98981,     0.99004,     0.99028,     0.99051,     0.99075,     0.99098,     0.99122,     0.99145,     0.99169,     0.99237,\n",
      "            0.99348,     0.99458,     0.99568,     0.99588,     0.99587,     0.99587,     0.99587,     0.99587,     0.99586,     0.99586,     0.99586,     0.99586,     0.99586,     0.99586,     0.99586,     0.99586,     0.99586,     0.99586,     0.99586,     0.99586,     0.99585,     0.99585,     0.99585,\n",
      "            0.99585,     0.99585,     0.99585,     0.99585,     0.99585,     0.99585,     0.99585,     0.99585,     0.99585,     0.99585,     0.99585,     0.99585,     0.99584,     0.99584,     0.99584,     0.99584,     0.99584,     0.99584,     0.99584,     0.99584,     0.99584,     0.99584,     0.99584,\n",
      "            0.99584,     0.99584,     0.99584,     0.99584,     0.99584,     0.99584,     0.99583,     0.99583,     0.99583,     0.99583,     0.99583,     0.99583,     0.99583,     0.99583,     0.99583,     0.99583,     0.99583,     0.99583,     0.99583,     0.99583,     0.99582,     0.99582,     0.99582,\n",
      "            0.99582,     0.99582,     0.99582,     0.99582,     0.99582,     0.99582,     0.99582,     0.99582,     0.99582,     0.99582,     0.99581,     0.99581,     0.99581,      0.9958,      0.9958,     0.99578,     0.99578,     0.99577,     0.99577,     0.99577,     0.99577,     0.99576,     0.99576,\n",
      "            0.99576,     0.99576,     0.99576,     0.99576,     0.99576,     0.99576,     0.99576,     0.99575,     0.99575,     0.99575,     0.99575,     0.99575,     0.99575,     0.99575,     0.99575,     0.99575,     0.99575,     0.99575,     0.99575,     0.99574,     0.99574,     0.99574,     0.99574,\n",
      "            0.99574,     0.99574,     0.99574,     0.99574,     0.99574,     0.99574,     0.99574,     0.99574,     0.99574,     0.99574,     0.99574,     0.99574,     0.99573,     0.99573,     0.99573,     0.99573,     0.99573,     0.99573,     0.99573,     0.99573,     0.99573,     0.99573,     0.99573,\n",
      "            0.99573,     0.99573,     0.99573,     0.99573,     0.99572,     0.99572,     0.99572,     0.99572,     0.99571,     0.99571,     0.99571,     0.99571,     0.99569,     0.99569,     0.99568,     0.99568,     0.99568,     0.99568,     0.99568,     0.99567,     0.99567,     0.99567,     0.99566,\n",
      "            0.99565,     0.99564,     0.99563,     0.99562,     0.99561,     0.99561,      0.9956,      0.9956,     0.99559,     0.99558,     0.99557,     0.99555,     0.99554,     0.99551,     0.99549,     0.99547,     0.99547,     0.99546,     0.99545,     0.99543,     0.99541,     0.99541,      0.9954,\n",
      "             0.9954,     0.99539,     0.99539,     0.99539,     0.99538,     0.99538,     0.99538,     0.99537,     0.99537,     0.99536,     0.99536,     0.99534,     0.99532,     0.99532,     0.99532,     0.99531,     0.99531,     0.99631,      0.9979,     0.99949,           1,           1,           1,\n",
      "                  1,           1,           1,           1,           1,           1,           1,           1,           1,           1,           1,           1,           1,           1,           1,           1,           1,           1,           1,           1,           1,           1,           1,\n",
      "                  1,           1,           1,           1,           1,           1,           1,           1,           1,           1,           1,           1,           1,           1,           1,           1,           1,           1,           1,           1,           1,           1,           1,\n",
      "                  1,           1,           1,           1,           1,           1,           1,           1,           1,           1,           1,           1,           1,           1,           1,           1,           1,           1,           1,           1,           1,           1,           1,\n",
      "                  1,           1,           1,           1,           1,           1,           1,           1,           1,           1,           1,           1,           1,           1,           1,           1,           1,           1,           1,           1,           1,           1,           1,\n",
      "                  1,           1,           1,           1,           1,           1,           1,           1,           1,           1,           1,           1,           1,           1,           1,           1,           1,           1,           1,           1,           1,           1,           1,\n",
      "                  1,           1,           1,           1,           1,           1,           1,           1,           1,           1,           1,           1,           1,           1,           1,           1,           1,           1,           1,           1,           1,           1,           1,\n",
      "                  1,           1,           1,           1,           1,           1,           1,           1,           1,           1,           1,           1,           1,           1,           1,           1,           1,           1,           1,           1,           1,           1,           1,\n",
      "                  1,           1,           1,           1,           1,           1,           1,           1,           1,           1,           1]]), 'Confidence', 'Precision'], [array([          0,    0.001001,    0.002002,    0.003003,    0.004004,    0.005005,    0.006006,    0.007007,    0.008008,    0.009009,     0.01001,    0.011011,    0.012012,    0.013013,    0.014014,    0.015015,    0.016016,    0.017017,    0.018018,    0.019019,     0.02002,    0.021021,    0.022022,    0.023023,\n",
      "          0.024024,    0.025025,    0.026026,    0.027027,    0.028028,    0.029029,     0.03003,    0.031031,    0.032032,    0.033033,    0.034034,    0.035035,    0.036036,    0.037037,    0.038038,    0.039039,     0.04004,    0.041041,    0.042042,    0.043043,    0.044044,    0.045045,    0.046046,    0.047047,\n",
      "          0.048048,    0.049049,     0.05005,    0.051051,    0.052052,    0.053053,    0.054054,    0.055055,    0.056056,    0.057057,    0.058058,    0.059059,     0.06006,    0.061061,    0.062062,    0.063063,    0.064064,    0.065065,    0.066066,    0.067067,    0.068068,    0.069069,     0.07007,    0.071071,\n",
      "          0.072072,    0.073073,    0.074074,    0.075075,    0.076076,    0.077077,    0.078078,    0.079079,     0.08008,    0.081081,    0.082082,    0.083083,    0.084084,    0.085085,    0.086086,    0.087087,    0.088088,    0.089089,     0.09009,    0.091091,    0.092092,    0.093093,    0.094094,    0.095095,\n",
      "          0.096096,    0.097097,    0.098098,    0.099099,      0.1001,      0.1011,      0.1021,      0.1031,      0.1041,     0.10511,     0.10611,     0.10711,     0.10811,     0.10911,     0.11011,     0.11111,     0.11211,     0.11311,     0.11411,     0.11512,     0.11612,     0.11712,     0.11812,     0.11912,\n",
      "           0.12012,     0.12112,     0.12212,     0.12312,     0.12412,     0.12513,     0.12613,     0.12713,     0.12813,     0.12913,     0.13013,     0.13113,     0.13213,     0.13313,     0.13413,     0.13514,     0.13614,     0.13714,     0.13814,     0.13914,     0.14014,     0.14114,     0.14214,     0.14314,\n",
      "           0.14414,     0.14515,     0.14615,     0.14715,     0.14815,     0.14915,     0.15015,     0.15115,     0.15215,     0.15315,     0.15415,     0.15516,     0.15616,     0.15716,     0.15816,     0.15916,     0.16016,     0.16116,     0.16216,     0.16316,     0.16416,     0.16517,     0.16617,     0.16717,\n",
      "           0.16817,     0.16917,     0.17017,     0.17117,     0.17217,     0.17317,     0.17417,     0.17518,     0.17618,     0.17718,     0.17818,     0.17918,     0.18018,     0.18118,     0.18218,     0.18318,     0.18418,     0.18519,     0.18619,     0.18719,     0.18819,     0.18919,     0.19019,     0.19119,\n",
      "           0.19219,     0.19319,     0.19419,      0.1952,      0.1962,      0.1972,      0.1982,      0.1992,      0.2002,      0.2012,      0.2022,      0.2032,      0.2042,     0.20521,     0.20621,     0.20721,     0.20821,     0.20921,     0.21021,     0.21121,     0.21221,     0.21321,     0.21421,     0.21522,\n",
      "           0.21622,     0.21722,     0.21822,     0.21922,     0.22022,     0.22122,     0.22222,     0.22322,     0.22422,     0.22523,     0.22623,     0.22723,     0.22823,     0.22923,     0.23023,     0.23123,     0.23223,     0.23323,     0.23423,     0.23524,     0.23624,     0.23724,     0.23824,     0.23924,\n",
      "           0.24024,     0.24124,     0.24224,     0.24324,     0.24424,     0.24525,     0.24625,     0.24725,     0.24825,     0.24925,     0.25025,     0.25125,     0.25225,     0.25325,     0.25425,     0.25526,     0.25626,     0.25726,     0.25826,     0.25926,     0.26026,     0.26126,     0.26226,     0.26326,\n",
      "           0.26426,     0.26527,     0.26627,     0.26727,     0.26827,     0.26927,     0.27027,     0.27127,     0.27227,     0.27327,     0.27427,     0.27528,     0.27628,     0.27728,     0.27828,     0.27928,     0.28028,     0.28128,     0.28228,     0.28328,     0.28428,     0.28529,     0.28629,     0.28729,\n",
      "           0.28829,     0.28929,     0.29029,     0.29129,     0.29229,     0.29329,     0.29429,      0.2953,      0.2963,      0.2973,      0.2983,      0.2993,      0.3003,      0.3013,      0.3023,      0.3033,      0.3043,     0.30531,     0.30631,     0.30731,     0.30831,     0.30931,     0.31031,     0.31131,\n",
      "           0.31231,     0.31331,     0.31431,     0.31532,     0.31632,     0.31732,     0.31832,     0.31932,     0.32032,     0.32132,     0.32232,     0.32332,     0.32432,     0.32533,     0.32633,     0.32733,     0.32833,     0.32933,     0.33033,     0.33133,     0.33233,     0.33333,     0.33433,     0.33534,\n",
      "           0.33634,     0.33734,     0.33834,     0.33934,     0.34034,     0.34134,     0.34234,     0.34334,     0.34434,     0.34535,     0.34635,     0.34735,     0.34835,     0.34935,     0.35035,     0.35135,     0.35235,     0.35335,     0.35435,     0.35536,     0.35636,     0.35736,     0.35836,     0.35936,\n",
      "           0.36036,     0.36136,     0.36236,     0.36336,     0.36436,     0.36537,     0.36637,     0.36737,     0.36837,     0.36937,     0.37037,     0.37137,     0.37237,     0.37337,     0.37437,     0.37538,     0.37638,     0.37738,     0.37838,     0.37938,     0.38038,     0.38138,     0.38238,     0.38338,\n",
      "           0.38438,     0.38539,     0.38639,     0.38739,     0.38839,     0.38939,     0.39039,     0.39139,     0.39239,     0.39339,     0.39439,      0.3954,      0.3964,      0.3974,      0.3984,      0.3994,      0.4004,      0.4014,      0.4024,      0.4034,      0.4044,     0.40541,     0.40641,     0.40741,\n",
      "           0.40841,     0.40941,     0.41041,     0.41141,     0.41241,     0.41341,     0.41441,     0.41542,     0.41642,     0.41742,     0.41842,     0.41942,     0.42042,     0.42142,     0.42242,     0.42342,     0.42442,     0.42543,     0.42643,     0.42743,     0.42843,     0.42943,     0.43043,     0.43143,\n",
      "           0.43243,     0.43343,     0.43443,     0.43544,     0.43644,     0.43744,     0.43844,     0.43944,     0.44044,     0.44144,     0.44244,     0.44344,     0.44444,     0.44545,     0.44645,     0.44745,     0.44845,     0.44945,     0.45045,     0.45145,     0.45245,     0.45345,     0.45445,     0.45546,\n",
      "           0.45646,     0.45746,     0.45846,     0.45946,     0.46046,     0.46146,     0.46246,     0.46346,     0.46446,     0.46547,     0.46647,     0.46747,     0.46847,     0.46947,     0.47047,     0.47147,     0.47247,     0.47347,     0.47447,     0.47548,     0.47648,     0.47748,     0.47848,     0.47948,\n",
      "           0.48048,     0.48148,     0.48248,     0.48348,     0.48448,     0.48549,     0.48649,     0.48749,     0.48849,     0.48949,     0.49049,     0.49149,     0.49249,     0.49349,     0.49449,      0.4955,      0.4965,      0.4975,      0.4985,      0.4995,      0.5005,      0.5015,      0.5025,      0.5035,\n",
      "            0.5045,     0.50551,     0.50651,     0.50751,     0.50851,     0.50951,     0.51051,     0.51151,     0.51251,     0.51351,     0.51451,     0.51552,     0.51652,     0.51752,     0.51852,     0.51952,     0.52052,     0.52152,     0.52252,     0.52352,     0.52452,     0.52553,     0.52653,     0.52753,\n",
      "           0.52853,     0.52953,     0.53053,     0.53153,     0.53253,     0.53353,     0.53453,     0.53554,     0.53654,     0.53754,     0.53854,     0.53954,     0.54054,     0.54154,     0.54254,     0.54354,     0.54454,     0.54555,     0.54655,     0.54755,     0.54855,     0.54955,     0.55055,     0.55155,\n",
      "           0.55255,     0.55355,     0.55455,     0.55556,     0.55656,     0.55756,     0.55856,     0.55956,     0.56056,     0.56156,     0.56256,     0.56356,     0.56456,     0.56557,     0.56657,     0.56757,     0.56857,     0.56957,     0.57057,     0.57157,     0.57257,     0.57357,     0.57457,     0.57558,\n",
      "           0.57658,     0.57758,     0.57858,     0.57958,     0.58058,     0.58158,     0.58258,     0.58358,     0.58458,     0.58559,     0.58659,     0.58759,     0.58859,     0.58959,     0.59059,     0.59159,     0.59259,     0.59359,     0.59459,      0.5956,      0.5966,      0.5976,      0.5986,      0.5996,\n",
      "            0.6006,      0.6016,      0.6026,      0.6036,      0.6046,     0.60561,     0.60661,     0.60761,     0.60861,     0.60961,     0.61061,     0.61161,     0.61261,     0.61361,     0.61461,     0.61562,     0.61662,     0.61762,     0.61862,     0.61962,     0.62062,     0.62162,     0.62262,     0.62362,\n",
      "           0.62462,     0.62563,     0.62663,     0.62763,     0.62863,     0.62963,     0.63063,     0.63163,     0.63263,     0.63363,     0.63463,     0.63564,     0.63664,     0.63764,     0.63864,     0.63964,     0.64064,     0.64164,     0.64264,     0.64364,     0.64464,     0.64565,     0.64665,     0.64765,\n",
      "           0.64865,     0.64965,     0.65065,     0.65165,     0.65265,     0.65365,     0.65465,     0.65566,     0.65666,     0.65766,     0.65866,     0.65966,     0.66066,     0.66166,     0.66266,     0.66366,     0.66466,     0.66567,     0.66667,     0.66767,     0.66867,     0.66967,     0.67067,     0.67167,\n",
      "           0.67267,     0.67367,     0.67467,     0.67568,     0.67668,     0.67768,     0.67868,     0.67968,     0.68068,     0.68168,     0.68268,     0.68368,     0.68468,     0.68569,     0.68669,     0.68769,     0.68869,     0.68969,     0.69069,     0.69169,     0.69269,     0.69369,     0.69469,      0.6957,\n",
      "            0.6967,      0.6977,      0.6987,      0.6997,      0.7007,      0.7017,      0.7027,      0.7037,      0.7047,     0.70571,     0.70671,     0.70771,     0.70871,     0.70971,     0.71071,     0.71171,     0.71271,     0.71371,     0.71471,     0.71572,     0.71672,     0.71772,     0.71872,     0.71972,\n",
      "           0.72072,     0.72172,     0.72272,     0.72372,     0.72472,     0.72573,     0.72673,     0.72773,     0.72873,     0.72973,     0.73073,     0.73173,     0.73273,     0.73373,     0.73473,     0.73574,     0.73674,     0.73774,     0.73874,     0.73974,     0.74074,     0.74174,     0.74274,     0.74374,\n",
      "           0.74474,     0.74575,     0.74675,     0.74775,     0.74875,     0.74975,     0.75075,     0.75175,     0.75275,     0.75375,     0.75475,     0.75576,     0.75676,     0.75776,     0.75876,     0.75976,     0.76076,     0.76176,     0.76276,     0.76376,     0.76476,     0.76577,     0.76677,     0.76777,\n",
      "           0.76877,     0.76977,     0.77077,     0.77177,     0.77277,     0.77377,     0.77477,     0.77578,     0.77678,     0.77778,     0.77878,     0.77978,     0.78078,     0.78178,     0.78278,     0.78378,     0.78478,     0.78579,     0.78679,     0.78779,     0.78879,     0.78979,     0.79079,     0.79179,\n",
      "           0.79279,     0.79379,     0.79479,      0.7958,      0.7968,      0.7978,      0.7988,      0.7998,      0.8008,      0.8018,      0.8028,      0.8038,      0.8048,     0.80581,     0.80681,     0.80781,     0.80881,     0.80981,     0.81081,     0.81181,     0.81281,     0.81381,     0.81481,     0.81582,\n",
      "           0.81682,     0.81782,     0.81882,     0.81982,     0.82082,     0.82182,     0.82282,     0.82382,     0.82482,     0.82583,     0.82683,     0.82783,     0.82883,     0.82983,     0.83083,     0.83183,     0.83283,     0.83383,     0.83483,     0.83584,     0.83684,     0.83784,     0.83884,     0.83984,\n",
      "           0.84084,     0.84184,     0.84284,     0.84384,     0.84484,     0.84585,     0.84685,     0.84785,     0.84885,     0.84985,     0.85085,     0.85185,     0.85285,     0.85385,     0.85485,     0.85586,     0.85686,     0.85786,     0.85886,     0.85986,     0.86086,     0.86186,     0.86286,     0.86386,\n",
      "           0.86486,     0.86587,     0.86687,     0.86787,     0.86887,     0.86987,     0.87087,     0.87187,     0.87287,     0.87387,     0.87487,     0.87588,     0.87688,     0.87788,     0.87888,     0.87988,     0.88088,     0.88188,     0.88288,     0.88388,     0.88488,     0.88589,     0.88689,     0.88789,\n",
      "           0.88889,     0.88989,     0.89089,     0.89189,     0.89289,     0.89389,     0.89489,      0.8959,      0.8969,      0.8979,      0.8989,      0.8999,      0.9009,      0.9019,      0.9029,      0.9039,      0.9049,     0.90591,     0.90691,     0.90791,     0.90891,     0.90991,     0.91091,     0.91191,\n",
      "           0.91291,     0.91391,     0.91491,     0.91592,     0.91692,     0.91792,     0.91892,     0.91992,     0.92092,     0.92192,     0.92292,     0.92392,     0.92492,     0.92593,     0.92693,     0.92793,     0.92893,     0.92993,     0.93093,     0.93193,     0.93293,     0.93393,     0.93493,     0.93594,\n",
      "           0.93694,     0.93794,     0.93894,     0.93994,     0.94094,     0.94194,     0.94294,     0.94394,     0.94494,     0.94595,     0.94695,     0.94795,     0.94895,     0.94995,     0.95095,     0.95195,     0.95295,     0.95395,     0.95495,     0.95596,     0.95696,     0.95796,     0.95896,     0.95996,\n",
      "           0.96096,     0.96196,     0.96296,     0.96396,     0.96496,     0.96597,     0.96697,     0.96797,     0.96897,     0.96997,     0.97097,     0.97197,     0.97297,     0.97397,     0.97497,     0.97598,     0.97698,     0.97798,     0.97898,     0.97998,     0.98098,     0.98198,     0.98298,     0.98398,\n",
      "           0.98498,     0.98599,     0.98699,     0.98799,     0.98899,     0.98999,     0.99099,     0.99199,     0.99299,     0.99399,     0.99499,       0.996,       0.997,       0.998,       0.999,           1]), array([[    0.98473,     0.98473,     0.98473,     0.98092,     0.98092,     0.98092,     0.98092,     0.98092,     0.98092,     0.98092,     0.98092,     0.98092,     0.98092,     0.98092,     0.98092,     0.98092,     0.98035,     0.97738,     0.97328,     0.97328,     0.97328,     0.97328,     0.97328,\n",
      "            0.97328,     0.97328,     0.97328,     0.97328,     0.97328,     0.97328,     0.97328,     0.97328,     0.97328,     0.97328,     0.97328,     0.97328,     0.97328,     0.97328,     0.97277,     0.97156,     0.97035,     0.96947,     0.96947,     0.96947,     0.96947,     0.96947,     0.96947,\n",
      "            0.96947,     0.96947,     0.96947,     0.96947,     0.96947,     0.96947,     0.96947,     0.96947,     0.96947,     0.96947,     0.96947,     0.96947,     0.96947,     0.96947,     0.96947,     0.96947,     0.96947,     0.96947,     0.96947,     0.96947,     0.96947,     0.96947,     0.96947,\n",
      "            0.96947,     0.96947,     0.96947,     0.96947,     0.96947,     0.96947,     0.96947,     0.96947,     0.96947,     0.96947,     0.96947,     0.96947,     0.96947,     0.96947,     0.96947,     0.96947,     0.96947,     0.96947,     0.96947,     0.96947,     0.96947,     0.96947,     0.96947,\n",
      "            0.96947,     0.96947,     0.96947,     0.96947,     0.96947,     0.96947,     0.96947,     0.96947,     0.96947,     0.96947,     0.96947,     0.96947,     0.96947,     0.96947,     0.96947,     0.96947,     0.96947,     0.96947,     0.96947,     0.96947,     0.96947,     0.96947,     0.96947,\n",
      "            0.96947,     0.96947,     0.96947,     0.96947,     0.96947,     0.96947,     0.96947,     0.96947,     0.96947,     0.96947,     0.96947,     0.96947,     0.96947,     0.96683,     0.96565,     0.96565,     0.96565,     0.96565,     0.96565,     0.96565,     0.96565,     0.96565,     0.96565,\n",
      "            0.96565,     0.96565,     0.96565,     0.96565,     0.96565,     0.96565,     0.96565,     0.96565,     0.96565,     0.96565,     0.96565,     0.96565,     0.96565,     0.96565,     0.96565,     0.96565,     0.96565,     0.96565,     0.96565,     0.96565,     0.96565,     0.96565,     0.96565,\n",
      "            0.96565,     0.96565,     0.96565,     0.96565,     0.96565,     0.96565,     0.96565,     0.96565,     0.96565,     0.96565,     0.96565,     0.96565,     0.96565,     0.96565,     0.96565,     0.96565,     0.96565,     0.96565,     0.96565,     0.96565,     0.96565,     0.96565,     0.96565,\n",
      "            0.96565,     0.96565,     0.96565,     0.96565,     0.96565,     0.96565,     0.96565,     0.96565,     0.96565,     0.96565,     0.96565,     0.96565,     0.96565,     0.96565,     0.96565,     0.96565,     0.96565,     0.96565,     0.96565,     0.96565,     0.96565,     0.96565,     0.96565,\n",
      "            0.96565,     0.96565,     0.96565,     0.96565,     0.96565,     0.96565,     0.96565,     0.96565,     0.96565,     0.96565,     0.96565,     0.96565,     0.96565,     0.96565,     0.96565,     0.96565,     0.96565,     0.96565,     0.96565,     0.96565,     0.96565,     0.96565,     0.96565,\n",
      "            0.96565,     0.96565,     0.96565,     0.96565,     0.96565,     0.96565,     0.96565,     0.96565,     0.96565,     0.96565,     0.96565,     0.96565,     0.96565,     0.96565,     0.96565,     0.96565,     0.96565,     0.96565,     0.96565,     0.96565,     0.96565,     0.96565,     0.96565,\n",
      "            0.96565,     0.96565,     0.96565,     0.96565,     0.96557,     0.96523,     0.96489,     0.96455,     0.96421,     0.96388,     0.96354,      0.9632,     0.96286,     0.96252,     0.96219,     0.96185,     0.96183,     0.96183,     0.96183,     0.96183,     0.96183,     0.96183,     0.96183,\n",
      "            0.96183,     0.96183,     0.96183,     0.96183,     0.96183,     0.96183,     0.96183,     0.96183,     0.96183,     0.96183,     0.96183,     0.96183,     0.96183,     0.96183,     0.96183,     0.96183,     0.96183,     0.96183,     0.96183,     0.96183,     0.96183,     0.96183,     0.96183,\n",
      "            0.96183,     0.96183,     0.96183,      0.9617,     0.96155,     0.96139,     0.96124,     0.96109,     0.96093,     0.96078,     0.96062,     0.96047,     0.96032,     0.96016,     0.96001,     0.95986,      0.9597,     0.95955,      0.9594,     0.95924,     0.95909,     0.95894,     0.95878,\n",
      "            0.95863,     0.95848,     0.95832,     0.95817,     0.95802,     0.95802,     0.95802,     0.95802,     0.95802,     0.95802,     0.95802,     0.95802,     0.95802,     0.95802,     0.95802,     0.95802,     0.95802,     0.95802,     0.95802,     0.95802,     0.95802,     0.95802,     0.95802,\n",
      "            0.95802,     0.95802,     0.95802,     0.95802,     0.95802,     0.95802,     0.95802,     0.95802,     0.95802,     0.95802,     0.95802,     0.95802,     0.95802,     0.95802,     0.95802,     0.95802,     0.95802,     0.95802,     0.95802,     0.95802,     0.95802,     0.95802,     0.95802,\n",
      "            0.95802,     0.95802,     0.95802,     0.95802,     0.95802,     0.95802,     0.95802,     0.95802,     0.95802,     0.95802,     0.95802,     0.95802,     0.95802,     0.95802,     0.95802,     0.95802,     0.95802,     0.95802,     0.95802,     0.95802,     0.95802,     0.95802,     0.95802,\n",
      "            0.95802,     0.95802,     0.95802,     0.95802,     0.95802,     0.95802,     0.95802,     0.95802,     0.95802,     0.95802,     0.95786,     0.95768,     0.95749,     0.95731,     0.95712,     0.95694,     0.95675,     0.95657,     0.95638,      0.9562,     0.95601,     0.95583,     0.95564,\n",
      "            0.95546,     0.95527,     0.95509,      0.9549,     0.95472,     0.95453,     0.95435,     0.95416,     0.95396,     0.95375,     0.95355,     0.95335,     0.95314,     0.95294,     0.95273,     0.95253,     0.95232,     0.95212,     0.95192,     0.95171,     0.95151,      0.9513,      0.9511,\n",
      "             0.9509,     0.95069,     0.95049,     0.95038,     0.95038,     0.95038,     0.95038,     0.95038,     0.95038,     0.95038,     0.95038,     0.95038,     0.95038,     0.95038,     0.95038,     0.95038,     0.95038,     0.95038,     0.95038,     0.95038,     0.95038,     0.95038,     0.95038,\n",
      "            0.95038,     0.95038,     0.95038,     0.95038,     0.95038,     0.95038,     0.95038,     0.95038,     0.95038,     0.95038,     0.95036,     0.95025,     0.95014,     0.95003,     0.94993,     0.94982,     0.94971,     0.94961,      0.9495,     0.94939,     0.94928,     0.94918,     0.94907,\n",
      "            0.94896,     0.94886,     0.94875,     0.94864,     0.94854,     0.94843,     0.94832,     0.94821,     0.94811,       0.948,     0.94789,     0.94779,     0.94768,     0.94757,     0.94747,     0.94736,     0.94725,     0.94714,     0.94704,     0.94693,     0.94682,     0.94672,     0.94661,\n",
      "            0.94598,     0.94499,     0.94399,     0.94299,     0.94195,     0.94089,     0.93983,     0.93886,     0.93836,     0.93786,     0.93736,     0.93687,     0.93637,     0.93587,     0.93537,     0.93511,     0.93511,     0.93511,     0.93511,     0.93511,     0.93511,     0.93511,     0.93511,\n",
      "            0.93511,     0.93511,     0.93511,     0.93511,     0.93511,     0.93511,     0.93511,     0.93511,     0.93511,     0.93511,     0.93511,     0.93511,     0.93511,     0.93511,     0.93511,     0.93511,     0.93511,     0.93511,     0.93511,     0.93511,     0.93511,     0.93511,     0.93511,\n",
      "            0.93511,     0.93511,     0.93511,     0.93511,     0.93511,     0.93511,     0.93511,     0.93511,     0.93511,     0.93511,     0.93511,     0.93489,     0.93408,     0.93326,     0.93245,     0.93164,      0.9313,      0.9313,      0.9313,      0.9313,      0.9313,      0.9313,      0.9313,\n",
      "             0.9313,      0.9313,      0.9313,      0.9313,      0.9313,      0.9313,      0.9313,      0.9313,      0.9313,      0.9313,      0.9313,      0.9313,      0.9313,      0.9313,      0.9313,      0.9313,      0.9313,      0.9313,      0.9313,     0.93107,     0.93039,     0.92972,     0.92905,\n",
      "            0.92838,      0.9277,     0.92661,     0.92532,     0.92402,     0.92366,     0.92366,     0.92366,     0.92366,     0.92366,     0.92366,     0.92366,     0.92366,     0.92366,     0.92366,     0.92366,     0.92366,     0.92366,     0.92366,     0.92366,     0.92366,     0.92366,     0.92366,\n",
      "            0.92366,     0.92366,     0.92366,     0.92162,      0.9198,     0.91962,     0.91944,     0.91926,     0.91908,     0.91891,     0.91873,     0.91855,     0.91837,      0.9182,     0.91802,     0.91784,     0.91766,     0.91749,     0.91731,     0.91713,     0.91695,     0.91678,      0.9166,\n",
      "            0.91642,     0.91624,     0.91606,     0.91592,     0.91579,     0.91566,     0.91552,     0.91539,     0.91526,     0.91512,     0.91499,     0.91486,     0.91472,     0.91459,     0.91446,     0.91433,     0.91419,     0.91406,     0.91393,     0.91379,     0.91366,     0.91353,     0.91339,\n",
      "            0.91326,     0.91313,     0.91299,     0.91286,     0.91273,     0.91259,     0.91246,     0.91233,     0.91219,     0.91204,     0.91189,     0.91173,     0.91158,     0.91143,     0.91127,     0.91112,     0.91097,     0.91081,     0.91066,     0.91051,     0.91035,      0.9102,     0.91005,\n",
      "            0.90989,     0.90974,     0.90959,     0.90943,     0.90928,     0.90913,     0.90897,     0.90882,     0.90867,     0.90851,     0.90818,     0.90726,     0.90633,     0.90541,     0.90429,     0.90146,     0.90024,     0.89955,     0.89886,     0.89817,     0.89747,      0.8969,     0.89672,\n",
      "            0.89654,     0.89636,     0.89618,       0.896,     0.89582,     0.89564,     0.89546,     0.89528,      0.8951,     0.89492,     0.89474,     0.89455,     0.89437,     0.89419,     0.89401,     0.89383,     0.89365,     0.89347,     0.89329,     0.89312,     0.89299,     0.89286,     0.89273,\n",
      "            0.89261,     0.89248,     0.89235,     0.89223,      0.8921,     0.89197,     0.89184,     0.89172,     0.89159,     0.89146,     0.89134,     0.89121,     0.89108,     0.89095,     0.89083,      0.8907,     0.89057,     0.89045,     0.89032,     0.89019,     0.89006,     0.88994,     0.88981,\n",
      "            0.88968,     0.88955,     0.88943,     0.88927,     0.88879,     0.88832,     0.88784,     0.88736,     0.88689,     0.88641,     0.88594,     0.88522,     0.88165,     0.88118,     0.88071,     0.88024,     0.87977,      0.8793,     0.87883,     0.87836,      0.8779,     0.87671,     0.87548,\n",
      "            0.87424,     0.87227,     0.87015,     0.86817,     0.86628,      0.8651,     0.86393,     0.86275,     0.86122,     0.85964,     0.85688,      0.8539,     0.85193,     0.84621,      0.8429,     0.83935,      0.8379,     0.83646,     0.83441,     0.83178,      0.8279,     0.82718,     0.82646,\n",
      "            0.82574,     0.82502,     0.82432,     0.82373,     0.82314,     0.82254,     0.82195,     0.82136,     0.82077,     0.81952,     0.81804,     0.81501,     0.81237,     0.81164,      0.8109,     0.81017,     0.80943,     0.80916,     0.80916,     0.80916,     0.80771,     0.80558,      0.8045,\n",
      "            0.80356,     0.80261,     0.80167,     0.79335,      0.7922,     0.79106,     0.78839,      0.7842,     0.76709,     0.76388,      0.7605,     0.75621,     0.74968,     0.74047,     0.73272,     0.72906,     0.72503,     0.72394,     0.72284,     0.72174,     0.71602,      0.7089,     0.70511,\n",
      "            0.70125,     0.69701,     0.69027,     0.68249,     0.67567,     0.66868,     0.65573,     0.65094,     0.64719,     0.63476,     0.62685,     0.62253,     0.62023,     0.61715,     0.60593,     0.59523,     0.58806,     0.58108,     0.56757,     0.54961,     0.54595,     0.53783,     0.53609,\n",
      "            0.53435,     0.52449,     0.51782,     0.51179,     0.49884,     0.49545,      0.4898,     0.48331,     0.46829,     0.45657,     0.44093,     0.43295,      0.4214,     0.40916,     0.38607,     0.37475,     0.36522,     0.36153,     0.35635,     0.32818,     0.31875,     0.29548,     0.28989,\n",
      "            0.27329,     0.25675,     0.23538,     0.20643,      0.1859,      0.1728,     0.15495,     0.14636,     0.13782,     0.11886,     0.11081,     0.10422,    0.095874,    0.087016,    0.074334,    0.070411,    0.061719,    0.051642,     0.03739,     0.03464,    0.025693,    0.021361,    0.018134,\n",
      "           0.014909,    0.013468,    0.012027,   0.0051892,           0,           0,           0,           0,           0,           0,           0,           0,           0,           0,           0,           0,           0,           0,           0,           0,           0,           0,           0,\n",
      "                  0,           0,           0,           0,           0,           0,           0,           0,           0,           0,           0,           0,           0,           0,           0,           0,           0,           0,           0,           0,           0,           0,           0,\n",
      "                  0,           0,           0,           0,           0,           0,           0,           0,           0,           0,           0,           0,           0,           0,           0,           0,           0,           0,           0,           0,           0,           0,           0,\n",
      "                  0,           0,           0,           0,           0,           0,           0,           0,           0,           0,           0]]), 'Confidence', 'Recall']]\n",
      "fitness: np.float64(0.8169662622162547)\n",
      "keys: ['metrics/precision(B)', 'metrics/recall(B)', 'metrics/mAP50(B)', 'metrics/mAP50-95(B)']\n",
      "maps: array([    0.79842])\n",
      "names: {0: 'licence-plate'}\n",
      "nt_per_class: array([262])\n",
      "nt_per_image: array([255])\n",
      "results_dict: {'metrics/precision(B)': np.float64(0.966540443841049), 'metrics/recall(B)': np.float64(0.9580152671755725), 'metrics/mAP50(B)': np.float64(0.9838491362480104), 'metrics/mAP50-95(B)': np.float64(0.7984237206571707), 'fitness': np.float64(0.8169662622162547)}\n",
      "save_dir: WindowsPath('runs/detect/model_blur2')\n",
      "speed: {'preprocess': 0.5114274509776129, 'inference': 9.204115294118774, 'loss': 0.0006047058894753218, 'postprocess': 1.0840047058830833}\n",
      "stats: {'tp': [], 'conf': [], 'pred_cls': [], 'target_cls': [], 'target_img': []}\n",
      "task: 'detect'\n"
     ]
    }
   ],
   "source": [
    "# train and validate model\n",
    "\n",
    "model = YOLO(\"yolov8s.pt\")\n",
    "model.train(data=\"dataset_split/data.yaml\", name=\"model_blur\",\n",
    "        epochs=50,                  \n",
    "        imgsz=640,                  \n",
    "        batch=16,\n",
    "        lr0=0.01,\n",
    "        device = 'cuda'\n",
    "        )\n",
    "metrics = model.val(data=\"dataset_split/data.yaml\", device=\"cuda\")\n",
    "print(metrics)\n"
   ]
  },
  {
   "cell_type": "code",
   "execution_count": 8,
   "id": "bf7bc72f",
   "metadata": {},
   "outputs": [
    {
     "name": "stdout",
     "output_type": "stream",
     "text": [
      "\n",
      "WARNING \n",
      "inference results will accumulate in RAM unless `stream=True` is passed, causing potential out-of-memory\n",
      "errors for large sources or long-running streams and videos. See https://docs.ultralytics.com/modes/predict/ for help.\n",
      "\n",
      "Example:\n",
      "    results = model(source=..., stream=True)  # generator of Results objects\n",
      "    for r in results:\n",
      "        boxes = r.boxes  # Boxes object for bbox outputs\n",
      "        masks = r.masks  # Masks object for segment masks outputs\n",
      "        probs = r.probs  # Class probabilities for classification outputs\n",
      "\n",
      "video 1/1 (frame 1/1076) d:\\Term 2\\Deep_Learning_Project\\dl_project\\test.mp4: 640x384 (no detections), 92.8ms\n",
      "video 1/1 (frame 2/1076) d:\\Term 2\\Deep_Learning_Project\\dl_project\\test.mp4: 640x384 (no detections), 85.7ms\n",
      "video 1/1 (frame 3/1076) d:\\Term 2\\Deep_Learning_Project\\dl_project\\test.mp4: 640x384 (no detections), 76.6ms\n",
      "video 1/1 (frame 4/1076) d:\\Term 2\\Deep_Learning_Project\\dl_project\\test.mp4: 640x384 (no detections), 38.7ms\n",
      "video 1/1 (frame 5/1076) d:\\Term 2\\Deep_Learning_Project\\dl_project\\test.mp4: 640x384 (no detections), 38.5ms\n",
      "video 1/1 (frame 6/1076) d:\\Term 2\\Deep_Learning_Project\\dl_project\\test.mp4: 640x384 (no detections), 37.4ms\n",
      "video 1/1 (frame 7/1076) d:\\Term 2\\Deep_Learning_Project\\dl_project\\test.mp4: 640x384 (no detections), 37.5ms\n",
      "video 1/1 (frame 8/1076) d:\\Term 2\\Deep_Learning_Project\\dl_project\\test.mp4: 640x384 (no detections), 37.5ms\n",
      "video 1/1 (frame 9/1076) d:\\Term 2\\Deep_Learning_Project\\dl_project\\test.mp4: 640x384 (no detections), 37.6ms\n",
      "video 1/1 (frame 10/1076) d:\\Term 2\\Deep_Learning_Project\\dl_project\\test.mp4: 640x384 (no detections), 37.5ms\n",
      "video 1/1 (frame 11/1076) d:\\Term 2\\Deep_Learning_Project\\dl_project\\test.mp4: 640x384 (no detections), 37.5ms\n",
      "video 1/1 (frame 12/1076) d:\\Term 2\\Deep_Learning_Project\\dl_project\\test.mp4: 640x384 (no detections), 37.5ms\n",
      "video 1/1 (frame 13/1076) d:\\Term 2\\Deep_Learning_Project\\dl_project\\test.mp4: 640x384 (no detections), 37.6ms\n",
      "video 1/1 (frame 14/1076) d:\\Term 2\\Deep_Learning_Project\\dl_project\\test.mp4: 640x384 (no detections), 22.0ms\n",
      "video 1/1 (frame 15/1076) d:\\Term 2\\Deep_Learning_Project\\dl_project\\test.mp4: 640x384 (no detections), 25.1ms\n",
      "video 1/1 (frame 16/1076) d:\\Term 2\\Deep_Learning_Project\\dl_project\\test.mp4: 640x384 (no detections), 23.4ms\n",
      "video 1/1 (frame 17/1076) d:\\Term 2\\Deep_Learning_Project\\dl_project\\test.mp4: 640x384 (no detections), 23.2ms\n",
      "video 1/1 (frame 18/1076) d:\\Term 2\\Deep_Learning_Project\\dl_project\\test.mp4: 640x384 (no detections), 20.0ms\n",
      "video 1/1 (frame 19/1076) d:\\Term 2\\Deep_Learning_Project\\dl_project\\test.mp4: 640x384 (no detections), 23.5ms\n",
      "video 1/1 (frame 20/1076) d:\\Term 2\\Deep_Learning_Project\\dl_project\\test.mp4: 640x384 (no detections), 30.8ms\n",
      "video 1/1 (frame 21/1076) d:\\Term 2\\Deep_Learning_Project\\dl_project\\test.mp4: 640x384 (no detections), 22.8ms\n",
      "video 1/1 (frame 22/1076) d:\\Term 2\\Deep_Learning_Project\\dl_project\\test.mp4: 640x384 (no detections), 23.7ms\n",
      "video 1/1 (frame 23/1076) d:\\Term 2\\Deep_Learning_Project\\dl_project\\test.mp4: 640x384 (no detections), 21.6ms\n",
      "video 1/1 (frame 24/1076) d:\\Term 2\\Deep_Learning_Project\\dl_project\\test.mp4: 640x384 (no detections), 22.9ms\n",
      "video 1/1 (frame 25/1076) d:\\Term 2\\Deep_Learning_Project\\dl_project\\test.mp4: 640x384 (no detections), 29.0ms\n",
      "video 1/1 (frame 26/1076) d:\\Term 2\\Deep_Learning_Project\\dl_project\\test.mp4: 640x384 (no detections), 21.1ms\n",
      "video 1/1 (frame 27/1076) d:\\Term 2\\Deep_Learning_Project\\dl_project\\test.mp4: 640x384 (no detections), 21.4ms\n",
      "video 1/1 (frame 28/1076) d:\\Term 2\\Deep_Learning_Project\\dl_project\\test.mp4: 640x384 (no detections), 24.2ms\n",
      "video 1/1 (frame 29/1076) d:\\Term 2\\Deep_Learning_Project\\dl_project\\test.mp4: 640x384 (no detections), 24.5ms\n",
      "video 1/1 (frame 30/1076) d:\\Term 2\\Deep_Learning_Project\\dl_project\\test.mp4: 640x384 (no detections), 21.6ms\n",
      "video 1/1 (frame 31/1076) d:\\Term 2\\Deep_Learning_Project\\dl_project\\test.mp4: 640x384 (no detections), 23.6ms\n",
      "video 1/1 (frame 32/1076) d:\\Term 2\\Deep_Learning_Project\\dl_project\\test.mp4: 640x384 (no detections), 27.8ms\n",
      "video 1/1 (frame 33/1076) d:\\Term 2\\Deep_Learning_Project\\dl_project\\test.mp4: 640x384 (no detections), 24.8ms\n",
      "video 1/1 (frame 34/1076) d:\\Term 2\\Deep_Learning_Project\\dl_project\\test.mp4: 640x384 (no detections), 22.7ms\n",
      "video 1/1 (frame 35/1076) d:\\Term 2\\Deep_Learning_Project\\dl_project\\test.mp4: 640x384 (no detections), 30.0ms\n",
      "video 1/1 (frame 36/1076) d:\\Term 2\\Deep_Learning_Project\\dl_project\\test.mp4: 640x384 (no detections), 22.5ms\n",
      "video 1/1 (frame 37/1076) d:\\Term 2\\Deep_Learning_Project\\dl_project\\test.mp4: 640x384 (no detections), 28.7ms\n",
      "video 1/1 (frame 38/1076) d:\\Term 2\\Deep_Learning_Project\\dl_project\\test.mp4: 640x384 (no detections), 21.6ms\n",
      "video 1/1 (frame 39/1076) d:\\Term 2\\Deep_Learning_Project\\dl_project\\test.mp4: 640x384 (no detections), 25.0ms\n",
      "video 1/1 (frame 40/1076) d:\\Term 2\\Deep_Learning_Project\\dl_project\\test.mp4: 640x384 (no detections), 20.9ms\n",
      "video 1/1 (frame 41/1076) d:\\Term 2\\Deep_Learning_Project\\dl_project\\test.mp4: 640x384 (no detections), 22.0ms\n",
      "video 1/1 (frame 42/1076) d:\\Term 2\\Deep_Learning_Project\\dl_project\\test.mp4: 640x384 (no detections), 23.8ms\n",
      "video 1/1 (frame 43/1076) d:\\Term 2\\Deep_Learning_Project\\dl_project\\test.mp4: 640x384 (no detections), 20.7ms\n",
      "video 1/1 (frame 44/1076) d:\\Term 2\\Deep_Learning_Project\\dl_project\\test.mp4: 640x384 (no detections), 20.3ms\n",
      "video 1/1 (frame 45/1076) d:\\Term 2\\Deep_Learning_Project\\dl_project\\test.mp4: 640x384 (no detections), 21.1ms\n",
      "video 1/1 (frame 46/1076) d:\\Term 2\\Deep_Learning_Project\\dl_project\\test.mp4: 640x384 (no detections), 22.0ms\n",
      "video 1/1 (frame 47/1076) d:\\Term 2\\Deep_Learning_Project\\dl_project\\test.mp4: 640x384 (no detections), 19.9ms\n",
      "video 1/1 (frame 48/1076) d:\\Term 2\\Deep_Learning_Project\\dl_project\\test.mp4: 640x384 (no detections), 20.7ms\n",
      "video 1/1 (frame 49/1076) d:\\Term 2\\Deep_Learning_Project\\dl_project\\test.mp4: 640x384 (no detections), 23.5ms\n",
      "video 1/1 (frame 50/1076) d:\\Term 2\\Deep_Learning_Project\\dl_project\\test.mp4: 640x384 (no detections), 23.7ms\n",
      "video 1/1 (frame 51/1076) d:\\Term 2\\Deep_Learning_Project\\dl_project\\test.mp4: 640x384 (no detections), 24.4ms\n",
      "video 1/1 (frame 52/1076) d:\\Term 2\\Deep_Learning_Project\\dl_project\\test.mp4: 640x384 (no detections), 20.9ms\n",
      "video 1/1 (frame 53/1076) d:\\Term 2\\Deep_Learning_Project\\dl_project\\test.mp4: 640x384 (no detections), 28.0ms\n",
      "video 1/1 (frame 54/1076) d:\\Term 2\\Deep_Learning_Project\\dl_project\\test.mp4: 640x384 (no detections), 22.4ms\n",
      "video 1/1 (frame 55/1076) d:\\Term 2\\Deep_Learning_Project\\dl_project\\test.mp4: 640x384 (no detections), 20.7ms\n",
      "video 1/1 (frame 56/1076) d:\\Term 2\\Deep_Learning_Project\\dl_project\\test.mp4: 640x384 (no detections), 21.1ms\n",
      "video 1/1 (frame 57/1076) d:\\Term 2\\Deep_Learning_Project\\dl_project\\test.mp4: 640x384 (no detections), 21.2ms\n",
      "video 1/1 (frame 58/1076) d:\\Term 2\\Deep_Learning_Project\\dl_project\\test.mp4: 640x384 (no detections), 21.0ms\n",
      "video 1/1 (frame 59/1076) d:\\Term 2\\Deep_Learning_Project\\dl_project\\test.mp4: 640x384 (no detections), 21.2ms\n",
      "video 1/1 (frame 60/1076) d:\\Term 2\\Deep_Learning_Project\\dl_project\\test.mp4: 640x384 (no detections), 21.5ms\n",
      "video 1/1 (frame 61/1076) d:\\Term 2\\Deep_Learning_Project\\dl_project\\test.mp4: 640x384 (no detections), 21.4ms\n",
      "video 1/1 (frame 62/1076) d:\\Term 2\\Deep_Learning_Project\\dl_project\\test.mp4: 640x384 (no detections), 21.6ms\n",
      "video 1/1 (frame 63/1076) d:\\Term 2\\Deep_Learning_Project\\dl_project\\test.mp4: 640x384 (no detections), 24.2ms\n",
      "video 1/1 (frame 64/1076) d:\\Term 2\\Deep_Learning_Project\\dl_project\\test.mp4: 640x384 (no detections), 22.0ms\n",
      "video 1/1 (frame 65/1076) d:\\Term 2\\Deep_Learning_Project\\dl_project\\test.mp4: 640x384 (no detections), 24.6ms\n",
      "video 1/1 (frame 66/1076) d:\\Term 2\\Deep_Learning_Project\\dl_project\\test.mp4: 640x384 (no detections), 20.0ms\n",
      "video 1/1 (frame 67/1076) d:\\Term 2\\Deep_Learning_Project\\dl_project\\test.mp4: 640x384 (no detections), 19.9ms\n",
      "video 1/1 (frame 68/1076) d:\\Term 2\\Deep_Learning_Project\\dl_project\\test.mp4: 640x384 (no detections), 24.2ms\n",
      "video 1/1 (frame 69/1076) d:\\Term 2\\Deep_Learning_Project\\dl_project\\test.mp4: 640x384 (no detections), 25.3ms\n",
      "video 1/1 (frame 70/1076) d:\\Term 2\\Deep_Learning_Project\\dl_project\\test.mp4: 640x384 (no detections), 31.6ms\n",
      "video 1/1 (frame 71/1076) d:\\Term 2\\Deep_Learning_Project\\dl_project\\test.mp4: 640x384 (no detections), 37.2ms\n",
      "video 1/1 (frame 72/1076) d:\\Term 2\\Deep_Learning_Project\\dl_project\\test.mp4: 640x384 (no detections), 21.4ms\n",
      "video 1/1 (frame 73/1076) d:\\Term 2\\Deep_Learning_Project\\dl_project\\test.mp4: 640x384 (no detections), 20.2ms\n",
      "video 1/1 (frame 74/1076) d:\\Term 2\\Deep_Learning_Project\\dl_project\\test.mp4: 640x384 (no detections), 20.0ms\n",
      "video 1/1 (frame 75/1076) d:\\Term 2\\Deep_Learning_Project\\dl_project\\test.mp4: 640x384 (no detections), 19.9ms\n",
      "video 1/1 (frame 76/1076) d:\\Term 2\\Deep_Learning_Project\\dl_project\\test.mp4: 640x384 (no detections), 21.5ms\n",
      "video 1/1 (frame 77/1076) d:\\Term 2\\Deep_Learning_Project\\dl_project\\test.mp4: 640x384 (no detections), 28.4ms\n",
      "video 1/1 (frame 78/1076) d:\\Term 2\\Deep_Learning_Project\\dl_project\\test.mp4: 640x384 (no detections), 22.0ms\n",
      "video 1/1 (frame 79/1076) d:\\Term 2\\Deep_Learning_Project\\dl_project\\test.mp4: 640x384 (no detections), 21.7ms\n",
      "video 1/1 (frame 80/1076) d:\\Term 2\\Deep_Learning_Project\\dl_project\\test.mp4: 640x384 (no detections), 20.6ms\n",
      "video 1/1 (frame 81/1076) d:\\Term 2\\Deep_Learning_Project\\dl_project\\test.mp4: 640x384 (no detections), 20.0ms\n",
      "video 1/1 (frame 82/1076) d:\\Term 2\\Deep_Learning_Project\\dl_project\\test.mp4: 640x384 (no detections), 29.6ms\n",
      "video 1/1 (frame 83/1076) d:\\Term 2\\Deep_Learning_Project\\dl_project\\test.mp4: 640x384 (no detections), 24.4ms\n",
      "video 1/1 (frame 84/1076) d:\\Term 2\\Deep_Learning_Project\\dl_project\\test.mp4: 640x384 (no detections), 21.2ms\n",
      "video 1/1 (frame 85/1076) d:\\Term 2\\Deep_Learning_Project\\dl_project\\test.mp4: 640x384 (no detections), 22.6ms\n",
      "video 1/1 (frame 86/1076) d:\\Term 2\\Deep_Learning_Project\\dl_project\\test.mp4: 640x384 (no detections), 21.9ms\n",
      "video 1/1 (frame 87/1076) d:\\Term 2\\Deep_Learning_Project\\dl_project\\test.mp4: 640x384 (no detections), 20.4ms\n",
      "video 1/1 (frame 88/1076) d:\\Term 2\\Deep_Learning_Project\\dl_project\\test.mp4: 640x384 (no detections), 21.1ms\n",
      "video 1/1 (frame 89/1076) d:\\Term 2\\Deep_Learning_Project\\dl_project\\test.mp4: 640x384 (no detections), 19.9ms\n",
      "video 1/1 (frame 90/1076) d:\\Term 2\\Deep_Learning_Project\\dl_project\\test.mp4: 640x384 (no detections), 21.2ms\n",
      "video 1/1 (frame 91/1076) d:\\Term 2\\Deep_Learning_Project\\dl_project\\test.mp4: 640x384 (no detections), 22.4ms\n",
      "video 1/1 (frame 92/1076) d:\\Term 2\\Deep_Learning_Project\\dl_project\\test.mp4: 640x384 (no detections), 23.8ms\n",
      "video 1/1 (frame 93/1076) d:\\Term 2\\Deep_Learning_Project\\dl_project\\test.mp4: 640x384 (no detections), 26.1ms\n",
      "video 1/1 (frame 94/1076) d:\\Term 2\\Deep_Learning_Project\\dl_project\\test.mp4: 640x384 (no detections), 24.4ms\n",
      "video 1/1 (frame 95/1076) d:\\Term 2\\Deep_Learning_Project\\dl_project\\test.mp4: 640x384 (no detections), 23.8ms\n",
      "video 1/1 (frame 96/1076) d:\\Term 2\\Deep_Learning_Project\\dl_project\\test.mp4: 640x384 (no detections), 23.8ms\n",
      "video 1/1 (frame 97/1076) d:\\Term 2\\Deep_Learning_Project\\dl_project\\test.mp4: 640x384 (no detections), 23.8ms\n",
      "video 1/1 (frame 98/1076) d:\\Term 2\\Deep_Learning_Project\\dl_project\\test.mp4: 640x384 (no detections), 42.8ms\n",
      "video 1/1 (frame 99/1076) d:\\Term 2\\Deep_Learning_Project\\dl_project\\test.mp4: 640x384 (no detections), 42.1ms\n",
      "video 1/1 (frame 100/1076) d:\\Term 2\\Deep_Learning_Project\\dl_project\\test.mp4: 640x384 (no detections), 41.3ms\n",
      "video 1/1 (frame 101/1076) d:\\Term 2\\Deep_Learning_Project\\dl_project\\test.mp4: 640x384 (no detections), 41.4ms\n",
      "video 1/1 (frame 102/1076) d:\\Term 2\\Deep_Learning_Project\\dl_project\\test.mp4: 640x384 (no detections), 41.3ms\n",
      "video 1/1 (frame 103/1076) d:\\Term 2\\Deep_Learning_Project\\dl_project\\test.mp4: 640x384 (no detections), 41.2ms\n",
      "video 1/1 (frame 104/1076) d:\\Term 2\\Deep_Learning_Project\\dl_project\\test.mp4: 640x384 1 licence-plate, 40.6ms\n",
      "video 1/1 (frame 105/1076) d:\\Term 2\\Deep_Learning_Project\\dl_project\\test.mp4: 640x384 1 licence-plate, 40.5ms\n",
      "video 1/1 (frame 106/1076) d:\\Term 2\\Deep_Learning_Project\\dl_project\\test.mp4: 640x384 1 licence-plate, 40.1ms\n",
      "video 1/1 (frame 107/1076) d:\\Term 2\\Deep_Learning_Project\\dl_project\\test.mp4: 640x384 1 licence-plate, 40.1ms\n",
      "video 1/1 (frame 108/1076) d:\\Term 2\\Deep_Learning_Project\\dl_project\\test.mp4: 640x384 1 licence-plate, 39.9ms\n",
      "video 1/1 (frame 109/1076) d:\\Term 2\\Deep_Learning_Project\\dl_project\\test.mp4: 640x384 1 licence-plate, 39.8ms\n",
      "video 1/1 (frame 110/1076) d:\\Term 2\\Deep_Learning_Project\\dl_project\\test.mp4: 640x384 1 licence-plate, 40.0ms\n",
      "video 1/1 (frame 111/1076) d:\\Term 2\\Deep_Learning_Project\\dl_project\\test.mp4: 640x384 1 licence-plate, 39.8ms\n",
      "video 1/1 (frame 112/1076) d:\\Term 2\\Deep_Learning_Project\\dl_project\\test.mp4: 640x384 1 licence-plate, 37.8ms\n",
      "video 1/1 (frame 113/1076) d:\\Term 2\\Deep_Learning_Project\\dl_project\\test.mp4: 640x384 1 licence-plate, 37.8ms\n",
      "video 1/1 (frame 114/1076) d:\\Term 2\\Deep_Learning_Project\\dl_project\\test.mp4: 640x384 1 licence-plate, 37.7ms\n",
      "video 1/1 (frame 115/1076) d:\\Term 2\\Deep_Learning_Project\\dl_project\\test.mp4: 640x384 (no detections), 38.0ms\n",
      "video 1/1 (frame 116/1076) d:\\Term 2\\Deep_Learning_Project\\dl_project\\test.mp4: 640x384 1 licence-plate, 38.2ms\n",
      "video 1/1 (frame 117/1076) d:\\Term 2\\Deep_Learning_Project\\dl_project\\test.mp4: 640x384 1 licence-plate, 37.6ms\n",
      "video 1/1 (frame 118/1076) d:\\Term 2\\Deep_Learning_Project\\dl_project\\test.mp4: 640x384 (no detections), 37.6ms\n",
      "video 1/1 (frame 119/1076) d:\\Term 2\\Deep_Learning_Project\\dl_project\\test.mp4: 640x384 (no detections), 37.9ms\n",
      "video 1/1 (frame 120/1076) d:\\Term 2\\Deep_Learning_Project\\dl_project\\test.mp4: 640x384 (no detections), 38.0ms\n",
      "video 1/1 (frame 121/1076) d:\\Term 2\\Deep_Learning_Project\\dl_project\\test.mp4: 640x384 (no detections), 37.7ms\n",
      "video 1/1 (frame 122/1076) d:\\Term 2\\Deep_Learning_Project\\dl_project\\test.mp4: 640x384 (no detections), 37.5ms\n",
      "video 1/1 (frame 123/1076) d:\\Term 2\\Deep_Learning_Project\\dl_project\\test.mp4: 640x384 (no detections), 37.6ms\n",
      "video 1/1 (frame 124/1076) d:\\Term 2\\Deep_Learning_Project\\dl_project\\test.mp4: 640x384 (no detections), 37.7ms\n",
      "video 1/1 (frame 125/1076) d:\\Term 2\\Deep_Learning_Project\\dl_project\\test.mp4: 640x384 (no detections), 37.7ms\n",
      "video 1/1 (frame 126/1076) d:\\Term 2\\Deep_Learning_Project\\dl_project\\test.mp4: 640x384 (no detections), 37.3ms\n",
      "video 1/1 (frame 127/1076) d:\\Term 2\\Deep_Learning_Project\\dl_project\\test.mp4: 640x384 (no detections), 37.2ms\n",
      "video 1/1 (frame 128/1076) d:\\Term 2\\Deep_Learning_Project\\dl_project\\test.mp4: 640x384 (no detections), 37.3ms\n",
      "video 1/1 (frame 129/1076) d:\\Term 2\\Deep_Learning_Project\\dl_project\\test.mp4: 640x384 (no detections), 21.9ms\n",
      "video 1/1 (frame 130/1076) d:\\Term 2\\Deep_Learning_Project\\dl_project\\test.mp4: 640x384 (no detections), 22.3ms\n",
      "video 1/1 (frame 131/1076) d:\\Term 2\\Deep_Learning_Project\\dl_project\\test.mp4: 640x384 (no detections), 20.8ms\n",
      "video 1/1 (frame 132/1076) d:\\Term 2\\Deep_Learning_Project\\dl_project\\test.mp4: 640x384 (no detections), 19.3ms\n",
      "video 1/1 (frame 133/1076) d:\\Term 2\\Deep_Learning_Project\\dl_project\\test.mp4: 640x384 (no detections), 19.4ms\n",
      "video 1/1 (frame 134/1076) d:\\Term 2\\Deep_Learning_Project\\dl_project\\test.mp4: 640x384 (no detections), 23.2ms\n",
      "video 1/1 (frame 135/1076) d:\\Term 2\\Deep_Learning_Project\\dl_project\\test.mp4: 640x384 (no detections), 26.0ms\n",
      "video 1/1 (frame 136/1076) d:\\Term 2\\Deep_Learning_Project\\dl_project\\test.mp4: 640x384 (no detections), 22.2ms\n",
      "video 1/1 (frame 137/1076) d:\\Term 2\\Deep_Learning_Project\\dl_project\\test.mp4: 640x384 (no detections), 22.0ms\n",
      "video 1/1 (frame 138/1076) d:\\Term 2\\Deep_Learning_Project\\dl_project\\test.mp4: 640x384 (no detections), 21.2ms\n",
      "video 1/1 (frame 139/1076) d:\\Term 2\\Deep_Learning_Project\\dl_project\\test.mp4: 640x384 (no detections), 32.6ms\n",
      "video 1/1 (frame 140/1076) d:\\Term 2\\Deep_Learning_Project\\dl_project\\test.mp4: 640x384 1 licence-plate, 23.8ms\n",
      "video 1/1 (frame 141/1076) d:\\Term 2\\Deep_Learning_Project\\dl_project\\test.mp4: 640x384 (no detections), 26.1ms\n",
      "video 1/1 (frame 142/1076) d:\\Term 2\\Deep_Learning_Project\\dl_project\\test.mp4: 640x384 (no detections), 27.2ms\n",
      "video 1/1 (frame 143/1076) d:\\Term 2\\Deep_Learning_Project\\dl_project\\test.mp4: 640x384 (no detections), 26.7ms\n",
      "video 1/1 (frame 144/1076) d:\\Term 2\\Deep_Learning_Project\\dl_project\\test.mp4: 640x384 (no detections), 21.6ms\n",
      "video 1/1 (frame 145/1076) d:\\Term 2\\Deep_Learning_Project\\dl_project\\test.mp4: 640x384 (no detections), 24.5ms\n",
      "video 1/1 (frame 146/1076) d:\\Term 2\\Deep_Learning_Project\\dl_project\\test.mp4: 640x384 (no detections), 33.8ms\n",
      "video 1/1 (frame 147/1076) d:\\Term 2\\Deep_Learning_Project\\dl_project\\test.mp4: 640x384 (no detections), 23.7ms\n",
      "video 1/1 (frame 148/1076) d:\\Term 2\\Deep_Learning_Project\\dl_project\\test.mp4: 640x384 (no detections), 26.2ms\n",
      "video 1/1 (frame 149/1076) d:\\Term 2\\Deep_Learning_Project\\dl_project\\test.mp4: 640x384 (no detections), 33.4ms\n",
      "video 1/1 (frame 150/1076) d:\\Term 2\\Deep_Learning_Project\\dl_project\\test.mp4: 640x384 (no detections), 26.5ms\n",
      "video 1/1 (frame 151/1076) d:\\Term 2\\Deep_Learning_Project\\dl_project\\test.mp4: 640x384 (no detections), 24.9ms\n",
      "video 1/1 (frame 152/1076) d:\\Term 2\\Deep_Learning_Project\\dl_project\\test.mp4: 640x384 (no detections), 39.2ms\n",
      "video 1/1 (frame 153/1076) d:\\Term 2\\Deep_Learning_Project\\dl_project\\test.mp4: 640x384 (no detections), 39.1ms\n",
      "video 1/1 (frame 154/1076) d:\\Term 2\\Deep_Learning_Project\\dl_project\\test.mp4: 640x384 (no detections), 38.9ms\n",
      "video 1/1 (frame 155/1076) d:\\Term 2\\Deep_Learning_Project\\dl_project\\test.mp4: 640x384 (no detections), 39.0ms\n",
      "video 1/1 (frame 156/1076) d:\\Term 2\\Deep_Learning_Project\\dl_project\\test.mp4: 640x384 (no detections), 39.0ms\n",
      "video 1/1 (frame 157/1076) d:\\Term 2\\Deep_Learning_Project\\dl_project\\test.mp4: 640x384 (no detections), 38.9ms\n",
      "video 1/1 (frame 158/1076) d:\\Term 2\\Deep_Learning_Project\\dl_project\\test.mp4: 640x384 (no detections), 38.9ms\n",
      "video 1/1 (frame 159/1076) d:\\Term 2\\Deep_Learning_Project\\dl_project\\test.mp4: 640x384 (no detections), 39.1ms\n",
      "video 1/1 (frame 160/1076) d:\\Term 2\\Deep_Learning_Project\\dl_project\\test.mp4: 640x384 (no detections), 38.9ms\n",
      "video 1/1 (frame 161/1076) d:\\Term 2\\Deep_Learning_Project\\dl_project\\test.mp4: 640x384 (no detections), 39.2ms\n",
      "video 1/1 (frame 162/1076) d:\\Term 2\\Deep_Learning_Project\\dl_project\\test.mp4: 640x384 (no detections), 39.1ms\n",
      "video 1/1 (frame 163/1076) d:\\Term 2\\Deep_Learning_Project\\dl_project\\test.mp4: 640x384 (no detections), 39.1ms\n",
      "video 1/1 (frame 164/1076) d:\\Term 2\\Deep_Learning_Project\\dl_project\\test.mp4: 640x384 (no detections), 39.0ms\n",
      "video 1/1 (frame 165/1076) d:\\Term 2\\Deep_Learning_Project\\dl_project\\test.mp4: 640x384 (no detections), 39.2ms\n",
      "video 1/1 (frame 166/1076) d:\\Term 2\\Deep_Learning_Project\\dl_project\\test.mp4: 640x384 (no detections), 42.2ms\n",
      "video 1/1 (frame 167/1076) d:\\Term 2\\Deep_Learning_Project\\dl_project\\test.mp4: 640x384 (no detections), 39.1ms\n",
      "video 1/1 (frame 168/1076) d:\\Term 2\\Deep_Learning_Project\\dl_project\\test.mp4: 640x384 (no detections), 39.2ms\n",
      "video 1/1 (frame 169/1076) d:\\Term 2\\Deep_Learning_Project\\dl_project\\test.mp4: 640x384 (no detections), 38.9ms\n",
      "video 1/1 (frame 170/1076) d:\\Term 2\\Deep_Learning_Project\\dl_project\\test.mp4: 640x384 (no detections), 39.0ms\n",
      "video 1/1 (frame 171/1076) d:\\Term 2\\Deep_Learning_Project\\dl_project\\test.mp4: 640x384 (no detections), 39.0ms\n",
      "video 1/1 (frame 172/1076) d:\\Term 2\\Deep_Learning_Project\\dl_project\\test.mp4: 640x384 (no detections), 39.1ms\n",
      "video 1/1 (frame 173/1076) d:\\Term 2\\Deep_Learning_Project\\dl_project\\test.mp4: 640x384 (no detections), 38.9ms\n",
      "video 1/1 (frame 174/1076) d:\\Term 2\\Deep_Learning_Project\\dl_project\\test.mp4: 640x384 (no detections), 38.9ms\n",
      "video 1/1 (frame 175/1076) d:\\Term 2\\Deep_Learning_Project\\dl_project\\test.mp4: 640x384 (no detections), 39.5ms\n",
      "video 1/1 (frame 176/1076) d:\\Term 2\\Deep_Learning_Project\\dl_project\\test.mp4: 640x384 (no detections), 39.0ms\n",
      "video 1/1 (frame 177/1076) d:\\Term 2\\Deep_Learning_Project\\dl_project\\test.mp4: 640x384 (no detections), 39.0ms\n",
      "video 1/1 (frame 178/1076) d:\\Term 2\\Deep_Learning_Project\\dl_project\\test.mp4: 640x384 (no detections), 39.1ms\n",
      "video 1/1 (frame 179/1076) d:\\Term 2\\Deep_Learning_Project\\dl_project\\test.mp4: 640x384 (no detections), 39.0ms\n",
      "video 1/1 (frame 180/1076) d:\\Term 2\\Deep_Learning_Project\\dl_project\\test.mp4: 640x384 (no detections), 38.9ms\n",
      "video 1/1 (frame 181/1076) d:\\Term 2\\Deep_Learning_Project\\dl_project\\test.mp4: 640x384 (no detections), 38.6ms\n",
      "video 1/1 (frame 182/1076) d:\\Term 2\\Deep_Learning_Project\\dl_project\\test.mp4: 640x384 (no detections), 37.3ms\n",
      "video 1/1 (frame 183/1076) d:\\Term 2\\Deep_Learning_Project\\dl_project\\test.mp4: 640x384 (no detections), 37.3ms\n",
      "video 1/1 (frame 184/1076) d:\\Term 2\\Deep_Learning_Project\\dl_project\\test.mp4: 640x384 (no detections), 37.3ms\n",
      "video 1/1 (frame 185/1076) d:\\Term 2\\Deep_Learning_Project\\dl_project\\test.mp4: 640x384 (no detections), 37.0ms\n",
      "video 1/1 (frame 186/1076) d:\\Term 2\\Deep_Learning_Project\\dl_project\\test.mp4: 640x384 (no detections), 36.9ms\n",
      "video 1/1 (frame 187/1076) d:\\Term 2\\Deep_Learning_Project\\dl_project\\test.mp4: 640x384 (no detections), 37.0ms\n",
      "video 1/1 (frame 188/1076) d:\\Term 2\\Deep_Learning_Project\\dl_project\\test.mp4: 640x384 (no detections), 37.0ms\n",
      "video 1/1 (frame 189/1076) d:\\Term 2\\Deep_Learning_Project\\dl_project\\test.mp4: 640x384 (no detections), 37.0ms\n",
      "video 1/1 (frame 190/1076) d:\\Term 2\\Deep_Learning_Project\\dl_project\\test.mp4: 640x384 (no detections), 36.9ms\n",
      "video 1/1 (frame 191/1076) d:\\Term 2\\Deep_Learning_Project\\dl_project\\test.mp4: 640x384 (no detections), 32.6ms\n",
      "video 1/1 (frame 192/1076) d:\\Term 2\\Deep_Learning_Project\\dl_project\\test.mp4: 640x384 (no detections), 32.0ms\n",
      "video 1/1 (frame 193/1076) d:\\Term 2\\Deep_Learning_Project\\dl_project\\test.mp4: 640x384 (no detections), 24.4ms\n",
      "video 1/1 (frame 194/1076) d:\\Term 2\\Deep_Learning_Project\\dl_project\\test.mp4: 640x384 (no detections), 24.8ms\n",
      "video 1/1 (frame 195/1076) d:\\Term 2\\Deep_Learning_Project\\dl_project\\test.mp4: 640x384 (no detections), 34.0ms\n",
      "video 1/1 (frame 196/1076) d:\\Term 2\\Deep_Learning_Project\\dl_project\\test.mp4: 640x384 (no detections), 25.2ms\n",
      "video 1/1 (frame 197/1076) d:\\Term 2\\Deep_Learning_Project\\dl_project\\test.mp4: 640x384 (no detections), 21.7ms\n",
      "video 1/1 (frame 198/1076) d:\\Term 2\\Deep_Learning_Project\\dl_project\\test.mp4: 640x384 (no detections), 26.7ms\n",
      "video 1/1 (frame 199/1076) d:\\Term 2\\Deep_Learning_Project\\dl_project\\test.mp4: 640x384 (no detections), 23.2ms\n",
      "video 1/1 (frame 200/1076) d:\\Term 2\\Deep_Learning_Project\\dl_project\\test.mp4: 640x384 (no detections), 24.9ms\n",
      "video 1/1 (frame 201/1076) d:\\Term 2\\Deep_Learning_Project\\dl_project\\test.mp4: 640x384 (no detections), 30.0ms\n",
      "video 1/1 (frame 202/1076) d:\\Term 2\\Deep_Learning_Project\\dl_project\\test.mp4: 640x384 (no detections), 20.1ms\n",
      "video 1/1 (frame 203/1076) d:\\Term 2\\Deep_Learning_Project\\dl_project\\test.mp4: 640x384 (no detections), 19.5ms\n",
      "video 1/1 (frame 204/1076) d:\\Term 2\\Deep_Learning_Project\\dl_project\\test.mp4: 640x384 (no detections), 32.5ms\n",
      "video 1/1 (frame 205/1076) d:\\Term 2\\Deep_Learning_Project\\dl_project\\test.mp4: 640x384 (no detections), 19.5ms\n",
      "video 1/1 (frame 206/1076) d:\\Term 2\\Deep_Learning_Project\\dl_project\\test.mp4: 640x384 (no detections), 24.0ms\n",
      "video 1/1 (frame 207/1076) d:\\Term 2\\Deep_Learning_Project\\dl_project\\test.mp4: 640x384 (no detections), 19.8ms\n",
      "video 1/1 (frame 208/1076) d:\\Term 2\\Deep_Learning_Project\\dl_project\\test.mp4: 640x384 (no detections), 25.3ms\n",
      "video 1/1 (frame 209/1076) d:\\Term 2\\Deep_Learning_Project\\dl_project\\test.mp4: 640x384 (no detections), 20.0ms\n",
      "video 1/1 (frame 210/1076) d:\\Term 2\\Deep_Learning_Project\\dl_project\\test.mp4: 640x384 (no detections), 24.3ms\n",
      "video 1/1 (frame 211/1076) d:\\Term 2\\Deep_Learning_Project\\dl_project\\test.mp4: 640x384 (no detections), 21.2ms\n",
      "video 1/1 (frame 212/1076) d:\\Term 2\\Deep_Learning_Project\\dl_project\\test.mp4: 640x384 (no detections), 25.4ms\n",
      "video 1/1 (frame 213/1076) d:\\Term 2\\Deep_Learning_Project\\dl_project\\test.mp4: 640x384 (no detections), 28.7ms\n",
      "video 1/1 (frame 214/1076) d:\\Term 2\\Deep_Learning_Project\\dl_project\\test.mp4: 640x384 (no detections), 23.6ms\n",
      "video 1/1 (frame 215/1076) d:\\Term 2\\Deep_Learning_Project\\dl_project\\test.mp4: 640x384 (no detections), 27.9ms\n",
      "video 1/1 (frame 216/1076) d:\\Term 2\\Deep_Learning_Project\\dl_project\\test.mp4: 640x384 (no detections), 27.3ms\n",
      "video 1/1 (frame 217/1076) d:\\Term 2\\Deep_Learning_Project\\dl_project\\test.mp4: 640x384 (no detections), 26.8ms\n",
      "video 1/1 (frame 218/1076) d:\\Term 2\\Deep_Learning_Project\\dl_project\\test.mp4: 640x384 (no detections), 19.5ms\n",
      "video 1/1 (frame 219/1076) d:\\Term 2\\Deep_Learning_Project\\dl_project\\test.mp4: 640x384 (no detections), 24.8ms\n",
      "video 1/1 (frame 220/1076) d:\\Term 2\\Deep_Learning_Project\\dl_project\\test.mp4: 640x384 (no detections), 18.6ms\n",
      "video 1/1 (frame 221/1076) d:\\Term 2\\Deep_Learning_Project\\dl_project\\test.mp4: 640x384 (no detections), 29.1ms\n",
      "video 1/1 (frame 222/1076) d:\\Term 2\\Deep_Learning_Project\\dl_project\\test.mp4: 640x384 (no detections), 19.1ms\n",
      "video 1/1 (frame 223/1076) d:\\Term 2\\Deep_Learning_Project\\dl_project\\test.mp4: 640x384 (no detections), 27.2ms\n",
      "video 1/1 (frame 224/1076) d:\\Term 2\\Deep_Learning_Project\\dl_project\\test.mp4: 640x384 (no detections), 20.3ms\n",
      "video 1/1 (frame 225/1076) d:\\Term 2\\Deep_Learning_Project\\dl_project\\test.mp4: 640x384 (no detections), 27.5ms\n",
      "video 1/1 (frame 226/1076) d:\\Term 2\\Deep_Learning_Project\\dl_project\\test.mp4: 640x384 (no detections), 19.9ms\n",
      "video 1/1 (frame 227/1076) d:\\Term 2\\Deep_Learning_Project\\dl_project\\test.mp4: 640x384 (no detections), 19.3ms\n",
      "video 1/1 (frame 228/1076) d:\\Term 2\\Deep_Learning_Project\\dl_project\\test.mp4: 640x384 (no detections), 21.9ms\n",
      "video 1/1 (frame 229/1076) d:\\Term 2\\Deep_Learning_Project\\dl_project\\test.mp4: 640x384 (no detections), 20.0ms\n",
      "video 1/1 (frame 230/1076) d:\\Term 2\\Deep_Learning_Project\\dl_project\\test.mp4: 640x384 (no detections), 19.9ms\n",
      "video 1/1 (frame 231/1076) d:\\Term 2\\Deep_Learning_Project\\dl_project\\test.mp4: 640x384 (no detections), 20.2ms\n",
      "video 1/1 (frame 232/1076) d:\\Term 2\\Deep_Learning_Project\\dl_project\\test.mp4: 640x384 (no detections), 20.7ms\n",
      "video 1/1 (frame 233/1076) d:\\Term 2\\Deep_Learning_Project\\dl_project\\test.mp4: 640x384 (no detections), 23.3ms\n",
      "video 1/1 (frame 234/1076) d:\\Term 2\\Deep_Learning_Project\\dl_project\\test.mp4: 640x384 (no detections), 24.7ms\n",
      "video 1/1 (frame 235/1076) d:\\Term 2\\Deep_Learning_Project\\dl_project\\test.mp4: 640x384 (no detections), 23.4ms\n",
      "video 1/1 (frame 236/1076) d:\\Term 2\\Deep_Learning_Project\\dl_project\\test.mp4: 640x384 (no detections), 25.5ms\n",
      "video 1/1 (frame 237/1076) d:\\Term 2\\Deep_Learning_Project\\dl_project\\test.mp4: 640x384 (no detections), 25.3ms\n",
      "video 1/1 (frame 238/1076) d:\\Term 2\\Deep_Learning_Project\\dl_project\\test.mp4: 640x384 (no detections), 33.2ms\n",
      "video 1/1 (frame 239/1076) d:\\Term 2\\Deep_Learning_Project\\dl_project\\test.mp4: 640x384 (no detections), 21.6ms\n",
      "video 1/1 (frame 240/1076) d:\\Term 2\\Deep_Learning_Project\\dl_project\\test.mp4: 640x384 (no detections), 21.7ms\n",
      "video 1/1 (frame 241/1076) d:\\Term 2\\Deep_Learning_Project\\dl_project\\test.mp4: 640x384 (no detections), 26.1ms\n",
      "video 1/1 (frame 242/1076) d:\\Term 2\\Deep_Learning_Project\\dl_project\\test.mp4: 640x384 (no detections), 27.5ms\n",
      "video 1/1 (frame 243/1076) d:\\Term 2\\Deep_Learning_Project\\dl_project\\test.mp4: 640x384 (no detections), 25.4ms\n",
      "video 1/1 (frame 244/1076) d:\\Term 2\\Deep_Learning_Project\\dl_project\\test.mp4: 640x384 (no detections), 21.3ms\n",
      "video 1/1 (frame 245/1076) d:\\Term 2\\Deep_Learning_Project\\dl_project\\test.mp4: 640x384 (no detections), 29.7ms\n",
      "video 1/1 (frame 246/1076) d:\\Term 2\\Deep_Learning_Project\\dl_project\\test.mp4: 640x384 (no detections), 28.0ms\n",
      "video 1/1 (frame 247/1076) d:\\Term 2\\Deep_Learning_Project\\dl_project\\test.mp4: 640x384 (no detections), 25.8ms\n",
      "video 1/1 (frame 248/1076) d:\\Term 2\\Deep_Learning_Project\\dl_project\\test.mp4: 640x384 (no detections), 21.3ms\n",
      "video 1/1 (frame 249/1076) d:\\Term 2\\Deep_Learning_Project\\dl_project\\test.mp4: 640x384 (no detections), 23.6ms\n",
      "video 1/1 (frame 250/1076) d:\\Term 2\\Deep_Learning_Project\\dl_project\\test.mp4: 640x384 (no detections), 25.4ms\n",
      "video 1/1 (frame 251/1076) d:\\Term 2\\Deep_Learning_Project\\dl_project\\test.mp4: 640x384 (no detections), 21.2ms\n",
      "video 1/1 (frame 252/1076) d:\\Term 2\\Deep_Learning_Project\\dl_project\\test.mp4: 640x384 (no detections), 21.2ms\n",
      "video 1/1 (frame 253/1076) d:\\Term 2\\Deep_Learning_Project\\dl_project\\test.mp4: 640x384 (no detections), 21.1ms\n",
      "video 1/1 (frame 254/1076) d:\\Term 2\\Deep_Learning_Project\\dl_project\\test.mp4: 640x384 (no detections), 35.8ms\n",
      "video 1/1 (frame 255/1076) d:\\Term 2\\Deep_Learning_Project\\dl_project\\test.mp4: 640x384 (no detections), 21.1ms\n",
      "video 1/1 (frame 256/1076) d:\\Term 2\\Deep_Learning_Project\\dl_project\\test.mp4: 640x384 (no detections), 24.9ms\n",
      "video 1/1 (frame 257/1076) d:\\Term 2\\Deep_Learning_Project\\dl_project\\test.mp4: 640x384 (no detections), 21.3ms\n",
      "video 1/1 (frame 258/1076) d:\\Term 2\\Deep_Learning_Project\\dl_project\\test.mp4: 640x384 (no detections), 21.0ms\n",
      "video 1/1 (frame 259/1076) d:\\Term 2\\Deep_Learning_Project\\dl_project\\test.mp4: 640x384 (no detections), 21.1ms\n",
      "video 1/1 (frame 260/1076) d:\\Term 2\\Deep_Learning_Project\\dl_project\\test.mp4: 640x384 (no detections), 22.8ms\n",
      "video 1/1 (frame 261/1076) d:\\Term 2\\Deep_Learning_Project\\dl_project\\test.mp4: 640x384 (no detections), 28.7ms\n",
      "video 1/1 (frame 262/1076) d:\\Term 2\\Deep_Learning_Project\\dl_project\\test.mp4: 640x384 (no detections), 21.1ms\n",
      "video 1/1 (frame 263/1076) d:\\Term 2\\Deep_Learning_Project\\dl_project\\test.mp4: 640x384 (no detections), 21.7ms\n",
      "video 1/1 (frame 264/1076) d:\\Term 2\\Deep_Learning_Project\\dl_project\\test.mp4: 640x384 (no detections), 32.6ms\n",
      "video 1/1 (frame 265/1076) d:\\Term 2\\Deep_Learning_Project\\dl_project\\test.mp4: 640x384 (no detections), 20.2ms\n",
      "video 1/1 (frame 266/1076) d:\\Term 2\\Deep_Learning_Project\\dl_project\\test.mp4: 640x384 (no detections), 20.3ms\n",
      "video 1/1 (frame 267/1076) d:\\Term 2\\Deep_Learning_Project\\dl_project\\test.mp4: 640x384 (no detections), 20.7ms\n",
      "video 1/1 (frame 268/1076) d:\\Term 2\\Deep_Learning_Project\\dl_project\\test.mp4: 640x384 (no detections), 28.5ms\n",
      "video 1/1 (frame 269/1076) d:\\Term 2\\Deep_Learning_Project\\dl_project\\test.mp4: 640x384 (no detections), 23.7ms\n",
      "video 1/1 (frame 270/1076) d:\\Term 2\\Deep_Learning_Project\\dl_project\\test.mp4: 640x384 (no detections), 20.1ms\n",
      "video 1/1 (frame 271/1076) d:\\Term 2\\Deep_Learning_Project\\dl_project\\test.mp4: 640x384 (no detections), 39.9ms\n",
      "video 1/1 (frame 272/1076) d:\\Term 2\\Deep_Learning_Project\\dl_project\\test.mp4: 640x384 (no detections), 39.9ms\n",
      "video 1/1 (frame 273/1076) d:\\Term 2\\Deep_Learning_Project\\dl_project\\test.mp4: 640x384 (no detections), 39.9ms\n",
      "video 1/1 (frame 274/1076) d:\\Term 2\\Deep_Learning_Project\\dl_project\\test.mp4: 640x384 (no detections), 37.5ms\n",
      "video 1/1 (frame 275/1076) d:\\Term 2\\Deep_Learning_Project\\dl_project\\test.mp4: 640x384 (no detections), 37.6ms\n",
      "video 1/1 (frame 276/1076) d:\\Term 2\\Deep_Learning_Project\\dl_project\\test.mp4: 640x384 (no detections), 37.9ms\n",
      "video 1/1 (frame 277/1076) d:\\Term 2\\Deep_Learning_Project\\dl_project\\test.mp4: 640x384 (no detections), 37.8ms\n",
      "video 1/1 (frame 278/1076) d:\\Term 2\\Deep_Learning_Project\\dl_project\\test.mp4: 640x384 (no detections), 37.3ms\n",
      "video 1/1 (frame 279/1076) d:\\Term 2\\Deep_Learning_Project\\dl_project\\test.mp4: 640x384 (no detections), 37.1ms\n",
      "video 1/1 (frame 280/1076) d:\\Term 2\\Deep_Learning_Project\\dl_project\\test.mp4: 640x384 (no detections), 37.1ms\n",
      "video 1/1 (frame 281/1076) d:\\Term 2\\Deep_Learning_Project\\dl_project\\test.mp4: 640x384 (no detections), 19.3ms\n",
      "video 1/1 (frame 282/1076) d:\\Term 2\\Deep_Learning_Project\\dl_project\\test.mp4: 640x384 (no detections), 20.6ms\n",
      "video 1/1 (frame 283/1076) d:\\Term 2\\Deep_Learning_Project\\dl_project\\test.mp4: 640x384 (no detections), 21.7ms\n",
      "video 1/1 (frame 284/1076) d:\\Term 2\\Deep_Learning_Project\\dl_project\\test.mp4: 640x384 (no detections), 24.9ms\n",
      "video 1/1 (frame 285/1076) d:\\Term 2\\Deep_Learning_Project\\dl_project\\test.mp4: 640x384 (no detections), 38.4ms\n",
      "video 1/1 (frame 286/1076) d:\\Term 2\\Deep_Learning_Project\\dl_project\\test.mp4: 640x384 (no detections), 23.4ms\n",
      "video 1/1 (frame 287/1076) d:\\Term 2\\Deep_Learning_Project\\dl_project\\test.mp4: 640x384 (no detections), 27.7ms\n",
      "video 1/1 (frame 288/1076) d:\\Term 2\\Deep_Learning_Project\\dl_project\\test.mp4: 640x384 (no detections), 34.6ms\n",
      "video 1/1 (frame 289/1076) d:\\Term 2\\Deep_Learning_Project\\dl_project\\test.mp4: 640x384 (no detections), 23.9ms\n",
      "video 1/1 (frame 290/1076) d:\\Term 2\\Deep_Learning_Project\\dl_project\\test.mp4: 640x384 (no detections), 26.7ms\n",
      "video 1/1 (frame 291/1076) d:\\Term 2\\Deep_Learning_Project\\dl_project\\test.mp4: 640x384 (no detections), 35.7ms\n",
      "video 1/1 (frame 292/1076) d:\\Term 2\\Deep_Learning_Project\\dl_project\\test.mp4: 640x384 (no detections), 43.2ms\n",
      "video 1/1 (frame 293/1076) d:\\Term 2\\Deep_Learning_Project\\dl_project\\test.mp4: 640x384 (no detections), 21.9ms\n",
      "video 1/1 (frame 294/1076) d:\\Term 2\\Deep_Learning_Project\\dl_project\\test.mp4: 640x384 (no detections), 19.9ms\n",
      "video 1/1 (frame 295/1076) d:\\Term 2\\Deep_Learning_Project\\dl_project\\test.mp4: 640x384 (no detections), 22.4ms\n",
      "video 1/1 (frame 296/1076) d:\\Term 2\\Deep_Learning_Project\\dl_project\\test.mp4: 640x384 (no detections), 23.4ms\n",
      "video 1/1 (frame 297/1076) d:\\Term 2\\Deep_Learning_Project\\dl_project\\test.mp4: 640x384 (no detections), 21.8ms\n",
      "video 1/1 (frame 298/1076) d:\\Term 2\\Deep_Learning_Project\\dl_project\\test.mp4: 640x384 (no detections), 22.6ms\n",
      "video 1/1 (frame 299/1076) d:\\Term 2\\Deep_Learning_Project\\dl_project\\test.mp4: 640x384 (no detections), 22.3ms\n",
      "video 1/1 (frame 300/1076) d:\\Term 2\\Deep_Learning_Project\\dl_project\\test.mp4: 640x384 (no detections), 23.2ms\n",
      "video 1/1 (frame 301/1076) d:\\Term 2\\Deep_Learning_Project\\dl_project\\test.mp4: 640x384 (no detections), 23.8ms\n",
      "video 1/1 (frame 302/1076) d:\\Term 2\\Deep_Learning_Project\\dl_project\\test.mp4: 640x384 (no detections), 24.6ms\n",
      "video 1/1 (frame 303/1076) d:\\Term 2\\Deep_Learning_Project\\dl_project\\test.mp4: 640x384 (no detections), 24.2ms\n",
      "video 1/1 (frame 304/1076) d:\\Term 2\\Deep_Learning_Project\\dl_project\\test.mp4: 640x384 (no detections), 22.8ms\n",
      "video 1/1 (frame 305/1076) d:\\Term 2\\Deep_Learning_Project\\dl_project\\test.mp4: 640x384 (no detections), 19.9ms\n",
      "video 1/1 (frame 306/1076) d:\\Term 2\\Deep_Learning_Project\\dl_project\\test.mp4: 640x384 (no detections), 25.7ms\n",
      "video 1/1 (frame 307/1076) d:\\Term 2\\Deep_Learning_Project\\dl_project\\test.mp4: 640x384 (no detections), 28.2ms\n",
      "video 1/1 (frame 308/1076) d:\\Term 2\\Deep_Learning_Project\\dl_project\\test.mp4: 640x384 (no detections), 20.6ms\n",
      "video 1/1 (frame 309/1076) d:\\Term 2\\Deep_Learning_Project\\dl_project\\test.mp4: 640x384 (no detections), 31.2ms\n",
      "video 1/1 (frame 310/1076) d:\\Term 2\\Deep_Learning_Project\\dl_project\\test.mp4: 640x384 (no detections), 21.0ms\n",
      "video 1/1 (frame 311/1076) d:\\Term 2\\Deep_Learning_Project\\dl_project\\test.mp4: 640x384 (no detections), 20.0ms\n",
      "video 1/1 (frame 312/1076) d:\\Term 2\\Deep_Learning_Project\\dl_project\\test.mp4: 640x384 (no detections), 20.9ms\n",
      "video 1/1 (frame 313/1076) d:\\Term 2\\Deep_Learning_Project\\dl_project\\test.mp4: 640x384 (no detections), 25.5ms\n",
      "video 1/1 (frame 314/1076) d:\\Term 2\\Deep_Learning_Project\\dl_project\\test.mp4: 640x384 1 licence-plate, 20.0ms\n",
      "video 1/1 (frame 315/1076) d:\\Term 2\\Deep_Learning_Project\\dl_project\\test.mp4: 640x384 1 licence-plate, 26.2ms\n",
      "video 1/1 (frame 316/1076) d:\\Term 2\\Deep_Learning_Project\\dl_project\\test.mp4: 640x384 1 licence-plate, 19.5ms\n",
      "video 1/1 (frame 317/1076) d:\\Term 2\\Deep_Learning_Project\\dl_project\\test.mp4: 640x384 (no detections), 19.6ms\n",
      "video 1/1 (frame 318/1076) d:\\Term 2\\Deep_Learning_Project\\dl_project\\test.mp4: 640x384 (no detections), 24.5ms\n",
      "video 1/1 (frame 319/1076) d:\\Term 2\\Deep_Learning_Project\\dl_project\\test.mp4: 640x384 (no detections), 20.7ms\n",
      "video 1/1 (frame 320/1076) d:\\Term 2\\Deep_Learning_Project\\dl_project\\test.mp4: 640x384 (no detections), 20.1ms\n",
      "video 1/1 (frame 321/1076) d:\\Term 2\\Deep_Learning_Project\\dl_project\\test.mp4: 640x384 (no detections), 25.1ms\n",
      "video 1/1 (frame 322/1076) d:\\Term 2\\Deep_Learning_Project\\dl_project\\test.mp4: 640x384 (no detections), 22.4ms\n",
      "video 1/1 (frame 323/1076) d:\\Term 2\\Deep_Learning_Project\\dl_project\\test.mp4: 640x384 (no detections), 20.3ms\n",
      "video 1/1 (frame 324/1076) d:\\Term 2\\Deep_Learning_Project\\dl_project\\test.mp4: 640x384 1 licence-plate, 20.3ms\n",
      "video 1/1 (frame 325/1076) d:\\Term 2\\Deep_Learning_Project\\dl_project\\test.mp4: 640x384 (no detections), 23.0ms\n",
      "video 1/1 (frame 326/1076) d:\\Term 2\\Deep_Learning_Project\\dl_project\\test.mp4: 640x384 1 licence-plate, 30.9ms\n",
      "video 1/1 (frame 327/1076) d:\\Term 2\\Deep_Learning_Project\\dl_project\\test.mp4: 640x384 (no detections), 21.5ms\n",
      "video 1/1 (frame 328/1076) d:\\Term 2\\Deep_Learning_Project\\dl_project\\test.mp4: 640x384 (no detections), 20.7ms\n",
      "video 1/1 (frame 329/1076) d:\\Term 2\\Deep_Learning_Project\\dl_project\\test.mp4: 640x384 (no detections), 20.8ms\n",
      "video 1/1 (frame 330/1076) d:\\Term 2\\Deep_Learning_Project\\dl_project\\test.mp4: 640x384 (no detections), 26.1ms\n",
      "video 1/1 (frame 331/1076) d:\\Term 2\\Deep_Learning_Project\\dl_project\\test.mp4: 640x384 (no detections), 21.8ms\n",
      "video 1/1 (frame 332/1076) d:\\Term 2\\Deep_Learning_Project\\dl_project\\test.mp4: 640x384 (no detections), 21.8ms\n",
      "video 1/1 (frame 333/1076) d:\\Term 2\\Deep_Learning_Project\\dl_project\\test.mp4: 640x384 (no detections), 21.8ms\n",
      "video 1/1 (frame 334/1076) d:\\Term 2\\Deep_Learning_Project\\dl_project\\test.mp4: 640x384 (no detections), 21.8ms\n",
      "video 1/1 (frame 335/1076) d:\\Term 2\\Deep_Learning_Project\\dl_project\\test.mp4: 640x384 (no detections), 21.8ms\n",
      "video 1/1 (frame 336/1076) d:\\Term 2\\Deep_Learning_Project\\dl_project\\test.mp4: 640x384 (no detections), 22.0ms\n",
      "video 1/1 (frame 337/1076) d:\\Term 2\\Deep_Learning_Project\\dl_project\\test.mp4: 640x384 (no detections), 29.5ms\n",
      "video 1/1 (frame 338/1076) d:\\Term 2\\Deep_Learning_Project\\dl_project\\test.mp4: 640x384 1 licence-plate, 22.3ms\n",
      "video 1/1 (frame 339/1076) d:\\Term 2\\Deep_Learning_Project\\dl_project\\test.mp4: 640x384 1 licence-plate, 22.4ms\n",
      "video 1/1 (frame 340/1076) d:\\Term 2\\Deep_Learning_Project\\dl_project\\test.mp4: 640x384 1 licence-plate, 22.5ms\n",
      "video 1/1 (frame 341/1076) d:\\Term 2\\Deep_Learning_Project\\dl_project\\test.mp4: 640x384 1 licence-plate, 22.5ms\n",
      "video 1/1 (frame 342/1076) d:\\Term 2\\Deep_Learning_Project\\dl_project\\test.mp4: 640x384 2 licence-plates, 22.3ms\n",
      "video 1/1 (frame 343/1076) d:\\Term 2\\Deep_Learning_Project\\dl_project\\test.mp4: 640x384 1 licence-plate, 25.3ms\n",
      "video 1/1 (frame 344/1076) d:\\Term 2\\Deep_Learning_Project\\dl_project\\test.mp4: 640x384 1 licence-plate, 23.2ms\n",
      "video 1/1 (frame 345/1076) d:\\Term 2\\Deep_Learning_Project\\dl_project\\test.mp4: 640x384 1 licence-plate, 28.4ms\n",
      "video 1/1 (frame 346/1076) d:\\Term 2\\Deep_Learning_Project\\dl_project\\test.mp4: 640x384 1 licence-plate, 36.6ms\n",
      "video 1/1 (frame 347/1076) d:\\Term 2\\Deep_Learning_Project\\dl_project\\test.mp4: 640x384 1 licence-plate, 23.8ms\n",
      "video 1/1 (frame 348/1076) d:\\Term 2\\Deep_Learning_Project\\dl_project\\test.mp4: 640x384 1 licence-plate, 24.0ms\n",
      "video 1/1 (frame 349/1076) d:\\Term 2\\Deep_Learning_Project\\dl_project\\test.mp4: 640x384 1 licence-plate, 23.9ms\n",
      "video 1/1 (frame 350/1076) d:\\Term 2\\Deep_Learning_Project\\dl_project\\test.mp4: 640x384 1 licence-plate, 24.0ms\n",
      "video 1/1 (frame 351/1076) d:\\Term 2\\Deep_Learning_Project\\dl_project\\test.mp4: 640x384 1 licence-plate, 24.9ms\n",
      "video 1/1 (frame 352/1076) d:\\Term 2\\Deep_Learning_Project\\dl_project\\test.mp4: 640x384 1 licence-plate, 24.9ms\n",
      "video 1/1 (frame 353/1076) d:\\Term 2\\Deep_Learning_Project\\dl_project\\test.mp4: 640x384 1 licence-plate, 25.0ms\n",
      "video 1/1 (frame 354/1076) d:\\Term 2\\Deep_Learning_Project\\dl_project\\test.mp4: 640x384 1 licence-plate, 27.5ms\n",
      "video 1/1 (frame 355/1076) d:\\Term 2\\Deep_Learning_Project\\dl_project\\test.mp4: 640x384 1 licence-plate, 25.0ms\n",
      "video 1/1 (frame 356/1076) d:\\Term 2\\Deep_Learning_Project\\dl_project\\test.mp4: 640x384 (no detections), 25.0ms\n",
      "video 1/1 (frame 357/1076) d:\\Term 2\\Deep_Learning_Project\\dl_project\\test.mp4: 640x384 1 licence-plate, 24.8ms\n",
      "video 1/1 (frame 358/1076) d:\\Term 2\\Deep_Learning_Project\\dl_project\\test.mp4: 640x384 1 licence-plate, 33.3ms\n",
      "video 1/1 (frame 359/1076) d:\\Term 2\\Deep_Learning_Project\\dl_project\\test.mp4: 640x384 1 licence-plate, 35.5ms\n",
      "video 1/1 (frame 360/1076) d:\\Term 2\\Deep_Learning_Project\\dl_project\\test.mp4: 640x384 1 licence-plate, 25.6ms\n",
      "video 1/1 (frame 361/1076) d:\\Term 2\\Deep_Learning_Project\\dl_project\\test.mp4: 640x384 1 licence-plate, 26.7ms\n",
      "video 1/1 (frame 362/1076) d:\\Term 2\\Deep_Learning_Project\\dl_project\\test.mp4: 640x384 1 licence-plate, 26.8ms\n",
      "video 1/1 (frame 363/1076) d:\\Term 2\\Deep_Learning_Project\\dl_project\\test.mp4: 640x384 1 licence-plate, 26.8ms\n",
      "video 1/1 (frame 364/1076) d:\\Term 2\\Deep_Learning_Project\\dl_project\\test.mp4: 640x384 1 licence-plate, 25.9ms\n",
      "video 1/1 (frame 365/1076) d:\\Term 2\\Deep_Learning_Project\\dl_project\\test.mp4: 640x384 1 licence-plate, 25.8ms\n",
      "video 1/1 (frame 366/1076) d:\\Term 2\\Deep_Learning_Project\\dl_project\\test.mp4: 640x384 1 licence-plate, 29.7ms\n",
      "video 1/1 (frame 367/1076) d:\\Term 2\\Deep_Learning_Project\\dl_project\\test.mp4: 640x384 1 licence-plate, 43.3ms\n",
      "video 1/1 (frame 368/1076) d:\\Term 2\\Deep_Learning_Project\\dl_project\\test.mp4: 640x384 1 licence-plate, 43.5ms\n",
      "video 1/1 (frame 369/1076) d:\\Term 2\\Deep_Learning_Project\\dl_project\\test.mp4: 640x384 1 licence-plate, 43.4ms\n",
      "video 1/1 (frame 370/1076) d:\\Term 2\\Deep_Learning_Project\\dl_project\\test.mp4: 640x384 1 licence-plate, 42.6ms\n",
      "video 1/1 (frame 371/1076) d:\\Term 2\\Deep_Learning_Project\\dl_project\\test.mp4: 640x384 1 licence-plate, 41.7ms\n",
      "video 1/1 (frame 372/1076) d:\\Term 2\\Deep_Learning_Project\\dl_project\\test.mp4: 640x384 1 licence-plate, 41.1ms\n",
      "video 1/1 (frame 373/1076) d:\\Term 2\\Deep_Learning_Project\\dl_project\\test.mp4: 640x384 1 licence-plate, 41.0ms\n",
      "video 1/1 (frame 374/1076) d:\\Term 2\\Deep_Learning_Project\\dl_project\\test.mp4: 640x384 1 licence-plate, 40.2ms\n",
      "video 1/1 (frame 375/1076) d:\\Term 2\\Deep_Learning_Project\\dl_project\\test.mp4: 640x384 1 licence-plate, 38.4ms\n",
      "video 1/1 (frame 376/1076) d:\\Term 2\\Deep_Learning_Project\\dl_project\\test.mp4: 640x384 1 licence-plate, 38.4ms\n",
      "video 1/1 (frame 377/1076) d:\\Term 2\\Deep_Learning_Project\\dl_project\\test.mp4: 640x384 1 licence-plate, 38.4ms\n",
      "video 1/1 (frame 378/1076) d:\\Term 2\\Deep_Learning_Project\\dl_project\\test.mp4: 640x384 1 licence-plate, 38.1ms\n",
      "video 1/1 (frame 379/1076) d:\\Term 2\\Deep_Learning_Project\\dl_project\\test.mp4: 640x384 1 licence-plate, 38.1ms\n",
      "video 1/1 (frame 380/1076) d:\\Term 2\\Deep_Learning_Project\\dl_project\\test.mp4: 640x384 1 licence-plate, 37.7ms\n",
      "video 1/1 (frame 381/1076) d:\\Term 2\\Deep_Learning_Project\\dl_project\\test.mp4: 640x384 1 licence-plate, 37.4ms\n",
      "video 1/1 (frame 382/1076) d:\\Term 2\\Deep_Learning_Project\\dl_project\\test.mp4: 640x384 1 licence-plate, 37.5ms\n",
      "video 1/1 (frame 383/1076) d:\\Term 2\\Deep_Learning_Project\\dl_project\\test.mp4: 640x384 2 licence-plates, 34.1ms\n",
      "video 1/1 (frame 384/1076) d:\\Term 2\\Deep_Learning_Project\\dl_project\\test.mp4: 640x384 1 licence-plate, 22.1ms\n",
      "video 1/1 (frame 385/1076) d:\\Term 2\\Deep_Learning_Project\\dl_project\\test.mp4: 640x384 1 licence-plate, 24.5ms\n",
      "video 1/1 (frame 386/1076) d:\\Term 2\\Deep_Learning_Project\\dl_project\\test.mp4: 640x384 (no detections), 19.5ms\n",
      "video 1/1 (frame 387/1076) d:\\Term 2\\Deep_Learning_Project\\dl_project\\test.mp4: 640x384 1 licence-plate, 21.9ms\n",
      "video 1/1 (frame 388/1076) d:\\Term 2\\Deep_Learning_Project\\dl_project\\test.mp4: 640x384 (no detections), 30.6ms\n",
      "video 1/1 (frame 389/1076) d:\\Term 2\\Deep_Learning_Project\\dl_project\\test.mp4: 640x384 (no detections), 21.3ms\n",
      "video 1/1 (frame 390/1076) d:\\Term 2\\Deep_Learning_Project\\dl_project\\test.mp4: 640x384 (no detections), 20.6ms\n",
      "video 1/1 (frame 391/1076) d:\\Term 2\\Deep_Learning_Project\\dl_project\\test.mp4: 640x384 (no detections), 22.0ms\n",
      "video 1/1 (frame 392/1076) d:\\Term 2\\Deep_Learning_Project\\dl_project\\test.mp4: 640x384 1 licence-plate, 22.9ms\n",
      "video 1/1 (frame 393/1076) d:\\Term 2\\Deep_Learning_Project\\dl_project\\test.mp4: 640x384 (no detections), 20.9ms\n",
      "video 1/1 (frame 394/1076) d:\\Term 2\\Deep_Learning_Project\\dl_project\\test.mp4: 640x384 (no detections), 23.1ms\n",
      "video 1/1 (frame 395/1076) d:\\Term 2\\Deep_Learning_Project\\dl_project\\test.mp4: 640x384 (no detections), 23.5ms\n",
      "video 1/1 (frame 396/1076) d:\\Term 2\\Deep_Learning_Project\\dl_project\\test.mp4: 640x384 (no detections), 25.4ms\n",
      "video 1/1 (frame 397/1076) d:\\Term 2\\Deep_Learning_Project\\dl_project\\test.mp4: 640x384 (no detections), 25.7ms\n",
      "video 1/1 (frame 398/1076) d:\\Term 2\\Deep_Learning_Project\\dl_project\\test.mp4: 640x384 (no detections), 21.1ms\n",
      "video 1/1 (frame 399/1076) d:\\Term 2\\Deep_Learning_Project\\dl_project\\test.mp4: 640x384 1 licence-plate, 20.8ms\n",
      "video 1/1 (frame 400/1076) d:\\Term 2\\Deep_Learning_Project\\dl_project\\test.mp4: 640x384 1 licence-plate, 22.6ms\n",
      "video 1/1 (frame 401/1076) d:\\Term 2\\Deep_Learning_Project\\dl_project\\test.mp4: 640x384 1 licence-plate, 21.0ms\n",
      "video 1/1 (frame 402/1076) d:\\Term 2\\Deep_Learning_Project\\dl_project\\test.mp4: 640x384 1 licence-plate, 19.0ms\n",
      "video 1/1 (frame 403/1076) d:\\Term 2\\Deep_Learning_Project\\dl_project\\test.mp4: 640x384 1 licence-plate, 35.4ms\n",
      "video 1/1 (frame 404/1076) d:\\Term 2\\Deep_Learning_Project\\dl_project\\test.mp4: 640x384 (no detections), 40.9ms\n",
      "video 1/1 (frame 405/1076) d:\\Term 2\\Deep_Learning_Project\\dl_project\\test.mp4: 640x384 (no detections), 20.1ms\n",
      "video 1/1 (frame 406/1076) d:\\Term 2\\Deep_Learning_Project\\dl_project\\test.mp4: 640x384 (no detections), 21.4ms\n",
      "video 1/1 (frame 407/1076) d:\\Term 2\\Deep_Learning_Project\\dl_project\\test.mp4: 640x384 (no detections), 32.4ms\n",
      "video 1/1 (frame 408/1076) d:\\Term 2\\Deep_Learning_Project\\dl_project\\test.mp4: 640x384 (no detections), 28.3ms\n",
      "video 1/1 (frame 409/1076) d:\\Term 2\\Deep_Learning_Project\\dl_project\\test.mp4: 640x384 (no detections), 27.9ms\n",
      "video 1/1 (frame 410/1076) d:\\Term 2\\Deep_Learning_Project\\dl_project\\test.mp4: 640x384 (no detections), 19.0ms\n",
      "video 1/1 (frame 411/1076) d:\\Term 2\\Deep_Learning_Project\\dl_project\\test.mp4: 640x384 (no detections), 23.1ms\n",
      "video 1/1 (frame 412/1076) d:\\Term 2\\Deep_Learning_Project\\dl_project\\test.mp4: 640x384 (no detections), 26.5ms\n",
      "video 1/1 (frame 413/1076) d:\\Term 2\\Deep_Learning_Project\\dl_project\\test.mp4: 640x384 (no detections), 19.4ms\n",
      "video 1/1 (frame 414/1076) d:\\Term 2\\Deep_Learning_Project\\dl_project\\test.mp4: 640x384 (no detections), 31.5ms\n",
      "video 1/1 (frame 415/1076) d:\\Term 2\\Deep_Learning_Project\\dl_project\\test.mp4: 640x384 (no detections), 19.8ms\n",
      "video 1/1 (frame 416/1076) d:\\Term 2\\Deep_Learning_Project\\dl_project\\test.mp4: 640x384 (no detections), 21.3ms\n",
      "video 1/1 (frame 417/1076) d:\\Term 2\\Deep_Learning_Project\\dl_project\\test.mp4: 640x384 (no detections), 30.5ms\n",
      "video 1/1 (frame 418/1076) d:\\Term 2\\Deep_Learning_Project\\dl_project\\test.mp4: 640x384 (no detections), 35.2ms\n",
      "video 1/1 (frame 419/1076) d:\\Term 2\\Deep_Learning_Project\\dl_project\\test.mp4: 640x384 (no detections), 21.8ms\n",
      "video 1/1 (frame 420/1076) d:\\Term 2\\Deep_Learning_Project\\dl_project\\test.mp4: 640x384 (no detections), 20.7ms\n",
      "video 1/1 (frame 421/1076) d:\\Term 2\\Deep_Learning_Project\\dl_project\\test.mp4: 640x384 (no detections), 20.7ms\n",
      "video 1/1 (frame 422/1076) d:\\Term 2\\Deep_Learning_Project\\dl_project\\test.mp4: 640x384 (no detections), 20.5ms\n",
      "video 1/1 (frame 423/1076) d:\\Term 2\\Deep_Learning_Project\\dl_project\\test.mp4: 640x384 (no detections), 20.4ms\n",
      "video 1/1 (frame 424/1076) d:\\Term 2\\Deep_Learning_Project\\dl_project\\test.mp4: 640x384 (no detections), 20.8ms\n",
      "video 1/1 (frame 425/1076) d:\\Term 2\\Deep_Learning_Project\\dl_project\\test.mp4: 640x384 (no detections), 29.0ms\n",
      "video 1/1 (frame 426/1076) d:\\Term 2\\Deep_Learning_Project\\dl_project\\test.mp4: 640x384 (no detections), 21.2ms\n",
      "video 1/1 (frame 427/1076) d:\\Term 2\\Deep_Learning_Project\\dl_project\\test.mp4: 640x384 (no detections), 22.6ms\n",
      "video 1/1 (frame 428/1076) d:\\Term 2\\Deep_Learning_Project\\dl_project\\test.mp4: 640x384 (no detections), 34.0ms\n",
      "video 1/1 (frame 429/1076) d:\\Term 2\\Deep_Learning_Project\\dl_project\\test.mp4: 640x384 (no detections), 27.8ms\n",
      "video 1/1 (frame 430/1076) d:\\Term 2\\Deep_Learning_Project\\dl_project\\test.mp4: 640x384 (no detections), 25.0ms\n",
      "video 1/1 (frame 431/1076) d:\\Term 2\\Deep_Learning_Project\\dl_project\\test.mp4: 640x384 (no detections), 35.6ms\n",
      "video 1/1 (frame 432/1076) d:\\Term 2\\Deep_Learning_Project\\dl_project\\test.mp4: 640x384 (no detections), 22.6ms\n",
      "video 1/1 (frame 433/1076) d:\\Term 2\\Deep_Learning_Project\\dl_project\\test.mp4: 640x384 (no detections), 22.2ms\n",
      "video 1/1 (frame 434/1076) d:\\Term 2\\Deep_Learning_Project\\dl_project\\test.mp4: 640x384 (no detections), 22.2ms\n",
      "video 1/1 (frame 435/1076) d:\\Term 2\\Deep_Learning_Project\\dl_project\\test.mp4: 640x384 1 licence-plate, 29.9ms\n",
      "video 1/1 (frame 436/1076) d:\\Term 2\\Deep_Learning_Project\\dl_project\\test.mp4: 640x384 (no detections), 22.5ms\n",
      "video 1/1 (frame 437/1076) d:\\Term 2\\Deep_Learning_Project\\dl_project\\test.mp4: 640x384 1 licence-plate, 23.3ms\n",
      "video 1/1 (frame 438/1076) d:\\Term 2\\Deep_Learning_Project\\dl_project\\test.mp4: 640x384 1 licence-plate, 23.2ms\n",
      "video 1/1 (frame 439/1076) d:\\Term 2\\Deep_Learning_Project\\dl_project\\test.mp4: 640x384 1 licence-plate, 24.0ms\n",
      "video 1/1 (frame 440/1076) d:\\Term 2\\Deep_Learning_Project\\dl_project\\test.mp4: 640x384 (no detections), 24.2ms\n",
      "video 1/1 (frame 441/1076) d:\\Term 2\\Deep_Learning_Project\\dl_project\\test.mp4: 640x384 (no detections), 24.0ms\n",
      "video 1/1 (frame 442/1076) d:\\Term 2\\Deep_Learning_Project\\dl_project\\test.mp4: 640x384 (no detections), 35.6ms\n",
      "video 1/1 (frame 443/1076) d:\\Term 2\\Deep_Learning_Project\\dl_project\\test.mp4: 640x384 (no detections), 23.9ms\n",
      "video 1/1 (frame 444/1076) d:\\Term 2\\Deep_Learning_Project\\dl_project\\test.mp4: 640x384 (no detections), 25.0ms\n",
      "video 1/1 (frame 445/1076) d:\\Term 2\\Deep_Learning_Project\\dl_project\\test.mp4: 640x384 2 licence-plates, 25.3ms\n",
      "video 1/1 (frame 446/1076) d:\\Term 2\\Deep_Learning_Project\\dl_project\\test.mp4: 640x384 (no detections), 26.0ms\n",
      "video 1/1 (frame 447/1076) d:\\Term 2\\Deep_Learning_Project\\dl_project\\test.mp4: 640x384 (no detections), 24.9ms\n",
      "video 1/1 (frame 448/1076) d:\\Term 2\\Deep_Learning_Project\\dl_project\\test.mp4: 640x384 1 licence-plate, 24.9ms\n",
      "video 1/1 (frame 449/1076) d:\\Term 2\\Deep_Learning_Project\\dl_project\\test.mp4: 640x384 1 licence-plate, 27.1ms\n",
      "video 1/1 (frame 450/1076) d:\\Term 2\\Deep_Learning_Project\\dl_project\\test.mp4: 640x384 (no detections), 43.2ms\n",
      "video 1/1 (frame 451/1076) d:\\Term 2\\Deep_Learning_Project\\dl_project\\test.mp4: 640x384 1 licence-plate, 43.2ms\n",
      "video 1/1 (frame 452/1076) d:\\Term 2\\Deep_Learning_Project\\dl_project\\test.mp4: 640x384 1 licence-plate, 43.3ms\n",
      "video 1/1 (frame 453/1076) d:\\Term 2\\Deep_Learning_Project\\dl_project\\test.mp4: 640x384 1 licence-plate, 42.2ms\n",
      "video 1/1 (frame 454/1076) d:\\Term 2\\Deep_Learning_Project\\dl_project\\test.mp4: 640x384 1 licence-plate, 42.0ms\n",
      "video 1/1 (frame 455/1076) d:\\Term 2\\Deep_Learning_Project\\dl_project\\test.mp4: 640x384 1 licence-plate, 41.3ms\n",
      "video 1/1 (frame 456/1076) d:\\Term 2\\Deep_Learning_Project\\dl_project\\test.mp4: 640x384 1 licence-plate, 41.3ms\n",
      "video 1/1 (frame 457/1076) d:\\Term 2\\Deep_Learning_Project\\dl_project\\test.mp4: 640x384 1 licence-plate, 40.3ms\n",
      "video 1/1 (frame 458/1076) d:\\Term 2\\Deep_Learning_Project\\dl_project\\test.mp4: 640x384 1 licence-plate, 39.6ms\n",
      "video 1/1 (frame 459/1076) d:\\Term 2\\Deep_Learning_Project\\dl_project\\test.mp4: 640x384 1 licence-plate, 39.6ms\n",
      "video 1/1 (frame 460/1076) d:\\Term 2\\Deep_Learning_Project\\dl_project\\test.mp4: 640x384 1 licence-plate, 39.7ms\n",
      "video 1/1 (frame 461/1076) d:\\Term 2\\Deep_Learning_Project\\dl_project\\test.mp4: 640x384 1 licence-plate, 39.0ms\n",
      "video 1/1 (frame 462/1076) d:\\Term 2\\Deep_Learning_Project\\dl_project\\test.mp4: 640x384 1 licence-plate, 38.6ms\n",
      "video 1/1 (frame 463/1076) d:\\Term 2\\Deep_Learning_Project\\dl_project\\test.mp4: 640x384 1 licence-plate, 38.3ms\n",
      "video 1/1 (frame 464/1076) d:\\Term 2\\Deep_Learning_Project\\dl_project\\test.mp4: 640x384 1 licence-plate, 38.3ms\n",
      "video 1/1 (frame 465/1076) d:\\Term 2\\Deep_Learning_Project\\dl_project\\test.mp4: 640x384 1 licence-plate, 38.3ms\n",
      "video 1/1 (frame 466/1076) d:\\Term 2\\Deep_Learning_Project\\dl_project\\test.mp4: 640x384 1 licence-plate, 37.3ms\n",
      "video 1/1 (frame 467/1076) d:\\Term 2\\Deep_Learning_Project\\dl_project\\test.mp4: 640x384 1 licence-plate, 37.2ms\n",
      "video 1/1 (frame 468/1076) d:\\Term 2\\Deep_Learning_Project\\dl_project\\test.mp4: 640x384 1 licence-plate, 37.1ms\n",
      "video 1/1 (frame 469/1076) d:\\Term 2\\Deep_Learning_Project\\dl_project\\test.mp4: 640x384 1 licence-plate, 37.1ms\n",
      "video 1/1 (frame 470/1076) d:\\Term 2\\Deep_Learning_Project\\dl_project\\test.mp4: 640x384 (no detections), 37.1ms\n",
      "video 1/1 (frame 471/1076) d:\\Term 2\\Deep_Learning_Project\\dl_project\\test.mp4: 640x384 (no detections), 37.3ms\n",
      "video 1/1 (frame 472/1076) d:\\Term 2\\Deep_Learning_Project\\dl_project\\test.mp4: 640x384 (no detections), 37.5ms\n",
      "video 1/1 (frame 473/1076) d:\\Term 2\\Deep_Learning_Project\\dl_project\\test.mp4: 640x384 (no detections), 37.0ms\n",
      "video 1/1 (frame 474/1076) d:\\Term 2\\Deep_Learning_Project\\dl_project\\test.mp4: 640x384 (no detections), 20.8ms\n",
      "video 1/1 (frame 475/1076) d:\\Term 2\\Deep_Learning_Project\\dl_project\\test.mp4: 640x384 (no detections), 23.9ms\n",
      "video 1/1 (frame 476/1076) d:\\Term 2\\Deep_Learning_Project\\dl_project\\test.mp4: 640x384 (no detections), 23.8ms\n",
      "video 1/1 (frame 477/1076) d:\\Term 2\\Deep_Learning_Project\\dl_project\\test.mp4: 640x384 (no detections), 20.1ms\n",
      "video 1/1 (frame 478/1076) d:\\Term 2\\Deep_Learning_Project\\dl_project\\test.mp4: 640x384 (no detections), 23.9ms\n",
      "video 1/1 (frame 479/1076) d:\\Term 2\\Deep_Learning_Project\\dl_project\\test.mp4: 640x384 (no detections), 20.9ms\n",
      "video 1/1 (frame 480/1076) d:\\Term 2\\Deep_Learning_Project\\dl_project\\test.mp4: 640x384 (no detections), 21.9ms\n",
      "video 1/1 (frame 481/1076) d:\\Term 2\\Deep_Learning_Project\\dl_project\\test.mp4: 640x384 (no detections), 22.5ms\n",
      "video 1/1 (frame 482/1076) d:\\Term 2\\Deep_Learning_Project\\dl_project\\test.mp4: 640x384 (no detections), 23.3ms\n",
      "video 1/1 (frame 483/1076) d:\\Term 2\\Deep_Learning_Project\\dl_project\\test.mp4: 640x384 (no detections), 20.1ms\n",
      "video 1/1 (frame 484/1076) d:\\Term 2\\Deep_Learning_Project\\dl_project\\test.mp4: 640x384 (no detections), 28.6ms\n",
      "video 1/1 (frame 485/1076) d:\\Term 2\\Deep_Learning_Project\\dl_project\\test.mp4: 640x384 (no detections), 20.2ms\n",
      "video 1/1 (frame 486/1076) d:\\Term 2\\Deep_Learning_Project\\dl_project\\test.mp4: 640x384 (no detections), 21.7ms\n",
      "video 1/1 (frame 487/1076) d:\\Term 2\\Deep_Learning_Project\\dl_project\\test.mp4: 640x384 (no detections), 20.3ms\n",
      "video 1/1 (frame 488/1076) d:\\Term 2\\Deep_Learning_Project\\dl_project\\test.mp4: 640x384 (no detections), 21.7ms\n",
      "video 1/1 (frame 489/1076) d:\\Term 2\\Deep_Learning_Project\\dl_project\\test.mp4: 640x384 (no detections), 20.2ms\n",
      "video 1/1 (frame 490/1076) d:\\Term 2\\Deep_Learning_Project\\dl_project\\test.mp4: 640x384 (no detections), 23.2ms\n",
      "video 1/1 (frame 491/1076) d:\\Term 2\\Deep_Learning_Project\\dl_project\\test.mp4: 640x384 (no detections), 22.0ms\n",
      "video 1/1 (frame 492/1076) d:\\Term 2\\Deep_Learning_Project\\dl_project\\test.mp4: 640x384 (no detections), 22.8ms\n",
      "video 1/1 (frame 493/1076) d:\\Term 2\\Deep_Learning_Project\\dl_project\\test.mp4: 640x384 (no detections), 21.5ms\n",
      "video 1/1 (frame 494/1076) d:\\Term 2\\Deep_Learning_Project\\dl_project\\test.mp4: 640x384 (no detections), 20.6ms\n",
      "video 1/1 (frame 495/1076) d:\\Term 2\\Deep_Learning_Project\\dl_project\\test.mp4: 640x384 (no detections), 21.4ms\n",
      "video 1/1 (frame 496/1076) d:\\Term 2\\Deep_Learning_Project\\dl_project\\test.mp4: 640x384 (no detections), 23.7ms\n",
      "video 1/1 (frame 497/1076) d:\\Term 2\\Deep_Learning_Project\\dl_project\\test.mp4: 640x384 (no detections), 30.0ms\n",
      "video 1/1 (frame 498/1076) d:\\Term 2\\Deep_Learning_Project\\dl_project\\test.mp4: 640x384 (no detections), 25.3ms\n",
      "video 1/1 (frame 499/1076) d:\\Term 2\\Deep_Learning_Project\\dl_project\\test.mp4: 640x384 (no detections), 19.5ms\n",
      "video 1/1 (frame 500/1076) d:\\Term 2\\Deep_Learning_Project\\dl_project\\test.mp4: 640x384 (no detections), 19.5ms\n",
      "video 1/1 (frame 501/1076) d:\\Term 2\\Deep_Learning_Project\\dl_project\\test.mp4: 640x384 (no detections), 21.2ms\n",
      "video 1/1 (frame 502/1076) d:\\Term 2\\Deep_Learning_Project\\dl_project\\test.mp4: 640x384 (no detections), 20.9ms\n",
      "video 1/1 (frame 503/1076) d:\\Term 2\\Deep_Learning_Project\\dl_project\\test.mp4: 640x384 (no detections), 23.3ms\n",
      "video 1/1 (frame 504/1076) d:\\Term 2\\Deep_Learning_Project\\dl_project\\test.mp4: 640x384 (no detections), 24.6ms\n",
      "video 1/1 (frame 505/1076) d:\\Term 2\\Deep_Learning_Project\\dl_project\\test.mp4: 640x384 (no detections), 23.7ms\n",
      "video 1/1 (frame 506/1076) d:\\Term 2\\Deep_Learning_Project\\dl_project\\test.mp4: 640x384 (no detections), 39.6ms\n",
      "video 1/1 (frame 507/1076) d:\\Term 2\\Deep_Learning_Project\\dl_project\\test.mp4: 640x384 (no detections), 39.5ms\n",
      "video 1/1 (frame 508/1076) d:\\Term 2\\Deep_Learning_Project\\dl_project\\test.mp4: 640x384 (no detections), 40.0ms\n",
      "video 1/1 (frame 509/1076) d:\\Term 2\\Deep_Learning_Project\\dl_project\\test.mp4: 640x384 (no detections), 39.7ms\n",
      "video 1/1 (frame 510/1076) d:\\Term 2\\Deep_Learning_Project\\dl_project\\test.mp4: 640x384 (no detections), 39.5ms\n",
      "video 1/1 (frame 511/1076) d:\\Term 2\\Deep_Learning_Project\\dl_project\\test.mp4: 640x384 (no detections), 39.6ms\n",
      "video 1/1 (frame 512/1076) d:\\Term 2\\Deep_Learning_Project\\dl_project\\test.mp4: 640x384 (no detections), 39.0ms\n",
      "video 1/1 (frame 513/1076) d:\\Term 2\\Deep_Learning_Project\\dl_project\\test.mp4: 640x384 (no detections), 38.5ms\n",
      "video 1/1 (frame 514/1076) d:\\Term 2\\Deep_Learning_Project\\dl_project\\test.mp4: 640x384 (no detections), 38.4ms\n",
      "video 1/1 (frame 515/1076) d:\\Term 2\\Deep_Learning_Project\\dl_project\\test.mp4: 640x384 (no detections), 37.0ms\n",
      "video 1/1 (frame 516/1076) d:\\Term 2\\Deep_Learning_Project\\dl_project\\test.mp4: 640x384 (no detections), 37.1ms\n",
      "video 1/1 (frame 517/1076) d:\\Term 2\\Deep_Learning_Project\\dl_project\\test.mp4: 640x384 (no detections), 37.3ms\n",
      "video 1/1 (frame 518/1076) d:\\Term 2\\Deep_Learning_Project\\dl_project\\test.mp4: 640x384 (no detections), 37.2ms\n",
      "video 1/1 (frame 519/1076) d:\\Term 2\\Deep_Learning_Project\\dl_project\\test.mp4: 640x384 (no detections), 22.5ms\n",
      "video 1/1 (frame 520/1076) d:\\Term 2\\Deep_Learning_Project\\dl_project\\test.mp4: 640x384 (no detections), 26.5ms\n",
      "video 1/1 (frame 521/1076) d:\\Term 2\\Deep_Learning_Project\\dl_project\\test.mp4: 640x384 (no detections), 20.3ms\n",
      "video 1/1 (frame 522/1076) d:\\Term 2\\Deep_Learning_Project\\dl_project\\test.mp4: 640x384 (no detections), 25.8ms\n",
      "video 1/1 (frame 523/1076) d:\\Term 2\\Deep_Learning_Project\\dl_project\\test.mp4: 640x384 (no detections), 22.7ms\n",
      "video 1/1 (frame 524/1076) d:\\Term 2\\Deep_Learning_Project\\dl_project\\test.mp4: 640x384 (no detections), 20.4ms\n",
      "video 1/1 (frame 525/1076) d:\\Term 2\\Deep_Learning_Project\\dl_project\\test.mp4: 640x384 (no detections), 20.7ms\n",
      "video 1/1 (frame 526/1076) d:\\Term 2\\Deep_Learning_Project\\dl_project\\test.mp4: 640x384 (no detections), 21.8ms\n",
      "video 1/1 (frame 527/1076) d:\\Term 2\\Deep_Learning_Project\\dl_project\\test.mp4: 640x384 1 licence-plate, 20.4ms\n",
      "video 1/1 (frame 528/1076) d:\\Term 2\\Deep_Learning_Project\\dl_project\\test.mp4: 640x384 1 licence-plate, 20.2ms\n",
      "video 1/1 (frame 529/1076) d:\\Term 2\\Deep_Learning_Project\\dl_project\\test.mp4: 640x384 1 licence-plate, 26.3ms\n",
      "video 1/1 (frame 530/1076) d:\\Term 2\\Deep_Learning_Project\\dl_project\\test.mp4: 640x384 1 licence-plate, 28.5ms\n",
      "video 1/1 (frame 531/1076) d:\\Term 2\\Deep_Learning_Project\\dl_project\\test.mp4: 640x384 1 licence-plate, 20.8ms\n",
      "video 1/1 (frame 532/1076) d:\\Term 2\\Deep_Learning_Project\\dl_project\\test.mp4: 640x384 1 licence-plate, 22.5ms\n",
      "video 1/1 (frame 533/1076) d:\\Term 2\\Deep_Learning_Project\\dl_project\\test.mp4: 640x384 1 licence-plate, 19.8ms\n",
      "video 1/1 (frame 534/1076) d:\\Term 2\\Deep_Learning_Project\\dl_project\\test.mp4: 640x384 1 licence-plate, 32.3ms\n",
      "video 1/1 (frame 535/1076) d:\\Term 2\\Deep_Learning_Project\\dl_project\\test.mp4: 640x384 1 licence-plate, 21.8ms\n",
      "video 1/1 (frame 536/1076) d:\\Term 2\\Deep_Learning_Project\\dl_project\\test.mp4: 640x384 1 licence-plate, 21.6ms\n",
      "video 1/1 (frame 537/1076) d:\\Term 2\\Deep_Learning_Project\\dl_project\\test.mp4: 640x384 1 licence-plate, 19.5ms\n",
      "video 1/1 (frame 538/1076) d:\\Term 2\\Deep_Learning_Project\\dl_project\\test.mp4: 640x384 (no detections), 20.6ms\n",
      "video 1/1 (frame 539/1076) d:\\Term 2\\Deep_Learning_Project\\dl_project\\test.mp4: 640x384 (no detections), 27.4ms\n",
      "video 1/1 (frame 540/1076) d:\\Term 2\\Deep_Learning_Project\\dl_project\\test.mp4: 640x384 (no detections), 39.4ms\n",
      "video 1/1 (frame 541/1076) d:\\Term 2\\Deep_Learning_Project\\dl_project\\test.mp4: 640x384 (no detections), 39.4ms\n",
      "video 1/1 (frame 542/1076) d:\\Term 2\\Deep_Learning_Project\\dl_project\\test.mp4: 640x384 (no detections), 38.9ms\n",
      "video 1/1 (frame 543/1076) d:\\Term 2\\Deep_Learning_Project\\dl_project\\test.mp4: 640x384 (no detections), 39.1ms\n",
      "video 1/1 (frame 544/1076) d:\\Term 2\\Deep_Learning_Project\\dl_project\\test.mp4: 640x384 (no detections), 38.7ms\n",
      "video 1/1 (frame 545/1076) d:\\Term 2\\Deep_Learning_Project\\dl_project\\test.mp4: 640x384 (no detections), 38.2ms\n",
      "video 1/1 (frame 546/1076) d:\\Term 2\\Deep_Learning_Project\\dl_project\\test.mp4: 640x384 (no detections), 38.3ms\n",
      "video 1/1 (frame 547/1076) d:\\Term 2\\Deep_Learning_Project\\dl_project\\test.mp4: 640x384 (no detections), 25.0ms\n",
      "video 1/1 (frame 548/1076) d:\\Term 2\\Deep_Learning_Project\\dl_project\\test.mp4: 640x384 (no detections), 20.4ms\n",
      "video 1/1 (frame 549/1076) d:\\Term 2\\Deep_Learning_Project\\dl_project\\test.mp4: 640x384 (no detections), 22.5ms\n",
      "video 1/1 (frame 550/1076) d:\\Term 2\\Deep_Learning_Project\\dl_project\\test.mp4: 640x384 (no detections), 22.7ms\n",
      "video 1/1 (frame 551/1076) d:\\Term 2\\Deep_Learning_Project\\dl_project\\test.mp4: 640x384 (no detections), 21.3ms\n",
      "video 1/1 (frame 552/1076) d:\\Term 2\\Deep_Learning_Project\\dl_project\\test.mp4: 640x384 (no detections), 28.7ms\n",
      "video 1/1 (frame 553/1076) d:\\Term 2\\Deep_Learning_Project\\dl_project\\test.mp4: 640x384 (no detections), 22.4ms\n",
      "video 1/1 (frame 554/1076) d:\\Term 2\\Deep_Learning_Project\\dl_project\\test.mp4: 640x384 (no detections), 27.9ms\n",
      "video 1/1 (frame 555/1076) d:\\Term 2\\Deep_Learning_Project\\dl_project\\test.mp4: 640x384 (no detections), 21.8ms\n",
      "video 1/1 (frame 556/1076) d:\\Term 2\\Deep_Learning_Project\\dl_project\\test.mp4: 640x384 (no detections), 24.9ms\n",
      "video 1/1 (frame 557/1076) d:\\Term 2\\Deep_Learning_Project\\dl_project\\test.mp4: 640x384 (no detections), 21.5ms\n",
      "video 1/1 (frame 558/1076) d:\\Term 2\\Deep_Learning_Project\\dl_project\\test.mp4: 640x384 (no detections), 23.9ms\n",
      "video 1/1 (frame 559/1076) d:\\Term 2\\Deep_Learning_Project\\dl_project\\test.mp4: 640x384 (no detections), 23.2ms\n",
      "video 1/1 (frame 560/1076) d:\\Term 2\\Deep_Learning_Project\\dl_project\\test.mp4: 640x384 (no detections), 24.2ms\n",
      "video 1/1 (frame 561/1076) d:\\Term 2\\Deep_Learning_Project\\dl_project\\test.mp4: 640x384 (no detections), 21.8ms\n",
      "video 1/1 (frame 562/1076) d:\\Term 2\\Deep_Learning_Project\\dl_project\\test.mp4: 640x384 (no detections), 25.2ms\n",
      "video 1/1 (frame 563/1076) d:\\Term 2\\Deep_Learning_Project\\dl_project\\test.mp4: 640x384 (no detections), 23.6ms\n",
      "video 1/1 (frame 564/1076) d:\\Term 2\\Deep_Learning_Project\\dl_project\\test.mp4: 640x384 (no detections), 23.1ms\n",
      "video 1/1 (frame 565/1076) d:\\Term 2\\Deep_Learning_Project\\dl_project\\test.mp4: 640x384 (no detections), 37.5ms\n",
      "video 1/1 (frame 566/1076) d:\\Term 2\\Deep_Learning_Project\\dl_project\\test.mp4: 640x384 (no detections), 34.5ms\n",
      "video 1/1 (frame 567/1076) d:\\Term 2\\Deep_Learning_Project\\dl_project\\test.mp4: 640x384 (no detections), 23.1ms\n",
      "video 1/1 (frame 568/1076) d:\\Term 2\\Deep_Learning_Project\\dl_project\\test.mp4: 640x384 (no detections), 24.1ms\n",
      "video 1/1 (frame 569/1076) d:\\Term 2\\Deep_Learning_Project\\dl_project\\test.mp4: 640x384 (no detections), 19.3ms\n",
      "video 1/1 (frame 570/1076) d:\\Term 2\\Deep_Learning_Project\\dl_project\\test.mp4: 640x384 (no detections), 32.8ms\n",
      "video 1/1 (frame 571/1076) d:\\Term 2\\Deep_Learning_Project\\dl_project\\test.mp4: 640x384 (no detections), 39.9ms\n",
      "video 1/1 (frame 572/1076) d:\\Term 2\\Deep_Learning_Project\\dl_project\\test.mp4: 640x384 (no detections), 40.0ms\n",
      "video 1/1 (frame 573/1076) d:\\Term 2\\Deep_Learning_Project\\dl_project\\test.mp4: 640x384 (no detections), 39.4ms\n",
      "video 1/1 (frame 574/1076) d:\\Term 2\\Deep_Learning_Project\\dl_project\\test.mp4: 640x384 (no detections), 37.6ms\n",
      "video 1/1 (frame 575/1076) d:\\Term 2\\Deep_Learning_Project\\dl_project\\test.mp4: 640x384 (no detections), 37.8ms\n",
      "video 1/1 (frame 576/1076) d:\\Term 2\\Deep_Learning_Project\\dl_project\\test.mp4: 640x384 (no detections), 37.8ms\n",
      "video 1/1 (frame 577/1076) d:\\Term 2\\Deep_Learning_Project\\dl_project\\test.mp4: 640x384 (no detections), 37.6ms\n",
      "video 1/1 (frame 578/1076) d:\\Term 2\\Deep_Learning_Project\\dl_project\\test.mp4: 640x384 (no detections), 29.2ms\n",
      "video 1/1 (frame 579/1076) d:\\Term 2\\Deep_Learning_Project\\dl_project\\test.mp4: 640x384 (no detections), 22.6ms\n",
      "video 1/1 (frame 580/1076) d:\\Term 2\\Deep_Learning_Project\\dl_project\\test.mp4: 640x384 (no detections), 21.0ms\n",
      "video 1/1 (frame 581/1076) d:\\Term 2\\Deep_Learning_Project\\dl_project\\test.mp4: 640x384 (no detections), 28.3ms\n",
      "video 1/1 (frame 582/1076) d:\\Term 2\\Deep_Learning_Project\\dl_project\\test.mp4: 640x384 (no detections), 30.3ms\n",
      "video 1/1 (frame 583/1076) d:\\Term 2\\Deep_Learning_Project\\dl_project\\test.mp4: 640x384 (no detections), 25.3ms\n",
      "video 1/1 (frame 584/1076) d:\\Term 2\\Deep_Learning_Project\\dl_project\\test.mp4: 640x384 (no detections), 22.0ms\n",
      "video 1/1 (frame 585/1076) d:\\Term 2\\Deep_Learning_Project\\dl_project\\test.mp4: 640x384 (no detections), 27.8ms\n",
      "video 1/1 (frame 586/1076) d:\\Term 2\\Deep_Learning_Project\\dl_project\\test.mp4: 640x384 (no detections), 27.1ms\n",
      "video 1/1 (frame 587/1076) d:\\Term 2\\Deep_Learning_Project\\dl_project\\test.mp4: 640x384 (no detections), 22.2ms\n",
      "video 1/1 (frame 588/1076) d:\\Term 2\\Deep_Learning_Project\\dl_project\\test.mp4: 640x384 (no detections), 23.0ms\n",
      "video 1/1 (frame 589/1076) d:\\Term 2\\Deep_Learning_Project\\dl_project\\test.mp4: 640x384 (no detections), 40.7ms\n",
      "video 1/1 (frame 590/1076) d:\\Term 2\\Deep_Learning_Project\\dl_project\\test.mp4: 640x384 (no detections), 22.3ms\n",
      "video 1/1 (frame 591/1076) d:\\Term 2\\Deep_Learning_Project\\dl_project\\test.mp4: 640x384 (no detections), 26.6ms\n",
      "video 1/1 (frame 592/1076) d:\\Term 2\\Deep_Learning_Project\\dl_project\\test.mp4: 640x384 (no detections), 28.9ms\n",
      "video 1/1 (frame 593/1076) d:\\Term 2\\Deep_Learning_Project\\dl_project\\test.mp4: 640x384 (no detections), 19.7ms\n",
      "video 1/1 (frame 594/1076) d:\\Term 2\\Deep_Learning_Project\\dl_project\\test.mp4: 640x384 (no detections), 39.0ms\n",
      "video 1/1 (frame 595/1076) d:\\Term 2\\Deep_Learning_Project\\dl_project\\test.mp4: 640x384 (no detections), 19.8ms\n",
      "video 1/1 (frame 596/1076) d:\\Term 2\\Deep_Learning_Project\\dl_project\\test.mp4: 640x384 (no detections), 21.4ms\n",
      "video 1/1 (frame 597/1076) d:\\Term 2\\Deep_Learning_Project\\dl_project\\test.mp4: 640x384 (no detections), 29.1ms\n",
      "video 1/1 (frame 598/1076) d:\\Term 2\\Deep_Learning_Project\\dl_project\\test.mp4: 640x384 (no detections), 29.7ms\n",
      "video 1/1 (frame 599/1076) d:\\Term 2\\Deep_Learning_Project\\dl_project\\test.mp4: 640x384 (no detections), 27.3ms\n",
      "video 1/1 (frame 600/1076) d:\\Term 2\\Deep_Learning_Project\\dl_project\\test.mp4: 640x384 (no detections), 39.3ms\n",
      "video 1/1 (frame 601/1076) d:\\Term 2\\Deep_Learning_Project\\dl_project\\test.mp4: 640x384 (no detections), 26.8ms\n",
      "video 1/1 (frame 602/1076) d:\\Term 2\\Deep_Learning_Project\\dl_project\\test.mp4: 640x384 (no detections), 39.1ms\n",
      "video 1/1 (frame 603/1076) d:\\Term 2\\Deep_Learning_Project\\dl_project\\test.mp4: 640x384 (no detections), 39.2ms\n",
      "video 1/1 (frame 604/1076) d:\\Term 2\\Deep_Learning_Project\\dl_project\\test.mp4: 640x384 (no detections), 38.1ms\n",
      "video 1/1 (frame 605/1076) d:\\Term 2\\Deep_Learning_Project\\dl_project\\test.mp4: 640x384 (no detections), 37.8ms\n",
      "video 1/1 (frame 606/1076) d:\\Term 2\\Deep_Learning_Project\\dl_project\\test.mp4: 640x384 (no detections), 38.0ms\n",
      "video 1/1 (frame 607/1076) d:\\Term 2\\Deep_Learning_Project\\dl_project\\test.mp4: 640x384 (no detections), 21.3ms\n",
      "video 1/1 (frame 608/1076) d:\\Term 2\\Deep_Learning_Project\\dl_project\\test.mp4: 640x384 (no detections), 27.5ms\n",
      "video 1/1 (frame 609/1076) d:\\Term 2\\Deep_Learning_Project\\dl_project\\test.mp4: 640x384 (no detections), 28.4ms\n",
      "video 1/1 (frame 610/1076) d:\\Term 2\\Deep_Learning_Project\\dl_project\\test.mp4: 640x384 (no detections), 22.0ms\n",
      "video 1/1 (frame 611/1076) d:\\Term 2\\Deep_Learning_Project\\dl_project\\test.mp4: 640x384 (no detections), 19.4ms\n",
      "video 1/1 (frame 612/1076) d:\\Term 2\\Deep_Learning_Project\\dl_project\\test.mp4: 640x384 (no detections), 21.7ms\n",
      "video 1/1 (frame 613/1076) d:\\Term 2\\Deep_Learning_Project\\dl_project\\test.mp4: 640x384 (no detections), 25.8ms\n",
      "video 1/1 (frame 614/1076) d:\\Term 2\\Deep_Learning_Project\\dl_project\\test.mp4: 640x384 (no detections), 27.4ms\n",
      "video 1/1 (frame 615/1076) d:\\Term 2\\Deep_Learning_Project\\dl_project\\test.mp4: 640x384 (no detections), 25.3ms\n",
      "video 1/1 (frame 616/1076) d:\\Term 2\\Deep_Learning_Project\\dl_project\\test.mp4: 640x384 (no detections), 20.8ms\n",
      "video 1/1 (frame 617/1076) d:\\Term 2\\Deep_Learning_Project\\dl_project\\test.mp4: 640x384 (no detections), 19.1ms\n",
      "video 1/1 (frame 618/1076) d:\\Term 2\\Deep_Learning_Project\\dl_project\\test.mp4: 640x384 (no detections), 29.7ms\n",
      "video 1/1 (frame 619/1076) d:\\Term 2\\Deep_Learning_Project\\dl_project\\test.mp4: 640x384 (no detections), 20.8ms\n",
      "video 1/1 (frame 620/1076) d:\\Term 2\\Deep_Learning_Project\\dl_project\\test.mp4: 640x384 (no detections), 24.7ms\n",
      "video 1/1 (frame 621/1076) d:\\Term 2\\Deep_Learning_Project\\dl_project\\test.mp4: 640x384 (no detections), 22.5ms\n",
      "video 1/1 (frame 622/1076) d:\\Term 2\\Deep_Learning_Project\\dl_project\\test.mp4: 640x384 (no detections), 22.7ms\n",
      "video 1/1 (frame 623/1076) d:\\Term 2\\Deep_Learning_Project\\dl_project\\test.mp4: 640x384 (no detections), 23.4ms\n",
      "video 1/1 (frame 624/1076) d:\\Term 2\\Deep_Learning_Project\\dl_project\\test.mp4: 640x384 (no detections), 25.6ms\n",
      "video 1/1 (frame 625/1076) d:\\Term 2\\Deep_Learning_Project\\dl_project\\test.mp4: 640x384 1 licence-plate, 26.9ms\n",
      "video 1/1 (frame 626/1076) d:\\Term 2\\Deep_Learning_Project\\dl_project\\test.mp4: 640x384 1 licence-plate, 20.4ms\n",
      "video 1/1 (frame 627/1076) d:\\Term 2\\Deep_Learning_Project\\dl_project\\test.mp4: 640x384 1 licence-plate, 20.6ms\n",
      "video 1/1 (frame 628/1076) d:\\Term 2\\Deep_Learning_Project\\dl_project\\test.mp4: 640x384 1 licence-plate, 19.4ms\n",
      "video 1/1 (frame 629/1076) d:\\Term 2\\Deep_Learning_Project\\dl_project\\test.mp4: 640x384 1 licence-plate, 22.4ms\n",
      "video 1/1 (frame 630/1076) d:\\Term 2\\Deep_Learning_Project\\dl_project\\test.mp4: 640x384 1 licence-plate, 23.2ms\n",
      "video 1/1 (frame 631/1076) d:\\Term 2\\Deep_Learning_Project\\dl_project\\test.mp4: 640x384 1 licence-plate, 21.5ms\n",
      "video 1/1 (frame 632/1076) d:\\Term 2\\Deep_Learning_Project\\dl_project\\test.mp4: 640x384 1 licence-plate, 23.9ms\n",
      "video 1/1 (frame 633/1076) d:\\Term 2\\Deep_Learning_Project\\dl_project\\test.mp4: 640x384 1 licence-plate, 24.0ms\n",
      "video 1/1 (frame 634/1076) d:\\Term 2\\Deep_Learning_Project\\dl_project\\test.mp4: 640x384 (no detections), 19.7ms\n",
      "video 1/1 (frame 635/1076) d:\\Term 2\\Deep_Learning_Project\\dl_project\\test.mp4: 640x384 (no detections), 31.2ms\n",
      "video 1/1 (frame 636/1076) d:\\Term 2\\Deep_Learning_Project\\dl_project\\test.mp4: 640x384 (no detections), 19.6ms\n",
      "video 1/1 (frame 637/1076) d:\\Term 2\\Deep_Learning_Project\\dl_project\\test.mp4: 640x384 (no detections), 20.6ms\n",
      "video 1/1 (frame 638/1076) d:\\Term 2\\Deep_Learning_Project\\dl_project\\test.mp4: 640x384 (no detections), 21.2ms\n",
      "video 1/1 (frame 639/1076) d:\\Term 2\\Deep_Learning_Project\\dl_project\\test.mp4: 640x384 (no detections), 26.3ms\n",
      "video 1/1 (frame 640/1076) d:\\Term 2\\Deep_Learning_Project\\dl_project\\test.mp4: 640x384 (no detections), 27.1ms\n",
      "video 1/1 (frame 641/1076) d:\\Term 2\\Deep_Learning_Project\\dl_project\\test.mp4: 640x384 (no detections), 20.9ms\n",
      "video 1/1 (frame 642/1076) d:\\Term 2\\Deep_Learning_Project\\dl_project\\test.mp4: 640x384 (no detections), 21.2ms\n",
      "video 1/1 (frame 643/1076) d:\\Term 2\\Deep_Learning_Project\\dl_project\\test.mp4: 640x384 (no detections), 27.7ms\n",
      "video 1/1 (frame 644/1076) d:\\Term 2\\Deep_Learning_Project\\dl_project\\test.mp4: 640x384 1 licence-plate, 22.7ms\n",
      "video 1/1 (frame 645/1076) d:\\Term 2\\Deep_Learning_Project\\dl_project\\test.mp4: 640x384 1 licence-plate, 21.6ms\n",
      "video 1/1 (frame 646/1076) d:\\Term 2\\Deep_Learning_Project\\dl_project\\test.mp4: 640x384 1 licence-plate, 22.4ms\n",
      "video 1/1 (frame 647/1076) d:\\Term 2\\Deep_Learning_Project\\dl_project\\test.mp4: 640x384 1 licence-plate, 25.6ms\n",
      "video 1/1 (frame 648/1076) d:\\Term 2\\Deep_Learning_Project\\dl_project\\test.mp4: 640x384 1 licence-plate, 24.1ms\n",
      "video 1/1 (frame 649/1076) d:\\Term 2\\Deep_Learning_Project\\dl_project\\test.mp4: 640x384 1 licence-plate, 22.5ms\n",
      "video 1/1 (frame 650/1076) d:\\Term 2\\Deep_Learning_Project\\dl_project\\test.mp4: 640x384 1 licence-plate, 23.1ms\n",
      "video 1/1 (frame 651/1076) d:\\Term 2\\Deep_Learning_Project\\dl_project\\test.mp4: 640x384 1 licence-plate, 23.0ms\n",
      "video 1/1 (frame 652/1076) d:\\Term 2\\Deep_Learning_Project\\dl_project\\test.mp4: 640x384 1 licence-plate, 23.3ms\n",
      "video 1/1 (frame 653/1076) d:\\Term 2\\Deep_Learning_Project\\dl_project\\test.mp4: 640x384 1 licence-plate, 24.8ms\n",
      "video 1/1 (frame 654/1076) d:\\Term 2\\Deep_Learning_Project\\dl_project\\test.mp4: 640x384 (no detections), 24.7ms\n",
      "video 1/1 (frame 655/1076) d:\\Term 2\\Deep_Learning_Project\\dl_project\\test.mp4: 640x384 (no detections), 29.9ms\n",
      "video 1/1 (frame 656/1076) d:\\Term 2\\Deep_Learning_Project\\dl_project\\test.mp4: 640x384 (no detections), 43.0ms\n",
      "video 1/1 (frame 657/1076) d:\\Term 2\\Deep_Learning_Project\\dl_project\\test.mp4: 640x384 (no detections), 42.3ms\n",
      "video 1/1 (frame 658/1076) d:\\Term 2\\Deep_Learning_Project\\dl_project\\test.mp4: 640x384 (no detections), 40.7ms\n",
      "video 1/1 (frame 659/1076) d:\\Term 2\\Deep_Learning_Project\\dl_project\\test.mp4: 640x384 (no detections), 40.6ms\n",
      "video 1/1 (frame 660/1076) d:\\Term 2\\Deep_Learning_Project\\dl_project\\test.mp4: 640x384 (no detections), 39.3ms\n",
      "video 1/1 (frame 661/1076) d:\\Term 2\\Deep_Learning_Project\\dl_project\\test.mp4: 640x384 1 licence-plate, 39.5ms\n",
      "video 1/1 (frame 662/1076) d:\\Term 2\\Deep_Learning_Project\\dl_project\\test.mp4: 640x384 1 licence-plate, 39.0ms\n",
      "video 1/1 (frame 663/1076) d:\\Term 2\\Deep_Learning_Project\\dl_project\\test.mp4: 640x384 1 licence-plate, 39.2ms\n",
      "video 1/1 (frame 664/1076) d:\\Term 2\\Deep_Learning_Project\\dl_project\\test.mp4: 640x384 1 licence-plate, 39.3ms\n",
      "video 1/1 (frame 665/1076) d:\\Term 2\\Deep_Learning_Project\\dl_project\\test.mp4: 640x384 1 licence-plate, 39.2ms\n",
      "video 1/1 (frame 666/1076) d:\\Term 2\\Deep_Learning_Project\\dl_project\\test.mp4: 640x384 1 licence-plate, 39.5ms\n",
      "video 1/1 (frame 667/1076) d:\\Term 2\\Deep_Learning_Project\\dl_project\\test.mp4: 640x384 1 licence-plate, 39.5ms\n",
      "video 1/1 (frame 668/1076) d:\\Term 2\\Deep_Learning_Project\\dl_project\\test.mp4: 640x384 1 licence-plate, 39.1ms\n",
      "video 1/1 (frame 669/1076) d:\\Term 2\\Deep_Learning_Project\\dl_project\\test.mp4: 640x384 1 licence-plate, 37.3ms\n",
      "video 1/1 (frame 670/1076) d:\\Term 2\\Deep_Learning_Project\\dl_project\\test.mp4: 640x384 1 licence-plate, 37.2ms\n",
      "video 1/1 (frame 671/1076) d:\\Term 2\\Deep_Learning_Project\\dl_project\\test.mp4: 640x384 1 licence-plate, 37.1ms\n",
      "video 1/1 (frame 672/1076) d:\\Term 2\\Deep_Learning_Project\\dl_project\\test.mp4: 640x384 1 licence-plate, 37.5ms\n",
      "video 1/1 (frame 673/1076) d:\\Term 2\\Deep_Learning_Project\\dl_project\\test.mp4: 640x384 1 licence-plate, 31.3ms\n",
      "video 1/1 (frame 674/1076) d:\\Term 2\\Deep_Learning_Project\\dl_project\\test.mp4: 640x384 1 licence-plate, 22.1ms\n",
      "video 1/1 (frame 675/1076) d:\\Term 2\\Deep_Learning_Project\\dl_project\\test.mp4: 640x384 1 licence-plate, 22.7ms\n",
      "video 1/1 (frame 676/1076) d:\\Term 2\\Deep_Learning_Project\\dl_project\\test.mp4: 640x384 1 licence-plate, 25.7ms\n",
      "video 1/1 (frame 677/1076) d:\\Term 2\\Deep_Learning_Project\\dl_project\\test.mp4: 640x384 1 licence-plate, 24.0ms\n",
      "video 1/1 (frame 678/1076) d:\\Term 2\\Deep_Learning_Project\\dl_project\\test.mp4: 640x384 (no detections), 30.0ms\n",
      "video 1/1 (frame 679/1076) d:\\Term 2\\Deep_Learning_Project\\dl_project\\test.mp4: 640x384 (no detections), 21.2ms\n",
      "video 1/1 (frame 680/1076) d:\\Term 2\\Deep_Learning_Project\\dl_project\\test.mp4: 640x384 (no detections), 27.3ms\n",
      "video 1/1 (frame 681/1076) d:\\Term 2\\Deep_Learning_Project\\dl_project\\test.mp4: 640x384 (no detections), 23.4ms\n",
      "video 1/1 (frame 682/1076) d:\\Term 2\\Deep_Learning_Project\\dl_project\\test.mp4: 640x384 (no detections), 23.4ms\n",
      "video 1/1 (frame 683/1076) d:\\Term 2\\Deep_Learning_Project\\dl_project\\test.mp4: 640x384 (no detections), 24.8ms\n",
      "video 1/1 (frame 684/1076) d:\\Term 2\\Deep_Learning_Project\\dl_project\\test.mp4: 640x384 (no detections), 19.5ms\n",
      "video 1/1 (frame 685/1076) d:\\Term 2\\Deep_Learning_Project\\dl_project\\test.mp4: 640x384 (no detections), 21.9ms\n",
      "video 1/1 (frame 686/1076) d:\\Term 2\\Deep_Learning_Project\\dl_project\\test.mp4: 640x384 (no detections), 25.0ms\n",
      "video 1/1 (frame 687/1076) d:\\Term 2\\Deep_Learning_Project\\dl_project\\test.mp4: 640x384 (no detections), 23.8ms\n",
      "video 1/1 (frame 688/1076) d:\\Term 2\\Deep_Learning_Project\\dl_project\\test.mp4: 640x384 (no detections), 26.1ms\n",
      "video 1/1 (frame 689/1076) d:\\Term 2\\Deep_Learning_Project\\dl_project\\test.mp4: 640x384 (no detections), 21.0ms\n",
      "video 1/1 (frame 690/1076) d:\\Term 2\\Deep_Learning_Project\\dl_project\\test.mp4: 640x384 (no detections), 20.5ms\n",
      "video 1/1 (frame 691/1076) d:\\Term 2\\Deep_Learning_Project\\dl_project\\test.mp4: 640x384 (no detections), 23.1ms\n",
      "video 1/1 (frame 692/1076) d:\\Term 2\\Deep_Learning_Project\\dl_project\\test.mp4: 640x384 (no detections), 23.0ms\n",
      "video 1/1 (frame 693/1076) d:\\Term 2\\Deep_Learning_Project\\dl_project\\test.mp4: 640x384 (no detections), 20.4ms\n",
      "video 1/1 (frame 694/1076) d:\\Term 2\\Deep_Learning_Project\\dl_project\\test.mp4: 640x384 (no detections), 19.3ms\n",
      "video 1/1 (frame 695/1076) d:\\Term 2\\Deep_Learning_Project\\dl_project\\test.mp4: 640x384 1 licence-plate, 25.6ms\n",
      "video 1/1 (frame 696/1076) d:\\Term 2\\Deep_Learning_Project\\dl_project\\test.mp4: 640x384 1 licence-plate, 20.8ms\n",
      "video 1/1 (frame 697/1076) d:\\Term 2\\Deep_Learning_Project\\dl_project\\test.mp4: 640x384 1 licence-plate, 23.1ms\n",
      "video 1/1 (frame 698/1076) d:\\Term 2\\Deep_Learning_Project\\dl_project\\test.mp4: 640x384 1 licence-plate, 19.8ms\n",
      "video 1/1 (frame 699/1076) d:\\Term 2\\Deep_Learning_Project\\dl_project\\test.mp4: 640x384 1 licence-plate, 22.0ms\n",
      "video 1/1 (frame 700/1076) d:\\Term 2\\Deep_Learning_Project\\dl_project\\test.mp4: 640x384 1 licence-plate, 23.1ms\n",
      "video 1/1 (frame 701/1076) d:\\Term 2\\Deep_Learning_Project\\dl_project\\test.mp4: 640x384 1 licence-plate, 25.3ms\n",
      "video 1/1 (frame 702/1076) d:\\Term 2\\Deep_Learning_Project\\dl_project\\test.mp4: 640x384 1 licence-plate, 24.1ms\n",
      "video 1/1 (frame 703/1076) d:\\Term 2\\Deep_Learning_Project\\dl_project\\test.mp4: 640x384 1 licence-plate, 23.4ms\n",
      "video 1/1 (frame 704/1076) d:\\Term 2\\Deep_Learning_Project\\dl_project\\test.mp4: 640x384 1 licence-plate, 22.8ms\n",
      "video 1/1 (frame 705/1076) d:\\Term 2\\Deep_Learning_Project\\dl_project\\test.mp4: 640x384 1 licence-plate, 22.0ms\n",
      "video 1/1 (frame 706/1076) d:\\Term 2\\Deep_Learning_Project\\dl_project\\test.mp4: 640x384 2 licence-plates, 20.5ms\n",
      "video 1/1 (frame 707/1076) d:\\Term 2\\Deep_Learning_Project\\dl_project\\test.mp4: 640x384 2 licence-plates, 32.3ms\n",
      "video 1/1 (frame 708/1076) d:\\Term 2\\Deep_Learning_Project\\dl_project\\test.mp4: 640x384 1 licence-plate, 24.3ms\n",
      "video 1/1 (frame 709/1076) d:\\Term 2\\Deep_Learning_Project\\dl_project\\test.mp4: 640x384 (no detections), 21.2ms\n",
      "video 1/1 (frame 710/1076) d:\\Term 2\\Deep_Learning_Project\\dl_project\\test.mp4: 640x384 (no detections), 24.1ms\n",
      "video 1/1 (frame 711/1076) d:\\Term 2\\Deep_Learning_Project\\dl_project\\test.mp4: 640x384 (no detections), 21.5ms\n",
      "video 1/1 (frame 712/1076) d:\\Term 2\\Deep_Learning_Project\\dl_project\\test.mp4: 640x384 (no detections), 27.5ms\n",
      "video 1/1 (frame 713/1076) d:\\Term 2\\Deep_Learning_Project\\dl_project\\test.mp4: 640x384 (no detections), 21.4ms\n",
      "video 1/1 (frame 714/1076) d:\\Term 2\\Deep_Learning_Project\\dl_project\\test.mp4: 640x384 (no detections), 21.3ms\n",
      "video 1/1 (frame 715/1076) d:\\Term 2\\Deep_Learning_Project\\dl_project\\test.mp4: 640x384 (no detections), 24.9ms\n",
      "video 1/1 (frame 716/1076) d:\\Term 2\\Deep_Learning_Project\\dl_project\\test.mp4: 640x384 (no detections), 21.1ms\n",
      "video 1/1 (frame 717/1076) d:\\Term 2\\Deep_Learning_Project\\dl_project\\test.mp4: 640x384 (no detections), 22.2ms\n",
      "video 1/1 (frame 718/1076) d:\\Term 2\\Deep_Learning_Project\\dl_project\\test.mp4: 640x384 (no detections), 21.1ms\n",
      "video 1/1 (frame 719/1076) d:\\Term 2\\Deep_Learning_Project\\dl_project\\test.mp4: 640x384 (no detections), 21.1ms\n",
      "video 1/1 (frame 720/1076) d:\\Term 2\\Deep_Learning_Project\\dl_project\\test.mp4: 640x384 (no detections), 21.1ms\n",
      "video 1/1 (frame 721/1076) d:\\Term 2\\Deep_Learning_Project\\dl_project\\test.mp4: 640x384 (no detections), 21.2ms\n",
      "video 1/1 (frame 722/1076) d:\\Term 2\\Deep_Learning_Project\\dl_project\\test.mp4: 640x384 (no detections), 20.2ms\n",
      "video 1/1 (frame 723/1076) d:\\Term 2\\Deep_Learning_Project\\dl_project\\test.mp4: 640x384 (no detections), 24.2ms\n",
      "video 1/1 (frame 724/1076) d:\\Term 2\\Deep_Learning_Project\\dl_project\\test.mp4: 640x384 (no detections), 23.1ms\n",
      "video 1/1 (frame 725/1076) d:\\Term 2\\Deep_Learning_Project\\dl_project\\test.mp4: 640x384 (no detections), 20.2ms\n",
      "video 1/1 (frame 726/1076) d:\\Term 2\\Deep_Learning_Project\\dl_project\\test.mp4: 640x384 (no detections), 20.3ms\n",
      "video 1/1 (frame 727/1076) d:\\Term 2\\Deep_Learning_Project\\dl_project\\test.mp4: 640x384 (no detections), 23.1ms\n",
      "video 1/1 (frame 728/1076) d:\\Term 2\\Deep_Learning_Project\\dl_project\\test.mp4: 640x384 (no detections), 24.7ms\n",
      "video 1/1 (frame 729/1076) d:\\Term 2\\Deep_Learning_Project\\dl_project\\test.mp4: 640x384 (no detections), 22.2ms\n",
      "video 1/1 (frame 730/1076) d:\\Term 2\\Deep_Learning_Project\\dl_project\\test.mp4: 640x384 (no detections), 28.6ms\n",
      "video 1/1 (frame 731/1076) d:\\Term 2\\Deep_Learning_Project\\dl_project\\test.mp4: 640x384 (no detections), 23.6ms\n",
      "video 1/1 (frame 732/1076) d:\\Term 2\\Deep_Learning_Project\\dl_project\\test.mp4: 640x384 (no detections), 20.1ms\n",
      "video 1/1 (frame 733/1076) d:\\Term 2\\Deep_Learning_Project\\dl_project\\test.mp4: 640x384 (no detections), 20.4ms\n",
      "video 1/1 (frame 734/1076) d:\\Term 2\\Deep_Learning_Project\\dl_project\\test.mp4: 640x384 (no detections), 21.0ms\n",
      "video 1/1 (frame 735/1076) d:\\Term 2\\Deep_Learning_Project\\dl_project\\test.mp4: 640x384 (no detections), 20.6ms\n",
      "video 1/1 (frame 736/1076) d:\\Term 2\\Deep_Learning_Project\\dl_project\\test.mp4: 640x384 (no detections), 20.4ms\n",
      "video 1/1 (frame 737/1076) d:\\Term 2\\Deep_Learning_Project\\dl_project\\test.mp4: 640x384 (no detections), 23.6ms\n",
      "video 1/1 (frame 738/1076) d:\\Term 2\\Deep_Learning_Project\\dl_project\\test.mp4: 640x384 (no detections), 27.4ms\n",
      "video 1/1 (frame 739/1076) d:\\Term 2\\Deep_Learning_Project\\dl_project\\test.mp4: 640x384 (no detections), 24.6ms\n",
      "video 1/1 (frame 740/1076) d:\\Term 2\\Deep_Learning_Project\\dl_project\\test.mp4: 640x384 (no detections), 20.2ms\n",
      "video 1/1 (frame 741/1076) d:\\Term 2\\Deep_Learning_Project\\dl_project\\test.mp4: 640x384 (no detections), 19.7ms\n",
      "video 1/1 (frame 742/1076) d:\\Term 2\\Deep_Learning_Project\\dl_project\\test.mp4: 640x384 (no detections), 21.0ms\n",
      "video 1/1 (frame 743/1076) d:\\Term 2\\Deep_Learning_Project\\dl_project\\test.mp4: 640x384 (no detections), 33.5ms\n",
      "video 1/1 (frame 744/1076) d:\\Term 2\\Deep_Learning_Project\\dl_project\\test.mp4: 640x384 (no detections), 20.8ms\n",
      "video 1/1 (frame 745/1076) d:\\Term 2\\Deep_Learning_Project\\dl_project\\test.mp4: 640x384 (no detections), 21.2ms\n",
      "video 1/1 (frame 746/1076) d:\\Term 2\\Deep_Learning_Project\\dl_project\\test.mp4: 640x384 (no detections), 20.5ms\n",
      "video 1/1 (frame 747/1076) d:\\Term 2\\Deep_Learning_Project\\dl_project\\test.mp4: 640x384 (no detections), 21.7ms\n",
      "video 1/1 (frame 748/1076) d:\\Term 2\\Deep_Learning_Project\\dl_project\\test.mp4: 640x384 (no detections), 20.9ms\n",
      "video 1/1 (frame 749/1076) d:\\Term 2\\Deep_Learning_Project\\dl_project\\test.mp4: 640x384 (no detections), 21.1ms\n",
      "video 1/1 (frame 750/1076) d:\\Term 2\\Deep_Learning_Project\\dl_project\\test.mp4: 640x384 (no detections), 20.9ms\n",
      "video 1/1 (frame 751/1076) d:\\Term 2\\Deep_Learning_Project\\dl_project\\test.mp4: 640x384 (no detections), 23.7ms\n",
      "video 1/1 (frame 752/1076) d:\\Term 2\\Deep_Learning_Project\\dl_project\\test.mp4: 640x384 (no detections), 20.3ms\n",
      "video 1/1 (frame 753/1076) d:\\Term 2\\Deep_Learning_Project\\dl_project\\test.mp4: 640x384 (no detections), 21.7ms\n",
      "video 1/1 (frame 754/1076) d:\\Term 2\\Deep_Learning_Project\\dl_project\\test.mp4: 640x384 (no detections), 21.0ms\n",
      "video 1/1 (frame 755/1076) d:\\Term 2\\Deep_Learning_Project\\dl_project\\test.mp4: 640x384 (no detections), 21.3ms\n",
      "video 1/1 (frame 756/1076) d:\\Term 2\\Deep_Learning_Project\\dl_project\\test.mp4: 640x384 (no detections), 21.7ms\n",
      "video 1/1 (frame 757/1076) d:\\Term 2\\Deep_Learning_Project\\dl_project\\test.mp4: 640x384 (no detections), 25.6ms\n",
      "video 1/1 (frame 758/1076) d:\\Term 2\\Deep_Learning_Project\\dl_project\\test.mp4: 640x384 (no detections), 21.9ms\n",
      "video 1/1 (frame 759/1076) d:\\Term 2\\Deep_Learning_Project\\dl_project\\test.mp4: 640x384 (no detections), 20.4ms\n",
      "video 1/1 (frame 760/1076) d:\\Term 2\\Deep_Learning_Project\\dl_project\\test.mp4: 640x384 (no detections), 21.4ms\n",
      "video 1/1 (frame 761/1076) d:\\Term 2\\Deep_Learning_Project\\dl_project\\test.mp4: 640x384 (no detections), 24.1ms\n",
      "video 1/1 (frame 762/1076) d:\\Term 2\\Deep_Learning_Project\\dl_project\\test.mp4: 640x384 (no detections), 20.8ms\n",
      "video 1/1 (frame 763/1076) d:\\Term 2\\Deep_Learning_Project\\dl_project\\test.mp4: 640x384 (no detections), 27.1ms\n",
      "video 1/1 (frame 764/1076) d:\\Term 2\\Deep_Learning_Project\\dl_project\\test.mp4: 640x384 (no detections), 36.6ms\n",
      "video 1/1 (frame 765/1076) d:\\Term 2\\Deep_Learning_Project\\dl_project\\test.mp4: 640x384 (no detections), 25.6ms\n",
      "video 1/1 (frame 766/1076) d:\\Term 2\\Deep_Learning_Project\\dl_project\\test.mp4: 640x384 (no detections), 21.9ms\n",
      "video 1/1 (frame 767/1076) d:\\Term 2\\Deep_Learning_Project\\dl_project\\test.mp4: 640x384 (no detections), 21.4ms\n",
      "video 1/1 (frame 768/1076) d:\\Term 2\\Deep_Learning_Project\\dl_project\\test.mp4: 640x384 (no detections), 23.3ms\n",
      "video 1/1 (frame 769/1076) d:\\Term 2\\Deep_Learning_Project\\dl_project\\test.mp4: 640x384 (no detections), 20.4ms\n",
      "video 1/1 (frame 770/1076) d:\\Term 2\\Deep_Learning_Project\\dl_project\\test.mp4: 640x384 (no detections), 22.9ms\n",
      "video 1/1 (frame 771/1076) d:\\Term 2\\Deep_Learning_Project\\dl_project\\test.mp4: 640x384 1 licence-plate, 19.4ms\n",
      "video 1/1 (frame 772/1076) d:\\Term 2\\Deep_Learning_Project\\dl_project\\test.mp4: 640x384 1 licence-plate, 35.6ms\n",
      "video 1/1 (frame 773/1076) d:\\Term 2\\Deep_Learning_Project\\dl_project\\test.mp4: 640x384 1 licence-plate, 22.5ms\n",
      "video 1/1 (frame 774/1076) d:\\Term 2\\Deep_Learning_Project\\dl_project\\test.mp4: 640x384 1 licence-plate, 23.9ms\n",
      "video 1/1 (frame 775/1076) d:\\Term 2\\Deep_Learning_Project\\dl_project\\test.mp4: 640x384 1 licence-plate, 23.9ms\n",
      "video 1/1 (frame 776/1076) d:\\Term 2\\Deep_Learning_Project\\dl_project\\test.mp4: 640x384 1 licence-plate, 24.8ms\n",
      "video 1/1 (frame 777/1076) d:\\Term 2\\Deep_Learning_Project\\dl_project\\test.mp4: 640x384 1 licence-plate, 27.3ms\n",
      "video 1/1 (frame 778/1076) d:\\Term 2\\Deep_Learning_Project\\dl_project\\test.mp4: 640x384 1 licence-plate, 30.2ms\n",
      "video 1/1 (frame 779/1076) d:\\Term 2\\Deep_Learning_Project\\dl_project\\test.mp4: 640x384 1 licence-plate, 26.5ms\n",
      "video 1/1 (frame 780/1076) d:\\Term 2\\Deep_Learning_Project\\dl_project\\test.mp4: 640x384 1 licence-plate, 24.7ms\n",
      "video 1/1 (frame 781/1076) d:\\Term 2\\Deep_Learning_Project\\dl_project\\test.mp4: 640x384 1 licence-plate, 25.8ms\n",
      "video 1/1 (frame 782/1076) d:\\Term 2\\Deep_Learning_Project\\dl_project\\test.mp4: 640x384 1 licence-plate, 24.6ms\n",
      "video 1/1 (frame 783/1076) d:\\Term 2\\Deep_Learning_Project\\dl_project\\test.mp4: 640x384 1 licence-plate, 24.6ms\n",
      "video 1/1 (frame 784/1076) d:\\Term 2\\Deep_Learning_Project\\dl_project\\test.mp4: 640x384 1 licence-plate, 26.4ms\n",
      "video 1/1 (frame 785/1076) d:\\Term 2\\Deep_Learning_Project\\dl_project\\test.mp4: 640x384 1 licence-plate, 32.3ms\n",
      "video 1/1 (frame 786/1076) d:\\Term 2\\Deep_Learning_Project\\dl_project\\test.mp4: 640x384 1 licence-plate, 26.0ms\n",
      "video 1/1 (frame 787/1076) d:\\Term 2\\Deep_Learning_Project\\dl_project\\test.mp4: 640x384 (no detections), 25.8ms\n",
      "video 1/1 (frame 788/1076) d:\\Term 2\\Deep_Learning_Project\\dl_project\\test.mp4: 640x384 1 licence-plate, 25.9ms\n",
      "video 1/1 (frame 789/1076) d:\\Term 2\\Deep_Learning_Project\\dl_project\\test.mp4: 640x384 1 licence-plate, 26.0ms\n",
      "video 1/1 (frame 790/1076) d:\\Term 2\\Deep_Learning_Project\\dl_project\\test.mp4: 640x384 (no detections), 26.4ms\n",
      "video 1/1 (frame 791/1076) d:\\Term 2\\Deep_Learning_Project\\dl_project\\test.mp4: 640x384 (no detections), 26.9ms\n",
      "video 1/1 (frame 792/1076) d:\\Term 2\\Deep_Learning_Project\\dl_project\\test.mp4: 640x384 (no detections), 27.0ms\n",
      "video 1/1 (frame 793/1076) d:\\Term 2\\Deep_Learning_Project\\dl_project\\test.mp4: 640x384 (no detections), 26.2ms\n",
      "video 1/1 (frame 794/1076) d:\\Term 2\\Deep_Learning_Project\\dl_project\\test.mp4: 640x384 (no detections), 25.0ms\n",
      "video 1/1 (frame 795/1076) d:\\Term 2\\Deep_Learning_Project\\dl_project\\test.mp4: 640x384 (no detections), 25.0ms\n",
      "video 1/1 (frame 796/1076) d:\\Term 2\\Deep_Learning_Project\\dl_project\\test.mp4: 640x384 (no detections), 42.7ms\n",
      "video 1/1 (frame 797/1076) d:\\Term 2\\Deep_Learning_Project\\dl_project\\test.mp4: 640x384 (no detections), 42.8ms\n",
      "video 1/1 (frame 798/1076) d:\\Term 2\\Deep_Learning_Project\\dl_project\\test.mp4: 640x384 (no detections), 41.7ms\n",
      "video 1/1 (frame 799/1076) d:\\Term 2\\Deep_Learning_Project\\dl_project\\test.mp4: 640x384 (no detections), 41.7ms\n",
      "video 1/1 (frame 800/1076) d:\\Term 2\\Deep_Learning_Project\\dl_project\\test.mp4: 640x384 (no detections), 41.0ms\n",
      "video 1/1 (frame 801/1076) d:\\Term 2\\Deep_Learning_Project\\dl_project\\test.mp4: 640x384 (no detections), 41.1ms\n",
      "video 1/1 (frame 802/1076) d:\\Term 2\\Deep_Learning_Project\\dl_project\\test.mp4: 640x384 (no detections), 40.4ms\n",
      "video 1/1 (frame 803/1076) d:\\Term 2\\Deep_Learning_Project\\dl_project\\test.mp4: 640x384 (no detections), 40.2ms\n",
      "video 1/1 (frame 804/1076) d:\\Term 2\\Deep_Learning_Project\\dl_project\\test.mp4: 640x384 (no detections), 40.3ms\n",
      "video 1/1 (frame 805/1076) d:\\Term 2\\Deep_Learning_Project\\dl_project\\test.mp4: 640x384 (no detections), 37.6ms\n",
      "video 1/1 (frame 806/1076) d:\\Term 2\\Deep_Learning_Project\\dl_project\\test.mp4: 640x384 (no detections), 37.5ms\n",
      "video 1/1 (frame 807/1076) d:\\Term 2\\Deep_Learning_Project\\dl_project\\test.mp4: 640x384 (no detections), 37.7ms\n",
      "video 1/1 (frame 808/1076) d:\\Term 2\\Deep_Learning_Project\\dl_project\\test.mp4: 640x384 (no detections), 37.7ms\n",
      "video 1/1 (frame 809/1076) d:\\Term 2\\Deep_Learning_Project\\dl_project\\test.mp4: 640x384 (no detections), 21.9ms\n",
      "video 1/1 (frame 810/1076) d:\\Term 2\\Deep_Learning_Project\\dl_project\\test.mp4: 640x384 (no detections), 24.3ms\n",
      "video 1/1 (frame 811/1076) d:\\Term 2\\Deep_Learning_Project\\dl_project\\test.mp4: 640x384 (no detections), 21.5ms\n",
      "video 1/1 (frame 812/1076) d:\\Term 2\\Deep_Learning_Project\\dl_project\\test.mp4: 640x384 (no detections), 22.4ms\n",
      "video 1/1 (frame 813/1076) d:\\Term 2\\Deep_Learning_Project\\dl_project\\test.mp4: 640x384 (no detections), 41.8ms\n",
      "video 1/1 (frame 814/1076) d:\\Term 2\\Deep_Learning_Project\\dl_project\\test.mp4: 640x384 (no detections), 23.0ms\n",
      "video 1/1 (frame 815/1076) d:\\Term 2\\Deep_Learning_Project\\dl_project\\test.mp4: 640x384 (no detections), 22.0ms\n",
      "video 1/1 (frame 816/1076) d:\\Term 2\\Deep_Learning_Project\\dl_project\\test.mp4: 640x384 (no detections), 20.2ms\n",
      "video 1/1 (frame 817/1076) d:\\Term 2\\Deep_Learning_Project\\dl_project\\test.mp4: 640x384 (no detections), 20.6ms\n",
      "video 1/1 (frame 818/1076) d:\\Term 2\\Deep_Learning_Project\\dl_project\\test.mp4: 640x384 (no detections), 23.2ms\n",
      "video 1/1 (frame 819/1076) d:\\Term 2\\Deep_Learning_Project\\dl_project\\test.mp4: 640x384 (no detections), 22.4ms\n",
      "video 1/1 (frame 820/1076) d:\\Term 2\\Deep_Learning_Project\\dl_project\\test.mp4: 640x384 (no detections), 22.4ms\n",
      "video 1/1 (frame 821/1076) d:\\Term 2\\Deep_Learning_Project\\dl_project\\test.mp4: 640x384 (no detections), 28.2ms\n",
      "video 1/1 (frame 822/1076) d:\\Term 2\\Deep_Learning_Project\\dl_project\\test.mp4: 640x384 (no detections), 21.3ms\n",
      "video 1/1 (frame 823/1076) d:\\Term 2\\Deep_Learning_Project\\dl_project\\test.mp4: 640x384 (no detections), 20.5ms\n",
      "video 1/1 (frame 824/1076) d:\\Term 2\\Deep_Learning_Project\\dl_project\\test.mp4: 640x384 (no detections), 28.5ms\n",
      "video 1/1 (frame 825/1076) d:\\Term 2\\Deep_Learning_Project\\dl_project\\test.mp4: 640x384 (no detections), 29.2ms\n",
      "video 1/1 (frame 826/1076) d:\\Term 2\\Deep_Learning_Project\\dl_project\\test.mp4: 640x384 (no detections), 23.3ms\n",
      "video 1/1 (frame 827/1076) d:\\Term 2\\Deep_Learning_Project\\dl_project\\test.mp4: 640x384 (no detections), 25.2ms\n",
      "video 1/1 (frame 828/1076) d:\\Term 2\\Deep_Learning_Project\\dl_project\\test.mp4: 640x384 (no detections), 23.4ms\n",
      "video 1/1 (frame 829/1076) d:\\Term 2\\Deep_Learning_Project\\dl_project\\test.mp4: 640x384 (no detections), 37.3ms\n",
      "video 1/1 (frame 830/1076) d:\\Term 2\\Deep_Learning_Project\\dl_project\\test.mp4: 640x384 (no detections), 34.1ms\n",
      "video 1/1 (frame 831/1076) d:\\Term 2\\Deep_Learning_Project\\dl_project\\test.mp4: 640x384 (no detections), 20.9ms\n",
      "video 1/1 (frame 832/1076) d:\\Term 2\\Deep_Learning_Project\\dl_project\\test.mp4: 640x384 (no detections), 21.1ms\n",
      "video 1/1 (frame 833/1076) d:\\Term 2\\Deep_Learning_Project\\dl_project\\test.mp4: 640x384 (no detections), 39.0ms\n",
      "video 1/1 (frame 834/1076) d:\\Term 2\\Deep_Learning_Project\\dl_project\\test.mp4: 640x384 1 licence-plate, 39.1ms\n",
      "video 1/1 (frame 835/1076) d:\\Term 2\\Deep_Learning_Project\\dl_project\\test.mp4: 640x384 (no detections), 39.1ms\n",
      "video 1/1 (frame 836/1076) d:\\Term 2\\Deep_Learning_Project\\dl_project\\test.mp4: 640x384 (no detections), 39.0ms\n",
      "video 1/1 (frame 837/1076) d:\\Term 2\\Deep_Learning_Project\\dl_project\\test.mp4: 640x384 (no detections), 39.0ms\n",
      "video 1/1 (frame 838/1076) d:\\Term 2\\Deep_Learning_Project\\dl_project\\test.mp4: 640x384 (no detections), 32.8ms\n",
      "video 1/1 (frame 839/1076) d:\\Term 2\\Deep_Learning_Project\\dl_project\\test.mp4: 640x384 (no detections), 24.4ms\n",
      "video 1/1 (frame 840/1076) d:\\Term 2\\Deep_Learning_Project\\dl_project\\test.mp4: 640x384 (no detections), 22.1ms\n",
      "video 1/1 (frame 841/1076) d:\\Term 2\\Deep_Learning_Project\\dl_project\\test.mp4: 640x384 (no detections), 25.5ms\n",
      "video 1/1 (frame 842/1076) d:\\Term 2\\Deep_Learning_Project\\dl_project\\test.mp4: 640x384 (no detections), 21.9ms\n",
      "video 1/1 (frame 843/1076) d:\\Term 2\\Deep_Learning_Project\\dl_project\\test.mp4: 640x384 (no detections), 28.9ms\n",
      "video 1/1 (frame 844/1076) d:\\Term 2\\Deep_Learning_Project\\dl_project\\test.mp4: 640x384 (no detections), 28.0ms\n",
      "video 1/1 (frame 845/1076) d:\\Term 2\\Deep_Learning_Project\\dl_project\\test.mp4: 640x384 (no detections), 24.5ms\n",
      "video 1/1 (frame 846/1076) d:\\Term 2\\Deep_Learning_Project\\dl_project\\test.mp4: 640x384 (no detections), 22.3ms\n",
      "video 1/1 (frame 847/1076) d:\\Term 2\\Deep_Learning_Project\\dl_project\\test.mp4: 640x384 (no detections), 31.4ms\n",
      "video 1/1 (frame 848/1076) d:\\Term 2\\Deep_Learning_Project\\dl_project\\test.mp4: 640x384 (no detections), 27.5ms\n",
      "video 1/1 (frame 849/1076) d:\\Term 2\\Deep_Learning_Project\\dl_project\\test.mp4: 640x384 (no detections), 24.5ms\n",
      "video 1/1 (frame 850/1076) d:\\Term 2\\Deep_Learning_Project\\dl_project\\test.mp4: 640x384 (no detections), 23.9ms\n",
      "video 1/1 (frame 851/1076) d:\\Term 2\\Deep_Learning_Project\\dl_project\\test.mp4: 640x384 (no detections), 22.2ms\n",
      "video 1/1 (frame 852/1076) d:\\Term 2\\Deep_Learning_Project\\dl_project\\test.mp4: 640x384 (no detections), 21.3ms\n",
      "video 1/1 (frame 853/1076) d:\\Term 2\\Deep_Learning_Project\\dl_project\\test.mp4: 640x384 (no detections), 21.2ms\n",
      "video 1/1 (frame 854/1076) d:\\Term 2\\Deep_Learning_Project\\dl_project\\test.mp4: 640x384 (no detections), 24.0ms\n",
      "video 1/1 (frame 855/1076) d:\\Term 2\\Deep_Learning_Project\\dl_project\\test.mp4: 640x384 (no detections), 21.7ms\n",
      "video 1/1 (frame 856/1076) d:\\Term 2\\Deep_Learning_Project\\dl_project\\test.mp4: 640x384 (no detections), 22.1ms\n",
      "video 1/1 (frame 857/1076) d:\\Term 2\\Deep_Learning_Project\\dl_project\\test.mp4: 640x384 (no detections), 22.7ms\n",
      "video 1/1 (frame 858/1076) d:\\Term 2\\Deep_Learning_Project\\dl_project\\test.mp4: 640x384 (no detections), 21.9ms\n",
      "video 1/1 (frame 859/1076) d:\\Term 2\\Deep_Learning_Project\\dl_project\\test.mp4: 640x384 (no detections), 21.7ms\n",
      "video 1/1 (frame 860/1076) d:\\Term 2\\Deep_Learning_Project\\dl_project\\test.mp4: 640x384 (no detections), 31.1ms\n",
      "video 1/1 (frame 861/1076) d:\\Term 2\\Deep_Learning_Project\\dl_project\\test.mp4: 640x384 (no detections), 20.8ms\n",
      "video 1/1 (frame 862/1076) d:\\Term 2\\Deep_Learning_Project\\dl_project\\test.mp4: 640x384 (no detections), 22.2ms\n",
      "video 1/1 (frame 863/1076) d:\\Term 2\\Deep_Learning_Project\\dl_project\\test.mp4: 640x384 (no detections), 22.1ms\n",
      "video 1/1 (frame 864/1076) d:\\Term 2\\Deep_Learning_Project\\dl_project\\test.mp4: 640x384 (no detections), 35.0ms\n",
      "video 1/1 (frame 865/1076) d:\\Term 2\\Deep_Learning_Project\\dl_project\\test.mp4: 640x384 1 licence-plate, 28.1ms\n",
      "video 1/1 (frame 866/1076) d:\\Term 2\\Deep_Learning_Project\\dl_project\\test.mp4: 640x384 (no detections), 25.6ms\n",
      "video 1/1 (frame 867/1076) d:\\Term 2\\Deep_Learning_Project\\dl_project\\test.mp4: 640x384 (no detections), 31.9ms\n",
      "video 1/1 (frame 868/1076) d:\\Term 2\\Deep_Learning_Project\\dl_project\\test.mp4: 640x384 (no detections), 24.0ms\n",
      "video 1/1 (frame 869/1076) d:\\Term 2\\Deep_Learning_Project\\dl_project\\test.mp4: 640x384 (no detections), 26.5ms\n",
      "video 1/1 (frame 870/1076) d:\\Term 2\\Deep_Learning_Project\\dl_project\\test.mp4: 640x384 (no detections), 20.8ms\n",
      "video 1/1 (frame 871/1076) d:\\Term 2\\Deep_Learning_Project\\dl_project\\test.mp4: 640x384 (no detections), 24.4ms\n",
      "video 1/1 (frame 872/1076) d:\\Term 2\\Deep_Learning_Project\\dl_project\\test.mp4: 640x384 (no detections), 23.3ms\n",
      "video 1/1 (frame 873/1076) d:\\Term 2\\Deep_Learning_Project\\dl_project\\test.mp4: 640x384 (no detections), 20.6ms\n",
      "video 1/1 (frame 874/1076) d:\\Term 2\\Deep_Learning_Project\\dl_project\\test.mp4: 640x384 (no detections), 27.7ms\n",
      "video 1/1 (frame 875/1076) d:\\Term 2\\Deep_Learning_Project\\dl_project\\test.mp4: 640x384 (no detections), 28.9ms\n",
      "video 1/1 (frame 876/1076) d:\\Term 2\\Deep_Learning_Project\\dl_project\\test.mp4: 640x384 (no detections), 21.7ms\n",
      "video 1/1 (frame 877/1076) d:\\Term 2\\Deep_Learning_Project\\dl_project\\test.mp4: 640x384 (no detections), 21.2ms\n",
      "video 1/1 (frame 878/1076) d:\\Term 2\\Deep_Learning_Project\\dl_project\\test.mp4: 640x384 (no detections), 21.1ms\n",
      "video 1/1 (frame 879/1076) d:\\Term 2\\Deep_Learning_Project\\dl_project\\test.mp4: 640x384 (no detections), 21.2ms\n",
      "video 1/1 (frame 880/1076) d:\\Term 2\\Deep_Learning_Project\\dl_project\\test.mp4: 640x384 (no detections), 21.5ms\n",
      "video 1/1 (frame 881/1076) d:\\Term 2\\Deep_Learning_Project\\dl_project\\test.mp4: 640x384 (no detections), 27.1ms\n",
      "video 1/1 (frame 882/1076) d:\\Term 2\\Deep_Learning_Project\\dl_project\\test.mp4: 640x384 (no detections), 28.5ms\n",
      "video 1/1 (frame 883/1076) d:\\Term 2\\Deep_Learning_Project\\dl_project\\test.mp4: 640x384 (no detections), 21.7ms\n",
      "video 1/1 (frame 884/1076) d:\\Term 2\\Deep_Learning_Project\\dl_project\\test.mp4: 640x384 (no detections), 21.7ms\n",
      "video 1/1 (frame 885/1076) d:\\Term 2\\Deep_Learning_Project\\dl_project\\test.mp4: 640x384 (no detections), 23.0ms\n",
      "video 1/1 (frame 886/1076) d:\\Term 2\\Deep_Learning_Project\\dl_project\\test.mp4: 640x384 (no detections), 28.7ms\n",
      "video 1/1 (frame 887/1076) d:\\Term 2\\Deep_Learning_Project\\dl_project\\test.mp4: 640x384 (no detections), 20.6ms\n",
      "video 1/1 (frame 888/1076) d:\\Term 2\\Deep_Learning_Project\\dl_project\\test.mp4: 640x384 (no detections), 34.7ms\n",
      "video 1/1 (frame 889/1076) d:\\Term 2\\Deep_Learning_Project\\dl_project\\test.mp4: 640x384 (no detections), 24.1ms\n",
      "video 1/1 (frame 890/1076) d:\\Term 2\\Deep_Learning_Project\\dl_project\\test.mp4: 640x384 (no detections), 20.0ms\n",
      "video 1/1 (frame 891/1076) d:\\Term 2\\Deep_Learning_Project\\dl_project\\test.mp4: 640x384 (no detections), 34.0ms\n",
      "video 1/1 (frame 892/1076) d:\\Term 2\\Deep_Learning_Project\\dl_project\\test.mp4: 640x384 (no detections), 20.6ms\n",
      "video 1/1 (frame 893/1076) d:\\Term 2\\Deep_Learning_Project\\dl_project\\test.mp4: 640x384 (no detections), 20.1ms\n",
      "video 1/1 (frame 894/1076) d:\\Term 2\\Deep_Learning_Project\\dl_project\\test.mp4: 640x384 (no detections), 25.5ms\n",
      "video 1/1 (frame 895/1076) d:\\Term 2\\Deep_Learning_Project\\dl_project\\test.mp4: 640x384 (no detections), 23.2ms\n",
      "video 1/1 (frame 896/1076) d:\\Term 2\\Deep_Learning_Project\\dl_project\\test.mp4: 640x384 (no detections), 22.3ms\n",
      "video 1/1 (frame 897/1076) d:\\Term 2\\Deep_Learning_Project\\dl_project\\test.mp4: 640x384 (no detections), 25.7ms\n",
      "video 1/1 (frame 898/1076) d:\\Term 2\\Deep_Learning_Project\\dl_project\\test.mp4: 640x384 (no detections), 22.5ms\n",
      "video 1/1 (frame 899/1076) d:\\Term 2\\Deep_Learning_Project\\dl_project\\test.mp4: 640x384 (no detections), 26.5ms\n",
      "video 1/1 (frame 900/1076) d:\\Term 2\\Deep_Learning_Project\\dl_project\\test.mp4: 640x384 (no detections), 24.6ms\n",
      "video 1/1 (frame 901/1076) d:\\Term 2\\Deep_Learning_Project\\dl_project\\test.mp4: 640x384 (no detections), 27.7ms\n",
      "video 1/1 (frame 902/1076) d:\\Term 2\\Deep_Learning_Project\\dl_project\\test.mp4: 640x384 (no detections), 21.4ms\n",
      "video 1/1 (frame 903/1076) d:\\Term 2\\Deep_Learning_Project\\dl_project\\test.mp4: 640x384 (no detections), 20.4ms\n",
      "video 1/1 (frame 904/1076) d:\\Term 2\\Deep_Learning_Project\\dl_project\\test.mp4: 640x384 (no detections), 29.9ms\n",
      "video 1/1 (frame 905/1076) d:\\Term 2\\Deep_Learning_Project\\dl_project\\test.mp4: 640x384 (no detections), 20.1ms\n",
      "video 1/1 (frame 906/1076) d:\\Term 2\\Deep_Learning_Project\\dl_project\\test.mp4: 640x384 (no detections), 20.4ms\n",
      "video 1/1 (frame 907/1076) d:\\Term 2\\Deep_Learning_Project\\dl_project\\test.mp4: 640x384 (no detections), 20.1ms\n",
      "video 1/1 (frame 908/1076) d:\\Term 2\\Deep_Learning_Project\\dl_project\\test.mp4: 640x384 (no detections), 24.2ms\n",
      "video 1/1 (frame 909/1076) d:\\Term 2\\Deep_Learning_Project\\dl_project\\test.mp4: 640x384 (no detections), 20.8ms\n",
      "video 1/1 (frame 910/1076) d:\\Term 2\\Deep_Learning_Project\\dl_project\\test.mp4: 640x384 (no detections), 30.0ms\n",
      "video 1/1 (frame 911/1076) d:\\Term 2\\Deep_Learning_Project\\dl_project\\test.mp4: 640x384 (no detections), 26.8ms\n",
      "video 1/1 (frame 912/1076) d:\\Term 2\\Deep_Learning_Project\\dl_project\\test.mp4: 640x384 (no detections), 31.4ms\n",
      "video 1/1 (frame 913/1076) d:\\Term 2\\Deep_Learning_Project\\dl_project\\test.mp4: 640x384 (no detections), 25.9ms\n",
      "video 1/1 (frame 914/1076) d:\\Term 2\\Deep_Learning_Project\\dl_project\\test.mp4: 640x384 (no detections), 22.9ms\n",
      "video 1/1 (frame 915/1076) d:\\Term 2\\Deep_Learning_Project\\dl_project\\test.mp4: 640x384 (no detections), 19.8ms\n",
      "video 1/1 (frame 916/1076) d:\\Term 2\\Deep_Learning_Project\\dl_project\\test.mp4: 640x384 (no detections), 27.3ms\n",
      "video 1/1 (frame 917/1076) d:\\Term 2\\Deep_Learning_Project\\dl_project\\test.mp4: 640x384 (no detections), 27.5ms\n",
      "video 1/1 (frame 918/1076) d:\\Term 2\\Deep_Learning_Project\\dl_project\\test.mp4: 640x384 (no detections), 21.3ms\n",
      "video 1/1 (frame 919/1076) d:\\Term 2\\Deep_Learning_Project\\dl_project\\test.mp4: 640x384 (no detections), 22.9ms\n",
      "video 1/1 (frame 920/1076) d:\\Term 2\\Deep_Learning_Project\\dl_project\\test.mp4: 640x384 (no detections), 27.5ms\n",
      "video 1/1 (frame 921/1076) d:\\Term 2\\Deep_Learning_Project\\dl_project\\test.mp4: 640x384 (no detections), 19.7ms\n",
      "video 1/1 (frame 922/1076) d:\\Term 2\\Deep_Learning_Project\\dl_project\\test.mp4: 640x384 (no detections), 26.8ms\n",
      "video 1/1 (frame 923/1076) d:\\Term 2\\Deep_Learning_Project\\dl_project\\test.mp4: 640x384 (no detections), 21.1ms\n",
      "video 1/1 (frame 924/1076) d:\\Term 2\\Deep_Learning_Project\\dl_project\\test.mp4: 640x384 (no detections), 26.0ms\n",
      "video 1/1 (frame 925/1076) d:\\Term 2\\Deep_Learning_Project\\dl_project\\test.mp4: 640x384 (no detections), 22.1ms\n",
      "video 1/1 (frame 926/1076) d:\\Term 2\\Deep_Learning_Project\\dl_project\\test.mp4: 640x384 (no detections), 20.3ms\n",
      "video 1/1 (frame 927/1076) d:\\Term 2\\Deep_Learning_Project\\dl_project\\test.mp4: 640x384 (no detections), 20.9ms\n",
      "video 1/1 (frame 928/1076) d:\\Term 2\\Deep_Learning_Project\\dl_project\\test.mp4: 640x384 (no detections), 24.4ms\n",
      "video 1/1 (frame 929/1076) d:\\Term 2\\Deep_Learning_Project\\dl_project\\test.mp4: 640x384 1 licence-plate, 25.5ms\n",
      "video 1/1 (frame 930/1076) d:\\Term 2\\Deep_Learning_Project\\dl_project\\test.mp4: 640x384 (no detections), 20.2ms\n",
      "video 1/1 (frame 931/1076) d:\\Term 2\\Deep_Learning_Project\\dl_project\\test.mp4: 640x384 (no detections), 20.4ms\n",
      "video 1/1 (frame 932/1076) d:\\Term 2\\Deep_Learning_Project\\dl_project\\test.mp4: 640x384 1 licence-plate, 19.8ms\n",
      "video 1/1 (frame 933/1076) d:\\Term 2\\Deep_Learning_Project\\dl_project\\test.mp4: 640x384 1 licence-plate, 23.0ms\n",
      "video 1/1 (frame 934/1076) d:\\Term 2\\Deep_Learning_Project\\dl_project\\test.mp4: 640x384 1 licence-plate, 19.8ms\n",
      "video 1/1 (frame 935/1076) d:\\Term 2\\Deep_Learning_Project\\dl_project\\test.mp4: 640x384 (no detections), 33.6ms\n",
      "video 1/1 (frame 936/1076) d:\\Term 2\\Deep_Learning_Project\\dl_project\\test.mp4: 640x384 (no detections), 19.7ms\n",
      "video 1/1 (frame 937/1076) d:\\Term 2\\Deep_Learning_Project\\dl_project\\test.mp4: 640x384 (no detections), 26.0ms\n",
      "video 1/1 (frame 938/1076) d:\\Term 2\\Deep_Learning_Project\\dl_project\\test.mp4: 640x384 (no detections), 22.8ms\n",
      "video 1/1 (frame 939/1076) d:\\Term 2\\Deep_Learning_Project\\dl_project\\test.mp4: 640x384 (no detections), 20.5ms\n",
      "video 1/1 (frame 940/1076) d:\\Term 2\\Deep_Learning_Project\\dl_project\\test.mp4: 640x384 (no detections), 20.5ms\n",
      "video 1/1 (frame 941/1076) d:\\Term 2\\Deep_Learning_Project\\dl_project\\test.mp4: 640x384 (no detections), 20.5ms\n",
      "video 1/1 (frame 942/1076) d:\\Term 2\\Deep_Learning_Project\\dl_project\\test.mp4: 640x384 (no detections), 27.8ms\n",
      "video 1/1 (frame 943/1076) d:\\Term 2\\Deep_Learning_Project\\dl_project\\test.mp4: 640x384 (no detections), 27.1ms\n",
      "video 1/1 (frame 944/1076) d:\\Term 2\\Deep_Learning_Project\\dl_project\\test.mp4: 640x384 (no detections), 31.1ms\n",
      "video 1/1 (frame 945/1076) d:\\Term 2\\Deep_Learning_Project\\dl_project\\test.mp4: 640x384 (no detections), 21.3ms\n",
      "video 1/1 (frame 946/1076) d:\\Term 2\\Deep_Learning_Project\\dl_project\\test.mp4: 640x384 (no detections), 24.5ms\n",
      "video 1/1 (frame 947/1076) d:\\Term 2\\Deep_Learning_Project\\dl_project\\test.mp4: 640x384 (no detections), 21.4ms\n",
      "video 1/1 (frame 948/1076) d:\\Term 2\\Deep_Learning_Project\\dl_project\\test.mp4: 640x384 (no detections), 22.5ms\n",
      "video 1/1 (frame 949/1076) d:\\Term 2\\Deep_Learning_Project\\dl_project\\test.mp4: 640x384 1 licence-plate, 21.7ms\n",
      "video 1/1 (frame 950/1076) d:\\Term 2\\Deep_Learning_Project\\dl_project\\test.mp4: 640x384 1 licence-plate, 21.9ms\n",
      "video 1/1 (frame 951/1076) d:\\Term 2\\Deep_Learning_Project\\dl_project\\test.mp4: 640x384 1 licence-plate, 21.8ms\n",
      "video 1/1 (frame 952/1076) d:\\Term 2\\Deep_Learning_Project\\dl_project\\test.mp4: 640x384 1 licence-plate, 25.6ms\n",
      "video 1/1 (frame 953/1076) d:\\Term 2\\Deep_Learning_Project\\dl_project\\test.mp4: 640x384 1 licence-plate, 45.5ms\n",
      "video 1/1 (frame 954/1076) d:\\Term 2\\Deep_Learning_Project\\dl_project\\test.mp4: 640x384 1 licence-plate, 22.0ms\n",
      "video 1/1 (frame 955/1076) d:\\Term 2\\Deep_Learning_Project\\dl_project\\test.mp4: 640x384 1 licence-plate, 25.9ms\n",
      "video 1/1 (frame 956/1076) d:\\Term 2\\Deep_Learning_Project\\dl_project\\test.mp4: 640x384 1 licence-plate, 22.2ms\n",
      "video 1/1 (frame 957/1076) d:\\Term 2\\Deep_Learning_Project\\dl_project\\test.mp4: 640x384 1 licence-plate, 22.3ms\n",
      "video 1/1 (frame 958/1076) d:\\Term 2\\Deep_Learning_Project\\dl_project\\test.mp4: 640x384 1 licence-plate, 22.3ms\n",
      "video 1/1 (frame 959/1076) d:\\Term 2\\Deep_Learning_Project\\dl_project\\test.mp4: 640x384 (no detections), 22.5ms\n",
      "video 1/1 (frame 960/1076) d:\\Term 2\\Deep_Learning_Project\\dl_project\\test.mp4: 640x384 1 licence-plate, 29.4ms\n",
      "video 1/1 (frame 961/1076) d:\\Term 2\\Deep_Learning_Project\\dl_project\\test.mp4: 640x384 1 licence-plate, 23.4ms\n",
      "video 1/1 (frame 962/1076) d:\\Term 2\\Deep_Learning_Project\\dl_project\\test.mp4: 640x384 1 licence-plate, 22.3ms\n",
      "video 1/1 (frame 963/1076) d:\\Term 2\\Deep_Learning_Project\\dl_project\\test.mp4: 640x384 1 licence-plate, 23.9ms\n",
      "video 1/1 (frame 964/1076) d:\\Term 2\\Deep_Learning_Project\\dl_project\\test.mp4: 640x384 (no detections), 22.2ms\n",
      "video 1/1 (frame 965/1076) d:\\Term 2\\Deep_Learning_Project\\dl_project\\test.mp4: 640x384 1 licence-plate, 21.8ms\n",
      "video 1/1 (frame 966/1076) d:\\Term 2\\Deep_Learning_Project\\dl_project\\test.mp4: 640x384 1 licence-plate, 21.7ms\n",
      "video 1/1 (frame 967/1076) d:\\Term 2\\Deep_Learning_Project\\dl_project\\test.mp4: 640x384 1 licence-plate, 21.7ms\n",
      "video 1/1 (frame 968/1076) d:\\Term 2\\Deep_Learning_Project\\dl_project\\test.mp4: 640x384 1 licence-plate, 23.1ms\n",
      "video 1/1 (frame 969/1076) d:\\Term 2\\Deep_Learning_Project\\dl_project\\test.mp4: 640x384 2 licence-plates, 23.1ms\n",
      "video 1/1 (frame 970/1076) d:\\Term 2\\Deep_Learning_Project\\dl_project\\test.mp4: 640x384 2 licence-plates, 19.7ms\n",
      "video 1/1 (frame 971/1076) d:\\Term 2\\Deep_Learning_Project\\dl_project\\test.mp4: 640x384 2 licence-plates, 21.6ms\n",
      "video 1/1 (frame 972/1076) d:\\Term 2\\Deep_Learning_Project\\dl_project\\test.mp4: 640x384 2 licence-plates, 26.6ms\n",
      "video 1/1 (frame 973/1076) d:\\Term 2\\Deep_Learning_Project\\dl_project\\test.mp4: 640x384 1 licence-plate, 19.7ms\n",
      "video 1/1 (frame 974/1076) d:\\Term 2\\Deep_Learning_Project\\dl_project\\test.mp4: 640x384 1 licence-plate, 26.1ms\n",
      "video 1/1 (frame 975/1076) d:\\Term 2\\Deep_Learning_Project\\dl_project\\test.mp4: 640x384 1 licence-plate, 21.6ms\n",
      "video 1/1 (frame 976/1076) d:\\Term 2\\Deep_Learning_Project\\dl_project\\test.mp4: 640x384 1 licence-plate, 22.2ms\n",
      "video 1/1 (frame 977/1076) d:\\Term 2\\Deep_Learning_Project\\dl_project\\test.mp4: 640x384 1 licence-plate, 22.8ms\n",
      "video 1/1 (frame 978/1076) d:\\Term 2\\Deep_Learning_Project\\dl_project\\test.mp4: 640x384 1 licence-plate, 21.1ms\n",
      "video 1/1 (frame 979/1076) d:\\Term 2\\Deep_Learning_Project\\dl_project\\test.mp4: 640x384 (no detections), 19.9ms\n",
      "video 1/1 (frame 980/1076) d:\\Term 2\\Deep_Learning_Project\\dl_project\\test.mp4: 640x384 (no detections), 21.7ms\n",
      "video 1/1 (frame 981/1076) d:\\Term 2\\Deep_Learning_Project\\dl_project\\test.mp4: 640x384 1 licence-plate, 30.0ms\n",
      "video 1/1 (frame 982/1076) d:\\Term 2\\Deep_Learning_Project\\dl_project\\test.mp4: 640x384 (no detections), 21.0ms\n",
      "video 1/1 (frame 983/1076) d:\\Term 2\\Deep_Learning_Project\\dl_project\\test.mp4: 640x384 (no detections), 25.5ms\n",
      "video 1/1 (frame 984/1076) d:\\Term 2\\Deep_Learning_Project\\dl_project\\test.mp4: 640x384 (no detections), 19.9ms\n",
      "video 1/1 (frame 985/1076) d:\\Term 2\\Deep_Learning_Project\\dl_project\\test.mp4: 640x384 (no detections), 21.7ms\n",
      "video 1/1 (frame 986/1076) d:\\Term 2\\Deep_Learning_Project\\dl_project\\test.mp4: 640x384 (no detections), 20.1ms\n",
      "video 1/1 (frame 987/1076) d:\\Term 2\\Deep_Learning_Project\\dl_project\\test.mp4: 640x384 (no detections), 20.2ms\n",
      "video 1/1 (frame 988/1076) d:\\Term 2\\Deep_Learning_Project\\dl_project\\test.mp4: 640x384 (no detections), 22.3ms\n",
      "video 1/1 (frame 989/1076) d:\\Term 2\\Deep_Learning_Project\\dl_project\\test.mp4: 640x384 (no detections), 36.0ms\n",
      "video 1/1 (frame 990/1076) d:\\Term 2\\Deep_Learning_Project\\dl_project\\test.mp4: 640x384 (no detections), 21.4ms\n",
      "video 1/1 (frame 991/1076) d:\\Term 2\\Deep_Learning_Project\\dl_project\\test.mp4: 640x384 (no detections), 21.0ms\n",
      "video 1/1 (frame 992/1076) d:\\Term 2\\Deep_Learning_Project\\dl_project\\test.mp4: 640x384 (no detections), 25.2ms\n",
      "video 1/1 (frame 993/1076) d:\\Term 2\\Deep_Learning_Project\\dl_project\\test.mp4: 640x384 1 licence-plate, 25.0ms\n",
      "video 1/1 (frame 994/1076) d:\\Term 2\\Deep_Learning_Project\\dl_project\\test.mp4: 640x384 (no detections), 28.7ms\n",
      "video 1/1 (frame 995/1076) d:\\Term 2\\Deep_Learning_Project\\dl_project\\test.mp4: 640x384 (no detections), 29.2ms\n",
      "video 1/1 (frame 996/1076) d:\\Term 2\\Deep_Learning_Project\\dl_project\\test.mp4: 640x384 1 licence-plate, 20.9ms\n",
      "video 1/1 (frame 997/1076) d:\\Term 2\\Deep_Learning_Project\\dl_project\\test.mp4: 640x384 (no detections), 29.1ms\n",
      "video 1/1 (frame 998/1076) d:\\Term 2\\Deep_Learning_Project\\dl_project\\test.mp4: 640x384 1 licence-plate, 25.5ms\n",
      "video 1/1 (frame 999/1076) d:\\Term 2\\Deep_Learning_Project\\dl_project\\test.mp4: 640x384 1 licence-plate, 20.8ms\n",
      "video 1/1 (frame 1000/1076) d:\\Term 2\\Deep_Learning_Project\\dl_project\\test.mp4: 640x384 1 licence-plate, 23.9ms\n",
      "video 1/1 (frame 1001/1076) d:\\Term 2\\Deep_Learning_Project\\dl_project\\test.mp4: 640x384 2 licence-plates, 26.9ms\n",
      "video 1/1 (frame 1002/1076) d:\\Term 2\\Deep_Learning_Project\\dl_project\\test.mp4: 640x384 1 licence-plate, 20.0ms\n",
      "video 1/1 (frame 1003/1076) d:\\Term 2\\Deep_Learning_Project\\dl_project\\test.mp4: 640x384 1 licence-plate, 19.8ms\n",
      "video 1/1 (frame 1004/1076) d:\\Term 2\\Deep_Learning_Project\\dl_project\\test.mp4: 640x384 1 licence-plate, 23.3ms\n",
      "video 1/1 (frame 1005/1076) d:\\Term 2\\Deep_Learning_Project\\dl_project\\test.mp4: 640x384 1 licence-plate, 21.8ms\n",
      "video 1/1 (frame 1006/1076) d:\\Term 2\\Deep_Learning_Project\\dl_project\\test.mp4: 640x384 (no detections), 22.8ms\n",
      "video 1/1 (frame 1007/1076) d:\\Term 2\\Deep_Learning_Project\\dl_project\\test.mp4: 640x384 (no detections), 23.7ms\n",
      "video 1/1 (frame 1008/1076) d:\\Term 2\\Deep_Learning_Project\\dl_project\\test.mp4: 640x384 (no detections), 22.3ms\n",
      "video 1/1 (frame 1009/1076) d:\\Term 2\\Deep_Learning_Project\\dl_project\\test.mp4: 640x384 (no detections), 26.9ms\n",
      "video 1/1 (frame 1010/1076) d:\\Term 2\\Deep_Learning_Project\\dl_project\\test.mp4: 640x384 (no detections), 20.1ms\n",
      "video 1/1 (frame 1011/1076) d:\\Term 2\\Deep_Learning_Project\\dl_project\\test.mp4: 640x384 (no detections), 23.6ms\n",
      "video 1/1 (frame 1012/1076) d:\\Term 2\\Deep_Learning_Project\\dl_project\\test.mp4: 640x384 (no detections), 25.2ms\n",
      "video 1/1 (frame 1013/1076) d:\\Term 2\\Deep_Learning_Project\\dl_project\\test.mp4: 640x384 (no detections), 19.3ms\n",
      "video 1/1 (frame 1014/1076) d:\\Term 2\\Deep_Learning_Project\\dl_project\\test.mp4: 640x384 (no detections), 20.4ms\n",
      "video 1/1 (frame 1015/1076) d:\\Term 2\\Deep_Learning_Project\\dl_project\\test.mp4: 640x384 (no detections), 20.7ms\n",
      "video 1/1 (frame 1016/1076) d:\\Term 2\\Deep_Learning_Project\\dl_project\\test.mp4: 640x384 (no detections), 20.5ms\n",
      "video 1/1 (frame 1017/1076) d:\\Term 2\\Deep_Learning_Project\\dl_project\\test.mp4: 640x384 (no detections), 20.7ms\n",
      "video 1/1 (frame 1018/1076) d:\\Term 2\\Deep_Learning_Project\\dl_project\\test.mp4: 640x384 (no detections), 25.7ms\n",
      "video 1/1 (frame 1019/1076) d:\\Term 2\\Deep_Learning_Project\\dl_project\\test.mp4: 640x384 (no detections), 29.1ms\n",
      "video 1/1 (frame 1020/1076) d:\\Term 2\\Deep_Learning_Project\\dl_project\\test.mp4: 640x384 (no detections), 26.4ms\n",
      "video 1/1 (frame 1021/1076) d:\\Term 2\\Deep_Learning_Project\\dl_project\\test.mp4: 640x384 (no detections), 25.9ms\n",
      "video 1/1 (frame 1022/1076) d:\\Term 2\\Deep_Learning_Project\\dl_project\\test.mp4: 640x384 (no detections), 25.2ms\n",
      "video 1/1 (frame 1023/1076) d:\\Term 2\\Deep_Learning_Project\\dl_project\\test.mp4: 640x384 (no detections), 20.6ms\n",
      "video 1/1 (frame 1024/1076) d:\\Term 2\\Deep_Learning_Project\\dl_project\\test.mp4: 640x384 (no detections), 19.6ms\n",
      "video 1/1 (frame 1025/1076) d:\\Term 2\\Deep_Learning_Project\\dl_project\\test.mp4: 640x384 (no detections), 21.3ms\n",
      "video 1/1 (frame 1026/1076) d:\\Term 2\\Deep_Learning_Project\\dl_project\\test.mp4: 640x384 (no detections), 29.9ms\n",
      "video 1/1 (frame 1027/1076) d:\\Term 2\\Deep_Learning_Project\\dl_project\\test.mp4: 640x384 (no detections), 19.8ms\n",
      "video 1/1 (frame 1028/1076) d:\\Term 2\\Deep_Learning_Project\\dl_project\\test.mp4: 640x384 (no detections), 26.7ms\n",
      "video 1/1 (frame 1029/1076) d:\\Term 2\\Deep_Learning_Project\\dl_project\\test.mp4: 640x384 (no detections), 24.4ms\n",
      "video 1/1 (frame 1030/1076) d:\\Term 2\\Deep_Learning_Project\\dl_project\\test.mp4: 640x384 (no detections), 21.7ms\n",
      "video 1/1 (frame 1031/1076) d:\\Term 2\\Deep_Learning_Project\\dl_project\\test.mp4: 640x384 (no detections), 23.8ms\n",
      "video 1/1 (frame 1032/1076) d:\\Term 2\\Deep_Learning_Project\\dl_project\\test.mp4: 640x384 (no detections), 31.0ms\n",
      "video 1/1 (frame 1033/1076) d:\\Term 2\\Deep_Learning_Project\\dl_project\\test.mp4: 640x384 (no detections), 18.0ms\n",
      "video 1/1 (frame 1034/1076) d:\\Term 2\\Deep_Learning_Project\\dl_project\\test.mp4: 640x384 (no detections), 18.4ms\n",
      "video 1/1 (frame 1035/1076) d:\\Term 2\\Deep_Learning_Project\\dl_project\\test.mp4: 640x384 (no detections), 24.7ms\n",
      "video 1/1 (frame 1036/1076) d:\\Term 2\\Deep_Learning_Project\\dl_project\\test.mp4: 640x384 (no detections), 21.4ms\n",
      "video 1/1 (frame 1037/1076) d:\\Term 2\\Deep_Learning_Project\\dl_project\\test.mp4: 640x384 (no detections), 19.8ms\n",
      "video 1/1 (frame 1038/1076) d:\\Term 2\\Deep_Learning_Project\\dl_project\\test.mp4: 640x384 (no detections), 28.3ms\n",
      "video 1/1 (frame 1039/1076) d:\\Term 2\\Deep_Learning_Project\\dl_project\\test.mp4: 640x384 (no detections), 29.0ms\n",
      "video 1/1 (frame 1040/1076) d:\\Term 2\\Deep_Learning_Project\\dl_project\\test.mp4: 640x384 (no detections), 21.2ms\n",
      "video 1/1 (frame 1041/1076) d:\\Term 2\\Deep_Learning_Project\\dl_project\\test.mp4: 640x384 (no detections), 32.3ms\n",
      "video 1/1 (frame 1042/1076) d:\\Term 2\\Deep_Learning_Project\\dl_project\\test.mp4: 640x384 (no detections), 24.8ms\n",
      "video 1/1 (frame 1043/1076) d:\\Term 2\\Deep_Learning_Project\\dl_project\\test.mp4: 640x384 (no detections), 25.2ms\n",
      "video 1/1 (frame 1044/1076) d:\\Term 2\\Deep_Learning_Project\\dl_project\\test.mp4: 640x384 (no detections), 20.8ms\n",
      "video 1/1 (frame 1045/1076) d:\\Term 2\\Deep_Learning_Project\\dl_project\\test.mp4: 640x384 (no detections), 18.2ms\n",
      "video 1/1 (frame 1046/1076) d:\\Term 2\\Deep_Learning_Project\\dl_project\\test.mp4: 640x384 (no detections), 21.8ms\n",
      "video 1/1 (frame 1047/1076) d:\\Term 2\\Deep_Learning_Project\\dl_project\\test.mp4: 640x384 (no detections), 26.5ms\n",
      "video 1/1 (frame 1048/1076) d:\\Term 2\\Deep_Learning_Project\\dl_project\\test.mp4: 640x384 (no detections), 20.9ms\n",
      "video 1/1 (frame 1049/1076) d:\\Term 2\\Deep_Learning_Project\\dl_project\\test.mp4: 640x384 (no detections), 44.1ms\n",
      "video 1/1 (frame 1050/1076) d:\\Term 2\\Deep_Learning_Project\\dl_project\\test.mp4: 640x384 (no detections), 28.4ms\n",
      "video 1/1 (frame 1051/1076) d:\\Term 2\\Deep_Learning_Project\\dl_project\\test.mp4: 640x384 (no detections), 20.1ms\n",
      "video 1/1 (frame 1052/1076) d:\\Term 2\\Deep_Learning_Project\\dl_project\\test.mp4: 640x384 (no detections), 19.5ms\n",
      "video 1/1 (frame 1053/1076) d:\\Term 2\\Deep_Learning_Project\\dl_project\\test.mp4: 640x384 (no detections), 19.3ms\n",
      "video 1/1 (frame 1054/1076) d:\\Term 2\\Deep_Learning_Project\\dl_project\\test.mp4: 640x384 (no detections), 20.1ms\n",
      "video 1/1 (frame 1055/1076) d:\\Term 2\\Deep_Learning_Project\\dl_project\\test.mp4: 640x384 (no detections), 25.3ms\n",
      "video 1/1 (frame 1056/1076) d:\\Term 2\\Deep_Learning_Project\\dl_project\\test.mp4: 640x384 (no detections), 19.4ms\n",
      "video 1/1 (frame 1057/1076) d:\\Term 2\\Deep_Learning_Project\\dl_project\\test.mp4: 640x384 (no detections), 28.5ms\n",
      "video 1/1 (frame 1058/1076) d:\\Term 2\\Deep_Learning_Project\\dl_project\\test.mp4: 640x384 (no detections), 22.4ms\n",
      "video 1/1 (frame 1059/1076) d:\\Term 2\\Deep_Learning_Project\\dl_project\\test.mp4: 640x384 (no detections), 21.4ms\n",
      "video 1/1 (frame 1060/1076) d:\\Term 2\\Deep_Learning_Project\\dl_project\\test.mp4: 640x384 (no detections), 32.6ms\n",
      "video 1/1 (frame 1061/1076) d:\\Term 2\\Deep_Learning_Project\\dl_project\\test.mp4: 640x384 (no detections), 19.9ms\n",
      "video 1/1 (frame 1062/1076) d:\\Term 2\\Deep_Learning_Project\\dl_project\\test.mp4: 640x384 (no detections), 20.0ms\n",
      "video 1/1 (frame 1063/1076) d:\\Term 2\\Deep_Learning_Project\\dl_project\\test.mp4: 640x384 (no detections), 20.1ms\n",
      "video 1/1 (frame 1064/1076) d:\\Term 2\\Deep_Learning_Project\\dl_project\\test.mp4: 640x384 (no detections), 20.0ms\n",
      "video 1/1 (frame 1065/1076) d:\\Term 2\\Deep_Learning_Project\\dl_project\\test.mp4: 640x384 (no detections), 19.4ms\n",
      "video 1/1 (frame 1066/1076) d:\\Term 2\\Deep_Learning_Project\\dl_project\\test.mp4: 640x384 (no detections), 21.0ms\n",
      "video 1/1 (frame 1067/1076) d:\\Term 2\\Deep_Learning_Project\\dl_project\\test.mp4: 640x384 (no detections), 19.7ms\n",
      "video 1/1 (frame 1068/1076) d:\\Term 2\\Deep_Learning_Project\\dl_project\\test.mp4: 640x384 (no detections), 24.8ms\n",
      "video 1/1 (frame 1069/1076) d:\\Term 2\\Deep_Learning_Project\\dl_project\\test.mp4: 640x384 (no detections), 24.3ms\n",
      "video 1/1 (frame 1070/1076) d:\\Term 2\\Deep_Learning_Project\\dl_project\\test.mp4: 640x384 (no detections), 28.1ms\n",
      "video 1/1 (frame 1071/1076) d:\\Term 2\\Deep_Learning_Project\\dl_project\\test.mp4: 640x384 (no detections), 25.9ms\n",
      "video 1/1 (frame 1072/1076) d:\\Term 2\\Deep_Learning_Project\\dl_project\\test.mp4: 640x384 (no detections), 21.9ms\n",
      "video 1/1 (frame 1073/1076) d:\\Term 2\\Deep_Learning_Project\\dl_project\\test.mp4: 640x384 (no detections), 27.2ms\n",
      "video 1/1 (frame 1074/1076) d:\\Term 2\\Deep_Learning_Project\\dl_project\\test.mp4: 640x384 1 licence-plate, 32.4ms\n",
      "video 1/1 (frame 1075/1076) d:\\Term 2\\Deep_Learning_Project\\dl_project\\test.mp4: 640x384 (no detections), 20.6ms\n",
      "Speed: 2.9ms preprocess, 27.0ms inference, 2.6ms postprocess per image at shape (1, 3, 640, 384)\n",
      "Results saved to \u001b[1mruns\\detect\\predict\u001b[0m\n"
     ]
    }
   ],
   "source": [
    "# to check if model is predicting properly\n",
    "model = YOLO(\"runs/detect/model_blur/weights/best.pt\")\n",
    "results = model.predict(source=\"test.mp4\", conf=0.4, save=True)\n"
   ]
  },
  {
   "cell_type": "code",
   "execution_count": null,
   "id": "590e4bea",
   "metadata": {},
   "outputs": [
    {
     "name": "stdout",
     "output_type": "stream",
     "text": [
      "processing time stamp:00:00:00\n",
      "processing time stamp:00:00:00\n",
      "processing time stamp:00:00:00\n",
      "processing time stamp:00:00:01\n",
      "processing time stamp:00:00:01\n",
      "processing time stamp:00:00:03\n",
      "processing time stamp:00:00:04\n",
      "processing time stamp:00:00:04\n",
      "processing time stamp:00:00:04\n",
      "processing time stamp:00:00:04\n",
      "processing time stamp:00:00:05\n",
      "processing time stamp:00:00:05\n",
      "processing time stamp:00:00:05\n",
      "processing time stamp:00:00:05\n",
      "processing time stamp:00:00:05\n",
      "processing time stamp:00:00:05\n",
      "processing time stamp:00:00:05\n",
      "processing time stamp:00:00:05\n",
      "processing time stamp:00:00:06\n",
      "processing time stamp:00:00:06\n",
      "processing time stamp:00:00:06\n",
      "processing time stamp:00:00:07\n",
      "processing time stamp:00:00:07\n",
      "processing time stamp:00:00:07\n",
      "processing time stamp:00:00:07\n",
      "processing time stamp:00:00:07\n",
      "processing time stamp:00:00:07\n",
      "processing time stamp:00:00:07\n",
      "processing time stamp:00:00:07\n",
      "processing time stamp:00:00:07\n",
      "processing time stamp:00:00:07\n",
      "processing time stamp:00:00:07\n",
      "processing time stamp:00:00:07\n",
      "processing time stamp:00:00:07\n",
      "processing time stamp:00:00:07\n",
      "processing time stamp:00:00:07\n",
      "processing time stamp:00:00:07\n",
      "processing time stamp:00:00:07\n",
      "processing time stamp:00:00:07\n",
      "processing time stamp:00:00:07\n",
      "processing time stamp:00:00:08\n",
      "processing time stamp:00:00:08\n",
      "processing time stamp:00:00:08\n",
      "processing time stamp:00:00:08\n",
      "processing time stamp:00:00:08\n",
      "processing time stamp:00:00:09\n",
      "processing time stamp:00:00:09\n",
      "processing time stamp:00:00:09\n",
      "processing time stamp:00:00:09\n",
      "processing time stamp:00:00:09\n",
      "processing time stamp:00:00:09\n",
      "processing time stamp:00:00:09\n",
      "processing time stamp:00:00:10\n",
      "processing time stamp:00:00:10\n",
      "processing time stamp:00:00:10\n",
      "processing time stamp:00:00:10\n",
      "processing time stamp:00:00:10\n",
      "processing time stamp:00:00:10\n",
      "processing time stamp:00:00:10\n",
      "processing time stamp:00:00:10\n",
      "processing time stamp:00:00:10\n",
      "processing time stamp:00:00:10\n",
      "processing time stamp:00:00:10\n",
      "processing time stamp:00:00:10\n",
      "processing time stamp:00:00:10\n",
      "processing time stamp:00:00:10\n",
      "processing time stamp:00:00:10\n",
      "processing time stamp:00:00:10\n",
      "processing time stamp:00:00:10\n",
      "processing time stamp:00:00:10\n",
      "processing time stamp:00:00:10\n",
      "processing time stamp:00:00:10\n",
      "processing time stamp:00:00:10\n",
      "processing time stamp:00:00:11\n",
      "processing time stamp:00:00:11\n",
      "processing time stamp:00:00:11\n",
      "processing time stamp:00:00:11\n",
      "processing time stamp:00:00:11\n",
      "processing time stamp:00:00:11\n",
      "processing time stamp:00:00:11\n",
      "processing time stamp:00:00:11\n",
      "processing time stamp:00:00:11\n",
      "processing time stamp:00:00:11\n",
      "processing time stamp:00:00:11\n",
      "processing time stamp:00:00:11\n",
      "processing time stamp:00:00:11\n",
      "processing time stamp:00:00:11\n",
      "processing time stamp:00:00:11\n",
      "processing time stamp:00:00:11\n",
      "processing time stamp:00:00:11\n",
      "processing time stamp:00:00:11\n",
      "processing time stamp:00:00:11\n",
      "processing time stamp:00:00:11\n",
      "processing time stamp:00:00:11\n",
      "processing time stamp:00:00:11\n",
      "processing time stamp:00:00:11\n",
      "processing time stamp:00:00:11\n",
      "processing time stamp:00:00:11\n",
      "processing time stamp:00:00:11\n",
      "processing time stamp:00:00:11\n",
      "processing time stamp:00:00:11\n",
      "processing time stamp:00:00:12\n",
      "processing time stamp:00:00:12\n",
      "processing time stamp:00:00:12\n",
      "processing time stamp:00:00:12\n",
      "processing time stamp:00:00:12\n",
      "processing time stamp:00:00:12\n",
      "processing time stamp:00:00:12\n",
      "processing time stamp:00:00:12\n",
      "processing time stamp:00:00:12\n",
      "processing time stamp:00:00:12\n",
      "processing time stamp:00:00:12\n",
      "processing time stamp:00:00:12\n",
      "processing time stamp:00:00:12\n",
      "processing time stamp:00:00:12\n",
      "processing time stamp:00:00:12\n",
      "processing time stamp:00:00:12\n",
      "processing time stamp:00:00:12\n",
      "processing time stamp:00:00:12\n",
      "processing time stamp:00:00:12\n",
      "processing time stamp:00:00:12\n",
      "processing time stamp:00:00:12\n",
      "processing time stamp:00:00:12\n",
      "processing time stamp:00:00:12\n",
      "processing time stamp:00:00:12\n",
      "processing time stamp:00:00:12\n",
      "processing time stamp:00:00:12\n",
      "processing time stamp:00:00:12\n",
      "processing time stamp:00:00:12\n",
      "processing time stamp:00:00:12\n",
      "processing time stamp:00:00:12\n",
      "processing time stamp:00:00:12\n",
      "processing time stamp:00:00:12\n",
      "processing time stamp:00:00:12\n",
      "processing time stamp:00:00:12\n",
      "processing time stamp:00:00:12\n",
      "processing time stamp:00:00:12\n",
      "processing time stamp:00:00:12\n",
      "processing time stamp:00:00:12\n",
      "processing time stamp:00:00:12\n",
      "processing time stamp:00:00:12\n",
      "processing time stamp:00:00:12\n",
      "processing time stamp:00:00:12\n",
      "processing time stamp:00:00:12\n",
      "processing time stamp:00:00:12\n",
      "processing time stamp:00:00:12\n",
      "processing time stamp:00:00:12\n",
      "processing time stamp:00:00:13\n",
      "processing time stamp:00:00:13\n",
      "processing time stamp:00:00:13\n",
      "processing time stamp:00:00:13\n",
      "processing time stamp:00:00:13\n",
      "processing time stamp:00:00:13\n",
      "processing time stamp:00:00:13\n",
      "processing time stamp:00:00:13\n",
      "processing time stamp:00:00:13\n",
      "processing time stamp:00:00:13\n",
      "processing time stamp:00:00:13\n",
      "processing time stamp:00:00:13\n",
      "processing time stamp:00:00:13\n",
      "processing time stamp:00:00:13\n",
      "processing time stamp:00:00:13\n",
      "processing time stamp:00:00:13\n",
      "processing time stamp:00:00:13\n",
      "processing time stamp:00:00:13\n",
      "processing time stamp:00:00:13\n",
      "processing time stamp:00:00:13\n",
      "processing time stamp:00:00:13\n",
      "processing time stamp:00:00:13\n",
      "processing time stamp:00:00:13\n",
      "processing time stamp:00:00:13\n",
      "processing time stamp:00:00:13\n",
      "processing time stamp:00:00:13\n",
      "processing time stamp:00:00:13\n",
      "processing time stamp:00:00:14\n",
      "processing time stamp:00:00:14\n",
      "processing time stamp:00:00:14\n",
      "processing time stamp:00:00:14\n",
      "processing time stamp:00:00:14\n",
      "processing time stamp:00:00:14\n",
      "processing time stamp:00:00:14\n",
      "processing time stamp:00:00:14\n",
      "processing time stamp:00:00:14\n",
      "processing time stamp:00:00:14\n",
      "processing time stamp:00:00:14\n",
      "processing time stamp:00:00:14\n",
      "processing time stamp:00:00:14\n",
      "processing time stamp:00:00:14\n",
      "processing time stamp:00:00:14\n",
      "processing time stamp:00:00:14\n",
      "processing time stamp:00:00:14\n",
      "processing time stamp:00:00:14\n",
      "processing time stamp:00:00:14\n",
      "processing time stamp:00:00:14\n",
      "processing time stamp:00:00:14\n",
      "processing time stamp:00:00:14\n",
      "processing time stamp:00:00:14\n",
      "processing time stamp:00:00:14\n",
      "processing time stamp:00:00:14\n",
      "processing time stamp:00:00:15\n",
      "processing time stamp:00:00:15\n",
      "processing time stamp:00:00:15\n",
      "processing time stamp:00:00:15\n",
      "processing time stamp:00:00:15\n",
      "processing time stamp:00:00:15\n",
      "processing time stamp:00:00:15\n",
      "processing time stamp:00:00:15\n",
      "processing time stamp:00:00:15\n",
      "processing time stamp:00:00:15\n",
      "processing time stamp:00:00:15\n",
      "processing time stamp:00:00:15\n",
      "processing time stamp:00:00:15\n",
      "processing time stamp:00:00:15\n",
      "processing time stamp:00:00:15\n",
      "processing time stamp:00:00:15\n",
      "processing time stamp:00:00:15\n",
      "processing time stamp:00:00:15\n",
      "processing time stamp:00:00:15\n",
      "processing time stamp:00:00:15\n",
      "processing time stamp:00:00:15\n",
      "processing time stamp:00:00:15\n",
      "processing time stamp:00:00:15\n",
      "processing time stamp:00:00:15\n",
      "processing time stamp:00:00:15\n",
      "processing time stamp:00:00:15\n",
      "processing time stamp:00:00:15\n",
      "processing time stamp:00:00:15\n",
      "processing time stamp:00:00:15\n",
      "processing time stamp:00:00:16\n",
      "processing time stamp:00:00:16\n",
      "processing time stamp:00:00:16\n",
      "processing time stamp:00:00:16\n",
      "processing time stamp:00:00:16\n",
      "processing time stamp:00:00:16\n",
      "processing time stamp:00:00:16\n",
      "processing time stamp:00:00:16\n",
      "processing time stamp:00:00:16\n",
      "processing time stamp:00:00:16\n",
      "processing time stamp:00:00:16\n",
      "processing time stamp:00:00:16\n",
      "processing time stamp:00:00:16\n",
      "processing time stamp:00:00:16\n",
      "processing time stamp:00:00:16\n",
      "processing time stamp:00:00:16\n",
      "processing time stamp:00:00:16\n",
      "processing time stamp:00:00:16\n",
      "processing time stamp:00:00:16\n",
      "processing time stamp:00:00:16\n",
      "processing time stamp:00:00:16\n",
      "processing time stamp:00:00:16\n",
      "processing time stamp:00:00:16\n",
      "processing time stamp:00:00:16\n",
      "processing time stamp:00:00:16\n",
      "processing time stamp:00:00:16\n",
      "processing time stamp:00:00:16\n",
      "processing time stamp:00:00:16\n",
      "processing time stamp:00:00:16\n",
      "processing time stamp:00:00:16\n",
      "processing time stamp:00:00:17\n",
      "processing time stamp:00:00:17\n",
      "processing time stamp:00:00:17\n",
      "processing time stamp:00:00:17\n",
      "processing time stamp:00:00:17\n",
      "processing time stamp:00:00:17\n",
      "processing time stamp:00:00:17\n",
      "processing time stamp:00:00:17\n",
      "processing time stamp:00:00:17\n",
      "processing time stamp:00:00:17\n",
      "processing time stamp:00:00:17\n",
      "processing time stamp:00:00:17\n",
      "processing time stamp:00:00:17\n",
      "processing time stamp:00:00:17\n",
      "processing time stamp:00:00:17\n",
      "processing time stamp:00:00:17\n",
      "processing time stamp:00:00:17\n",
      "processing time stamp:00:00:17\n",
      "processing time stamp:00:00:17\n",
      "processing time stamp:00:00:17\n",
      "processing time stamp:00:00:17\n",
      "processing time stamp:00:00:17\n",
      "processing time stamp:00:00:17\n",
      "processing time stamp:00:00:17\n",
      "processing time stamp:00:00:17\n",
      "processing time stamp:00:00:17\n",
      "processing time stamp:00:00:17\n",
      "processing time stamp:00:00:17\n",
      "processing time stamp:00:00:17\n",
      "processing time stamp:00:00:17\n",
      "processing time stamp:00:00:17\n",
      "processing time stamp:00:00:17\n",
      "processing time stamp:00:00:17\n",
      "processing time stamp:00:00:17\n",
      "processing time stamp:00:00:17\n",
      "processing time stamp:00:00:17\n",
      "processing time stamp:00:00:17\n",
      "processing time stamp:00:00:17\n",
      "processing time stamp:00:00:17\n",
      "processing time stamp:00:00:17\n",
      "processing time stamp:00:00:17\n",
      "processing time stamp:00:00:17\n",
      "processing time stamp:00:00:17\n",
      "processing time stamp:00:00:18\n",
      "processing time stamp:00:00:18\n",
      "processing time stamp:00:00:18\n",
      "processing time stamp:00:00:18\n",
      "processing time stamp:00:00:18\n",
      "processing time stamp:00:00:18\n",
      "processing time stamp:00:00:18\n",
      "processing time stamp:00:00:18\n",
      "processing time stamp:00:00:18\n",
      "processing time stamp:00:00:18\n",
      "processing time stamp:00:00:18\n",
      "processing time stamp:00:00:18\n",
      "processing time stamp:00:00:18\n",
      "processing time stamp:00:00:18\n",
      "processing time stamp:00:00:18\n",
      "processing time stamp:00:00:18\n",
      "processing time stamp:00:00:18\n",
      "processing time stamp:00:00:18\n",
      "processing time stamp:00:00:18\n",
      "processing time stamp:00:00:18\n",
      "processing time stamp:00:00:18\n",
      "processing time stamp:00:00:18\n",
      "processing time stamp:00:00:18\n",
      "processing time stamp:00:00:18\n",
      "processing time stamp:00:00:18\n",
      "processing time stamp:00:00:18\n",
      "processing time stamp:00:00:18\n",
      "processing time stamp:00:00:19\n",
      "processing time stamp:00:00:19\n",
      "processing time stamp:00:00:19\n",
      "processing time stamp:00:00:19\n",
      "processing time stamp:00:00:20\n",
      "processing time stamp:00:00:20\n",
      "processing time stamp:00:00:21\n",
      "processing time stamp:00:00:21\n",
      "processing time stamp:00:00:21\n",
      "processing time stamp:00:00:21\n",
      "processing time stamp:00:00:21\n",
      "processing time stamp:00:00:21\n",
      "processing time stamp:00:00:21\n",
      "processing time stamp:00:00:21\n",
      "processing time stamp:00:00:21\n",
      "processing time stamp:00:00:21\n",
      "processing time stamp:00:00:21\n",
      "processing time stamp:00:00:21\n",
      "processing time stamp:00:00:22\n",
      "processing time stamp:00:00:22\n",
      "processing time stamp:00:00:24\n",
      "processing time stamp:00:00:24\n",
      "processing time stamp:00:00:25\n",
      "processing time stamp:00:00:25\n",
      "processing time stamp:00:00:25\n",
      "processing time stamp:00:00:25\n",
      "processing time stamp:00:00:25\n",
      "processing time stamp:00:00:25\n",
      "processing time stamp:00:00:25\n",
      "processing time stamp:00:00:25\n",
      "processing time stamp:00:00:25\n",
      "processing time stamp:00:00:25\n",
      "processing time stamp:00:00:25\n",
      "processing time stamp:00:00:25\n",
      "processing time stamp:00:00:25\n",
      "processing time stamp:00:00:25\n",
      "processing time stamp:00:00:25\n",
      "processing time stamp:00:00:25\n",
      "processing time stamp:00:00:25\n",
      "processing time stamp:00:00:25\n",
      "processing time stamp:00:00:25\n",
      "processing time stamp:00:00:25\n",
      "processing time stamp:00:00:25\n",
      "processing time stamp:00:00:25\n",
      "processing time stamp:00:00:25\n",
      "processing time stamp:00:00:25\n",
      "processing time stamp:00:00:25\n",
      "processing time stamp:00:00:25\n",
      "processing time stamp:00:00:25\n",
      "processing time stamp:00:00:26\n",
      "processing time stamp:00:00:26\n",
      "processing time stamp:00:00:26\n",
      "processing time stamp:00:00:26\n",
      "processing time stamp:00:00:26\n",
      "processing time stamp:00:00:26\n",
      "processing time stamp:00:00:26\n",
      "processing time stamp:00:00:26\n",
      "processing time stamp:00:00:26\n",
      "processing time stamp:00:00:26\n",
      "processing time stamp:00:00:26\n",
      "processing time stamp:00:00:26\n",
      "processing time stamp:00:00:26\n",
      "processing time stamp:00:00:26\n",
      "processing time stamp:00:00:26\n",
      "processing time stamp:00:00:26\n",
      "processing time stamp:00:00:26\n",
      "processing time stamp:00:00:26\n",
      "processing time stamp:00:00:26\n",
      "processing time stamp:00:00:26\n",
      "processing time stamp:00:00:26\n",
      "processing time stamp:00:00:26\n",
      "processing time stamp:00:00:26\n",
      "processing time stamp:00:00:26\n",
      "processing time stamp:00:00:26\n",
      "processing time stamp:00:00:26\n",
      "processing time stamp:00:00:26\n",
      "processing time stamp:00:00:26\n",
      "processing time stamp:00:00:26\n",
      "processing time stamp:00:00:27\n",
      "processing time stamp:00:00:27\n",
      "processing time stamp:00:00:27\n",
      "processing time stamp:00:00:27\n",
      "processing time stamp:00:00:27\n",
      "processing time stamp:00:00:27\n",
      "processing time stamp:00:00:28\n",
      "processing time stamp:00:00:28\n",
      "processing time stamp:00:00:28\n",
      "processing time stamp:00:00:28\n",
      "processing time stamp:00:00:28\n",
      "processing time stamp:00:00:28\n",
      "processing time stamp:00:00:28\n",
      "processing time stamp:00:00:28\n",
      "processing time stamp:00:00:28\n",
      "processing time stamp:00:00:30\n",
      "processing time stamp:00:00:30\n",
      "processing time stamp:00:00:30\n",
      "processing time stamp:00:00:30\n",
      "processing time stamp:00:00:30\n",
      "processing time stamp:00:00:31\n",
      "processing time stamp:00:00:31\n",
      "processing time stamp:00:00:31\n",
      "processing time stamp:00:00:31\n",
      "processing time stamp:00:00:31\n",
      "processing time stamp:00:00:31\n",
      "processing time stamp:00:00:31\n",
      "processing time stamp:00:00:31\n",
      "processing time stamp:00:00:31\n",
      "processing time stamp:00:00:31\n",
      "processing time stamp:00:00:31\n",
      "processing time stamp:00:00:31\n",
      "processing time stamp:00:00:31\n",
      "processing time stamp:00:00:31\n",
      "processing time stamp:00:00:31\n",
      "processing time stamp:00:00:31\n",
      "processing time stamp:00:00:31\n",
      "processing time stamp:00:00:31\n",
      "processing time stamp:00:00:31\n",
      "processing time stamp:00:00:31\n",
      "processing time stamp:00:00:33\n",
      "processing time stamp:00:00:33\n",
      "processing time stamp:00:00:33\n",
      "processing time stamp:00:00:33\n",
      "processing time stamp:00:00:33\n",
      "processing time stamp:00:00:33\n",
      "processing time stamp:00:00:33\n",
      "processing time stamp:00:00:33\n",
      "processing time stamp:00:00:33\n",
      "processing time stamp:00:00:33\n",
      "processing time stamp:00:00:33\n",
      "processing time stamp:00:00:33\n",
      "processing time stamp:00:00:33\n",
      "processing time stamp:00:00:33\n",
      "processing time stamp:00:00:33\n",
      "processing time stamp:00:00:37\n",
      "processing time stamp:00:00:37\n",
      "processing time stamp:00:00:37\n",
      "processing time stamp:00:00:37\n",
      "processing time stamp:00:00:37\n",
      "processing time stamp:00:00:37\n",
      "processing time stamp:00:00:37\n",
      "processing time stamp:00:00:37\n",
      "processing time stamp:00:00:37\n",
      "processing time stamp:00:00:37\n",
      "processing time stamp:00:00:37\n",
      "processing time stamp:00:00:37\n",
      "processing time stamp:00:00:37\n",
      "processing time stamp:00:00:37\n",
      "processing time stamp:00:00:37\n",
      "processing time stamp:00:00:37\n",
      "processing time stamp:00:00:37\n",
      "processing time stamp:00:00:37\n",
      "processing time stamp:00:00:37\n",
      "processing time stamp:00:00:37\n",
      "processing time stamp:00:00:37\n",
      "processing time stamp:00:00:37\n",
      "processing time stamp:00:00:37\n",
      "processing time stamp:00:00:37\n",
      "processing time stamp:00:00:37\n",
      "processing time stamp:00:00:37\n",
      "processing time stamp:00:00:37\n",
      "processing time stamp:00:00:38\n",
      "processing time stamp:00:00:38\n",
      "processing time stamp:00:00:38\n",
      "processing time stamp:00:00:38\n",
      "processing time stamp:00:00:38\n",
      "processing time stamp:00:00:38\n",
      "processing time stamp:00:00:38\n",
      "processing time stamp:00:00:38\n",
      "processing time stamp:00:00:38\n",
      "processing time stamp:00:00:38\n",
      "processing time stamp:00:00:38\n",
      "processing time stamp:00:00:38\n",
      "processing time stamp:00:00:38\n",
      "processing time stamp:00:00:38\n",
      "processing time stamp:00:00:38\n",
      "processing time stamp:00:00:38\n",
      "processing time stamp:00:00:38\n",
      "processing time stamp:00:00:38\n",
      "processing time stamp:00:00:38\n",
      "processing time stamp:00:00:38\n",
      "processing time stamp:00:00:38\n",
      "processing time stamp:00:00:38\n",
      "processing time stamp:00:00:38\n",
      "processing time stamp:00:00:38\n",
      "processing time stamp:00:00:38\n",
      "processing time stamp:00:00:38\n",
      "processing time stamp:00:00:38\n",
      "processing time stamp:00:00:38\n",
      "processing time stamp:00:00:38\n",
      "processing time stamp:00:00:38\n",
      "processing time stamp:00:00:38\n",
      "processing time stamp:00:00:38\n",
      "processing time stamp:00:00:38\n",
      "processing time stamp:00:00:38\n",
      "processing time stamp:00:00:38\n",
      "processing time stamp:00:00:38\n",
      "processing time stamp:00:00:38\n",
      "processing time stamp:00:00:38\n",
      "processing time stamp:00:00:38\n",
      "processing time stamp:00:00:38\n",
      "processing time stamp:00:00:38\n",
      "processing time stamp:00:00:38\n",
      "processing time stamp:00:00:38\n",
      "processing time stamp:00:00:38\n",
      "processing time stamp:00:00:38\n",
      "processing time stamp:00:00:39\n",
      "processing time stamp:00:00:39\n",
      "processing time stamp:00:00:39\n",
      "processing time stamp:00:00:39\n",
      "processing time stamp:00:00:39\n",
      "processing time stamp:00:00:39\n",
      "processing time stamp:00:00:39\n",
      "processing time stamp:00:00:39\n",
      "processing time stamp:00:00:39\n",
      "processing time stamp:00:00:39\n",
      "processing time stamp:00:00:39\n",
      "processing time stamp:00:00:39\n",
      "processing time stamp:00:00:39\n",
      "processing time stamp:00:00:39\n",
      "processing time stamp:00:00:39\n",
      "processing time stamp:00:00:39\n",
      "processing time stamp:00:00:39\n",
      "processing time stamp:00:00:39\n",
      "processing time stamp:00:00:39\n",
      "processing time stamp:00:00:39\n",
      "processing time stamp:00:00:39\n",
      "processing time stamp:00:00:39\n",
      "processing time stamp:00:00:39\n",
      "processing time stamp:00:00:39\n",
      "processing time stamp:00:00:39\n",
      "processing time stamp:00:00:39\n",
      "processing time stamp:00:00:39\n",
      "processing time stamp:00:00:39\n",
      "processing time stamp:00:00:39\n",
      "processing time stamp:00:00:39\n",
      "processing time stamp:00:00:39\n",
      "processing time stamp:00:00:39\n",
      "processing time stamp:00:00:39\n",
      "processing time stamp:00:00:39\n",
      "processing time stamp:00:00:39\n",
      "processing time stamp:00:00:40\n",
      "processing time stamp:00:00:40\n",
      "processing time stamp:00:00:40\n",
      "processing time stamp:00:00:40\n",
      "processing time stamp:00:00:40\n",
      "processing time stamp:00:00:40\n",
      "processing time stamp:00:00:40\n",
      "processing time stamp:00:00:40\n",
      "processing time stamp:00:00:40\n",
      "processing time stamp:00:00:40\n",
      "processing time stamp:00:00:40\n",
      "processing time stamp:00:00:40\n",
      "processing time stamp:00:00:40\n",
      "processing time stamp:00:00:41\n",
      "Blurred video saved as output.mp4\n",
      "Plate crops saved in folder: license_plates\n"
     ]
    }
   ],
   "source": [
    "vehicle_model = YOLO(\"yolov8s.pt\")\n",
    "plate_model = YOLO(\"runs/detect/model_blur/weights/best.pt\")\n",
    "\n",
    "input_path = \"test.mp4\"\n",
    "cap = cv2.VideoCapture(input_path)\n",
    "assert cap.isOpened(), f\"Failed to open video file: {input_path}\"\n",
    "\n",
    "fps = cap.get(cv2.CAP_PROP_FPS)\n",
    "width = int(cap.get(cv2.CAP_PROP_FRAME_WIDTH))\n",
    "height = int(cap.get(cv2.CAP_PROP_FRAME_HEIGHT))\n",
    "\n",
    "fourcc = cv2.VideoWriter_fourcc(*'mp4v')\n",
    "out = cv2.VideoWriter(\"output.mp4\", fourcc, fps, (width, height))\n",
    "\n",
    "output_folder = \"license_plates\"\n",
    "os.makedirs(output_folder, exist_ok=True)\n",
    "\n",
    "plate_counter = defaultdict(int)\n",
    "\n",
    "frame_index = 0\n",
    "# yolo classes for car, motorcycle, bus, truck\n",
    "vehicle_class_ids = [2, 3, 5, 7]\n",
    "\n",
    "while True:\n",
    "    ret, frame = cap.read()\n",
    "    if not ret:\n",
    "        break\n",
    "\n",
    "    # detect vehicles using yolo v8 s\n",
    "    vehicle_results = vehicle_model.predict(source=frame, conf=0.4, device ='cuda', verbose=False)\n",
    "    vehicle_boxes = []\n",
    "\n",
    "    for result in vehicle_results:\n",
    "        for box, cls in zip(result.boxes.xyxy.cpu().numpy(), result.boxes.cls.cpu().numpy()):\n",
    "            if int(cls) in vehicle_class_ids:\n",
    "                x1, y1, x2, y2 = map(int, box)\n",
    "                x1, y1 = max(0, x1), max(0, y1)\n",
    "                x2, y2 = min(frame.shape[1], x2), min(frame.shape[0], y2)\n",
    "                vehicle_boxes.append((x1, y1, x2, y2))\n",
    "\n",
    "    # for each vehicle detect license plates\n",
    "    for x1, y1, x2, y2 in vehicle_boxes:\n",
    "        vehicle_roi = frame[y1:y2, x1:x2]\n",
    "        if vehicle_roi.size == 0:\n",
    "            continue\n",
    "        \n",
    "\n",
    "        plate_results = plate_model.predict(source=vehicle_roi, conf=0.4, device='cuda', verbose=False)\n",
    "\n",
    "        for result in plate_results:\n",
    "            if result.boxes is None or len(result.boxes) == 0:\n",
    "                continue\n",
    "\n",
    "            for box in result.boxes.xyxy.cpu().numpy():\n",
    "                px1, py1, px2, py2 = map(int, box)\n",
    "                abs_x1 = x1 + px1\n",
    "                abs_y1 = y1 + py1\n",
    "                abs_x2 = x1 + px2\n",
    "                abs_y2 = y1 + py2\n",
    "\n",
    "                abs_x1, abs_y1 = max(0, abs_x1), max(0, abs_y1)\n",
    "                abs_x2, abs_y2 = min(frame.shape[1], abs_x2), min(frame.shape[0], abs_y2)\n",
    "\n",
    "                plate_roi = frame[abs_y1:abs_y2, abs_x1:abs_x2]\n",
    "                if plate_roi.size == 0:\n",
    "                    continue\n",
    "\n",
    "                # Compute timestamp\n",
    "                timestamp_seconds = frame_index / fps\n",
    "                hours = int(timestamp_seconds // 3600)\n",
    "                minutes = int((timestamp_seconds % 3600) // 60)\n",
    "                seconds = int(timestamp_seconds % 60)\n",
    "                timestamp_label = f\"{hours:02}:{minutes:02}:{seconds:02}\"\n",
    "                timestamp_str = f\"{hours:02}_{minutes:02}_{seconds:02}\"\n",
    "                print(f\"processing time stamp:{timestamp_label}\")\n",
    "   \n",
    "                plate_counter[timestamp_str] += 1\n",
    "                suffix = plate_counter[timestamp_str]\n",
    "\n",
    "                # Save cropped plate\n",
    "                filename = os.path.join(output_folder, f\"{timestamp_str}_{suffix}.jpg\")\n",
    "                cv2.imwrite(filename, plate_roi)\n",
    "\n",
    "                # blur plate\n",
    "                frame[abs_y1:abs_y2, abs_x1:abs_x2] = cv2.GaussianBlur(plate_roi, (35, 35), 0)\n",
    "\n",
    "                # add red border\n",
    "                cv2.rectangle(frame, (abs_x1, abs_y1), (abs_x2, abs_y2), (0, 0, 255), 3)\n",
    "\n",
    "                # add timestamp above blurred number plate\n",
    "                label = f\"{timestamp_str}_{suffix}.jpg\"\n",
    "                text_position = (abs_x1, max(0, abs_y1 - 10))\n",
    "                cv2.putText(frame, label, text_position,\n",
    "                            cv2.FONT_HERSHEY_SIMPLEX, 0.6, (0, 0, 255), 2, cv2.LINE_AA)\n",
    "\n",
    "\n",
    "    out.write(frame)\n",
    "    frame_index += 1\n",
    "\n",
    "cap.release()\n",
    "out.release()\n",
    "\n",
    "\n",
    "print(\"Blurred video saved as output.mp4\")\n",
    "print(f\"Plate crops saved in folder: {output_folder}\")\n"
   ]
  }
 ],
 "metadata": {
  "kernelspec": {
   "display_name": ".venv",
   "language": "python",
   "name": "python3"
  },
  "language_info": {
   "codemirror_mode": {
    "name": "ipython",
    "version": 3
   },
   "file_extension": ".py",
   "mimetype": "text/x-python",
   "name": "python",
   "nbconvert_exporter": "python",
   "pygments_lexer": "ipython3",
   "version": "3.9.2"
  }
 },
 "nbformat": 4,
 "nbformat_minor": 5
}
