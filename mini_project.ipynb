{
 "cells": [
  {
   "cell_type": "code",
   "execution_count": 1,
   "id": "97869d39",
   "metadata": {},
   "outputs": [
    {
     "name": "stdout",
     "output_type": "stream",
     "text": [
      "Requirement already satisfied: pip in d:\\term 2\\deep_learning_project\\.venv\\lib\\site-packages (25.2)\n",
      "Requirement already satisfied: ultralytics in d:\\term 2\\deep_learning_project\\.venv\\lib\\site-packages (8.3.174)\n",
      "Requirement already satisfied: opencv-python in d:\\term 2\\deep_learning_project\\.venv\\lib\\site-packages (4.12.0.88)\n",
      "Requirement already satisfied: numpy>=1.23.0 in d:\\term 2\\deep_learning_project\\.venv\\lib\\site-packages (from ultralytics) (2.0.2)\n",
      "Requirement already satisfied: matplotlib>=3.3.0 in d:\\term 2\\deep_learning_project\\.venv\\lib\\site-packages (from ultralytics) (3.9.4)\n",
      "Requirement already satisfied: pillow>=7.1.2 in d:\\term 2\\deep_learning_project\\.venv\\lib\\site-packages (from ultralytics) (11.3.0)\n",
      "Requirement already satisfied: pyyaml>=5.3.1 in d:\\term 2\\deep_learning_project\\.venv\\lib\\site-packages (from ultralytics) (6.0.2)\n",
      "Requirement already satisfied: requests>=2.23.0 in d:\\term 2\\deep_learning_project\\.venv\\lib\\site-packages (from ultralytics) (2.32.4)\n",
      "Requirement already satisfied: scipy>=1.4.1 in d:\\term 2\\deep_learning_project\\.venv\\lib\\site-packages (from ultralytics) (1.13.1)\n",
      "Requirement already satisfied: torch>=1.8.0 in d:\\term 2\\deep_learning_project\\.venv\\lib\\site-packages (from ultralytics) (2.5.1+cu121)\n",
      "Requirement already satisfied: torchvision>=0.9.0 in d:\\term 2\\deep_learning_project\\.venv\\lib\\site-packages (from ultralytics) (0.20.1+cu121)\n",
      "Requirement already satisfied: tqdm>=4.64.0 in d:\\term 2\\deep_learning_project\\.venv\\lib\\site-packages (from ultralytics) (4.67.1)\n",
      "Requirement already satisfied: psutil in d:\\term 2\\deep_learning_project\\.venv\\lib\\site-packages (from ultralytics) (7.0.0)\n",
      "Requirement already satisfied: py-cpuinfo in d:\\term 2\\deep_learning_project\\.venv\\lib\\site-packages (from ultralytics) (9.0.0)\n",
      "Requirement already satisfied: pandas>=1.1.4 in d:\\term 2\\deep_learning_project\\.venv\\lib\\site-packages (from ultralytics) (2.3.1)\n",
      "Requirement already satisfied: ultralytics-thop>=2.0.0 in d:\\term 2\\deep_learning_project\\.venv\\lib\\site-packages (from ultralytics) (2.0.15)\n",
      "Requirement already satisfied: contourpy>=1.0.1 in d:\\term 2\\deep_learning_project\\.venv\\lib\\site-packages (from matplotlib>=3.3.0->ultralytics) (1.3.0)\n",
      "Requirement already satisfied: cycler>=0.10 in d:\\term 2\\deep_learning_project\\.venv\\lib\\site-packages (from matplotlib>=3.3.0->ultralytics) (0.12.1)\n",
      "Requirement already satisfied: fonttools>=4.22.0 in d:\\term 2\\deep_learning_project\\.venv\\lib\\site-packages (from matplotlib>=3.3.0->ultralytics) (4.59.0)\n",
      "Requirement already satisfied: kiwisolver>=1.3.1 in d:\\term 2\\deep_learning_project\\.venv\\lib\\site-packages (from matplotlib>=3.3.0->ultralytics) (1.4.7)\n",
      "Requirement already satisfied: packaging>=20.0 in d:\\term 2\\deep_learning_project\\.venv\\lib\\site-packages (from matplotlib>=3.3.0->ultralytics) (25.0)\n",
      "Requirement already satisfied: pyparsing>=2.3.1 in d:\\term 2\\deep_learning_project\\.venv\\lib\\site-packages (from matplotlib>=3.3.0->ultralytics) (3.2.3)\n",
      "Requirement already satisfied: python-dateutil>=2.7 in d:\\term 2\\deep_learning_project\\.venv\\lib\\site-packages (from matplotlib>=3.3.0->ultralytics) (2.9.0.post0)\n",
      "Requirement already satisfied: importlib-resources>=3.2.0 in d:\\term 2\\deep_learning_project\\.venv\\lib\\site-packages (from matplotlib>=3.3.0->ultralytics) (6.5.2)\n",
      "Requirement already satisfied: zipp>=3.1.0 in d:\\term 2\\deep_learning_project\\.venv\\lib\\site-packages (from importlib-resources>=3.2.0->matplotlib>=3.3.0->ultralytics) (3.23.0)\n",
      "Requirement already satisfied: pytz>=2020.1 in d:\\term 2\\deep_learning_project\\.venv\\lib\\site-packages (from pandas>=1.1.4->ultralytics) (2025.2)\n",
      "Requirement already satisfied: tzdata>=2022.7 in d:\\term 2\\deep_learning_project\\.venv\\lib\\site-packages (from pandas>=1.1.4->ultralytics) (2025.2)\n",
      "Requirement already satisfied: six>=1.5 in d:\\term 2\\deep_learning_project\\.venv\\lib\\site-packages (from python-dateutil>=2.7->matplotlib>=3.3.0->ultralytics) (1.17.0)\n",
      "Requirement already satisfied: charset_normalizer<4,>=2 in d:\\term 2\\deep_learning_project\\.venv\\lib\\site-packages (from requests>=2.23.0->ultralytics) (3.4.2)\n",
      "Requirement already satisfied: idna<4,>=2.5 in d:\\term 2\\deep_learning_project\\.venv\\lib\\site-packages (from requests>=2.23.0->ultralytics) (3.10)\n",
      "Requirement already satisfied: urllib3<3,>=1.21.1 in d:\\term 2\\deep_learning_project\\.venv\\lib\\site-packages (from requests>=2.23.0->ultralytics) (2.5.0)\n",
      "Requirement already satisfied: certifi>=2017.4.17 in d:\\term 2\\deep_learning_project\\.venv\\lib\\site-packages (from requests>=2.23.0->ultralytics) (2025.8.3)\n",
      "Requirement already satisfied: filelock in d:\\term 2\\deep_learning_project\\.venv\\lib\\site-packages (from torch>=1.8.0->ultralytics) (3.18.0)\n",
      "Requirement already satisfied: typing-extensions>=4.8.0 in d:\\term 2\\deep_learning_project\\.venv\\lib\\site-packages (from torch>=1.8.0->ultralytics) (4.14.1)\n",
      "Requirement already satisfied: networkx in d:\\term 2\\deep_learning_project\\.venv\\lib\\site-packages (from torch>=1.8.0->ultralytics) (3.2.1)\n",
      "Requirement already satisfied: jinja2 in d:\\term 2\\deep_learning_project\\.venv\\lib\\site-packages (from torch>=1.8.0->ultralytics) (3.1.6)\n",
      "Requirement already satisfied: fsspec in d:\\term 2\\deep_learning_project\\.venv\\lib\\site-packages (from torch>=1.8.0->ultralytics) (2025.7.0)\n",
      "Requirement already satisfied: sympy==1.13.1 in d:\\term 2\\deep_learning_project\\.venv\\lib\\site-packages (from torch>=1.8.0->ultralytics) (1.13.1)\n",
      "Requirement already satisfied: mpmath<1.4,>=1.1.0 in d:\\term 2\\deep_learning_project\\.venv\\lib\\site-packages (from sympy==1.13.1->torch>=1.8.0->ultralytics) (1.3.0)\n",
      "Requirement already satisfied: colorama in d:\\term 2\\deep_learning_project\\.venv\\lib\\site-packages (from tqdm>=4.64.0->ultralytics) (0.4.6)\n",
      "Requirement already satisfied: MarkupSafe>=2.0 in d:\\term 2\\deep_learning_project\\.venv\\lib\\site-packages (from jinja2->torch>=1.8.0->ultralytics) (3.0.2)\n",
      "Requirement already satisfied: pandas in d:\\term 2\\deep_learning_project\\.venv\\lib\\site-packages (2.3.1)\n",
      "Requirement already satisfied: numpy>=1.22.4 in d:\\term 2\\deep_learning_project\\.venv\\lib\\site-packages (from pandas) (2.0.2)\n",
      "Requirement already satisfied: python-dateutil>=2.8.2 in d:\\term 2\\deep_learning_project\\.venv\\lib\\site-packages (from pandas) (2.9.0.post0)\n",
      "Requirement already satisfied: pytz>=2020.1 in d:\\term 2\\deep_learning_project\\.venv\\lib\\site-packages (from pandas) (2025.2)\n",
      "Requirement already satisfied: tzdata>=2022.7 in d:\\term 2\\deep_learning_project\\.venv\\lib\\site-packages (from pandas) (2025.2)\n",
      "Requirement already satisfied: six>=1.5 in d:\\term 2\\deep_learning_project\\.venv\\lib\\site-packages (from python-dateutil>=2.8.2->pandas) (1.17.0)\n",
      "Requirement already satisfied: albumentations in d:\\term 2\\deep_learning_project\\.venv\\lib\\site-packages (2.0.8)\n",
      "Requirement already satisfied: numpy>=1.24.4 in d:\\term 2\\deep_learning_project\\.venv\\lib\\site-packages (from albumentations) (2.0.2)\n",
      "Requirement already satisfied: scipy>=1.10.0 in d:\\term 2\\deep_learning_project\\.venv\\lib\\site-packages (from albumentations) (1.13.1)\n",
      "Requirement already satisfied: PyYAML in d:\\term 2\\deep_learning_project\\.venv\\lib\\site-packages (from albumentations) (6.0.2)\n",
      "Requirement already satisfied: typing-extensions>=4.9.0 in d:\\term 2\\deep_learning_project\\.venv\\lib\\site-packages (from albumentations) (4.14.1)\n",
      "Requirement already satisfied: pydantic>=2.9.2 in d:\\term 2\\deep_learning_project\\.venv\\lib\\site-packages (from albumentations) (2.11.7)\n",
      "Requirement already satisfied: albucore==0.0.24 in d:\\term 2\\deep_learning_project\\.venv\\lib\\site-packages (from albumentations) (0.0.24)\n",
      "Requirement already satisfied: eval-type-backport in d:\\term 2\\deep_learning_project\\.venv\\lib\\site-packages (from albumentations) (0.2.2)\n",
      "Requirement already satisfied: opencv-python-headless>=4.9.0.80 in d:\\term 2\\deep_learning_project\\.venv\\lib\\site-packages (from albumentations) (4.12.0.88)\n",
      "Requirement already satisfied: stringzilla>=3.10.4 in d:\\term 2\\deep_learning_project\\.venv\\lib\\site-packages (from albucore==0.0.24->albumentations) (3.12.5)\n",
      "Requirement already satisfied: simsimd>=5.9.2 in d:\\term 2\\deep_learning_project\\.venv\\lib\\site-packages (from albucore==0.0.24->albumentations) (6.5.0)\n",
      "Requirement already satisfied: annotated-types>=0.6.0 in d:\\term 2\\deep_learning_project\\.venv\\lib\\site-packages (from pydantic>=2.9.2->albumentations) (0.7.0)\n",
      "Requirement already satisfied: pydantic-core==2.33.2 in d:\\term 2\\deep_learning_project\\.venv\\lib\\site-packages (from pydantic>=2.9.2->albumentations) (2.33.2)\n",
      "Requirement already satisfied: typing-inspection>=0.4.0 in d:\\term 2\\deep_learning_project\\.venv\\lib\\site-packages (from pydantic>=2.9.2->albumentations) (0.4.1)\n",
      "Requirement already satisfied: pytesseract in d:\\term 2\\deep_learning_project\\.venv\\lib\\site-packages (0.3.13)\n",
      "Requirement already satisfied: packaging>=21.3 in d:\\term 2\\deep_learning_project\\.venv\\lib\\site-packages (from pytesseract) (25.0)\n",
      "Requirement already satisfied: Pillow>=8.0.0 in d:\\term 2\\deep_learning_project\\.venv\\lib\\site-packages (from pytesseract) (11.3.0)\n"
     ]
    }
   ],
   "source": [
    "# to use virtual env\n",
    "# python3 -m venv venv\n",
    "# source venv/bin/activate\n",
    "\n",
    "!pip3 install --upgrade pip\n",
    "!pip3 install ultralytics opencv-python\n",
    "!pip3 install pandas\n",
    "!pip3 install albumentations\n",
    "!pip3 install pytesseract\n",
    "\n",
    "\n"
   ]
  },
  {
   "cell_type": "code",
   "execution_count": null,
   "id": "a04189ed",
   "metadata": {},
   "outputs": [],
   "source": [
    "# download the dataset: https://www.kaggle.com/datasets/andrewmvd/car-plate-detection?resource=download\n",
    "# rename the folder: \"dataset\""
   ]
  },
  {
   "cell_type": "code",
   "execution_count": 2,
   "id": "2283c272",
   "metadata": {},
   "outputs": [],
   "source": [
    "import os\n",
    "import shutil\n",
    "import random\n",
    "import time\n",
    "import pandas as pd\n",
    "from ultralytics import YOLO\n",
    "import xml.etree.ElementTree as ET\n",
    "import torch\n",
    "import cv2\n",
    "\n"
   ]
  },
  {
   "cell_type": "code",
   "execution_count": 2,
   "id": "e4155ae3",
   "metadata": {},
   "outputs": [
    {
     "name": "stdout",
     "output_type": "stream",
     "text": [
      "Files split, grouped, and labels converted to YOLO TXT format\n"
     ]
    }
   ],
   "source": [
    "# process the annotations in YOLO text format\n",
    "# split the data into train 70%, val 20% and test 10%\n",
    "\n",
    "random.seed(42)\n",
    "\n",
    "image_dir = 'dataset/images'\n",
    "label_dir = 'dataset/annotations'\n",
    "\n",
    "out_base = 'dataset_split'\n",
    "\n",
    "def convert_xml_to_yolo(xml_path, txt_path):\n",
    "    tree = ET.parse(xml_path)\n",
    "    root = tree.getroot()\n",
    "\n",
    "    size = root.find('size')\n",
    "    width = float(size.find('width').text)\n",
    "    height = float(size.find('height').text)\n",
    "\n",
    "    lines = []\n",
    "    for obj in root.findall('object'):\n",
    "        class_id = 0 \n",
    "\n",
    "        bndbox = obj.find('bndbox')\n",
    "        xmin = float(bndbox.find('xmin').text)\n",
    "        ymin = float(bndbox.find('ymin').text)\n",
    "        xmax = float(bndbox.find('xmax').text)\n",
    "        ymax = float(bndbox.find('ymax').text)\n",
    "\n",
    "        x_center = ((xmin + xmax) / 2) / width\n",
    "        y_center = ((ymin + ymax) / 2) / height\n",
    "        w = (xmax - xmin) / width\n",
    "        h = (ymax - ymin) / height\n",
    "\n",
    "        lines.append(f\"{class_id} {x_center:.6f} {y_center:.6f} {w:.6f} {h:.6f}\")\n",
    "\n",
    "    with open(txt_path, 'w') as f:\n",
    "        f.write(\"\\n\".join(lines))\n",
    "\n",
    "image_files = [f for f in os.listdir(image_dir) if f.endswith('.png')]\n",
    "base_names = [os.path.splitext(f)[0] for f in image_files]\n",
    "\n",
    "random.shuffle(base_names)\n",
    "total = len(base_names)\n",
    "train_end = int(0.7 * total)\n",
    "val_end = int(0.9 * total)\n",
    "\n",
    "splits = {\n",
    "    'train': base_names[:train_end],\n",
    "    'val': base_names[train_end:val_end],\n",
    "    'test': base_names[val_end:]\n",
    "}\n",
    "\n",
    "for split in ['train', 'val', 'test']:\n",
    "    os.makedirs(f'{out_base}/images/{split}', exist_ok=True)\n",
    "    os.makedirs(f'{out_base}/labels/{split}', exist_ok=True)\n",
    "\n",
    "for split, names in splits.items():\n",
    "    for name in names:\n",
    "        img_src = os.path.join(image_dir, f'{name}.png')\n",
    "        lbl_src = os.path.join(label_dir, f'{name}.xml')\n",
    "\n",
    "        img_dst = os.path.join(out_base, 'images', split, f'{name}.png')\n",
    "        txt_dst = os.path.join(out_base, 'labels', split, f'{name}.txt')\n",
    "\n",
    "        if os.path.exists(img_src):\n",
    "            shutil.copy(img_src, img_dst)\n",
    "\n",
    "        if os.path.exists(lbl_src):\n",
    "            convert_xml_to_yolo(lbl_src, txt_dst)\n",
    "\n",
    "print(\"Files split, grouped, and labels converted to YOLO TXT format\")\n"
   ]
  },
  {
   "cell_type": "code",
   "execution_count": 4,
   "id": "34953ef3",
   "metadata": {},
   "outputs": [
    {
     "name": "stdout",
     "output_type": "stream",
     "text": [
      "Using device: cuda\n"
     ]
    }
   ],
   "source": [
    "if torch.backends.mps.is_available():\n",
    "    device = \"mps\"\n",
    "\n",
    "elif torch.cuda.is_available():        \n",
    "    device = \"cuda\"\n",
    "\n",
    "else:\n",
    "    device = \"cpu\"\n",
    "\n",
    "print(f\"Using device: {device}\")\n"
   ]
  },
  {
   "cell_type": "code",
   "execution_count": 35,
   "id": "080e50df",
   "metadata": {},
   "outputs": [
    {
     "ename": "KeyboardInterrupt",
     "evalue": "",
     "output_type": "error",
     "traceback": [
      "\u001b[1;31m---------------------------------------------------------------------------\u001b[0m",
      "\u001b[1;31mKeyboardInterrupt\u001b[0m                         Traceback (most recent call last)",
      "Cell \u001b[1;32mIn[35], line 5\u001b[0m\n\u001b[0;32m      2\u001b[0m data_yaml \u001b[38;5;241m=\u001b[39m \u001b[38;5;124m\"\u001b[39m\u001b[38;5;124mdataset_split/data.yaml\u001b[39m\u001b[38;5;124m\"\u001b[39m\n\u001b[0;32m      3\u001b[0m epochs \u001b[38;5;241m=\u001b[39m \u001b[38;5;241m5\u001b[39m\n\u001b[1;32m----> 5\u001b[0m results \u001b[38;5;241m=\u001b[39m []\n\u001b[0;32m      7\u001b[0m \u001b[38;5;28;01mfor\u001b[39;00m model_name \u001b[38;5;129;01min\u001b[39;00m models:\n\u001b[0;32m      8\u001b[0m     \u001b[38;5;28mprint\u001b[39m(\u001b[38;5;124mf\u001b[39m\u001b[38;5;124m\"\u001b[39m\u001b[38;5;130;01m\\n\u001b[39;00m\u001b[38;5;124mTraining \u001b[39m\u001b[38;5;132;01m{\u001b[39;00mmodel_name\u001b[38;5;132;01m}\u001b[39;00m\u001b[38;5;124m...\u001b[39m\u001b[38;5;124m\"\u001b[39m)\n",
      "\u001b[1;31mKeyboardInterrupt\u001b[0m: "
     ]
    }
   ],
   "source": [
    "models = [\"yolov8n.pt\", \"yolov8s.pt\", \"yolov8m.pt\"]\n",
    "data_yaml = \"dataset_split/data.yaml\"\n",
    "epochs = 5\n",
    "\n",
    "results = []\n",
    "\n",
    "for model_name in models:\n",
    "    print(f\"\\nTraining {model_name}...\")\n",
    "    model = YOLO(model_name)\n",
    "    \n",
    "    start_time = time.time()\n",
    "    metrics = model.train(data=data_yaml, epochs=epochs)\n",
    "    end_time = time.time()\n",
    "    train_time = round(end_time - start_time, 2)\n",
    "    \n",
    "    map50 = metrics.results_dict.get(\"metrics/mAP50(B)\", None)\n",
    "    recall = metrics.results_dict.get(\"metrics/recall(B)\", None)\n",
    "    precision = metrics.results_dict.get(\"metrics/precision(B)\", None)\n",
    "    f1 = metrics.results_dict.get(\"metrics/f1(B)\", None)\n",
    "    \n",
    "    results.append({\n",
    "        \"Model\": model_name,\n",
    "        \"Precision\": round(precision, 4) if precision else None,\n",
    "        \"Recall\": round(recall, 4) if recall else None,\n",
    "        \"F1 Score\": round(f1, 4) if f1 else None,\n",
    "        \"mAP50\": round(map50, 4) if map50 else None,\n",
    "        \"Training Time (s)\": train_time\n",
    "    })\n",
    "\n",
    "df = pd.DataFrame(results)\n",
    "df.to_csv(\"yolo_model_comparison.csv\", index=False)\n",
    "display(df)\n"
   ]
  },
  {
   "cell_type": "code",
   "execution_count": 5,
   "id": "df750a82",
   "metadata": {},
   "outputs": [
    {
     "name": "stdout",
     "output_type": "stream",
     "text": [
      "Ultralytics 8.3.174  Python-3.9.2 torch-2.5.1+cu121 CUDA:0 (NVIDIA GeForce RTX 3050 Laptop GPU, 4096MiB)\n",
      "\u001b[34m\u001b[1mengine\\trainer: \u001b[0magnostic_nms=False, amp=True, augment=False, auto_augment=randaugment, batch=8, bgr=0.0, box=7.5, cache=False, cfg=None, classes=None, close_mosaic=10, cls=0.5, conf=None, copy_paste=0.0, copy_paste_mode=flip, cos_lr=False, cutmix=0.0, data=dataset_split/data.yaml, degrees=0.0, deterministic=True, device=0, dfl=1.5, dnn=False, dropout=0.0, dynamic=False, embed=None, epochs=10, erasing=0.4, exist_ok=False, fliplr=0.5, flipud=0.0, format=torchscript, fraction=1.0, freeze=None, half=False, hsv_h=0.015, hsv_s=0.7, hsv_v=0.4, imgsz=640, int8=False, iou=0.7, keras=False, kobj=1.0, line_width=None, lr0=0.01, lrf=0.01, mask_ratio=4, max_det=300, mixup=0.0, mode=train, model=yolov8m.pt, momentum=0.937, mosaic=1.0, multi_scale=False, name=model_blur, nbs=64, nms=False, opset=None, optimize=False, optimizer=auto, overlap_mask=True, patience=100, perspective=0.0, plots=True, pose=12.0, pretrained=True, profile=False, project=None, rect=False, resume=False, retina_masks=False, save=True, save_conf=False, save_crop=False, save_dir=runs\\detect\\model_blur, save_frames=False, save_json=False, save_period=-1, save_txt=False, scale=0.5, seed=0, shear=0.0, show=False, show_boxes=True, show_conf=True, show_labels=True, simplify=True, single_cls=False, source=None, split=val, stream_buffer=False, task=detect, time=None, tracker=botsort.yaml, translate=0.1, val=True, verbose=True, vid_stride=1, visualize=False, warmup_bias_lr=0.1, warmup_epochs=3.0, warmup_momentum=0.8, weight_decay=0.0005, workers=8, workspace=None\n",
      "Overriding model.yaml nc=80 with nc=1\n",
      "\n",
      "                   from  n    params  module                                       arguments                     \n",
      "  0                  -1  1      1392  ultralytics.nn.modules.conv.Conv             [3, 48, 3, 2]                 \n",
      "  1                  -1  1     41664  ultralytics.nn.modules.conv.Conv             [48, 96, 3, 2]                \n",
      "  2                  -1  2    111360  ultralytics.nn.modules.block.C2f             [96, 96, 2, True]             \n",
      "  3                  -1  1    166272  ultralytics.nn.modules.conv.Conv             [96, 192, 3, 2]               \n",
      "  4                  -1  4    813312  ultralytics.nn.modules.block.C2f             [192, 192, 4, True]           \n",
      "  5                  -1  1    664320  ultralytics.nn.modules.conv.Conv             [192, 384, 3, 2]              \n",
      "  6                  -1  4   3248640  ultralytics.nn.modules.block.C2f             [384, 384, 4, True]           \n",
      "  7                  -1  1   1991808  ultralytics.nn.modules.conv.Conv             [384, 576, 3, 2]              \n",
      "  8                  -1  2   3985920  ultralytics.nn.modules.block.C2f             [576, 576, 2, True]           \n",
      "  9                  -1  1    831168  ultralytics.nn.modules.block.SPPF            [576, 576, 5]                 \n",
      " 10                  -1  1         0  torch.nn.modules.upsampling.Upsample         [None, 2, 'nearest']          \n",
      " 11             [-1, 6]  1         0  ultralytics.nn.modules.conv.Concat           [1]                           \n",
      " 12                  -1  2   1993728  ultralytics.nn.modules.block.C2f             [960, 384, 2]                 \n",
      " 13                  -1  1         0  torch.nn.modules.upsampling.Upsample         [None, 2, 'nearest']          \n",
      " 14             [-1, 4]  1         0  ultralytics.nn.modules.conv.Concat           [1]                           \n",
      " 15                  -1  2    517632  ultralytics.nn.modules.block.C2f             [576, 192, 2]                 \n",
      " 16                  -1  1    332160  ultralytics.nn.modules.conv.Conv             [192, 192, 3, 2]              \n",
      " 17            [-1, 12]  1         0  ultralytics.nn.modules.conv.Concat           [1]                           \n",
      " 18                  -1  2   1846272  ultralytics.nn.modules.block.C2f             [576, 384, 2]                 \n",
      " 19                  -1  1   1327872  ultralytics.nn.modules.conv.Conv             [384, 384, 3, 2]              \n",
      " 20             [-1, 9]  1         0  ultralytics.nn.modules.conv.Concat           [1]                           \n",
      " 21                  -1  2   4207104  ultralytics.nn.modules.block.C2f             [960, 576, 2]                 \n",
      " 22        [15, 18, 21]  1   3776275  ultralytics.nn.modules.head.Detect           [1, [192, 384, 576]]          \n",
      "Model summary: 169 layers, 25,856,899 parameters, 25,856,883 gradients, 79.1 GFLOPs\n",
      "\n",
      "Transferred 469/475 items from pretrained weights\n",
      "Freezing layer 'model.22.dfl.conv.weight'\n",
      "\u001b[34m\u001b[1mAMP: \u001b[0mrunning Automatic Mixed Precision (AMP) checks...\n",
      "\u001b[34m\u001b[1mAMP: \u001b[0mchecks passed \n",
      "\u001b[34m\u001b[1mtrain: \u001b[0mFast image access  (ping: 0.10.0 ms, read: 133.3107.3 MB/s, size: 73.3 KB)\n"
     ]
    },
    {
     "name": "stderr",
     "output_type": "stream",
     "text": [
      "\u001b[34m\u001b[1mtrain: \u001b[0mScanning D:\\Term 2\\Deep_Learning_Project\\dl_project\\dataset_split\\labels\\train.cache... 1829 images, 0 backgrounds, 0 corrupt: 100%|██████████| 1829/1829 [00:00<?, ?it/s]"
     ]
    },
    {
     "name": "stdout",
     "output_type": "stream",
     "text": [
      "\u001b[34m\u001b[1mtrain: \u001b[0mD:\\Term 2\\Deep_Learning_Project\\dl_project\\dataset_split\\images\\train\\car-wbs-MH03AR5549_00000.jpg: corrupt JPEG restored and saved\n"
     ]
    },
    {
     "name": "stderr",
     "output_type": "stream",
     "text": [
      "\n"
     ]
    },
    {
     "name": "stdout",
     "output_type": "stream",
     "text": [
      "\u001b[34m\u001b[1malbumentations: \u001b[0mBlur(p=0.01, blur_limit=(3, 7)), MedianBlur(p=0.01, blur_limit=(3, 7)), ToGray(p=0.01, method='weighted_average', num_output_channels=3), CLAHE(p=0.01, clip_limit=(1.0, 4.0), tile_grid_size=(8, 8))\n",
      "\u001b[34m\u001b[1mval: \u001b[0mFast image access  (ping: 0.10.0 ms, read: 271.4112.0 MB/s, size: 393.5 KB)\n"
     ]
    },
    {
     "name": "stderr",
     "output_type": "stream",
     "text": [
      "\u001b[34m\u001b[1mval: \u001b[0mScanning D:\\Term 2\\Deep_Learning_Project\\dl_project\\dataset_split\\labels\\val.cache... 255 images, 0 backgrounds, 0 corrupt: 100%|██████████| 255/255 [00:00<?, ?it/s]\n"
     ]
    },
    {
     "name": "stdout",
     "output_type": "stream",
     "text": [
      "Plotting labels to runs\\detect\\model_blur\\labels.jpg... \n",
      "\u001b[34m\u001b[1moptimizer:\u001b[0m 'optimizer=auto' found, ignoring 'lr0=0.01' and 'momentum=0.937' and determining best 'optimizer', 'lr0' and 'momentum' automatically... \n",
      "\u001b[34m\u001b[1moptimizer:\u001b[0m AdamW(lr=0.002, momentum=0.9) with parameter groups 77 weight(decay=0.0), 84 weight(decay=0.0005), 83 bias(decay=0.0)\n",
      "Image sizes 640 train, 640 val\n",
      "Using 8 dataloader workers\n",
      "Logging results to \u001b[1mruns\\detect\\model_blur\u001b[0m\n",
      "Starting training for 10 epochs...\n",
      "Closing dataloader mosaic\n",
      "\u001b[34m\u001b[1malbumentations: \u001b[0mBlur(p=0.01, blur_limit=(3, 7)), MedianBlur(p=0.01, blur_limit=(3, 7)), ToGray(p=0.01, method='weighted_average', num_output_channels=3), CLAHE(p=0.01, clip_limit=(1.0, 4.0), tile_grid_size=(8, 8))\n",
      "\n",
      "      Epoch    GPU_mem   box_loss   cls_loss   dfl_loss  Instances       Size\n"
     ]
    },
    {
     "name": "stderr",
     "output_type": "stream",
     "text": [
      "       1/10      3.25G      1.122      1.176      1.137          5        640: 100%|██████████| 229/229 [01:44<00:00,  2.18it/s]\n",
      "                 Class     Images  Instances      Box(P          R      mAP50  mAP50-95): 100%|██████████| 16/16 [00:04<00:00,  3.52it/s]"
     ]
    },
    {
     "name": "stdout",
     "output_type": "stream",
     "text": [
      "                   all        255        262      0.455      0.519      0.396      0.222\n"
     ]
    },
    {
     "name": "stderr",
     "output_type": "stream",
     "text": [
      "\n"
     ]
    },
    {
     "name": "stdout",
     "output_type": "stream",
     "text": [
      "\n",
      "      Epoch    GPU_mem   box_loss   cls_loss   dfl_loss  Instances       Size\n"
     ]
    },
    {
     "name": "stderr",
     "output_type": "stream",
     "text": [
      "       2/10      3.33G       1.21      0.951      1.182          5        640: 100%|██████████| 229/229 [01:40<00:00,  2.28it/s]\n",
      "                 Class     Images  Instances      Box(P          R      mAP50  mAP50-95): 100%|██████████| 16/16 [00:04<00:00,  3.58it/s]"
     ]
    },
    {
     "name": "stdout",
     "output_type": "stream",
     "text": [
      "                   all        255        262      0.919      0.779      0.871      0.576\n"
     ]
    },
    {
     "name": "stderr",
     "output_type": "stream",
     "text": [
      "\n"
     ]
    },
    {
     "name": "stdout",
     "output_type": "stream",
     "text": [
      "\n",
      "      Epoch    GPU_mem   box_loss   cls_loss   dfl_loss  Instances       Size\n"
     ]
    },
    {
     "name": "stderr",
     "output_type": "stream",
     "text": [
      "       3/10      3.39G      1.156     0.8825      1.174          5        640: 100%|██████████| 229/229 [01:40<00:00,  2.29it/s]\n",
      "                 Class     Images  Instances      Box(P          R      mAP50  mAP50-95): 100%|██████████| 16/16 [00:04<00:00,  3.59it/s]"
     ]
    },
    {
     "name": "stdout",
     "output_type": "stream",
     "text": [
      "                   all        255        262      0.877      0.791      0.886      0.582\n"
     ]
    },
    {
     "name": "stderr",
     "output_type": "stream",
     "text": [
      "\n"
     ]
    },
    {
     "name": "stdout",
     "output_type": "stream",
     "text": [
      "\n",
      "      Epoch    GPU_mem   box_loss   cls_loss   dfl_loss  Instances       Size\n"
     ]
    },
    {
     "name": "stderr",
     "output_type": "stream",
     "text": [
      "       4/10      3.42G      1.112     0.8062      1.159          5        640: 100%|██████████| 229/229 [01:39<00:00,  2.29it/s]\n",
      "                 Class     Images  Instances      Box(P          R      mAP50  mAP50-95): 100%|██████████| 16/16 [00:04<00:00,  3.60it/s]"
     ]
    },
    {
     "name": "stdout",
     "output_type": "stream",
     "text": [
      "                   all        255        262      0.938      0.808      0.916      0.629\n"
     ]
    },
    {
     "name": "stderr",
     "output_type": "stream",
     "text": [
      "\n"
     ]
    },
    {
     "name": "stdout",
     "output_type": "stream",
     "text": [
      "\n",
      "      Epoch    GPU_mem   box_loss   cls_loss   dfl_loss  Instances       Size\n"
     ]
    },
    {
     "name": "stderr",
     "output_type": "stream",
     "text": [
      "       5/10       3.4G      1.053     0.7213      1.117          5        640: 100%|██████████| 229/229 [01:40<00:00,  2.28it/s]\n",
      "                 Class     Images  Instances      Box(P          R      mAP50  mAP50-95): 100%|██████████| 16/16 [00:04<00:00,  3.61it/s]"
     ]
    },
    {
     "name": "stdout",
     "output_type": "stream",
     "text": [
      "                   all        255        262      0.899      0.866      0.926      0.669\n"
     ]
    },
    {
     "name": "stderr",
     "output_type": "stream",
     "text": [
      "\n"
     ]
    },
    {
     "name": "stdout",
     "output_type": "stream",
     "text": [
      "\n",
      "      Epoch    GPU_mem   box_loss   cls_loss   dfl_loss  Instances       Size\n"
     ]
    },
    {
     "name": "stderr",
     "output_type": "stream",
     "text": [
      "       6/10      3.42G     0.9833     0.6408      1.073          5        640: 100%|██████████| 229/229 [01:40<00:00,  2.29it/s]\n",
      "                 Class     Images  Instances      Box(P          R      mAP50  mAP50-95): 100%|██████████| 16/16 [00:04<00:00,  3.63it/s]"
     ]
    },
    {
     "name": "stdout",
     "output_type": "stream",
     "text": [
      "                   all        255        262      0.944       0.92      0.972      0.721\n"
     ]
    },
    {
     "name": "stderr",
     "output_type": "stream",
     "text": [
      "\n"
     ]
    },
    {
     "name": "stdout",
     "output_type": "stream",
     "text": [
      "\n",
      "      Epoch    GPU_mem   box_loss   cls_loss   dfl_loss  Instances       Size\n"
     ]
    },
    {
     "name": "stderr",
     "output_type": "stream",
     "text": [
      "       7/10      3.41G     0.9207     0.5847      1.042          5        640: 100%|██████████| 229/229 [01:39<00:00,  2.30it/s]\n",
      "                 Class     Images  Instances      Box(P          R      mAP50  mAP50-95): 100%|██████████| 16/16 [00:04<00:00,  3.57it/s]"
     ]
    },
    {
     "name": "stdout",
     "output_type": "stream",
     "text": [
      "                   all        255        262      0.952      0.916      0.971       0.72\n"
     ]
    },
    {
     "name": "stderr",
     "output_type": "stream",
     "text": [
      "\n"
     ]
    },
    {
     "name": "stdout",
     "output_type": "stream",
     "text": [
      "\n",
      "      Epoch    GPU_mem   box_loss   cls_loss   dfl_loss  Instances       Size\n"
     ]
    },
    {
     "name": "stderr",
     "output_type": "stream",
     "text": [
      "       8/10      3.41G     0.8558     0.5275      1.015          5        640: 100%|██████████| 229/229 [01:39<00:00,  2.29it/s]\n",
      "                 Class     Images  Instances      Box(P          R      mAP50  mAP50-95): 100%|██████████| 16/16 [00:04<00:00,  3.61it/s]"
     ]
    },
    {
     "name": "stdout",
     "output_type": "stream",
     "text": [
      "                   all        255        262      0.961      0.933      0.981      0.728\n"
     ]
    },
    {
     "name": "stderr",
     "output_type": "stream",
     "text": [
      "\n"
     ]
    },
    {
     "name": "stdout",
     "output_type": "stream",
     "text": [
      "\n",
      "      Epoch    GPU_mem   box_loss   cls_loss   dfl_loss  Instances       Size\n"
     ]
    },
    {
     "name": "stderr",
     "output_type": "stream",
     "text": [
      "       9/10      3.41G     0.8209     0.4857      0.997          5        640: 100%|██████████| 229/229 [01:40<00:00,  2.29it/s]\n",
      "                 Class     Images  Instances      Box(P          R      mAP50  mAP50-95): 100%|██████████| 16/16 [00:04<00:00,  3.60it/s]"
     ]
    },
    {
     "name": "stdout",
     "output_type": "stream",
     "text": [
      "                   all        255        262      0.931      0.943      0.977      0.747\n"
     ]
    },
    {
     "name": "stderr",
     "output_type": "stream",
     "text": [
      "\n"
     ]
    },
    {
     "name": "stdout",
     "output_type": "stream",
     "text": [
      "\n",
      "      Epoch    GPU_mem   box_loss   cls_loss   dfl_loss  Instances       Size\n"
     ]
    },
    {
     "name": "stderr",
     "output_type": "stream",
     "text": [
      "      10/10      3.38G     0.7969      0.464     0.9865          5        640: 100%|██████████| 229/229 [01:40<00:00,  2.29it/s]\n",
      "                 Class     Images  Instances      Box(P          R      mAP50  mAP50-95): 100%|██████████| 16/16 [00:04<00:00,  3.56it/s]"
     ]
    },
    {
     "name": "stdout",
     "output_type": "stream",
     "text": [
      "                   all        255        262      0.969      0.935      0.977      0.765\n"
     ]
    },
    {
     "name": "stderr",
     "output_type": "stream",
     "text": [
      "\n"
     ]
    },
    {
     "name": "stdout",
     "output_type": "stream",
     "text": [
      "\n",
      "10 epochs completed in 0.302 hours.\n",
      "Optimizer stripped from runs\\detect\\model_blur\\weights\\last.pt, 52.0MB\n",
      "Optimizer stripped from runs\\detect\\model_blur\\weights\\best.pt, 52.0MB\n",
      "\n",
      "Validating runs\\detect\\model_blur\\weights\\best.pt...\n",
      "Ultralytics 8.3.174  Python-3.9.2 torch-2.5.1+cu121 CUDA:0 (NVIDIA GeForce RTX 3050 Laptop GPU, 4096MiB)\n",
      "Model summary (fused): 92 layers, 25,840,339 parameters, 0 gradients, 78.7 GFLOPs\n"
     ]
    },
    {
     "name": "stderr",
     "output_type": "stream",
     "text": [
      "                 Class     Images  Instances      Box(P          R      mAP50  mAP50-95): 100%|██████████| 16/16 [00:04<00:00,  3.52it/s]\n"
     ]
    },
    {
     "name": "stdout",
     "output_type": "stream",
     "text": [
      "                   all        255        262      0.969      0.935      0.977      0.766\n",
      "Speed: 0.4ms preprocess, 13.1ms inference, 0.0ms loss, 1.4ms postprocess per image\n",
      "Results saved to \u001b[1mruns\\detect\\model_blur\u001b[0m\n",
      "Ultralytics 8.3.174  Python-3.9.2 torch-2.5.1+cu121 CUDA:0 (NVIDIA GeForce RTX 3050 Laptop GPU, 4096MiB)\n",
      "Model summary (fused): 92 layers, 25,840,339 parameters, 0 gradients, 78.7 GFLOPs\n",
      "\u001b[34m\u001b[1mval: \u001b[0mFast image access  (ping: 0.00.0 ms, read: 1723.6721.0 MB/s, size: 234.4 KB)\n"
     ]
    },
    {
     "name": "stderr",
     "output_type": "stream",
     "text": [
      "\u001b[34m\u001b[1mval: \u001b[0mScanning D:\\Term 2\\Deep_Learning_Project\\dl_project\\dataset_split\\labels\\val.cache... 255 images, 0 backgrounds, 0 corrupt: 100%|██████████| 255/255 [00:00<?, ?it/s]\n",
      "                 Class     Images  Instances      Box(P          R      mAP50  mAP50-95): 100%|██████████| 32/32 [00:08<00:00,  3.79it/s]\n"
     ]
    },
    {
     "name": "stdout",
     "output_type": "stream",
     "text": [
      "                   all        255        262      0.969      0.939      0.978      0.766\n",
      "Speed: 0.3ms preprocess, 28.4ms inference, 0.0ms loss, 1.3ms postprocess per image\n",
      "Results saved to \u001b[1mruns\\detect\\model_blur2\u001b[0m\n",
      "ultralytics.utils.metrics.DetMetrics object with attributes:\n",
      "\n",
      "ap_class_index: array([0])\n",
      "box: ultralytics.utils.metrics.Metric object\n",
      "confusion_matrix: <ultralytics.utils.metrics.ConfusionMatrix object at 0x0000018BFB515C70>\n",
      "curves: ['Precision-Recall(B)', 'F1-Confidence(B)', 'Precision-Confidence(B)', 'Recall-Confidence(B)']\n",
      "curves_results: [[array([          0,    0.001001,    0.002002,    0.003003,    0.004004,    0.005005,    0.006006,    0.007007,    0.008008,    0.009009,     0.01001,    0.011011,    0.012012,    0.013013,    0.014014,    0.015015,    0.016016,    0.017017,    0.018018,    0.019019,     0.02002,    0.021021,    0.022022,    0.023023,\n",
      "          0.024024,    0.025025,    0.026026,    0.027027,    0.028028,    0.029029,     0.03003,    0.031031,    0.032032,    0.033033,    0.034034,    0.035035,    0.036036,    0.037037,    0.038038,    0.039039,     0.04004,    0.041041,    0.042042,    0.043043,    0.044044,    0.045045,    0.046046,    0.047047,\n",
      "          0.048048,    0.049049,     0.05005,    0.051051,    0.052052,    0.053053,    0.054054,    0.055055,    0.056056,    0.057057,    0.058058,    0.059059,     0.06006,    0.061061,    0.062062,    0.063063,    0.064064,    0.065065,    0.066066,    0.067067,    0.068068,    0.069069,     0.07007,    0.071071,\n",
      "          0.072072,    0.073073,    0.074074,    0.075075,    0.076076,    0.077077,    0.078078,    0.079079,     0.08008,    0.081081,    0.082082,    0.083083,    0.084084,    0.085085,    0.086086,    0.087087,    0.088088,    0.089089,     0.09009,    0.091091,    0.092092,    0.093093,    0.094094,    0.095095,\n",
      "          0.096096,    0.097097,    0.098098,    0.099099,      0.1001,      0.1011,      0.1021,      0.1031,      0.1041,     0.10511,     0.10611,     0.10711,     0.10811,     0.10911,     0.11011,     0.11111,     0.11211,     0.11311,     0.11411,     0.11512,     0.11612,     0.11712,     0.11812,     0.11912,\n",
      "           0.12012,     0.12112,     0.12212,     0.12312,     0.12412,     0.12513,     0.12613,     0.12713,     0.12813,     0.12913,     0.13013,     0.13113,     0.13213,     0.13313,     0.13413,     0.13514,     0.13614,     0.13714,     0.13814,     0.13914,     0.14014,     0.14114,     0.14214,     0.14314,\n",
      "           0.14414,     0.14515,     0.14615,     0.14715,     0.14815,     0.14915,     0.15015,     0.15115,     0.15215,     0.15315,     0.15415,     0.15516,     0.15616,     0.15716,     0.15816,     0.15916,     0.16016,     0.16116,     0.16216,     0.16316,     0.16416,     0.16517,     0.16617,     0.16717,\n",
      "           0.16817,     0.16917,     0.17017,     0.17117,     0.17217,     0.17317,     0.17417,     0.17518,     0.17618,     0.17718,     0.17818,     0.17918,     0.18018,     0.18118,     0.18218,     0.18318,     0.18418,     0.18519,     0.18619,     0.18719,     0.18819,     0.18919,     0.19019,     0.19119,\n",
      "           0.19219,     0.19319,     0.19419,      0.1952,      0.1962,      0.1972,      0.1982,      0.1992,      0.2002,      0.2012,      0.2022,      0.2032,      0.2042,     0.20521,     0.20621,     0.20721,     0.20821,     0.20921,     0.21021,     0.21121,     0.21221,     0.21321,     0.21421,     0.21522,\n",
      "           0.21622,     0.21722,     0.21822,     0.21922,     0.22022,     0.22122,     0.22222,     0.22322,     0.22422,     0.22523,     0.22623,     0.22723,     0.22823,     0.22923,     0.23023,     0.23123,     0.23223,     0.23323,     0.23423,     0.23524,     0.23624,     0.23724,     0.23824,     0.23924,\n",
      "           0.24024,     0.24124,     0.24224,     0.24324,     0.24424,     0.24525,     0.24625,     0.24725,     0.24825,     0.24925,     0.25025,     0.25125,     0.25225,     0.25325,     0.25425,     0.25526,     0.25626,     0.25726,     0.25826,     0.25926,     0.26026,     0.26126,     0.26226,     0.26326,\n",
      "           0.26426,     0.26527,     0.26627,     0.26727,     0.26827,     0.26927,     0.27027,     0.27127,     0.27227,     0.27327,     0.27427,     0.27528,     0.27628,     0.27728,     0.27828,     0.27928,     0.28028,     0.28128,     0.28228,     0.28328,     0.28428,     0.28529,     0.28629,     0.28729,\n",
      "           0.28829,     0.28929,     0.29029,     0.29129,     0.29229,     0.29329,     0.29429,      0.2953,      0.2963,      0.2973,      0.2983,      0.2993,      0.3003,      0.3013,      0.3023,      0.3033,      0.3043,     0.30531,     0.30631,     0.30731,     0.30831,     0.30931,     0.31031,     0.31131,\n",
      "           0.31231,     0.31331,     0.31431,     0.31532,     0.31632,     0.31732,     0.31832,     0.31932,     0.32032,     0.32132,     0.32232,     0.32332,     0.32432,     0.32533,     0.32633,     0.32733,     0.32833,     0.32933,     0.33033,     0.33133,     0.33233,     0.33333,     0.33433,     0.33534,\n",
      "           0.33634,     0.33734,     0.33834,     0.33934,     0.34034,     0.34134,     0.34234,     0.34334,     0.34434,     0.34535,     0.34635,     0.34735,     0.34835,     0.34935,     0.35035,     0.35135,     0.35235,     0.35335,     0.35435,     0.35536,     0.35636,     0.35736,     0.35836,     0.35936,\n",
      "           0.36036,     0.36136,     0.36236,     0.36336,     0.36436,     0.36537,     0.36637,     0.36737,     0.36837,     0.36937,     0.37037,     0.37137,     0.37237,     0.37337,     0.37437,     0.37538,     0.37638,     0.37738,     0.37838,     0.37938,     0.38038,     0.38138,     0.38238,     0.38338,\n",
      "           0.38438,     0.38539,     0.38639,     0.38739,     0.38839,     0.38939,     0.39039,     0.39139,     0.39239,     0.39339,     0.39439,      0.3954,      0.3964,      0.3974,      0.3984,      0.3994,      0.4004,      0.4014,      0.4024,      0.4034,      0.4044,     0.40541,     0.40641,     0.40741,\n",
      "           0.40841,     0.40941,     0.41041,     0.41141,     0.41241,     0.41341,     0.41441,     0.41542,     0.41642,     0.41742,     0.41842,     0.41942,     0.42042,     0.42142,     0.42242,     0.42342,     0.42442,     0.42543,     0.42643,     0.42743,     0.42843,     0.42943,     0.43043,     0.43143,\n",
      "           0.43243,     0.43343,     0.43443,     0.43544,     0.43644,     0.43744,     0.43844,     0.43944,     0.44044,     0.44144,     0.44244,     0.44344,     0.44444,     0.44545,     0.44645,     0.44745,     0.44845,     0.44945,     0.45045,     0.45145,     0.45245,     0.45345,     0.45445,     0.45546,\n",
      "           0.45646,     0.45746,     0.45846,     0.45946,     0.46046,     0.46146,     0.46246,     0.46346,     0.46446,     0.46547,     0.46647,     0.46747,     0.46847,     0.46947,     0.47047,     0.47147,     0.47247,     0.47347,     0.47447,     0.47548,     0.47648,     0.47748,     0.47848,     0.47948,\n",
      "           0.48048,     0.48148,     0.48248,     0.48348,     0.48448,     0.48549,     0.48649,     0.48749,     0.48849,     0.48949,     0.49049,     0.49149,     0.49249,     0.49349,     0.49449,      0.4955,      0.4965,      0.4975,      0.4985,      0.4995,      0.5005,      0.5015,      0.5025,      0.5035,\n",
      "            0.5045,     0.50551,     0.50651,     0.50751,     0.50851,     0.50951,     0.51051,     0.51151,     0.51251,     0.51351,     0.51451,     0.51552,     0.51652,     0.51752,     0.51852,     0.51952,     0.52052,     0.52152,     0.52252,     0.52352,     0.52452,     0.52553,     0.52653,     0.52753,\n",
      "           0.52853,     0.52953,     0.53053,     0.53153,     0.53253,     0.53353,     0.53453,     0.53554,     0.53654,     0.53754,     0.53854,     0.53954,     0.54054,     0.54154,     0.54254,     0.54354,     0.54454,     0.54555,     0.54655,     0.54755,     0.54855,     0.54955,     0.55055,     0.55155,\n",
      "           0.55255,     0.55355,     0.55455,     0.55556,     0.55656,     0.55756,     0.55856,     0.55956,     0.56056,     0.56156,     0.56256,     0.56356,     0.56456,     0.56557,     0.56657,     0.56757,     0.56857,     0.56957,     0.57057,     0.57157,     0.57257,     0.57357,     0.57457,     0.57558,\n",
      "           0.57658,     0.57758,     0.57858,     0.57958,     0.58058,     0.58158,     0.58258,     0.58358,     0.58458,     0.58559,     0.58659,     0.58759,     0.58859,     0.58959,     0.59059,     0.59159,     0.59259,     0.59359,     0.59459,      0.5956,      0.5966,      0.5976,      0.5986,      0.5996,\n",
      "            0.6006,      0.6016,      0.6026,      0.6036,      0.6046,     0.60561,     0.60661,     0.60761,     0.60861,     0.60961,     0.61061,     0.61161,     0.61261,     0.61361,     0.61461,     0.61562,     0.61662,     0.61762,     0.61862,     0.61962,     0.62062,     0.62162,     0.62262,     0.62362,\n",
      "           0.62462,     0.62563,     0.62663,     0.62763,     0.62863,     0.62963,     0.63063,     0.63163,     0.63263,     0.63363,     0.63463,     0.63564,     0.63664,     0.63764,     0.63864,     0.63964,     0.64064,     0.64164,     0.64264,     0.64364,     0.64464,     0.64565,     0.64665,     0.64765,\n",
      "           0.64865,     0.64965,     0.65065,     0.65165,     0.65265,     0.65365,     0.65465,     0.65566,     0.65666,     0.65766,     0.65866,     0.65966,     0.66066,     0.66166,     0.66266,     0.66366,     0.66466,     0.66567,     0.66667,     0.66767,     0.66867,     0.66967,     0.67067,     0.67167,\n",
      "           0.67267,     0.67367,     0.67467,     0.67568,     0.67668,     0.67768,     0.67868,     0.67968,     0.68068,     0.68168,     0.68268,     0.68368,     0.68468,     0.68569,     0.68669,     0.68769,     0.68869,     0.68969,     0.69069,     0.69169,     0.69269,     0.69369,     0.69469,      0.6957,\n",
      "            0.6967,      0.6977,      0.6987,      0.6997,      0.7007,      0.7017,      0.7027,      0.7037,      0.7047,     0.70571,     0.70671,     0.70771,     0.70871,     0.70971,     0.71071,     0.71171,     0.71271,     0.71371,     0.71471,     0.71572,     0.71672,     0.71772,     0.71872,     0.71972,\n",
      "           0.72072,     0.72172,     0.72272,     0.72372,     0.72472,     0.72573,     0.72673,     0.72773,     0.72873,     0.72973,     0.73073,     0.73173,     0.73273,     0.73373,     0.73473,     0.73574,     0.73674,     0.73774,     0.73874,     0.73974,     0.74074,     0.74174,     0.74274,     0.74374,\n",
      "           0.74474,     0.74575,     0.74675,     0.74775,     0.74875,     0.74975,     0.75075,     0.75175,     0.75275,     0.75375,     0.75475,     0.75576,     0.75676,     0.75776,     0.75876,     0.75976,     0.76076,     0.76176,     0.76276,     0.76376,     0.76476,     0.76577,     0.76677,     0.76777,\n",
      "           0.76877,     0.76977,     0.77077,     0.77177,     0.77277,     0.77377,     0.77477,     0.77578,     0.77678,     0.77778,     0.77878,     0.77978,     0.78078,     0.78178,     0.78278,     0.78378,     0.78478,     0.78579,     0.78679,     0.78779,     0.78879,     0.78979,     0.79079,     0.79179,\n",
      "           0.79279,     0.79379,     0.79479,      0.7958,      0.7968,      0.7978,      0.7988,      0.7998,      0.8008,      0.8018,      0.8028,      0.8038,      0.8048,     0.80581,     0.80681,     0.80781,     0.80881,     0.80981,     0.81081,     0.81181,     0.81281,     0.81381,     0.81481,     0.81582,\n",
      "           0.81682,     0.81782,     0.81882,     0.81982,     0.82082,     0.82182,     0.82282,     0.82382,     0.82482,     0.82583,     0.82683,     0.82783,     0.82883,     0.82983,     0.83083,     0.83183,     0.83283,     0.83383,     0.83483,     0.83584,     0.83684,     0.83784,     0.83884,     0.83984,\n",
      "           0.84084,     0.84184,     0.84284,     0.84384,     0.84484,     0.84585,     0.84685,     0.84785,     0.84885,     0.84985,     0.85085,     0.85185,     0.85285,     0.85385,     0.85485,     0.85586,     0.85686,     0.85786,     0.85886,     0.85986,     0.86086,     0.86186,     0.86286,     0.86386,\n",
      "           0.86486,     0.86587,     0.86687,     0.86787,     0.86887,     0.86987,     0.87087,     0.87187,     0.87287,     0.87387,     0.87487,     0.87588,     0.87688,     0.87788,     0.87888,     0.87988,     0.88088,     0.88188,     0.88288,     0.88388,     0.88488,     0.88589,     0.88689,     0.88789,\n",
      "           0.88889,     0.88989,     0.89089,     0.89189,     0.89289,     0.89389,     0.89489,      0.8959,      0.8969,      0.8979,      0.8989,      0.8999,      0.9009,      0.9019,      0.9029,      0.9039,      0.9049,     0.90591,     0.90691,     0.90791,     0.90891,     0.90991,     0.91091,     0.91191,\n",
      "           0.91291,     0.91391,     0.91491,     0.91592,     0.91692,     0.91792,     0.91892,     0.91992,     0.92092,     0.92192,     0.92292,     0.92392,     0.92492,     0.92593,     0.92693,     0.92793,     0.92893,     0.92993,     0.93093,     0.93193,     0.93293,     0.93393,     0.93493,     0.93594,\n",
      "           0.93694,     0.93794,     0.93894,     0.93994,     0.94094,     0.94194,     0.94294,     0.94394,     0.94494,     0.94595,     0.94695,     0.94795,     0.94895,     0.94995,     0.95095,     0.95195,     0.95295,     0.95395,     0.95495,     0.95596,     0.95696,     0.95796,     0.95896,     0.95996,\n",
      "           0.96096,     0.96196,     0.96296,     0.96396,     0.96496,     0.96597,     0.96697,     0.96797,     0.96897,     0.96997,     0.97097,     0.97197,     0.97297,     0.97397,     0.97497,     0.97598,     0.97698,     0.97798,     0.97898,     0.97998,     0.98098,     0.98198,     0.98298,     0.98398,\n",
      "           0.98498,     0.98599,     0.98699,     0.98799,     0.98899,     0.98999,     0.99099,     0.99199,     0.99299,     0.99399,     0.99499,       0.996,       0.997,       0.998,       0.999,           1]), array([[          1,           1,           1,           1,           1,           1,           1,           1,           1,           1,           1,           1,           1,           1,           1,           1,           1,           1,           1,           1,           1,           1,           1,\n",
      "                  1,           1,           1,           1,           1,           1,           1,           1,           1,           1,           1,           1,           1,           1,           1,           1,           1,           1,           1,           1,           1,           1,           1,\n",
      "                  1,           1,           1,           1,           1,           1,           1,           1,           1,           1,           1,           1,           1,           1,           1,           1,           1,           1,           1,           1,           1,           1,           1,\n",
      "                  1,           1,           1,           1,           1,           1,           1,           1,           1,           1,           1,           1,           1,           1,           1,           1,           1,           1,           1,           1,           1,           1,           1,\n",
      "                  1,           1,           1,           1,           1,           1,           1,           1,           1,           1,           1,           1,           1,           1,           1,           1,           1,           1,           1,           1,           1,           1,           1,\n",
      "                  1,           1,           1,           1,           1,           1,           1,           1,           1,           1,           1,           1,           1,           1,           1,           1,           1,           1,           1,           1,           1,           1,           1,\n",
      "                  1,           1,           1,           1,           1,           1,           1,           1,           1,           1,           1,           1,           1,           1,           1,           1,           1,           1,           1,           1,           1,           1,           1,\n",
      "                  1,           1,           1,           1,           1,           1,           1,           1,           1,           1,           1,           1,           1,           1,           1,           1,           1,           1,           1,           1,           1,           1,           1,\n",
      "                  1,           1,           1,           1,           1,           1,           1,           1,           1,           1,           1,           1,           1,           1,           1,           1,           1,           1,           1,           1,           1,           1,           1,\n",
      "                  1,           1,           1,           1,           1,           1,           1,           1,           1,           1,           1,           1,           1,           1,           1,           1,           1,           1,           1,           1,           1,           1,           1,\n",
      "                  1,           1,           1,           1,           1,           1,           1,           1,           1,           1,           1,           1,           1,           1,           1,           1,           1,           1,           1,           1,           1,           1,           1,\n",
      "                  1,           1,           1,           1,           1,           1,           1,           1,           1,           1,           1,           1,           1,           1,           1,           1,           1,           1,           1,           1,           1,           1,           1,\n",
      "                  1,           1,           1,           1,           1,           1,           1,           1,           1,           1,           1,           1,           1,           1,           1,           1,           1,           1,           1,           1,           1,           1,           1,\n",
      "                  1,           1,           1,           1,           1,           1,           1,           1,           1,           1,           1,           1,           1,           1,           1,           1,           1,           1,           1,           1,           1,           1,           1,\n",
      "                  1,           1,           1,           1,           1,           1,           1,           1,           1,           1,           1,           1,           1,           1,           1,           1,           1,           1,           1,           1,           1,           1,           1,\n",
      "                  1,           1,           1,           1,           1,           1,           1,           1,           1,           1,           1,           1,           1,           1,           1,           1,           1,           1,           1,           1,           1,           1,           1,\n",
      "                  1,           1,           1,           1,           1,           1,           1,           1,           1,           1,           1,           1,           1,           1,           1,           1,           1,           1,           1,           1,           1,           1,           1,\n",
      "                  1,           1,           1,           1,           1,           1,           1,           1,           1,           1,           1,           1,           1,           1,           1,           1,           1,           1,           1,           1,           1,           1,           1,\n",
      "                  1,           1,           1,           1,           1,           1,           1,           1,           1,           1,           1,           1,           1,           1,           1,           1,           1,           1,           1,           1,           1,           1,           1,\n",
      "                  1,           1,           1,           1,           1,           1,           1,           1,           1,           1,           1,           1,           1,           1,           1,           1,           1,           1,           1,           1,           1,           1,           1,\n",
      "                  1,           1,           1,           1,           1,           1,           1,           1,           1,           1,           1,           1,           1,           1,           1,           1,           1,           1,           1,           1,           1,           1,           1,\n",
      "                  1,           1,           1,           1,           1,           1,           1,           1,           1,           1,           1,           1,           1,           1,           1,           1,           1,           1,           1,           1,           1,           1,           1,\n",
      "                  1,           1,           1,           1,           1,           1,           1,           1,           1,           1,           1,           1,           1,           1,           1,           1,           1,           1,           1,           1,           1,           1,           1,\n",
      "                  1,           1,           1,           1,           1,           1,           1,           1,           1,           1,           1,           1,           1,           1,           1,           1,           1,           1,           1,           1,           1,           1,           1,\n",
      "                  1,           1,           1,           1,           1,           1,           1,           1,           1,           1,           1,           1,           1,           1,           1,           1,           1,           1,           1,           1,           1,           1,           1,\n",
      "                  1,           1,           1,           1,           1,           1,           1,           1,           1,           1,           1,           1,           1,           1,           1,           1,           1,           1,           1,           1,           1,           1,           1,\n",
      "                  1,           1,           1,           1,           1,           1,           1,           1,           1,           1,           1,           1,           1,           1,           1,           1,           1,           1,           1,           1,           1,           1,           1,\n",
      "                  1,           1,           1,           1,           1,           1,           1,           1,           1,           1,           1,           1,           1,           1,           1,           1,           1,           1,           1,           1,           1,           1,           1,\n",
      "                  1,           1,           1,           1,           1,           1,           1,           1,           1,           1,           1,           1,           1,           1,           1,           1,           1,           1,           1,           1,           1,           1,           1,\n",
      "                  1,           1,           1,           1,           1,           1,           1,           1,           1,           1,           1,           1,           1,           1,           1,           1,           1,           1,           1,           1,           1,           1,           1,\n",
      "                  1,           1,           1,           1,           1,           1,           1,           1,           1,           1,           1,           1,           1,           1,           1,           1,           1,           1,           1,           1,           1,           1,           1,\n",
      "                  1,           1,           1,           1,           1,           1,           1,           1,           1,           1,           1,           1,           1,           1,           1,           1,           1,           1,           1,           1,           1,           1,           1,\n",
      "                  1,           1,           1,           1,           1,           1,           1,           1,           1,           1,           1,           1,           1,           1,           1,           1,           1,           1,           1,           1,           1,           1,           1,\n",
      "                  1,           1,           1,           1,           1,           1,           1,           1,           1,           1,           1,           1,           1,           1,           1,           1,           1,           1,           1,           1,           1,           1,           1,\n",
      "                  1,           1,           1,           1,           1,           1,           1,           1,           1,           1,           1,           1,           1,           1,           1,           1,           1,           1,           1,           1,           1,           1,           1,\n",
      "                  1,           1,           1,           1,           1,           1,           1,           1,           1,           1,           1,           1,           1,           1,           1,           1,           1,           1,           1,           1,           1,           1,           1,\n",
      "                  1,           1,           1,           1,           1,           1,           1,           1,           1,           1,           1,           1,           1,           1,           1,           1,           1,           1,           1,           1,           1,           1,           1,\n",
      "                  1,           1,           1,           1,           1,           1,           1,           1,           1,           1,           1,           1,           1,           1,           1,           1,           1,           1,           1,           1,           1,           1,           1,\n",
      "            0.99571,     0.99571,     0.99571,     0.99571,     0.99571,     0.99571,     0.99571,     0.99571,     0.99571,     0.99571,     0.99571,     0.99163,     0.99163,     0.99163,     0.99163,     0.99163,     0.99163,     0.99163,     0.99163,     0.99163,     0.99163,     0.99163,     0.99163,\n",
      "            0.99163,     0.99163,     0.99163,     0.99163,     0.99163,     0.99163,     0.99163,     0.98354,     0.98354,     0.98354,     0.98354,     0.98354,     0.98354,     0.98354,     0.98354,     0.97619,     0.97619,     0.97619,     0.97619,     0.97619,     0.97619,     0.97619,     0.97619,\n",
      "            0.97619,     0.97619,     0.97619,     0.97619,     0.97619,     0.97619,     0.97619,     0.97619,     0.97619,     0.97619,     0.97619,     0.97619,     0.97619,     0.97619,     0.97619,     0.97619,     0.97619,     0.97619,     0.96498,     0.96498,     0.96498,     0.96498,     0.96498,\n",
      "            0.96498,     0.96498,     0.96498,     0.95769,     0.95769,     0.95769,     0.95769,     0.94697,     0.94697,     0.94697,     0.94697,     0.94361,     0.94361,     0.94361,     0.94361,     0.93333,     0.93333,     0.93333,     0.92029,     0.92029,     0.92029,     0.92029,     0.92029,\n",
      "            0.92029,     0.92029,     0.92029,     0.83333,     0.83333,     0.83333,     0.83333,     0.75294,     0.75294,     0.75294,     0.75294,       0.422,       0.422,       0.422,     0.31502,     0.31502,     0.31502,     0.31502,     0.25048,     0.25048,     0.25048,     0.25048,     0.23423,\n",
      "            0.23423,     0.23423,     0.23423,     0.20862,     0.17882,     0.14901,     0.11921,    0.089408,    0.059605,    0.029803,           0]]), 'Recall', 'Precision'], [array([          0,    0.001001,    0.002002,    0.003003,    0.004004,    0.005005,    0.006006,    0.007007,    0.008008,    0.009009,     0.01001,    0.011011,    0.012012,    0.013013,    0.014014,    0.015015,    0.016016,    0.017017,    0.018018,    0.019019,     0.02002,    0.021021,    0.022022,    0.023023,\n",
      "          0.024024,    0.025025,    0.026026,    0.027027,    0.028028,    0.029029,     0.03003,    0.031031,    0.032032,    0.033033,    0.034034,    0.035035,    0.036036,    0.037037,    0.038038,    0.039039,     0.04004,    0.041041,    0.042042,    0.043043,    0.044044,    0.045045,    0.046046,    0.047047,\n",
      "          0.048048,    0.049049,     0.05005,    0.051051,    0.052052,    0.053053,    0.054054,    0.055055,    0.056056,    0.057057,    0.058058,    0.059059,     0.06006,    0.061061,    0.062062,    0.063063,    0.064064,    0.065065,    0.066066,    0.067067,    0.068068,    0.069069,     0.07007,    0.071071,\n",
      "          0.072072,    0.073073,    0.074074,    0.075075,    0.076076,    0.077077,    0.078078,    0.079079,     0.08008,    0.081081,    0.082082,    0.083083,    0.084084,    0.085085,    0.086086,    0.087087,    0.088088,    0.089089,     0.09009,    0.091091,    0.092092,    0.093093,    0.094094,    0.095095,\n",
      "          0.096096,    0.097097,    0.098098,    0.099099,      0.1001,      0.1011,      0.1021,      0.1031,      0.1041,     0.10511,     0.10611,     0.10711,     0.10811,     0.10911,     0.11011,     0.11111,     0.11211,     0.11311,     0.11411,     0.11512,     0.11612,     0.11712,     0.11812,     0.11912,\n",
      "           0.12012,     0.12112,     0.12212,     0.12312,     0.12412,     0.12513,     0.12613,     0.12713,     0.12813,     0.12913,     0.13013,     0.13113,     0.13213,     0.13313,     0.13413,     0.13514,     0.13614,     0.13714,     0.13814,     0.13914,     0.14014,     0.14114,     0.14214,     0.14314,\n",
      "           0.14414,     0.14515,     0.14615,     0.14715,     0.14815,     0.14915,     0.15015,     0.15115,     0.15215,     0.15315,     0.15415,     0.15516,     0.15616,     0.15716,     0.15816,     0.15916,     0.16016,     0.16116,     0.16216,     0.16316,     0.16416,     0.16517,     0.16617,     0.16717,\n",
      "           0.16817,     0.16917,     0.17017,     0.17117,     0.17217,     0.17317,     0.17417,     0.17518,     0.17618,     0.17718,     0.17818,     0.17918,     0.18018,     0.18118,     0.18218,     0.18318,     0.18418,     0.18519,     0.18619,     0.18719,     0.18819,     0.18919,     0.19019,     0.19119,\n",
      "           0.19219,     0.19319,     0.19419,      0.1952,      0.1962,      0.1972,      0.1982,      0.1992,      0.2002,      0.2012,      0.2022,      0.2032,      0.2042,     0.20521,     0.20621,     0.20721,     0.20821,     0.20921,     0.21021,     0.21121,     0.21221,     0.21321,     0.21421,     0.21522,\n",
      "           0.21622,     0.21722,     0.21822,     0.21922,     0.22022,     0.22122,     0.22222,     0.22322,     0.22422,     0.22523,     0.22623,     0.22723,     0.22823,     0.22923,     0.23023,     0.23123,     0.23223,     0.23323,     0.23423,     0.23524,     0.23624,     0.23724,     0.23824,     0.23924,\n",
      "           0.24024,     0.24124,     0.24224,     0.24324,     0.24424,     0.24525,     0.24625,     0.24725,     0.24825,     0.24925,     0.25025,     0.25125,     0.25225,     0.25325,     0.25425,     0.25526,     0.25626,     0.25726,     0.25826,     0.25926,     0.26026,     0.26126,     0.26226,     0.26326,\n",
      "           0.26426,     0.26527,     0.26627,     0.26727,     0.26827,     0.26927,     0.27027,     0.27127,     0.27227,     0.27327,     0.27427,     0.27528,     0.27628,     0.27728,     0.27828,     0.27928,     0.28028,     0.28128,     0.28228,     0.28328,     0.28428,     0.28529,     0.28629,     0.28729,\n",
      "           0.28829,     0.28929,     0.29029,     0.29129,     0.29229,     0.29329,     0.29429,      0.2953,      0.2963,      0.2973,      0.2983,      0.2993,      0.3003,      0.3013,      0.3023,      0.3033,      0.3043,     0.30531,     0.30631,     0.30731,     0.30831,     0.30931,     0.31031,     0.31131,\n",
      "           0.31231,     0.31331,     0.31431,     0.31532,     0.31632,     0.31732,     0.31832,     0.31932,     0.32032,     0.32132,     0.32232,     0.32332,     0.32432,     0.32533,     0.32633,     0.32733,     0.32833,     0.32933,     0.33033,     0.33133,     0.33233,     0.33333,     0.33433,     0.33534,\n",
      "           0.33634,     0.33734,     0.33834,     0.33934,     0.34034,     0.34134,     0.34234,     0.34334,     0.34434,     0.34535,     0.34635,     0.34735,     0.34835,     0.34935,     0.35035,     0.35135,     0.35235,     0.35335,     0.35435,     0.35536,     0.35636,     0.35736,     0.35836,     0.35936,\n",
      "           0.36036,     0.36136,     0.36236,     0.36336,     0.36436,     0.36537,     0.36637,     0.36737,     0.36837,     0.36937,     0.37037,     0.37137,     0.37237,     0.37337,     0.37437,     0.37538,     0.37638,     0.37738,     0.37838,     0.37938,     0.38038,     0.38138,     0.38238,     0.38338,\n",
      "           0.38438,     0.38539,     0.38639,     0.38739,     0.38839,     0.38939,     0.39039,     0.39139,     0.39239,     0.39339,     0.39439,      0.3954,      0.3964,      0.3974,      0.3984,      0.3994,      0.4004,      0.4014,      0.4024,      0.4034,      0.4044,     0.40541,     0.40641,     0.40741,\n",
      "           0.40841,     0.40941,     0.41041,     0.41141,     0.41241,     0.41341,     0.41441,     0.41542,     0.41642,     0.41742,     0.41842,     0.41942,     0.42042,     0.42142,     0.42242,     0.42342,     0.42442,     0.42543,     0.42643,     0.42743,     0.42843,     0.42943,     0.43043,     0.43143,\n",
      "           0.43243,     0.43343,     0.43443,     0.43544,     0.43644,     0.43744,     0.43844,     0.43944,     0.44044,     0.44144,     0.44244,     0.44344,     0.44444,     0.44545,     0.44645,     0.44745,     0.44845,     0.44945,     0.45045,     0.45145,     0.45245,     0.45345,     0.45445,     0.45546,\n",
      "           0.45646,     0.45746,     0.45846,     0.45946,     0.46046,     0.46146,     0.46246,     0.46346,     0.46446,     0.46547,     0.46647,     0.46747,     0.46847,     0.46947,     0.47047,     0.47147,     0.47247,     0.47347,     0.47447,     0.47548,     0.47648,     0.47748,     0.47848,     0.47948,\n",
      "           0.48048,     0.48148,     0.48248,     0.48348,     0.48448,     0.48549,     0.48649,     0.48749,     0.48849,     0.48949,     0.49049,     0.49149,     0.49249,     0.49349,     0.49449,      0.4955,      0.4965,      0.4975,      0.4985,      0.4995,      0.5005,      0.5015,      0.5025,      0.5035,\n",
      "            0.5045,     0.50551,     0.50651,     0.50751,     0.50851,     0.50951,     0.51051,     0.51151,     0.51251,     0.51351,     0.51451,     0.51552,     0.51652,     0.51752,     0.51852,     0.51952,     0.52052,     0.52152,     0.52252,     0.52352,     0.52452,     0.52553,     0.52653,     0.52753,\n",
      "           0.52853,     0.52953,     0.53053,     0.53153,     0.53253,     0.53353,     0.53453,     0.53554,     0.53654,     0.53754,     0.53854,     0.53954,     0.54054,     0.54154,     0.54254,     0.54354,     0.54454,     0.54555,     0.54655,     0.54755,     0.54855,     0.54955,     0.55055,     0.55155,\n",
      "           0.55255,     0.55355,     0.55455,     0.55556,     0.55656,     0.55756,     0.55856,     0.55956,     0.56056,     0.56156,     0.56256,     0.56356,     0.56456,     0.56557,     0.56657,     0.56757,     0.56857,     0.56957,     0.57057,     0.57157,     0.57257,     0.57357,     0.57457,     0.57558,\n",
      "           0.57658,     0.57758,     0.57858,     0.57958,     0.58058,     0.58158,     0.58258,     0.58358,     0.58458,     0.58559,     0.58659,     0.58759,     0.58859,     0.58959,     0.59059,     0.59159,     0.59259,     0.59359,     0.59459,      0.5956,      0.5966,      0.5976,      0.5986,      0.5996,\n",
      "            0.6006,      0.6016,      0.6026,      0.6036,      0.6046,     0.60561,     0.60661,     0.60761,     0.60861,     0.60961,     0.61061,     0.61161,     0.61261,     0.61361,     0.61461,     0.61562,     0.61662,     0.61762,     0.61862,     0.61962,     0.62062,     0.62162,     0.62262,     0.62362,\n",
      "           0.62462,     0.62563,     0.62663,     0.62763,     0.62863,     0.62963,     0.63063,     0.63163,     0.63263,     0.63363,     0.63463,     0.63564,     0.63664,     0.63764,     0.63864,     0.63964,     0.64064,     0.64164,     0.64264,     0.64364,     0.64464,     0.64565,     0.64665,     0.64765,\n",
      "           0.64865,     0.64965,     0.65065,     0.65165,     0.65265,     0.65365,     0.65465,     0.65566,     0.65666,     0.65766,     0.65866,     0.65966,     0.66066,     0.66166,     0.66266,     0.66366,     0.66466,     0.66567,     0.66667,     0.66767,     0.66867,     0.66967,     0.67067,     0.67167,\n",
      "           0.67267,     0.67367,     0.67467,     0.67568,     0.67668,     0.67768,     0.67868,     0.67968,     0.68068,     0.68168,     0.68268,     0.68368,     0.68468,     0.68569,     0.68669,     0.68769,     0.68869,     0.68969,     0.69069,     0.69169,     0.69269,     0.69369,     0.69469,      0.6957,\n",
      "            0.6967,      0.6977,      0.6987,      0.6997,      0.7007,      0.7017,      0.7027,      0.7037,      0.7047,     0.70571,     0.70671,     0.70771,     0.70871,     0.70971,     0.71071,     0.71171,     0.71271,     0.71371,     0.71471,     0.71572,     0.71672,     0.71772,     0.71872,     0.71972,\n",
      "           0.72072,     0.72172,     0.72272,     0.72372,     0.72472,     0.72573,     0.72673,     0.72773,     0.72873,     0.72973,     0.73073,     0.73173,     0.73273,     0.73373,     0.73473,     0.73574,     0.73674,     0.73774,     0.73874,     0.73974,     0.74074,     0.74174,     0.74274,     0.74374,\n",
      "           0.74474,     0.74575,     0.74675,     0.74775,     0.74875,     0.74975,     0.75075,     0.75175,     0.75275,     0.75375,     0.75475,     0.75576,     0.75676,     0.75776,     0.75876,     0.75976,     0.76076,     0.76176,     0.76276,     0.76376,     0.76476,     0.76577,     0.76677,     0.76777,\n",
      "           0.76877,     0.76977,     0.77077,     0.77177,     0.77277,     0.77377,     0.77477,     0.77578,     0.77678,     0.77778,     0.77878,     0.77978,     0.78078,     0.78178,     0.78278,     0.78378,     0.78478,     0.78579,     0.78679,     0.78779,     0.78879,     0.78979,     0.79079,     0.79179,\n",
      "           0.79279,     0.79379,     0.79479,      0.7958,      0.7968,      0.7978,      0.7988,      0.7998,      0.8008,      0.8018,      0.8028,      0.8038,      0.8048,     0.80581,     0.80681,     0.80781,     0.80881,     0.80981,     0.81081,     0.81181,     0.81281,     0.81381,     0.81481,     0.81582,\n",
      "           0.81682,     0.81782,     0.81882,     0.81982,     0.82082,     0.82182,     0.82282,     0.82382,     0.82482,     0.82583,     0.82683,     0.82783,     0.82883,     0.82983,     0.83083,     0.83183,     0.83283,     0.83383,     0.83483,     0.83584,     0.83684,     0.83784,     0.83884,     0.83984,\n",
      "           0.84084,     0.84184,     0.84284,     0.84384,     0.84484,     0.84585,     0.84685,     0.84785,     0.84885,     0.84985,     0.85085,     0.85185,     0.85285,     0.85385,     0.85485,     0.85586,     0.85686,     0.85786,     0.85886,     0.85986,     0.86086,     0.86186,     0.86286,     0.86386,\n",
      "           0.86486,     0.86587,     0.86687,     0.86787,     0.86887,     0.86987,     0.87087,     0.87187,     0.87287,     0.87387,     0.87487,     0.87588,     0.87688,     0.87788,     0.87888,     0.87988,     0.88088,     0.88188,     0.88288,     0.88388,     0.88488,     0.88589,     0.88689,     0.88789,\n",
      "           0.88889,     0.88989,     0.89089,     0.89189,     0.89289,     0.89389,     0.89489,      0.8959,      0.8969,      0.8979,      0.8989,      0.8999,      0.9009,      0.9019,      0.9029,      0.9039,      0.9049,     0.90591,     0.90691,     0.90791,     0.90891,     0.90991,     0.91091,     0.91191,\n",
      "           0.91291,     0.91391,     0.91491,     0.91592,     0.91692,     0.91792,     0.91892,     0.91992,     0.92092,     0.92192,     0.92292,     0.92392,     0.92492,     0.92593,     0.92693,     0.92793,     0.92893,     0.92993,     0.93093,     0.93193,     0.93293,     0.93393,     0.93493,     0.93594,\n",
      "           0.93694,     0.93794,     0.93894,     0.93994,     0.94094,     0.94194,     0.94294,     0.94394,     0.94494,     0.94595,     0.94695,     0.94795,     0.94895,     0.94995,     0.95095,     0.95195,     0.95295,     0.95395,     0.95495,     0.95596,     0.95696,     0.95796,     0.95896,     0.95996,\n",
      "           0.96096,     0.96196,     0.96296,     0.96396,     0.96496,     0.96597,     0.96697,     0.96797,     0.96897,     0.96997,     0.97097,     0.97197,     0.97297,     0.97397,     0.97497,     0.97598,     0.97698,     0.97798,     0.97898,     0.97998,     0.98098,     0.98198,     0.98298,     0.98398,\n",
      "           0.98498,     0.98599,     0.98699,     0.98799,     0.98899,     0.98999,     0.99099,     0.99199,     0.99299,     0.99399,     0.99499,       0.996,       0.997,       0.998,       0.999,           1]), array([[    0.36984,     0.36996,     0.48401,     0.55156,     0.61614,     0.65616,     0.70336,     0.72599,     0.74596,     0.76598,     0.78781,     0.80988,     0.82211,     0.83738,     0.84567,     0.85227,     0.85673,      0.8599,     0.86228,     0.87096,      0.8733,     0.87499,     0.87625,\n",
      "            0.88398,     0.88697,     0.88767,     0.88838,     0.88987,     0.89332,     0.89656,     0.89724,     0.89658,     0.89866,     0.90097,     0.90136,     0.90176,     0.90215,     0.90422,     0.90507,     0.90833,     0.91058,     0.91091,     0.91124,     0.91156,     0.91189,     0.91533,\n",
      "            0.91557,     0.91582,     0.91606,      0.9163,     0.91654,     0.91678,     0.91753,     0.91895,     0.91955,     0.92015,     0.92271,     0.92394,     0.92501,     0.92633,     0.92757,     0.92864,     0.93096,     0.93173,     0.93233,     0.93276,     0.93319,     0.93362,     0.93417,\n",
      "            0.93483,     0.93548,     0.93652,     0.93736,     0.93766,     0.93796,     0.93826,     0.93856,     0.93886,     0.93917,     0.93949,     0.93981,     0.94012,     0.94044,     0.94119,     0.94258,     0.94269,     0.94281,     0.94292,     0.94303,     0.94314,     0.94325,     0.94336,\n",
      "            0.94348,     0.94359,      0.9437,     0.94381,     0.94392,     0.94403,     0.94415,     0.94416,     0.94368,      0.9432,     0.94272,     0.94227,     0.94221,     0.94215,     0.94209,     0.94204,     0.94198,     0.94192,     0.94186,      0.9418,     0.94175,     0.94169,     0.94163,\n",
      "            0.94157,     0.94151,     0.94146,      0.9414,     0.94134,     0.94128,     0.94122,     0.94116,     0.94111,     0.94105,     0.94099,     0.94093,     0.94087,     0.94082,     0.94076,      0.9407,     0.94064,     0.94058,     0.94052,     0.94047,     0.94041,     0.94035,     0.94036,\n",
      "            0.94082,     0.94128,     0.94175,     0.94214,     0.94241,     0.94267,     0.94293,      0.9432,     0.94346,     0.94372,     0.94424,     0.94492,     0.94564,     0.94707,     0.94664,     0.94621,     0.94577,     0.94585,     0.94729,     0.94748,     0.94766,     0.94784,     0.94802,\n",
      "             0.9482,     0.94839,     0.94857,     0.94875,     0.94893,     0.94915,     0.94938,      0.9496,     0.94983,     0.95005,     0.95028,     0.95051,     0.95073,      0.9488,     0.95025,     0.94997,      0.9492,     0.94974,     0.95058,     0.95081,     0.95103,     0.95126,     0.95148,\n",
      "             0.9517,     0.95193,     0.95215,     0.95278,     0.95352,     0.95382,     0.95316,      0.9525,     0.95203,     0.95209,     0.95214,      0.9522,     0.95225,     0.95231,     0.95236,     0.95242,     0.95247,     0.95253,     0.95258,     0.95264,     0.95269,     0.95275,      0.9528,\n",
      "            0.95286,     0.95291,     0.95297,     0.95302,     0.95308,     0.95313,     0.95319,     0.95324,      0.9533,     0.95335,     0.95341,     0.95346,     0.95352,     0.95357,     0.95363,     0.95368,     0.95374,     0.95379,     0.95385,     0.95405,     0.95425,     0.95445,     0.95465,\n",
      "            0.95485,     0.95505,     0.95525,     0.95545,     0.95565,     0.95395,     0.95264,     0.95166,     0.95173,      0.9518,     0.95187,     0.95194,     0.95202,     0.95209,     0.95216,     0.95223,     0.95231,     0.95238,     0.95245,     0.95252,     0.95259,     0.95267,     0.95274,\n",
      "            0.95281,     0.95288,     0.95296,     0.95303,      0.9531,     0.95317,     0.95324,     0.95332,     0.95339,     0.95346,     0.95366,     0.95396,     0.95425,     0.95455,     0.95484,     0.95513,     0.95556,     0.95629,     0.95702,     0.95707,     0.95691,     0.95674,     0.95657,\n",
      "             0.9564,     0.95624,     0.95607,      0.9559,     0.95573,     0.95556,      0.9554,     0.95523,     0.95513,     0.95506,       0.955,     0.95493,     0.95487,     0.95481,     0.95474,     0.95468,     0.95461,     0.95455,     0.95449,     0.95442,     0.95436,     0.95429,     0.95423,\n",
      "            0.95417,      0.9541,     0.95404,     0.95397,     0.95391,     0.95384,     0.95378,     0.95372,     0.95365,     0.95359,     0.95352,     0.95346,      0.9534,     0.95333,     0.95327,      0.9532,     0.95314,     0.95305,     0.95295,     0.95285,     0.95275,     0.95265,     0.95256,\n",
      "            0.95246,     0.95236,     0.95226,     0.95216,     0.95206,     0.95196,     0.95187,     0.95177,     0.95167,     0.95157,     0.95147,     0.95137,     0.95127,     0.95118,     0.95108,     0.95087,     0.95067,     0.95046,     0.95025,     0.95005,     0.94984,     0.94964,     0.94943,\n",
      "            0.94922,     0.94902,     0.94898,     0.94895,     0.94891,     0.94888,     0.94884,      0.9488,     0.94877,     0.94873,      0.9487,     0.94866,     0.94863,     0.94859,     0.94855,     0.94852,     0.94848,     0.94845,     0.94841,     0.94838,     0.94834,      0.9483,     0.94827,\n",
      "            0.94823,      0.9482,     0.94816,     0.94813,     0.94809,     0.94805,     0.94802,     0.94798,     0.94795,     0.94791,     0.94788,     0.94784,      0.9478,     0.94777,     0.94773,      0.9477,     0.94766,     0.94763,     0.94759,     0.94755,     0.94752,     0.94748,     0.94745,\n",
      "            0.94741,     0.94737,     0.94734,      0.9473,     0.94727,     0.94723,      0.9472,     0.94716,     0.94712,     0.94709,     0.94705,     0.94702,     0.94698,     0.94669,      0.9457,     0.94486,     0.94472,     0.94459,     0.94445,     0.94432,     0.94418,     0.94405,     0.94391,\n",
      "            0.94378,     0.94364,     0.94351,     0.94337,     0.94324,      0.9431,     0.94297,     0.94283,     0.94352,     0.94448,     0.94642,     0.94642,      0.9463,     0.94618,     0.94606,     0.94594,     0.94582,      0.9457,     0.94558,     0.94546,     0.94534,     0.94523,     0.94511,\n",
      "            0.94499,     0.94487,     0.94475,     0.94463,     0.94451,      0.9443,     0.94401,     0.94371,     0.94342,     0.94313,     0.94283,     0.94254,     0.94244,     0.94272,     0.94299,     0.94327,     0.94355,     0.94382,      0.9441,     0.94461,     0.94531,       0.946,     0.94596,\n",
      "            0.94578,      0.9456,     0.94542,     0.94524,     0.94507,     0.94489,     0.94471,     0.94453,     0.94435,     0.94418,     0.94396,     0.94183,     0.94143,     0.94102,     0.94062,     0.94021,     0.93981,     0.93953,     0.93928,     0.93902,     0.93877,     0.93851,     0.93826,\n",
      "              0.938,     0.93774,     0.93748,      0.9372,     0.93692,     0.93665,     0.93637,      0.9361,     0.93582,     0.93554,     0.93557,     0.93569,      0.9358,     0.93591,     0.93602,     0.93613,     0.93625,     0.93636,     0.93647,     0.93658,     0.93669,     0.93681,     0.93692,\n",
      "            0.93703,     0.93714,     0.93725,     0.93737,     0.93728,     0.93718,     0.93707,     0.93697,     0.93687,     0.93677,     0.93667,     0.93656,     0.93646,     0.93636,     0.93626,     0.93616,     0.93605,     0.93595,     0.93585,     0.93575,     0.93565,     0.93554,     0.93544,\n",
      "            0.93534,     0.93524,     0.93469,     0.93409,     0.93348,     0.93291,     0.93242,     0.93194,     0.93145,     0.93096,     0.93126,     0.93169,     0.93212,     0.93254,     0.93275,     0.93265,     0.93256,     0.93246,     0.93236,     0.93227,     0.93217,     0.93208,     0.93198,\n",
      "            0.93188,     0.93179,     0.93169,     0.93159,      0.9315,      0.9314,      0.9313,     0.93121,     0.93111,     0.93101,     0.93092,     0.93082,     0.93072,     0.93063,     0.93039,     0.93012,     0.92985,     0.92958,      0.9293,     0.92903,     0.92876,     0.92849,     0.92764,\n",
      "            0.92659,     0.92599,     0.92563,     0.92526,      0.9249,     0.92454,     0.92417,     0.92398,     0.92391,     0.92383,     0.92376,     0.92368,     0.92361,     0.92353,     0.92346,     0.92338,     0.92331,     0.92323,     0.92316,     0.92308,     0.92301,     0.92293,     0.92286,\n",
      "            0.92278,     0.92271,     0.92263,     0.92256,     0.92249,     0.92241,     0.92234,     0.92226,     0.92219,     0.92211,     0.92204,     0.92196,     0.92189,     0.92181,     0.92156,     0.92132,     0.92107,     0.92083,     0.92058,     0.92033,     0.92009,     0.91984,     0.91959,\n",
      "            0.91913,     0.91867,      0.9182,     0.91774,     0.91733,     0.91721,     0.91709,     0.91697,     0.91685,     0.91672,      0.9166,     0.91648,     0.91636,     0.91624,     0.91611,     0.91599,     0.91587,     0.91575,     0.91562,      0.9155,     0.91538,     0.91526,     0.91514,\n",
      "            0.91498,     0.91481,     0.91465,     0.91449,     0.91432,     0.91416,     0.91399,     0.91383,     0.91366,      0.9135,     0.91333,     0.91317,       0.913,      0.9128,     0.91238,     0.91196,     0.91154,     0.91112,      0.9107,     0.90806,     0.90762,     0.90719,     0.90676,\n",
      "            0.90633,     0.90596,      0.9057,     0.90544,     0.90518,     0.90492,     0.90466,      0.9044,     0.90414,     0.90388,     0.90361,     0.90334,     0.90307,      0.9028,     0.90253,     0.90225,     0.90198,     0.90171,     0.90144,      0.9012,     0.90095,     0.90071,     0.90047,\n",
      "            0.90022,     0.89998,     0.89974,     0.89949,     0.89925,     0.89742,     0.89312,      0.8921,     0.89197,     0.89184,     0.89172,     0.89159,     0.89146,     0.89133,      0.8912,     0.89108,     0.89095,     0.89082,     0.89069,     0.89056,     0.89044,     0.89031,     0.89018,\n",
      "            0.89005,     0.88992,     0.88726,     0.88593,     0.88506,     0.88493,     0.88481,     0.88469,     0.88456,     0.88444,     0.88431,     0.88419,     0.88407,     0.88394,     0.88382,     0.88369,     0.88357,     0.88345,     0.88332,      0.8832,     0.88307,     0.88295,     0.88282,\n",
      "            0.88033,     0.87959,     0.87885,     0.87811,     0.87459,     0.87279,     0.87226,     0.87173,      0.8712,     0.87067,     0.87014,      0.8696,     0.86906,     0.86853,     0.86803,     0.86757,     0.86712,     0.86666,      0.8662,     0.86557,     0.86377,     0.86308,     0.86273,\n",
      "            0.86239,     0.86204,     0.86169,     0.86135,       0.861,     0.86049,     0.85987,     0.85925,     0.85863,     0.85778,     0.85677,     0.85354,      0.8527,     0.85199,     0.85129,     0.85048,     0.84953,     0.84858,     0.84732,     0.84596,     0.84393,     0.84208,     0.83802,\n",
      "            0.83724,     0.83646,     0.83568,     0.83524,     0.83487,      0.8345,     0.83412,     0.83375,     0.83337,       0.833,     0.83218,     0.83132,     0.83045,     0.82954,     0.82863,      0.8277,     0.82637,     0.82501,      0.8234,     0.81935,     0.81753,      0.8143,     0.81288,\n",
      "            0.81093,     0.80612,     0.79437,     0.79036,     0.78844,      0.7864,     0.78318,     0.77847,     0.77605,     0.77158,     0.76916,     0.76705,     0.76504,     0.75983,     0.75412,     0.75117,     0.74845,     0.74596,     0.73529,     0.72663,     0.71394,     0.70979,     0.70358,\n",
      "            0.69381,     0.68988,     0.68654,     0.68522,      0.6839,      0.6814,     0.67767,     0.67484,      0.6694,     0.66706,     0.66162,     0.65438,     0.64452,     0.62891,     0.62534,     0.62288,     0.62004,     0.61521,     0.60357,     0.58894,     0.57882,     0.56161,     0.54607,\n",
      "            0.52378,     0.51143,     0.48457,     0.47203,     0.46796,     0.45996,     0.45472,     0.44238,     0.43358,     0.42528,     0.41986,     0.40212,     0.36921,     0.33315,     0.31895,      0.3091,     0.29298,     0.27701,     0.27104,     0.26791,     0.26497,      0.2543,      0.2327,\n",
      "            0.20464,     0.19091,     0.18427,     0.17625,     0.16011,     0.14937,     0.13442,     0.12236,    0.097088,    0.086188,    0.083704,    0.081213,    0.070957,    0.066733,    0.064582,    0.062593,      0.0606,    0.057029,    0.049433,    0.035572,    0.026512,    0.022658,    0.018632,\n",
      "           0.015039,    0.014232,    0.013423,    0.012614,    0.011804,    0.010994,    0.010183,   0.0093707,   0.0085582,   0.0077451,           0,           0,           0,           0,           0,           0,           0,           0,           0,           0,           0,           0,           0,\n",
      "                  0,           0,           0,           0,           0,           0,           0,           0,           0,           0,           0,           0,           0,           0,           0,           0,           0,           0,           0,           0,           0,           0,           0,\n",
      "                  0,           0,           0,           0,           0,           0,           0,           0,           0,           0,           0,           0,           0,           0,           0,           0,           0,           0,           0,           0,           0,           0,           0,\n",
      "                  0,           0,           0,           0,           0,           0,           0,           0,           0,           0,           0,           0,           0,           0,           0,           0,           0,           0,           0,           0,           0,           0,           0,\n",
      "                  0,           0,           0,           0,           0,           0,           0,           0,           0,           0,           0]]), 'Confidence', 'F1'], [array([          0,    0.001001,    0.002002,    0.003003,    0.004004,    0.005005,    0.006006,    0.007007,    0.008008,    0.009009,     0.01001,    0.011011,    0.012012,    0.013013,    0.014014,    0.015015,    0.016016,    0.017017,    0.018018,    0.019019,     0.02002,    0.021021,    0.022022,    0.023023,\n",
      "          0.024024,    0.025025,    0.026026,    0.027027,    0.028028,    0.029029,     0.03003,    0.031031,    0.032032,    0.033033,    0.034034,    0.035035,    0.036036,    0.037037,    0.038038,    0.039039,     0.04004,    0.041041,    0.042042,    0.043043,    0.044044,    0.045045,    0.046046,    0.047047,\n",
      "          0.048048,    0.049049,     0.05005,    0.051051,    0.052052,    0.053053,    0.054054,    0.055055,    0.056056,    0.057057,    0.058058,    0.059059,     0.06006,    0.061061,    0.062062,    0.063063,    0.064064,    0.065065,    0.066066,    0.067067,    0.068068,    0.069069,     0.07007,    0.071071,\n",
      "          0.072072,    0.073073,    0.074074,    0.075075,    0.076076,    0.077077,    0.078078,    0.079079,     0.08008,    0.081081,    0.082082,    0.083083,    0.084084,    0.085085,    0.086086,    0.087087,    0.088088,    0.089089,     0.09009,    0.091091,    0.092092,    0.093093,    0.094094,    0.095095,\n",
      "          0.096096,    0.097097,    0.098098,    0.099099,      0.1001,      0.1011,      0.1021,      0.1031,      0.1041,     0.10511,     0.10611,     0.10711,     0.10811,     0.10911,     0.11011,     0.11111,     0.11211,     0.11311,     0.11411,     0.11512,     0.11612,     0.11712,     0.11812,     0.11912,\n",
      "           0.12012,     0.12112,     0.12212,     0.12312,     0.12412,     0.12513,     0.12613,     0.12713,     0.12813,     0.12913,     0.13013,     0.13113,     0.13213,     0.13313,     0.13413,     0.13514,     0.13614,     0.13714,     0.13814,     0.13914,     0.14014,     0.14114,     0.14214,     0.14314,\n",
      "           0.14414,     0.14515,     0.14615,     0.14715,     0.14815,     0.14915,     0.15015,     0.15115,     0.15215,     0.15315,     0.15415,     0.15516,     0.15616,     0.15716,     0.15816,     0.15916,     0.16016,     0.16116,     0.16216,     0.16316,     0.16416,     0.16517,     0.16617,     0.16717,\n",
      "           0.16817,     0.16917,     0.17017,     0.17117,     0.17217,     0.17317,     0.17417,     0.17518,     0.17618,     0.17718,     0.17818,     0.17918,     0.18018,     0.18118,     0.18218,     0.18318,     0.18418,     0.18519,     0.18619,     0.18719,     0.18819,     0.18919,     0.19019,     0.19119,\n",
      "           0.19219,     0.19319,     0.19419,      0.1952,      0.1962,      0.1972,      0.1982,      0.1992,      0.2002,      0.2012,      0.2022,      0.2032,      0.2042,     0.20521,     0.20621,     0.20721,     0.20821,     0.20921,     0.21021,     0.21121,     0.21221,     0.21321,     0.21421,     0.21522,\n",
      "           0.21622,     0.21722,     0.21822,     0.21922,     0.22022,     0.22122,     0.22222,     0.22322,     0.22422,     0.22523,     0.22623,     0.22723,     0.22823,     0.22923,     0.23023,     0.23123,     0.23223,     0.23323,     0.23423,     0.23524,     0.23624,     0.23724,     0.23824,     0.23924,\n",
      "           0.24024,     0.24124,     0.24224,     0.24324,     0.24424,     0.24525,     0.24625,     0.24725,     0.24825,     0.24925,     0.25025,     0.25125,     0.25225,     0.25325,     0.25425,     0.25526,     0.25626,     0.25726,     0.25826,     0.25926,     0.26026,     0.26126,     0.26226,     0.26326,\n",
      "           0.26426,     0.26527,     0.26627,     0.26727,     0.26827,     0.26927,     0.27027,     0.27127,     0.27227,     0.27327,     0.27427,     0.27528,     0.27628,     0.27728,     0.27828,     0.27928,     0.28028,     0.28128,     0.28228,     0.28328,     0.28428,     0.28529,     0.28629,     0.28729,\n",
      "           0.28829,     0.28929,     0.29029,     0.29129,     0.29229,     0.29329,     0.29429,      0.2953,      0.2963,      0.2973,      0.2983,      0.2993,      0.3003,      0.3013,      0.3023,      0.3033,      0.3043,     0.30531,     0.30631,     0.30731,     0.30831,     0.30931,     0.31031,     0.31131,\n",
      "           0.31231,     0.31331,     0.31431,     0.31532,     0.31632,     0.31732,     0.31832,     0.31932,     0.32032,     0.32132,     0.32232,     0.32332,     0.32432,     0.32533,     0.32633,     0.32733,     0.32833,     0.32933,     0.33033,     0.33133,     0.33233,     0.33333,     0.33433,     0.33534,\n",
      "           0.33634,     0.33734,     0.33834,     0.33934,     0.34034,     0.34134,     0.34234,     0.34334,     0.34434,     0.34535,     0.34635,     0.34735,     0.34835,     0.34935,     0.35035,     0.35135,     0.35235,     0.35335,     0.35435,     0.35536,     0.35636,     0.35736,     0.35836,     0.35936,\n",
      "           0.36036,     0.36136,     0.36236,     0.36336,     0.36436,     0.36537,     0.36637,     0.36737,     0.36837,     0.36937,     0.37037,     0.37137,     0.37237,     0.37337,     0.37437,     0.37538,     0.37638,     0.37738,     0.37838,     0.37938,     0.38038,     0.38138,     0.38238,     0.38338,\n",
      "           0.38438,     0.38539,     0.38639,     0.38739,     0.38839,     0.38939,     0.39039,     0.39139,     0.39239,     0.39339,     0.39439,      0.3954,      0.3964,      0.3974,      0.3984,      0.3994,      0.4004,      0.4014,      0.4024,      0.4034,      0.4044,     0.40541,     0.40641,     0.40741,\n",
      "           0.40841,     0.40941,     0.41041,     0.41141,     0.41241,     0.41341,     0.41441,     0.41542,     0.41642,     0.41742,     0.41842,     0.41942,     0.42042,     0.42142,     0.42242,     0.42342,     0.42442,     0.42543,     0.42643,     0.42743,     0.42843,     0.42943,     0.43043,     0.43143,\n",
      "           0.43243,     0.43343,     0.43443,     0.43544,     0.43644,     0.43744,     0.43844,     0.43944,     0.44044,     0.44144,     0.44244,     0.44344,     0.44444,     0.44545,     0.44645,     0.44745,     0.44845,     0.44945,     0.45045,     0.45145,     0.45245,     0.45345,     0.45445,     0.45546,\n",
      "           0.45646,     0.45746,     0.45846,     0.45946,     0.46046,     0.46146,     0.46246,     0.46346,     0.46446,     0.46547,     0.46647,     0.46747,     0.46847,     0.46947,     0.47047,     0.47147,     0.47247,     0.47347,     0.47447,     0.47548,     0.47648,     0.47748,     0.47848,     0.47948,\n",
      "           0.48048,     0.48148,     0.48248,     0.48348,     0.48448,     0.48549,     0.48649,     0.48749,     0.48849,     0.48949,     0.49049,     0.49149,     0.49249,     0.49349,     0.49449,      0.4955,      0.4965,      0.4975,      0.4985,      0.4995,      0.5005,      0.5015,      0.5025,      0.5035,\n",
      "            0.5045,     0.50551,     0.50651,     0.50751,     0.50851,     0.50951,     0.51051,     0.51151,     0.51251,     0.51351,     0.51451,     0.51552,     0.51652,     0.51752,     0.51852,     0.51952,     0.52052,     0.52152,     0.52252,     0.52352,     0.52452,     0.52553,     0.52653,     0.52753,\n",
      "           0.52853,     0.52953,     0.53053,     0.53153,     0.53253,     0.53353,     0.53453,     0.53554,     0.53654,     0.53754,     0.53854,     0.53954,     0.54054,     0.54154,     0.54254,     0.54354,     0.54454,     0.54555,     0.54655,     0.54755,     0.54855,     0.54955,     0.55055,     0.55155,\n",
      "           0.55255,     0.55355,     0.55455,     0.55556,     0.55656,     0.55756,     0.55856,     0.55956,     0.56056,     0.56156,     0.56256,     0.56356,     0.56456,     0.56557,     0.56657,     0.56757,     0.56857,     0.56957,     0.57057,     0.57157,     0.57257,     0.57357,     0.57457,     0.57558,\n",
      "           0.57658,     0.57758,     0.57858,     0.57958,     0.58058,     0.58158,     0.58258,     0.58358,     0.58458,     0.58559,     0.58659,     0.58759,     0.58859,     0.58959,     0.59059,     0.59159,     0.59259,     0.59359,     0.59459,      0.5956,      0.5966,      0.5976,      0.5986,      0.5996,\n",
      "            0.6006,      0.6016,      0.6026,      0.6036,      0.6046,     0.60561,     0.60661,     0.60761,     0.60861,     0.60961,     0.61061,     0.61161,     0.61261,     0.61361,     0.61461,     0.61562,     0.61662,     0.61762,     0.61862,     0.61962,     0.62062,     0.62162,     0.62262,     0.62362,\n",
      "           0.62462,     0.62563,     0.62663,     0.62763,     0.62863,     0.62963,     0.63063,     0.63163,     0.63263,     0.63363,     0.63463,     0.63564,     0.63664,     0.63764,     0.63864,     0.63964,     0.64064,     0.64164,     0.64264,     0.64364,     0.64464,     0.64565,     0.64665,     0.64765,\n",
      "           0.64865,     0.64965,     0.65065,     0.65165,     0.65265,     0.65365,     0.65465,     0.65566,     0.65666,     0.65766,     0.65866,     0.65966,     0.66066,     0.66166,     0.66266,     0.66366,     0.66466,     0.66567,     0.66667,     0.66767,     0.66867,     0.66967,     0.67067,     0.67167,\n",
      "           0.67267,     0.67367,     0.67467,     0.67568,     0.67668,     0.67768,     0.67868,     0.67968,     0.68068,     0.68168,     0.68268,     0.68368,     0.68468,     0.68569,     0.68669,     0.68769,     0.68869,     0.68969,     0.69069,     0.69169,     0.69269,     0.69369,     0.69469,      0.6957,\n",
      "            0.6967,      0.6977,      0.6987,      0.6997,      0.7007,      0.7017,      0.7027,      0.7037,      0.7047,     0.70571,     0.70671,     0.70771,     0.70871,     0.70971,     0.71071,     0.71171,     0.71271,     0.71371,     0.71471,     0.71572,     0.71672,     0.71772,     0.71872,     0.71972,\n",
      "           0.72072,     0.72172,     0.72272,     0.72372,     0.72472,     0.72573,     0.72673,     0.72773,     0.72873,     0.72973,     0.73073,     0.73173,     0.73273,     0.73373,     0.73473,     0.73574,     0.73674,     0.73774,     0.73874,     0.73974,     0.74074,     0.74174,     0.74274,     0.74374,\n",
      "           0.74474,     0.74575,     0.74675,     0.74775,     0.74875,     0.74975,     0.75075,     0.75175,     0.75275,     0.75375,     0.75475,     0.75576,     0.75676,     0.75776,     0.75876,     0.75976,     0.76076,     0.76176,     0.76276,     0.76376,     0.76476,     0.76577,     0.76677,     0.76777,\n",
      "           0.76877,     0.76977,     0.77077,     0.77177,     0.77277,     0.77377,     0.77477,     0.77578,     0.77678,     0.77778,     0.77878,     0.77978,     0.78078,     0.78178,     0.78278,     0.78378,     0.78478,     0.78579,     0.78679,     0.78779,     0.78879,     0.78979,     0.79079,     0.79179,\n",
      "           0.79279,     0.79379,     0.79479,      0.7958,      0.7968,      0.7978,      0.7988,      0.7998,      0.8008,      0.8018,      0.8028,      0.8038,      0.8048,     0.80581,     0.80681,     0.80781,     0.80881,     0.80981,     0.81081,     0.81181,     0.81281,     0.81381,     0.81481,     0.81582,\n",
      "           0.81682,     0.81782,     0.81882,     0.81982,     0.82082,     0.82182,     0.82282,     0.82382,     0.82482,     0.82583,     0.82683,     0.82783,     0.82883,     0.82983,     0.83083,     0.83183,     0.83283,     0.83383,     0.83483,     0.83584,     0.83684,     0.83784,     0.83884,     0.83984,\n",
      "           0.84084,     0.84184,     0.84284,     0.84384,     0.84484,     0.84585,     0.84685,     0.84785,     0.84885,     0.84985,     0.85085,     0.85185,     0.85285,     0.85385,     0.85485,     0.85586,     0.85686,     0.85786,     0.85886,     0.85986,     0.86086,     0.86186,     0.86286,     0.86386,\n",
      "           0.86486,     0.86587,     0.86687,     0.86787,     0.86887,     0.86987,     0.87087,     0.87187,     0.87287,     0.87387,     0.87487,     0.87588,     0.87688,     0.87788,     0.87888,     0.87988,     0.88088,     0.88188,     0.88288,     0.88388,     0.88488,     0.88589,     0.88689,     0.88789,\n",
      "           0.88889,     0.88989,     0.89089,     0.89189,     0.89289,     0.89389,     0.89489,      0.8959,      0.8969,      0.8979,      0.8989,      0.8999,      0.9009,      0.9019,      0.9029,      0.9039,      0.9049,     0.90591,     0.90691,     0.90791,     0.90891,     0.90991,     0.91091,     0.91191,\n",
      "           0.91291,     0.91391,     0.91491,     0.91592,     0.91692,     0.91792,     0.91892,     0.91992,     0.92092,     0.92192,     0.92292,     0.92392,     0.92492,     0.92593,     0.92693,     0.92793,     0.92893,     0.92993,     0.93093,     0.93193,     0.93293,     0.93393,     0.93493,     0.93594,\n",
      "           0.93694,     0.93794,     0.93894,     0.93994,     0.94094,     0.94194,     0.94294,     0.94394,     0.94494,     0.94595,     0.94695,     0.94795,     0.94895,     0.94995,     0.95095,     0.95195,     0.95295,     0.95395,     0.95495,     0.95596,     0.95696,     0.95796,     0.95896,     0.95996,\n",
      "           0.96096,     0.96196,     0.96296,     0.96396,     0.96496,     0.96597,     0.96697,     0.96797,     0.96897,     0.96997,     0.97097,     0.97197,     0.97297,     0.97397,     0.97497,     0.97598,     0.97698,     0.97798,     0.97898,     0.97998,     0.98098,     0.98198,     0.98298,     0.98398,\n",
      "           0.98498,     0.98599,     0.98699,     0.98799,     0.98899,     0.98999,     0.99099,     0.99199,     0.99299,     0.99399,     0.99499,       0.996,       0.997,       0.998,       0.999,           1]), array([[    0.22727,     0.22736,     0.32127,     0.38364,     0.44992,     0.49393,     0.54944,     0.57756,     0.60326,     0.62989,     0.65996,     0.69153,     0.70955,     0.73262,     0.74541,     0.75802,     0.76511,     0.77017,     0.77401,     0.78811,     0.79194,     0.79473,     0.79681,\n",
      "            0.80969,     0.81472,     0.81591,     0.81709,     0.81962,      0.8255,     0.83105,     0.83315,     0.83389,     0.83749,     0.84151,      0.8422,     0.84289,     0.84358,      0.8472,     0.84869,     0.85444,     0.85844,     0.85903,     0.85961,     0.86019,     0.86077,     0.86692,\n",
      "            0.86736,     0.86779,     0.86823,     0.86866,      0.8691,     0.86953,     0.87087,     0.87344,     0.87453,     0.87561,     0.88026,      0.8825,     0.88446,     0.88688,     0.88915,     0.89112,     0.89539,     0.89681,     0.89793,     0.89873,     0.89953,     0.90033,     0.90135,\n",
      "            0.90258,      0.9038,     0.90574,     0.90731,     0.90788,     0.90844,       0.909,     0.90957,     0.91013,     0.91071,     0.91131,     0.91191,     0.91251,      0.9131,     0.91451,     0.91715,     0.91736,     0.91757,     0.91778,       0.918,     0.91821,     0.91842,     0.91863,\n",
      "            0.91884,     0.91906,     0.91927,     0.91948,     0.91969,      0.9199,     0.92011,     0.92028,     0.92021,     0.92014,     0.92007,        0.92,     0.91999,     0.91998,     0.91997,     0.91997,     0.91996,     0.91995,     0.91994,     0.91993,     0.91992,     0.91991,      0.9199,\n",
      "             0.9199,     0.91989,     0.91988,     0.91987,     0.91986,     0.91985,     0.91984,     0.91984,     0.91983,     0.91982,     0.91981,      0.9198,     0.91979,     0.91978,     0.91978,     0.91977,     0.91976,     0.91975,     0.91974,     0.91973,     0.91972,     0.91972,     0.91982,\n",
      "             0.9207,     0.92159,     0.92248,     0.92324,     0.92375,     0.92426,     0.92476,     0.92527,     0.92578,     0.92628,     0.92729,      0.9286,     0.92999,      0.9333,     0.93324,     0.93319,     0.93313,     0.93399,     0.93681,     0.93717,     0.93752,     0.93788,     0.93824,\n",
      "            0.93859,     0.93895,     0.93931,     0.93966,     0.94002,     0.94045,     0.94089,     0.94134,     0.94178,     0.94222,     0.94267,     0.94311,     0.94356,     0.94346,     0.94633,     0.94691,     0.94683,     0.94909,     0.95078,     0.95123,     0.95168,     0.95213,     0.95258,\n",
      "            0.95303,     0.95348,     0.95393,     0.95519,     0.95667,     0.95768,     0.95762,     0.95757,     0.95756,     0.95767,     0.95778,     0.95789,       0.958,     0.95812,     0.95823,     0.95834,     0.95845,     0.95856,     0.95867,     0.95879,      0.9589,     0.95901,     0.95912,\n",
      "            0.95923,     0.95934,     0.95946,     0.95957,     0.95968,     0.95979,      0.9599,     0.96001,     0.96012,     0.96024,     0.96035,     0.96046,     0.96057,     0.96068,     0.96079,     0.96091,     0.96102,     0.96113,     0.96124,     0.96165,     0.96205,     0.96246,     0.96287,\n",
      "            0.96328,     0.96369,     0.96409,      0.9645,     0.96491,     0.96486,     0.96477,     0.96473,     0.96488,     0.96503,     0.96517,     0.96532,     0.96547,     0.96562,     0.96577,     0.96592,     0.96607,     0.96621,     0.96636,     0.96651,     0.96666,     0.96681,     0.96696,\n",
      "            0.96711,     0.96726,      0.9674,     0.96755,      0.9677,     0.96785,       0.968,     0.96815,      0.9683,     0.96844,     0.96887,     0.96948,     0.97008,     0.97069,      0.9713,     0.97191,     0.97279,      0.9743,     0.97581,     0.97618,     0.97618,     0.97617,     0.97616,\n",
      "            0.97615,     0.97615,     0.97614,     0.97613,     0.97612,     0.97611,     0.97611,      0.9761,     0.97609,     0.97609,     0.97609,     0.97608,     0.97608,     0.97608,     0.97608,     0.97607,     0.97607,     0.97607,     0.97606,     0.97606,     0.97606,     0.97605,     0.97605,\n",
      "            0.97605,     0.97605,     0.97604,     0.97604,     0.97604,     0.97603,     0.97603,     0.97603,     0.97602,     0.97602,     0.97602,     0.97602,     0.97601,     0.97601,     0.97601,       0.976,       0.976,       0.976,     0.97599,     0.97599,     0.97598,     0.97598,     0.97597,\n",
      "            0.97597,     0.97596,     0.97596,     0.97595,     0.97595,     0.97595,     0.97594,     0.97594,     0.97593,     0.97593,     0.97592,     0.97592,     0.97591,     0.97591,      0.9759,     0.97589,     0.97588,     0.97587,     0.97586,     0.97585,     0.97585,     0.97584,     0.97583,\n",
      "            0.97582,     0.97581,      0.9758,      0.9758,      0.9758,      0.9758,      0.9758,      0.9758,     0.97579,     0.97579,     0.97579,     0.97579,     0.97579,     0.97579,     0.97578,     0.97578,     0.97578,     0.97578,     0.97578,     0.97578,     0.97577,     0.97577,     0.97577,\n",
      "            0.97577,     0.97577,     0.97577,     0.97576,     0.97576,     0.97576,     0.97576,     0.97576,     0.97576,     0.97575,     0.97575,     0.97575,     0.97575,     0.97575,     0.97575,     0.97574,     0.97574,     0.97574,     0.97574,     0.97574,     0.97574,     0.97573,     0.97573,\n",
      "            0.97573,     0.97573,     0.97573,     0.97573,     0.97572,     0.97572,     0.97572,     0.97572,     0.97572,     0.97571,     0.97571,     0.97571,     0.97571,      0.9757,     0.97565,     0.97561,      0.9756,      0.9756,     0.97559,     0.97558,     0.97558,     0.97557,     0.97556,\n",
      "            0.97556,     0.97555,     0.97554,     0.97554,     0.97553,     0.97552,     0.97552,     0.97551,     0.97706,     0.97911,     0.98328,     0.98354,     0.98353,     0.98353,     0.98352,     0.98352,     0.98352,     0.98351,     0.98351,      0.9835,      0.9835,      0.9835,     0.98349,\n",
      "            0.98349,     0.98348,     0.98348,     0.98348,     0.98347,     0.98347,     0.98346,     0.98345,     0.98344,     0.98343,     0.98342,     0.98341,     0.98361,     0.98421,     0.98482,     0.98542,     0.98602,     0.98663,     0.98723,     0.98834,     0.98987,      0.9914,     0.99163,\n",
      "            0.99163,     0.99162,     0.99162,     0.99162,     0.99161,     0.99161,     0.99161,     0.99161,      0.9916,      0.9916,      0.9916,     0.99156,     0.99155,     0.99155,     0.99154,     0.99153,     0.99153,     0.99152,     0.99152,     0.99151,     0.99151,      0.9915,      0.9915,\n",
      "             0.9915,     0.99149,     0.99149,     0.99148,     0.99148,     0.99147,     0.99147,     0.99146,     0.99146,     0.99145,     0.99165,      0.9919,     0.99216,     0.99241,     0.99266,     0.99291,     0.99317,     0.99342,     0.99367,     0.99392,     0.99418,     0.99443,     0.99468,\n",
      "            0.99493,     0.99519,     0.99544,     0.99569,     0.99571,     0.99571,     0.99571,      0.9957,      0.9957,      0.9957,      0.9957,      0.9957,      0.9957,      0.9957,      0.9957,      0.9957,      0.9957,      0.9957,      0.9957,     0.99569,     0.99569,     0.99569,     0.99569,\n",
      "            0.99569,     0.99569,     0.99569,     0.99568,     0.99567,     0.99567,     0.99567,     0.99566,     0.99566,     0.99565,     0.99649,     0.99747,     0.99845,     0.99943,           1,           1,           1,           1,           1,           1,           1,           1,           1,\n",
      "                  1,           1,           1,           1,           1,           1,           1,           1,           1,           1,           1,           1,           1,           1,           1,           1,           1,           1,           1,           1,           1,           1,           1,\n",
      "                  1,           1,           1,           1,           1,           1,           1,           1,           1,           1,           1,           1,           1,           1,           1,           1,           1,           1,           1,           1,           1,           1,           1,\n",
      "                  1,           1,           1,           1,           1,           1,           1,           1,           1,           1,           1,           1,           1,           1,           1,           1,           1,           1,           1,           1,           1,           1,           1,\n",
      "                  1,           1,           1,           1,           1,           1,           1,           1,           1,           1,           1,           1,           1,           1,           1,           1,           1,           1,           1,           1,           1,           1,           1,\n",
      "                  1,           1,           1,           1,           1,           1,           1,           1,           1,           1,           1,           1,           1,           1,           1,           1,           1,           1,           1,           1,           1,           1,           1,\n",
      "                  1,           1,           1,           1,           1,           1,           1,           1,           1,           1,           1,           1,           1,           1,           1,           1,           1,           1,           1,           1,           1,           1,           1,\n",
      "                  1,           1,           1,           1,           1,           1,           1,           1,           1,           1,           1,           1,           1,           1,           1,           1,           1,           1,           1,           1,           1,           1,           1,\n",
      "                  1,           1,           1,           1,           1,           1,           1,           1,           1,           1,           1,           1,           1,           1,           1,           1,           1,           1,           1,           1,           1,           1,           1,\n",
      "                  1,           1,           1,           1,           1,           1,           1,           1,           1,           1,           1,           1,           1,           1,           1,           1,           1,           1,           1,           1,           1,           1,           1,\n",
      "                  1,           1,           1,           1,           1,           1,           1,           1,           1,           1,           1,           1,           1,           1,           1,           1,           1,           1,           1,           1,           1,           1,           1,\n",
      "                  1,           1,           1,           1,           1,           1,           1,           1,           1,           1,           1,           1,           1,           1,           1,           1,           1,           1,           1,           1,           1,           1,           1,\n",
      "                  1,           1,           1,           1,           1,           1,           1,           1,           1,           1,           1,           1,           1,           1,           1,           1,           1,           1,           1,           1,           1,           1,           1,\n",
      "                  1,           1,           1,           1,           1,           1,           1,           1,           1,           1,           1,           1,           1,           1,           1,           1,           1,           1,           1,           1,           1,           1,           1,\n",
      "                  1,           1,           1,           1,           1,           1,           1,           1,           1,           1,           1,           1,           1,           1,           1,           1,           1,           1,           1,           1,           1,           1,           1,\n",
      "                  1,           1,           1,           1,           1,           1,           1,           1,           1,           1,           1,           1,           1,           1,           1,           1,           1,           1,           1,           1,           1,           1,           1,\n",
      "                  1,           1,           1,           1,           1,           1,           1,           1,           1,           1,           1,           1,           1,           1,           1,           1,           1,           1,           1,           1,           1,           1,           1,\n",
      "                  1,           1,           1,           1,           1,           1,           1,           1,           1,           1,           1,           1,           1,           1,           1,           1,           1,           1,           1,           1,           1,           1,           1,\n",
      "                  1,           1,           1,           1,           1,           1,           1,           1,           1,           1,           1,           1,           1,           1,           1,           1,           1,           1,           1,           1,           1,           1,           1,\n",
      "                  1,           1,           1,           1,           1,           1,           1,           1,           1,           1,           1,           1,           1,           1,           1,           1,           1,           1,           1,           1,           1,           1,           1,\n",
      "                  1,           1,           1,           1,           1,           1,           1,           1,           1,           1,           1]]), 'Confidence', 'Precision'], [array([          0,    0.001001,    0.002002,    0.003003,    0.004004,    0.005005,    0.006006,    0.007007,    0.008008,    0.009009,     0.01001,    0.011011,    0.012012,    0.013013,    0.014014,    0.015015,    0.016016,    0.017017,    0.018018,    0.019019,     0.02002,    0.021021,    0.022022,    0.023023,\n",
      "          0.024024,    0.025025,    0.026026,    0.027027,    0.028028,    0.029029,     0.03003,    0.031031,    0.032032,    0.033033,    0.034034,    0.035035,    0.036036,    0.037037,    0.038038,    0.039039,     0.04004,    0.041041,    0.042042,    0.043043,    0.044044,    0.045045,    0.046046,    0.047047,\n",
      "          0.048048,    0.049049,     0.05005,    0.051051,    0.052052,    0.053053,    0.054054,    0.055055,    0.056056,    0.057057,    0.058058,    0.059059,     0.06006,    0.061061,    0.062062,    0.063063,    0.064064,    0.065065,    0.066066,    0.067067,    0.068068,    0.069069,     0.07007,    0.071071,\n",
      "          0.072072,    0.073073,    0.074074,    0.075075,    0.076076,    0.077077,    0.078078,    0.079079,     0.08008,    0.081081,    0.082082,    0.083083,    0.084084,    0.085085,    0.086086,    0.087087,    0.088088,    0.089089,     0.09009,    0.091091,    0.092092,    0.093093,    0.094094,    0.095095,\n",
      "          0.096096,    0.097097,    0.098098,    0.099099,      0.1001,      0.1011,      0.1021,      0.1031,      0.1041,     0.10511,     0.10611,     0.10711,     0.10811,     0.10911,     0.11011,     0.11111,     0.11211,     0.11311,     0.11411,     0.11512,     0.11612,     0.11712,     0.11812,     0.11912,\n",
      "           0.12012,     0.12112,     0.12212,     0.12312,     0.12412,     0.12513,     0.12613,     0.12713,     0.12813,     0.12913,     0.13013,     0.13113,     0.13213,     0.13313,     0.13413,     0.13514,     0.13614,     0.13714,     0.13814,     0.13914,     0.14014,     0.14114,     0.14214,     0.14314,\n",
      "           0.14414,     0.14515,     0.14615,     0.14715,     0.14815,     0.14915,     0.15015,     0.15115,     0.15215,     0.15315,     0.15415,     0.15516,     0.15616,     0.15716,     0.15816,     0.15916,     0.16016,     0.16116,     0.16216,     0.16316,     0.16416,     0.16517,     0.16617,     0.16717,\n",
      "           0.16817,     0.16917,     0.17017,     0.17117,     0.17217,     0.17317,     0.17417,     0.17518,     0.17618,     0.17718,     0.17818,     0.17918,     0.18018,     0.18118,     0.18218,     0.18318,     0.18418,     0.18519,     0.18619,     0.18719,     0.18819,     0.18919,     0.19019,     0.19119,\n",
      "           0.19219,     0.19319,     0.19419,      0.1952,      0.1962,      0.1972,      0.1982,      0.1992,      0.2002,      0.2012,      0.2022,      0.2032,      0.2042,     0.20521,     0.20621,     0.20721,     0.20821,     0.20921,     0.21021,     0.21121,     0.21221,     0.21321,     0.21421,     0.21522,\n",
      "           0.21622,     0.21722,     0.21822,     0.21922,     0.22022,     0.22122,     0.22222,     0.22322,     0.22422,     0.22523,     0.22623,     0.22723,     0.22823,     0.22923,     0.23023,     0.23123,     0.23223,     0.23323,     0.23423,     0.23524,     0.23624,     0.23724,     0.23824,     0.23924,\n",
      "           0.24024,     0.24124,     0.24224,     0.24324,     0.24424,     0.24525,     0.24625,     0.24725,     0.24825,     0.24925,     0.25025,     0.25125,     0.25225,     0.25325,     0.25425,     0.25526,     0.25626,     0.25726,     0.25826,     0.25926,     0.26026,     0.26126,     0.26226,     0.26326,\n",
      "           0.26426,     0.26527,     0.26627,     0.26727,     0.26827,     0.26927,     0.27027,     0.27127,     0.27227,     0.27327,     0.27427,     0.27528,     0.27628,     0.27728,     0.27828,     0.27928,     0.28028,     0.28128,     0.28228,     0.28328,     0.28428,     0.28529,     0.28629,     0.28729,\n",
      "           0.28829,     0.28929,     0.29029,     0.29129,     0.29229,     0.29329,     0.29429,      0.2953,      0.2963,      0.2973,      0.2983,      0.2993,      0.3003,      0.3013,      0.3023,      0.3033,      0.3043,     0.30531,     0.30631,     0.30731,     0.30831,     0.30931,     0.31031,     0.31131,\n",
      "           0.31231,     0.31331,     0.31431,     0.31532,     0.31632,     0.31732,     0.31832,     0.31932,     0.32032,     0.32132,     0.32232,     0.32332,     0.32432,     0.32533,     0.32633,     0.32733,     0.32833,     0.32933,     0.33033,     0.33133,     0.33233,     0.33333,     0.33433,     0.33534,\n",
      "           0.33634,     0.33734,     0.33834,     0.33934,     0.34034,     0.34134,     0.34234,     0.34334,     0.34434,     0.34535,     0.34635,     0.34735,     0.34835,     0.34935,     0.35035,     0.35135,     0.35235,     0.35335,     0.35435,     0.35536,     0.35636,     0.35736,     0.35836,     0.35936,\n",
      "           0.36036,     0.36136,     0.36236,     0.36336,     0.36436,     0.36537,     0.36637,     0.36737,     0.36837,     0.36937,     0.37037,     0.37137,     0.37237,     0.37337,     0.37437,     0.37538,     0.37638,     0.37738,     0.37838,     0.37938,     0.38038,     0.38138,     0.38238,     0.38338,\n",
      "           0.38438,     0.38539,     0.38639,     0.38739,     0.38839,     0.38939,     0.39039,     0.39139,     0.39239,     0.39339,     0.39439,      0.3954,      0.3964,      0.3974,      0.3984,      0.3994,      0.4004,      0.4014,      0.4024,      0.4034,      0.4044,     0.40541,     0.40641,     0.40741,\n",
      "           0.40841,     0.40941,     0.41041,     0.41141,     0.41241,     0.41341,     0.41441,     0.41542,     0.41642,     0.41742,     0.41842,     0.41942,     0.42042,     0.42142,     0.42242,     0.42342,     0.42442,     0.42543,     0.42643,     0.42743,     0.42843,     0.42943,     0.43043,     0.43143,\n",
      "           0.43243,     0.43343,     0.43443,     0.43544,     0.43644,     0.43744,     0.43844,     0.43944,     0.44044,     0.44144,     0.44244,     0.44344,     0.44444,     0.44545,     0.44645,     0.44745,     0.44845,     0.44945,     0.45045,     0.45145,     0.45245,     0.45345,     0.45445,     0.45546,\n",
      "           0.45646,     0.45746,     0.45846,     0.45946,     0.46046,     0.46146,     0.46246,     0.46346,     0.46446,     0.46547,     0.46647,     0.46747,     0.46847,     0.46947,     0.47047,     0.47147,     0.47247,     0.47347,     0.47447,     0.47548,     0.47648,     0.47748,     0.47848,     0.47948,\n",
      "           0.48048,     0.48148,     0.48248,     0.48348,     0.48448,     0.48549,     0.48649,     0.48749,     0.48849,     0.48949,     0.49049,     0.49149,     0.49249,     0.49349,     0.49449,      0.4955,      0.4965,      0.4975,      0.4985,      0.4995,      0.5005,      0.5015,      0.5025,      0.5035,\n",
      "            0.5045,     0.50551,     0.50651,     0.50751,     0.50851,     0.50951,     0.51051,     0.51151,     0.51251,     0.51351,     0.51451,     0.51552,     0.51652,     0.51752,     0.51852,     0.51952,     0.52052,     0.52152,     0.52252,     0.52352,     0.52452,     0.52553,     0.52653,     0.52753,\n",
      "           0.52853,     0.52953,     0.53053,     0.53153,     0.53253,     0.53353,     0.53453,     0.53554,     0.53654,     0.53754,     0.53854,     0.53954,     0.54054,     0.54154,     0.54254,     0.54354,     0.54454,     0.54555,     0.54655,     0.54755,     0.54855,     0.54955,     0.55055,     0.55155,\n",
      "           0.55255,     0.55355,     0.55455,     0.55556,     0.55656,     0.55756,     0.55856,     0.55956,     0.56056,     0.56156,     0.56256,     0.56356,     0.56456,     0.56557,     0.56657,     0.56757,     0.56857,     0.56957,     0.57057,     0.57157,     0.57257,     0.57357,     0.57457,     0.57558,\n",
      "           0.57658,     0.57758,     0.57858,     0.57958,     0.58058,     0.58158,     0.58258,     0.58358,     0.58458,     0.58559,     0.58659,     0.58759,     0.58859,     0.58959,     0.59059,     0.59159,     0.59259,     0.59359,     0.59459,      0.5956,      0.5966,      0.5976,      0.5986,      0.5996,\n",
      "            0.6006,      0.6016,      0.6026,      0.6036,      0.6046,     0.60561,     0.60661,     0.60761,     0.60861,     0.60961,     0.61061,     0.61161,     0.61261,     0.61361,     0.61461,     0.61562,     0.61662,     0.61762,     0.61862,     0.61962,     0.62062,     0.62162,     0.62262,     0.62362,\n",
      "           0.62462,     0.62563,     0.62663,     0.62763,     0.62863,     0.62963,     0.63063,     0.63163,     0.63263,     0.63363,     0.63463,     0.63564,     0.63664,     0.63764,     0.63864,     0.63964,     0.64064,     0.64164,     0.64264,     0.64364,     0.64464,     0.64565,     0.64665,     0.64765,\n",
      "           0.64865,     0.64965,     0.65065,     0.65165,     0.65265,     0.65365,     0.65465,     0.65566,     0.65666,     0.65766,     0.65866,     0.65966,     0.66066,     0.66166,     0.66266,     0.66366,     0.66466,     0.66567,     0.66667,     0.66767,     0.66867,     0.66967,     0.67067,     0.67167,\n",
      "           0.67267,     0.67367,     0.67467,     0.67568,     0.67668,     0.67768,     0.67868,     0.67968,     0.68068,     0.68168,     0.68268,     0.68368,     0.68468,     0.68569,     0.68669,     0.68769,     0.68869,     0.68969,     0.69069,     0.69169,     0.69269,     0.69369,     0.69469,      0.6957,\n",
      "            0.6967,      0.6977,      0.6987,      0.6997,      0.7007,      0.7017,      0.7027,      0.7037,      0.7047,     0.70571,     0.70671,     0.70771,     0.70871,     0.70971,     0.71071,     0.71171,     0.71271,     0.71371,     0.71471,     0.71572,     0.71672,     0.71772,     0.71872,     0.71972,\n",
      "           0.72072,     0.72172,     0.72272,     0.72372,     0.72472,     0.72573,     0.72673,     0.72773,     0.72873,     0.72973,     0.73073,     0.73173,     0.73273,     0.73373,     0.73473,     0.73574,     0.73674,     0.73774,     0.73874,     0.73974,     0.74074,     0.74174,     0.74274,     0.74374,\n",
      "           0.74474,     0.74575,     0.74675,     0.74775,     0.74875,     0.74975,     0.75075,     0.75175,     0.75275,     0.75375,     0.75475,     0.75576,     0.75676,     0.75776,     0.75876,     0.75976,     0.76076,     0.76176,     0.76276,     0.76376,     0.76476,     0.76577,     0.76677,     0.76777,\n",
      "           0.76877,     0.76977,     0.77077,     0.77177,     0.77277,     0.77377,     0.77477,     0.77578,     0.77678,     0.77778,     0.77878,     0.77978,     0.78078,     0.78178,     0.78278,     0.78378,     0.78478,     0.78579,     0.78679,     0.78779,     0.78879,     0.78979,     0.79079,     0.79179,\n",
      "           0.79279,     0.79379,     0.79479,      0.7958,      0.7968,      0.7978,      0.7988,      0.7998,      0.8008,      0.8018,      0.8028,      0.8038,      0.8048,     0.80581,     0.80681,     0.80781,     0.80881,     0.80981,     0.81081,     0.81181,     0.81281,     0.81381,     0.81481,     0.81582,\n",
      "           0.81682,     0.81782,     0.81882,     0.81982,     0.82082,     0.82182,     0.82282,     0.82382,     0.82482,     0.82583,     0.82683,     0.82783,     0.82883,     0.82983,     0.83083,     0.83183,     0.83283,     0.83383,     0.83483,     0.83584,     0.83684,     0.83784,     0.83884,     0.83984,\n",
      "           0.84084,     0.84184,     0.84284,     0.84384,     0.84484,     0.84585,     0.84685,     0.84785,     0.84885,     0.84985,     0.85085,     0.85185,     0.85285,     0.85385,     0.85485,     0.85586,     0.85686,     0.85786,     0.85886,     0.85986,     0.86086,     0.86186,     0.86286,     0.86386,\n",
      "           0.86486,     0.86587,     0.86687,     0.86787,     0.86887,     0.86987,     0.87087,     0.87187,     0.87287,     0.87387,     0.87487,     0.87588,     0.87688,     0.87788,     0.87888,     0.87988,     0.88088,     0.88188,     0.88288,     0.88388,     0.88488,     0.88589,     0.88689,     0.88789,\n",
      "           0.88889,     0.88989,     0.89089,     0.89189,     0.89289,     0.89389,     0.89489,      0.8959,      0.8969,      0.8979,      0.8989,      0.8999,      0.9009,      0.9019,      0.9029,      0.9039,      0.9049,     0.90591,     0.90691,     0.90791,     0.90891,     0.90991,     0.91091,     0.91191,\n",
      "           0.91291,     0.91391,     0.91491,     0.91592,     0.91692,     0.91792,     0.91892,     0.91992,     0.92092,     0.92192,     0.92292,     0.92392,     0.92492,     0.92593,     0.92693,     0.92793,     0.92893,     0.92993,     0.93093,     0.93193,     0.93293,     0.93393,     0.93493,     0.93594,\n",
      "           0.93694,     0.93794,     0.93894,     0.93994,     0.94094,     0.94194,     0.94294,     0.94394,     0.94494,     0.94595,     0.94695,     0.94795,     0.94895,     0.94995,     0.95095,     0.95195,     0.95295,     0.95395,     0.95495,     0.95596,     0.95696,     0.95796,     0.95896,     0.95996,\n",
      "           0.96096,     0.96196,     0.96296,     0.96396,     0.96496,     0.96597,     0.96697,     0.96797,     0.96897,     0.96997,     0.97097,     0.97197,     0.97297,     0.97397,     0.97497,     0.97598,     0.97698,     0.97798,     0.97898,     0.97998,     0.98098,     0.98198,     0.98298,     0.98398,\n",
      "           0.98498,     0.98599,     0.98699,     0.98799,     0.98899,     0.98999,     0.99099,     0.99199,     0.99299,     0.99399,     0.99499,       0.996,       0.997,       0.998,       0.999,           1]), array([[    0.99237,     0.99237,     0.98092,     0.98092,      0.9771,      0.9771,      0.9771,      0.9771,      0.9771,      0.9771,      0.9771,      0.9771,      0.9771,      0.9771,      0.9771,     0.97328,     0.97328,     0.97328,     0.97328,     0.97328,     0.97328,     0.97328,     0.97328,\n",
      "            0.97328,     0.97328,     0.97328,     0.97328,     0.97328,     0.97328,     0.97328,     0.97202,     0.96947,     0.96947,     0.96947,     0.96947,     0.96947,     0.96947,     0.96947,     0.96947,     0.96947,     0.96947,     0.96947,     0.96947,     0.96947,     0.96947,     0.96947,\n",
      "            0.96947,     0.96947,     0.96947,     0.96947,     0.96947,     0.96947,     0.96947,     0.96947,     0.96947,     0.96947,     0.96947,     0.96947,     0.96947,     0.96947,     0.96947,     0.96947,     0.96947,     0.96947,     0.96947,     0.96947,     0.96947,     0.96947,     0.96947,\n",
      "            0.96947,     0.96947,     0.96947,     0.96947,     0.96947,     0.96947,     0.96947,     0.96947,     0.96947,     0.96947,     0.96947,     0.96947,     0.96947,     0.96947,     0.96947,     0.96947,     0.96947,     0.96947,     0.96947,     0.96947,     0.96947,     0.96947,     0.96947,\n",
      "            0.96947,     0.96947,     0.96947,     0.96947,     0.96947,     0.96947,     0.96947,     0.96931,     0.96838,     0.96745,     0.96652,     0.96564,     0.96553,     0.96542,      0.9653,     0.96519,     0.96508,     0.96497,     0.96485,     0.96474,     0.96463,     0.96452,      0.9644,\n",
      "            0.96429,     0.96418,     0.96407,     0.96395,     0.96384,     0.96373,     0.96362,     0.96351,     0.96339,     0.96328,     0.96317,     0.96306,     0.96294,     0.96283,     0.96272,     0.96261,     0.96249,     0.96238,     0.96227,     0.96216,     0.96204,     0.96193,     0.96183,\n",
      "            0.96183,     0.96183,     0.96183,     0.96183,     0.96183,     0.96183,     0.96183,     0.96183,     0.96183,     0.96183,     0.96183,     0.96183,     0.96183,     0.96126,     0.96043,     0.95959,     0.95876,     0.95802,     0.95802,     0.95802,     0.95802,     0.95802,     0.95802,\n",
      "            0.95802,     0.95802,     0.95802,     0.95802,     0.95802,     0.95802,     0.95802,     0.95802,     0.95802,     0.95802,     0.95802,     0.95802,     0.95802,      0.9542,      0.9542,     0.95305,     0.95157,     0.95038,     0.95038,     0.95038,     0.95038,     0.95038,     0.95038,\n",
      "            0.95038,     0.95038,     0.95038,     0.95038,     0.95038,     0.94999,     0.94874,     0.94749,     0.94656,     0.94656,     0.94656,     0.94656,     0.94656,     0.94656,     0.94656,     0.94656,     0.94656,     0.94656,     0.94656,     0.94656,     0.94656,     0.94656,     0.94656,\n",
      "            0.94656,     0.94656,     0.94656,     0.94656,     0.94656,     0.94656,     0.94656,     0.94656,     0.94656,     0.94656,     0.94656,     0.94656,     0.94656,     0.94656,     0.94656,     0.94656,     0.94656,     0.94656,     0.94656,     0.94656,     0.94656,     0.94656,     0.94656,\n",
      "            0.94656,     0.94656,     0.94656,     0.94656,     0.94656,     0.94328,     0.94082,     0.93893,     0.93893,     0.93893,     0.93893,     0.93893,     0.93893,     0.93893,     0.93893,     0.93893,     0.93893,     0.93893,     0.93893,     0.93893,     0.93893,     0.93893,     0.93893,\n",
      "            0.93893,     0.93893,     0.93893,     0.93893,     0.93893,     0.93893,     0.93893,     0.93893,     0.93893,     0.93893,     0.93893,     0.93893,     0.93893,     0.93893,     0.93893,     0.93893,     0.93893,     0.93893,     0.93893,      0.9387,     0.93838,     0.93807,     0.93775,\n",
      "            0.93744,     0.93712,     0.93681,     0.93649,     0.93618,     0.93586,     0.93555,     0.93523,     0.93504,     0.93492,      0.9348,     0.93468,     0.93456,     0.93444,     0.93432,      0.9342,     0.93408,     0.93396,     0.93384,     0.93372,      0.9336,     0.93348,     0.93336,\n",
      "            0.93324,     0.93312,       0.933,     0.93288,     0.93276,     0.93264,     0.93252,      0.9324,     0.93228,     0.93216,     0.93204,     0.93192,      0.9318,     0.93168,     0.93156,     0.93144,     0.93132,     0.93115,     0.93097,     0.93079,      0.9306,     0.93042,     0.93024,\n",
      "            0.93005,     0.92987,     0.92968,      0.9295,     0.92932,     0.92913,     0.92895,     0.92877,     0.92858,      0.9284,     0.92822,     0.92803,     0.92785,     0.92766,     0.92748,      0.9271,     0.92672,     0.92633,     0.92595,     0.92557,     0.92519,     0.92481,     0.92442,\n",
      "            0.92404,     0.92366,      0.9236,     0.92353,     0.92346,      0.9234,     0.92333,     0.92327,      0.9232,     0.92313,     0.92307,       0.923,     0.92294,     0.92287,      0.9228,     0.92274,     0.92267,     0.92261,     0.92254,     0.92247,     0.92241,     0.92234,     0.92228,\n",
      "            0.92221,     0.92214,     0.92208,     0.92201,     0.92194,     0.92188,     0.92181,     0.92175,     0.92168,     0.92161,     0.92155,     0.92148,     0.92142,     0.92135,     0.92128,     0.92122,     0.92115,     0.92109,     0.92102,     0.92095,     0.92089,     0.92082,     0.92075,\n",
      "            0.92069,     0.92062,     0.92056,     0.92049,     0.92042,     0.92036,     0.92029,     0.92023,     0.92016,     0.92009,     0.92003,     0.91996,      0.9199,     0.91936,     0.91754,     0.91599,     0.91574,     0.91549,     0.91525,       0.915,     0.91475,      0.9145,     0.91426,\n",
      "            0.91401,     0.91376,     0.91351,     0.91326,     0.91302,     0.91277,     0.91252,     0.91227,     0.91221,     0.91221,     0.91221,     0.91201,     0.91179,     0.91157,     0.91135,     0.91113,     0.91091,      0.9107,     0.91048,     0.91026,     0.91004,     0.90982,      0.9096,\n",
      "            0.90938,     0.90916,     0.90895,     0.90873,     0.90851,     0.90814,      0.9076,     0.90707,     0.90653,       0.906,     0.90547,     0.90493,     0.90458,     0.90458,     0.90458,     0.90458,     0.90458,     0.90458,     0.90458,     0.90458,     0.90458,     0.90458,     0.90431,\n",
      "            0.90398,     0.90366,     0.90334,     0.90302,     0.90269,     0.90237,     0.90205,     0.90173,      0.9014,     0.90108,     0.90068,     0.89685,     0.89612,      0.8954,     0.89467,     0.89394,     0.89322,     0.89273,     0.89227,     0.89181,     0.89135,      0.8909,     0.89044,\n",
      "            0.88998,     0.88952,     0.88905,     0.88855,     0.88806,     0.88757,     0.88708,     0.88658,     0.88609,      0.8856,      0.8855,      0.8855,      0.8855,      0.8855,      0.8855,      0.8855,      0.8855,      0.8855,      0.8855,      0.8855,      0.8855,      0.8855,      0.8855,\n",
      "             0.8855,      0.8855,      0.8855,      0.8855,     0.88533,     0.88515,     0.88496,     0.88478,      0.8846,     0.88442,     0.88424,     0.88406,     0.88388,      0.8837,     0.88351,     0.88333,     0.88315,     0.88297,     0.88279,     0.88261,     0.88243,     0.88225,     0.88207,\n",
      "            0.88188,      0.8817,     0.88074,     0.87967,     0.87859,     0.87759,     0.87673,     0.87588,     0.87502,     0.87417,     0.87405,     0.87405,     0.87405,     0.87405,     0.87397,     0.87381,     0.87364,     0.87347,      0.8733,     0.87313,     0.87296,     0.87279,     0.87262,\n",
      "            0.87245,     0.87228,     0.87212,     0.87195,     0.87178,     0.87161,     0.87144,     0.87127,      0.8711,     0.87093,     0.87076,      0.8706,     0.87043,     0.87026,     0.86984,     0.86936,     0.86889,     0.86842,     0.86795,     0.86747,       0.867,     0.86653,     0.86504,\n",
      "            0.86321,     0.86218,     0.86155,     0.86092,     0.86029,     0.85967,     0.85904,      0.8587,     0.85857,     0.85844,     0.85832,     0.85819,     0.85806,     0.85793,      0.8578,     0.85767,     0.85754,     0.85741,     0.85728,     0.85715,     0.85703,      0.8569,     0.85677,\n",
      "            0.85664,     0.85651,     0.85638,     0.85625,     0.85612,     0.85599,     0.85586,     0.85574,     0.85561,     0.85548,     0.85535,     0.85522,     0.85509,     0.85496,     0.85454,     0.85411,     0.85369,     0.85327,     0.85284,     0.85242,       0.852,     0.85157,     0.85115,\n",
      "            0.85036,     0.84957,     0.84878,     0.84798,     0.84729,     0.84708,     0.84688,     0.84667,     0.84646,     0.84625,     0.84604,     0.84584,     0.84563,     0.84542,     0.84521,       0.845,      0.8448,     0.84459,     0.84438,     0.84417,     0.84396,     0.84376,     0.84355,\n",
      "            0.84328,       0.843,     0.84272,     0.84245,     0.84217,     0.84189,     0.84161,     0.84133,     0.84105,     0.84077,     0.84049,     0.84021,     0.83993,      0.8396,     0.83888,     0.83817,     0.83746,     0.83675,     0.83604,      0.8316,     0.83087,     0.83015,     0.82942,\n",
      "             0.8287,     0.82808,     0.82765,     0.82722,     0.82678,     0.82635,     0.82592,     0.82549,     0.82505,     0.82462,     0.82418,     0.82372,     0.82327,     0.82282,     0.82237,     0.82192,     0.82146,     0.82101,     0.82057,     0.82016,     0.81976,     0.81936,     0.81895,\n",
      "            0.81855,     0.81815,     0.81775,     0.81734,     0.81694,     0.81393,     0.80688,     0.80522,     0.80501,      0.8048,     0.80459,     0.80438,     0.80418,     0.80397,     0.80376,     0.80355,     0.80334,     0.80314,     0.80293,     0.80272,     0.80251,      0.8023,     0.80209,\n",
      "            0.80189,     0.80168,     0.79737,     0.79521,     0.79382,     0.79362,     0.79342,     0.79322,     0.79302,     0.79282,     0.79262,     0.79242,     0.79222,     0.79202,     0.79182,     0.79162,     0.79142,     0.79122,     0.79103,     0.79083,     0.79063,     0.79043,     0.79023,\n",
      "            0.78624,     0.78506,     0.78388,      0.7827,     0.77713,      0.7743,     0.77346,     0.77263,      0.7718,     0.77096,     0.77012,     0.76929,     0.76845,     0.76761,     0.76683,     0.76612,     0.76541,     0.76469,     0.76398,       0.763,     0.76021,     0.75914,      0.7586,\n",
      "            0.75807,     0.75753,       0.757,     0.75646,     0.75593,     0.75514,     0.75418,     0.75323,     0.75228,     0.75097,     0.74943,     0.74451,     0.74322,     0.74215,     0.74108,     0.73986,     0.73842,     0.73698,     0.73509,     0.73305,        0.73,     0.72724,      0.7212,\n",
      "            0.72005,      0.7189,     0.71774,      0.7171,     0.71655,       0.716,     0.71545,     0.71489,     0.71434,     0.71379,      0.7126,     0.71133,     0.71006,     0.70874,      0.7074,     0.70605,     0.70411,     0.70215,     0.69981,     0.69398,     0.69137,     0.68676,     0.68475,\n",
      "            0.68199,     0.67521,     0.65888,     0.65339,     0.65077,     0.64799,     0.64363,     0.63729,     0.63405,      0.6281,     0.62491,     0.62212,     0.61949,     0.61268,     0.60529,      0.6015,     0.59802,     0.59485,     0.58139,     0.57063,     0.55514,     0.55013,     0.54271,\n",
      "            0.53118,     0.52657,      0.5227,     0.52117,     0.51964,     0.51677,     0.51248,     0.50925,     0.50308,     0.50044,     0.49435,     0.48631,     0.47549,     0.45869,     0.45491,     0.45231,     0.44932,     0.44427,     0.43222,     0.41738,     0.40728,     0.39044,     0.37558,\n",
      "            0.35481,     0.34357,     0.31976,     0.30892,     0.30545,     0.29866,     0.29427,     0.28401,      0.2768,     0.27006,     0.26571,     0.25166,      0.2264,     0.19986,     0.18973,      0.1828,     0.17163,     0.16077,     0.15677,     0.15468,     0.15272,     0.14568,     0.13167,\n",
      "            0.11398,     0.10553,     0.10149,    0.096641,    0.087019,     0.08071,    0.072054,    0.065167,    0.051021,    0.045035,     0.04368,    0.042325,    0.036784,    0.034518,    0.033368,    0.032308,    0.031247,    0.029352,    0.025343,    0.018108,    0.013434,    0.011459,   0.0094038,\n",
      "          0.0075767,   0.0071668,   0.0067569,    0.006347,   0.0059371,   0.0055272,   0.0051173,   0.0047074,   0.0042975,   0.0038876,           0,           0,           0,           0,           0,           0,           0,           0,           0,           0,           0,           0,           0,\n",
      "                  0,           0,           0,           0,           0,           0,           0,           0,           0,           0,           0,           0,           0,           0,           0,           0,           0,           0,           0,           0,           0,           0,           0,\n",
      "                  0,           0,           0,           0,           0,           0,           0,           0,           0,           0,           0,           0,           0,           0,           0,           0,           0,           0,           0,           0,           0,           0,           0,\n",
      "                  0,           0,           0,           0,           0,           0,           0,           0,           0,           0,           0,           0,           0,           0,           0,           0,           0,           0,           0,           0,           0,           0,           0,\n",
      "                  0,           0,           0,           0,           0,           0,           0,           0,           0,           0,           0]]), 'Confidence', 'Recall']]\n",
      "fitness: np.float64(0.7871829181936304)\n",
      "keys: ['metrics/precision(B)', 'metrics/recall(B)', 'metrics/mAP50(B)', 'metrics/mAP50-95(B)']\n",
      "maps: array([    0.76602])\n",
      "names: {0: 'licence'}\n",
      "nt_per_class: array([262])\n",
      "nt_per_image: array([255])\n",
      "results_dict: {'metrics/precision(B)': np.float64(0.9694761604173895), 'metrics/recall(B)': np.float64(0.9389312977099237), 'metrics/mAP50(B)': np.float64(0.9776046883727649), 'metrics/mAP50-95(B)': np.float64(0.7660249437292821), 'fitness': np.float64(0.7871829181936304)}\n",
      "save_dir: WindowsPath('runs/detect/model_blur2')\n",
      "speed: {'preprocess': 0.3305086274528602, 'inference': 28.391938823527678, 'loss': 0.0011776470558948395, 'postprocess': 1.337469411761477}\n",
      "stats: {'tp': [], 'conf': [], 'pred_cls': [], 'target_cls': [], 'target_img': []}\n",
      "task: 'detect'\n"
     ]
    }
   ],
   "source": [
    "# train and validate model\n",
    "# from the table above I could see yolo v8 small performs better\n",
    "\n",
    "model = YOLO(\"yolov8m.pt\")\n",
    "model.train(data=\"dataset_split/data.yaml\", name=\"model_blur\",\n",
    "        epochs=10,\n",
    "        batch=8,\n",
    "        device = device\n",
    "        )\n",
    "metrics = model.val(data=\"dataset_split/data.yaml\")\n",
    "print(metrics)\n"
   ]
  },
  {
   "cell_type": "code",
   "execution_count": 10,
   "id": "bf7bc72f",
   "metadata": {},
   "outputs": [
    {
     "name": "stdout",
     "output_type": "stream",
     "text": [
      "\n",
      "WARNING \n",
      "inference results will accumulate in RAM unless `stream=True` is passed, causing potential out-of-memory\n",
      "errors for large sources or long-running streams and videos. See https://docs.ultralytics.com/modes/predict/ for help.\n",
      "\n",
      "Example:\n",
      "    results = model(source=..., stream=True)  # generator of Results objects\n",
      "    for r in results:\n",
      "        boxes = r.boxes  # Boxes object for bbox outputs\n",
      "        masks = r.masks  # Masks object for segment masks outputs\n",
      "        probs = r.probs  # Class probabilities for classification outputs\n",
      "\n",
      "video 1/1 (frame 1/663) d:\\Term 2\\Deep_Learning_Project\\dl_project\\test2.mp4: 640x384 3 cars, 73.9ms\n",
      "video 1/1 (frame 2/663) d:\\Term 2\\Deep_Learning_Project\\dl_project\\test2.mp4: 640x384 3 cars, 66.5ms\n",
      "video 1/1 (frame 3/663) d:\\Term 2\\Deep_Learning_Project\\dl_project\\test2.mp4: 640x384 3 cars, 66.1ms\n",
      "video 1/1 (frame 4/663) d:\\Term 2\\Deep_Learning_Project\\dl_project\\test2.mp4: 640x384 4 cars, 66.1ms\n",
      "video 1/1 (frame 5/663) d:\\Term 2\\Deep_Learning_Project\\dl_project\\test2.mp4: 640x384 4 cars, 66.3ms\n",
      "video 1/1 (frame 6/663) d:\\Term 2\\Deep_Learning_Project\\dl_project\\test2.mp4: 640x384 4 cars, 66.6ms\n",
      "video 1/1 (frame 7/663) d:\\Term 2\\Deep_Learning_Project\\dl_project\\test2.mp4: 640x384 4 cars, 67.4ms\n",
      "video 1/1 (frame 8/663) d:\\Term 2\\Deep_Learning_Project\\dl_project\\test2.mp4: 640x384 4 cars, 66.4ms\n",
      "video 1/1 (frame 9/663) d:\\Term 2\\Deep_Learning_Project\\dl_project\\test2.mp4: 640x384 4 cars, 65.9ms\n",
      "video 1/1 (frame 10/663) d:\\Term 2\\Deep_Learning_Project\\dl_project\\test2.mp4: 640x384 4 cars, 66.1ms\n",
      "video 1/1 (frame 11/663) d:\\Term 2\\Deep_Learning_Project\\dl_project\\test2.mp4: 640x384 4 cars, 66.3ms\n",
      "video 1/1 (frame 12/663) d:\\Term 2\\Deep_Learning_Project\\dl_project\\test2.mp4: 640x384 4 cars, 66.0ms\n",
      "video 1/1 (frame 13/663) d:\\Term 2\\Deep_Learning_Project\\dl_project\\test2.mp4: 640x384 4 cars, 66.1ms\n",
      "video 1/1 (frame 14/663) d:\\Term 2\\Deep_Learning_Project\\dl_project\\test2.mp4: 640x384 4 cars, 66.4ms\n",
      "video 1/1 (frame 15/663) d:\\Term 2\\Deep_Learning_Project\\dl_project\\test2.mp4: 640x384 4 cars, 66.5ms\n",
      "video 1/1 (frame 16/663) d:\\Term 2\\Deep_Learning_Project\\dl_project\\test2.mp4: 640x384 4 cars, 67.2ms\n",
      "video 1/1 (frame 17/663) d:\\Term 2\\Deep_Learning_Project\\dl_project\\test2.mp4: 640x384 4 cars, 66.3ms\n",
      "video 1/1 (frame 18/663) d:\\Term 2\\Deep_Learning_Project\\dl_project\\test2.mp4: 640x384 4 cars, 66.3ms\n",
      "video 1/1 (frame 19/663) d:\\Term 2\\Deep_Learning_Project\\dl_project\\test2.mp4: 640x384 4 cars, 66.3ms\n",
      "video 1/1 (frame 20/663) d:\\Term 2\\Deep_Learning_Project\\dl_project\\test2.mp4: 640x384 4 cars, 66.1ms\n",
      "video 1/1 (frame 21/663) d:\\Term 2\\Deep_Learning_Project\\dl_project\\test2.mp4: 640x384 4 cars, 66.0ms\n",
      "video 1/1 (frame 22/663) d:\\Term 2\\Deep_Learning_Project\\dl_project\\test2.mp4: 640x384 4 cars, 65.9ms\n",
      "video 1/1 (frame 23/663) d:\\Term 2\\Deep_Learning_Project\\dl_project\\test2.mp4: 640x384 4 cars, 66.0ms\n",
      "video 1/1 (frame 24/663) d:\\Term 2\\Deep_Learning_Project\\dl_project\\test2.mp4: 640x384 4 cars, 65.8ms\n",
      "video 1/1 (frame 25/663) d:\\Term 2\\Deep_Learning_Project\\dl_project\\test2.mp4: 640x384 4 cars, 65.9ms\n",
      "video 1/1 (frame 26/663) d:\\Term 2\\Deep_Learning_Project\\dl_project\\test2.mp4: 640x384 4 cars, 66.6ms\n",
      "video 1/1 (frame 27/663) d:\\Term 2\\Deep_Learning_Project\\dl_project\\test2.mp4: 640x384 4 cars, 66.3ms\n",
      "video 1/1 (frame 28/663) d:\\Term 2\\Deep_Learning_Project\\dl_project\\test2.mp4: 640x384 4 cars, 66.1ms\n",
      "video 1/1 (frame 29/663) d:\\Term 2\\Deep_Learning_Project\\dl_project\\test2.mp4: 640x384 4 cars, 66.2ms\n",
      "video 1/1 (frame 30/663) d:\\Term 2\\Deep_Learning_Project\\dl_project\\test2.mp4: 640x384 4 cars, 66.2ms\n",
      "video 1/1 (frame 31/663) d:\\Term 2\\Deep_Learning_Project\\dl_project\\test2.mp4: 640x384 4 cars, 66.1ms\n",
      "video 1/1 (frame 32/663) d:\\Term 2\\Deep_Learning_Project\\dl_project\\test2.mp4: 640x384 4 cars, 66.2ms\n",
      "video 1/1 (frame 33/663) d:\\Term 2\\Deep_Learning_Project\\dl_project\\test2.mp4: 640x384 4 cars, 66.0ms\n",
      "video 1/1 (frame 34/663) d:\\Term 2\\Deep_Learning_Project\\dl_project\\test2.mp4: 640x384 4 cars, 66.1ms\n",
      "video 1/1 (frame 35/663) d:\\Term 2\\Deep_Learning_Project\\dl_project\\test2.mp4: 640x384 4 cars, 66.2ms\n",
      "video 1/1 (frame 36/663) d:\\Term 2\\Deep_Learning_Project\\dl_project\\test2.mp4: 640x384 4 cars, 66.2ms\n",
      "video 1/1 (frame 37/663) d:\\Term 2\\Deep_Learning_Project\\dl_project\\test2.mp4: 640x384 4 cars, 65.9ms\n",
      "video 1/1 (frame 38/663) d:\\Term 2\\Deep_Learning_Project\\dl_project\\test2.mp4: 640x384 4 cars, 65.6ms\n",
      "video 1/1 (frame 39/663) d:\\Term 2\\Deep_Learning_Project\\dl_project\\test2.mp4: 640x384 4 cars, 66.0ms\n",
      "video 1/1 (frame 40/663) d:\\Term 2\\Deep_Learning_Project\\dl_project\\test2.mp4: 640x384 4 cars, 66.4ms\n",
      "video 1/1 (frame 41/663) d:\\Term 2\\Deep_Learning_Project\\dl_project\\test2.mp4: 640x384 4 cars, 66.3ms\n",
      "video 1/1 (frame 42/663) d:\\Term 2\\Deep_Learning_Project\\dl_project\\test2.mp4: 640x384 4 cars, 66.1ms\n",
      "video 1/1 (frame 43/663) d:\\Term 2\\Deep_Learning_Project\\dl_project\\test2.mp4: 640x384 4 cars, 66.2ms\n",
      "video 1/1 (frame 44/663) d:\\Term 2\\Deep_Learning_Project\\dl_project\\test2.mp4: 640x384 4 cars, 65.7ms\n",
      "video 1/1 (frame 45/663) d:\\Term 2\\Deep_Learning_Project\\dl_project\\test2.mp4: 640x384 4 cars, 66.3ms\n",
      "video 1/1 (frame 46/663) d:\\Term 2\\Deep_Learning_Project\\dl_project\\test2.mp4: 640x384 4 cars, 66.1ms\n",
      "video 1/1 (frame 47/663) d:\\Term 2\\Deep_Learning_Project\\dl_project\\test2.mp4: 640x384 4 cars, 66.2ms\n",
      "video 1/1 (frame 48/663) d:\\Term 2\\Deep_Learning_Project\\dl_project\\test2.mp4: 640x384 4 cars, 65.8ms\n",
      "video 1/1 (frame 49/663) d:\\Term 2\\Deep_Learning_Project\\dl_project\\test2.mp4: 640x384 4 cars, 65.9ms\n",
      "video 1/1 (frame 50/663) d:\\Term 2\\Deep_Learning_Project\\dl_project\\test2.mp4: 640x384 4 cars, 66.3ms\n",
      "video 1/1 (frame 51/663) d:\\Term 2\\Deep_Learning_Project\\dl_project\\test2.mp4: 640x384 4 cars, 65.9ms\n",
      "video 1/1 (frame 52/663) d:\\Term 2\\Deep_Learning_Project\\dl_project\\test2.mp4: 640x384 4 cars, 66.0ms\n",
      "video 1/1 (frame 53/663) d:\\Term 2\\Deep_Learning_Project\\dl_project\\test2.mp4: 640x384 4 cars, 66.0ms\n",
      "video 1/1 (frame 54/663) d:\\Term 2\\Deep_Learning_Project\\dl_project\\test2.mp4: 640x384 4 cars, 66.5ms\n",
      "video 1/1 (frame 55/663) d:\\Term 2\\Deep_Learning_Project\\dl_project\\test2.mp4: 640x384 4 cars, 66.4ms\n",
      "video 1/1 (frame 56/663) d:\\Term 2\\Deep_Learning_Project\\dl_project\\test2.mp4: 640x384 4 cars, 66.0ms\n",
      "video 1/1 (frame 57/663) d:\\Term 2\\Deep_Learning_Project\\dl_project\\test2.mp4: 640x384 4 cars, 66.0ms\n",
      "video 1/1 (frame 58/663) d:\\Term 2\\Deep_Learning_Project\\dl_project\\test2.mp4: 640x384 4 cars, 66.4ms\n",
      "video 1/1 (frame 59/663) d:\\Term 2\\Deep_Learning_Project\\dl_project\\test2.mp4: 640x384 4 cars, 66.3ms\n",
      "video 1/1 (frame 60/663) d:\\Term 2\\Deep_Learning_Project\\dl_project\\test2.mp4: 640x384 4 cars, 66.1ms\n",
      "video 1/1 (frame 61/663) d:\\Term 2\\Deep_Learning_Project\\dl_project\\test2.mp4: 640x384 4 cars, 66.2ms\n",
      "video 1/1 (frame 62/663) d:\\Term 2\\Deep_Learning_Project\\dl_project\\test2.mp4: 640x384 4 cars, 66.0ms\n",
      "video 1/1 (frame 63/663) d:\\Term 2\\Deep_Learning_Project\\dl_project\\test2.mp4: 640x384 4 cars, 66.0ms\n",
      "video 1/1 (frame 64/663) d:\\Term 2\\Deep_Learning_Project\\dl_project\\test2.mp4: 640x384 4 cars, 66.0ms\n",
      "video 1/1 (frame 65/663) d:\\Term 2\\Deep_Learning_Project\\dl_project\\test2.mp4: 640x384 4 cars, 66.0ms\n",
      "video 1/1 (frame 66/663) d:\\Term 2\\Deep_Learning_Project\\dl_project\\test2.mp4: 640x384 4 cars, 66.4ms\n",
      "video 1/1 (frame 67/663) d:\\Term 2\\Deep_Learning_Project\\dl_project\\test2.mp4: 640x384 4 cars, 66.2ms\n",
      "video 1/1 (frame 68/663) d:\\Term 2\\Deep_Learning_Project\\dl_project\\test2.mp4: 640x384 4 cars, 66.6ms\n",
      "video 1/1 (frame 69/663) d:\\Term 2\\Deep_Learning_Project\\dl_project\\test2.mp4: 640x384 4 cars, 66.3ms\n",
      "video 1/1 (frame 70/663) d:\\Term 2\\Deep_Learning_Project\\dl_project\\test2.mp4: 640x384 4 cars, 66.1ms\n",
      "video 1/1 (frame 71/663) d:\\Term 2\\Deep_Learning_Project\\dl_project\\test2.mp4: 640x384 4 cars, 66.2ms\n",
      "video 1/1 (frame 72/663) d:\\Term 2\\Deep_Learning_Project\\dl_project\\test2.mp4: 640x384 4 cars, 65.7ms\n",
      "video 1/1 (frame 73/663) d:\\Term 2\\Deep_Learning_Project\\dl_project\\test2.mp4: 640x384 4 cars, 66.1ms\n",
      "video 1/1 (frame 74/663) d:\\Term 2\\Deep_Learning_Project\\dl_project\\test2.mp4: 640x384 4 cars, 66.2ms\n",
      "video 1/1 (frame 75/663) d:\\Term 2\\Deep_Learning_Project\\dl_project\\test2.mp4: 640x384 4 cars, 66.3ms\n",
      "video 1/1 (frame 76/663) d:\\Term 2\\Deep_Learning_Project\\dl_project\\test2.mp4: 640x384 4 cars, 66.6ms\n",
      "video 1/1 (frame 77/663) d:\\Term 2\\Deep_Learning_Project\\dl_project\\test2.mp4: 640x384 4 cars, 66.1ms\n",
      "video 1/1 (frame 78/663) d:\\Term 2\\Deep_Learning_Project\\dl_project\\test2.mp4: 640x384 4 cars, 66.2ms\n",
      "video 1/1 (frame 79/663) d:\\Term 2\\Deep_Learning_Project\\dl_project\\test2.mp4: 640x384 4 cars, 65.8ms\n",
      "video 1/1 (frame 80/663) d:\\Term 2\\Deep_Learning_Project\\dl_project\\test2.mp4: 640x384 4 cars, 66.4ms\n",
      "video 1/1 (frame 81/663) d:\\Term 2\\Deep_Learning_Project\\dl_project\\test2.mp4: 640x384 4 cars, 66.3ms\n",
      "video 1/1 (frame 82/663) d:\\Term 2\\Deep_Learning_Project\\dl_project\\test2.mp4: 640x384 4 cars, 66.1ms\n",
      "video 1/1 (frame 83/663) d:\\Term 2\\Deep_Learning_Project\\dl_project\\test2.mp4: 640x384 4 cars, 66.3ms\n",
      "video 1/1 (frame 84/663) d:\\Term 2\\Deep_Learning_Project\\dl_project\\test2.mp4: 640x384 4 cars, 66.0ms\n"
     ]
    },
    {
     "ename": "KeyboardInterrupt",
     "evalue": "",
     "output_type": "error",
     "traceback": [
      "\u001b[1;31m---------------------------------------------------------------------------\u001b[0m",
      "\u001b[1;31mKeyboardInterrupt\u001b[0m                         Traceback (most recent call last)",
      "Cell \u001b[1;32mIn[10], line 2\u001b[0m\n\u001b[0;32m      1\u001b[0m model \u001b[38;5;241m=\u001b[39m YOLO(\u001b[38;5;124m\"\u001b[39m\u001b[38;5;124myolov8m.pt\u001b[39m\u001b[38;5;124m\"\u001b[39m)\n\u001b[1;32m----> 2\u001b[0m results \u001b[38;5;241m=\u001b[39m \u001b[43mmodel\u001b[49m\u001b[38;5;241;43m.\u001b[39;49m\u001b[43mpredict\u001b[49m\u001b[43m(\u001b[49m\u001b[43msource\u001b[49m\u001b[38;5;241;43m=\u001b[39;49m\u001b[38;5;124;43m\"\u001b[39;49m\u001b[38;5;124;43mtest2.mp4\u001b[39;49m\u001b[38;5;124;43m\"\u001b[39;49m\u001b[43m,\u001b[49m\u001b[43m \u001b[49m\u001b[43mconf\u001b[49m\u001b[38;5;241;43m=\u001b[39;49m\u001b[38;5;241;43m0.4\u001b[39;49m\u001b[43m,\u001b[49m\u001b[43m \u001b[49m\u001b[43msave\u001b[49m\u001b[38;5;241;43m=\u001b[39;49m\u001b[38;5;28;43;01mTrue\u001b[39;49;00m\u001b[43m)\u001b[49m\n",
      "File \u001b[1;32md:\\Term 2\\Deep_Learning_Project\\.venv\\lib\\site-packages\\ultralytics\\engine\\model.py:555\u001b[0m, in \u001b[0;36mModel.predict\u001b[1;34m(self, source, stream, predictor, **kwargs)\u001b[0m\n\u001b[0;32m    553\u001b[0m \u001b[38;5;28;01mif\u001b[39;00m prompts \u001b[38;5;129;01mand\u001b[39;00m \u001b[38;5;28mhasattr\u001b[39m(\u001b[38;5;28mself\u001b[39m\u001b[38;5;241m.\u001b[39mpredictor, \u001b[38;5;124m\"\u001b[39m\u001b[38;5;124mset_prompts\u001b[39m\u001b[38;5;124m\"\u001b[39m):  \u001b[38;5;66;03m# for SAM-type models\u001b[39;00m\n\u001b[0;32m    554\u001b[0m     \u001b[38;5;28mself\u001b[39m\u001b[38;5;241m.\u001b[39mpredictor\u001b[38;5;241m.\u001b[39mset_prompts(prompts)\n\u001b[1;32m--> 555\u001b[0m \u001b[38;5;28;01mreturn\u001b[39;00m \u001b[38;5;28mself\u001b[39m\u001b[38;5;241m.\u001b[39mpredictor\u001b[38;5;241m.\u001b[39mpredict_cli(source\u001b[38;5;241m=\u001b[39msource) \u001b[38;5;28;01mif\u001b[39;00m is_cli \u001b[38;5;28;01melse\u001b[39;00m \u001b[38;5;28;43mself\u001b[39;49m\u001b[38;5;241;43m.\u001b[39;49m\u001b[43mpredictor\u001b[49m\u001b[43m(\u001b[49m\u001b[43msource\u001b[49m\u001b[38;5;241;43m=\u001b[39;49m\u001b[43msource\u001b[49m\u001b[43m,\u001b[49m\u001b[43m \u001b[49m\u001b[43mstream\u001b[49m\u001b[38;5;241;43m=\u001b[39;49m\u001b[43mstream\u001b[49m\u001b[43m)\u001b[49m\n",
      "File \u001b[1;32md:\\Term 2\\Deep_Learning_Project\\.venv\\lib\\site-packages\\ultralytics\\engine\\predictor.py:227\u001b[0m, in \u001b[0;36mBasePredictor.__call__\u001b[1;34m(self, source, model, stream, *args, **kwargs)\u001b[0m\n\u001b[0;32m    225\u001b[0m     \u001b[38;5;28;01mreturn\u001b[39;00m \u001b[38;5;28mself\u001b[39m\u001b[38;5;241m.\u001b[39mstream_inference(source, model, \u001b[38;5;241m*\u001b[39margs, \u001b[38;5;241m*\u001b[39m\u001b[38;5;241m*\u001b[39mkwargs)\n\u001b[0;32m    226\u001b[0m \u001b[38;5;28;01melse\u001b[39;00m:\n\u001b[1;32m--> 227\u001b[0m     \u001b[38;5;28;01mreturn\u001b[39;00m \u001b[38;5;28;43mlist\u001b[39;49m\u001b[43m(\u001b[49m\u001b[38;5;28;43mself\u001b[39;49m\u001b[38;5;241;43m.\u001b[39;49m\u001b[43mstream_inference\u001b[49m\u001b[43m(\u001b[49m\u001b[43msource\u001b[49m\u001b[43m,\u001b[49m\u001b[43m \u001b[49m\u001b[43mmodel\u001b[49m\u001b[43m,\u001b[49m\u001b[43m \u001b[49m\u001b[38;5;241;43m*\u001b[39;49m\u001b[43margs\u001b[49m\u001b[43m,\u001b[49m\u001b[43m \u001b[49m\u001b[38;5;241;43m*\u001b[39;49m\u001b[38;5;241;43m*\u001b[39;49m\u001b[43mkwargs\u001b[49m\u001b[43m)\u001b[49m\u001b[43m)\u001b[49m\n",
      "File \u001b[1;32md:\\Term 2\\Deep_Learning_Project\\.venv\\lib\\site-packages\\torch\\utils\\_contextlib.py:57\u001b[0m, in \u001b[0;36m_wrap_generator.<locals>.generator_context\u001b[1;34m(*args, **kwargs)\u001b[0m\n\u001b[0;32m     54\u001b[0m         \u001b[38;5;28;01melse\u001b[39;00m:\n\u001b[0;32m     55\u001b[0m             \u001b[38;5;66;03m# Pass the last request to the generator and get its response\u001b[39;00m\n\u001b[0;32m     56\u001b[0m             \u001b[38;5;28;01mwith\u001b[39;00m ctx_factory():\n\u001b[1;32m---> 57\u001b[0m                 response \u001b[38;5;241m=\u001b[39m \u001b[43mgen\u001b[49m\u001b[38;5;241;43m.\u001b[39;49m\u001b[43msend\u001b[49m\u001b[43m(\u001b[49m\u001b[43mrequest\u001b[49m\u001b[43m)\u001b[49m\n\u001b[0;32m     59\u001b[0m \u001b[38;5;66;03m# We let the exceptions raised above by the generator's `.throw` or\u001b[39;00m\n\u001b[0;32m     60\u001b[0m \u001b[38;5;66;03m# `.send` methods bubble up to our caller, except for StopIteration\u001b[39;00m\n\u001b[0;32m     61\u001b[0m \u001b[38;5;28;01mexcept\u001b[39;00m \u001b[38;5;167;01mStopIteration\u001b[39;00m \u001b[38;5;28;01mas\u001b[39;00m e:\n\u001b[0;32m     62\u001b[0m     \u001b[38;5;66;03m# The generator informed us that it is done: take whatever its\u001b[39;00m\n\u001b[0;32m     63\u001b[0m     \u001b[38;5;66;03m# returned value (if any) was and indicate that we're done too\u001b[39;00m\n\u001b[0;32m     64\u001b[0m     \u001b[38;5;66;03m# by returning it (see docs for python's return-statement).\u001b[39;00m\n",
      "File \u001b[1;32md:\\Term 2\\Deep_Learning_Project\\.venv\\lib\\site-packages\\ultralytics\\engine\\predictor.py:351\u001b[0m, in \u001b[0;36mBasePredictor.stream_inference\u001b[1;34m(self, source, model, *args, **kwargs)\u001b[0m\n\u001b[0;32m    345\u001b[0m         \u001b[38;5;28mself\u001b[39m\u001b[38;5;241m.\u001b[39mresults[i]\u001b[38;5;241m.\u001b[39mspeed \u001b[38;5;241m=\u001b[39m {\n\u001b[0;32m    346\u001b[0m             \u001b[38;5;124m\"\u001b[39m\u001b[38;5;124mpreprocess\u001b[39m\u001b[38;5;124m\"\u001b[39m: profilers[\u001b[38;5;241m0\u001b[39m]\u001b[38;5;241m.\u001b[39mdt \u001b[38;5;241m*\u001b[39m \u001b[38;5;241m1e3\u001b[39m \u001b[38;5;241m/\u001b[39m n,\n\u001b[0;32m    347\u001b[0m             \u001b[38;5;124m\"\u001b[39m\u001b[38;5;124minference\u001b[39m\u001b[38;5;124m\"\u001b[39m: profilers[\u001b[38;5;241m1\u001b[39m]\u001b[38;5;241m.\u001b[39mdt \u001b[38;5;241m*\u001b[39m \u001b[38;5;241m1e3\u001b[39m \u001b[38;5;241m/\u001b[39m n,\n\u001b[0;32m    348\u001b[0m             \u001b[38;5;124m\"\u001b[39m\u001b[38;5;124mpostprocess\u001b[39m\u001b[38;5;124m\"\u001b[39m: profilers[\u001b[38;5;241m2\u001b[39m]\u001b[38;5;241m.\u001b[39mdt \u001b[38;5;241m*\u001b[39m \u001b[38;5;241m1e3\u001b[39m \u001b[38;5;241m/\u001b[39m n,\n\u001b[0;32m    349\u001b[0m         }\n\u001b[0;32m    350\u001b[0m         \u001b[38;5;28;01mif\u001b[39;00m \u001b[38;5;28mself\u001b[39m\u001b[38;5;241m.\u001b[39margs\u001b[38;5;241m.\u001b[39mverbose \u001b[38;5;129;01mor\u001b[39;00m \u001b[38;5;28mself\u001b[39m\u001b[38;5;241m.\u001b[39margs\u001b[38;5;241m.\u001b[39msave \u001b[38;5;129;01mor\u001b[39;00m \u001b[38;5;28mself\u001b[39m\u001b[38;5;241m.\u001b[39margs\u001b[38;5;241m.\u001b[39msave_txt \u001b[38;5;129;01mor\u001b[39;00m \u001b[38;5;28mself\u001b[39m\u001b[38;5;241m.\u001b[39margs\u001b[38;5;241m.\u001b[39mshow:\n\u001b[1;32m--> 351\u001b[0m             s[i] \u001b[38;5;241m+\u001b[39m\u001b[38;5;241m=\u001b[39m \u001b[38;5;28;43mself\u001b[39;49m\u001b[38;5;241;43m.\u001b[39;49m\u001b[43mwrite_results\u001b[49m\u001b[43m(\u001b[49m\u001b[43mi\u001b[49m\u001b[43m,\u001b[49m\u001b[43m \u001b[49m\u001b[43mPath\u001b[49m\u001b[43m(\u001b[49m\u001b[43mpaths\u001b[49m\u001b[43m[\u001b[49m\u001b[43mi\u001b[49m\u001b[43m]\u001b[49m\u001b[43m)\u001b[49m\u001b[43m,\u001b[49m\u001b[43m \u001b[49m\u001b[43mim\u001b[49m\u001b[43m,\u001b[49m\u001b[43m \u001b[49m\u001b[43ms\u001b[49m\u001b[43m)\u001b[49m\n\u001b[0;32m    352\u001b[0m \u001b[38;5;28;01mexcept\u001b[39;00m \u001b[38;5;167;01mStopIteration\u001b[39;00m:\n\u001b[0;32m    353\u001b[0m     \u001b[38;5;28;01mbreak\u001b[39;00m\n",
      "File \u001b[1;32md:\\Term 2\\Deep_Learning_Project\\.venv\\lib\\site-packages\\ultralytics\\engine\\predictor.py:454\u001b[0m, in \u001b[0;36mBasePredictor.write_results\u001b[1;34m(self, i, p, im, s)\u001b[0m\n\u001b[0;32m    452\u001b[0m     \u001b[38;5;28mself\u001b[39m\u001b[38;5;241m.\u001b[39mshow(\u001b[38;5;28mstr\u001b[39m(p))\n\u001b[0;32m    453\u001b[0m \u001b[38;5;28;01mif\u001b[39;00m \u001b[38;5;28mself\u001b[39m\u001b[38;5;241m.\u001b[39margs\u001b[38;5;241m.\u001b[39msave:\n\u001b[1;32m--> 454\u001b[0m     \u001b[38;5;28;43mself\u001b[39;49m\u001b[38;5;241;43m.\u001b[39;49m\u001b[43msave_predicted_images\u001b[49m\u001b[43m(\u001b[49m\u001b[38;5;28;43mself\u001b[39;49m\u001b[38;5;241;43m.\u001b[39;49m\u001b[43msave_dir\u001b[49m\u001b[43m \u001b[49m\u001b[38;5;241;43m/\u001b[39;49m\u001b[43m \u001b[49m\u001b[43mp\u001b[49m\u001b[38;5;241;43m.\u001b[39;49m\u001b[43mname\u001b[49m\u001b[43m,\u001b[49m\u001b[43m \u001b[49m\u001b[43mframe\u001b[49m\u001b[43m)\u001b[49m\n\u001b[0;32m    456\u001b[0m \u001b[38;5;28;01mreturn\u001b[39;00m string\n",
      "File \u001b[1;32md:\\Term 2\\Deep_Learning_Project\\.venv\\lib\\site-packages\\ultralytics\\engine\\predictor.py:484\u001b[0m, in \u001b[0;36mBasePredictor.save_predicted_images\u001b[1;34m(self, save_path, frame)\u001b[0m\n\u001b[0;32m    476\u001b[0m     \u001b[38;5;28mself\u001b[39m\u001b[38;5;241m.\u001b[39mvid_writer[save_path] \u001b[38;5;241m=\u001b[39m cv2\u001b[38;5;241m.\u001b[39mVideoWriter(\n\u001b[0;32m    477\u001b[0m         filename\u001b[38;5;241m=\u001b[39m\u001b[38;5;28mstr\u001b[39m(Path(save_path)\u001b[38;5;241m.\u001b[39mwith_suffix(suffix)),\n\u001b[0;32m    478\u001b[0m         fourcc\u001b[38;5;241m=\u001b[39mcv2\u001b[38;5;241m.\u001b[39mVideoWriter_fourcc(\u001b[38;5;241m*\u001b[39mfourcc),\n\u001b[0;32m    479\u001b[0m         fps\u001b[38;5;241m=\u001b[39mfps,  \u001b[38;5;66;03m# integer required, floats produce error in MP4 codec\u001b[39;00m\n\u001b[0;32m    480\u001b[0m         frameSize\u001b[38;5;241m=\u001b[39m(im\u001b[38;5;241m.\u001b[39mshape[\u001b[38;5;241m1\u001b[39m], im\u001b[38;5;241m.\u001b[39mshape[\u001b[38;5;241m0\u001b[39m]),  \u001b[38;5;66;03m# (width, height)\u001b[39;00m\n\u001b[0;32m    481\u001b[0m     )\n\u001b[0;32m    483\u001b[0m \u001b[38;5;66;03m# Save video\u001b[39;00m\n\u001b[1;32m--> 484\u001b[0m \u001b[38;5;28;43mself\u001b[39;49m\u001b[38;5;241;43m.\u001b[39;49m\u001b[43mvid_writer\u001b[49m\u001b[43m[\u001b[49m\u001b[43msave_path\u001b[49m\u001b[43m]\u001b[49m\u001b[38;5;241;43m.\u001b[39;49m\u001b[43mwrite\u001b[49m\u001b[43m(\u001b[49m\u001b[43mim\u001b[49m\u001b[43m)\u001b[49m\n\u001b[0;32m    485\u001b[0m \u001b[38;5;28;01mif\u001b[39;00m \u001b[38;5;28mself\u001b[39m\u001b[38;5;241m.\u001b[39margs\u001b[38;5;241m.\u001b[39msave_frames:\n\u001b[0;32m    486\u001b[0m     cv2\u001b[38;5;241m.\u001b[39mimwrite(\u001b[38;5;124mf\u001b[39m\u001b[38;5;124m\"\u001b[39m\u001b[38;5;132;01m{\u001b[39;00mframes_path\u001b[38;5;132;01m}\u001b[39;00m\u001b[38;5;124m/\u001b[39m\u001b[38;5;132;01m{\u001b[39;00msave_path\u001b[38;5;241m.\u001b[39mstem\u001b[38;5;132;01m}\u001b[39;00m\u001b[38;5;124m_\u001b[39m\u001b[38;5;132;01m{\u001b[39;00mframe\u001b[38;5;132;01m}\u001b[39;00m\u001b[38;5;124m.jpg\u001b[39m\u001b[38;5;124m\"\u001b[39m, im)\n",
      "\u001b[1;31mKeyboardInterrupt\u001b[0m: "
     ]
    }
   ],
   "source": [
    "model = YOLO(\"yolov8m.pt\")\n",
    "results = model.predict(source=\"test2.mp4\", conf=0.4, save=True)\n"
   ]
  },
  {
   "cell_type": "code",
   "execution_count": 8,
   "id": "590e4bea",
   "metadata": {},
   "outputs": [
    {
     "name": "stdout",
     "output_type": "stream",
     "text": [
      "Blurred video saved as output.mp4\n",
      "Unique plate images saved in folder: license_plates\n"
     ]
    }
   ],
   "source": [
    "import cv2\n",
    "import pytesseract\n",
    "import os\n",
    "from ultralytics import YOLO\n",
    "\n",
    "# Configure Tesseract path (Windows) - optional if not using OCR\n",
    "pytesseract.pytesseract.tesseract_cmd = r\"C:\\Program Files\\Tesseract-OCR\\tesseract.exe\"\n",
    "\n",
    "# Load YOLO model\n",
    "model = YOLO(\"runs/detect/model_blur/weights/best.pt\")\n",
    "\n",
    "# Video input/output\n",
    "input_path = \"test2.mp4\"\n",
    "cap = cv2.VideoCapture(input_path)\n",
    "fps = cap.get(cv2.CAP_PROP_FPS)\n",
    "width  = int(cap.get(cv2.CAP_PROP_FRAME_WIDTH))\n",
    "height = int(cap.get(cv2.CAP_PROP_FRAME_HEIGHT))\n",
    "\n",
    "fourcc = cv2.VideoWriter_fourcc(*'mp4v')\n",
    "out = cv2.VideoWriter(\"output.mp4\", fourcc, fps, (width, height))\n",
    "\n",
    "# Folder to store unique plate images\n",
    "output_folder = \"license_plates\"\n",
    "os.makedirs(output_folder, exist_ok=True)\n",
    "\n",
    "def compute_iou(box1, box2):\n",
    "    # box format: [x1, y1, x2, y2]\n",
    "    x1 = max(box1[0], box2[0])\n",
    "    y1 = max(box1[1], box2[1])\n",
    "    x2 = min(box1[2], box2[2])\n",
    "    y2 = min(box1[3], box2[3])\n",
    "\n",
    "    intersection = max(0, x2 - x1) * max(0, y2 - y1)\n",
    "    area1 = (box1[2] - box1[0]) * (box1[3] - box1[1])\n",
    "    area2 = (box2[2] - box2[0]) * (box2[3] - box2[1])\n",
    "    union = area1 + area2 - intersection\n",
    "    return intersection / union if union > 0 else 0\n",
    "\n",
    "frame_index = 0\n",
    "\n",
    "while True:\n",
    "    ret, frame = cap.read()\n",
    "    if not ret:\n",
    "        break\n",
    "\n",
    "    results = model.predict(frame, conf=0.4, stream=True, verbose=False)\n",
    "\n",
    "    for result in results:\n",
    "        for box in result.boxes.xyxy.cpu().numpy():\n",
    "            x1, y1, x2, y2 = map(int, box)\n",
    "            x1, y1 = max(0, x1), max(0, y1)\n",
    "            x2, y2 = min(frame.shape[1], x2), min(frame.shape[0], y2)\n",
    "\n",
    "            roi = frame[y1:y2, x1:x2]\n",
    "            if roi.size == 0:\n",
    "                continue\n",
    "\n",
    "            # IoU check for unique plate\n",
    "            # is_new_plate = True\n",
    "            # for saved_box in saved_boxes:\n",
    "            #     if compute_iou([x1, y1, x2, y2], saved_box) > 0.7:\n",
    "            #         is_new_plate = False\n",
    "            #         break\n",
    "\n",
    "            # Compute timestamp\n",
    "            timestamp_seconds = frame_index / fps\n",
    "            hours = int(timestamp_seconds // 3600)\n",
    "            minutes = int((timestamp_seconds % 3600) // 60)\n",
    "            seconds = int(timestamp_seconds % 60)\n",
    "            timestamp_str = f\"{hours:02}_{minutes:02}_{seconds:02}\"  # for filename\n",
    "            timestamp_label = f\"{hours:02}:{minutes:02}:{seconds:02}\" # for video\n",
    "\n",
    "            # if is_new_plate:\n",
    "                # Save cropped image as timestamp.jpg\n",
    "            filename = os.path.join(output_folder, f\"{timestamp_str}.jpg\")\n",
    "            cv2.imwrite(filename, roi)\n",
    "            print(f\"Saved plate: {filename}\")\n",
    "\n",
    "                # Add to saved boxes\n",
    "                # saved_boxes.append([x1, y1, x2, y2])\n",
    "\n",
    "            # Blur plate in the output video\n",
    "            frame[y1:y2, x1:x2] = cv2.GaussianBlur(roi, (35, 35), 0)\n",
    "\n",
    "            # Draw bright red border\n",
    "            cv2.rectangle(frame, (x1, y1), (x2, y2), (0, 0, 255), 3)\n",
    "\n",
    "            # Draw timestamp label above the blur\n",
    "            text_position = (x1, max(0, y1-10))\n",
    "            cv2.putText(frame, timestamp_label, text_position,\n",
    "                        cv2.FONT_HERSHEY_SIMPLEX, 0.7, (0, 0, 255), 2, cv2.LINE_AA)\n",
    "\n",
    "    out.write(frame)\n",
    "    frame_index += 1\n",
    "\n",
    "cap.release()\n",
    "out.release()\n",
    "\n",
    "print(\"Blurred video saved as output.mp4\")\n",
    "print(f\"Unique plate images saved in folder: {output_folder}\")\n"
   ]
  }
 ],
 "metadata": {
  "kernelspec": {
   "display_name": ".venv",
   "language": "python",
   "name": "python3"
  },
  "language_info": {
   "codemirror_mode": {
    "name": "ipython",
    "version": 3
   },
   "file_extension": ".py",
   "mimetype": "text/x-python",
   "name": "python",
   "nbconvert_exporter": "python",
   "pygments_lexer": "ipython3",
   "version": "3.9.2"
  }
 },
 "nbformat": 4,
 "nbformat_minor": 5
}
