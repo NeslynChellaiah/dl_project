{
 "cells": [
  {
   "cell_type": "code",
   "execution_count": null,
   "id": "97869d39",
   "metadata": {},
   "outputs": [
    {
     "name": "stdout",
     "output_type": "stream",
     "text": [
      "Requirement already satisfied: pip in ./venv/lib/python3.12/site-packages (25.2)\n",
      "Requirement already satisfied: ultralytics in ./venv/lib/python3.12/site-packages (8.3.174)\n",
      "Requirement already satisfied: opencv-python in ./venv/lib/python3.12/site-packages (4.12.0.88)\n",
      "Requirement already satisfied: numpy>=1.23.0 in ./venv/lib/python3.12/site-packages (from ultralytics) (2.2.6)\n",
      "Requirement already satisfied: matplotlib>=3.3.0 in ./venv/lib/python3.12/site-packages (from ultralytics) (3.10.5)\n",
      "Requirement already satisfied: pillow>=7.1.2 in ./venv/lib/python3.12/site-packages (from ultralytics) (11.3.0)\n",
      "Requirement already satisfied: pyyaml>=5.3.1 in ./venv/lib/python3.12/site-packages (from ultralytics) (6.0.2)\n",
      "Requirement already satisfied: requests>=2.23.0 in ./venv/lib/python3.12/site-packages (from ultralytics) (2.32.4)\n",
      "Requirement already satisfied: scipy>=1.4.1 in ./venv/lib/python3.12/site-packages (from ultralytics) (1.16.1)\n",
      "Requirement already satisfied: torch>=1.8.0 in ./venv/lib/python3.12/site-packages (from ultralytics) (2.7.1)\n",
      "Requirement already satisfied: torchvision>=0.9.0 in ./venv/lib/python3.12/site-packages (from ultralytics) (0.22.1)\n",
      "Requirement already satisfied: tqdm>=4.64.0 in ./venv/lib/python3.12/site-packages (from ultralytics) (4.67.1)\n",
      "Requirement already satisfied: psutil in ./venv/lib/python3.12/site-packages (from ultralytics) (7.0.0)\n",
      "Requirement already satisfied: py-cpuinfo in ./venv/lib/python3.12/site-packages (from ultralytics) (9.0.0)\n",
      "Requirement already satisfied: pandas>=1.1.4 in ./venv/lib/python3.12/site-packages (from ultralytics) (2.3.1)\n",
      "Requirement already satisfied: ultralytics-thop>=2.0.0 in ./venv/lib/python3.12/site-packages (from ultralytics) (2.0.15)\n",
      "Requirement already satisfied: contourpy>=1.0.1 in ./venv/lib/python3.12/site-packages (from matplotlib>=3.3.0->ultralytics) (1.3.3)\n",
      "Requirement already satisfied: cycler>=0.10 in ./venv/lib/python3.12/site-packages (from matplotlib>=3.3.0->ultralytics) (0.12.1)\n",
      "Requirement already satisfied: fonttools>=4.22.0 in ./venv/lib/python3.12/site-packages (from matplotlib>=3.3.0->ultralytics) (4.59.0)\n",
      "Requirement already satisfied: kiwisolver>=1.3.1 in ./venv/lib/python3.12/site-packages (from matplotlib>=3.3.0->ultralytics) (1.4.8)\n",
      "Requirement already satisfied: packaging>=20.0 in ./venv/lib/python3.12/site-packages (from matplotlib>=3.3.0->ultralytics) (25.0)\n",
      "Requirement already satisfied: pyparsing>=2.3.1 in ./venv/lib/python3.12/site-packages (from matplotlib>=3.3.0->ultralytics) (3.2.3)\n",
      "Requirement already satisfied: python-dateutil>=2.7 in ./venv/lib/python3.12/site-packages (from matplotlib>=3.3.0->ultralytics) (2.9.0.post0)\n",
      "Requirement already satisfied: pytz>=2020.1 in ./venv/lib/python3.12/site-packages (from pandas>=1.1.4->ultralytics) (2025.2)\n",
      "Requirement already satisfied: tzdata>=2022.7 in ./venv/lib/python3.12/site-packages (from pandas>=1.1.4->ultralytics) (2025.2)\n",
      "Requirement already satisfied: six>=1.5 in ./venv/lib/python3.12/site-packages (from python-dateutil>=2.7->matplotlib>=3.3.0->ultralytics) (1.17.0)\n",
      "Requirement already satisfied: charset_normalizer<4,>=2 in ./venv/lib/python3.12/site-packages (from requests>=2.23.0->ultralytics) (3.4.2)\n",
      "Requirement already satisfied: idna<4,>=2.5 in ./venv/lib/python3.12/site-packages (from requests>=2.23.0->ultralytics) (3.10)\n",
      "Requirement already satisfied: urllib3<3,>=1.21.1 in ./venv/lib/python3.12/site-packages (from requests>=2.23.0->ultralytics) (2.5.0)\n",
      "Requirement already satisfied: certifi>=2017.4.17 in ./venv/lib/python3.12/site-packages (from requests>=2.23.0->ultralytics) (2025.8.3)\n",
      "Requirement already satisfied: filelock in ./venv/lib/python3.12/site-packages (from torch>=1.8.0->ultralytics) (3.18.0)\n",
      "Requirement already satisfied: typing-extensions>=4.10.0 in ./venv/lib/python3.12/site-packages (from torch>=1.8.0->ultralytics) (4.14.1)\n",
      "Requirement already satisfied: setuptools in ./venv/lib/python3.12/site-packages (from torch>=1.8.0->ultralytics) (80.9.0)\n",
      "Requirement already satisfied: sympy>=1.13.3 in ./venv/lib/python3.12/site-packages (from torch>=1.8.0->ultralytics) (1.14.0)\n",
      "Requirement already satisfied: networkx in ./venv/lib/python3.12/site-packages (from torch>=1.8.0->ultralytics) (3.5)\n",
      "Requirement already satisfied: jinja2 in ./venv/lib/python3.12/site-packages (from torch>=1.8.0->ultralytics) (3.1.6)\n",
      "Requirement already satisfied: fsspec in ./venv/lib/python3.12/site-packages (from torch>=1.8.0->ultralytics) (2025.7.0)\n",
      "Requirement already satisfied: mpmath<1.4,>=1.1.0 in ./venv/lib/python3.12/site-packages (from sympy>=1.13.3->torch>=1.8.0->ultralytics) (1.3.0)\n",
      "Requirement already satisfied: MarkupSafe>=2.0 in ./venv/lib/python3.12/site-packages (from jinja2->torch>=1.8.0->ultralytics) (3.0.2)\n",
      "Requirement already satisfied: pandas in ./venv/lib/python3.12/site-packages (2.3.1)\n",
      "Requirement already satisfied: numpy>=1.26.0 in ./venv/lib/python3.12/site-packages (from pandas) (2.2.6)\n",
      "Requirement already satisfied: python-dateutil>=2.8.2 in ./venv/lib/python3.12/site-packages (from pandas) (2.9.0.post0)\n",
      "Requirement already satisfied: pytz>=2020.1 in ./venv/lib/python3.12/site-packages (from pandas) (2025.2)\n",
      "Requirement already satisfied: tzdata>=2022.7 in ./venv/lib/python3.12/site-packages (from pandas) (2025.2)\n",
      "Requirement already satisfied: six>=1.5 in ./venv/lib/python3.12/site-packages (from python-dateutil>=2.8.2->pandas) (1.17.0)\n"
     ]
    }
   ],
   "source": [
    "# to use virtual env\n",
    "# python3 -m venv venv\n",
    "# source venv/bin/activate\n",
    "\n",
    "!pip3 install --upgrade pip\n",
    "!pip3 install ultralytics opencv-python\n",
    "!pip3 install pandas\n"
   ]
  },
  {
   "cell_type": "code",
   "execution_count": null,
   "id": "a04189ed",
   "metadata": {},
   "outputs": [],
   "source": [
    "# download the dataset: https://www.kaggle.com/datasets/andrewmvd/car-plate-detection?resource=download\n",
    "# rename the folder: \"dataset\""
   ]
  },
  {
   "cell_type": "code",
   "execution_count": 2,
   "id": "2283c272",
   "metadata": {},
   "outputs": [],
   "source": [
    "import os\n",
    "import shutil\n",
    "import random\n",
    "import time\n",
    "import pandas as pd\n",
    "from ultralytics import YOLO\n",
    "import xml.etree.ElementTree as ET\n",
    "import torch\n"
   ]
  },
  {
   "cell_type": "code",
   "execution_count": 33,
   "id": "e4155ae3",
   "metadata": {},
   "outputs": [
    {
     "name": "stdout",
     "output_type": "stream",
     "text": [
      "Files split, grouped, and labels converted to YOLO TXT format\n"
     ]
    }
   ],
   "source": [
    "# process the annotations in YOLO text format\n",
    "# split the data into train 70%, val 20% and test 10%\n",
    "\n",
    "random.seed(42)\n",
    "\n",
    "image_dir = 'dataset/images'\n",
    "label_dir = 'dataset/annotations'\n",
    "\n",
    "out_base = 'dataset_split'\n",
    "\n",
    "def convert_xml_to_yolo(xml_path, txt_path):\n",
    "    tree = ET.parse(xml_path)\n",
    "    root = tree.getroot()\n",
    "\n",
    "    size = root.find('size')\n",
    "    width = float(size.find('width').text)\n",
    "    height = float(size.find('height').text)\n",
    "\n",
    "    lines = []\n",
    "    for obj in root.findall('object'):\n",
    "        class_id = 0 \n",
    "\n",
    "        bndbox = obj.find('bndbox')\n",
    "        xmin = float(bndbox.find('xmin').text)\n",
    "        ymin = float(bndbox.find('ymin').text)\n",
    "        xmax = float(bndbox.find('xmax').text)\n",
    "        ymax = float(bndbox.find('ymax').text)\n",
    "\n",
    "        x_center = ((xmin + xmax) / 2) / width\n",
    "        y_center = ((ymin + ymax) / 2) / height\n",
    "        w = (xmax - xmin) / width\n",
    "        h = (ymax - ymin) / height\n",
    "\n",
    "        lines.append(f\"{class_id} {x_center:.6f} {y_center:.6f} {w:.6f} {h:.6f}\")\n",
    "\n",
    "    with open(txt_path, 'w') as f:\n",
    "        f.write(\"\\n\".join(lines))\n",
    "\n",
    "image_files = [f for f in os.listdir(image_dir) if f.endswith('.png')]\n",
    "base_names = [os.path.splitext(f)[0] for f in image_files]\n",
    "\n",
    "random.shuffle(base_names)\n",
    "total = len(base_names)\n",
    "train_end = int(0.7 * total)\n",
    "val_end = int(0.9 * total)\n",
    "\n",
    "splits = {\n",
    "    'train': base_names[:train_end],\n",
    "    'val': base_names[train_end:val_end],\n",
    "    'test': base_names[val_end:]\n",
    "}\n",
    "\n",
    "for split in ['train', 'val', 'test']:\n",
    "    os.makedirs(f'{out_base}/images/{split}', exist_ok=True)\n",
    "    os.makedirs(f'{out_base}/labels/{split}', exist_ok=True)\n",
    "\n",
    "for split, names in splits.items():\n",
    "    for name in names:\n",
    "        img_src = os.path.join(image_dir, f'{name}.png')\n",
    "        lbl_src = os.path.join(label_dir, f'{name}.xml')\n",
    "\n",
    "        img_dst = os.path.join(out_base, 'images', split, f'{name}.png')\n",
    "        txt_dst = os.path.join(out_base, 'labels', split, f'{name}.txt')\n",
    "\n",
    "        if os.path.exists(img_src):\n",
    "            shutil.copy(img_src, img_dst)\n",
    "\n",
    "        if os.path.exists(lbl_src):\n",
    "            convert_xml_to_yolo(lbl_src, txt_dst)\n",
    "\n",
    "print(\"Files split, grouped, and labels converted to YOLO TXT format\")\n"
   ]
  },
  {
   "cell_type": "code",
   "execution_count": 34,
   "id": "34953ef3",
   "metadata": {},
   "outputs": [
    {
     "name": "stdout",
     "output_type": "stream",
     "text": [
      "Using device: cuda\n"
     ]
    }
   ],
   "source": [
    "if torch.backends.mps.is_available():\n",
    "    device = \"mps\"\n",
    "\n",
    "elif torch.cuda.is_available():        \n",
    "    device = \"cuda\"\n",
    "\n",
    "else:\n",
    "    device = \"cpu\"\n",
    "\n",
    "print(f\"Using device: {device}\")\n"
   ]
  },
  {
   "cell_type": "code",
   "execution_count": 35,
   "id": "080e50df",
   "metadata": {},
   "outputs": [
    {
     "ename": "KeyboardInterrupt",
     "evalue": "",
     "output_type": "error",
     "traceback": [
      "\u001b[1;31m---------------------------------------------------------------------------\u001b[0m",
      "\u001b[1;31mKeyboardInterrupt\u001b[0m                         Traceback (most recent call last)",
      "Cell \u001b[1;32mIn[35], line 5\u001b[0m\n\u001b[0;32m      2\u001b[0m data_yaml \u001b[38;5;241m=\u001b[39m \u001b[38;5;124m\"\u001b[39m\u001b[38;5;124mdataset_split/data.yaml\u001b[39m\u001b[38;5;124m\"\u001b[39m\n\u001b[0;32m      3\u001b[0m epochs \u001b[38;5;241m=\u001b[39m \u001b[38;5;241m5\u001b[39m\n\u001b[1;32m----> 5\u001b[0m results \u001b[38;5;241m=\u001b[39m []\n\u001b[0;32m      7\u001b[0m \u001b[38;5;28;01mfor\u001b[39;00m model_name \u001b[38;5;129;01min\u001b[39;00m models:\n\u001b[0;32m      8\u001b[0m     \u001b[38;5;28mprint\u001b[39m(\u001b[38;5;124mf\u001b[39m\u001b[38;5;124m\"\u001b[39m\u001b[38;5;130;01m\\n\u001b[39;00m\u001b[38;5;124mTraining \u001b[39m\u001b[38;5;132;01m{\u001b[39;00mmodel_name\u001b[38;5;132;01m}\u001b[39;00m\u001b[38;5;124m...\u001b[39m\u001b[38;5;124m\"\u001b[39m)\n",
      "\u001b[1;31mKeyboardInterrupt\u001b[0m: "
     ]
    }
   ],
   "source": [
    "models = [\"yolov8n.pt\", \"yolov8s.pt\", \"yolov8m.pt\"]\n",
    "data_yaml = \"dataset_split/data.yaml\"\n",
    "epochs = 5\n",
    "\n",
    "results = []\n",
    "\n",
    "for model_name in models:\n",
    "    print(f\"\\nTraining {model_name}...\")\n",
    "    model = YOLO(model_name)\n",
    "    \n",
    "    start_time = time.time()\n",
    "    metrics = model.train(data=data_yaml, epochs=epochs)\n",
    "    end_time = time.time()\n",
    "    train_time = round(end_time - start_time, 2)\n",
    "    \n",
    "    map50 = metrics.results_dict.get(\"metrics/mAP50(B)\", None)\n",
    "    recall = metrics.results_dict.get(\"metrics/recall(B)\", None)\n",
    "    precision = metrics.results_dict.get(\"metrics/precision(B)\", None)\n",
    "    f1 = metrics.results_dict.get(\"metrics/f1(B)\", None)\n",
    "    \n",
    "    results.append({\n",
    "        \"Model\": model_name,\n",
    "        \"Precision\": round(precision, 4) if precision else None,\n",
    "        \"Recall\": round(recall, 4) if recall else None,\n",
    "        \"F1 Score\": round(f1, 4) if f1 else None,\n",
    "        \"mAP50\": round(map50, 4) if map50 else None,\n",
    "        \"Training Time (s)\": train_time\n",
    "    })\n",
    "\n",
    "df = pd.DataFrame(results)\n",
    "df.to_csv(\"yolo_model_comparison.csv\", index=False)\n",
    "display(df)\n"
   ]
  },
  {
   "cell_type": "code",
   "execution_count": 39,
   "id": "df750a82",
   "metadata": {},
   "outputs": [
    {
     "name": "stdout",
     "output_type": "stream",
     "text": [
      "Ultralytics 8.3.174  Python-3.9.2 torch-2.5.1+cu121 CUDA:0 (NVIDIA GeForce RTX 3050 Laptop GPU, 4096MiB)\n",
      "\u001b[34m\u001b[1mengine\\trainer: \u001b[0magnostic_nms=False, amp=True, augment=False, auto_augment=randaugment, batch=8, bgr=0.0, box=7.5, cache=False, cfg=None, classes=None, close_mosaic=10, cls=0.5, conf=None, copy_paste=0.0, copy_paste_mode=flip, cos_lr=False, cutmix=0.0, data=dataset_split/data.yaml, degrees=0.0, deterministic=True, device=0, dfl=1.5, dnn=False, dropout=0.0, dynamic=False, embed=None, epochs=50, erasing=0.4, exist_ok=False, fliplr=0.5, flipud=0.0, format=torchscript, fraction=1.0, freeze=None, half=False, hsv_h=0.015, hsv_s=0.7, hsv_v=0.4, imgsz=640, int8=False, iou=0.7, keras=False, kobj=1.0, line_width=None, lr0=0.001, lrf=0.01, mask_ratio=4, max_det=300, mixup=0.0, mode=train, model=yolov8s.pt, momentum=0.937, mosaic=1.0, multi_scale=False, name=model_blur4, nbs=64, nms=False, opset=None, optimize=False, optimizer=auto, overlap_mask=True, patience=20, perspective=0.0, plots=True, pose=12.0, pretrained=True, profile=False, project=None, rect=False, resume=False, retina_masks=False, save=True, save_conf=False, save_crop=False, save_dir=runs\\detect\\model_blur4, save_frames=False, save_json=False, save_period=-1, save_txt=False, scale=0.5, seed=0, shear=0.0, show=False, show_boxes=True, show_conf=True, show_labels=True, simplify=True, single_cls=False, source=None, split=val, stream_buffer=False, task=detect, time=None, tracker=botsort.yaml, translate=0.1, val=True, verbose=True, vid_stride=1, visualize=False, warmup_bias_lr=0.1, warmup_epochs=3.0, warmup_momentum=0.8, weight_decay=0.0005, workers=2, workspace=None\n",
      "Overriding model.yaml nc=80 with nc=1\n",
      "\n",
      "                   from  n    params  module                                       arguments                     \n",
      "  0                  -1  1       928  ultralytics.nn.modules.conv.Conv             [3, 32, 3, 2]                 \n",
      "  1                  -1  1     18560  ultralytics.nn.modules.conv.Conv             [32, 64, 3, 2]                \n",
      "  2                  -1  1     29056  ultralytics.nn.modules.block.C2f             [64, 64, 1, True]             \n",
      "  3                  -1  1     73984  ultralytics.nn.modules.conv.Conv             [64, 128, 3, 2]               \n",
      "  4                  -1  2    197632  ultralytics.nn.modules.block.C2f             [128, 128, 2, True]           \n",
      "  5                  -1  1    295424  ultralytics.nn.modules.conv.Conv             [128, 256, 3, 2]              \n",
      "  6                  -1  2    788480  ultralytics.nn.modules.block.C2f             [256, 256, 2, True]           \n",
      "  7                  -1  1   1180672  ultralytics.nn.modules.conv.Conv             [256, 512, 3, 2]              \n",
      "  8                  -1  1   1838080  ultralytics.nn.modules.block.C2f             [512, 512, 1, True]           \n",
      "  9                  -1  1    656896  ultralytics.nn.modules.block.SPPF            [512, 512, 5]                 \n",
      " 10                  -1  1         0  torch.nn.modules.upsampling.Upsample         [None, 2, 'nearest']          \n",
      " 11             [-1, 6]  1         0  ultralytics.nn.modules.conv.Concat           [1]                           \n",
      " 12                  -1  1    591360  ultralytics.nn.modules.block.C2f             [768, 256, 1]                 \n",
      " 13                  -1  1         0  torch.nn.modules.upsampling.Upsample         [None, 2, 'nearest']          \n",
      " 14             [-1, 4]  1         0  ultralytics.nn.modules.conv.Concat           [1]                           \n",
      " 15                  -1  1    148224  ultralytics.nn.modules.block.C2f             [384, 128, 1]                 \n",
      " 16                  -1  1    147712  ultralytics.nn.modules.conv.Conv             [128, 128, 3, 2]              \n",
      " 17            [-1, 12]  1         0  ultralytics.nn.modules.conv.Concat           [1]                           \n",
      " 18                  -1  1    493056  ultralytics.nn.modules.block.C2f             [384, 256, 1]                 \n",
      " 19                  -1  1    590336  ultralytics.nn.modules.conv.Conv             [256, 256, 3, 2]              \n",
      " 20             [-1, 9]  1         0  ultralytics.nn.modules.conv.Concat           [1]                           \n",
      " 21                  -1  1   1969152  ultralytics.nn.modules.block.C2f             [768, 512, 1]                 \n",
      " 22        [15, 18, 21]  1   2116435  ultralytics.nn.modules.head.Detect           [1, [128, 256, 512]]          \n",
      "Model summary: 129 layers, 11,135,987 parameters, 11,135,971 gradients, 28.6 GFLOPs\n",
      "\n",
      "Transferred 349/355 items from pretrained weights\n",
      "Freezing layer 'model.22.dfl.conv.weight'\n",
      "\u001b[34m\u001b[1mAMP: \u001b[0mrunning Automatic Mixed Precision (AMP) checks...\n",
      "\u001b[34m\u001b[1mAMP: \u001b[0mchecks passed \n",
      "\u001b[34m\u001b[1mtrain: \u001b[0mFast image access  (ping: 0.10.0 ms, read: 150.9131.5 MB/s, size: 73.3 KB)\n"
     ]
    },
    {
     "name": "stderr",
     "output_type": "stream",
     "text": [
      "\u001b[34m\u001b[1mtrain: \u001b[0mScanning D:\\Term 2\\Deep_Learning_Project\\dl_project\\dataset_split\\labels\\train.cache... 1829 images, 0 backgrounds, 0 corrupt: 100%|██████████| 1829/1829 [00:00<?, ?it/s]"
     ]
    },
    {
     "name": "stdout",
     "output_type": "stream",
     "text": [
      "\u001b[34m\u001b[1mtrain: \u001b[0mD:\\Term 2\\Deep_Learning_Project\\dl_project\\dataset_split\\images\\train\\car-wbs-MH03AR5549_00000.jpg: corrupt JPEG restored and saved\n"
     ]
    },
    {
     "name": "stderr",
     "output_type": "stream",
     "text": [
      "\n"
     ]
    },
    {
     "name": "stdout",
     "output_type": "stream",
     "text": [
      "\u001b[34m\u001b[1mval: \u001b[0mFast image access  (ping: 0.10.0 ms, read: 408.5101.4 MB/s, size: 393.5 KB)\n"
     ]
    },
    {
     "name": "stderr",
     "output_type": "stream",
     "text": [
      "\u001b[34m\u001b[1mval: \u001b[0mScanning D:\\Term 2\\Deep_Learning_Project\\dl_project\\dataset_split\\labels\\val.cache... 255 images, 0 backgrounds, 0 corrupt: 100%|██████████| 255/255 [00:00<?, ?it/s]\n"
     ]
    },
    {
     "name": "stdout",
     "output_type": "stream",
     "text": [
      "Plotting labels to runs\\detect\\model_blur4\\labels.jpg... \n",
      "\u001b[34m\u001b[1moptimizer:\u001b[0m 'optimizer=auto' found, ignoring 'lr0=0.001' and 'momentum=0.937' and determining best 'optimizer', 'lr0' and 'momentum' automatically... \n",
      "\u001b[34m\u001b[1moptimizer:\u001b[0m AdamW(lr=0.002, momentum=0.9) with parameter groups 57 weight(decay=0.0), 64 weight(decay=0.0005), 63 bias(decay=0.0)\n",
      "Image sizes 640 train, 640 val\n",
      "Using 2 dataloader workers\n",
      "Logging results to \u001b[1mruns\\detect\\model_blur4\u001b[0m\n",
      "Starting training for 50 epochs...\n",
      "\n",
      "      Epoch    GPU_mem   box_loss   cls_loss   dfl_loss  Instances       Size\n"
     ]
    },
    {
     "name": "stderr",
     "output_type": "stream",
     "text": [
      "       1/50       6.7G      1.059      1.406      1.073         11        640: 100%|██████████| 229/229 [05:00<00:00,  1.31s/it]\n",
      "                 Class     Images  Instances      Box(P          R      mAP50  mAP50-95): 100%|██████████| 16/16 [00:08<00:00,  1.80it/s]"
     ]
    },
    {
     "name": "stdout",
     "output_type": "stream",
     "text": [
      "                   all        255        262      0.896      0.855      0.922      0.599\n"
     ]
    },
    {
     "name": "stderr",
     "output_type": "stream",
     "text": [
      "\n"
     ]
    },
    {
     "name": "stdout",
     "output_type": "stream",
     "text": [
      "\n",
      "      Epoch    GPU_mem   box_loss   cls_loss   dfl_loss  Instances       Size\n"
     ]
    },
    {
     "name": "stderr",
     "output_type": "stream",
     "text": [
      "       2/50      3.53G      1.097     0.8047      1.097          8        640: 100%|██████████| 229/229 [00:55<00:00,  4.16it/s]\n",
      "                 Class     Images  Instances      Box(P          R      mAP50  mAP50-95): 100%|██████████| 16/16 [00:03<00:00,  5.33it/s]"
     ]
    },
    {
     "name": "stdout",
     "output_type": "stream",
     "text": [
      "                   all        255        262      0.887      0.751      0.853      0.529\n"
     ]
    },
    {
     "name": "stderr",
     "output_type": "stream",
     "text": [
      "\n"
     ]
    },
    {
     "name": "stdout",
     "output_type": "stream",
     "text": [
      "\n",
      "      Epoch    GPU_mem   box_loss   cls_loss   dfl_loss  Instances       Size\n"
     ]
    },
    {
     "name": "stderr",
     "output_type": "stream",
     "text": [
      "       3/50      3.57G      1.082     0.7764      1.093          9        640: 100%|██████████| 229/229 [00:52<00:00,  4.40it/s]\n",
      "                 Class     Images  Instances      Box(P          R      mAP50  mAP50-95): 100%|██████████| 16/16 [00:02<00:00,  5.35it/s]"
     ]
    },
    {
     "name": "stdout",
     "output_type": "stream",
     "text": [
      "                   all        255        262       0.93      0.744      0.836      0.559\n"
     ]
    },
    {
     "name": "stderr",
     "output_type": "stream",
     "text": [
      "\n"
     ]
    },
    {
     "name": "stdout",
     "output_type": "stream",
     "text": [
      "\n",
      "      Epoch    GPU_mem   box_loss   cls_loss   dfl_loss  Instances       Size\n"
     ]
    },
    {
     "name": "stderr",
     "output_type": "stream",
     "text": [
      "       4/50      3.48G       1.04      0.756      1.063          8        640: 100%|██████████| 229/229 [00:51<00:00,  4.41it/s]\n",
      "                 Class     Images  Instances      Box(P          R      mAP50  mAP50-95): 100%|██████████| 16/16 [00:03<00:00,  5.31it/s]"
     ]
    },
    {
     "name": "stdout",
     "output_type": "stream",
     "text": [
      "                   all        255        262      0.957      0.924      0.966      0.681\n"
     ]
    },
    {
     "name": "stderr",
     "output_type": "stream",
     "text": [
      "\n"
     ]
    },
    {
     "name": "stdout",
     "output_type": "stream",
     "text": [
      "\n",
      "      Epoch    GPU_mem   box_loss   cls_loss   dfl_loss  Instances       Size\n"
     ]
    },
    {
     "name": "stderr",
     "output_type": "stream",
     "text": [
      "       5/50      3.56G      1.034     0.6867      1.067         10        640: 100%|██████████| 229/229 [01:01<00:00,  3.71it/s]\n",
      "                 Class     Images  Instances      Box(P          R      mAP50  mAP50-95): 100%|██████████| 16/16 [00:03<00:00,  4.46it/s]\n"
     ]
    },
    {
     "name": "stdout",
     "output_type": "stream",
     "text": [
      "                   all        255        262      0.918      0.856      0.946      0.668\n",
      "\n",
      "      Epoch    GPU_mem   box_loss   cls_loss   dfl_loss  Instances       Size\n"
     ]
    },
    {
     "name": "stderr",
     "output_type": "stream",
     "text": [
      "       6/50      3.54G     0.9984     0.6734      1.054         10        640: 100%|██████████| 229/229 [01:00<00:00,  3.80it/s]\n",
      "                 Class     Images  Instances      Box(P          R      mAP50  mAP50-95): 100%|██████████| 16/16 [00:02<00:00,  5.71it/s]"
     ]
    },
    {
     "name": "stdout",
     "output_type": "stream",
     "text": [
      "                   all        255        262      0.921      0.895      0.942      0.642\n"
     ]
    },
    {
     "name": "stderr",
     "output_type": "stream",
     "text": [
      "\n"
     ]
    },
    {
     "name": "stdout",
     "output_type": "stream",
     "text": [
      "\n",
      "      Epoch    GPU_mem   box_loss   cls_loss   dfl_loss  Instances       Size\n"
     ]
    },
    {
     "name": "stderr",
     "output_type": "stream",
     "text": [
      "       7/50      3.49G     0.9758     0.6314      1.043          9        640: 100%|██████████| 229/229 [00:55<00:00,  4.11it/s]\n",
      "                 Class     Images  Instances      Box(P          R      mAP50  mAP50-95): 100%|██████████| 16/16 [00:03<00:00,  4.88it/s]"
     ]
    },
    {
     "name": "stdout",
     "output_type": "stream",
     "text": [
      "                   all        255        262      0.971      0.898      0.957      0.663\n"
     ]
    },
    {
     "name": "stderr",
     "output_type": "stream",
     "text": [
      "\n"
     ]
    },
    {
     "name": "stdout",
     "output_type": "stream",
     "text": [
      "\n",
      "      Epoch    GPU_mem   box_loss   cls_loss   dfl_loss  Instances       Size\n"
     ]
    },
    {
     "name": "stderr",
     "output_type": "stream",
     "text": [
      "       8/50      3.48G     0.9518     0.6261      1.037          9        640: 100%|██████████| 229/229 [01:32<00:00,  2.47it/s]\n",
      "                 Class     Images  Instances      Box(P          R      mAP50  mAP50-95): 100%|██████████| 16/16 [00:06<00:00,  2.50it/s]"
     ]
    },
    {
     "name": "stdout",
     "output_type": "stream",
     "text": [
      "                   all        255        262      0.979      0.906      0.966      0.733\n"
     ]
    },
    {
     "name": "stderr",
     "output_type": "stream",
     "text": [
      "\n"
     ]
    },
    {
     "name": "stdout",
     "output_type": "stream",
     "text": [
      "\n",
      "      Epoch    GPU_mem   box_loss   cls_loss   dfl_loss  Instances       Size\n"
     ]
    },
    {
     "name": "stderr",
     "output_type": "stream",
     "text": [
      "       9/50      3.56G     0.9319     0.5996      1.026         10        640: 100%|██████████| 229/229 [02:54<00:00,  1.31it/s]\n",
      "                 Class     Images  Instances      Box(P          R      mAP50  mAP50-95): 100%|██████████| 16/16 [00:07<00:00,  2.22it/s]"
     ]
    },
    {
     "name": "stdout",
     "output_type": "stream",
     "text": [
      "                   all        255        262      0.945      0.885      0.968      0.699\n"
     ]
    },
    {
     "name": "stderr",
     "output_type": "stream",
     "text": [
      "\n"
     ]
    },
    {
     "name": "stdout",
     "output_type": "stream",
     "text": [
      "\n",
      "      Epoch    GPU_mem   box_loss   cls_loss   dfl_loss  Instances       Size\n"
     ]
    },
    {
     "name": "stderr",
     "output_type": "stream",
     "text": [
      "      10/50      3.54G      0.918     0.5888      1.022          8        640: 100%|██████████| 229/229 [02:12<00:00,  1.73it/s]\n",
      "                 Class     Images  Instances      Box(P          R      mAP50  mAP50-95): 100%|██████████| 16/16 [00:03<00:00,  4.52it/s]"
     ]
    },
    {
     "name": "stdout",
     "output_type": "stream",
     "text": [
      "                   all        255        262      0.948      0.954      0.986      0.735\n"
     ]
    },
    {
     "name": "stderr",
     "output_type": "stream",
     "text": [
      "\n"
     ]
    },
    {
     "name": "stdout",
     "output_type": "stream",
     "text": [
      "\n",
      "      Epoch    GPU_mem   box_loss   cls_loss   dfl_loss  Instances       Size\n"
     ]
    },
    {
     "name": "stderr",
     "output_type": "stream",
     "text": [
      "      11/50      3.56G     0.8975     0.5613      1.012          7        640: 100%|██████████| 229/229 [00:51<00:00,  4.43it/s]\n",
      "                 Class     Images  Instances      Box(P          R      mAP50  mAP50-95): 100%|██████████| 16/16 [00:02<00:00,  5.68it/s]"
     ]
    },
    {
     "name": "stdout",
     "output_type": "stream",
     "text": [
      "                   all        255        262       0.98      0.931      0.962      0.721\n"
     ]
    },
    {
     "name": "stderr",
     "output_type": "stream",
     "text": [
      "\n"
     ]
    },
    {
     "name": "stdout",
     "output_type": "stream",
     "text": [
      "\n",
      "      Epoch    GPU_mem   box_loss   cls_loss   dfl_loss  Instances       Size\n"
     ]
    },
    {
     "name": "stderr",
     "output_type": "stream",
     "text": [
      "      12/50      3.56G     0.8871     0.5591      1.014         10        640: 100%|██████████| 229/229 [00:52<00:00,  4.35it/s]\n",
      "                 Class     Images  Instances      Box(P          R      mAP50  mAP50-95): 100%|██████████| 16/16 [00:02<00:00,  5.68it/s]"
     ]
    },
    {
     "name": "stdout",
     "output_type": "stream",
     "text": [
      "                   all        255        262      0.974      0.916      0.976      0.718\n"
     ]
    },
    {
     "name": "stderr",
     "output_type": "stream",
     "text": [
      "\n"
     ]
    },
    {
     "name": "stdout",
     "output_type": "stream",
     "text": [
      "\n",
      "      Epoch    GPU_mem   box_loss   cls_loss   dfl_loss  Instances       Size\n"
     ]
    },
    {
     "name": "stderr",
     "output_type": "stream",
     "text": [
      "      13/50      3.49G      0.873     0.5461     0.9916         14        640: 100%|██████████| 229/229 [00:53<00:00,  4.29it/s]\n",
      "                 Class     Images  Instances      Box(P          R      mAP50  mAP50-95): 100%|██████████| 16/16 [00:03<00:00,  5.17it/s]"
     ]
    },
    {
     "name": "stdout",
     "output_type": "stream",
     "text": [
      "                   all        255        262      0.965      0.943      0.975      0.753\n"
     ]
    },
    {
     "name": "stderr",
     "output_type": "stream",
     "text": [
      "\n"
     ]
    },
    {
     "name": "stdout",
     "output_type": "stream",
     "text": [
      "\n",
      "      Epoch    GPU_mem   box_loss   cls_loss   dfl_loss  Instances       Size\n"
     ]
    },
    {
     "name": "stderr",
     "output_type": "stream",
     "text": [
      "      14/50      3.54G     0.8774     0.5491      1.007          6        640: 100%|██████████| 229/229 [00:53<00:00,  4.26it/s]\n",
      "                 Class     Images  Instances      Box(P          R      mAP50  mAP50-95): 100%|██████████| 16/16 [00:03<00:00,  5.16it/s]\n"
     ]
    },
    {
     "name": "stdout",
     "output_type": "stream",
     "text": [
      "                   all        255        262      0.956      0.922      0.972      0.742\n",
      "\n",
      "      Epoch    GPU_mem   box_loss   cls_loss   dfl_loss  Instances       Size\n"
     ]
    },
    {
     "name": "stderr",
     "output_type": "stream",
     "text": [
      "      15/50      3.49G     0.8844     0.5546      1.006          8        640: 100%|██████████| 229/229 [00:53<00:00,  4.28it/s]\n",
      "                 Class     Images  Instances      Box(P          R      mAP50  mAP50-95): 100%|██████████| 16/16 [00:03<00:00,  5.10it/s]"
     ]
    },
    {
     "name": "stdout",
     "output_type": "stream",
     "text": [
      "                   all        255        262      0.975      0.943      0.976      0.721\n"
     ]
    },
    {
     "name": "stderr",
     "output_type": "stream",
     "text": [
      "\n"
     ]
    },
    {
     "name": "stdout",
     "output_type": "stream",
     "text": [
      "\n",
      "      Epoch    GPU_mem   box_loss   cls_loss   dfl_loss  Instances       Size\n"
     ]
    },
    {
     "name": "stderr",
     "output_type": "stream",
     "text": [
      "      16/50      3.48G     0.8406     0.5232     0.9871          8        640: 100%|██████████| 229/229 [00:53<00:00,  4.30it/s]\n",
      "                 Class     Images  Instances      Box(P          R      mAP50  mAP50-95): 100%|██████████| 16/16 [00:03<00:00,  5.19it/s]"
     ]
    },
    {
     "name": "stdout",
     "output_type": "stream",
     "text": [
      "                   all        255        262      0.956      0.923      0.976      0.734\n"
     ]
    },
    {
     "name": "stderr",
     "output_type": "stream",
     "text": [
      "\n"
     ]
    },
    {
     "name": "stdout",
     "output_type": "stream",
     "text": [
      "\n",
      "      Epoch    GPU_mem   box_loss   cls_loss   dfl_loss  Instances       Size\n"
     ]
    },
    {
     "name": "stderr",
     "output_type": "stream",
     "text": [
      "      17/50      3.48G      0.834     0.5133     0.9895          7        640: 100%|██████████| 229/229 [00:52<00:00,  4.33it/s]\n",
      "                 Class     Images  Instances      Box(P          R      mAP50  mAP50-95): 100%|██████████| 16/16 [00:03<00:00,  5.26it/s]\n"
     ]
    },
    {
     "name": "stdout",
     "output_type": "stream",
     "text": [
      "                   all        255        262      0.954       0.94      0.979      0.748\n",
      "\n",
      "      Epoch    GPU_mem   box_loss   cls_loss   dfl_loss  Instances       Size\n"
     ]
    },
    {
     "name": "stderr",
     "output_type": "stream",
     "text": [
      "      18/50      3.52G     0.8153     0.4826     0.9765         11        640: 100%|██████████| 229/229 [00:52<00:00,  4.36it/s]\n",
      "                 Class     Images  Instances      Box(P          R      mAP50  mAP50-95): 100%|██████████| 16/16 [00:03<00:00,  5.32it/s]"
     ]
    },
    {
     "name": "stdout",
     "output_type": "stream",
     "text": [
      "                   all        255        262      0.963      0.954      0.983      0.746\n"
     ]
    },
    {
     "name": "stderr",
     "output_type": "stream",
     "text": [
      "\n"
     ]
    },
    {
     "name": "stdout",
     "output_type": "stream",
     "text": [
      "\n",
      "      Epoch    GPU_mem   box_loss   cls_loss   dfl_loss  Instances       Size\n"
     ]
    },
    {
     "name": "stderr",
     "output_type": "stream",
     "text": [
      "      19/50       3.5G     0.8278     0.4866     0.9906         10        640: 100%|██████████| 229/229 [00:52<00:00,  4.35it/s]\n",
      "                 Class     Images  Instances      Box(P          R      mAP50  mAP50-95): 100%|██████████| 16/16 [00:03<00:00,  5.29it/s]"
     ]
    },
    {
     "name": "stdout",
     "output_type": "stream",
     "text": [
      "                   all        255        262      0.954      0.945      0.982      0.749\n"
     ]
    },
    {
     "name": "stderr",
     "output_type": "stream",
     "text": [
      "\n"
     ]
    },
    {
     "name": "stdout",
     "output_type": "stream",
     "text": [
      "\n",
      "      Epoch    GPU_mem   box_loss   cls_loss   dfl_loss  Instances       Size\n"
     ]
    },
    {
     "name": "stderr",
     "output_type": "stream",
     "text": [
      "      20/50      3.48G     0.8265     0.4876     0.9803         12        640: 100%|██████████| 229/229 [00:52<00:00,  4.36it/s]\n",
      "                 Class     Images  Instances      Box(P          R      mAP50  mAP50-95): 100%|██████████| 16/16 [00:03<00:00,  5.12it/s]"
     ]
    },
    {
     "name": "stdout",
     "output_type": "stream",
     "text": [
      "                   all        255        262      0.969      0.939      0.979      0.743\n"
     ]
    },
    {
     "name": "stderr",
     "output_type": "stream",
     "text": [
      "\n"
     ]
    },
    {
     "name": "stdout",
     "output_type": "stream",
     "text": [
      "\n",
      "      Epoch    GPU_mem   box_loss   cls_loss   dfl_loss  Instances       Size\n"
     ]
    },
    {
     "name": "stderr",
     "output_type": "stream",
     "text": [
      "      21/50      3.48G     0.8137     0.4848     0.9701         10        640: 100%|██████████| 229/229 [00:56<00:00,  4.03it/s]\n",
      "                 Class     Images  Instances      Box(P          R      mAP50  mAP50-95): 100%|██████████| 16/16 [00:03<00:00,  4.77it/s]"
     ]
    },
    {
     "name": "stdout",
     "output_type": "stream",
     "text": [
      "                   all        255        262      0.963      0.939      0.976      0.761\n"
     ]
    },
    {
     "name": "stderr",
     "output_type": "stream",
     "text": [
      "\n"
     ]
    },
    {
     "name": "stdout",
     "output_type": "stream",
     "text": [
      "\n",
      "      Epoch    GPU_mem   box_loss   cls_loss   dfl_loss  Instances       Size\n"
     ]
    },
    {
     "name": "stderr",
     "output_type": "stream",
     "text": [
      "      22/50      3.54G     0.8081     0.4864     0.9771          6        640: 100%|██████████| 229/229 [00:55<00:00,  4.16it/s]\n",
      "                 Class     Images  Instances      Box(P          R      mAP50  mAP50-95): 100%|██████████| 16/16 [00:03<00:00,  5.09it/s]"
     ]
    },
    {
     "name": "stdout",
     "output_type": "stream",
     "text": [
      "                   all        255        262      0.961       0.93      0.979      0.739\n"
     ]
    },
    {
     "name": "stderr",
     "output_type": "stream",
     "text": [
      "\n"
     ]
    },
    {
     "name": "stdout",
     "output_type": "stream",
     "text": [
      "\n",
      "      Epoch    GPU_mem   box_loss   cls_loss   dfl_loss  Instances       Size\n"
     ]
    },
    {
     "name": "stderr",
     "output_type": "stream",
     "text": [
      "      23/50      3.49G     0.8053     0.4744     0.9844         14        640: 100%|██████████| 229/229 [00:53<00:00,  4.25it/s]\n",
      "                 Class     Images  Instances      Box(P          R      mAP50  mAP50-95): 100%|██████████| 16/16 [00:03<00:00,  5.16it/s]"
     ]
    },
    {
     "name": "stdout",
     "output_type": "stream",
     "text": [
      "                   all        255        262      0.969      0.941      0.979      0.751\n"
     ]
    },
    {
     "name": "stderr",
     "output_type": "stream",
     "text": [
      "\n"
     ]
    },
    {
     "name": "stdout",
     "output_type": "stream",
     "text": [
      "\n",
      "      Epoch    GPU_mem   box_loss   cls_loss   dfl_loss  Instances       Size\n"
     ]
    },
    {
     "name": "stderr",
     "output_type": "stream",
     "text": [
      "      24/50      3.49G     0.7956     0.4619     0.9692         10        640: 100%|██████████| 229/229 [00:54<00:00,  4.23it/s]\n",
      "                 Class     Images  Instances      Box(P          R      mAP50  mAP50-95): 100%|██████████| 16/16 [00:03<00:00,  5.12it/s]"
     ]
    },
    {
     "name": "stdout",
     "output_type": "stream",
     "text": [
      "                   all        255        262      0.987      0.935      0.982      0.753\n"
     ]
    },
    {
     "name": "stderr",
     "output_type": "stream",
     "text": [
      "\n"
     ]
    },
    {
     "name": "stdout",
     "output_type": "stream",
     "text": [
      "\n",
      "      Epoch    GPU_mem   box_loss   cls_loss   dfl_loss  Instances       Size\n"
     ]
    },
    {
     "name": "stderr",
     "output_type": "stream",
     "text": [
      "      25/50      3.48G     0.7923     0.4549     0.9712          6        640: 100%|██████████| 229/229 [00:53<00:00,  4.24it/s]\n",
      "                 Class     Images  Instances      Box(P          R      mAP50  mAP50-95): 100%|██████████| 16/16 [00:03<00:00,  5.24it/s]"
     ]
    },
    {
     "name": "stdout",
     "output_type": "stream",
     "text": [
      "                   all        255        262      0.954      0.954      0.976      0.768\n"
     ]
    },
    {
     "name": "stderr",
     "output_type": "stream",
     "text": [
      "\n"
     ]
    },
    {
     "name": "stdout",
     "output_type": "stream",
     "text": [
      "\n",
      "      Epoch    GPU_mem   box_loss   cls_loss   dfl_loss  Instances       Size\n"
     ]
    },
    {
     "name": "stderr",
     "output_type": "stream",
     "text": [
      "      26/50      3.46G     0.7761     0.4377     0.9668         10        640: 100%|██████████| 229/229 [00:55<00:00,  4.10it/s]\n",
      "                 Class     Images  Instances      Box(P          R      mAP50  mAP50-95): 100%|██████████| 16/16 [00:03<00:00,  5.09it/s]\n"
     ]
    },
    {
     "name": "stdout",
     "output_type": "stream",
     "text": [
      "                   all        255        262      0.984      0.945      0.979      0.761\n",
      "\n",
      "      Epoch    GPU_mem   box_loss   cls_loss   dfl_loss  Instances       Size\n"
     ]
    },
    {
     "name": "stderr",
     "output_type": "stream",
     "text": [
      "      27/50      3.57G     0.7831     0.4568     0.9572          7        640: 100%|██████████| 229/229 [00:52<00:00,  4.32it/s]\n",
      "                 Class     Images  Instances      Box(P          R      mAP50  mAP50-95): 100%|██████████| 16/16 [00:03<00:00,  4.99it/s]\n"
     ]
    },
    {
     "name": "stdout",
     "output_type": "stream",
     "text": [
      "                   all        255        262      0.962      0.956      0.988      0.764\n",
      "\n",
      "      Epoch    GPU_mem   box_loss   cls_loss   dfl_loss  Instances       Size\n"
     ]
    },
    {
     "name": "stderr",
     "output_type": "stream",
     "text": [
      "      28/50      3.56G     0.7549     0.4261     0.9502         12        640: 100%|██████████| 229/229 [01:11<00:00,  3.21it/s]\n",
      "                 Class     Images  Instances      Box(P          R      mAP50  mAP50-95): 100%|██████████| 16/16 [00:03<00:00,  4.96it/s]"
     ]
    },
    {
     "name": "stdout",
     "output_type": "stream",
     "text": [
      "                   all        255        262      0.969      0.954      0.985      0.753\n"
     ]
    },
    {
     "name": "stderr",
     "output_type": "stream",
     "text": [
      "\n"
     ]
    },
    {
     "name": "stdout",
     "output_type": "stream",
     "text": [
      "\n",
      "      Epoch    GPU_mem   box_loss   cls_loss   dfl_loss  Instances       Size\n"
     ]
    },
    {
     "name": "stderr",
     "output_type": "stream",
     "text": [
      "      29/50      3.48G      0.759     0.4251     0.9527          8        640: 100%|██████████| 229/229 [00:55<00:00,  4.11it/s]\n",
      "                 Class     Images  Instances      Box(P          R      mAP50  mAP50-95): 100%|██████████| 16/16 [00:03<00:00,  5.19it/s]"
     ]
    },
    {
     "name": "stdout",
     "output_type": "stream",
     "text": [
      "                   all        255        262      0.981      0.962      0.984      0.773\n"
     ]
    },
    {
     "name": "stderr",
     "output_type": "stream",
     "text": [
      "\n"
     ]
    },
    {
     "name": "stdout",
     "output_type": "stream",
     "text": [
      "\n",
      "      Epoch    GPU_mem   box_loss   cls_loss   dfl_loss  Instances       Size\n"
     ]
    },
    {
     "name": "stderr",
     "output_type": "stream",
     "text": [
      "      30/50      3.54G     0.7638     0.4284     0.9499         11        640: 100%|██████████| 229/229 [00:56<00:00,  4.08it/s]\n",
      "                 Class     Images  Instances      Box(P          R      mAP50  mAP50-95): 100%|██████████| 16/16 [00:04<00:00,  3.75it/s]"
     ]
    },
    {
     "name": "stdout",
     "output_type": "stream",
     "text": [
      "                   all        255        262      0.976      0.922      0.982      0.771\n"
     ]
    },
    {
     "name": "stderr",
     "output_type": "stream",
     "text": [
      "\n"
     ]
    },
    {
     "name": "stdout",
     "output_type": "stream",
     "text": [
      "\n",
      "      Epoch    GPU_mem   box_loss   cls_loss   dfl_loss  Instances       Size\n"
     ]
    },
    {
     "name": "stderr",
     "output_type": "stream",
     "text": [
      "      31/50      3.49G     0.7455     0.4205     0.9462         10        640: 100%|██████████| 229/229 [00:58<00:00,  3.90it/s]\n",
      "                 Class     Images  Instances      Box(P          R      mAP50  mAP50-95): 100%|██████████| 16/16 [00:04<00:00,  3.72it/s]"
     ]
    },
    {
     "name": "stdout",
     "output_type": "stream",
     "text": [
      "                   all        255        262      0.971      0.958      0.983      0.759\n"
     ]
    },
    {
     "name": "stderr",
     "output_type": "stream",
     "text": [
      "\n"
     ]
    },
    {
     "name": "stdout",
     "output_type": "stream",
     "text": [
      "\n",
      "      Epoch    GPU_mem   box_loss   cls_loss   dfl_loss  Instances       Size\n"
     ]
    },
    {
     "name": "stderr",
     "output_type": "stream",
     "text": [
      "      32/50      3.48G     0.7628     0.4167     0.9624         11        640: 100%|██████████| 229/229 [02:17<00:00,  1.67it/s]\n",
      "                 Class     Images  Instances      Box(P          R      mAP50  mAP50-95): 100%|██████████| 16/16 [00:05<00:00,  3.11it/s]"
     ]
    },
    {
     "name": "stdout",
     "output_type": "stream",
     "text": [
      "                   all        255        262      0.984      0.951      0.984      0.774\n"
     ]
    },
    {
     "name": "stderr",
     "output_type": "stream",
     "text": [
      "\n"
     ]
    },
    {
     "name": "stdout",
     "output_type": "stream",
     "text": [
      "\n",
      "      Epoch    GPU_mem   box_loss   cls_loss   dfl_loss  Instances       Size\n"
     ]
    },
    {
     "name": "stderr",
     "output_type": "stream",
     "text": [
      "      33/50      3.53G     0.7463     0.4104     0.9566          6        640: 100%|██████████| 229/229 [02:41<00:00,  1.42it/s]\n",
      "                 Class     Images  Instances      Box(P          R      mAP50  mAP50-95): 100%|██████████| 16/16 [00:08<00:00,  1.86it/s]"
     ]
    },
    {
     "name": "stdout",
     "output_type": "stream",
     "text": [
      "                   all        255        262      0.978      0.954      0.984      0.763\n"
     ]
    },
    {
     "name": "stderr",
     "output_type": "stream",
     "text": [
      "\n"
     ]
    },
    {
     "name": "stdout",
     "output_type": "stream",
     "text": [
      "\n",
      "      Epoch    GPU_mem   box_loss   cls_loss   dfl_loss  Instances       Size\n"
     ]
    },
    {
     "name": "stderr",
     "output_type": "stream",
     "text": [
      "      34/50      3.47G     0.7394     0.4003     0.9482         14        640: 100%|██████████| 229/229 [02:35<00:00,  1.47it/s]\n",
      "                 Class     Images  Instances      Box(P          R      mAP50  mAP50-95): 100%|██████████| 16/16 [00:07<00:00,  2.09it/s]"
     ]
    },
    {
     "name": "stdout",
     "output_type": "stream",
     "text": [
      "                   all        255        262      0.976      0.954      0.986      0.778\n"
     ]
    },
    {
     "name": "stderr",
     "output_type": "stream",
     "text": [
      "\n"
     ]
    },
    {
     "name": "stdout",
     "output_type": "stream",
     "text": [
      "\n",
      "      Epoch    GPU_mem   box_loss   cls_loss   dfl_loss  Instances       Size\n"
     ]
    },
    {
     "name": "stderr",
     "output_type": "stream",
     "text": [
      "      35/50       3.5G      0.741     0.4034     0.9564          6        640: 100%|██████████| 229/229 [01:24<00:00,  2.72it/s]\n",
      "                 Class     Images  Instances      Box(P          R      mAP50  mAP50-95): 100%|██████████| 16/16 [00:07<00:00,  2.27it/s]"
     ]
    },
    {
     "name": "stdout",
     "output_type": "stream",
     "text": [
      "                   all        255        262      0.959      0.962      0.985       0.78\n"
     ]
    },
    {
     "name": "stderr",
     "output_type": "stream",
     "text": [
      "\n"
     ]
    },
    {
     "name": "stdout",
     "output_type": "stream",
     "text": [
      "\n",
      "      Epoch    GPU_mem   box_loss   cls_loss   dfl_loss  Instances       Size\n"
     ]
    },
    {
     "name": "stderr",
     "output_type": "stream",
     "text": [
      "      36/50      3.53G     0.7413     0.4092     0.9516          9        640: 100%|██████████| 229/229 [02:39<00:00,  1.43it/s]\n",
      "                 Class     Images  Instances      Box(P          R      mAP50  mAP50-95): 100%|██████████| 16/16 [00:07<00:00,  2.06it/s]"
     ]
    },
    {
     "name": "stdout",
     "output_type": "stream",
     "text": [
      "                   all        255        262      0.977      0.953      0.984      0.774\n"
     ]
    },
    {
     "name": "stderr",
     "output_type": "stream",
     "text": [
      "\n"
     ]
    },
    {
     "name": "stdout",
     "output_type": "stream",
     "text": [
      "\n",
      "      Epoch    GPU_mem   box_loss   cls_loss   dfl_loss  Instances       Size\n"
     ]
    },
    {
     "name": "stderr",
     "output_type": "stream",
     "text": [
      "      37/50      3.48G     0.7438     0.4031      0.947          8        640: 100%|██████████| 229/229 [01:22<00:00,  2.76it/s]\n",
      "                 Class     Images  Instances      Box(P          R      mAP50  mAP50-95): 100%|██████████| 16/16 [00:03<00:00,  4.85it/s]"
     ]
    },
    {
     "name": "stdout",
     "output_type": "stream",
     "text": [
      "                   all        255        262      0.978      0.962      0.984      0.777\n"
     ]
    },
    {
     "name": "stderr",
     "output_type": "stream",
     "text": [
      "\n"
     ]
    },
    {
     "name": "stdout",
     "output_type": "stream",
     "text": [
      "\n",
      "      Epoch    GPU_mem   box_loss   cls_loss   dfl_loss  Instances       Size\n"
     ]
    },
    {
     "name": "stderr",
     "output_type": "stream",
     "text": [
      "      38/50      3.54G     0.7182     0.3864     0.9479          5        640: 100%|██████████| 229/229 [00:50<00:00,  4.50it/s]\n",
      "                 Class     Images  Instances      Box(P          R      mAP50  mAP50-95): 100%|██████████| 16/16 [00:02<00:00,  6.02it/s]"
     ]
    },
    {
     "name": "stdout",
     "output_type": "stream",
     "text": [
      "                   all        255        262      0.964      0.947      0.975      0.764\n"
     ]
    },
    {
     "name": "stderr",
     "output_type": "stream",
     "text": [
      "\n"
     ]
    },
    {
     "name": "stdout",
     "output_type": "stream",
     "text": [
      "\n",
      "      Epoch    GPU_mem   box_loss   cls_loss   dfl_loss  Instances       Size\n"
     ]
    },
    {
     "name": "stderr",
     "output_type": "stream",
     "text": [
      "      39/50      3.49G     0.7149     0.3859     0.9359         11        640: 100%|██████████| 229/229 [00:51<00:00,  4.45it/s]\n",
      "                 Class     Images  Instances      Box(P          R      mAP50  mAP50-95): 100%|██████████| 16/16 [00:02<00:00,  5.75it/s]"
     ]
    },
    {
     "name": "stdout",
     "output_type": "stream",
     "text": [
      "                   all        255        262      0.964      0.962      0.984      0.777\n"
     ]
    },
    {
     "name": "stderr",
     "output_type": "stream",
     "text": [
      "\n"
     ]
    },
    {
     "name": "stdout",
     "output_type": "stream",
     "text": [
      "\n",
      "      Epoch    GPU_mem   box_loss   cls_loss   dfl_loss  Instances       Size\n"
     ]
    },
    {
     "name": "stderr",
     "output_type": "stream",
     "text": [
      "      40/50      3.49G        0.7     0.3846     0.9333         15        640: 100%|██████████| 229/229 [00:51<00:00,  4.46it/s]\n",
      "                 Class     Images  Instances      Box(P          R      mAP50  mAP50-95): 100%|██████████| 16/16 [00:02<00:00,  5.76it/s]"
     ]
    },
    {
     "name": "stdout",
     "output_type": "stream",
     "text": [
      "                   all        255        262       0.98      0.931      0.982      0.782\n"
     ]
    },
    {
     "name": "stderr",
     "output_type": "stream",
     "text": [
      "\n"
     ]
    },
    {
     "name": "stdout",
     "output_type": "stream",
     "text": [
      "Closing dataloader mosaic\n",
      "\n",
      "      Epoch    GPU_mem   box_loss   cls_loss   dfl_loss  Instances       Size\n"
     ]
    },
    {
     "name": "stderr",
     "output_type": "stream",
     "text": [
      "      41/50      3.56G     0.6875     0.3505     0.9139          8        640: 100%|██████████| 229/229 [00:50<00:00,  4.51it/s]\n",
      "                 Class     Images  Instances      Box(P          R      mAP50  mAP50-95): 100%|██████████| 16/16 [00:02<00:00,  5.96it/s]"
     ]
    },
    {
     "name": "stdout",
     "output_type": "stream",
     "text": [
      "                   all        255        262      0.958       0.97      0.985      0.782\n"
     ]
    },
    {
     "name": "stderr",
     "output_type": "stream",
     "text": [
      "\n"
     ]
    },
    {
     "name": "stdout",
     "output_type": "stream",
     "text": [
      "\n",
      "      Epoch    GPU_mem   box_loss   cls_loss   dfl_loss  Instances       Size\n"
     ]
    },
    {
     "name": "stderr",
     "output_type": "stream",
     "text": [
      "      42/50      3.54G      0.674     0.3402     0.9123          5        640: 100%|██████████| 229/229 [00:52<00:00,  4.40it/s]\n",
      "                 Class     Images  Instances      Box(P          R      mAP50  mAP50-95): 100%|██████████| 16/16 [00:02<00:00,  5.68it/s]"
     ]
    },
    {
     "name": "stdout",
     "output_type": "stream",
     "text": [
      "                   all        255        262      0.988      0.944      0.984      0.782\n"
     ]
    },
    {
     "name": "stderr",
     "output_type": "stream",
     "text": [
      "\n"
     ]
    },
    {
     "name": "stdout",
     "output_type": "stream",
     "text": [
      "\n",
      "      Epoch    GPU_mem   box_loss   cls_loss   dfl_loss  Instances       Size\n"
     ]
    },
    {
     "name": "stderr",
     "output_type": "stream",
     "text": [
      "      43/50      3.56G     0.6603     0.3336     0.9168          5        640: 100%|██████████| 229/229 [01:11<00:00,  3.22it/s]\n",
      "                 Class     Images  Instances      Box(P          R      mAP50  mAP50-95): 100%|██████████| 16/16 [00:04<00:00,  3.85it/s]"
     ]
    },
    {
     "name": "stdout",
     "output_type": "stream",
     "text": [
      "                   all        255        262      0.984      0.951      0.982       0.78\n"
     ]
    },
    {
     "name": "stderr",
     "output_type": "stream",
     "text": [
      "\n"
     ]
    },
    {
     "name": "stdout",
     "output_type": "stream",
     "text": [
      "\n",
      "      Epoch    GPU_mem   box_loss   cls_loss   dfl_loss  Instances       Size\n"
     ]
    },
    {
     "name": "stderr",
     "output_type": "stream",
     "text": [
      "      44/50      3.55G     0.6651     0.3313     0.9131          5        640: 100%|██████████| 229/229 [02:19<00:00,  1.64it/s]\n",
      "                 Class     Images  Instances      Box(P          R      mAP50  mAP50-95): 100%|██████████| 16/16 [00:08<00:00,  1.80it/s]"
     ]
    },
    {
     "name": "stdout",
     "output_type": "stream",
     "text": [
      "                   all        255        262      0.981      0.961      0.986      0.791\n"
     ]
    },
    {
     "name": "stderr",
     "output_type": "stream",
     "text": [
      "\n"
     ]
    },
    {
     "name": "stdout",
     "output_type": "stream",
     "text": [
      "\n",
      "      Epoch    GPU_mem   box_loss   cls_loss   dfl_loss  Instances       Size\n"
     ]
    },
    {
     "name": "stderr",
     "output_type": "stream",
     "text": [
      "      45/50      3.48G     0.6462     0.3251     0.9055          5        640: 100%|██████████| 229/229 [02:53<00:00,  1.32it/s]\n",
      "                 Class     Images  Instances      Box(P          R      mAP50  mAP50-95): 100%|██████████| 16/16 [00:07<00:00,  2.17it/s]"
     ]
    },
    {
     "name": "stdout",
     "output_type": "stream",
     "text": [
      "                   all        255        262      0.988      0.959      0.985      0.791\n"
     ]
    },
    {
     "name": "stderr",
     "output_type": "stream",
     "text": [
      "\n"
     ]
    },
    {
     "name": "stdout",
     "output_type": "stream",
     "text": [
      "\n",
      "      Epoch    GPU_mem   box_loss   cls_loss   dfl_loss  Instances       Size\n"
     ]
    },
    {
     "name": "stderr",
     "output_type": "stream",
     "text": [
      "      46/50      3.54G     0.6494     0.3216     0.8991          5        640: 100%|██████████| 229/229 [01:31<00:00,  2.50it/s]\n",
      "                 Class     Images  Instances      Box(P          R      mAP50  mAP50-95): 100%|██████████| 16/16 [00:06<00:00,  2.53it/s]"
     ]
    },
    {
     "name": "stdout",
     "output_type": "stream",
     "text": [
      "                   all        255        262      0.979       0.95      0.985      0.788\n"
     ]
    },
    {
     "name": "stderr",
     "output_type": "stream",
     "text": [
      "\n"
     ]
    },
    {
     "name": "stdout",
     "output_type": "stream",
     "text": [
      "\n",
      "      Epoch    GPU_mem   box_loss   cls_loss   dfl_loss  Instances       Size\n"
     ]
    },
    {
     "name": "stderr",
     "output_type": "stream",
     "text": [
      "      47/50      3.48G     0.6473     0.3161     0.9061          5        640: 100%|██████████| 229/229 [01:26<00:00,  2.65it/s]\n",
      "                 Class     Images  Instances      Box(P          R      mAP50  mAP50-95): 100%|██████████| 16/16 [00:03<00:00,  4.41it/s]"
     ]
    },
    {
     "name": "stdout",
     "output_type": "stream",
     "text": [
      "                   all        255        262      0.984      0.954      0.985      0.793\n"
     ]
    },
    {
     "name": "stderr",
     "output_type": "stream",
     "text": [
      "\n"
     ]
    },
    {
     "name": "stdout",
     "output_type": "stream",
     "text": [
      "\n",
      "      Epoch    GPU_mem   box_loss   cls_loss   dfl_loss  Instances       Size\n"
     ]
    },
    {
     "name": "stderr",
     "output_type": "stream",
     "text": [
      "      48/50      3.48G     0.6387     0.3119     0.9046          5        640: 100%|██████████| 229/229 [00:51<00:00,  4.44it/s]\n",
      "                 Class     Images  Instances      Box(P          R      mAP50  mAP50-95): 100%|██████████| 16/16 [00:02<00:00,  5.72it/s]"
     ]
    },
    {
     "name": "stdout",
     "output_type": "stream",
     "text": [
      "                   all        255        262      0.984      0.943      0.985      0.794\n"
     ]
    },
    {
     "name": "stderr",
     "output_type": "stream",
     "text": [
      "\n"
     ]
    },
    {
     "name": "stdout",
     "output_type": "stream",
     "text": [
      "\n",
      "      Epoch    GPU_mem   box_loss   cls_loss   dfl_loss  Instances       Size\n"
     ]
    },
    {
     "name": "stderr",
     "output_type": "stream",
     "text": [
      "      49/50      3.48G     0.6288     0.3036      0.897          6        640: 100%|██████████| 229/229 [01:01<00:00,  3.70it/s]\n",
      "                 Class     Images  Instances      Box(P          R      mAP50  mAP50-95): 100%|██████████| 16/16 [00:02<00:00,  5.64it/s]"
     ]
    },
    {
     "name": "stdout",
     "output_type": "stream",
     "text": [
      "                   all        255        262      0.988      0.949      0.985      0.796\n"
     ]
    },
    {
     "name": "stderr",
     "output_type": "stream",
     "text": [
      "\n"
     ]
    },
    {
     "name": "stdout",
     "output_type": "stream",
     "text": [
      "\n",
      "      Epoch    GPU_mem   box_loss   cls_loss   dfl_loss  Instances       Size\n"
     ]
    },
    {
     "name": "stderr",
     "output_type": "stream",
     "text": [
      "      50/50      3.46G     0.6231      0.298     0.8918          5        640: 100%|██████████| 229/229 [01:07<00:00,  3.39it/s]\n",
      "                 Class     Images  Instances      Box(P          R      mAP50  mAP50-95): 100%|██████████| 16/16 [00:02<00:00,  5.51it/s]"
     ]
    },
    {
     "name": "stdout",
     "output_type": "stream",
     "text": [
      "                   all        255        262      0.984      0.945      0.985      0.787\n"
     ]
    },
    {
     "name": "stderr",
     "output_type": "stream",
     "text": [
      "\n"
     ]
    },
    {
     "name": "stdout",
     "output_type": "stream",
     "text": [
      "\n",
      "50 epochs completed in 1.178 hours.\n",
      "Optimizer stripped from runs\\detect\\model_blur4\\weights\\last.pt, 22.5MB\n",
      "Optimizer stripped from runs\\detect\\model_blur4\\weights\\best.pt, 22.5MB\n",
      "\n",
      "Validating runs\\detect\\model_blur4\\weights\\best.pt...\n",
      "Ultralytics 8.3.174  Python-3.9.2 torch-2.5.1+cu121 CUDA:0 (NVIDIA GeForce RTX 3050 Laptop GPU, 4096MiB)\n",
      "Model summary (fused): 72 layers, 11,125,971 parameters, 0 gradients, 28.4 GFLOPs\n"
     ]
    },
    {
     "name": "stderr",
     "output_type": "stream",
     "text": [
      "                 Class     Images  Instances      Box(P          R      mAP50  mAP50-95): 100%|██████████| 16/16 [00:03<00:00,  5.04it/s]\n"
     ]
    },
    {
     "name": "stdout",
     "output_type": "stream",
     "text": [
      "                   all        255        262      0.988      0.949      0.985      0.796\n",
      "Speed: 0.3ms preprocess, 6.0ms inference, 0.0ms loss, 2.4ms postprocess per image\n",
      "Results saved to \u001b[1mruns\\detect\\model_blur4\u001b[0m\n",
      "Ultralytics 8.3.174  Python-3.9.2 torch-2.5.1+cu121 CUDA:0 (NVIDIA GeForce RTX 3050 Laptop GPU, 4096MiB)\n",
      "Model summary (fused): 72 layers, 11,125,971 parameters, 0 gradients, 28.4 GFLOPs\n",
      "\u001b[34m\u001b[1mval: \u001b[0mFast image access  (ping: 0.00.0 ms, read: 1510.5429.1 MB/s, size: 234.4 KB)\n"
     ]
    },
    {
     "name": "stderr",
     "output_type": "stream",
     "text": [
      "\u001b[34m\u001b[1mval: \u001b[0mScanning D:\\Term 2\\Deep_Learning_Project\\dl_project\\dataset_split\\labels\\val.cache... 255 images, 0 backgrounds, 0 corrupt: 100%|██████████| 255/255 [00:00<?, ?it/s]\n",
      "                 Class     Images  Instances      Box(P          R      mAP50  mAP50-95): 100%|██████████| 32/32 [00:03<00:00,  8.67it/s]\n"
     ]
    },
    {
     "name": "stdout",
     "output_type": "stream",
     "text": [
      "                   all        255        262      0.984      0.949      0.985      0.797\n",
      "Speed: 0.4ms preprocess, 9.7ms inference, 0.0ms loss, 1.3ms postprocess per image\n",
      "Results saved to \u001b[1mruns\\detect\\model_blur42\u001b[0m\n",
      "ultralytics.utils.metrics.DetMetrics object with attributes:\n",
      "\n",
      "ap_class_index: array([0])\n",
      "box: ultralytics.utils.metrics.Metric object\n",
      "confusion_matrix: <ultralytics.utils.metrics.ConfusionMatrix object at 0x000002450CAFD490>\n",
      "curves: ['Precision-Recall(B)', 'F1-Confidence(B)', 'Precision-Confidence(B)', 'Recall-Confidence(B)']\n",
      "curves_results: [[array([          0,    0.001001,    0.002002,    0.003003,    0.004004,    0.005005,    0.006006,    0.007007,    0.008008,    0.009009,     0.01001,    0.011011,    0.012012,    0.013013,    0.014014,    0.015015,    0.016016,    0.017017,    0.018018,    0.019019,     0.02002,    0.021021,    0.022022,    0.023023,\n",
      "          0.024024,    0.025025,    0.026026,    0.027027,    0.028028,    0.029029,     0.03003,    0.031031,    0.032032,    0.033033,    0.034034,    0.035035,    0.036036,    0.037037,    0.038038,    0.039039,     0.04004,    0.041041,    0.042042,    0.043043,    0.044044,    0.045045,    0.046046,    0.047047,\n",
      "          0.048048,    0.049049,     0.05005,    0.051051,    0.052052,    0.053053,    0.054054,    0.055055,    0.056056,    0.057057,    0.058058,    0.059059,     0.06006,    0.061061,    0.062062,    0.063063,    0.064064,    0.065065,    0.066066,    0.067067,    0.068068,    0.069069,     0.07007,    0.071071,\n",
      "          0.072072,    0.073073,    0.074074,    0.075075,    0.076076,    0.077077,    0.078078,    0.079079,     0.08008,    0.081081,    0.082082,    0.083083,    0.084084,    0.085085,    0.086086,    0.087087,    0.088088,    0.089089,     0.09009,    0.091091,    0.092092,    0.093093,    0.094094,    0.095095,\n",
      "          0.096096,    0.097097,    0.098098,    0.099099,      0.1001,      0.1011,      0.1021,      0.1031,      0.1041,     0.10511,     0.10611,     0.10711,     0.10811,     0.10911,     0.11011,     0.11111,     0.11211,     0.11311,     0.11411,     0.11512,     0.11612,     0.11712,     0.11812,     0.11912,\n",
      "           0.12012,     0.12112,     0.12212,     0.12312,     0.12412,     0.12513,     0.12613,     0.12713,     0.12813,     0.12913,     0.13013,     0.13113,     0.13213,     0.13313,     0.13413,     0.13514,     0.13614,     0.13714,     0.13814,     0.13914,     0.14014,     0.14114,     0.14214,     0.14314,\n",
      "           0.14414,     0.14515,     0.14615,     0.14715,     0.14815,     0.14915,     0.15015,     0.15115,     0.15215,     0.15315,     0.15415,     0.15516,     0.15616,     0.15716,     0.15816,     0.15916,     0.16016,     0.16116,     0.16216,     0.16316,     0.16416,     0.16517,     0.16617,     0.16717,\n",
      "           0.16817,     0.16917,     0.17017,     0.17117,     0.17217,     0.17317,     0.17417,     0.17518,     0.17618,     0.17718,     0.17818,     0.17918,     0.18018,     0.18118,     0.18218,     0.18318,     0.18418,     0.18519,     0.18619,     0.18719,     0.18819,     0.18919,     0.19019,     0.19119,\n",
      "           0.19219,     0.19319,     0.19419,      0.1952,      0.1962,      0.1972,      0.1982,      0.1992,      0.2002,      0.2012,      0.2022,      0.2032,      0.2042,     0.20521,     0.20621,     0.20721,     0.20821,     0.20921,     0.21021,     0.21121,     0.21221,     0.21321,     0.21421,     0.21522,\n",
      "           0.21622,     0.21722,     0.21822,     0.21922,     0.22022,     0.22122,     0.22222,     0.22322,     0.22422,     0.22523,     0.22623,     0.22723,     0.22823,     0.22923,     0.23023,     0.23123,     0.23223,     0.23323,     0.23423,     0.23524,     0.23624,     0.23724,     0.23824,     0.23924,\n",
      "           0.24024,     0.24124,     0.24224,     0.24324,     0.24424,     0.24525,     0.24625,     0.24725,     0.24825,     0.24925,     0.25025,     0.25125,     0.25225,     0.25325,     0.25425,     0.25526,     0.25626,     0.25726,     0.25826,     0.25926,     0.26026,     0.26126,     0.26226,     0.26326,\n",
      "           0.26426,     0.26527,     0.26627,     0.26727,     0.26827,     0.26927,     0.27027,     0.27127,     0.27227,     0.27327,     0.27427,     0.27528,     0.27628,     0.27728,     0.27828,     0.27928,     0.28028,     0.28128,     0.28228,     0.28328,     0.28428,     0.28529,     0.28629,     0.28729,\n",
      "           0.28829,     0.28929,     0.29029,     0.29129,     0.29229,     0.29329,     0.29429,      0.2953,      0.2963,      0.2973,      0.2983,      0.2993,      0.3003,      0.3013,      0.3023,      0.3033,      0.3043,     0.30531,     0.30631,     0.30731,     0.30831,     0.30931,     0.31031,     0.31131,\n",
      "           0.31231,     0.31331,     0.31431,     0.31532,     0.31632,     0.31732,     0.31832,     0.31932,     0.32032,     0.32132,     0.32232,     0.32332,     0.32432,     0.32533,     0.32633,     0.32733,     0.32833,     0.32933,     0.33033,     0.33133,     0.33233,     0.33333,     0.33433,     0.33534,\n",
      "           0.33634,     0.33734,     0.33834,     0.33934,     0.34034,     0.34134,     0.34234,     0.34334,     0.34434,     0.34535,     0.34635,     0.34735,     0.34835,     0.34935,     0.35035,     0.35135,     0.35235,     0.35335,     0.35435,     0.35536,     0.35636,     0.35736,     0.35836,     0.35936,\n",
      "           0.36036,     0.36136,     0.36236,     0.36336,     0.36436,     0.36537,     0.36637,     0.36737,     0.36837,     0.36937,     0.37037,     0.37137,     0.37237,     0.37337,     0.37437,     0.37538,     0.37638,     0.37738,     0.37838,     0.37938,     0.38038,     0.38138,     0.38238,     0.38338,\n",
      "           0.38438,     0.38539,     0.38639,     0.38739,     0.38839,     0.38939,     0.39039,     0.39139,     0.39239,     0.39339,     0.39439,      0.3954,      0.3964,      0.3974,      0.3984,      0.3994,      0.4004,      0.4014,      0.4024,      0.4034,      0.4044,     0.40541,     0.40641,     0.40741,\n",
      "           0.40841,     0.40941,     0.41041,     0.41141,     0.41241,     0.41341,     0.41441,     0.41542,     0.41642,     0.41742,     0.41842,     0.41942,     0.42042,     0.42142,     0.42242,     0.42342,     0.42442,     0.42543,     0.42643,     0.42743,     0.42843,     0.42943,     0.43043,     0.43143,\n",
      "           0.43243,     0.43343,     0.43443,     0.43544,     0.43644,     0.43744,     0.43844,     0.43944,     0.44044,     0.44144,     0.44244,     0.44344,     0.44444,     0.44545,     0.44645,     0.44745,     0.44845,     0.44945,     0.45045,     0.45145,     0.45245,     0.45345,     0.45445,     0.45546,\n",
      "           0.45646,     0.45746,     0.45846,     0.45946,     0.46046,     0.46146,     0.46246,     0.46346,     0.46446,     0.46547,     0.46647,     0.46747,     0.46847,     0.46947,     0.47047,     0.47147,     0.47247,     0.47347,     0.47447,     0.47548,     0.47648,     0.47748,     0.47848,     0.47948,\n",
      "           0.48048,     0.48148,     0.48248,     0.48348,     0.48448,     0.48549,     0.48649,     0.48749,     0.48849,     0.48949,     0.49049,     0.49149,     0.49249,     0.49349,     0.49449,      0.4955,      0.4965,      0.4975,      0.4985,      0.4995,      0.5005,      0.5015,      0.5025,      0.5035,\n",
      "            0.5045,     0.50551,     0.50651,     0.50751,     0.50851,     0.50951,     0.51051,     0.51151,     0.51251,     0.51351,     0.51451,     0.51552,     0.51652,     0.51752,     0.51852,     0.51952,     0.52052,     0.52152,     0.52252,     0.52352,     0.52452,     0.52553,     0.52653,     0.52753,\n",
      "           0.52853,     0.52953,     0.53053,     0.53153,     0.53253,     0.53353,     0.53453,     0.53554,     0.53654,     0.53754,     0.53854,     0.53954,     0.54054,     0.54154,     0.54254,     0.54354,     0.54454,     0.54555,     0.54655,     0.54755,     0.54855,     0.54955,     0.55055,     0.55155,\n",
      "           0.55255,     0.55355,     0.55455,     0.55556,     0.55656,     0.55756,     0.55856,     0.55956,     0.56056,     0.56156,     0.56256,     0.56356,     0.56456,     0.56557,     0.56657,     0.56757,     0.56857,     0.56957,     0.57057,     0.57157,     0.57257,     0.57357,     0.57457,     0.57558,\n",
      "           0.57658,     0.57758,     0.57858,     0.57958,     0.58058,     0.58158,     0.58258,     0.58358,     0.58458,     0.58559,     0.58659,     0.58759,     0.58859,     0.58959,     0.59059,     0.59159,     0.59259,     0.59359,     0.59459,      0.5956,      0.5966,      0.5976,      0.5986,      0.5996,\n",
      "            0.6006,      0.6016,      0.6026,      0.6036,      0.6046,     0.60561,     0.60661,     0.60761,     0.60861,     0.60961,     0.61061,     0.61161,     0.61261,     0.61361,     0.61461,     0.61562,     0.61662,     0.61762,     0.61862,     0.61962,     0.62062,     0.62162,     0.62262,     0.62362,\n",
      "           0.62462,     0.62563,     0.62663,     0.62763,     0.62863,     0.62963,     0.63063,     0.63163,     0.63263,     0.63363,     0.63463,     0.63564,     0.63664,     0.63764,     0.63864,     0.63964,     0.64064,     0.64164,     0.64264,     0.64364,     0.64464,     0.64565,     0.64665,     0.64765,\n",
      "           0.64865,     0.64965,     0.65065,     0.65165,     0.65265,     0.65365,     0.65465,     0.65566,     0.65666,     0.65766,     0.65866,     0.65966,     0.66066,     0.66166,     0.66266,     0.66366,     0.66466,     0.66567,     0.66667,     0.66767,     0.66867,     0.66967,     0.67067,     0.67167,\n",
      "           0.67267,     0.67367,     0.67467,     0.67568,     0.67668,     0.67768,     0.67868,     0.67968,     0.68068,     0.68168,     0.68268,     0.68368,     0.68468,     0.68569,     0.68669,     0.68769,     0.68869,     0.68969,     0.69069,     0.69169,     0.69269,     0.69369,     0.69469,      0.6957,\n",
      "            0.6967,      0.6977,      0.6987,      0.6997,      0.7007,      0.7017,      0.7027,      0.7037,      0.7047,     0.70571,     0.70671,     0.70771,     0.70871,     0.70971,     0.71071,     0.71171,     0.71271,     0.71371,     0.71471,     0.71572,     0.71672,     0.71772,     0.71872,     0.71972,\n",
      "           0.72072,     0.72172,     0.72272,     0.72372,     0.72472,     0.72573,     0.72673,     0.72773,     0.72873,     0.72973,     0.73073,     0.73173,     0.73273,     0.73373,     0.73473,     0.73574,     0.73674,     0.73774,     0.73874,     0.73974,     0.74074,     0.74174,     0.74274,     0.74374,\n",
      "           0.74474,     0.74575,     0.74675,     0.74775,     0.74875,     0.74975,     0.75075,     0.75175,     0.75275,     0.75375,     0.75475,     0.75576,     0.75676,     0.75776,     0.75876,     0.75976,     0.76076,     0.76176,     0.76276,     0.76376,     0.76476,     0.76577,     0.76677,     0.76777,\n",
      "           0.76877,     0.76977,     0.77077,     0.77177,     0.77277,     0.77377,     0.77477,     0.77578,     0.77678,     0.77778,     0.77878,     0.77978,     0.78078,     0.78178,     0.78278,     0.78378,     0.78478,     0.78579,     0.78679,     0.78779,     0.78879,     0.78979,     0.79079,     0.79179,\n",
      "           0.79279,     0.79379,     0.79479,      0.7958,      0.7968,      0.7978,      0.7988,      0.7998,      0.8008,      0.8018,      0.8028,      0.8038,      0.8048,     0.80581,     0.80681,     0.80781,     0.80881,     0.80981,     0.81081,     0.81181,     0.81281,     0.81381,     0.81481,     0.81582,\n",
      "           0.81682,     0.81782,     0.81882,     0.81982,     0.82082,     0.82182,     0.82282,     0.82382,     0.82482,     0.82583,     0.82683,     0.82783,     0.82883,     0.82983,     0.83083,     0.83183,     0.83283,     0.83383,     0.83483,     0.83584,     0.83684,     0.83784,     0.83884,     0.83984,\n",
      "           0.84084,     0.84184,     0.84284,     0.84384,     0.84484,     0.84585,     0.84685,     0.84785,     0.84885,     0.84985,     0.85085,     0.85185,     0.85285,     0.85385,     0.85485,     0.85586,     0.85686,     0.85786,     0.85886,     0.85986,     0.86086,     0.86186,     0.86286,     0.86386,\n",
      "           0.86486,     0.86587,     0.86687,     0.86787,     0.86887,     0.86987,     0.87087,     0.87187,     0.87287,     0.87387,     0.87487,     0.87588,     0.87688,     0.87788,     0.87888,     0.87988,     0.88088,     0.88188,     0.88288,     0.88388,     0.88488,     0.88589,     0.88689,     0.88789,\n",
      "           0.88889,     0.88989,     0.89089,     0.89189,     0.89289,     0.89389,     0.89489,      0.8959,      0.8969,      0.8979,      0.8989,      0.8999,      0.9009,      0.9019,      0.9029,      0.9039,      0.9049,     0.90591,     0.90691,     0.90791,     0.90891,     0.90991,     0.91091,     0.91191,\n",
      "           0.91291,     0.91391,     0.91491,     0.91592,     0.91692,     0.91792,     0.91892,     0.91992,     0.92092,     0.92192,     0.92292,     0.92392,     0.92492,     0.92593,     0.92693,     0.92793,     0.92893,     0.92993,     0.93093,     0.93193,     0.93293,     0.93393,     0.93493,     0.93594,\n",
      "           0.93694,     0.93794,     0.93894,     0.93994,     0.94094,     0.94194,     0.94294,     0.94394,     0.94494,     0.94595,     0.94695,     0.94795,     0.94895,     0.94995,     0.95095,     0.95195,     0.95295,     0.95395,     0.95495,     0.95596,     0.95696,     0.95796,     0.95896,     0.95996,\n",
      "           0.96096,     0.96196,     0.96296,     0.96396,     0.96496,     0.96597,     0.96697,     0.96797,     0.96897,     0.96997,     0.97097,     0.97197,     0.97297,     0.97397,     0.97497,     0.97598,     0.97698,     0.97798,     0.97898,     0.97998,     0.98098,     0.98198,     0.98298,     0.98398,\n",
      "           0.98498,     0.98599,     0.98699,     0.98799,     0.98899,     0.98999,     0.99099,     0.99199,     0.99299,     0.99399,     0.99499,       0.996,       0.997,       0.998,       0.999,           1]), array([[          1,           1,           1,           1,           1,           1,           1,           1,           1,           1,           1,           1,           1,           1,           1,           1,           1,           1,           1,           1,           1,           1,           1,\n",
      "                  1,           1,           1,           1,           1,           1,           1,           1,           1,           1,           1,           1,           1,           1,           1,           1,           1,           1,           1,           1,           1,           1,           1,\n",
      "                  1,           1,           1,           1,           1,           1,           1,           1,           1,           1,           1,           1,           1,           1,           1,           1,           1,           1,           1,           1,           1,           1,           1,\n",
      "                  1,           1,           1,           1,           1,           1,           1,           1,           1,           1,           1,           1,           1,           1,           1,           1,           1,           1,           1,           1,           1,           1,           1,\n",
      "                  1,           1,           1,           1,           1,           1,           1,           1,           1,           1,           1,           1,           1,           1,           1,           1,           1,           1,           1,           1,           1,           1,           1,\n",
      "                  1,           1,           1,           1,           1,           1,           1,           1,           1,           1,           1,           1,           1,           1,           1,           1,           1,           1,           1,           1,           1,           1,           1,\n",
      "                  1,           1,           1,           1,           1,           1,           1,           1,           1,           1,           1,           1,           1,           1,           1,           1,           1,           1,           1,           1,           1,           1,           1,\n",
      "                  1,           1,           1,           1,           1,           1,           1,           1,           1,           1,           1,           1,           1,           1,           1,           1,           1,           1,           1,           1,           1,           1,           1,\n",
      "                  1,           1,           1,           1,           1,           1,           1,           1,           1,           1,           1,           1,           1,           1,           1,           1,           1,           1,           1,           1,           1,           1,           1,\n",
      "                  1,           1,           1,           1,           1,           1,           1,           1,           1,           1,           1,           1,           1,           1,           1,           1,           1,           1,           1,           1,           1,           1,           1,\n",
      "                  1,           1,           1,           1,           1,           1,           1,           1,           1,           1,           1,           1,           1,           1,           1,           1,           1,           1,           1,           1,           1,           1,           1,\n",
      "                  1,           1,           1,           1,           1,           1,           1,           1,           1,           1,           1,           1,           1,           1,           1,           1,           1,           1,           1,           1,           1,           1,           1,\n",
      "                  1,           1,           1,           1,           1,           1,           1,           1,           1,           1,           1,           1,           1,           1,           1,           1,           1,           1,           1,           1,           1,           1,           1,\n",
      "                  1,           1,           1,           1,           1,           1,           1,           1,           1,           1,           1,           1,           1,           1,           1,           1,           1,           1,           1,           1,           1,           1,           1,\n",
      "                  1,           1,           1,           1,           1,           1,           1,           1,           1,           1,           1,           1,           1,           1,           1,           1,           1,           1,           1,           1,           1,           1,           1,\n",
      "                  1,           1,           1,           1,           1,           1,           1,           1,           1,           1,           1,           1,           1,           1,           1,           1,           1,           1,           1,           1,           1,           1,           1,\n",
      "                  1,           1,           1,           1,           1,           1,           1,           1,           1,           1,           1,           1,           1,           1,           1,           1,           1,           1,           1,           1,           1,           1,           1,\n",
      "                  1,           1,           1,           1,           1,           1,           1,           1,           1,           1,           1,           1,           1,           1,           1,           1,           1,           1,           1,           1,           1,           1,           1,\n",
      "                  1,           1,           1,           1,           1,           1,           1,           1,           1,           1,           1,           1,           1,           1,           1,           1,           1,           1,           1,           1,           1,           1,           1,\n",
      "                  1,           1,           1,           1,           1,           1,           1,           1,           1,           1,           1,           1,           1,           1,           1,           1,           1,           1,           1,           1,           1,           1,           1,\n",
      "                  1,           1,           1,           1,           1,           1,           1,           1,           1,           1,           1,           1,           1,           1,           1,           1,           1,           1,           1,           1,           1,           1,           1,\n",
      "                  1,           1,           1,           1,           1,           1,           1,           1,           1,           1,           1,           1,           1,           1,           1,           1,           1,           1,           1,           1,           1,           1,           1,\n",
      "                  1,           1,           1,           1,           1,           1,           1,           1,           1,           1,           1,           1,           1,           1,           1,           1,           1,           1,           1,           1,           1,           1,           1,\n",
      "                  1,           1,           1,           1,           1,           1,           1,           1,           1,           1,           1,           1,           1,           1,           1,           1,           1,           1,           1,           1,           1,           1,           1,\n",
      "                  1,           1,           1,           1,           1,           1,           1,           1,           1,           1,           1,           1,           1,           1,           1,           1,           1,           1,           1,           1,           1,           1,           1,\n",
      "                  1,           1,           1,           1,           1,           1,           1,           1,           1,           1,           1,           1,           1,           1,           1,           1,           1,           1,           1,           1,           1,           1,           1,\n",
      "                  1,           1,           1,           1,           1,           1,           1,           1,           1,           1,           1,           1,           1,           1,           1,           1,           1,           1,           1,           1,           1,           1,           1,\n",
      "                  1,           1,           1,           1,           1,           1,           1,           1,           1,           1,           1,           1,           1,           1,           1,           1,           1,           1,           1,           1,           1,           1,           1,\n",
      "                  1,           1,           1,           1,           1,           1,           1,           1,           1,           1,           1,           1,           1,           1,           1,           1,           1,           1,           1,           1,           1,           1,           1,\n",
      "                  1,           1,           1,           1,           1,           1,           1,           1,           1,           1,           1,           1,           1,           1,           1,           1,           1,           1,           1,           1,           1,           1,           1,\n",
      "                  1,           1,           1,           1,           1,           1,           1,           1,           1,           1,           1,           1,           1,           1,           1,           1,           1,           1,           1,           1,           1,           1,           1,\n",
      "                  1,           1,           1,           1,           1,           1,           1,           1,           1,           1,           1,           1,           1,           1,           1,           1,           1,           1,           1,           1,           1,           1,           1,\n",
      "                  1,           1,           1,           1,           1,           1,           1,           1,           1,           1,           1,           1,           1,           1,           1,           1,           1,           1,           1,           1,           1,           1,           1,\n",
      "                  1,           1,           1,           1,           1,           1,           1,           1,           1,           1,           1,           1,           1,           1,           1,           1,           1,           1,           1,           1,           1,           1,           1,\n",
      "                  1,           1,           1,           1,           1,           1,           1,           1,           1,           1,           1,           1,           1,           1,           1,           1,           1,           1,           1,           1,           1,           1,           1,\n",
      "                  1,           1,           1,           1,           1,           1,           1,           1,           1,           1,           1,           1,           1,           1,           1,           1,           1,           1,           1,           1,           1,           1,           1,\n",
      "                  1,           1,           1,           1,           1,           1,           1,           1,           1,           1,           1,           1,           1,           1,           1,           1,           1,           1,           1,     0.99587,     0.99587,     0.99587,     0.99587,\n",
      "            0.99587,     0.99587,     0.99587,     0.99587,     0.99587,     0.99587,     0.99587,     0.99587,     0.99587,     0.99587,     0.99587,     0.99587,     0.99587,     0.99587,     0.99587,     0.99587,     0.99587,     0.99587,     0.99587,     0.99587,     0.99587,     0.99587,     0.99587,\n",
      "            0.99587,     0.99587,     0.99587,     0.99587,     0.99587,     0.99587,     0.99587,     0.99587,     0.99587,     0.99587,     0.99587,     0.99587,     0.99587,     0.99587,     0.99587,     0.99587,     0.99587,     0.99587,     0.99587,     0.99587,     0.99587,     0.99587,     0.99587,\n",
      "            0.99587,     0.99587,     0.99587,     0.99587,     0.99587,     0.99587,     0.99587,     0.99587,     0.99587,     0.99587,     0.99587,     0.99587,     0.99587,     0.99587,     0.99587,     0.99587,     0.99587,     0.99587,     0.99587,     0.99587,     0.99587,     0.99587,       0.988,\n",
      "              0.988,       0.988,       0.988,       0.988,       0.988,       0.988,       0.988,       0.988,       0.988,       0.988,       0.988,       0.988,       0.988,       0.988,       0.988,       0.988,       0.988,       0.988,       0.988,       0.988,       0.988,       0.988,     0.98419,\n",
      "            0.98419,     0.98419,     0.98419,     0.98419,     0.98419,     0.98419,     0.98419,     0.97276,     0.97276,     0.97276,     0.97276,     0.96911,     0.96911,     0.96911,     0.96911,     0.95833,     0.95833,     0.95833,     0.95833,     0.95833,     0.95833,     0.95833,     0.94776,\n",
      "            0.94776,     0.94776,     0.94776,     0.94118,     0.94118,     0.94118,     0.94118,     0.94118,     0.94118,     0.94118,     0.94118,     0.84262,     0.84262,     0.84262,     0.83766,     0.83766,     0.83766,     0.83766,     0.51364,      0.4794,     0.44516,     0.41091,     0.37667,\n",
      "            0.34243,     0.30818,     0.27394,      0.2397,     0.20546,     0.17121,     0.13697,     0.10273,    0.068485,    0.034243,           0]]), 'Recall', 'Precision'], [array([          0,    0.001001,    0.002002,    0.003003,    0.004004,    0.005005,    0.006006,    0.007007,    0.008008,    0.009009,     0.01001,    0.011011,    0.012012,    0.013013,    0.014014,    0.015015,    0.016016,    0.017017,    0.018018,    0.019019,     0.02002,    0.021021,    0.022022,    0.023023,\n",
      "          0.024024,    0.025025,    0.026026,    0.027027,    0.028028,    0.029029,     0.03003,    0.031031,    0.032032,    0.033033,    0.034034,    0.035035,    0.036036,    0.037037,    0.038038,    0.039039,     0.04004,    0.041041,    0.042042,    0.043043,    0.044044,    0.045045,    0.046046,    0.047047,\n",
      "          0.048048,    0.049049,     0.05005,    0.051051,    0.052052,    0.053053,    0.054054,    0.055055,    0.056056,    0.057057,    0.058058,    0.059059,     0.06006,    0.061061,    0.062062,    0.063063,    0.064064,    0.065065,    0.066066,    0.067067,    0.068068,    0.069069,     0.07007,    0.071071,\n",
      "          0.072072,    0.073073,    0.074074,    0.075075,    0.076076,    0.077077,    0.078078,    0.079079,     0.08008,    0.081081,    0.082082,    0.083083,    0.084084,    0.085085,    0.086086,    0.087087,    0.088088,    0.089089,     0.09009,    0.091091,    0.092092,    0.093093,    0.094094,    0.095095,\n",
      "          0.096096,    0.097097,    0.098098,    0.099099,      0.1001,      0.1011,      0.1021,      0.1031,      0.1041,     0.10511,     0.10611,     0.10711,     0.10811,     0.10911,     0.11011,     0.11111,     0.11211,     0.11311,     0.11411,     0.11512,     0.11612,     0.11712,     0.11812,     0.11912,\n",
      "           0.12012,     0.12112,     0.12212,     0.12312,     0.12412,     0.12513,     0.12613,     0.12713,     0.12813,     0.12913,     0.13013,     0.13113,     0.13213,     0.13313,     0.13413,     0.13514,     0.13614,     0.13714,     0.13814,     0.13914,     0.14014,     0.14114,     0.14214,     0.14314,\n",
      "           0.14414,     0.14515,     0.14615,     0.14715,     0.14815,     0.14915,     0.15015,     0.15115,     0.15215,     0.15315,     0.15415,     0.15516,     0.15616,     0.15716,     0.15816,     0.15916,     0.16016,     0.16116,     0.16216,     0.16316,     0.16416,     0.16517,     0.16617,     0.16717,\n",
      "           0.16817,     0.16917,     0.17017,     0.17117,     0.17217,     0.17317,     0.17417,     0.17518,     0.17618,     0.17718,     0.17818,     0.17918,     0.18018,     0.18118,     0.18218,     0.18318,     0.18418,     0.18519,     0.18619,     0.18719,     0.18819,     0.18919,     0.19019,     0.19119,\n",
      "           0.19219,     0.19319,     0.19419,      0.1952,      0.1962,      0.1972,      0.1982,      0.1992,      0.2002,      0.2012,      0.2022,      0.2032,      0.2042,     0.20521,     0.20621,     0.20721,     0.20821,     0.20921,     0.21021,     0.21121,     0.21221,     0.21321,     0.21421,     0.21522,\n",
      "           0.21622,     0.21722,     0.21822,     0.21922,     0.22022,     0.22122,     0.22222,     0.22322,     0.22422,     0.22523,     0.22623,     0.22723,     0.22823,     0.22923,     0.23023,     0.23123,     0.23223,     0.23323,     0.23423,     0.23524,     0.23624,     0.23724,     0.23824,     0.23924,\n",
      "           0.24024,     0.24124,     0.24224,     0.24324,     0.24424,     0.24525,     0.24625,     0.24725,     0.24825,     0.24925,     0.25025,     0.25125,     0.25225,     0.25325,     0.25425,     0.25526,     0.25626,     0.25726,     0.25826,     0.25926,     0.26026,     0.26126,     0.26226,     0.26326,\n",
      "           0.26426,     0.26527,     0.26627,     0.26727,     0.26827,     0.26927,     0.27027,     0.27127,     0.27227,     0.27327,     0.27427,     0.27528,     0.27628,     0.27728,     0.27828,     0.27928,     0.28028,     0.28128,     0.28228,     0.28328,     0.28428,     0.28529,     0.28629,     0.28729,\n",
      "           0.28829,     0.28929,     0.29029,     0.29129,     0.29229,     0.29329,     0.29429,      0.2953,      0.2963,      0.2973,      0.2983,      0.2993,      0.3003,      0.3013,      0.3023,      0.3033,      0.3043,     0.30531,     0.30631,     0.30731,     0.30831,     0.30931,     0.31031,     0.31131,\n",
      "           0.31231,     0.31331,     0.31431,     0.31532,     0.31632,     0.31732,     0.31832,     0.31932,     0.32032,     0.32132,     0.32232,     0.32332,     0.32432,     0.32533,     0.32633,     0.32733,     0.32833,     0.32933,     0.33033,     0.33133,     0.33233,     0.33333,     0.33433,     0.33534,\n",
      "           0.33634,     0.33734,     0.33834,     0.33934,     0.34034,     0.34134,     0.34234,     0.34334,     0.34434,     0.34535,     0.34635,     0.34735,     0.34835,     0.34935,     0.35035,     0.35135,     0.35235,     0.35335,     0.35435,     0.35536,     0.35636,     0.35736,     0.35836,     0.35936,\n",
      "           0.36036,     0.36136,     0.36236,     0.36336,     0.36436,     0.36537,     0.36637,     0.36737,     0.36837,     0.36937,     0.37037,     0.37137,     0.37237,     0.37337,     0.37437,     0.37538,     0.37638,     0.37738,     0.37838,     0.37938,     0.38038,     0.38138,     0.38238,     0.38338,\n",
      "           0.38438,     0.38539,     0.38639,     0.38739,     0.38839,     0.38939,     0.39039,     0.39139,     0.39239,     0.39339,     0.39439,      0.3954,      0.3964,      0.3974,      0.3984,      0.3994,      0.4004,      0.4014,      0.4024,      0.4034,      0.4044,     0.40541,     0.40641,     0.40741,\n",
      "           0.40841,     0.40941,     0.41041,     0.41141,     0.41241,     0.41341,     0.41441,     0.41542,     0.41642,     0.41742,     0.41842,     0.41942,     0.42042,     0.42142,     0.42242,     0.42342,     0.42442,     0.42543,     0.42643,     0.42743,     0.42843,     0.42943,     0.43043,     0.43143,\n",
      "           0.43243,     0.43343,     0.43443,     0.43544,     0.43644,     0.43744,     0.43844,     0.43944,     0.44044,     0.44144,     0.44244,     0.44344,     0.44444,     0.44545,     0.44645,     0.44745,     0.44845,     0.44945,     0.45045,     0.45145,     0.45245,     0.45345,     0.45445,     0.45546,\n",
      "           0.45646,     0.45746,     0.45846,     0.45946,     0.46046,     0.46146,     0.46246,     0.46346,     0.46446,     0.46547,     0.46647,     0.46747,     0.46847,     0.46947,     0.47047,     0.47147,     0.47247,     0.47347,     0.47447,     0.47548,     0.47648,     0.47748,     0.47848,     0.47948,\n",
      "           0.48048,     0.48148,     0.48248,     0.48348,     0.48448,     0.48549,     0.48649,     0.48749,     0.48849,     0.48949,     0.49049,     0.49149,     0.49249,     0.49349,     0.49449,      0.4955,      0.4965,      0.4975,      0.4985,      0.4995,      0.5005,      0.5015,      0.5025,      0.5035,\n",
      "            0.5045,     0.50551,     0.50651,     0.50751,     0.50851,     0.50951,     0.51051,     0.51151,     0.51251,     0.51351,     0.51451,     0.51552,     0.51652,     0.51752,     0.51852,     0.51952,     0.52052,     0.52152,     0.52252,     0.52352,     0.52452,     0.52553,     0.52653,     0.52753,\n",
      "           0.52853,     0.52953,     0.53053,     0.53153,     0.53253,     0.53353,     0.53453,     0.53554,     0.53654,     0.53754,     0.53854,     0.53954,     0.54054,     0.54154,     0.54254,     0.54354,     0.54454,     0.54555,     0.54655,     0.54755,     0.54855,     0.54955,     0.55055,     0.55155,\n",
      "           0.55255,     0.55355,     0.55455,     0.55556,     0.55656,     0.55756,     0.55856,     0.55956,     0.56056,     0.56156,     0.56256,     0.56356,     0.56456,     0.56557,     0.56657,     0.56757,     0.56857,     0.56957,     0.57057,     0.57157,     0.57257,     0.57357,     0.57457,     0.57558,\n",
      "           0.57658,     0.57758,     0.57858,     0.57958,     0.58058,     0.58158,     0.58258,     0.58358,     0.58458,     0.58559,     0.58659,     0.58759,     0.58859,     0.58959,     0.59059,     0.59159,     0.59259,     0.59359,     0.59459,      0.5956,      0.5966,      0.5976,      0.5986,      0.5996,\n",
      "            0.6006,      0.6016,      0.6026,      0.6036,      0.6046,     0.60561,     0.60661,     0.60761,     0.60861,     0.60961,     0.61061,     0.61161,     0.61261,     0.61361,     0.61461,     0.61562,     0.61662,     0.61762,     0.61862,     0.61962,     0.62062,     0.62162,     0.62262,     0.62362,\n",
      "           0.62462,     0.62563,     0.62663,     0.62763,     0.62863,     0.62963,     0.63063,     0.63163,     0.63263,     0.63363,     0.63463,     0.63564,     0.63664,     0.63764,     0.63864,     0.63964,     0.64064,     0.64164,     0.64264,     0.64364,     0.64464,     0.64565,     0.64665,     0.64765,\n",
      "           0.64865,     0.64965,     0.65065,     0.65165,     0.65265,     0.65365,     0.65465,     0.65566,     0.65666,     0.65766,     0.65866,     0.65966,     0.66066,     0.66166,     0.66266,     0.66366,     0.66466,     0.66567,     0.66667,     0.66767,     0.66867,     0.66967,     0.67067,     0.67167,\n",
      "           0.67267,     0.67367,     0.67467,     0.67568,     0.67668,     0.67768,     0.67868,     0.67968,     0.68068,     0.68168,     0.68268,     0.68368,     0.68468,     0.68569,     0.68669,     0.68769,     0.68869,     0.68969,     0.69069,     0.69169,     0.69269,     0.69369,     0.69469,      0.6957,\n",
      "            0.6967,      0.6977,      0.6987,      0.6997,      0.7007,      0.7017,      0.7027,      0.7037,      0.7047,     0.70571,     0.70671,     0.70771,     0.70871,     0.70971,     0.71071,     0.71171,     0.71271,     0.71371,     0.71471,     0.71572,     0.71672,     0.71772,     0.71872,     0.71972,\n",
      "           0.72072,     0.72172,     0.72272,     0.72372,     0.72472,     0.72573,     0.72673,     0.72773,     0.72873,     0.72973,     0.73073,     0.73173,     0.73273,     0.73373,     0.73473,     0.73574,     0.73674,     0.73774,     0.73874,     0.73974,     0.74074,     0.74174,     0.74274,     0.74374,\n",
      "           0.74474,     0.74575,     0.74675,     0.74775,     0.74875,     0.74975,     0.75075,     0.75175,     0.75275,     0.75375,     0.75475,     0.75576,     0.75676,     0.75776,     0.75876,     0.75976,     0.76076,     0.76176,     0.76276,     0.76376,     0.76476,     0.76577,     0.76677,     0.76777,\n",
      "           0.76877,     0.76977,     0.77077,     0.77177,     0.77277,     0.77377,     0.77477,     0.77578,     0.77678,     0.77778,     0.77878,     0.77978,     0.78078,     0.78178,     0.78278,     0.78378,     0.78478,     0.78579,     0.78679,     0.78779,     0.78879,     0.78979,     0.79079,     0.79179,\n",
      "           0.79279,     0.79379,     0.79479,      0.7958,      0.7968,      0.7978,      0.7988,      0.7998,      0.8008,      0.8018,      0.8028,      0.8038,      0.8048,     0.80581,     0.80681,     0.80781,     0.80881,     0.80981,     0.81081,     0.81181,     0.81281,     0.81381,     0.81481,     0.81582,\n",
      "           0.81682,     0.81782,     0.81882,     0.81982,     0.82082,     0.82182,     0.82282,     0.82382,     0.82482,     0.82583,     0.82683,     0.82783,     0.82883,     0.82983,     0.83083,     0.83183,     0.83283,     0.83383,     0.83483,     0.83584,     0.83684,     0.83784,     0.83884,     0.83984,\n",
      "           0.84084,     0.84184,     0.84284,     0.84384,     0.84484,     0.84585,     0.84685,     0.84785,     0.84885,     0.84985,     0.85085,     0.85185,     0.85285,     0.85385,     0.85485,     0.85586,     0.85686,     0.85786,     0.85886,     0.85986,     0.86086,     0.86186,     0.86286,     0.86386,\n",
      "           0.86486,     0.86587,     0.86687,     0.86787,     0.86887,     0.86987,     0.87087,     0.87187,     0.87287,     0.87387,     0.87487,     0.87588,     0.87688,     0.87788,     0.87888,     0.87988,     0.88088,     0.88188,     0.88288,     0.88388,     0.88488,     0.88589,     0.88689,     0.88789,\n",
      "           0.88889,     0.88989,     0.89089,     0.89189,     0.89289,     0.89389,     0.89489,      0.8959,      0.8969,      0.8979,      0.8989,      0.8999,      0.9009,      0.9019,      0.9029,      0.9039,      0.9049,     0.90591,     0.90691,     0.90791,     0.90891,     0.90991,     0.91091,     0.91191,\n",
      "           0.91291,     0.91391,     0.91491,     0.91592,     0.91692,     0.91792,     0.91892,     0.91992,     0.92092,     0.92192,     0.92292,     0.92392,     0.92492,     0.92593,     0.92693,     0.92793,     0.92893,     0.92993,     0.93093,     0.93193,     0.93293,     0.93393,     0.93493,     0.93594,\n",
      "           0.93694,     0.93794,     0.93894,     0.93994,     0.94094,     0.94194,     0.94294,     0.94394,     0.94494,     0.94595,     0.94695,     0.94795,     0.94895,     0.94995,     0.95095,     0.95195,     0.95295,     0.95395,     0.95495,     0.95596,     0.95696,     0.95796,     0.95896,     0.95996,\n",
      "           0.96096,     0.96196,     0.96296,     0.96396,     0.96496,     0.96597,     0.96697,     0.96797,     0.96897,     0.96997,     0.97097,     0.97197,     0.97297,     0.97397,     0.97497,     0.97598,     0.97698,     0.97798,     0.97898,     0.97998,     0.98098,     0.98198,     0.98298,     0.98398,\n",
      "           0.98498,     0.98599,     0.98699,     0.98799,     0.98899,     0.98999,     0.99099,     0.99199,     0.99299,     0.99399,     0.99499,       0.996,       0.997,       0.998,       0.999,           1]), array([[    0.68254,     0.68254,     0.77042,     0.81916,     0.83521,     0.85381,     0.86795,     0.87819,     0.88607,     0.89236,     0.90174,      0.9049,     0.90541,     0.90589,     0.91023,     0.91471,     0.91602,     0.91636,      0.9167,     0.91705,     0.91739,     0.91805,     0.91901,\n",
      "            0.92023,      0.9214,     0.92243,     0.92446,     0.92494,     0.92542,     0.92614,     0.92771,     0.92803,     0.92835,     0.92868,       0.929,     0.93187,     0.93295,     0.93333,      0.9337,     0.93407,     0.93472,     0.93588,     0.93829,      0.9395,     0.93977,     0.94003,\n",
      "            0.94029,     0.94055,     0.94081,     0.94107,      0.9413,     0.94151,     0.94172,     0.94193,     0.94214,     0.94235,     0.94256,     0.94277,     0.94356,     0.94498,     0.94575,     0.94643,     0.94666,     0.94689,     0.94711,     0.94734,     0.94757,     0.94779,     0.94802,\n",
      "            0.94879,     0.95157,     0.95347,     0.95359,     0.95371,     0.95383,     0.95395,     0.95407,     0.95418,      0.9543,     0.95442,     0.95454,     0.95466,     0.95477,     0.95489,     0.95501,     0.95513,     0.95524,     0.95536,     0.95547,     0.95558,     0.95569,      0.9558,\n",
      "            0.95591,     0.95603,     0.95614,     0.95625,     0.95636,     0.95647,     0.95658,     0.95669,     0.95681,     0.95692,     0.95704,     0.95723,     0.95742,      0.9576,     0.95779,     0.95797,     0.95816,     0.95835,     0.95853,     0.95872,     0.95741,     0.95674,     0.95661,\n",
      "            0.95647,     0.95633,     0.95619,     0.95606,     0.95592,     0.95578,     0.95565,     0.95551,     0.95537,     0.95524,      0.9551,     0.95496,     0.95669,     0.95679,     0.95689,     0.95698,     0.95708,     0.95718,     0.95728,     0.95738,     0.95748,     0.95757,     0.95767,\n",
      "            0.95777,     0.95787,     0.95797,     0.95806,     0.95816,     0.95826,     0.95836,     0.95846,      0.9584,     0.95825,     0.95811,     0.95796,     0.95782,     0.95767,     0.95753,     0.95738,     0.95724,     0.95709,     0.95695,      0.9568,     0.95666,     0.95652,     0.95656,\n",
      "             0.9566,     0.95664,     0.95667,     0.95671,     0.95675,     0.95678,     0.95682,     0.95686,     0.95689,     0.95693,     0.95697,       0.957,     0.95704,     0.95708,     0.95712,     0.95715,     0.95719,     0.95723,     0.95726,      0.9573,     0.95734,     0.95737,     0.95741,\n",
      "            0.95745,     0.95748,     0.95752,     0.95756,      0.9576,     0.95763,     0.95767,     0.95771,     0.95774,     0.95778,     0.95782,     0.95785,     0.95789,     0.95793,     0.95796,       0.958,     0.95804,     0.95808,     0.95811,     0.95815,     0.95819,     0.95822,     0.95826,\n",
      "             0.9583,     0.95833,     0.95871,     0.95909,     0.95948,     0.95986,     0.96016,     0.96021,     0.96025,     0.96029,     0.96034,     0.96038,     0.96042,     0.96047,     0.96051,     0.96055,      0.9606,     0.96064,     0.96068,     0.96073,     0.96077,     0.96081,     0.96086,\n",
      "             0.9609,     0.96094,     0.96099,     0.96103,     0.96107,     0.96112,     0.96116,      0.9612,     0.96125,     0.96129,     0.96133,     0.96138,     0.96142,     0.96146,     0.96151,     0.96155,     0.96159,     0.96164,     0.96168,     0.96172,     0.96177,     0.96181,     0.96185,\n",
      "             0.9619,     0.96194,     0.96195,     0.96176,     0.96158,      0.9614,     0.96122,     0.96103,     0.96085,     0.96067,     0.96049,      0.9603,     0.96012,     0.95997,      0.9599,     0.95982,     0.95975,     0.95967,      0.9596,     0.95952,     0.95944,     0.95937,     0.95929,\n",
      "            0.95922,     0.95914,     0.95906,     0.95899,     0.95891,     0.95884,     0.95876,     0.95869,     0.95861,     0.95853,     0.95846,     0.95838,     0.95831,     0.95823,     0.95815,     0.95808,     0.95804,     0.95821,     0.95837,     0.95853,      0.9587,     0.95886,     0.95902,\n",
      "            0.95919,     0.95935,     0.95951,     0.95967,     0.95984,     0.95995,     0.96006,     0.96016,     0.96027,     0.96038,     0.96049,     0.96059,      0.9607,     0.96081,     0.96091,     0.96102,     0.96113,     0.96124,     0.96134,     0.96145,     0.96156,     0.96166,     0.96182,\n",
      "            0.96198,     0.96214,      0.9623,     0.96246,     0.96262,     0.96278,     0.96294,      0.9631,     0.96326,     0.96343,     0.96333,     0.96271,      0.9621,     0.96156,     0.96177,     0.96198,     0.96219,     0.96241,     0.96262,     0.96283,     0.96304,     0.96326,     0.96337,\n",
      "            0.96332,     0.96327,     0.96322,     0.96317,     0.96312,     0.96307,     0.96301,     0.96296,     0.96291,     0.96286,     0.96281,     0.96276,     0.96271,     0.96266,     0.96261,     0.96255,      0.9625,     0.96245,      0.9624,     0.96235,      0.9623,     0.96225,      0.9622,\n",
      "            0.96214,     0.96209,     0.96204,     0.96199,     0.96194,     0.96189,     0.96184,     0.96179,     0.96173,     0.96168,     0.96163,     0.96158,     0.96153,     0.96148,     0.96143,     0.96144,     0.96161,     0.96178,     0.96195,     0.96212,     0.96229,     0.96246,     0.96263,\n",
      "             0.9628,     0.96297,     0.96314,     0.96326,     0.96329,     0.96332,     0.96335,     0.96338,     0.96341,     0.96344,     0.96347,      0.9635,     0.96353,     0.96356,     0.96359,     0.96362,     0.96365,     0.96368,     0.96371,     0.96374,     0.96377,      0.9638,     0.96383,\n",
      "            0.96386,     0.96389,     0.96392,     0.96395,     0.96398,     0.96401,     0.96404,     0.96407,      0.9641,     0.96413,     0.96416,     0.96419,     0.96422,     0.96425,     0.96428,     0.96431,     0.96434,     0.96437,      0.9644,     0.96443,     0.96446,     0.96449,     0.96452,\n",
      "            0.96455,     0.96458,     0.96461,     0.96464,     0.96467,      0.9647,     0.96473,     0.96476,     0.96479,     0.96482,     0.96485,     0.96488,     0.96491,     0.96494,     0.96497,       0.965,     0.96503,     0.96506,     0.96509,     0.96512,      0.9652,     0.96528,     0.96536,\n",
      "            0.96544,     0.96553,     0.96561,     0.96569,     0.96577,     0.96585,     0.96594,     0.96602,      0.9661,     0.96618,     0.96627,     0.96635,     0.96643,     0.96651,      0.9666,     0.96668,     0.96676,     0.96684,     0.96692,     0.96698,     0.96695,     0.96692,     0.96689,\n",
      "            0.96686,     0.96683,      0.9668,     0.96677,     0.96674,      0.9667,     0.96667,     0.96664,     0.96661,     0.96658,     0.96655,     0.96652,     0.96649,     0.96646,     0.96642,     0.96639,     0.96636,     0.96633,      0.9663,     0.96627,     0.96624,     0.96621,     0.96618,\n",
      "            0.96614,     0.96611,     0.96608,     0.96605,     0.96602,     0.96599,     0.96596,     0.96593,     0.96589,     0.96586,     0.96583,      0.9658,     0.96577,     0.96574,     0.96571,     0.96568,     0.96565,     0.96561,     0.96558,     0.96555,     0.96552,     0.96549,     0.96546,\n",
      "            0.96543,      0.9654,     0.96536,     0.96533,      0.9653,     0.96527,     0.96524,     0.96521,     0.96518,     0.96515,     0.96512,     0.96508,     0.96505,     0.96502,     0.96499,     0.96494,     0.96489,     0.96483,     0.96477,     0.96472,     0.96466,     0.96461,     0.96455,\n",
      "            0.96449,     0.96444,     0.96438,     0.96432,     0.96427,     0.96421,     0.96416,      0.9641,     0.96404,     0.96399,     0.96393,     0.96387,     0.96382,     0.96376,     0.96371,     0.96365,     0.96359,     0.96354,     0.96348,     0.96342,     0.96337,     0.96331,     0.96326,\n",
      "             0.9632,     0.96314,     0.96309,     0.96303,     0.96297,       0.963,     0.96305,      0.9631,     0.96315,      0.9632,     0.96325,      0.9633,     0.96335,     0.96339,     0.96344,     0.96349,     0.96354,     0.96359,     0.96364,     0.96369,     0.96374,     0.96379,     0.96384,\n",
      "            0.96389,     0.96393,     0.96398,     0.96403,     0.96408,     0.96413,     0.96418,     0.96423,     0.96428,     0.96433,     0.96438,     0.96442,     0.96447,     0.96452,     0.96457,     0.96462,     0.96467,     0.96472,     0.96477,     0.96482,      0.9648,     0.96471,     0.96461,\n",
      "            0.96452,     0.96443,     0.96433,     0.96424,     0.96414,     0.96405,     0.96396,     0.96386,     0.96377,     0.96367,     0.96358,     0.96349,     0.96339,      0.9633,      0.9632,     0.96311,     0.96302,     0.96292,     0.96283,     0.96167,     0.96057,     0.95987,     0.95917,\n",
      "            0.95822,     0.95685,     0.95653,     0.95635,     0.95617,     0.95599,     0.95581,     0.95563,     0.95545,     0.95527,     0.95509,     0.95491,     0.95473,     0.95258,     0.95267,     0.95276,     0.95286,     0.95295,     0.95304,     0.95313,     0.95322,     0.95332,     0.95341,\n",
      "             0.9535,     0.95359,     0.95368,     0.95377,     0.95387,     0.95396,     0.95405,     0.95414,     0.95423,     0.95432,     0.95442,     0.95454,     0.95468,     0.95483,     0.95498,     0.95512,     0.95527,     0.95541,     0.95556,      0.9557,     0.95585,       0.956,     0.95614,\n",
      "            0.95629,     0.95601,      0.9554,     0.95479,     0.95415,     0.95334,     0.95254,     0.95213,     0.95202,     0.95191,     0.95181,      0.9517,     0.95159,     0.95148,     0.95137,     0.95126,     0.95116,     0.95105,     0.95094,     0.95083,     0.95072,     0.95062,     0.95051,\n",
      "             0.9504,     0.95029,     0.95018,     0.94977,     0.94837,     0.94775,      0.9474,     0.94706,     0.94671,     0.94636,     0.94602,     0.94576,     0.94556,     0.94536,     0.94516,     0.94496,     0.94476,     0.94456,     0.94436,     0.94416,     0.94396,     0.94365,     0.94227,\n",
      "             0.9395,      0.9394,      0.9393,      0.9392,      0.9391,       0.939,      0.9389,      0.9388,      0.9387,      0.9386,      0.9385,      0.9384,      0.9383,      0.9382,      0.9381,       0.938,      0.9379,      0.9378,     0.93771,     0.93761,     0.93751,     0.93741,     0.93722,\n",
      "              0.937,     0.93677,     0.93655,     0.93633,      0.9361,     0.93588,     0.93565,     0.93543,      0.9352,     0.93497,     0.93474,     0.93451,     0.93428,     0.93405,     0.93381,     0.93358,     0.93335,     0.93312,     0.93102,      0.9285,     0.92818,     0.92786,     0.92755,\n",
      "            0.92723,     0.92691,      0.9266,     0.92579,     0.92485,     0.92298,     0.92172,     0.92115,     0.92058,        0.92,     0.91759,     0.91719,      0.9168,      0.9164,       0.916,      0.9156,     0.91568,       0.916,     0.91633,     0.91665,     0.91697,     0.91729,     0.91481,\n",
      "            0.91442,     0.91403,     0.91364,     0.91325,     0.91281,     0.90679,     0.90373,     0.90296,      0.9022,     0.90138,     0.89935,     0.89667,     0.89614,      0.8956,     0.89507,     0.89453,     0.89173,     0.89078,     0.88983,     0.88762,     0.88421,     0.88323,     0.88135,\n",
      "            0.87752,     0.87633,     0.87265,     0.87058,      0.8691,      0.8678,     0.86675,      0.8655,     0.86296,     0.86135,     0.86028,     0.85945,     0.85862,     0.85552,     0.85063,     0.84918,     0.84692,     0.84023,     0.83764,     0.82927,     0.81963,     0.81557,     0.80909,\n",
      "            0.80778,     0.80647,     0.80383,     0.79693,     0.79472,     0.79171,     0.78732,      0.7854,     0.77887,     0.77771,     0.77686,       0.776,     0.77412,     0.77111,     0.76321,     0.75672,     0.75122,     0.74584,     0.73374,     0.72535,     0.70225,     0.69097,     0.67897,\n",
      "            0.67129,     0.65036,     0.63679,     0.62993,      0.6271,     0.61361,     0.59388,     0.57116,     0.55416,     0.53495,     0.52745,     0.51098,     0.49621,     0.47243,     0.44936,     0.43906,     0.42173,     0.40873,     0.38244,     0.37033,     0.35061,     0.31941,      0.3102,\n",
      "            0.27533,     0.25588,     0.23884,     0.21567,     0.19665,     0.16914,     0.14604,     0.13241,     0.11682,     0.10202,     0.09147,    0.073305,     0.07145,    0.069593,    0.067731,    0.059136,    0.042525,    0.027641,      0.0243,    0.021255,    0.018503,    0.015743,           0,\n",
      "                  0,           0,           0,           0,           0,           0,           0,           0,           0,           0,           0,           0,           0,           0,           0,           0,           0,           0,           0,           0,           0,           0,           0,\n",
      "                  0,           0,           0,           0,           0,           0,           0,           0,           0,           0,           0,           0,           0,           0,           0,           0,           0,           0,           0,           0,           0,           0,           0,\n",
      "                  0,           0,           0,           0,           0,           0,           0,           0,           0,           0,           0,           0,           0,           0,           0,           0,           0,           0,           0,           0,           0,           0,           0,\n",
      "                  0,           0,           0,           0,           0,           0,           0,           0,           0,           0,           0]]), 'Confidence', 'F1'], [array([          0,    0.001001,    0.002002,    0.003003,    0.004004,    0.005005,    0.006006,    0.007007,    0.008008,    0.009009,     0.01001,    0.011011,    0.012012,    0.013013,    0.014014,    0.015015,    0.016016,    0.017017,    0.018018,    0.019019,     0.02002,    0.021021,    0.022022,    0.023023,\n",
      "          0.024024,    0.025025,    0.026026,    0.027027,    0.028028,    0.029029,     0.03003,    0.031031,    0.032032,    0.033033,    0.034034,    0.035035,    0.036036,    0.037037,    0.038038,    0.039039,     0.04004,    0.041041,    0.042042,    0.043043,    0.044044,    0.045045,    0.046046,    0.047047,\n",
      "          0.048048,    0.049049,     0.05005,    0.051051,    0.052052,    0.053053,    0.054054,    0.055055,    0.056056,    0.057057,    0.058058,    0.059059,     0.06006,    0.061061,    0.062062,    0.063063,    0.064064,    0.065065,    0.066066,    0.067067,    0.068068,    0.069069,     0.07007,    0.071071,\n",
      "          0.072072,    0.073073,    0.074074,    0.075075,    0.076076,    0.077077,    0.078078,    0.079079,     0.08008,    0.081081,    0.082082,    0.083083,    0.084084,    0.085085,    0.086086,    0.087087,    0.088088,    0.089089,     0.09009,    0.091091,    0.092092,    0.093093,    0.094094,    0.095095,\n",
      "          0.096096,    0.097097,    0.098098,    0.099099,      0.1001,      0.1011,      0.1021,      0.1031,      0.1041,     0.10511,     0.10611,     0.10711,     0.10811,     0.10911,     0.11011,     0.11111,     0.11211,     0.11311,     0.11411,     0.11512,     0.11612,     0.11712,     0.11812,     0.11912,\n",
      "           0.12012,     0.12112,     0.12212,     0.12312,     0.12412,     0.12513,     0.12613,     0.12713,     0.12813,     0.12913,     0.13013,     0.13113,     0.13213,     0.13313,     0.13413,     0.13514,     0.13614,     0.13714,     0.13814,     0.13914,     0.14014,     0.14114,     0.14214,     0.14314,\n",
      "           0.14414,     0.14515,     0.14615,     0.14715,     0.14815,     0.14915,     0.15015,     0.15115,     0.15215,     0.15315,     0.15415,     0.15516,     0.15616,     0.15716,     0.15816,     0.15916,     0.16016,     0.16116,     0.16216,     0.16316,     0.16416,     0.16517,     0.16617,     0.16717,\n",
      "           0.16817,     0.16917,     0.17017,     0.17117,     0.17217,     0.17317,     0.17417,     0.17518,     0.17618,     0.17718,     0.17818,     0.17918,     0.18018,     0.18118,     0.18218,     0.18318,     0.18418,     0.18519,     0.18619,     0.18719,     0.18819,     0.18919,     0.19019,     0.19119,\n",
      "           0.19219,     0.19319,     0.19419,      0.1952,      0.1962,      0.1972,      0.1982,      0.1992,      0.2002,      0.2012,      0.2022,      0.2032,      0.2042,     0.20521,     0.20621,     0.20721,     0.20821,     0.20921,     0.21021,     0.21121,     0.21221,     0.21321,     0.21421,     0.21522,\n",
      "           0.21622,     0.21722,     0.21822,     0.21922,     0.22022,     0.22122,     0.22222,     0.22322,     0.22422,     0.22523,     0.22623,     0.22723,     0.22823,     0.22923,     0.23023,     0.23123,     0.23223,     0.23323,     0.23423,     0.23524,     0.23624,     0.23724,     0.23824,     0.23924,\n",
      "           0.24024,     0.24124,     0.24224,     0.24324,     0.24424,     0.24525,     0.24625,     0.24725,     0.24825,     0.24925,     0.25025,     0.25125,     0.25225,     0.25325,     0.25425,     0.25526,     0.25626,     0.25726,     0.25826,     0.25926,     0.26026,     0.26126,     0.26226,     0.26326,\n",
      "           0.26426,     0.26527,     0.26627,     0.26727,     0.26827,     0.26927,     0.27027,     0.27127,     0.27227,     0.27327,     0.27427,     0.27528,     0.27628,     0.27728,     0.27828,     0.27928,     0.28028,     0.28128,     0.28228,     0.28328,     0.28428,     0.28529,     0.28629,     0.28729,\n",
      "           0.28829,     0.28929,     0.29029,     0.29129,     0.29229,     0.29329,     0.29429,      0.2953,      0.2963,      0.2973,      0.2983,      0.2993,      0.3003,      0.3013,      0.3023,      0.3033,      0.3043,     0.30531,     0.30631,     0.30731,     0.30831,     0.30931,     0.31031,     0.31131,\n",
      "           0.31231,     0.31331,     0.31431,     0.31532,     0.31632,     0.31732,     0.31832,     0.31932,     0.32032,     0.32132,     0.32232,     0.32332,     0.32432,     0.32533,     0.32633,     0.32733,     0.32833,     0.32933,     0.33033,     0.33133,     0.33233,     0.33333,     0.33433,     0.33534,\n",
      "           0.33634,     0.33734,     0.33834,     0.33934,     0.34034,     0.34134,     0.34234,     0.34334,     0.34434,     0.34535,     0.34635,     0.34735,     0.34835,     0.34935,     0.35035,     0.35135,     0.35235,     0.35335,     0.35435,     0.35536,     0.35636,     0.35736,     0.35836,     0.35936,\n",
      "           0.36036,     0.36136,     0.36236,     0.36336,     0.36436,     0.36537,     0.36637,     0.36737,     0.36837,     0.36937,     0.37037,     0.37137,     0.37237,     0.37337,     0.37437,     0.37538,     0.37638,     0.37738,     0.37838,     0.37938,     0.38038,     0.38138,     0.38238,     0.38338,\n",
      "           0.38438,     0.38539,     0.38639,     0.38739,     0.38839,     0.38939,     0.39039,     0.39139,     0.39239,     0.39339,     0.39439,      0.3954,      0.3964,      0.3974,      0.3984,      0.3994,      0.4004,      0.4014,      0.4024,      0.4034,      0.4044,     0.40541,     0.40641,     0.40741,\n",
      "           0.40841,     0.40941,     0.41041,     0.41141,     0.41241,     0.41341,     0.41441,     0.41542,     0.41642,     0.41742,     0.41842,     0.41942,     0.42042,     0.42142,     0.42242,     0.42342,     0.42442,     0.42543,     0.42643,     0.42743,     0.42843,     0.42943,     0.43043,     0.43143,\n",
      "           0.43243,     0.43343,     0.43443,     0.43544,     0.43644,     0.43744,     0.43844,     0.43944,     0.44044,     0.44144,     0.44244,     0.44344,     0.44444,     0.44545,     0.44645,     0.44745,     0.44845,     0.44945,     0.45045,     0.45145,     0.45245,     0.45345,     0.45445,     0.45546,\n",
      "           0.45646,     0.45746,     0.45846,     0.45946,     0.46046,     0.46146,     0.46246,     0.46346,     0.46446,     0.46547,     0.46647,     0.46747,     0.46847,     0.46947,     0.47047,     0.47147,     0.47247,     0.47347,     0.47447,     0.47548,     0.47648,     0.47748,     0.47848,     0.47948,\n",
      "           0.48048,     0.48148,     0.48248,     0.48348,     0.48448,     0.48549,     0.48649,     0.48749,     0.48849,     0.48949,     0.49049,     0.49149,     0.49249,     0.49349,     0.49449,      0.4955,      0.4965,      0.4975,      0.4985,      0.4995,      0.5005,      0.5015,      0.5025,      0.5035,\n",
      "            0.5045,     0.50551,     0.50651,     0.50751,     0.50851,     0.50951,     0.51051,     0.51151,     0.51251,     0.51351,     0.51451,     0.51552,     0.51652,     0.51752,     0.51852,     0.51952,     0.52052,     0.52152,     0.52252,     0.52352,     0.52452,     0.52553,     0.52653,     0.52753,\n",
      "           0.52853,     0.52953,     0.53053,     0.53153,     0.53253,     0.53353,     0.53453,     0.53554,     0.53654,     0.53754,     0.53854,     0.53954,     0.54054,     0.54154,     0.54254,     0.54354,     0.54454,     0.54555,     0.54655,     0.54755,     0.54855,     0.54955,     0.55055,     0.55155,\n",
      "           0.55255,     0.55355,     0.55455,     0.55556,     0.55656,     0.55756,     0.55856,     0.55956,     0.56056,     0.56156,     0.56256,     0.56356,     0.56456,     0.56557,     0.56657,     0.56757,     0.56857,     0.56957,     0.57057,     0.57157,     0.57257,     0.57357,     0.57457,     0.57558,\n",
      "           0.57658,     0.57758,     0.57858,     0.57958,     0.58058,     0.58158,     0.58258,     0.58358,     0.58458,     0.58559,     0.58659,     0.58759,     0.58859,     0.58959,     0.59059,     0.59159,     0.59259,     0.59359,     0.59459,      0.5956,      0.5966,      0.5976,      0.5986,      0.5996,\n",
      "            0.6006,      0.6016,      0.6026,      0.6036,      0.6046,     0.60561,     0.60661,     0.60761,     0.60861,     0.60961,     0.61061,     0.61161,     0.61261,     0.61361,     0.61461,     0.61562,     0.61662,     0.61762,     0.61862,     0.61962,     0.62062,     0.62162,     0.62262,     0.62362,\n",
      "           0.62462,     0.62563,     0.62663,     0.62763,     0.62863,     0.62963,     0.63063,     0.63163,     0.63263,     0.63363,     0.63463,     0.63564,     0.63664,     0.63764,     0.63864,     0.63964,     0.64064,     0.64164,     0.64264,     0.64364,     0.64464,     0.64565,     0.64665,     0.64765,\n",
      "           0.64865,     0.64965,     0.65065,     0.65165,     0.65265,     0.65365,     0.65465,     0.65566,     0.65666,     0.65766,     0.65866,     0.65966,     0.66066,     0.66166,     0.66266,     0.66366,     0.66466,     0.66567,     0.66667,     0.66767,     0.66867,     0.66967,     0.67067,     0.67167,\n",
      "           0.67267,     0.67367,     0.67467,     0.67568,     0.67668,     0.67768,     0.67868,     0.67968,     0.68068,     0.68168,     0.68268,     0.68368,     0.68468,     0.68569,     0.68669,     0.68769,     0.68869,     0.68969,     0.69069,     0.69169,     0.69269,     0.69369,     0.69469,      0.6957,\n",
      "            0.6967,      0.6977,      0.6987,      0.6997,      0.7007,      0.7017,      0.7027,      0.7037,      0.7047,     0.70571,     0.70671,     0.70771,     0.70871,     0.70971,     0.71071,     0.71171,     0.71271,     0.71371,     0.71471,     0.71572,     0.71672,     0.71772,     0.71872,     0.71972,\n",
      "           0.72072,     0.72172,     0.72272,     0.72372,     0.72472,     0.72573,     0.72673,     0.72773,     0.72873,     0.72973,     0.73073,     0.73173,     0.73273,     0.73373,     0.73473,     0.73574,     0.73674,     0.73774,     0.73874,     0.73974,     0.74074,     0.74174,     0.74274,     0.74374,\n",
      "           0.74474,     0.74575,     0.74675,     0.74775,     0.74875,     0.74975,     0.75075,     0.75175,     0.75275,     0.75375,     0.75475,     0.75576,     0.75676,     0.75776,     0.75876,     0.75976,     0.76076,     0.76176,     0.76276,     0.76376,     0.76476,     0.76577,     0.76677,     0.76777,\n",
      "           0.76877,     0.76977,     0.77077,     0.77177,     0.77277,     0.77377,     0.77477,     0.77578,     0.77678,     0.77778,     0.77878,     0.77978,     0.78078,     0.78178,     0.78278,     0.78378,     0.78478,     0.78579,     0.78679,     0.78779,     0.78879,     0.78979,     0.79079,     0.79179,\n",
      "           0.79279,     0.79379,     0.79479,      0.7958,      0.7968,      0.7978,      0.7988,      0.7998,      0.8008,      0.8018,      0.8028,      0.8038,      0.8048,     0.80581,     0.80681,     0.80781,     0.80881,     0.80981,     0.81081,     0.81181,     0.81281,     0.81381,     0.81481,     0.81582,\n",
      "           0.81682,     0.81782,     0.81882,     0.81982,     0.82082,     0.82182,     0.82282,     0.82382,     0.82482,     0.82583,     0.82683,     0.82783,     0.82883,     0.82983,     0.83083,     0.83183,     0.83283,     0.83383,     0.83483,     0.83584,     0.83684,     0.83784,     0.83884,     0.83984,\n",
      "           0.84084,     0.84184,     0.84284,     0.84384,     0.84484,     0.84585,     0.84685,     0.84785,     0.84885,     0.84985,     0.85085,     0.85185,     0.85285,     0.85385,     0.85485,     0.85586,     0.85686,     0.85786,     0.85886,     0.85986,     0.86086,     0.86186,     0.86286,     0.86386,\n",
      "           0.86486,     0.86587,     0.86687,     0.86787,     0.86887,     0.86987,     0.87087,     0.87187,     0.87287,     0.87387,     0.87487,     0.87588,     0.87688,     0.87788,     0.87888,     0.87988,     0.88088,     0.88188,     0.88288,     0.88388,     0.88488,     0.88589,     0.88689,     0.88789,\n",
      "           0.88889,     0.88989,     0.89089,     0.89189,     0.89289,     0.89389,     0.89489,      0.8959,      0.8969,      0.8979,      0.8989,      0.8999,      0.9009,      0.9019,      0.9029,      0.9039,      0.9049,     0.90591,     0.90691,     0.90791,     0.90891,     0.90991,     0.91091,     0.91191,\n",
      "           0.91291,     0.91391,     0.91491,     0.91592,     0.91692,     0.91792,     0.91892,     0.91992,     0.92092,     0.92192,     0.92292,     0.92392,     0.92492,     0.92593,     0.92693,     0.92793,     0.92893,     0.92993,     0.93093,     0.93193,     0.93293,     0.93393,     0.93493,     0.93594,\n",
      "           0.93694,     0.93794,     0.93894,     0.93994,     0.94094,     0.94194,     0.94294,     0.94394,     0.94494,     0.94595,     0.94695,     0.94795,     0.94895,     0.94995,     0.95095,     0.95195,     0.95295,     0.95395,     0.95495,     0.95596,     0.95696,     0.95796,     0.95896,     0.95996,\n",
      "           0.96096,     0.96196,     0.96296,     0.96396,     0.96496,     0.96597,     0.96697,     0.96797,     0.96897,     0.96997,     0.97097,     0.97197,     0.97297,     0.97397,     0.97497,     0.97598,     0.97698,     0.97798,     0.97898,     0.97998,     0.98098,     0.98198,     0.98298,     0.98398,\n",
      "           0.98498,     0.98599,     0.98699,     0.98799,     0.98899,     0.98999,     0.99099,     0.99199,     0.99299,     0.99399,     0.99499,       0.996,       0.997,       0.998,       0.999,           1]), array([[    0.52227,     0.52227,     0.63272,     0.70125,     0.72512,     0.75361,     0.77592,     0.79245,     0.80538,     0.81583,     0.83166,     0.83704,      0.8407,     0.84245,     0.85193,      0.8598,     0.86212,     0.86273,     0.86334,     0.86395,     0.86456,     0.86573,     0.86744,\n",
      "            0.86962,      0.8717,     0.87356,      0.8772,     0.87807,     0.87894,     0.88023,     0.88307,     0.88366,     0.88424,     0.88483,     0.88541,     0.89064,     0.89262,     0.89331,     0.89399,     0.89467,     0.89587,       0.898,     0.90245,      0.9047,     0.90518,     0.90567,\n",
      "            0.90615,     0.90664,     0.90712,     0.90761,     0.90804,     0.90843,     0.90882,     0.90921,      0.9096,     0.90999,     0.91038,     0.91077,     0.91224,      0.9149,     0.91634,     0.91763,     0.91806,     0.91848,     0.91891,     0.91934,     0.91977,     0.92019,     0.92062,\n",
      "            0.92207,     0.92733,     0.93096,     0.93119,     0.93142,     0.93164,     0.93187,     0.93209,     0.93232,     0.93254,     0.93277,     0.93299,     0.93322,     0.93344,     0.93367,      0.9339,     0.93412,     0.93434,     0.93456,     0.93477,     0.93499,      0.9352,     0.93541,\n",
      "            0.93563,     0.93584,     0.93606,     0.93627,     0.93648,      0.9367,     0.93691,     0.93713,     0.93734,     0.93755,     0.93779,     0.93815,     0.93851,     0.93887,     0.93923,     0.93958,     0.93994,      0.9403,     0.94066,     0.94102,     0.94102,     0.94095,     0.94093,\n",
      "            0.94092,      0.9409,     0.94089,     0.94087,     0.94086,     0.94084,     0.94083,     0.94081,     0.94079,     0.94078,     0.94076,     0.94075,     0.94425,     0.94444,     0.94463,     0.94482,     0.94501,      0.9452,     0.94539,     0.94559,     0.94578,     0.94597,     0.94616,\n",
      "            0.94635,     0.94654,     0.94674,     0.94693,     0.94712,     0.94731,      0.9475,     0.94769,     0.94775,     0.94774,     0.94772,     0.94771,     0.94769,     0.94768,     0.94767,     0.94765,     0.94764,     0.94762,     0.94761,     0.94759,     0.94758,     0.94757,     0.94764,\n",
      "            0.94772,     0.94779,     0.94786,     0.94793,     0.94801,     0.94808,     0.94815,     0.94822,      0.9483,     0.94837,     0.94844,     0.94851,     0.94859,     0.94866,     0.94873,      0.9488,     0.94888,     0.94895,     0.94902,     0.94909,     0.94917,     0.94924,     0.94931,\n",
      "            0.94939,     0.94946,     0.94953,      0.9496,     0.94968,     0.94975,     0.94982,     0.94989,     0.94997,     0.95004,     0.95011,     0.95018,     0.95026,     0.95033,      0.9504,     0.95047,     0.95055,     0.95062,     0.95069,     0.95076,     0.95084,     0.95091,     0.95098,\n",
      "            0.95105,     0.95113,     0.95188,     0.95263,     0.95338,     0.95414,     0.95474,     0.95482,     0.95491,     0.95499,     0.95508,     0.95517,     0.95525,     0.95534,     0.95542,     0.95551,      0.9556,     0.95568,     0.95577,     0.95585,     0.95594,     0.95603,     0.95611,\n",
      "             0.9562,     0.95628,     0.95637,     0.95646,     0.95654,     0.95663,     0.95671,      0.9568,     0.95689,     0.95697,     0.95706,     0.95714,     0.95723,     0.95732,      0.9574,     0.95749,     0.95757,     0.95766,     0.95775,     0.95783,     0.95792,       0.958,     0.95809,\n",
      "            0.95818,     0.95826,     0.95833,     0.95832,      0.9583,     0.95829,     0.95827,     0.95826,     0.95824,     0.95823,     0.95821,      0.9582,     0.95818,     0.95817,     0.95817,     0.95816,     0.95815,     0.95815,     0.95814,     0.95814,     0.95813,     0.95812,     0.95812,\n",
      "            0.95811,     0.95811,      0.9581,     0.95809,     0.95809,     0.95808,     0.95808,     0.95807,     0.95806,     0.95806,     0.95805,     0.95804,     0.95804,     0.95803,     0.95803,     0.95802,     0.95807,      0.9584,     0.95872,     0.95905,     0.95938,      0.9597,     0.96003,\n",
      "            0.96036,     0.96069,     0.96101,     0.96134,     0.96167,     0.96189,      0.9621,     0.96232,     0.96254,     0.96275,     0.96297,     0.96318,      0.9634,     0.96362,     0.96383,     0.96405,     0.96426,     0.96448,     0.96469,     0.96491,     0.96513,     0.96534,     0.96565,\n",
      "            0.96597,      0.9663,     0.96662,     0.96695,     0.96727,      0.9676,     0.96792,     0.96825,     0.96857,      0.9689,      0.9691,     0.96906,     0.96903,     0.96903,     0.96946,     0.96989,     0.97033,     0.97076,     0.97119,     0.97162,     0.97205,     0.97249,     0.97276,\n",
      "            0.97276,     0.97276,     0.97275,     0.97275,     0.97275,     0.97275,     0.97274,     0.97274,     0.97274,     0.97273,     0.97273,     0.97273,     0.97273,     0.97272,     0.97272,     0.97272,     0.97272,     0.97271,     0.97271,     0.97271,      0.9727,      0.9727,      0.9727,\n",
      "             0.9727,     0.97269,     0.97269,     0.97269,     0.97269,     0.97268,     0.97268,     0.97268,     0.97267,     0.97267,     0.97267,     0.97267,     0.97266,     0.97266,     0.97266,     0.97276,      0.9731,     0.97345,      0.9738,     0.97415,      0.9745,     0.97485,     0.97519,\n",
      "            0.97554,     0.97589,     0.97624,     0.97649,     0.97655,     0.97661,     0.97668,     0.97674,      0.9768,     0.97686,     0.97692,     0.97698,     0.97705,     0.97711,     0.97717,     0.97723,     0.97729,     0.97735,     0.97742,     0.97748,     0.97754,      0.9776,     0.97766,\n",
      "            0.97772,     0.97779,     0.97785,     0.97791,     0.97797,     0.97803,     0.97809,     0.97816,     0.97822,     0.97828,     0.97834,      0.9784,     0.97846,     0.97853,     0.97859,     0.97865,     0.97871,     0.97877,     0.97883,      0.9789,     0.97896,     0.97902,     0.97908,\n",
      "            0.97914,      0.9792,     0.97926,     0.97933,     0.97939,     0.97945,     0.97951,     0.97957,     0.97963,      0.9797,     0.97976,     0.97982,     0.97988,     0.97994,        0.98,     0.98007,     0.98013,     0.98019,     0.98025,     0.98031,     0.98048,     0.98065,     0.98082,\n",
      "            0.98099,     0.98116,     0.98133,      0.9815,     0.98167,     0.98184,     0.98201,     0.98218,     0.98235,     0.98252,     0.98269,     0.98286,     0.98303,      0.9832,     0.98337,     0.98354,     0.98371,     0.98388,     0.98405,     0.98419,     0.98419,     0.98419,     0.98419,\n",
      "            0.98419,     0.98418,     0.98418,     0.98418,     0.98418,     0.98418,     0.98418,     0.98418,     0.98418,     0.98418,     0.98418,     0.98417,     0.98417,     0.98417,     0.98417,     0.98417,     0.98417,     0.98417,     0.98417,     0.98417,     0.98417,     0.98417,     0.98416,\n",
      "            0.98416,     0.98416,     0.98416,     0.98416,     0.98416,     0.98416,     0.98416,     0.98416,     0.98416,     0.98415,     0.98415,     0.98415,     0.98415,     0.98415,     0.98415,     0.98415,     0.98415,     0.98415,     0.98415,     0.98414,     0.98414,     0.98414,     0.98414,\n",
      "            0.98414,     0.98414,     0.98414,     0.98414,     0.98414,     0.98414,     0.98414,     0.98413,     0.98413,     0.98413,     0.98413,     0.98413,     0.98413,     0.98413,     0.98413,     0.98413,     0.98412,     0.98412,     0.98412,     0.98412,     0.98412,     0.98412,     0.98411,\n",
      "            0.98411,     0.98411,     0.98411,     0.98411,      0.9841,      0.9841,      0.9841,      0.9841,      0.9841,      0.9841,     0.98409,     0.98409,     0.98409,     0.98409,     0.98409,     0.98409,     0.98408,     0.98408,     0.98408,     0.98408,     0.98408,     0.98407,     0.98407,\n",
      "            0.98407,     0.98407,     0.98407,     0.98407,     0.98406,     0.98415,     0.98425,     0.98435,     0.98445,     0.98456,     0.98466,     0.98476,     0.98486,     0.98497,     0.98507,     0.98517,     0.98527,     0.98538,     0.98548,     0.98558,     0.98568,     0.98579,     0.98589,\n",
      "            0.98599,      0.9861,      0.9862,      0.9863,      0.9864,     0.98651,     0.98661,     0.98671,     0.98681,     0.98692,     0.98702,     0.98712,     0.98722,     0.98733,     0.98743,     0.98753,     0.98763,     0.98774,     0.98784,     0.98794,       0.988,       0.988,     0.98799,\n",
      "            0.98799,     0.98799,     0.98799,     0.98799,     0.98798,     0.98798,     0.98798,     0.98798,     0.98797,     0.98797,     0.98797,     0.98797,     0.98797,     0.98796,     0.98796,     0.98796,     0.98796,     0.98795,     0.98795,     0.98792,      0.9879,     0.98788,     0.98786,\n",
      "            0.98784,     0.98781,      0.9878,      0.9878,     0.98779,     0.98779,     0.98778,     0.98778,     0.98777,     0.98777,     0.98777,     0.98776,     0.98776,     0.98773,     0.98793,     0.98813,     0.98832,     0.98852,     0.98872,     0.98892,     0.98911,     0.98931,     0.98951,\n",
      "            0.98971,      0.9899,      0.9901,      0.9903,      0.9905,      0.9907,     0.99089,     0.99109,     0.99129,     0.99149,     0.99168,     0.99195,     0.99226,     0.99258,     0.99289,     0.99321,     0.99352,     0.99384,     0.99415,     0.99447,     0.99479,      0.9951,     0.99542,\n",
      "            0.99573,     0.99586,     0.99586,     0.99585,     0.99585,     0.99584,     0.99584,     0.99583,     0.99583,     0.99583,     0.99583,     0.99583,     0.99583,     0.99583,     0.99583,     0.99583,     0.99582,     0.99582,     0.99582,     0.99582,     0.99582,     0.99582,     0.99582,\n",
      "            0.99582,     0.99582,     0.99582,     0.99581,      0.9958,      0.9958,     0.99579,     0.99579,     0.99579,     0.99578,     0.99578,     0.99578,     0.99578,     0.99578,     0.99577,     0.99577,     0.99577,     0.99577,     0.99577,     0.99577,     0.99576,     0.99576,     0.99575,\n",
      "            0.99573,     0.99573,     0.99572,     0.99572,     0.99572,     0.99572,     0.99572,     0.99572,     0.99572,     0.99572,     0.99572,     0.99572,     0.99572,     0.99572,     0.99571,     0.99571,     0.99571,     0.99571,     0.99571,     0.99571,     0.99571,     0.99571,     0.99571,\n",
      "             0.9957,      0.9957,      0.9957,      0.9957,      0.9957,      0.9957,     0.99569,     0.99569,     0.99569,     0.99569,     0.99569,     0.99568,     0.99568,     0.99568,     0.99568,     0.99568,     0.99567,     0.99567,     0.99565,     0.99563,     0.99563,     0.99563,     0.99562,\n",
      "            0.99562,     0.99562,     0.99561,     0.99561,      0.9956,     0.99558,     0.99557,     0.99557,     0.99556,     0.99556,     0.99553,     0.99553,     0.99553,     0.99552,     0.99552,     0.99552,     0.99602,     0.99679,     0.99755,     0.99832,     0.99908,     0.99985,           1,\n",
      "                  1,           1,           1,           1,           1,           1,           1,           1,           1,           1,           1,           1,           1,           1,           1,           1,           1,           1,           1,           1,           1,           1,           1,\n",
      "                  1,           1,           1,           1,           1,           1,           1,           1,           1,           1,           1,           1,           1,           1,           1,           1,           1,           1,           1,           1,           1,           1,           1,\n",
      "                  1,           1,           1,           1,           1,           1,           1,           1,           1,           1,           1,           1,           1,           1,           1,           1,           1,           1,           1,           1,           1,           1,           1,\n",
      "                  1,           1,           1,           1,           1,           1,           1,           1,           1,           1,           1,           1,           1,           1,           1,           1,           1,           1,           1,           1,           1,           1,           1,\n",
      "                  1,           1,           1,           1,           1,           1,           1,           1,           1,           1,           1,           1,           1,           1,           1,           1,           1,           1,           1,           1,           1,           1,           1,\n",
      "                  1,           1,           1,           1,           1,           1,           1,           1,           1,           1,           1,           1,           1,           1,           1,           1,           1,           1,           1,           1,           1,           1,           1,\n",
      "                  1,           1,           1,           1,           1,           1,           1,           1,           1,           1,           1,           1,           1,           1,           1,           1,           1,           1,           1,           1,           1,           1,           1,\n",
      "                  1,           1,           1,           1,           1,           1,           1,           1,           1,           1,           1,           1,           1,           1,           1,           1,           1,           1,           1,           1,           1,           1,           1,\n",
      "                  1,           1,           1,           1,           1,           1,           1,           1,           1,           1,           1]]), 'Confidence', 'Precision'], [array([          0,    0.001001,    0.002002,    0.003003,    0.004004,    0.005005,    0.006006,    0.007007,    0.008008,    0.009009,     0.01001,    0.011011,    0.012012,    0.013013,    0.014014,    0.015015,    0.016016,    0.017017,    0.018018,    0.019019,     0.02002,    0.021021,    0.022022,    0.023023,\n",
      "          0.024024,    0.025025,    0.026026,    0.027027,    0.028028,    0.029029,     0.03003,    0.031031,    0.032032,    0.033033,    0.034034,    0.035035,    0.036036,    0.037037,    0.038038,    0.039039,     0.04004,    0.041041,    0.042042,    0.043043,    0.044044,    0.045045,    0.046046,    0.047047,\n",
      "          0.048048,    0.049049,     0.05005,    0.051051,    0.052052,    0.053053,    0.054054,    0.055055,    0.056056,    0.057057,    0.058058,    0.059059,     0.06006,    0.061061,    0.062062,    0.063063,    0.064064,    0.065065,    0.066066,    0.067067,    0.068068,    0.069069,     0.07007,    0.071071,\n",
      "          0.072072,    0.073073,    0.074074,    0.075075,    0.076076,    0.077077,    0.078078,    0.079079,     0.08008,    0.081081,    0.082082,    0.083083,    0.084084,    0.085085,    0.086086,    0.087087,    0.088088,    0.089089,     0.09009,    0.091091,    0.092092,    0.093093,    0.094094,    0.095095,\n",
      "          0.096096,    0.097097,    0.098098,    0.099099,      0.1001,      0.1011,      0.1021,      0.1031,      0.1041,     0.10511,     0.10611,     0.10711,     0.10811,     0.10911,     0.11011,     0.11111,     0.11211,     0.11311,     0.11411,     0.11512,     0.11612,     0.11712,     0.11812,     0.11912,\n",
      "           0.12012,     0.12112,     0.12212,     0.12312,     0.12412,     0.12513,     0.12613,     0.12713,     0.12813,     0.12913,     0.13013,     0.13113,     0.13213,     0.13313,     0.13413,     0.13514,     0.13614,     0.13714,     0.13814,     0.13914,     0.14014,     0.14114,     0.14214,     0.14314,\n",
      "           0.14414,     0.14515,     0.14615,     0.14715,     0.14815,     0.14915,     0.15015,     0.15115,     0.15215,     0.15315,     0.15415,     0.15516,     0.15616,     0.15716,     0.15816,     0.15916,     0.16016,     0.16116,     0.16216,     0.16316,     0.16416,     0.16517,     0.16617,     0.16717,\n",
      "           0.16817,     0.16917,     0.17017,     0.17117,     0.17217,     0.17317,     0.17417,     0.17518,     0.17618,     0.17718,     0.17818,     0.17918,     0.18018,     0.18118,     0.18218,     0.18318,     0.18418,     0.18519,     0.18619,     0.18719,     0.18819,     0.18919,     0.19019,     0.19119,\n",
      "           0.19219,     0.19319,     0.19419,      0.1952,      0.1962,      0.1972,      0.1982,      0.1992,      0.2002,      0.2012,      0.2022,      0.2032,      0.2042,     0.20521,     0.20621,     0.20721,     0.20821,     0.20921,     0.21021,     0.21121,     0.21221,     0.21321,     0.21421,     0.21522,\n",
      "           0.21622,     0.21722,     0.21822,     0.21922,     0.22022,     0.22122,     0.22222,     0.22322,     0.22422,     0.22523,     0.22623,     0.22723,     0.22823,     0.22923,     0.23023,     0.23123,     0.23223,     0.23323,     0.23423,     0.23524,     0.23624,     0.23724,     0.23824,     0.23924,\n",
      "           0.24024,     0.24124,     0.24224,     0.24324,     0.24424,     0.24525,     0.24625,     0.24725,     0.24825,     0.24925,     0.25025,     0.25125,     0.25225,     0.25325,     0.25425,     0.25526,     0.25626,     0.25726,     0.25826,     0.25926,     0.26026,     0.26126,     0.26226,     0.26326,\n",
      "           0.26426,     0.26527,     0.26627,     0.26727,     0.26827,     0.26927,     0.27027,     0.27127,     0.27227,     0.27327,     0.27427,     0.27528,     0.27628,     0.27728,     0.27828,     0.27928,     0.28028,     0.28128,     0.28228,     0.28328,     0.28428,     0.28529,     0.28629,     0.28729,\n",
      "           0.28829,     0.28929,     0.29029,     0.29129,     0.29229,     0.29329,     0.29429,      0.2953,      0.2963,      0.2973,      0.2983,      0.2993,      0.3003,      0.3013,      0.3023,      0.3033,      0.3043,     0.30531,     0.30631,     0.30731,     0.30831,     0.30931,     0.31031,     0.31131,\n",
      "           0.31231,     0.31331,     0.31431,     0.31532,     0.31632,     0.31732,     0.31832,     0.31932,     0.32032,     0.32132,     0.32232,     0.32332,     0.32432,     0.32533,     0.32633,     0.32733,     0.32833,     0.32933,     0.33033,     0.33133,     0.33233,     0.33333,     0.33433,     0.33534,\n",
      "           0.33634,     0.33734,     0.33834,     0.33934,     0.34034,     0.34134,     0.34234,     0.34334,     0.34434,     0.34535,     0.34635,     0.34735,     0.34835,     0.34935,     0.35035,     0.35135,     0.35235,     0.35335,     0.35435,     0.35536,     0.35636,     0.35736,     0.35836,     0.35936,\n",
      "           0.36036,     0.36136,     0.36236,     0.36336,     0.36436,     0.36537,     0.36637,     0.36737,     0.36837,     0.36937,     0.37037,     0.37137,     0.37237,     0.37337,     0.37437,     0.37538,     0.37638,     0.37738,     0.37838,     0.37938,     0.38038,     0.38138,     0.38238,     0.38338,\n",
      "           0.38438,     0.38539,     0.38639,     0.38739,     0.38839,     0.38939,     0.39039,     0.39139,     0.39239,     0.39339,     0.39439,      0.3954,      0.3964,      0.3974,      0.3984,      0.3994,      0.4004,      0.4014,      0.4024,      0.4034,      0.4044,     0.40541,     0.40641,     0.40741,\n",
      "           0.40841,     0.40941,     0.41041,     0.41141,     0.41241,     0.41341,     0.41441,     0.41542,     0.41642,     0.41742,     0.41842,     0.41942,     0.42042,     0.42142,     0.42242,     0.42342,     0.42442,     0.42543,     0.42643,     0.42743,     0.42843,     0.42943,     0.43043,     0.43143,\n",
      "           0.43243,     0.43343,     0.43443,     0.43544,     0.43644,     0.43744,     0.43844,     0.43944,     0.44044,     0.44144,     0.44244,     0.44344,     0.44444,     0.44545,     0.44645,     0.44745,     0.44845,     0.44945,     0.45045,     0.45145,     0.45245,     0.45345,     0.45445,     0.45546,\n",
      "           0.45646,     0.45746,     0.45846,     0.45946,     0.46046,     0.46146,     0.46246,     0.46346,     0.46446,     0.46547,     0.46647,     0.46747,     0.46847,     0.46947,     0.47047,     0.47147,     0.47247,     0.47347,     0.47447,     0.47548,     0.47648,     0.47748,     0.47848,     0.47948,\n",
      "           0.48048,     0.48148,     0.48248,     0.48348,     0.48448,     0.48549,     0.48649,     0.48749,     0.48849,     0.48949,     0.49049,     0.49149,     0.49249,     0.49349,     0.49449,      0.4955,      0.4965,      0.4975,      0.4985,      0.4995,      0.5005,      0.5015,      0.5025,      0.5035,\n",
      "            0.5045,     0.50551,     0.50651,     0.50751,     0.50851,     0.50951,     0.51051,     0.51151,     0.51251,     0.51351,     0.51451,     0.51552,     0.51652,     0.51752,     0.51852,     0.51952,     0.52052,     0.52152,     0.52252,     0.52352,     0.52452,     0.52553,     0.52653,     0.52753,\n",
      "           0.52853,     0.52953,     0.53053,     0.53153,     0.53253,     0.53353,     0.53453,     0.53554,     0.53654,     0.53754,     0.53854,     0.53954,     0.54054,     0.54154,     0.54254,     0.54354,     0.54454,     0.54555,     0.54655,     0.54755,     0.54855,     0.54955,     0.55055,     0.55155,\n",
      "           0.55255,     0.55355,     0.55455,     0.55556,     0.55656,     0.55756,     0.55856,     0.55956,     0.56056,     0.56156,     0.56256,     0.56356,     0.56456,     0.56557,     0.56657,     0.56757,     0.56857,     0.56957,     0.57057,     0.57157,     0.57257,     0.57357,     0.57457,     0.57558,\n",
      "           0.57658,     0.57758,     0.57858,     0.57958,     0.58058,     0.58158,     0.58258,     0.58358,     0.58458,     0.58559,     0.58659,     0.58759,     0.58859,     0.58959,     0.59059,     0.59159,     0.59259,     0.59359,     0.59459,      0.5956,      0.5966,      0.5976,      0.5986,      0.5996,\n",
      "            0.6006,      0.6016,      0.6026,      0.6036,      0.6046,     0.60561,     0.60661,     0.60761,     0.60861,     0.60961,     0.61061,     0.61161,     0.61261,     0.61361,     0.61461,     0.61562,     0.61662,     0.61762,     0.61862,     0.61962,     0.62062,     0.62162,     0.62262,     0.62362,\n",
      "           0.62462,     0.62563,     0.62663,     0.62763,     0.62863,     0.62963,     0.63063,     0.63163,     0.63263,     0.63363,     0.63463,     0.63564,     0.63664,     0.63764,     0.63864,     0.63964,     0.64064,     0.64164,     0.64264,     0.64364,     0.64464,     0.64565,     0.64665,     0.64765,\n",
      "           0.64865,     0.64965,     0.65065,     0.65165,     0.65265,     0.65365,     0.65465,     0.65566,     0.65666,     0.65766,     0.65866,     0.65966,     0.66066,     0.66166,     0.66266,     0.66366,     0.66466,     0.66567,     0.66667,     0.66767,     0.66867,     0.66967,     0.67067,     0.67167,\n",
      "           0.67267,     0.67367,     0.67467,     0.67568,     0.67668,     0.67768,     0.67868,     0.67968,     0.68068,     0.68168,     0.68268,     0.68368,     0.68468,     0.68569,     0.68669,     0.68769,     0.68869,     0.68969,     0.69069,     0.69169,     0.69269,     0.69369,     0.69469,      0.6957,\n",
      "            0.6967,      0.6977,      0.6987,      0.6997,      0.7007,      0.7017,      0.7027,      0.7037,      0.7047,     0.70571,     0.70671,     0.70771,     0.70871,     0.70971,     0.71071,     0.71171,     0.71271,     0.71371,     0.71471,     0.71572,     0.71672,     0.71772,     0.71872,     0.71972,\n",
      "           0.72072,     0.72172,     0.72272,     0.72372,     0.72472,     0.72573,     0.72673,     0.72773,     0.72873,     0.72973,     0.73073,     0.73173,     0.73273,     0.73373,     0.73473,     0.73574,     0.73674,     0.73774,     0.73874,     0.73974,     0.74074,     0.74174,     0.74274,     0.74374,\n",
      "           0.74474,     0.74575,     0.74675,     0.74775,     0.74875,     0.74975,     0.75075,     0.75175,     0.75275,     0.75375,     0.75475,     0.75576,     0.75676,     0.75776,     0.75876,     0.75976,     0.76076,     0.76176,     0.76276,     0.76376,     0.76476,     0.76577,     0.76677,     0.76777,\n",
      "           0.76877,     0.76977,     0.77077,     0.77177,     0.77277,     0.77377,     0.77477,     0.77578,     0.77678,     0.77778,     0.77878,     0.77978,     0.78078,     0.78178,     0.78278,     0.78378,     0.78478,     0.78579,     0.78679,     0.78779,     0.78879,     0.78979,     0.79079,     0.79179,\n",
      "           0.79279,     0.79379,     0.79479,      0.7958,      0.7968,      0.7978,      0.7988,      0.7998,      0.8008,      0.8018,      0.8028,      0.8038,      0.8048,     0.80581,     0.80681,     0.80781,     0.80881,     0.80981,     0.81081,     0.81181,     0.81281,     0.81381,     0.81481,     0.81582,\n",
      "           0.81682,     0.81782,     0.81882,     0.81982,     0.82082,     0.82182,     0.82282,     0.82382,     0.82482,     0.82583,     0.82683,     0.82783,     0.82883,     0.82983,     0.83083,     0.83183,     0.83283,     0.83383,     0.83483,     0.83584,     0.83684,     0.83784,     0.83884,     0.83984,\n",
      "           0.84084,     0.84184,     0.84284,     0.84384,     0.84484,     0.84585,     0.84685,     0.84785,     0.84885,     0.84985,     0.85085,     0.85185,     0.85285,     0.85385,     0.85485,     0.85586,     0.85686,     0.85786,     0.85886,     0.85986,     0.86086,     0.86186,     0.86286,     0.86386,\n",
      "           0.86486,     0.86587,     0.86687,     0.86787,     0.86887,     0.86987,     0.87087,     0.87187,     0.87287,     0.87387,     0.87487,     0.87588,     0.87688,     0.87788,     0.87888,     0.87988,     0.88088,     0.88188,     0.88288,     0.88388,     0.88488,     0.88589,     0.88689,     0.88789,\n",
      "           0.88889,     0.88989,     0.89089,     0.89189,     0.89289,     0.89389,     0.89489,      0.8959,      0.8969,      0.8979,      0.8989,      0.8999,      0.9009,      0.9019,      0.9029,      0.9039,      0.9049,     0.90591,     0.90691,     0.90791,     0.90891,     0.90991,     0.91091,     0.91191,\n",
      "           0.91291,     0.91391,     0.91491,     0.91592,     0.91692,     0.91792,     0.91892,     0.91992,     0.92092,     0.92192,     0.92292,     0.92392,     0.92492,     0.92593,     0.92693,     0.92793,     0.92893,     0.92993,     0.93093,     0.93193,     0.93293,     0.93393,     0.93493,     0.93594,\n",
      "           0.93694,     0.93794,     0.93894,     0.93994,     0.94094,     0.94194,     0.94294,     0.94394,     0.94494,     0.94595,     0.94695,     0.94795,     0.94895,     0.94995,     0.95095,     0.95195,     0.95295,     0.95395,     0.95495,     0.95596,     0.95696,     0.95796,     0.95896,     0.95996,\n",
      "           0.96096,     0.96196,     0.96296,     0.96396,     0.96496,     0.96597,     0.96697,     0.96797,     0.96897,     0.96997,     0.97097,     0.97197,     0.97297,     0.97397,     0.97497,     0.97598,     0.97698,     0.97798,     0.97898,     0.97998,     0.98098,     0.98198,     0.98298,     0.98398,\n",
      "           0.98498,     0.98599,     0.98699,     0.98799,     0.98899,     0.98999,     0.99099,     0.99199,     0.99299,     0.99399,     0.99499,       0.996,       0.997,       0.998,       0.999,           1]), array([[    0.98473,     0.98473,     0.98473,     0.98473,     0.98473,     0.98473,     0.98473,     0.98473,     0.98473,     0.98473,     0.98473,     0.98473,     0.98092,     0.97967,      0.9771,      0.9771,      0.9771,      0.9771,      0.9771,      0.9771,      0.9771,      0.9771,      0.9771,\n",
      "             0.9771,      0.9771,      0.9771,      0.9771,      0.9771,      0.9771,      0.9771,      0.9771,      0.9771,      0.9771,      0.9771,      0.9771,      0.9771,      0.9771,      0.9771,      0.9771,      0.9771,      0.9771,      0.9771,      0.9771,      0.9771,      0.9771,      0.9771,\n",
      "             0.9771,      0.9771,      0.9771,      0.9771,      0.9771,      0.9771,      0.9771,      0.9771,      0.9771,      0.9771,      0.9771,      0.9771,      0.9771,      0.9771,      0.9771,      0.9771,      0.9771,      0.9771,      0.9771,      0.9771,      0.9771,      0.9771,      0.9771,\n",
      "             0.9771,      0.9771,      0.9771,      0.9771,      0.9771,      0.9771,      0.9771,      0.9771,      0.9771,      0.9771,      0.9771,      0.9771,      0.9771,      0.9771,      0.9771,      0.9771,      0.9771,      0.9771,      0.9771,      0.9771,      0.9771,      0.9771,      0.9771,\n",
      "             0.9771,      0.9771,      0.9771,      0.9771,      0.9771,      0.9771,      0.9771,      0.9771,      0.9771,      0.9771,      0.9771,      0.9771,      0.9771,      0.9771,      0.9771,      0.9771,      0.9771,      0.9771,      0.9771,      0.9771,     0.97438,     0.97308,     0.97281,\n",
      "            0.97254,     0.97228,     0.97201,     0.97174,     0.97148,     0.97121,     0.97094,     0.97068,     0.97041,     0.97014,     0.96988,     0.96961,     0.96947,     0.96947,     0.96947,     0.96947,     0.96947,     0.96947,     0.96947,     0.96947,     0.96947,     0.96947,     0.96947,\n",
      "            0.96947,     0.96947,     0.96947,     0.96947,     0.96947,     0.96947,     0.96947,     0.96947,     0.96929,       0.969,     0.96872,     0.96844,     0.96816,     0.96788,      0.9676,     0.96732,     0.96704,     0.96675,     0.96647,     0.96619,     0.96591,     0.96565,     0.96565,\n",
      "            0.96565,     0.96565,     0.96565,     0.96565,     0.96565,     0.96565,     0.96565,     0.96565,     0.96565,     0.96565,     0.96565,     0.96565,     0.96565,     0.96565,     0.96565,     0.96565,     0.96565,     0.96565,     0.96565,     0.96565,     0.96565,     0.96565,     0.96565,\n",
      "            0.96565,     0.96565,     0.96565,     0.96565,     0.96565,     0.96565,     0.96565,     0.96565,     0.96565,     0.96565,     0.96565,     0.96565,     0.96565,     0.96565,     0.96565,     0.96565,     0.96565,     0.96565,     0.96565,     0.96565,     0.96565,     0.96565,     0.96565,\n",
      "            0.96565,     0.96565,     0.96565,     0.96565,     0.96565,     0.96565,     0.96565,     0.96565,     0.96565,     0.96565,     0.96565,     0.96565,     0.96565,     0.96565,     0.96565,     0.96565,     0.96565,     0.96565,     0.96565,     0.96565,     0.96565,     0.96565,     0.96565,\n",
      "            0.96565,     0.96565,     0.96565,     0.96565,     0.96565,     0.96565,     0.96565,     0.96565,     0.96565,     0.96565,     0.96565,     0.96565,     0.96565,     0.96565,     0.96565,     0.96565,     0.96565,     0.96565,     0.96565,     0.96565,     0.96565,     0.96565,     0.96565,\n",
      "            0.96565,     0.96565,     0.96559,     0.96524,     0.96489,     0.96453,     0.96418,     0.96383,     0.96347,     0.96312,     0.96277,     0.96241,     0.96206,     0.96178,     0.96164,     0.96149,     0.96134,      0.9612,     0.96105,     0.96091,     0.96076,     0.96061,     0.96047,\n",
      "            0.96032,     0.96018,     0.96003,     0.95989,     0.95974,     0.95959,     0.95945,      0.9593,     0.95916,     0.95901,     0.95887,     0.95872,     0.95857,     0.95843,     0.95828,     0.95814,     0.95802,     0.95802,     0.95802,     0.95802,     0.95802,     0.95802,     0.95802,\n",
      "            0.95802,     0.95802,     0.95802,     0.95802,     0.95802,     0.95802,     0.95802,     0.95802,     0.95802,     0.95802,     0.95802,     0.95802,     0.95802,     0.95802,     0.95802,     0.95802,     0.95802,     0.95802,     0.95802,     0.95802,     0.95802,     0.95802,     0.95802,\n",
      "            0.95802,     0.95802,     0.95802,     0.95802,     0.95802,     0.95802,     0.95802,     0.95802,     0.95802,     0.95802,     0.95762,     0.95644,     0.95527,      0.9542,      0.9542,      0.9542,      0.9542,      0.9542,      0.9542,      0.9542,      0.9542,      0.9542,     0.95416,\n",
      "            0.95407,     0.95397,     0.95387,     0.95377,     0.95368,     0.95358,     0.95348,     0.95338,     0.95328,     0.95319,     0.95309,     0.95299,     0.95289,      0.9528,      0.9527,      0.9526,      0.9525,     0.95241,     0.95231,     0.95221,     0.95211,     0.95201,     0.95192,\n",
      "            0.95182,     0.95172,     0.95162,     0.95153,     0.95143,     0.95133,     0.95123,     0.95114,     0.95104,     0.95094,     0.95084,     0.95074,     0.95065,     0.95055,     0.95045,     0.95038,     0.95038,     0.95038,     0.95038,     0.95038,     0.95038,     0.95038,     0.95038,\n",
      "            0.95038,     0.95038,     0.95038,     0.95038,     0.95038,     0.95038,     0.95038,     0.95038,     0.95038,     0.95038,     0.95038,     0.95038,     0.95038,     0.95038,     0.95038,     0.95038,     0.95038,     0.95038,     0.95038,     0.95038,     0.95038,     0.95038,     0.95038,\n",
      "            0.95038,     0.95038,     0.95038,     0.95038,     0.95038,     0.95038,     0.95038,     0.95038,     0.95038,     0.95038,     0.95038,     0.95038,     0.95038,     0.95038,     0.95038,     0.95038,     0.95038,     0.95038,     0.95038,     0.95038,     0.95038,     0.95038,     0.95038,\n",
      "            0.95038,     0.95038,     0.95038,     0.95038,     0.95038,     0.95038,     0.95038,     0.95038,     0.95038,     0.95038,     0.95038,     0.95038,     0.95038,     0.95038,     0.95038,     0.95038,     0.95038,     0.95038,     0.95038,     0.95038,     0.95038,     0.95038,     0.95038,\n",
      "            0.95038,     0.95038,     0.95038,     0.95038,     0.95038,     0.95038,     0.95038,     0.95038,     0.95038,     0.95038,     0.95038,     0.95038,     0.95038,     0.95038,     0.95038,     0.95038,     0.95038,     0.95038,     0.95038,     0.95037,     0.95031,     0.95025,     0.95019,\n",
      "            0.95013,     0.95007,     0.95002,     0.94996,      0.9499,     0.94984,     0.94978,     0.94972,     0.94966,      0.9496,     0.94954,     0.94948,     0.94942,     0.94936,     0.94931,     0.94925,     0.94919,     0.94913,     0.94907,     0.94901,     0.94895,     0.94889,     0.94883,\n",
      "            0.94877,     0.94871,     0.94865,      0.9486,     0.94854,     0.94848,     0.94842,     0.94836,      0.9483,     0.94824,     0.94818,     0.94812,     0.94806,       0.948,     0.94794,     0.94789,     0.94783,     0.94777,     0.94771,     0.94765,     0.94759,     0.94753,     0.94747,\n",
      "            0.94741,     0.94735,     0.94729,     0.94723,     0.94718,     0.94712,     0.94706,       0.947,     0.94694,     0.94688,     0.94682,     0.94676,      0.9467,     0.94664,     0.94658,     0.94649,     0.94639,     0.94628,     0.94617,     0.94607,     0.94596,     0.94585,     0.94575,\n",
      "            0.94564,     0.94553,     0.94543,     0.94532,     0.94522,     0.94511,       0.945,      0.9449,     0.94479,     0.94468,     0.94458,     0.94447,     0.94437,     0.94426,     0.94415,     0.94405,     0.94394,     0.94383,     0.94373,     0.94362,     0.94351,     0.94341,      0.9433,\n",
      "             0.9432,     0.94309,     0.94298,     0.94288,     0.94277,     0.94275,     0.94275,     0.94275,     0.94275,     0.94275,     0.94275,     0.94275,     0.94275,     0.94275,     0.94275,     0.94275,     0.94275,     0.94275,     0.94275,     0.94275,     0.94275,     0.94275,     0.94275,\n",
      "            0.94275,     0.94275,     0.94275,     0.94275,     0.94275,     0.94275,     0.94275,     0.94275,     0.94275,     0.94275,     0.94275,     0.94275,     0.94275,     0.94275,     0.94275,     0.94275,     0.94275,     0.94275,     0.94275,     0.94275,     0.94267,     0.94249,     0.94232,\n",
      "            0.94214,     0.94196,     0.94178,     0.94161,     0.94143,     0.94125,     0.94108,      0.9409,     0.94072,     0.94054,     0.94037,     0.94019,     0.94001,     0.93983,     0.93966,     0.93948,      0.9393,     0.93913,     0.93895,     0.93677,     0.93471,      0.9334,      0.9321,\n",
      "            0.93031,     0.92778,     0.92719,     0.92685,     0.92652,     0.92618,     0.92585,     0.92551,     0.92518,     0.92485,     0.92451,     0.92418,     0.92384,     0.91985,     0.91985,     0.91985,     0.91985,     0.91985,     0.91985,     0.91985,     0.91985,     0.91985,     0.91985,\n",
      "            0.91985,     0.91985,     0.91985,     0.91985,     0.91985,     0.91985,     0.91985,     0.91985,     0.91985,     0.91985,     0.91985,     0.91985,     0.91985,     0.91985,     0.91985,     0.91985,     0.91985,     0.91985,     0.91985,     0.91985,     0.91985,     0.91985,     0.91985,\n",
      "            0.91985,     0.91921,     0.91809,     0.91697,     0.91579,     0.91432,     0.91284,      0.9121,      0.9119,     0.91171,     0.91151,     0.91131,     0.91111,     0.91092,     0.91072,     0.91052,     0.91032,     0.91013,     0.90993,     0.90973,     0.90953,     0.90934,     0.90914,\n",
      "            0.90894,     0.90874,     0.90855,     0.90779,     0.90526,     0.90412,     0.90349,     0.90287,     0.90224,     0.90162,     0.90099,     0.90053,     0.90017,     0.89981,     0.89945,     0.89909,     0.89872,     0.89836,       0.898,     0.89764,     0.89728,     0.89672,     0.89424,\n",
      "            0.88928,     0.88911,     0.88893,     0.88875,     0.88857,      0.8884,     0.88822,     0.88804,     0.88786,     0.88769,     0.88751,     0.88733,     0.88715,     0.88697,      0.8868,     0.88662,     0.88644,     0.88626,     0.88609,     0.88591,     0.88573,     0.88555,     0.88522,\n",
      "            0.88483,     0.88443,     0.88403,     0.88364,     0.88324,     0.88284,     0.88244,     0.88205,     0.88165,     0.88124,     0.88083,     0.88042,     0.88001,      0.8796,     0.87919,     0.87878,     0.87837,     0.87796,     0.87427,     0.86984,     0.86929,     0.86874,     0.86819,\n",
      "            0.86763,     0.86708,     0.86653,     0.86512,     0.86348,     0.86025,     0.85808,     0.85709,      0.8561,     0.85511,     0.85097,     0.85029,      0.8496,     0.84892,     0.84824,     0.84756,     0.84733,     0.84733,     0.84733,     0.84733,     0.84733,     0.84733,       0.843,\n",
      "            0.84234,     0.84167,     0.84101,     0.84035,     0.83961,     0.82947,     0.82437,      0.8231,     0.82182,     0.82046,     0.81711,     0.81269,     0.81182,     0.81094,     0.81007,     0.80919,     0.80461,     0.80307,     0.80153,     0.79794,     0.79246,     0.79088,     0.78786,\n",
      "            0.78177,     0.77989,     0.77407,     0.77081,     0.76851,     0.76648,     0.76483,     0.76289,     0.75895,     0.75646,     0.75482,     0.75354,     0.75226,     0.74751,     0.74009,      0.7379,     0.73449,     0.72447,     0.72064,     0.70833,     0.69438,     0.68857,     0.67938,\n",
      "            0.67754,      0.6757,     0.67201,     0.66242,     0.65936,     0.65524,     0.64924,     0.64663,     0.63783,     0.63628,     0.63513,     0.63399,     0.63149,     0.62749,     0.61708,     0.60864,     0.60157,     0.59469,     0.57945,     0.56906,     0.54113,     0.52785,     0.51398,\n",
      "            0.50522,     0.48188,     0.46712,     0.45977,     0.45677,     0.44259,     0.42235,     0.39974,     0.38328,     0.36514,     0.35819,     0.34316,     0.32998,     0.30927,     0.28979,     0.28128,     0.26721,     0.25686,     0.23643,     0.22724,     0.21257,     0.19006,     0.18357,\n",
      "            0.15965,     0.14671,     0.13562,     0.12087,     0.10905,    0.092384,    0.078769,      0.0709,    0.062035,    0.053752,    0.047927,    0.038047,    0.037049,    0.036051,    0.035053,    0.030469,    0.021724,    0.014014,    0.012299,    0.010741,   0.0093378,   0.0079341,           0,\n",
      "                  0,           0,           0,           0,           0,           0,           0,           0,           0,           0,           0,           0,           0,           0,           0,           0,           0,           0,           0,           0,           0,           0,           0,\n",
      "                  0,           0,           0,           0,           0,           0,           0,           0,           0,           0,           0,           0,           0,           0,           0,           0,           0,           0,           0,           0,           0,           0,           0,\n",
      "                  0,           0,           0,           0,           0,           0,           0,           0,           0,           0,           0,           0,           0,           0,           0,           0,           0,           0,           0,           0,           0,           0,           0,\n",
      "                  0,           0,           0,           0,           0,           0,           0,           0,           0,           0,           0]]), 'Confidence', 'Recall']]\n",
      "fitness: np.float64(0.8162141201530417)\n",
      "keys: ['metrics/precision(B)', 'metrics/recall(B)', 'metrics/mAP50(B)', 'metrics/mAP50-95(B)']\n",
      "maps: array([    0.79746])\n",
      "names: {0: 'licence'}\n",
      "nt_per_class: array([262])\n",
      "nt_per_image: array([255])\n",
      "results_dict: {'metrics/precision(B)': np.float64(0.9841730034498416), 'metrics/recall(B)': np.float64(0.9493645114008615), 'metrics/mAP50(B)': np.float64(0.985034818784696), 'metrics/mAP50-95(B)': np.float64(0.7974562647495246), 'fitness': np.float64(0.8162141201530417)}\n",
      "save_dir: WindowsPath('runs/detect/model_blur42')\n",
      "speed: {'preprocess': 0.41573725489690655, 'inference': 9.68693568626323, 'loss': 0.003773725485171228, 'postprocess': 1.2587027450910468}\n",
      "stats: {'tp': [], 'conf': [], 'pred_cls': [], 'target_cls': [], 'target_img': []}\n",
      "task: 'detect'\n"
     ]
    }
   ],
   "source": [
    "# train and validate model\n",
    "# from the table above I could see yolo v8 small performs better\n",
    "\n",
    "model = YOLO(\"yolov8s.pt\")\n",
    "model.train(data=\"dataset_split/data.yaml\", name=\"model_blur\",\n",
    "        epochs=50,\n",
    "        batch=8,\n",
    "        imgsz=640,\n",
    "        lr0=0.001,\n",
    "        patience=20,\n",
    "        workers=2,\n",
    "        verbose=True,\n",
    "        device = device\n",
    "        )\n",
    "metrics = model.val(data=\"dataset_split/data.yaml\")\n",
    "print(metrics)\n"
   ]
  },
  {
   "cell_type": "code",
   "execution_count": 43,
   "id": "bf7bc72f",
   "metadata": {},
   "outputs": [
    {
     "name": "stdout",
     "output_type": "stream",
     "text": [
      "\n",
      "WARNING \n",
      "inference results will accumulate in RAM unless `stream=True` is passed, causing potential out-of-memory\n",
      "errors for large sources or long-running streams and videos. See https://docs.ultralytics.com/modes/predict/ for help.\n",
      "\n",
      "Example:\n",
      "    results = model(source=..., stream=True)  # generator of Results objects\n",
      "    for r in results:\n",
      "        boxes = r.boxes  # Boxes object for bbox outputs\n",
      "        masks = r.masks  # Masks object for segment masks outputs\n",
      "        probs = r.probs  # Class probabilities for classification outputs\n",
      "\n",
      "video 1/1 (frame 1/1076) d:\\Term 2\\Deep_Learning_Project\\dl_project\\test.mp4: 640x384 (no detections), 39.3ms\n",
      "video 1/1 (frame 2/1076) d:\\Term 2\\Deep_Learning_Project\\dl_project\\test.mp4: 640x384 (no detections), 11.0ms\n",
      "video 1/1 (frame 3/1076) d:\\Term 2\\Deep_Learning_Project\\dl_project\\test.mp4: 640x384 (no detections), 10.1ms\n",
      "video 1/1 (frame 4/1076) d:\\Term 2\\Deep_Learning_Project\\dl_project\\test.mp4: 640x384 (no detections), 10.1ms\n",
      "video 1/1 (frame 5/1076) d:\\Term 2\\Deep_Learning_Project\\dl_project\\test.mp4: 640x384 (no detections), 10.2ms\n",
      "video 1/1 (frame 6/1076) d:\\Term 2\\Deep_Learning_Project\\dl_project\\test.mp4: 640x384 (no detections), 10.2ms\n",
      "video 1/1 (frame 7/1076) d:\\Term 2\\Deep_Learning_Project\\dl_project\\test.mp4: 640x384 (no detections), 10.2ms\n",
      "video 1/1 (frame 8/1076) d:\\Term 2\\Deep_Learning_Project\\dl_project\\test.mp4: 640x384 (no detections), 10.1ms\n",
      "video 1/1 (frame 9/1076) d:\\Term 2\\Deep_Learning_Project\\dl_project\\test.mp4: 640x384 (no detections), 10.2ms\n",
      "video 1/1 (frame 10/1076) d:\\Term 2\\Deep_Learning_Project\\dl_project\\test.mp4: 640x384 (no detections), 10.2ms\n",
      "video 1/1 (frame 11/1076) d:\\Term 2\\Deep_Learning_Project\\dl_project\\test.mp4: 640x384 (no detections), 10.2ms\n",
      "video 1/1 (frame 12/1076) d:\\Term 2\\Deep_Learning_Project\\dl_project\\test.mp4: 640x384 (no detections), 10.3ms\n",
      "video 1/1 (frame 13/1076) d:\\Term 2\\Deep_Learning_Project\\dl_project\\test.mp4: 640x384 (no detections), 10.2ms\n",
      "video 1/1 (frame 14/1076) d:\\Term 2\\Deep_Learning_Project\\dl_project\\test.mp4: 640x384 (no detections), 10.2ms\n",
      "video 1/1 (frame 15/1076) d:\\Term 2\\Deep_Learning_Project\\dl_project\\test.mp4: 640x384 (no detections), 10.2ms\n",
      "video 1/1 (frame 16/1076) d:\\Term 2\\Deep_Learning_Project\\dl_project\\test.mp4: 640x384 (no detections), 10.3ms\n",
      "video 1/1 (frame 17/1076) d:\\Term 2\\Deep_Learning_Project\\dl_project\\test.mp4: 640x384 (no detections), 10.3ms\n",
      "video 1/1 (frame 18/1076) d:\\Term 2\\Deep_Learning_Project\\dl_project\\test.mp4: 640x384 (no detections), 10.2ms\n",
      "video 1/1 (frame 19/1076) d:\\Term 2\\Deep_Learning_Project\\dl_project\\test.mp4: 640x384 (no detections), 10.3ms\n",
      "video 1/1 (frame 20/1076) d:\\Term 2\\Deep_Learning_Project\\dl_project\\test.mp4: 640x384 (no detections), 12.6ms\n",
      "video 1/1 (frame 21/1076) d:\\Term 2\\Deep_Learning_Project\\dl_project\\test.mp4: 640x384 (no detections), 10.2ms\n",
      "video 1/1 (frame 22/1076) d:\\Term 2\\Deep_Learning_Project\\dl_project\\test.mp4: 640x384 (no detections), 10.2ms\n",
      "video 1/1 (frame 23/1076) d:\\Term 2\\Deep_Learning_Project\\dl_project\\test.mp4: 640x384 (no detections), 10.2ms\n",
      "video 1/1 (frame 24/1076) d:\\Term 2\\Deep_Learning_Project\\dl_project\\test.mp4: 640x384 (no detections), 10.2ms\n",
      "video 1/1 (frame 25/1076) d:\\Term 2\\Deep_Learning_Project\\dl_project\\test.mp4: 640x384 (no detections), 10.2ms\n",
      "video 1/1 (frame 26/1076) d:\\Term 2\\Deep_Learning_Project\\dl_project\\test.mp4: 640x384 (no detections), 10.3ms\n",
      "video 1/1 (frame 27/1076) d:\\Term 2\\Deep_Learning_Project\\dl_project\\test.mp4: 640x384 (no detections), 10.2ms\n",
      "video 1/1 (frame 28/1076) d:\\Term 2\\Deep_Learning_Project\\dl_project\\test.mp4: 640x384 (no detections), 10.6ms\n",
      "video 1/1 (frame 29/1076) d:\\Term 2\\Deep_Learning_Project\\dl_project\\test.mp4: 640x384 (no detections), 10.2ms\n",
      "video 1/1 (frame 30/1076) d:\\Term 2\\Deep_Learning_Project\\dl_project\\test.mp4: 640x384 (no detections), 10.8ms\n",
      "video 1/1 (frame 31/1076) d:\\Term 2\\Deep_Learning_Project\\dl_project\\test.mp4: 640x384 (no detections), 14.7ms\n",
      "video 1/1 (frame 32/1076) d:\\Term 2\\Deep_Learning_Project\\dl_project\\test.mp4: 640x384 (no detections), 10.3ms\n",
      "video 1/1 (frame 33/1076) d:\\Term 2\\Deep_Learning_Project\\dl_project\\test.mp4: 640x384 (no detections), 13.0ms\n",
      "video 1/1 (frame 34/1076) d:\\Term 2\\Deep_Learning_Project\\dl_project\\test.mp4: 640x384 (no detections), 10.2ms\n",
      "video 1/1 (frame 35/1076) d:\\Term 2\\Deep_Learning_Project\\dl_project\\test.mp4: 640x384 (no detections), 10.3ms\n",
      "video 1/1 (frame 36/1076) d:\\Term 2\\Deep_Learning_Project\\dl_project\\test.mp4: 640x384 (no detections), 10.3ms\n",
      "video 1/1 (frame 37/1076) d:\\Term 2\\Deep_Learning_Project\\dl_project\\test.mp4: 640x384 (no detections), 10.1ms\n",
      "video 1/1 (frame 38/1076) d:\\Term 2\\Deep_Learning_Project\\dl_project\\test.mp4: 640x384 (no detections), 10.3ms\n",
      "video 1/1 (frame 39/1076) d:\\Term 2\\Deep_Learning_Project\\dl_project\\test.mp4: 640x384 (no detections), 10.3ms\n",
      "video 1/1 (frame 40/1076) d:\\Term 2\\Deep_Learning_Project\\dl_project\\test.mp4: 640x384 (no detections), 10.3ms\n",
      "video 1/1 (frame 41/1076) d:\\Term 2\\Deep_Learning_Project\\dl_project\\test.mp4: 640x384 (no detections), 10.2ms\n",
      "video 1/1 (frame 42/1076) d:\\Term 2\\Deep_Learning_Project\\dl_project\\test.mp4: 640x384 (no detections), 10.3ms\n",
      "video 1/1 (frame 43/1076) d:\\Term 2\\Deep_Learning_Project\\dl_project\\test.mp4: 640x384 (no detections), 10.2ms\n",
      "video 1/1 (frame 44/1076) d:\\Term 2\\Deep_Learning_Project\\dl_project\\test.mp4: 640x384 (no detections), 10.3ms\n",
      "video 1/1 (frame 45/1076) d:\\Term 2\\Deep_Learning_Project\\dl_project\\test.mp4: 640x384 (no detections), 11.9ms\n",
      "video 1/1 (frame 46/1076) d:\\Term 2\\Deep_Learning_Project\\dl_project\\test.mp4: 640x384 (no detections), 10.3ms\n",
      "video 1/1 (frame 47/1076) d:\\Term 2\\Deep_Learning_Project\\dl_project\\test.mp4: 640x384 (no detections), 10.3ms\n",
      "video 1/1 (frame 48/1076) d:\\Term 2\\Deep_Learning_Project\\dl_project\\test.mp4: 640x384 (no detections), 10.2ms\n",
      "video 1/1 (frame 49/1076) d:\\Term 2\\Deep_Learning_Project\\dl_project\\test.mp4: 640x384 (no detections), 10.2ms\n",
      "video 1/1 (frame 50/1076) d:\\Term 2\\Deep_Learning_Project\\dl_project\\test.mp4: 640x384 (no detections), 11.9ms\n",
      "video 1/1 (frame 51/1076) d:\\Term 2\\Deep_Learning_Project\\dl_project\\test.mp4: 640x384 (no detections), 12.0ms\n",
      "video 1/1 (frame 52/1076) d:\\Term 2\\Deep_Learning_Project\\dl_project\\test.mp4: 640x384 (no detections), 12.0ms\n",
      "video 1/1 (frame 53/1076) d:\\Term 2\\Deep_Learning_Project\\dl_project\\test.mp4: 640x384 (no detections), 12.0ms\n",
      "video 1/1 (frame 54/1076) d:\\Term 2\\Deep_Learning_Project\\dl_project\\test.mp4: 640x384 (no detections), 12.0ms\n",
      "video 1/1 (frame 55/1076) d:\\Term 2\\Deep_Learning_Project\\dl_project\\test.mp4: 640x384 (no detections), 12.0ms\n",
      "video 1/1 (frame 56/1076) d:\\Term 2\\Deep_Learning_Project\\dl_project\\test.mp4: 640x384 (no detections), 12.1ms\n",
      "video 1/1 (frame 57/1076) d:\\Term 2\\Deep_Learning_Project\\dl_project\\test.mp4: 640x384 (no detections), 12.0ms\n",
      "video 1/1 (frame 58/1076) d:\\Term 2\\Deep_Learning_Project\\dl_project\\test.mp4: 640x384 (no detections), 17.7ms\n",
      "video 1/1 (frame 59/1076) d:\\Term 2\\Deep_Learning_Project\\dl_project\\test.mp4: 640x384 (no detections), 17.2ms\n",
      "video 1/1 (frame 60/1076) d:\\Term 2\\Deep_Learning_Project\\dl_project\\test.mp4: 640x384 (no detections), 12.1ms\n",
      "video 1/1 (frame 61/1076) d:\\Term 2\\Deep_Learning_Project\\dl_project\\test.mp4: 640x384 (no detections), 16.0ms\n",
      "video 1/1 (frame 62/1076) d:\\Term 2\\Deep_Learning_Project\\dl_project\\test.mp4: 640x384 (no detections), 12.8ms\n",
      "video 1/1 (frame 63/1076) d:\\Term 2\\Deep_Learning_Project\\dl_project\\test.mp4: 640x384 (no detections), 12.3ms\n",
      "video 1/1 (frame 64/1076) d:\\Term 2\\Deep_Learning_Project\\dl_project\\test.mp4: 640x384 (no detections), 12.4ms\n",
      "video 1/1 (frame 65/1076) d:\\Term 2\\Deep_Learning_Project\\dl_project\\test.mp4: 640x384 (no detections), 12.3ms\n",
      "video 1/1 (frame 66/1076) d:\\Term 2\\Deep_Learning_Project\\dl_project\\test.mp4: 640x384 (no detections), 12.7ms\n",
      "video 1/1 (frame 67/1076) d:\\Term 2\\Deep_Learning_Project\\dl_project\\test.mp4: 640x384 (no detections), 12.7ms\n",
      "video 1/1 (frame 68/1076) d:\\Term 2\\Deep_Learning_Project\\dl_project\\test.mp4: 640x384 (no detections), 12.6ms\n",
      "video 1/1 (frame 69/1076) d:\\Term 2\\Deep_Learning_Project\\dl_project\\test.mp4: 640x384 (no detections), 12.7ms\n",
      "video 1/1 (frame 70/1076) d:\\Term 2\\Deep_Learning_Project\\dl_project\\test.mp4: 640x384 (no detections), 12.6ms\n",
      "video 1/1 (frame 71/1076) d:\\Term 2\\Deep_Learning_Project\\dl_project\\test.mp4: 640x384 (no detections), 12.7ms\n",
      "video 1/1 (frame 72/1076) d:\\Term 2\\Deep_Learning_Project\\dl_project\\test.mp4: 640x384 (no detections), 12.7ms\n",
      "video 1/1 (frame 73/1076) d:\\Term 2\\Deep_Learning_Project\\dl_project\\test.mp4: 640x384 (no detections), 12.8ms\n",
      "video 1/1 (frame 74/1076) d:\\Term 2\\Deep_Learning_Project\\dl_project\\test.mp4: 640x384 (no detections), 12.7ms\n",
      "video 1/1 (frame 75/1076) d:\\Term 2\\Deep_Learning_Project\\dl_project\\test.mp4: 640x384 (no detections), 12.6ms\n",
      "video 1/1 (frame 76/1076) d:\\Term 2\\Deep_Learning_Project\\dl_project\\test.mp4: 640x384 (no detections), 13.1ms\n",
      "video 1/1 (frame 77/1076) d:\\Term 2\\Deep_Learning_Project\\dl_project\\test.mp4: 640x384 (no detections), 12.7ms\n",
      "video 1/1 (frame 78/1076) d:\\Term 2\\Deep_Learning_Project\\dl_project\\test.mp4: 640x384 (no detections), 12.7ms\n",
      "video 1/1 (frame 79/1076) d:\\Term 2\\Deep_Learning_Project\\dl_project\\test.mp4: 640x384 (no detections), 12.8ms\n",
      "video 1/1 (frame 80/1076) d:\\Term 2\\Deep_Learning_Project\\dl_project\\test.mp4: 640x384 (no detections), 12.7ms\n",
      "video 1/1 (frame 81/1076) d:\\Term 2\\Deep_Learning_Project\\dl_project\\test.mp4: 640x384 (no detections), 12.8ms\n",
      "video 1/1 (frame 82/1076) d:\\Term 2\\Deep_Learning_Project\\dl_project\\test.mp4: 640x384 (no detections), 12.9ms\n",
      "video 1/1 (frame 83/1076) d:\\Term 2\\Deep_Learning_Project\\dl_project\\test.mp4: 640x384 (no detections), 13.0ms\n",
      "video 1/1 (frame 84/1076) d:\\Term 2\\Deep_Learning_Project\\dl_project\\test.mp4: 640x384 (no detections), 16.2ms\n",
      "video 1/1 (frame 85/1076) d:\\Term 2\\Deep_Learning_Project\\dl_project\\test.mp4: 640x384 (no detections), 12.9ms\n",
      "video 1/1 (frame 86/1076) d:\\Term 2\\Deep_Learning_Project\\dl_project\\test.mp4: 640x384 (no detections), 18.0ms\n",
      "video 1/1 (frame 87/1076) d:\\Term 2\\Deep_Learning_Project\\dl_project\\test.mp4: 640x384 (no detections), 13.0ms\n",
      "video 1/1 (frame 88/1076) d:\\Term 2\\Deep_Learning_Project\\dl_project\\test.mp4: 640x384 (no detections), 13.5ms\n",
      "video 1/1 (frame 89/1076) d:\\Term 2\\Deep_Learning_Project\\dl_project\\test.mp4: 640x384 (no detections), 16.7ms\n",
      "video 1/1 (frame 90/1076) d:\\Term 2\\Deep_Learning_Project\\dl_project\\test.mp4: 640x384 (no detections), 13.0ms\n",
      "video 1/1 (frame 91/1076) d:\\Term 2\\Deep_Learning_Project\\dl_project\\test.mp4: 640x384 (no detections), 13.2ms\n",
      "video 1/1 (frame 92/1076) d:\\Term 2\\Deep_Learning_Project\\dl_project\\test.mp4: 640x384 (no detections), 13.4ms\n",
      "video 1/1 (frame 93/1076) d:\\Term 2\\Deep_Learning_Project\\dl_project\\test.mp4: 640x384 (no detections), 13.4ms\n",
      "video 1/1 (frame 94/1076) d:\\Term 2\\Deep_Learning_Project\\dl_project\\test.mp4: 640x384 (no detections), 16.4ms\n",
      "video 1/1 (frame 95/1076) d:\\Term 2\\Deep_Learning_Project\\dl_project\\test.mp4: 640x384 (no detections), 13.3ms\n",
      "video 1/1 (frame 96/1076) d:\\Term 2\\Deep_Learning_Project\\dl_project\\test.mp4: 640x384 (no detections), 13.5ms\n",
      "video 1/1 (frame 97/1076) d:\\Term 2\\Deep_Learning_Project\\dl_project\\test.mp4: 640x384 (no detections), 13.4ms\n",
      "video 1/1 (frame 98/1076) d:\\Term 2\\Deep_Learning_Project\\dl_project\\test.mp4: 640x384 (no detections), 13.6ms\n",
      "video 1/1 (frame 99/1076) d:\\Term 2\\Deep_Learning_Project\\dl_project\\test.mp4: 640x384 (no detections), 13.5ms\n",
      "video 1/1 (frame 100/1076) d:\\Term 2\\Deep_Learning_Project\\dl_project\\test.mp4: 640x384 (no detections), 13.5ms\n",
      "video 1/1 (frame 101/1076) d:\\Term 2\\Deep_Learning_Project\\dl_project\\test.mp4: 640x384 (no detections), 13.4ms\n",
      "video 1/1 (frame 102/1076) d:\\Term 2\\Deep_Learning_Project\\dl_project\\test.mp4: 640x384 (no detections), 13.5ms\n",
      "video 1/1 (frame 103/1076) d:\\Term 2\\Deep_Learning_Project\\dl_project\\test.mp4: 640x384 (no detections), 13.4ms\n",
      "video 1/1 (frame 104/1076) d:\\Term 2\\Deep_Learning_Project\\dl_project\\test.mp4: 640x384 1 licence, 13.4ms\n",
      "video 1/1 (frame 105/1076) d:\\Term 2\\Deep_Learning_Project\\dl_project\\test.mp4: 640x384 (no detections), 13.4ms\n",
      "video 1/1 (frame 106/1076) d:\\Term 2\\Deep_Learning_Project\\dl_project\\test.mp4: 640x384 (no detections), 13.6ms\n",
      "video 1/1 (frame 107/1076) d:\\Term 2\\Deep_Learning_Project\\dl_project\\test.mp4: 640x384 (no detections), 13.6ms\n",
      "video 1/1 (frame 108/1076) d:\\Term 2\\Deep_Learning_Project\\dl_project\\test.mp4: 640x384 (no detections), 13.7ms\n",
      "video 1/1 (frame 109/1076) d:\\Term 2\\Deep_Learning_Project\\dl_project\\test.mp4: 640x384 1 licence, 13.4ms\n",
      "video 1/1 (frame 110/1076) d:\\Term 2\\Deep_Learning_Project\\dl_project\\test.mp4: 640x384 1 licence, 13.5ms\n",
      "video 1/1 (frame 111/1076) d:\\Term 2\\Deep_Learning_Project\\dl_project\\test.mp4: 640x384 1 licence, 14.0ms\n",
      "video 1/1 (frame 112/1076) d:\\Term 2\\Deep_Learning_Project\\dl_project\\test.mp4: 640x384 1 licence, 13.6ms\n",
      "video 1/1 (frame 113/1076) d:\\Term 2\\Deep_Learning_Project\\dl_project\\test.mp4: 640x384 1 licence, 13.8ms\n",
      "video 1/1 (frame 114/1076) d:\\Term 2\\Deep_Learning_Project\\dl_project\\test.mp4: 640x384 1 licence, 13.7ms\n",
      "video 1/1 (frame 115/1076) d:\\Term 2\\Deep_Learning_Project\\dl_project\\test.mp4: 640x384 1 licence, 16.9ms\n",
      "video 1/1 (frame 116/1076) d:\\Term 2\\Deep_Learning_Project\\dl_project\\test.mp4: 640x384 1 licence, 13.7ms\n",
      "video 1/1 (frame 117/1076) d:\\Term 2\\Deep_Learning_Project\\dl_project\\test.mp4: 640x384 1 licence, 13.9ms\n",
      "video 1/1 (frame 118/1076) d:\\Term 2\\Deep_Learning_Project\\dl_project\\test.mp4: 640x384 1 licence, 13.9ms\n",
      "video 1/1 (frame 119/1076) d:\\Term 2\\Deep_Learning_Project\\dl_project\\test.mp4: 640x384 (no detections), 13.9ms\n",
      "video 1/1 (frame 120/1076) d:\\Term 2\\Deep_Learning_Project\\dl_project\\test.mp4: 640x384 (no detections), 16.2ms\n",
      "video 1/1 (frame 121/1076) d:\\Term 2\\Deep_Learning_Project\\dl_project\\test.mp4: 640x384 (no detections), 14.1ms\n",
      "video 1/1 (frame 122/1076) d:\\Term 2\\Deep_Learning_Project\\dl_project\\test.mp4: 640x384 (no detections), 13.9ms\n",
      "video 1/1 (frame 123/1076) d:\\Term 2\\Deep_Learning_Project\\dl_project\\test.mp4: 640x384 (no detections), 13.8ms\n",
      "video 1/1 (frame 124/1076) d:\\Term 2\\Deep_Learning_Project\\dl_project\\test.mp4: 640x384 1 licence, 13.9ms\n",
      "video 1/1 (frame 125/1076) d:\\Term 2\\Deep_Learning_Project\\dl_project\\test.mp4: 640x384 (no detections), 13.9ms\n",
      "video 1/1 (frame 126/1076) d:\\Term 2\\Deep_Learning_Project\\dl_project\\test.mp4: 640x384 (no detections), 13.9ms\n",
      "video 1/1 (frame 127/1076) d:\\Term 2\\Deep_Learning_Project\\dl_project\\test.mp4: 640x384 (no detections), 14.1ms\n",
      "video 1/1 (frame 128/1076) d:\\Term 2\\Deep_Learning_Project\\dl_project\\test.mp4: 640x384 (no detections), 14.2ms\n",
      "video 1/1 (frame 129/1076) d:\\Term 2\\Deep_Learning_Project\\dl_project\\test.mp4: 640x384 (no detections), 14.2ms\n",
      "video 1/1 (frame 130/1076) d:\\Term 2\\Deep_Learning_Project\\dl_project\\test.mp4: 640x384 (no detections), 14.1ms\n",
      "video 1/1 (frame 131/1076) d:\\Term 2\\Deep_Learning_Project\\dl_project\\test.mp4: 640x384 (no detections), 14.4ms\n",
      "video 1/1 (frame 132/1076) d:\\Term 2\\Deep_Learning_Project\\dl_project\\test.mp4: 640x384 (no detections), 17.6ms\n",
      "video 1/1 (frame 133/1076) d:\\Term 2\\Deep_Learning_Project\\dl_project\\test.mp4: 640x384 (no detections), 16.0ms\n",
      "video 1/1 (frame 134/1076) d:\\Term 2\\Deep_Learning_Project\\dl_project\\test.mp4: 640x384 (no detections), 14.4ms\n",
      "video 1/1 (frame 135/1076) d:\\Term 2\\Deep_Learning_Project\\dl_project\\test.mp4: 640x384 (no detections), 14.4ms\n",
      "video 1/1 (frame 136/1076) d:\\Term 2\\Deep_Learning_Project\\dl_project\\test.mp4: 640x384 (no detections), 14.5ms\n",
      "video 1/1 (frame 137/1076) d:\\Term 2\\Deep_Learning_Project\\dl_project\\test.mp4: 640x384 (no detections), 14.3ms\n",
      "video 1/1 (frame 138/1076) d:\\Term 2\\Deep_Learning_Project\\dl_project\\test.mp4: 640x384 (no detections), 14.3ms\n",
      "video 1/1 (frame 139/1076) d:\\Term 2\\Deep_Learning_Project\\dl_project\\test.mp4: 640x384 (no detections), 14.3ms\n",
      "video 1/1 (frame 140/1076) d:\\Term 2\\Deep_Learning_Project\\dl_project\\test.mp4: 640x384 (no detections), 14.5ms\n",
      "video 1/1 (frame 141/1076) d:\\Term 2\\Deep_Learning_Project\\dl_project\\test.mp4: 640x384 (no detections), 14.6ms\n",
      "video 1/1 (frame 142/1076) d:\\Term 2\\Deep_Learning_Project\\dl_project\\test.mp4: 640x384 (no detections), 14.5ms\n",
      "video 1/1 (frame 143/1076) d:\\Term 2\\Deep_Learning_Project\\dl_project\\test.mp4: 640x384 (no detections), 14.7ms\n",
      "video 1/1 (frame 144/1076) d:\\Term 2\\Deep_Learning_Project\\dl_project\\test.mp4: 640x384 (no detections), 14.7ms\n",
      "video 1/1 (frame 145/1076) d:\\Term 2\\Deep_Learning_Project\\dl_project\\test.mp4: 640x384 (no detections), 16.5ms\n",
      "video 1/1 (frame 146/1076) d:\\Term 2\\Deep_Learning_Project\\dl_project\\test.mp4: 640x384 (no detections), 14.8ms\n",
      "video 1/1 (frame 147/1076) d:\\Term 2\\Deep_Learning_Project\\dl_project\\test.mp4: 640x384 (no detections), 14.6ms\n",
      "video 1/1 (frame 148/1076) d:\\Term 2\\Deep_Learning_Project\\dl_project\\test.mp4: 640x384 (no detections), 16.0ms\n",
      "video 1/1 (frame 149/1076) d:\\Term 2\\Deep_Learning_Project\\dl_project\\test.mp4: 640x384 (no detections), 14.7ms\n",
      "video 1/1 (frame 150/1076) d:\\Term 2\\Deep_Learning_Project\\dl_project\\test.mp4: 640x384 (no detections), 14.9ms\n",
      "video 1/1 (frame 151/1076) d:\\Term 2\\Deep_Learning_Project\\dl_project\\test.mp4: 640x384 (no detections), 20.1ms\n",
      "video 1/1 (frame 152/1076) d:\\Term 2\\Deep_Learning_Project\\dl_project\\test.mp4: 640x384 (no detections), 14.7ms\n",
      "video 1/1 (frame 153/1076) d:\\Term 2\\Deep_Learning_Project\\dl_project\\test.mp4: 640x384 (no detections), 14.7ms\n",
      "video 1/1 (frame 154/1076) d:\\Term 2\\Deep_Learning_Project\\dl_project\\test.mp4: 640x384 (no detections), 14.9ms\n",
      "video 1/1 (frame 155/1076) d:\\Term 2\\Deep_Learning_Project\\dl_project\\test.mp4: 640x384 (no detections), 14.9ms\n",
      "video 1/1 (frame 156/1076) d:\\Term 2\\Deep_Learning_Project\\dl_project\\test.mp4: 640x384 (no detections), 14.9ms\n",
      "video 1/1 (frame 157/1076) d:\\Term 2\\Deep_Learning_Project\\dl_project\\test.mp4: 640x384 (no detections), 15.4ms\n",
      "video 1/1 (frame 158/1076) d:\\Term 2\\Deep_Learning_Project\\dl_project\\test.mp4: 640x384 (no detections), 15.0ms\n",
      "video 1/1 (frame 159/1076) d:\\Term 2\\Deep_Learning_Project\\dl_project\\test.mp4: 640x384 (no detections), 16.0ms\n",
      "video 1/1 (frame 160/1076) d:\\Term 2\\Deep_Learning_Project\\dl_project\\test.mp4: 640x384 (no detections), 15.0ms\n",
      "video 1/1 (frame 161/1076) d:\\Term 2\\Deep_Learning_Project\\dl_project\\test.mp4: 640x384 (no detections), 15.0ms\n",
      "video 1/1 (frame 162/1076) d:\\Term 2\\Deep_Learning_Project\\dl_project\\test.mp4: 640x384 (no detections), 15.1ms\n",
      "video 1/1 (frame 163/1076) d:\\Term 2\\Deep_Learning_Project\\dl_project\\test.mp4: 640x384 (no detections), 15.3ms\n",
      "video 1/1 (frame 164/1076) d:\\Term 2\\Deep_Learning_Project\\dl_project\\test.mp4: 640x384 (no detections), 15.2ms\n",
      "video 1/1 (frame 165/1076) d:\\Term 2\\Deep_Learning_Project\\dl_project\\test.mp4: 640x384 (no detections), 15.2ms\n",
      "video 1/1 (frame 166/1076) d:\\Term 2\\Deep_Learning_Project\\dl_project\\test.mp4: 640x384 (no detections), 15.1ms\n",
      "video 1/1 (frame 167/1076) d:\\Term 2\\Deep_Learning_Project\\dl_project\\test.mp4: 640x384 (no detections), 15.0ms\n",
      "video 1/1 (frame 168/1076) d:\\Term 2\\Deep_Learning_Project\\dl_project\\test.mp4: 640x384 (no detections), 15.0ms\n",
      "video 1/1 (frame 169/1076) d:\\Term 2\\Deep_Learning_Project\\dl_project\\test.mp4: 640x384 (no detections), 15.1ms\n",
      "video 1/1 (frame 170/1076) d:\\Term 2\\Deep_Learning_Project\\dl_project\\test.mp4: 640x384 (no detections), 15.1ms\n",
      "video 1/1 (frame 171/1076) d:\\Term 2\\Deep_Learning_Project\\dl_project\\test.mp4: 640x384 (no detections), 16.0ms\n",
      "video 1/1 (frame 172/1076) d:\\Term 2\\Deep_Learning_Project\\dl_project\\test.mp4: 640x384 (no detections), 15.1ms\n",
      "video 1/1 (frame 173/1076) d:\\Term 2\\Deep_Learning_Project\\dl_project\\test.mp4: 640x384 (no detections), 15.6ms\n",
      "video 1/1 (frame 174/1076) d:\\Term 2\\Deep_Learning_Project\\dl_project\\test.mp4: 640x384 (no detections), 15.1ms\n",
      "video 1/1 (frame 175/1076) d:\\Term 2\\Deep_Learning_Project\\dl_project\\test.mp4: 640x384 (no detections), 15.2ms\n",
      "video 1/1 (frame 176/1076) d:\\Term 2\\Deep_Learning_Project\\dl_project\\test.mp4: 640x384 (no detections), 15.2ms\n",
      "video 1/1 (frame 177/1076) d:\\Term 2\\Deep_Learning_Project\\dl_project\\test.mp4: 640x384 (no detections), 15.1ms\n",
      "video 1/1 (frame 178/1076) d:\\Term 2\\Deep_Learning_Project\\dl_project\\test.mp4: 640x384 (no detections), 15.1ms\n",
      "video 1/1 (frame 179/1076) d:\\Term 2\\Deep_Learning_Project\\dl_project\\test.mp4: 640x384 (no detections), 15.0ms\n",
      "video 1/1 (frame 180/1076) d:\\Term 2\\Deep_Learning_Project\\dl_project\\test.mp4: 640x384 (no detections), 15.1ms\n",
      "video 1/1 (frame 181/1076) d:\\Term 2\\Deep_Learning_Project\\dl_project\\test.mp4: 640x384 (no detections), 15.2ms\n",
      "video 1/1 (frame 182/1076) d:\\Term 2\\Deep_Learning_Project\\dl_project\\test.mp4: 640x384 (no detections), 15.1ms\n",
      "video 1/1 (frame 183/1076) d:\\Term 2\\Deep_Learning_Project\\dl_project\\test.mp4: 640x384 (no detections), 15.2ms\n",
      "video 1/1 (frame 184/1076) d:\\Term 2\\Deep_Learning_Project\\dl_project\\test.mp4: 640x384 (no detections), 15.1ms\n",
      "video 1/1 (frame 185/1076) d:\\Term 2\\Deep_Learning_Project\\dl_project\\test.mp4: 640x384 (no detections), 15.3ms\n",
      "video 1/1 (frame 186/1076) d:\\Term 2\\Deep_Learning_Project\\dl_project\\test.mp4: 640x384 (no detections), 15.0ms\n",
      "video 1/1 (frame 187/1076) d:\\Term 2\\Deep_Learning_Project\\dl_project\\test.mp4: 640x384 (no detections), 15.2ms\n",
      "video 1/1 (frame 188/1076) d:\\Term 2\\Deep_Learning_Project\\dl_project\\test.mp4: 640x384 (no detections), 15.2ms\n",
      "video 1/1 (frame 189/1076) d:\\Term 2\\Deep_Learning_Project\\dl_project\\test.mp4: 640x384 (no detections), 15.1ms\n",
      "video 1/1 (frame 190/1076) d:\\Term 2\\Deep_Learning_Project\\dl_project\\test.mp4: 640x384 (no detections), 15.0ms\n",
      "video 1/1 (frame 191/1076) d:\\Term 2\\Deep_Learning_Project\\dl_project\\test.mp4: 640x384 (no detections), 15.2ms\n",
      "video 1/1 (frame 192/1076) d:\\Term 2\\Deep_Learning_Project\\dl_project\\test.mp4: 640x384 (no detections), 15.0ms\n",
      "video 1/1 (frame 193/1076) d:\\Term 2\\Deep_Learning_Project\\dl_project\\test.mp4: 640x384 (no detections), 14.0ms\n",
      "video 1/1 (frame 194/1076) d:\\Term 2\\Deep_Learning_Project\\dl_project\\test.mp4: 640x384 (no detections), 13.9ms\n",
      "video 1/1 (frame 195/1076) d:\\Term 2\\Deep_Learning_Project\\dl_project\\test.mp4: 640x384 (no detections), 14.1ms\n",
      "video 1/1 (frame 196/1076) d:\\Term 2\\Deep_Learning_Project\\dl_project\\test.mp4: 640x384 (no detections), 15.8ms\n",
      "video 1/1 (frame 197/1076) d:\\Term 2\\Deep_Learning_Project\\dl_project\\test.mp4: 640x384 (no detections), 13.9ms\n",
      "video 1/1 (frame 198/1076) d:\\Term 2\\Deep_Learning_Project\\dl_project\\test.mp4: 640x384 (no detections), 14.2ms\n",
      "video 1/1 (frame 199/1076) d:\\Term 2\\Deep_Learning_Project\\dl_project\\test.mp4: 640x384 (no detections), 13.3ms\n",
      "video 1/1 (frame 200/1076) d:\\Term 2\\Deep_Learning_Project\\dl_project\\test.mp4: 640x384 (no detections), 16.7ms\n",
      "video 1/1 (frame 201/1076) d:\\Term 2\\Deep_Learning_Project\\dl_project\\test.mp4: 640x384 (no detections), 13.2ms\n",
      "video 1/1 (frame 202/1076) d:\\Term 2\\Deep_Learning_Project\\dl_project\\test.mp4: 640x384 (no detections), 13.3ms\n",
      "video 1/1 (frame 203/1076) d:\\Term 2\\Deep_Learning_Project\\dl_project\\test.mp4: 640x384 (no detections), 13.2ms\n",
      "video 1/1 (frame 204/1076) d:\\Term 2\\Deep_Learning_Project\\dl_project\\test.mp4: 640x384 (no detections), 13.4ms\n",
      "video 1/1 (frame 205/1076) d:\\Term 2\\Deep_Learning_Project\\dl_project\\test.mp4: 640x384 (no detections), 13.2ms\n",
      "video 1/1 (frame 206/1076) d:\\Term 2\\Deep_Learning_Project\\dl_project\\test.mp4: 640x384 (no detections), 13.4ms\n",
      "video 1/1 (frame 207/1076) d:\\Term 2\\Deep_Learning_Project\\dl_project\\test.mp4: 640x384 (no detections), 13.2ms\n",
      "video 1/1 (frame 208/1076) d:\\Term 2\\Deep_Learning_Project\\dl_project\\test.mp4: 640x384 (no detections), 13.2ms\n",
      "video 1/1 (frame 209/1076) d:\\Term 2\\Deep_Learning_Project\\dl_project\\test.mp4: 640x384 (no detections), 13.2ms\n",
      "video 1/1 (frame 210/1076) d:\\Term 2\\Deep_Learning_Project\\dl_project\\test.mp4: 640x384 (no detections), 11.9ms\n",
      "video 1/1 (frame 211/1076) d:\\Term 2\\Deep_Learning_Project\\dl_project\\test.mp4: 640x384 (no detections), 12.2ms\n",
      "video 1/1 (frame 212/1076) d:\\Term 2\\Deep_Learning_Project\\dl_project\\test.mp4: 640x384 (no detections), 12.0ms\n",
      "video 1/1 (frame 213/1076) d:\\Term 2\\Deep_Learning_Project\\dl_project\\test.mp4: 640x384 (no detections), 11.9ms\n",
      "video 1/1 (frame 214/1076) d:\\Term 2\\Deep_Learning_Project\\dl_project\\test.mp4: 640x384 (no detections), 11.9ms\n",
      "video 1/1 (frame 215/1076) d:\\Term 2\\Deep_Learning_Project\\dl_project\\test.mp4: 640x384 (no detections), 11.9ms\n",
      "video 1/1 (frame 216/1076) d:\\Term 2\\Deep_Learning_Project\\dl_project\\test.mp4: 640x384 (no detections), 12.1ms\n",
      "video 1/1 (frame 217/1076) d:\\Term 2\\Deep_Learning_Project\\dl_project\\test.mp4: 640x384 (no detections), 12.0ms\n",
      "video 1/1 (frame 218/1076) d:\\Term 2\\Deep_Learning_Project\\dl_project\\test.mp4: 640x384 (no detections), 15.5ms\n",
      "video 1/1 (frame 219/1076) d:\\Term 2\\Deep_Learning_Project\\dl_project\\test.mp4: 640x384 (no detections), 12.4ms\n",
      "video 1/1 (frame 220/1076) d:\\Term 2\\Deep_Learning_Project\\dl_project\\test.mp4: 640x384 (no detections), 12.0ms\n",
      "video 1/1 (frame 221/1076) d:\\Term 2\\Deep_Learning_Project\\dl_project\\test.mp4: 640x384 (no detections), 12.1ms\n",
      "video 1/1 (frame 222/1076) d:\\Term 2\\Deep_Learning_Project\\dl_project\\test.mp4: 640x384 (no detections), 11.9ms\n",
      "video 1/1 (frame 223/1076) d:\\Term 2\\Deep_Learning_Project\\dl_project\\test.mp4: 640x384 (no detections), 11.9ms\n",
      "video 1/1 (frame 224/1076) d:\\Term 2\\Deep_Learning_Project\\dl_project\\test.mp4: 640x384 (no detections), 12.0ms\n",
      "video 1/1 (frame 225/1076) d:\\Term 2\\Deep_Learning_Project\\dl_project\\test.mp4: 640x384 (no detections), 12.1ms\n",
      "video 1/1 (frame 226/1076) d:\\Term 2\\Deep_Learning_Project\\dl_project\\test.mp4: 640x384 (no detections), 11.9ms\n",
      "video 1/1 (frame 227/1076) d:\\Term 2\\Deep_Learning_Project\\dl_project\\test.mp4: 640x384 (no detections), 12.0ms\n",
      "video 1/1 (frame 228/1076) d:\\Term 2\\Deep_Learning_Project\\dl_project\\test.mp4: 640x384 (no detections), 11.9ms\n",
      "video 1/1 (frame 229/1076) d:\\Term 2\\Deep_Learning_Project\\dl_project\\test.mp4: 640x384 (no detections), 12.1ms\n",
      "video 1/1 (frame 230/1076) d:\\Term 2\\Deep_Learning_Project\\dl_project\\test.mp4: 640x384 (no detections), 12.0ms\n",
      "video 1/1 (frame 231/1076) d:\\Term 2\\Deep_Learning_Project\\dl_project\\test.mp4: 640x384 (no detections), 12.1ms\n",
      "video 1/1 (frame 232/1076) d:\\Term 2\\Deep_Learning_Project\\dl_project\\test.mp4: 640x384 (no detections), 11.9ms\n",
      "video 1/1 (frame 233/1076) d:\\Term 2\\Deep_Learning_Project\\dl_project\\test.mp4: 640x384 (no detections), 12.0ms\n",
      "video 1/1 (frame 234/1076) d:\\Term 2\\Deep_Learning_Project\\dl_project\\test.mp4: 640x384 (no detections), 20.5ms\n",
      "video 1/1 (frame 235/1076) d:\\Term 2\\Deep_Learning_Project\\dl_project\\test.mp4: 640x384 (no detections), 12.1ms\n",
      "video 1/1 (frame 236/1076) d:\\Term 2\\Deep_Learning_Project\\dl_project\\test.mp4: 640x384 (no detections), 11.9ms\n",
      "video 1/1 (frame 237/1076) d:\\Term 2\\Deep_Learning_Project\\dl_project\\test.mp4: 640x384 (no detections), 14.2ms\n",
      "video 1/1 (frame 238/1076) d:\\Term 2\\Deep_Learning_Project\\dl_project\\test.mp4: 640x384 (no detections), 11.9ms\n",
      "video 1/1 (frame 239/1076) d:\\Term 2\\Deep_Learning_Project\\dl_project\\test.mp4: 640x384 (no detections), 12.1ms\n",
      "video 1/1 (frame 240/1076) d:\\Term 2\\Deep_Learning_Project\\dl_project\\test.mp4: 640x384 (no detections), 22.5ms\n",
      "video 1/1 (frame 241/1076) d:\\Term 2\\Deep_Learning_Project\\dl_project\\test.mp4: 640x384 (no detections), 13.2ms\n",
      "video 1/1 (frame 242/1076) d:\\Term 2\\Deep_Learning_Project\\dl_project\\test.mp4: 640x384 (no detections), 13.8ms\n",
      "video 1/1 (frame 243/1076) d:\\Term 2\\Deep_Learning_Project\\dl_project\\test.mp4: 640x384 (no detections), 11.9ms\n",
      "video 1/1 (frame 244/1076) d:\\Term 2\\Deep_Learning_Project\\dl_project\\test.mp4: 640x384 (no detections), 12.0ms\n",
      "video 1/1 (frame 245/1076) d:\\Term 2\\Deep_Learning_Project\\dl_project\\test.mp4: 640x384 (no detections), 11.9ms\n",
      "video 1/1 (frame 246/1076) d:\\Term 2\\Deep_Learning_Project\\dl_project\\test.mp4: 640x384 (no detections), 11.9ms\n",
      "video 1/1 (frame 247/1076) d:\\Term 2\\Deep_Learning_Project\\dl_project\\test.mp4: 640x384 (no detections), 14.8ms\n",
      "video 1/1 (frame 248/1076) d:\\Term 2\\Deep_Learning_Project\\dl_project\\test.mp4: 640x384 (no detections), 18.2ms\n",
      "video 1/1 (frame 249/1076) d:\\Term 2\\Deep_Learning_Project\\dl_project\\test.mp4: 640x384 (no detections), 13.4ms\n",
      "video 1/1 (frame 250/1076) d:\\Term 2\\Deep_Learning_Project\\dl_project\\test.mp4: 640x384 (no detections), 11.9ms\n",
      "video 1/1 (frame 251/1076) d:\\Term 2\\Deep_Learning_Project\\dl_project\\test.mp4: 640x384 (no detections), 11.8ms\n",
      "video 1/1 (frame 252/1076) d:\\Term 2\\Deep_Learning_Project\\dl_project\\test.mp4: 640x384 (no detections), 11.9ms\n",
      "video 1/1 (frame 253/1076) d:\\Term 2\\Deep_Learning_Project\\dl_project\\test.mp4: 640x384 (no detections), 12.0ms\n",
      "video 1/1 (frame 254/1076) d:\\Term 2\\Deep_Learning_Project\\dl_project\\test.mp4: 640x384 (no detections), 12.0ms\n",
      "video 1/1 (frame 255/1076) d:\\Term 2\\Deep_Learning_Project\\dl_project\\test.mp4: 640x384 (no detections), 11.9ms\n",
      "video 1/1 (frame 256/1076) d:\\Term 2\\Deep_Learning_Project\\dl_project\\test.mp4: 640x384 (no detections), 12.1ms\n",
      "video 1/1 (frame 257/1076) d:\\Term 2\\Deep_Learning_Project\\dl_project\\test.mp4: 640x384 (no detections), 12.9ms\n",
      "video 1/1 (frame 258/1076) d:\\Term 2\\Deep_Learning_Project\\dl_project\\test.mp4: 640x384 (no detections), 13.1ms\n",
      "video 1/1 (frame 259/1076) d:\\Term 2\\Deep_Learning_Project\\dl_project\\test.mp4: 640x384 (no detections), 12.9ms\n",
      "video 1/1 (frame 260/1076) d:\\Term 2\\Deep_Learning_Project\\dl_project\\test.mp4: 640x384 (no detections), 17.8ms\n",
      "video 1/1 (frame 261/1076) d:\\Term 2\\Deep_Learning_Project\\dl_project\\test.mp4: 640x384 (no detections), 13.2ms\n",
      "video 1/1 (frame 262/1076) d:\\Term 2\\Deep_Learning_Project\\dl_project\\test.mp4: 640x384 (no detections), 13.1ms\n",
      "video 1/1 (frame 263/1076) d:\\Term 2\\Deep_Learning_Project\\dl_project\\test.mp4: 640x384 (no detections), 13.1ms\n",
      "video 1/1 (frame 264/1076) d:\\Term 2\\Deep_Learning_Project\\dl_project\\test.mp4: 640x384 (no detections), 13.1ms\n",
      "video 1/1 (frame 265/1076) d:\\Term 2\\Deep_Learning_Project\\dl_project\\test.mp4: 640x384 (no detections), 13.1ms\n",
      "video 1/1 (frame 266/1076) d:\\Term 2\\Deep_Learning_Project\\dl_project\\test.mp4: 640x384 (no detections), 13.4ms\n",
      "video 1/1 (frame 267/1076) d:\\Term 2\\Deep_Learning_Project\\dl_project\\test.mp4: 640x384 (no detections), 13.2ms\n",
      "video 1/1 (frame 268/1076) d:\\Term 2\\Deep_Learning_Project\\dl_project\\test.mp4: 640x384 (no detections), 13.2ms\n",
      "video 1/1 (frame 269/1076) d:\\Term 2\\Deep_Learning_Project\\dl_project\\test.mp4: 640x384 (no detections), 13.4ms\n",
      "video 1/1 (frame 270/1076) d:\\Term 2\\Deep_Learning_Project\\dl_project\\test.mp4: 640x384 (no detections), 13.3ms\n",
      "video 1/1 (frame 271/1076) d:\\Term 2\\Deep_Learning_Project\\dl_project\\test.mp4: 640x384 (no detections), 13.4ms\n",
      "video 1/1 (frame 272/1076) d:\\Term 2\\Deep_Learning_Project\\dl_project\\test.mp4: 640x384 (no detections), 13.8ms\n",
      "video 1/1 (frame 273/1076) d:\\Term 2\\Deep_Learning_Project\\dl_project\\test.mp4: 640x384 (no detections), 14.2ms\n",
      "video 1/1 (frame 274/1076) d:\\Term 2\\Deep_Learning_Project\\dl_project\\test.mp4: 640x384 (no detections), 14.4ms\n",
      "video 1/1 (frame 275/1076) d:\\Term 2\\Deep_Learning_Project\\dl_project\\test.mp4: 640x384 (no detections), 13.8ms\n",
      "video 1/1 (frame 276/1076) d:\\Term 2\\Deep_Learning_Project\\dl_project\\test.mp4: 640x384 (no detections), 13.8ms\n",
      "video 1/1 (frame 277/1076) d:\\Term 2\\Deep_Learning_Project\\dl_project\\test.mp4: 640x384 (no detections), 13.7ms\n",
      "video 1/1 (frame 278/1076) d:\\Term 2\\Deep_Learning_Project\\dl_project\\test.mp4: 640x384 (no detections), 14.3ms\n",
      "video 1/1 (frame 279/1076) d:\\Term 2\\Deep_Learning_Project\\dl_project\\test.mp4: 640x384 (no detections), 13.7ms\n",
      "video 1/1 (frame 280/1076) d:\\Term 2\\Deep_Learning_Project\\dl_project\\test.mp4: 640x384 (no detections), 13.6ms\n",
      "video 1/1 (frame 281/1076) d:\\Term 2\\Deep_Learning_Project\\dl_project\\test.mp4: 640x384 (no detections), 13.2ms\n",
      "video 1/1 (frame 282/1076) d:\\Term 2\\Deep_Learning_Project\\dl_project\\test.mp4: 640x384 (no detections), 13.4ms\n",
      "video 1/1 (frame 283/1076) d:\\Term 2\\Deep_Learning_Project\\dl_project\\test.mp4: 640x384 (no detections), 15.6ms\n",
      "video 1/1 (frame 284/1076) d:\\Term 2\\Deep_Learning_Project\\dl_project\\test.mp4: 640x384 (no detections), 13.5ms\n",
      "video 1/1 (frame 285/1076) d:\\Term 2\\Deep_Learning_Project\\dl_project\\test.mp4: 640x384 (no detections), 13.3ms\n",
      "video 1/1 (frame 286/1076) d:\\Term 2\\Deep_Learning_Project\\dl_project\\test.mp4: 640x384 (no detections), 13.2ms\n",
      "video 1/1 (frame 287/1076) d:\\Term 2\\Deep_Learning_Project\\dl_project\\test.mp4: 640x384 (no detections), 13.3ms\n",
      "video 1/1 (frame 288/1076) d:\\Term 2\\Deep_Learning_Project\\dl_project\\test.mp4: 640x384 (no detections), 13.2ms\n",
      "video 1/1 (frame 289/1076) d:\\Term 2\\Deep_Learning_Project\\dl_project\\test.mp4: 640x384 (no detections), 13.3ms\n",
      "video 1/1 (frame 290/1076) d:\\Term 2\\Deep_Learning_Project\\dl_project\\test.mp4: 640x384 (no detections), 13.2ms\n",
      "video 1/1 (frame 291/1076) d:\\Term 2\\Deep_Learning_Project\\dl_project\\test.mp4: 640x384 (no detections), 13.1ms\n",
      "video 1/1 (frame 292/1076) d:\\Term 2\\Deep_Learning_Project\\dl_project\\test.mp4: 640x384 (no detections), 13.1ms\n",
      "video 1/1 (frame 293/1076) d:\\Term 2\\Deep_Learning_Project\\dl_project\\test.mp4: 640x384 (no detections), 13.1ms\n",
      "video 1/1 (frame 294/1076) d:\\Term 2\\Deep_Learning_Project\\dl_project\\test.mp4: 640x384 (no detections), 13.1ms\n",
      "video 1/1 (frame 295/1076) d:\\Term 2\\Deep_Learning_Project\\dl_project\\test.mp4: 640x384 (no detections), 13.0ms\n",
      "video 1/1 (frame 296/1076) d:\\Term 2\\Deep_Learning_Project\\dl_project\\test.mp4: 640x384 (no detections), 16.3ms\n",
      "video 1/1 (frame 297/1076) d:\\Term 2\\Deep_Learning_Project\\dl_project\\test.mp4: 640x384 (no detections), 13.1ms\n",
      "video 1/1 (frame 298/1076) d:\\Term 2\\Deep_Learning_Project\\dl_project\\test.mp4: 640x384 (no detections), 13.2ms\n",
      "video 1/1 (frame 299/1076) d:\\Term 2\\Deep_Learning_Project\\dl_project\\test.mp4: 640x384 (no detections), 13.1ms\n",
      "video 1/1 (frame 300/1076) d:\\Term 2\\Deep_Learning_Project\\dl_project\\test.mp4: 640x384 (no detections), 13.2ms\n",
      "video 1/1 (frame 301/1076) d:\\Term 2\\Deep_Learning_Project\\dl_project\\test.mp4: 640x384 (no detections), 13.2ms\n",
      "video 1/1 (frame 302/1076) d:\\Term 2\\Deep_Learning_Project\\dl_project\\test.mp4: 640x384 (no detections), 13.1ms\n",
      "video 1/1 (frame 303/1076) d:\\Term 2\\Deep_Learning_Project\\dl_project\\test.mp4: 640x384 (no detections), 13.1ms\n",
      "video 1/1 (frame 304/1076) d:\\Term 2\\Deep_Learning_Project\\dl_project\\test.mp4: 640x384 (no detections), 13.1ms\n",
      "video 1/1 (frame 305/1076) d:\\Term 2\\Deep_Learning_Project\\dl_project\\test.mp4: 640x384 (no detections), 13.0ms\n",
      "video 1/1 (frame 306/1076) d:\\Term 2\\Deep_Learning_Project\\dl_project\\test.mp4: 640x384 (no detections), 13.2ms\n",
      "video 1/1 (frame 307/1076) d:\\Term 2\\Deep_Learning_Project\\dl_project\\test.mp4: 640x384 (no detections), 13.1ms\n",
      "video 1/1 (frame 308/1076) d:\\Term 2\\Deep_Learning_Project\\dl_project\\test.mp4: 640x384 1 licence, 13.1ms\n",
      "video 1/1 (frame 309/1076) d:\\Term 2\\Deep_Learning_Project\\dl_project\\test.mp4: 640x384 (no detections), 13.1ms\n",
      "video 1/1 (frame 310/1076) d:\\Term 2\\Deep_Learning_Project\\dl_project\\test.mp4: 640x384 (no detections), 13.2ms\n",
      "video 1/1 (frame 311/1076) d:\\Term 2\\Deep_Learning_Project\\dl_project\\test.mp4: 640x384 (no detections), 13.0ms\n",
      "video 1/1 (frame 312/1076) d:\\Term 2\\Deep_Learning_Project\\dl_project\\test.mp4: 640x384 (no detections), 13.2ms\n",
      "video 1/1 (frame 313/1076) d:\\Term 2\\Deep_Learning_Project\\dl_project\\test.mp4: 640x384 1 licence, 13.2ms\n",
      "video 1/1 (frame 314/1076) d:\\Term 2\\Deep_Learning_Project\\dl_project\\test.mp4: 640x384 1 licence, 13.1ms\n",
      "video 1/1 (frame 315/1076) d:\\Term 2\\Deep_Learning_Project\\dl_project\\test.mp4: 640x384 (no detections), 13.1ms\n",
      "video 1/1 (frame 316/1076) d:\\Term 2\\Deep_Learning_Project\\dl_project\\test.mp4: 640x384 (no detections), 13.2ms\n",
      "video 1/1 (frame 317/1076) d:\\Term 2\\Deep_Learning_Project\\dl_project\\test.mp4: 640x384 (no detections), 13.1ms\n",
      "video 1/1 (frame 318/1076) d:\\Term 2\\Deep_Learning_Project\\dl_project\\test.mp4: 640x384 1 licence, 12.9ms\n",
      "video 1/1 (frame 319/1076) d:\\Term 2\\Deep_Learning_Project\\dl_project\\test.mp4: 640x384 (no detections), 12.9ms\n",
      "video 1/1 (frame 320/1076) d:\\Term 2\\Deep_Learning_Project\\dl_project\\test.mp4: 640x384 (no detections), 13.6ms\n",
      "video 1/1 (frame 321/1076) d:\\Term 2\\Deep_Learning_Project\\dl_project\\test.mp4: 640x384 (no detections), 12.9ms\n",
      "video 1/1 (frame 322/1076) d:\\Term 2\\Deep_Learning_Project\\dl_project\\test.mp4: 640x384 (no detections), 13.0ms\n",
      "video 1/1 (frame 323/1076) d:\\Term 2\\Deep_Learning_Project\\dl_project\\test.mp4: 640x384 (no detections), 13.0ms\n",
      "video 1/1 (frame 324/1076) d:\\Term 2\\Deep_Learning_Project\\dl_project\\test.mp4: 640x384 2 licences, 13.0ms\n",
      "video 1/1 (frame 325/1076) d:\\Term 2\\Deep_Learning_Project\\dl_project\\test.mp4: 640x384 1 licence, 12.9ms\n",
      "video 1/1 (frame 326/1076) d:\\Term 2\\Deep_Learning_Project\\dl_project\\test.mp4: 640x384 1 licence, 12.9ms\n",
      "video 1/1 (frame 327/1076) d:\\Term 2\\Deep_Learning_Project\\dl_project\\test.mp4: 640x384 (no detections), 12.9ms\n",
      "video 1/1 (frame 328/1076) d:\\Term 2\\Deep_Learning_Project\\dl_project\\test.mp4: 640x384 1 licence, 12.9ms\n",
      "video 1/1 (frame 329/1076) d:\\Term 2\\Deep_Learning_Project\\dl_project\\test.mp4: 640x384 (no detections), 13.2ms\n",
      "video 1/1 (frame 330/1076) d:\\Term 2\\Deep_Learning_Project\\dl_project\\test.mp4: 640x384 (no detections), 14.3ms\n",
      "video 1/1 (frame 331/1076) d:\\Term 2\\Deep_Learning_Project\\dl_project\\test.mp4: 640x384 (no detections), 12.9ms\n",
      "video 1/1 (frame 332/1076) d:\\Term 2\\Deep_Learning_Project\\dl_project\\test.mp4: 640x384 1 licence, 12.9ms\n",
      "video 1/1 (frame 333/1076) d:\\Term 2\\Deep_Learning_Project\\dl_project\\test.mp4: 640x384 (no detections), 13.0ms\n",
      "video 1/1 (frame 334/1076) d:\\Term 2\\Deep_Learning_Project\\dl_project\\test.mp4: 640x384 (no detections), 13.0ms\n",
      "video 1/1 (frame 335/1076) d:\\Term 2\\Deep_Learning_Project\\dl_project\\test.mp4: 640x384 (no detections), 12.9ms\n",
      "video 1/1 (frame 336/1076) d:\\Term 2\\Deep_Learning_Project\\dl_project\\test.mp4: 640x384 (no detections), 13.1ms\n",
      "video 1/1 (frame 337/1076) d:\\Term 2\\Deep_Learning_Project\\dl_project\\test.mp4: 640x384 (no detections), 12.9ms\n",
      "video 1/1 (frame 338/1076) d:\\Term 2\\Deep_Learning_Project\\dl_project\\test.mp4: 640x384 1 licence, 13.5ms\n",
      "video 1/1 (frame 339/1076) d:\\Term 2\\Deep_Learning_Project\\dl_project\\test.mp4: 640x384 (no detections), 12.9ms\n",
      "video 1/1 (frame 340/1076) d:\\Term 2\\Deep_Learning_Project\\dl_project\\test.mp4: 640x384 1 licence, 13.2ms\n",
      "video 1/1 (frame 341/1076) d:\\Term 2\\Deep_Learning_Project\\dl_project\\test.mp4: 640x384 1 licence, 13.0ms\n",
      "video 1/1 (frame 342/1076) d:\\Term 2\\Deep_Learning_Project\\dl_project\\test.mp4: 640x384 1 licence, 19.7ms\n",
      "video 1/1 (frame 343/1076) d:\\Term 2\\Deep_Learning_Project\\dl_project\\test.mp4: 640x384 (no detections), 12.9ms\n",
      "video 1/1 (frame 344/1076) d:\\Term 2\\Deep_Learning_Project\\dl_project\\test.mp4: 640x384 1 licence, 13.0ms\n",
      "video 1/1 (frame 345/1076) d:\\Term 2\\Deep_Learning_Project\\dl_project\\test.mp4: 640x384 1 licence, 13.0ms\n",
      "video 1/1 (frame 346/1076) d:\\Term 2\\Deep_Learning_Project\\dl_project\\test.mp4: 640x384 1 licence, 13.1ms\n",
      "video 1/1 (frame 347/1076) d:\\Term 2\\Deep_Learning_Project\\dl_project\\test.mp4: 640x384 1 licence, 13.0ms\n",
      "video 1/1 (frame 348/1076) d:\\Term 2\\Deep_Learning_Project\\dl_project\\test.mp4: 640x384 1 licence, 12.9ms\n",
      "video 1/1 (frame 349/1076) d:\\Term 2\\Deep_Learning_Project\\dl_project\\test.mp4: 640x384 1 licence, 12.9ms\n",
      "video 1/1 (frame 350/1076) d:\\Term 2\\Deep_Learning_Project\\dl_project\\test.mp4: 640x384 1 licence, 13.1ms\n",
      "video 1/1 (frame 351/1076) d:\\Term 2\\Deep_Learning_Project\\dl_project\\test.mp4: 640x384 1 licence, 13.1ms\n",
      "video 1/1 (frame 352/1076) d:\\Term 2\\Deep_Learning_Project\\dl_project\\test.mp4: 640x384 1 licence, 13.0ms\n",
      "video 1/1 (frame 353/1076) d:\\Term 2\\Deep_Learning_Project\\dl_project\\test.mp4: 640x384 1 licence, 13.0ms\n",
      "video 1/1 (frame 354/1076) d:\\Term 2\\Deep_Learning_Project\\dl_project\\test.mp4: 640x384 1 licence, 13.1ms\n",
      "video 1/1 (frame 355/1076) d:\\Term 2\\Deep_Learning_Project\\dl_project\\test.mp4: 640x384 (no detections), 12.9ms\n",
      "video 1/1 (frame 356/1076) d:\\Term 2\\Deep_Learning_Project\\dl_project\\test.mp4: 640x384 (no detections), 12.9ms\n",
      "video 1/1 (frame 357/1076) d:\\Term 2\\Deep_Learning_Project\\dl_project\\test.mp4: 640x384 1 licence, 12.9ms\n",
      "video 1/1 (frame 358/1076) d:\\Term 2\\Deep_Learning_Project\\dl_project\\test.mp4: 640x384 1 licence, 13.0ms\n",
      "video 1/1 (frame 359/1076) d:\\Term 2\\Deep_Learning_Project\\dl_project\\test.mp4: 640x384 1 licence, 13.1ms\n",
      "video 1/1 (frame 360/1076) d:\\Term 2\\Deep_Learning_Project\\dl_project\\test.mp4: 640x384 1 licence, 13.5ms\n",
      "video 1/1 (frame 361/1076) d:\\Term 2\\Deep_Learning_Project\\dl_project\\test.mp4: 640x384 1 licence, 14.4ms\n",
      "video 1/1 (frame 362/1076) d:\\Term 2\\Deep_Learning_Project\\dl_project\\test.mp4: 640x384 1 licence, 15.1ms\n",
      "video 1/1 (frame 363/1076) d:\\Term 2\\Deep_Learning_Project\\dl_project\\test.mp4: 640x384 1 licence, 14.5ms\n",
      "video 1/1 (frame 364/1076) d:\\Term 2\\Deep_Learning_Project\\dl_project\\test.mp4: 640x384 1 licence, 14.5ms\n",
      "video 1/1 (frame 365/1076) d:\\Term 2\\Deep_Learning_Project\\dl_project\\test.mp4: 640x384 1 licence, 14.5ms\n",
      "video 1/1 (frame 366/1076) d:\\Term 2\\Deep_Learning_Project\\dl_project\\test.mp4: 640x384 1 licence, 13.6ms\n",
      "video 1/1 (frame 367/1076) d:\\Term 2\\Deep_Learning_Project\\dl_project\\test.mp4: 640x384 (no detections), 13.6ms\n",
      "video 1/1 (frame 368/1076) d:\\Term 2\\Deep_Learning_Project\\dl_project\\test.mp4: 640x384 1 licence, 13.7ms\n",
      "video 1/1 (frame 369/1076) d:\\Term 2\\Deep_Learning_Project\\dl_project\\test.mp4: 640x384 1 licence, 13.7ms\n",
      "video 1/1 (frame 370/1076) d:\\Term 2\\Deep_Learning_Project\\dl_project\\test.mp4: 640x384 1 licence, 13.6ms\n",
      "video 1/1 (frame 371/1076) d:\\Term 2\\Deep_Learning_Project\\dl_project\\test.mp4: 640x384 1 licence, 13.7ms\n",
      "video 1/1 (frame 372/1076) d:\\Term 2\\Deep_Learning_Project\\dl_project\\test.mp4: 640x384 1 licence, 13.6ms\n",
      "video 1/1 (frame 373/1076) d:\\Term 2\\Deep_Learning_Project\\dl_project\\test.mp4: 640x384 1 licence, 13.7ms\n",
      "video 1/1 (frame 374/1076) d:\\Term 2\\Deep_Learning_Project\\dl_project\\test.mp4: 640x384 2 licences, 13.6ms\n",
      "video 1/1 (frame 375/1076) d:\\Term 2\\Deep_Learning_Project\\dl_project\\test.mp4: 640x384 1 licence, 13.5ms\n",
      "video 1/1 (frame 376/1076) d:\\Term 2\\Deep_Learning_Project\\dl_project\\test.mp4: 640x384 2 licences, 13.7ms\n",
      "video 1/1 (frame 377/1076) d:\\Term 2\\Deep_Learning_Project\\dl_project\\test.mp4: 640x384 (no detections), 13.7ms\n",
      "video 1/1 (frame 378/1076) d:\\Term 2\\Deep_Learning_Project\\dl_project\\test.mp4: 640x384 1 licence, 13.6ms\n",
      "video 1/1 (frame 379/1076) d:\\Term 2\\Deep_Learning_Project\\dl_project\\test.mp4: 640x384 1 licence, 13.6ms\n",
      "video 1/1 (frame 380/1076) d:\\Term 2\\Deep_Learning_Project\\dl_project\\test.mp4: 640x384 1 licence, 13.6ms\n",
      "video 1/1 (frame 381/1076) d:\\Term 2\\Deep_Learning_Project\\dl_project\\test.mp4: 640x384 1 licence, 13.6ms\n",
      "video 1/1 (frame 382/1076) d:\\Term 2\\Deep_Learning_Project\\dl_project\\test.mp4: 640x384 1 licence, 13.6ms\n",
      "video 1/1 (frame 383/1076) d:\\Term 2\\Deep_Learning_Project\\dl_project\\test.mp4: 640x384 1 licence, 13.6ms\n",
      "video 1/1 (frame 384/1076) d:\\Term 2\\Deep_Learning_Project\\dl_project\\test.mp4: 640x384 2 licences, 13.6ms\n",
      "video 1/1 (frame 385/1076) d:\\Term 2\\Deep_Learning_Project\\dl_project\\test.mp4: 640x384 2 licences, 13.6ms\n",
      "video 1/1 (frame 386/1076) d:\\Term 2\\Deep_Learning_Project\\dl_project\\test.mp4: 640x384 1 licence, 13.9ms\n",
      "video 1/1 (frame 387/1076) d:\\Term 2\\Deep_Learning_Project\\dl_project\\test.mp4: 640x384 1 licence, 13.6ms\n",
      "video 1/1 (frame 388/1076) d:\\Term 2\\Deep_Learning_Project\\dl_project\\test.mp4: 640x384 1 licence, 13.6ms\n",
      "video 1/1 (frame 389/1076) d:\\Term 2\\Deep_Learning_Project\\dl_project\\test.mp4: 640x384 1 licence, 13.5ms\n",
      "video 1/1 (frame 390/1076) d:\\Term 2\\Deep_Learning_Project\\dl_project\\test.mp4: 640x384 (no detections), 13.3ms\n",
      "video 1/1 (frame 391/1076) d:\\Term 2\\Deep_Learning_Project\\dl_project\\test.mp4: 640x384 (no detections), 13.0ms\n",
      "video 1/1 (frame 392/1076) d:\\Term 2\\Deep_Learning_Project\\dl_project\\test.mp4: 640x384 1 licence, 12.9ms\n",
      "video 1/1 (frame 393/1076) d:\\Term 2\\Deep_Learning_Project\\dl_project\\test.mp4: 640x384 (no detections), 12.9ms\n",
      "video 1/1 (frame 394/1076) d:\\Term 2\\Deep_Learning_Project\\dl_project\\test.mp4: 640x384 1 licence, 12.9ms\n",
      "video 1/1 (frame 395/1076) d:\\Term 2\\Deep_Learning_Project\\dl_project\\test.mp4: 640x384 (no detections), 12.8ms\n",
      "video 1/1 (frame 396/1076) d:\\Term 2\\Deep_Learning_Project\\dl_project\\test.mp4: 640x384 1 licence, 18.2ms\n",
      "video 1/1 (frame 397/1076) d:\\Term 2\\Deep_Learning_Project\\dl_project\\test.mp4: 640x384 (no detections), 14.2ms\n",
      "video 1/1 (frame 398/1076) d:\\Term 2\\Deep_Learning_Project\\dl_project\\test.mp4: 640x384 (no detections), 12.9ms\n",
      "video 1/1 (frame 399/1076) d:\\Term 2\\Deep_Learning_Project\\dl_project\\test.mp4: 640x384 (no detections), 12.8ms\n",
      "video 1/1 (frame 400/1076) d:\\Term 2\\Deep_Learning_Project\\dl_project\\test.mp4: 640x384 1 licence, 12.9ms\n",
      "video 1/1 (frame 401/1076) d:\\Term 2\\Deep_Learning_Project\\dl_project\\test.mp4: 640x384 (no detections), 17.8ms\n",
      "video 1/1 (frame 402/1076) d:\\Term 2\\Deep_Learning_Project\\dl_project\\test.mp4: 640x384 (no detections), 13.0ms\n",
      "video 1/1 (frame 403/1076) d:\\Term 2\\Deep_Learning_Project\\dl_project\\test.mp4: 640x384 1 licence, 12.9ms\n",
      "video 1/1 (frame 404/1076) d:\\Term 2\\Deep_Learning_Project\\dl_project\\test.mp4: 640x384 1 licence, 13.0ms\n",
      "video 1/1 (frame 405/1076) d:\\Term 2\\Deep_Learning_Project\\dl_project\\test.mp4: 640x384 1 licence, 13.0ms\n",
      "video 1/1 (frame 406/1076) d:\\Term 2\\Deep_Learning_Project\\dl_project\\test.mp4: 640x384 (no detections), 16.4ms\n",
      "video 1/1 (frame 407/1076) d:\\Term 2\\Deep_Learning_Project\\dl_project\\test.mp4: 640x384 (no detections), 13.0ms\n",
      "video 1/1 (frame 408/1076) d:\\Term 2\\Deep_Learning_Project\\dl_project\\test.mp4: 640x384 (no detections), 13.0ms\n",
      "video 1/1 (frame 409/1076) d:\\Term 2\\Deep_Learning_Project\\dl_project\\test.mp4: 640x384 (no detections), 13.0ms\n",
      "video 1/1 (frame 410/1076) d:\\Term 2\\Deep_Learning_Project\\dl_project\\test.mp4: 640x384 (no detections), 13.0ms\n",
      "video 1/1 (frame 411/1076) d:\\Term 2\\Deep_Learning_Project\\dl_project\\test.mp4: 640x384 (no detections), 12.9ms\n",
      "video 1/1 (frame 412/1076) d:\\Term 2\\Deep_Learning_Project\\dl_project\\test.mp4: 640x384 (no detections), 13.0ms\n",
      "video 1/1 (frame 413/1076) d:\\Term 2\\Deep_Learning_Project\\dl_project\\test.mp4: 640x384 (no detections), 12.8ms\n",
      "video 1/1 (frame 414/1076) d:\\Term 2\\Deep_Learning_Project\\dl_project\\test.mp4: 640x384 (no detections), 13.1ms\n",
      "video 1/1 (frame 415/1076) d:\\Term 2\\Deep_Learning_Project\\dl_project\\test.mp4: 640x384 (no detections), 12.6ms\n",
      "video 1/1 (frame 416/1076) d:\\Term 2\\Deep_Learning_Project\\dl_project\\test.mp4: 640x384 (no detections), 12.4ms\n",
      "video 1/1 (frame 417/1076) d:\\Term 2\\Deep_Learning_Project\\dl_project\\test.mp4: 640x384 (no detections), 16.8ms\n",
      "video 1/1 (frame 418/1076) d:\\Term 2\\Deep_Learning_Project\\dl_project\\test.mp4: 640x384 (no detections), 12.5ms\n",
      "video 1/1 (frame 419/1076) d:\\Term 2\\Deep_Learning_Project\\dl_project\\test.mp4: 640x384 1 licence, 12.4ms\n",
      "video 1/1 (frame 420/1076) d:\\Term 2\\Deep_Learning_Project\\dl_project\\test.mp4: 640x384 (no detections), 12.4ms\n",
      "video 1/1 (frame 421/1076) d:\\Term 2\\Deep_Learning_Project\\dl_project\\test.mp4: 640x384 (no detections), 12.4ms\n",
      "video 1/1 (frame 422/1076) d:\\Term 2\\Deep_Learning_Project\\dl_project\\test.mp4: 640x384 (no detections), 12.3ms\n",
      "video 1/1 (frame 423/1076) d:\\Term 2\\Deep_Learning_Project\\dl_project\\test.mp4: 640x384 (no detections), 12.4ms\n",
      "video 1/1 (frame 424/1076) d:\\Term 2\\Deep_Learning_Project\\dl_project\\test.mp4: 640x384 (no detections), 12.4ms\n",
      "video 1/1 (frame 425/1076) d:\\Term 2\\Deep_Learning_Project\\dl_project\\test.mp4: 640x384 (no detections), 12.4ms\n",
      "video 1/1 (frame 426/1076) d:\\Term 2\\Deep_Learning_Project\\dl_project\\test.mp4: 640x384 (no detections), 12.4ms\n",
      "video 1/1 (frame 427/1076) d:\\Term 2\\Deep_Learning_Project\\dl_project\\test.mp4: 640x384 (no detections), 12.4ms\n",
      "video 1/1 (frame 428/1076) d:\\Term 2\\Deep_Learning_Project\\dl_project\\test.mp4: 640x384 (no detections), 12.4ms\n",
      "video 1/1 (frame 429/1076) d:\\Term 2\\Deep_Learning_Project\\dl_project\\test.mp4: 640x384 (no detections), 12.5ms\n",
      "video 1/1 (frame 430/1076) d:\\Term 2\\Deep_Learning_Project\\dl_project\\test.mp4: 640x384 (no detections), 12.6ms\n",
      "video 1/1 (frame 431/1076) d:\\Term 2\\Deep_Learning_Project\\dl_project\\test.mp4: 640x384 (no detections), 16.7ms\n",
      "video 1/1 (frame 432/1076) d:\\Term 2\\Deep_Learning_Project\\dl_project\\test.mp4: 640x384 (no detections), 16.4ms\n",
      "video 1/1 (frame 433/1076) d:\\Term 2\\Deep_Learning_Project\\dl_project\\test.mp4: 640x384 (no detections), 12.4ms\n",
      "video 1/1 (frame 434/1076) d:\\Term 2\\Deep_Learning_Project\\dl_project\\test.mp4: 640x384 1 licence, 13.5ms\n",
      "video 1/1 (frame 435/1076) d:\\Term 2\\Deep_Learning_Project\\dl_project\\test.mp4: 640x384 1 licence, 12.7ms\n",
      "video 1/1 (frame 436/1076) d:\\Term 2\\Deep_Learning_Project\\dl_project\\test.mp4: 640x384 1 licence, 12.8ms\n",
      "video 1/1 (frame 437/1076) d:\\Term 2\\Deep_Learning_Project\\dl_project\\test.mp4: 640x384 1 licence, 17.5ms\n",
      "video 1/1 (frame 438/1076) d:\\Term 2\\Deep_Learning_Project\\dl_project\\test.mp4: 640x384 (no detections), 12.6ms\n",
      "video 1/1 (frame 439/1076) d:\\Term 2\\Deep_Learning_Project\\dl_project\\test.mp4: 640x384 1 licence, 12.6ms\n",
      "video 1/1 (frame 440/1076) d:\\Term 2\\Deep_Learning_Project\\dl_project\\test.mp4: 640x384 1 licence, 12.6ms\n",
      "video 1/1 (frame 441/1076) d:\\Term 2\\Deep_Learning_Project\\dl_project\\test.mp4: 640x384 1 licence, 12.4ms\n",
      "video 1/1 (frame 442/1076) d:\\Term 2\\Deep_Learning_Project\\dl_project\\test.mp4: 640x384 (no detections), 12.4ms\n",
      "video 1/1 (frame 443/1076) d:\\Term 2\\Deep_Learning_Project\\dl_project\\test.mp4: 640x384 1 licence, 12.4ms\n",
      "video 1/1 (frame 444/1076) d:\\Term 2\\Deep_Learning_Project\\dl_project\\test.mp4: 640x384 1 licence, 12.6ms\n",
      "video 1/1 (frame 445/1076) d:\\Term 2\\Deep_Learning_Project\\dl_project\\test.mp4: 640x384 1 licence, 12.5ms\n",
      "video 1/1 (frame 446/1076) d:\\Term 2\\Deep_Learning_Project\\dl_project\\test.mp4: 640x384 (no detections), 12.3ms\n",
      "video 1/1 (frame 447/1076) d:\\Term 2\\Deep_Learning_Project\\dl_project\\test.mp4: 640x384 2 licences, 12.4ms\n",
      "video 1/1 (frame 448/1076) d:\\Term 2\\Deep_Learning_Project\\dl_project\\test.mp4: 640x384 2 licences, 16.1ms\n",
      "video 1/1 (frame 449/1076) d:\\Term 2\\Deep_Learning_Project\\dl_project\\test.mp4: 640x384 1 licence, 12.3ms\n",
      "video 1/1 (frame 450/1076) d:\\Term 2\\Deep_Learning_Project\\dl_project\\test.mp4: 640x384 (no detections), 12.6ms\n",
      "video 1/1 (frame 451/1076) d:\\Term 2\\Deep_Learning_Project\\dl_project\\test.mp4: 640x384 1 licence, 12.4ms\n",
      "video 1/1 (frame 452/1076) d:\\Term 2\\Deep_Learning_Project\\dl_project\\test.mp4: 640x384 1 licence, 12.4ms\n",
      "video 1/1 (frame 453/1076) d:\\Term 2\\Deep_Learning_Project\\dl_project\\test.mp4: 640x384 1 licence, 12.4ms\n",
      "video 1/1 (frame 454/1076) d:\\Term 2\\Deep_Learning_Project\\dl_project\\test.mp4: 640x384 1 licence, 12.4ms\n",
      "video 1/1 (frame 455/1076) d:\\Term 2\\Deep_Learning_Project\\dl_project\\test.mp4: 640x384 1 licence, 12.3ms\n",
      "video 1/1 (frame 456/1076) d:\\Term 2\\Deep_Learning_Project\\dl_project\\test.mp4: 640x384 1 licence, 12.5ms\n",
      "video 1/1 (frame 457/1076) d:\\Term 2\\Deep_Learning_Project\\dl_project\\test.mp4: 640x384 1 licence, 12.3ms\n",
      "video 1/1 (frame 458/1076) d:\\Term 2\\Deep_Learning_Project\\dl_project\\test.mp4: 640x384 (no detections), 13.8ms\n",
      "video 1/1 (frame 459/1076) d:\\Term 2\\Deep_Learning_Project\\dl_project\\test.mp4: 640x384 1 licence, 13.2ms\n",
      "video 1/1 (frame 460/1076) d:\\Term 2\\Deep_Learning_Project\\dl_project\\test.mp4: 640x384 1 licence, 13.2ms\n",
      "video 1/1 (frame 461/1076) d:\\Term 2\\Deep_Learning_Project\\dl_project\\test.mp4: 640x384 1 licence, 13.2ms\n",
      "video 1/1 (frame 462/1076) d:\\Term 2\\Deep_Learning_Project\\dl_project\\test.mp4: 640x384 (no detections), 13.3ms\n",
      "video 1/1 (frame 463/1076) d:\\Term 2\\Deep_Learning_Project\\dl_project\\test.mp4: 640x384 1 licence, 13.4ms\n",
      "video 1/1 (frame 464/1076) d:\\Term 2\\Deep_Learning_Project\\dl_project\\test.mp4: 640x384 1 licence, 13.4ms\n",
      "video 1/1 (frame 465/1076) d:\\Term 2\\Deep_Learning_Project\\dl_project\\test.mp4: 640x384 1 licence, 13.4ms\n",
      "video 1/1 (frame 466/1076) d:\\Term 2\\Deep_Learning_Project\\dl_project\\test.mp4: 640x384 1 licence, 13.4ms\n",
      "video 1/1 (frame 467/1076) d:\\Term 2\\Deep_Learning_Project\\dl_project\\test.mp4: 640x384 1 licence, 13.7ms\n",
      "video 1/1 (frame 468/1076) d:\\Term 2\\Deep_Learning_Project\\dl_project\\test.mp4: 640x384 1 licence, 13.9ms\n",
      "video 1/1 (frame 469/1076) d:\\Term 2\\Deep_Learning_Project\\dl_project\\test.mp4: 640x384 1 licence, 13.6ms\n",
      "video 1/1 (frame 470/1076) d:\\Term 2\\Deep_Learning_Project\\dl_project\\test.mp4: 640x384 (no detections), 17.9ms\n",
      "video 1/1 (frame 471/1076) d:\\Term 2\\Deep_Learning_Project\\dl_project\\test.mp4: 640x384 (no detections), 13.7ms\n",
      "video 1/1 (frame 472/1076) d:\\Term 2\\Deep_Learning_Project\\dl_project\\test.mp4: 640x384 (no detections), 14.1ms\n",
      "video 1/1 (frame 473/1076) d:\\Term 2\\Deep_Learning_Project\\dl_project\\test.mp4: 640x384 (no detections), 13.8ms\n",
      "video 1/1 (frame 474/1076) d:\\Term 2\\Deep_Learning_Project\\dl_project\\test.mp4: 640x384 (no detections), 13.8ms\n",
      "video 1/1 (frame 475/1076) d:\\Term 2\\Deep_Learning_Project\\dl_project\\test.mp4: 640x384 (no detections), 14.3ms\n",
      "video 1/1 (frame 476/1076) d:\\Term 2\\Deep_Learning_Project\\dl_project\\test.mp4: 640x384 (no detections), 14.0ms\n",
      "video 1/1 (frame 477/1076) d:\\Term 2\\Deep_Learning_Project\\dl_project\\test.mp4: 640x384 (no detections), 14.0ms\n",
      "video 1/1 (frame 478/1076) d:\\Term 2\\Deep_Learning_Project\\dl_project\\test.mp4: 640x384 (no detections), 13.9ms\n",
      "video 1/1 (frame 479/1076) d:\\Term 2\\Deep_Learning_Project\\dl_project\\test.mp4: 640x384 (no detections), 14.0ms\n",
      "video 1/1 (frame 480/1076) d:\\Term 2\\Deep_Learning_Project\\dl_project\\test.mp4: 640x384 (no detections), 14.0ms\n",
      "video 1/1 (frame 481/1076) d:\\Term 2\\Deep_Learning_Project\\dl_project\\test.mp4: 640x384 (no detections), 14.4ms\n",
      "video 1/1 (frame 482/1076) d:\\Term 2\\Deep_Learning_Project\\dl_project\\test.mp4: 640x384 (no detections), 14.3ms\n",
      "video 1/1 (frame 483/1076) d:\\Term 2\\Deep_Learning_Project\\dl_project\\test.mp4: 640x384 (no detections), 14.1ms\n",
      "video 1/1 (frame 484/1076) d:\\Term 2\\Deep_Learning_Project\\dl_project\\test.mp4: 640x384 (no detections), 14.1ms\n",
      "video 1/1 (frame 485/1076) d:\\Term 2\\Deep_Learning_Project\\dl_project\\test.mp4: 640x384 (no detections), 14.4ms\n",
      "video 1/1 (frame 486/1076) d:\\Term 2\\Deep_Learning_Project\\dl_project\\test.mp4: 640x384 (no detections), 16.5ms\n",
      "video 1/1 (frame 487/1076) d:\\Term 2\\Deep_Learning_Project\\dl_project\\test.mp4: 640x384 (no detections), 14.3ms\n",
      "video 1/1 (frame 488/1076) d:\\Term 2\\Deep_Learning_Project\\dl_project\\test.mp4: 640x384 (no detections), 14.3ms\n",
      "video 1/1 (frame 489/1076) d:\\Term 2\\Deep_Learning_Project\\dl_project\\test.mp4: 640x384 (no detections), 14.3ms\n",
      "video 1/1 (frame 490/1076) d:\\Term 2\\Deep_Learning_Project\\dl_project\\test.mp4: 640x384 (no detections), 14.3ms\n",
      "video 1/1 (frame 491/1076) d:\\Term 2\\Deep_Learning_Project\\dl_project\\test.mp4: 640x384 (no detections), 14.3ms\n",
      "video 1/1 (frame 492/1076) d:\\Term 2\\Deep_Learning_Project\\dl_project\\test.mp4: 640x384 (no detections), 14.3ms\n",
      "video 1/1 (frame 493/1076) d:\\Term 2\\Deep_Learning_Project\\dl_project\\test.mp4: 640x384 (no detections), 14.7ms\n",
      "video 1/1 (frame 494/1076) d:\\Term 2\\Deep_Learning_Project\\dl_project\\test.mp4: 640x384 (no detections), 14.4ms\n",
      "video 1/1 (frame 495/1076) d:\\Term 2\\Deep_Learning_Project\\dl_project\\test.mp4: 640x384 (no detections), 14.5ms\n",
      "video 1/1 (frame 496/1076) d:\\Term 2\\Deep_Learning_Project\\dl_project\\test.mp4: 640x384 (no detections), 14.6ms\n",
      "video 1/1 (frame 497/1076) d:\\Term 2\\Deep_Learning_Project\\dl_project\\test.mp4: 640x384 (no detections), 14.4ms\n",
      "video 1/1 (frame 498/1076) d:\\Term 2\\Deep_Learning_Project\\dl_project\\test.mp4: 640x384 (no detections), 14.5ms\n",
      "video 1/1 (frame 499/1076) d:\\Term 2\\Deep_Learning_Project\\dl_project\\test.mp4: 640x384 (no detections), 14.7ms\n",
      "video 1/1 (frame 500/1076) d:\\Term 2\\Deep_Learning_Project\\dl_project\\test.mp4: 640x384 (no detections), 14.6ms\n",
      "video 1/1 (frame 501/1076) d:\\Term 2\\Deep_Learning_Project\\dl_project\\test.mp4: 640x384 (no detections), 14.8ms\n",
      "video 1/1 (frame 502/1076) d:\\Term 2\\Deep_Learning_Project\\dl_project\\test.mp4: 640x384 (no detections), 14.6ms\n",
      "video 1/1 (frame 503/1076) d:\\Term 2\\Deep_Learning_Project\\dl_project\\test.mp4: 640x384 (no detections), 14.8ms\n",
      "video 1/1 (frame 504/1076) d:\\Term 2\\Deep_Learning_Project\\dl_project\\test.mp4: 640x384 (no detections), 14.6ms\n",
      "video 1/1 (frame 505/1076) d:\\Term 2\\Deep_Learning_Project\\dl_project\\test.mp4: 640x384 (no detections), 14.5ms\n",
      "video 1/1 (frame 506/1076) d:\\Term 2\\Deep_Learning_Project\\dl_project\\test.mp4: 640x384 (no detections), 14.5ms\n",
      "video 1/1 (frame 507/1076) d:\\Term 2\\Deep_Learning_Project\\dl_project\\test.mp4: 640x384 (no detections), 14.4ms\n",
      "video 1/1 (frame 508/1076) d:\\Term 2\\Deep_Learning_Project\\dl_project\\test.mp4: 640x384 (no detections), 14.4ms\n",
      "video 1/1 (frame 509/1076) d:\\Term 2\\Deep_Learning_Project\\dl_project\\test.mp4: 640x384 (no detections), 14.4ms\n",
      "video 1/1 (frame 510/1076) d:\\Term 2\\Deep_Learning_Project\\dl_project\\test.mp4: 640x384 (no detections), 14.9ms\n",
      "video 1/1 (frame 511/1076) d:\\Term 2\\Deep_Learning_Project\\dl_project\\test.mp4: 640x384 (no detections), 14.5ms\n",
      "video 1/1 (frame 512/1076) d:\\Term 2\\Deep_Learning_Project\\dl_project\\test.mp4: 640x384 (no detections), 14.6ms\n",
      "video 1/1 (frame 513/1076) d:\\Term 2\\Deep_Learning_Project\\dl_project\\test.mp4: 640x384 (no detections), 16.5ms\n",
      "video 1/1 (frame 514/1076) d:\\Term 2\\Deep_Learning_Project\\dl_project\\test.mp4: 640x384 (no detections), 14.5ms\n",
      "video 1/1 (frame 515/1076) d:\\Term 2\\Deep_Learning_Project\\dl_project\\test.mp4: 640x384 (no detections), 13.9ms\n",
      "video 1/1 (frame 516/1076) d:\\Term 2\\Deep_Learning_Project\\dl_project\\test.mp4: 640x384 (no detections), 13.8ms\n",
      "video 1/1 (frame 517/1076) d:\\Term 2\\Deep_Learning_Project\\dl_project\\test.mp4: 640x384 (no detections), 13.9ms\n",
      "video 1/1 (frame 518/1076) d:\\Term 2\\Deep_Learning_Project\\dl_project\\test.mp4: 640x384 (no detections), 13.8ms\n",
      "video 1/1 (frame 519/1076) d:\\Term 2\\Deep_Learning_Project\\dl_project\\test.mp4: 640x384 (no detections), 13.9ms\n",
      "video 1/1 (frame 520/1076) d:\\Term 2\\Deep_Learning_Project\\dl_project\\test.mp4: 640x384 (no detections), 13.9ms\n",
      "video 1/1 (frame 521/1076) d:\\Term 2\\Deep_Learning_Project\\dl_project\\test.mp4: 640x384 (no detections), 14.0ms\n",
      "video 1/1 (frame 522/1076) d:\\Term 2\\Deep_Learning_Project\\dl_project\\test.mp4: 640x384 (no detections), 14.1ms\n",
      "video 1/1 (frame 523/1076) d:\\Term 2\\Deep_Learning_Project\\dl_project\\test.mp4: 640x384 (no detections), 14.4ms\n",
      "video 1/1 (frame 524/1076) d:\\Term 2\\Deep_Learning_Project\\dl_project\\test.mp4: 640x384 (no detections), 13.9ms\n",
      "video 1/1 (frame 525/1076) d:\\Term 2\\Deep_Learning_Project\\dl_project\\test.mp4: 640x384 (no detections), 14.1ms\n",
      "video 1/1 (frame 526/1076) d:\\Term 2\\Deep_Learning_Project\\dl_project\\test.mp4: 640x384 1 licence, 13.9ms\n",
      "video 1/1 (frame 527/1076) d:\\Term 2\\Deep_Learning_Project\\dl_project\\test.mp4: 640x384 1 licence, 17.5ms\n",
      "video 1/1 (frame 528/1076) d:\\Term 2\\Deep_Learning_Project\\dl_project\\test.mp4: 640x384 1 licence, 13.9ms\n",
      "video 1/1 (frame 529/1076) d:\\Term 2\\Deep_Learning_Project\\dl_project\\test.mp4: 640x384 1 licence, 13.9ms\n",
      "video 1/1 (frame 530/1076) d:\\Term 2\\Deep_Learning_Project\\dl_project\\test.mp4: 640x384 1 licence, 13.8ms\n",
      "video 1/1 (frame 531/1076) d:\\Term 2\\Deep_Learning_Project\\dl_project\\test.mp4: 640x384 1 licence, 14.0ms\n",
      "video 1/1 (frame 532/1076) d:\\Term 2\\Deep_Learning_Project\\dl_project\\test.mp4: 640x384 1 licence, 13.8ms\n",
      "video 1/1 (frame 533/1076) d:\\Term 2\\Deep_Learning_Project\\dl_project\\test.mp4: 640x384 1 licence, 14.0ms\n",
      "video 1/1 (frame 534/1076) d:\\Term 2\\Deep_Learning_Project\\dl_project\\test.mp4: 640x384 1 licence, 13.9ms\n",
      "video 1/1 (frame 535/1076) d:\\Term 2\\Deep_Learning_Project\\dl_project\\test.mp4: 640x384 1 licence, 15.3ms\n",
      "video 1/1 (frame 536/1076) d:\\Term 2\\Deep_Learning_Project\\dl_project\\test.mp4: 640x384 1 licence, 13.9ms\n",
      "video 1/1 (frame 537/1076) d:\\Term 2\\Deep_Learning_Project\\dl_project\\test.mp4: 640x384 1 licence, 14.0ms\n",
      "video 1/1 (frame 538/1076) d:\\Term 2\\Deep_Learning_Project\\dl_project\\test.mp4: 640x384 (no detections), 14.1ms\n",
      "video 1/1 (frame 539/1076) d:\\Term 2\\Deep_Learning_Project\\dl_project\\test.mp4: 640x384 (no detections), 13.9ms\n",
      "video 1/1 (frame 540/1076) d:\\Term 2\\Deep_Learning_Project\\dl_project\\test.mp4: 640x384 (no detections), 13.8ms\n",
      "video 1/1 (frame 541/1076) d:\\Term 2\\Deep_Learning_Project\\dl_project\\test.mp4: 640x384 (no detections), 14.1ms\n",
      "video 1/1 (frame 542/1076) d:\\Term 2\\Deep_Learning_Project\\dl_project\\test.mp4: 640x384 (no detections), 14.0ms\n",
      "video 1/1 (frame 543/1076) d:\\Term 2\\Deep_Learning_Project\\dl_project\\test.mp4: 640x384 (no detections), 13.9ms\n",
      "video 1/1 (frame 544/1076) d:\\Term 2\\Deep_Learning_Project\\dl_project\\test.mp4: 640x384 (no detections), 14.0ms\n",
      "video 1/1 (frame 545/1076) d:\\Term 2\\Deep_Learning_Project\\dl_project\\test.mp4: 640x384 (no detections), 14.0ms\n",
      "video 1/1 (frame 546/1076) d:\\Term 2\\Deep_Learning_Project\\dl_project\\test.mp4: 640x384 (no detections), 13.9ms\n",
      "video 1/1 (frame 547/1076) d:\\Term 2\\Deep_Learning_Project\\dl_project\\test.mp4: 640x384 (no detections), 14.9ms\n",
      "video 1/1 (frame 548/1076) d:\\Term 2\\Deep_Learning_Project\\dl_project\\test.mp4: 640x384 (no detections), 13.9ms\n",
      "video 1/1 (frame 549/1076) d:\\Term 2\\Deep_Learning_Project\\dl_project\\test.mp4: 640x384 (no detections), 13.9ms\n",
      "video 1/1 (frame 550/1076) d:\\Term 2\\Deep_Learning_Project\\dl_project\\test.mp4: 640x384 (no detections), 13.9ms\n",
      "video 1/1 (frame 551/1076) d:\\Term 2\\Deep_Learning_Project\\dl_project\\test.mp4: 640x384 (no detections), 14.0ms\n",
      "video 1/1 (frame 552/1076) d:\\Term 2\\Deep_Learning_Project\\dl_project\\test.mp4: 640x384 (no detections), 13.9ms\n",
      "video 1/1 (frame 553/1076) d:\\Term 2\\Deep_Learning_Project\\dl_project\\test.mp4: 640x384 (no detections), 14.1ms\n",
      "video 1/1 (frame 554/1076) d:\\Term 2\\Deep_Learning_Project\\dl_project\\test.mp4: 640x384 (no detections), 14.0ms\n",
      "video 1/1 (frame 555/1076) d:\\Term 2\\Deep_Learning_Project\\dl_project\\test.mp4: 640x384 (no detections), 14.6ms\n",
      "video 1/1 (frame 556/1076) d:\\Term 2\\Deep_Learning_Project\\dl_project\\test.mp4: 640x384 (no detections), 14.6ms\n",
      "video 1/1 (frame 557/1076) d:\\Term 2\\Deep_Learning_Project\\dl_project\\test.mp4: 640x384 (no detections), 14.5ms\n",
      "video 1/1 (frame 558/1076) d:\\Term 2\\Deep_Learning_Project\\dl_project\\test.mp4: 640x384 (no detections), 14.5ms\n",
      "video 1/1 (frame 559/1076) d:\\Term 2\\Deep_Learning_Project\\dl_project\\test.mp4: 640x384 (no detections), 14.9ms\n",
      "video 1/1 (frame 560/1076) d:\\Term 2\\Deep_Learning_Project\\dl_project\\test.mp4: 640x384 (no detections), 14.6ms\n",
      "video 1/1 (frame 561/1076) d:\\Term 2\\Deep_Learning_Project\\dl_project\\test.mp4: 640x384 (no detections), 13.4ms\n",
      "video 1/1 (frame 562/1076) d:\\Term 2\\Deep_Learning_Project\\dl_project\\test.mp4: 640x384 (no detections), 13.5ms\n",
      "video 1/1 (frame 563/1076) d:\\Term 2\\Deep_Learning_Project\\dl_project\\test.mp4: 640x384 (no detections), 13.5ms\n",
      "video 1/1 (frame 564/1076) d:\\Term 2\\Deep_Learning_Project\\dl_project\\test.mp4: 640x384 (no detections), 13.4ms\n",
      "video 1/1 (frame 565/1076) d:\\Term 2\\Deep_Learning_Project\\dl_project\\test.mp4: 640x384 (no detections), 13.4ms\n",
      "video 1/1 (frame 566/1076) d:\\Term 2\\Deep_Learning_Project\\dl_project\\test.mp4: 640x384 (no detections), 13.4ms\n",
      "video 1/1 (frame 567/1076) d:\\Term 2\\Deep_Learning_Project\\dl_project\\test.mp4: 640x384 (no detections), 13.6ms\n",
      "video 1/1 (frame 568/1076) d:\\Term 2\\Deep_Learning_Project\\dl_project\\test.mp4: 640x384 (no detections), 13.6ms\n",
      "video 1/1 (frame 569/1076) d:\\Term 2\\Deep_Learning_Project\\dl_project\\test.mp4: 640x384 (no detections), 13.6ms\n",
      "video 1/1 (frame 570/1076) d:\\Term 2\\Deep_Learning_Project\\dl_project\\test.mp4: 640x384 1 licence, 17.5ms\n",
      "video 1/1 (frame 571/1076) d:\\Term 2\\Deep_Learning_Project\\dl_project\\test.mp4: 640x384 (no detections), 13.0ms\n",
      "video 1/1 (frame 572/1076) d:\\Term 2\\Deep_Learning_Project\\dl_project\\test.mp4: 640x384 (no detections), 13.1ms\n",
      "video 1/1 (frame 573/1076) d:\\Term 2\\Deep_Learning_Project\\dl_project\\test.mp4: 640x384 (no detections), 13.1ms\n",
      "video 1/1 (frame 574/1076) d:\\Term 2\\Deep_Learning_Project\\dl_project\\test.mp4: 640x384 (no detections), 13.3ms\n",
      "video 1/1 (frame 575/1076) d:\\Term 2\\Deep_Learning_Project\\dl_project\\test.mp4: 640x384 (no detections), 13.1ms\n",
      "video 1/1 (frame 576/1076) d:\\Term 2\\Deep_Learning_Project\\dl_project\\test.mp4: 640x384 (no detections), 13.1ms\n",
      "video 1/1 (frame 577/1076) d:\\Term 2\\Deep_Learning_Project\\dl_project\\test.mp4: 640x384 (no detections), 13.0ms\n",
      "video 1/1 (frame 578/1076) d:\\Term 2\\Deep_Learning_Project\\dl_project\\test.mp4: 640x384 (no detections), 13.1ms\n",
      "video 1/1 (frame 579/1076) d:\\Term 2\\Deep_Learning_Project\\dl_project\\test.mp4: 640x384 (no detections), 13.0ms\n",
      "video 1/1 (frame 580/1076) d:\\Term 2\\Deep_Learning_Project\\dl_project\\test.mp4: 640x384 (no detections), 15.8ms\n",
      "video 1/1 (frame 581/1076) d:\\Term 2\\Deep_Learning_Project\\dl_project\\test.mp4: 640x384 (no detections), 13.1ms\n",
      "video 1/1 (frame 582/1076) d:\\Term 2\\Deep_Learning_Project\\dl_project\\test.mp4: 640x384 (no detections), 13.2ms\n",
      "video 1/1 (frame 583/1076) d:\\Term 2\\Deep_Learning_Project\\dl_project\\test.mp4: 640x384 (no detections), 13.2ms\n",
      "video 1/1 (frame 584/1076) d:\\Term 2\\Deep_Learning_Project\\dl_project\\test.mp4: 640x384 (no detections), 13.0ms\n",
      "video 1/1 (frame 585/1076) d:\\Term 2\\Deep_Learning_Project\\dl_project\\test.mp4: 640x384 (no detections), 13.2ms\n",
      "video 1/1 (frame 586/1076) d:\\Term 2\\Deep_Learning_Project\\dl_project\\test.mp4: 640x384 (no detections), 17.5ms\n",
      "video 1/1 (frame 587/1076) d:\\Term 2\\Deep_Learning_Project\\dl_project\\test.mp4: 640x384 (no detections), 13.0ms\n",
      "video 1/1 (frame 588/1076) d:\\Term 2\\Deep_Learning_Project\\dl_project\\test.mp4: 640x384 (no detections), 13.1ms\n",
      "video 1/1 (frame 589/1076) d:\\Term 2\\Deep_Learning_Project\\dl_project\\test.mp4: 640x384 (no detections), 13.2ms\n",
      "video 1/1 (frame 590/1076) d:\\Term 2\\Deep_Learning_Project\\dl_project\\test.mp4: 640x384 (no detections), 13.2ms\n",
      "video 1/1 (frame 591/1076) d:\\Term 2\\Deep_Learning_Project\\dl_project\\test.mp4: 640x384 (no detections), 13.0ms\n",
      "video 1/1 (frame 592/1076) d:\\Term 2\\Deep_Learning_Project\\dl_project\\test.mp4: 640x384 (no detections), 13.0ms\n",
      "video 1/1 (frame 593/1076) d:\\Term 2\\Deep_Learning_Project\\dl_project\\test.mp4: 640x384 (no detections), 16.2ms\n",
      "video 1/1 (frame 594/1076) d:\\Term 2\\Deep_Learning_Project\\dl_project\\test.mp4: 640x384 (no detections), 13.1ms\n",
      "video 1/1 (frame 595/1076) d:\\Term 2\\Deep_Learning_Project\\dl_project\\test.mp4: 640x384 (no detections), 13.1ms\n",
      "video 1/1 (frame 596/1076) d:\\Term 2\\Deep_Learning_Project\\dl_project\\test.mp4: 640x384 (no detections), 13.6ms\n",
      "video 1/1 (frame 597/1076) d:\\Term 2\\Deep_Learning_Project\\dl_project\\test.mp4: 640x384 (no detections), 13.2ms\n",
      "video 1/1 (frame 598/1076) d:\\Term 2\\Deep_Learning_Project\\dl_project\\test.mp4: 640x384 (no detections), 13.1ms\n",
      "video 1/1 (frame 599/1076) d:\\Term 2\\Deep_Learning_Project\\dl_project\\test.mp4: 640x384 (no detections), 13.2ms\n",
      "video 1/1 (frame 600/1076) d:\\Term 2\\Deep_Learning_Project\\dl_project\\test.mp4: 640x384 (no detections), 15.1ms\n",
      "video 1/1 (frame 601/1076) d:\\Term 2\\Deep_Learning_Project\\dl_project\\test.mp4: 640x384 (no detections), 13.2ms\n",
      "video 1/1 (frame 602/1076) d:\\Term 2\\Deep_Learning_Project\\dl_project\\test.mp4: 640x384 (no detections), 13.4ms\n",
      "video 1/1 (frame 603/1076) d:\\Term 2\\Deep_Learning_Project\\dl_project\\test.mp4: 640x384 (no detections), 18.6ms\n",
      "video 1/1 (frame 604/1076) d:\\Term 2\\Deep_Learning_Project\\dl_project\\test.mp4: 640x384 (no detections), 13.1ms\n",
      "video 1/1 (frame 605/1076) d:\\Term 2\\Deep_Learning_Project\\dl_project\\test.mp4: 640x384 (no detections), 13.3ms\n",
      "video 1/1 (frame 606/1076) d:\\Term 2\\Deep_Learning_Project\\dl_project\\test.mp4: 640x384 (no detections), 13.3ms\n",
      "video 1/1 (frame 607/1076) d:\\Term 2\\Deep_Learning_Project\\dl_project\\test.mp4: 640x384 (no detections), 13.1ms\n",
      "video 1/1 (frame 608/1076) d:\\Term 2\\Deep_Learning_Project\\dl_project\\test.mp4: 640x384 (no detections), 13.8ms\n",
      "video 1/1 (frame 609/1076) d:\\Term 2\\Deep_Learning_Project\\dl_project\\test.mp4: 640x384 (no detections), 13.1ms\n",
      "video 1/1 (frame 610/1076) d:\\Term 2\\Deep_Learning_Project\\dl_project\\test.mp4: 640x384 (no detections), 13.5ms\n",
      "video 1/1 (frame 611/1076) d:\\Term 2\\Deep_Learning_Project\\dl_project\\test.mp4: 640x384 (no detections), 13.1ms\n",
      "video 1/1 (frame 612/1076) d:\\Term 2\\Deep_Learning_Project\\dl_project\\test.mp4: 640x384 (no detections), 13.1ms\n",
      "video 1/1 (frame 613/1076) d:\\Term 2\\Deep_Learning_Project\\dl_project\\test.mp4: 640x384 (no detections), 13.2ms\n",
      "video 1/1 (frame 614/1076) d:\\Term 2\\Deep_Learning_Project\\dl_project\\test.mp4: 640x384 (no detections), 13.1ms\n",
      "video 1/1 (frame 615/1076) d:\\Term 2\\Deep_Learning_Project\\dl_project\\test.mp4: 640x384 (no detections), 13.1ms\n",
      "video 1/1 (frame 616/1076) d:\\Term 2\\Deep_Learning_Project\\dl_project\\test.mp4: 640x384 (no detections), 13.2ms\n",
      "video 1/1 (frame 617/1076) d:\\Term 2\\Deep_Learning_Project\\dl_project\\test.mp4: 640x384 (no detections), 13.1ms\n",
      "video 1/1 (frame 618/1076) d:\\Term 2\\Deep_Learning_Project\\dl_project\\test.mp4: 640x384 (no detections), 13.1ms\n",
      "video 1/1 (frame 619/1076) d:\\Term 2\\Deep_Learning_Project\\dl_project\\test.mp4: 640x384 (no detections), 11.6ms\n",
      "video 1/1 (frame 620/1076) d:\\Term 2\\Deep_Learning_Project\\dl_project\\test.mp4: 640x384 (no detections), 17.0ms\n",
      "video 1/1 (frame 621/1076) d:\\Term 2\\Deep_Learning_Project\\dl_project\\test.mp4: 640x384 (no detections), 11.7ms\n",
      "video 1/1 (frame 622/1076) d:\\Term 2\\Deep_Learning_Project\\dl_project\\test.mp4: 640x384 (no detections), 11.5ms\n",
      "video 1/1 (frame 623/1076) d:\\Term 2\\Deep_Learning_Project\\dl_project\\test.mp4: 640x384 (no detections), 11.5ms\n",
      "video 1/1 (frame 624/1076) d:\\Term 2\\Deep_Learning_Project\\dl_project\\test.mp4: 640x384 (no detections), 11.6ms\n",
      "video 1/1 (frame 625/1076) d:\\Term 2\\Deep_Learning_Project\\dl_project\\test.mp4: 640x384 1 licence, 11.7ms\n",
      "video 1/1 (frame 626/1076) d:\\Term 2\\Deep_Learning_Project\\dl_project\\test.mp4: 640x384 1 licence, 11.6ms\n",
      "video 1/1 (frame 627/1076) d:\\Term 2\\Deep_Learning_Project\\dl_project\\test.mp4: 640x384 (no detections), 11.6ms\n",
      "video 1/1 (frame 628/1076) d:\\Term 2\\Deep_Learning_Project\\dl_project\\test.mp4: 640x384 1 licence, 11.7ms\n",
      "video 1/1 (frame 629/1076) d:\\Term 2\\Deep_Learning_Project\\dl_project\\test.mp4: 640x384 1 licence, 20.7ms\n",
      "video 1/1 (frame 630/1076) d:\\Term 2\\Deep_Learning_Project\\dl_project\\test.mp4: 640x384 1 licence, 17.5ms\n",
      "video 1/1 (frame 631/1076) d:\\Term 2\\Deep_Learning_Project\\dl_project\\test.mp4: 640x384 1 licence, 11.9ms\n",
      "video 1/1 (frame 632/1076) d:\\Term 2\\Deep_Learning_Project\\dl_project\\test.mp4: 640x384 1 licence, 11.6ms\n",
      "video 1/1 (frame 633/1076) d:\\Term 2\\Deep_Learning_Project\\dl_project\\test.mp4: 640x384 1 licence, 11.6ms\n",
      "video 1/1 (frame 634/1076) d:\\Term 2\\Deep_Learning_Project\\dl_project\\test.mp4: 640x384 (no detections), 11.6ms\n",
      "video 1/1 (frame 635/1076) d:\\Term 2\\Deep_Learning_Project\\dl_project\\test.mp4: 640x384 (no detections), 11.6ms\n",
      "video 1/1 (frame 636/1076) d:\\Term 2\\Deep_Learning_Project\\dl_project\\test.mp4: 640x384 (no detections), 11.5ms\n",
      "video 1/1 (frame 637/1076) d:\\Term 2\\Deep_Learning_Project\\dl_project\\test.mp4: 640x384 (no detections), 11.6ms\n",
      "video 1/1 (frame 638/1076) d:\\Term 2\\Deep_Learning_Project\\dl_project\\test.mp4: 640x384 (no detections), 11.5ms\n",
      "video 1/1 (frame 639/1076) d:\\Term 2\\Deep_Learning_Project\\dl_project\\test.mp4: 640x384 (no detections), 11.6ms\n",
      "video 1/1 (frame 640/1076) d:\\Term 2\\Deep_Learning_Project\\dl_project\\test.mp4: 640x384 (no detections), 11.6ms\n",
      "video 1/1 (frame 641/1076) d:\\Term 2\\Deep_Learning_Project\\dl_project\\test.mp4: 640x384 (no detections), 11.7ms\n",
      "video 1/1 (frame 642/1076) d:\\Term 2\\Deep_Learning_Project\\dl_project\\test.mp4: 640x384 (no detections), 16.0ms\n",
      "video 1/1 (frame 643/1076) d:\\Term 2\\Deep_Learning_Project\\dl_project\\test.mp4: 640x384 (no detections), 11.5ms\n",
      "video 1/1 (frame 644/1076) d:\\Term 2\\Deep_Learning_Project\\dl_project\\test.mp4: 640x384 (no detections), 11.6ms\n",
      "video 1/1 (frame 645/1076) d:\\Term 2\\Deep_Learning_Project\\dl_project\\test.mp4: 640x384 1 licence, 13.0ms\n",
      "video 1/1 (frame 646/1076) d:\\Term 2\\Deep_Learning_Project\\dl_project\\test.mp4: 640x384 1 licence, 13.5ms\n",
      "video 1/1 (frame 647/1076) d:\\Term 2\\Deep_Learning_Project\\dl_project\\test.mp4: 640x384 1 licence, 11.6ms\n",
      "video 1/1 (frame 648/1076) d:\\Term 2\\Deep_Learning_Project\\dl_project\\test.mp4: 640x384 1 licence, 11.5ms\n",
      "video 1/1 (frame 649/1076) d:\\Term 2\\Deep_Learning_Project\\dl_project\\test.mp4: 640x384 1 licence, 11.6ms\n",
      "video 1/1 (frame 650/1076) d:\\Term 2\\Deep_Learning_Project\\dl_project\\test.mp4: 640x384 1 licence, 11.6ms\n",
      "video 1/1 (frame 651/1076) d:\\Term 2\\Deep_Learning_Project\\dl_project\\test.mp4: 640x384 1 licence, 13.1ms\n",
      "video 1/1 (frame 652/1076) d:\\Term 2\\Deep_Learning_Project\\dl_project\\test.mp4: 640x384 1 licence, 11.7ms\n",
      "video 1/1 (frame 653/1076) d:\\Term 2\\Deep_Learning_Project\\dl_project\\test.mp4: 640x384 1 licence, 11.6ms\n",
      "video 1/1 (frame 654/1076) d:\\Term 2\\Deep_Learning_Project\\dl_project\\test.mp4: 640x384 (no detections), 11.6ms\n",
      "video 1/1 (frame 655/1076) d:\\Term 2\\Deep_Learning_Project\\dl_project\\test.mp4: 640x384 (no detections), 11.8ms\n",
      "video 1/1 (frame 656/1076) d:\\Term 2\\Deep_Learning_Project\\dl_project\\test.mp4: 640x384 (no detections), 11.6ms\n",
      "video 1/1 (frame 657/1076) d:\\Term 2\\Deep_Learning_Project\\dl_project\\test.mp4: 640x384 (no detections), 11.6ms\n",
      "video 1/1 (frame 658/1076) d:\\Term 2\\Deep_Learning_Project\\dl_project\\test.mp4: 640x384 (no detections), 11.6ms\n",
      "video 1/1 (frame 659/1076) d:\\Term 2\\Deep_Learning_Project\\dl_project\\test.mp4: 640x384 (no detections), 11.6ms\n",
      "video 1/1 (frame 660/1076) d:\\Term 2\\Deep_Learning_Project\\dl_project\\test.mp4: 640x384 (no detections), 11.6ms\n",
      "video 1/1 (frame 661/1076) d:\\Term 2\\Deep_Learning_Project\\dl_project\\test.mp4: 640x384 1 licence, 14.0ms\n",
      "video 1/1 (frame 662/1076) d:\\Term 2\\Deep_Learning_Project\\dl_project\\test.mp4: 640x384 1 licence, 14.1ms\n",
      "video 1/1 (frame 663/1076) d:\\Term 2\\Deep_Learning_Project\\dl_project\\test.mp4: 640x384 1 licence, 14.1ms\n",
      "video 1/1 (frame 664/1076) d:\\Term 2\\Deep_Learning_Project\\dl_project\\test.mp4: 640x384 1 licence, 14.0ms\n",
      "video 1/1 (frame 665/1076) d:\\Term 2\\Deep_Learning_Project\\dl_project\\test.mp4: 640x384 1 licence, 14.0ms\n",
      "video 1/1 (frame 666/1076) d:\\Term 2\\Deep_Learning_Project\\dl_project\\test.mp4: 640x384 1 licence, 14.1ms\n",
      "video 1/1 (frame 667/1076) d:\\Term 2\\Deep_Learning_Project\\dl_project\\test.mp4: 640x384 1 licence, 13.7ms\n",
      "video 1/1 (frame 668/1076) d:\\Term 2\\Deep_Learning_Project\\dl_project\\test.mp4: 640x384 1 licence, 13.6ms\n",
      "video 1/1 (frame 669/1076) d:\\Term 2\\Deep_Learning_Project\\dl_project\\test.mp4: 640x384 1 licence, 13.7ms\n",
      "video 1/1 (frame 670/1076) d:\\Term 2\\Deep_Learning_Project\\dl_project\\test.mp4: 640x384 1 licence, 13.7ms\n",
      "video 1/1 (frame 671/1076) d:\\Term 2\\Deep_Learning_Project\\dl_project\\test.mp4: 640x384 1 licence, 13.6ms\n",
      "video 1/1 (frame 672/1076) d:\\Term 2\\Deep_Learning_Project\\dl_project\\test.mp4: 640x384 1 licence, 13.7ms\n",
      "video 1/1 (frame 673/1076) d:\\Term 2\\Deep_Learning_Project\\dl_project\\test.mp4: 640x384 1 licence, 13.7ms\n",
      "video 1/1 (frame 674/1076) d:\\Term 2\\Deep_Learning_Project\\dl_project\\test.mp4: 640x384 (no detections), 13.7ms\n",
      "video 1/1 (frame 675/1076) d:\\Term 2\\Deep_Learning_Project\\dl_project\\test.mp4: 640x384 (no detections), 13.8ms\n",
      "video 1/1 (frame 676/1076) d:\\Term 2\\Deep_Learning_Project\\dl_project\\test.mp4: 640x384 (no detections), 13.6ms\n",
      "video 1/1 (frame 677/1076) d:\\Term 2\\Deep_Learning_Project\\dl_project\\test.mp4: 640x384 (no detections), 13.7ms\n",
      "video 1/1 (frame 678/1076) d:\\Term 2\\Deep_Learning_Project\\dl_project\\test.mp4: 640x384 (no detections), 13.7ms\n",
      "video 1/1 (frame 679/1076) d:\\Term 2\\Deep_Learning_Project\\dl_project\\test.mp4: 640x384 (no detections), 13.7ms\n",
      "video 1/1 (frame 680/1076) d:\\Term 2\\Deep_Learning_Project\\dl_project\\test.mp4: 640x384 (no detections), 15.9ms\n",
      "video 1/1 (frame 681/1076) d:\\Term 2\\Deep_Learning_Project\\dl_project\\test.mp4: 640x384 (no detections), 13.8ms\n",
      "video 1/1 (frame 682/1076) d:\\Term 2\\Deep_Learning_Project\\dl_project\\test.mp4: 640x384 (no detections), 13.7ms\n",
      "video 1/1 (frame 683/1076) d:\\Term 2\\Deep_Learning_Project\\dl_project\\test.mp4: 640x384 (no detections), 16.0ms\n",
      "video 1/1 (frame 684/1076) d:\\Term 2\\Deep_Learning_Project\\dl_project\\test.mp4: 640x384 (no detections), 13.8ms\n",
      "video 1/1 (frame 685/1076) d:\\Term 2\\Deep_Learning_Project\\dl_project\\test.mp4: 640x384 (no detections), 14.5ms\n",
      "video 1/1 (frame 686/1076) d:\\Term 2\\Deep_Learning_Project\\dl_project\\test.mp4: 640x384 (no detections), 13.7ms\n",
      "video 1/1 (frame 687/1076) d:\\Term 2\\Deep_Learning_Project\\dl_project\\test.mp4: 640x384 (no detections), 13.8ms\n",
      "video 1/1 (frame 688/1076) d:\\Term 2\\Deep_Learning_Project\\dl_project\\test.mp4: 640x384 (no detections), 13.6ms\n",
      "video 1/1 (frame 689/1076) d:\\Term 2\\Deep_Learning_Project\\dl_project\\test.mp4: 640x384 (no detections), 13.8ms\n",
      "video 1/1 (frame 690/1076) d:\\Term 2\\Deep_Learning_Project\\dl_project\\test.mp4: 640x384 (no detections), 13.8ms\n",
      "video 1/1 (frame 691/1076) d:\\Term 2\\Deep_Learning_Project\\dl_project\\test.mp4: 640x384 (no detections), 13.7ms\n",
      "video 1/1 (frame 692/1076) d:\\Term 2\\Deep_Learning_Project\\dl_project\\test.mp4: 640x384 (no detections), 11.6ms\n",
      "video 1/1 (frame 693/1076) d:\\Term 2\\Deep_Learning_Project\\dl_project\\test.mp4: 640x384 (no detections), 11.5ms\n",
      "video 1/1 (frame 694/1076) d:\\Term 2\\Deep_Learning_Project\\dl_project\\test.mp4: 640x384 (no detections), 11.6ms\n",
      "video 1/1 (frame 695/1076) d:\\Term 2\\Deep_Learning_Project\\dl_project\\test.mp4: 640x384 1 licence, 11.6ms\n",
      "video 1/1 (frame 696/1076) d:\\Term 2\\Deep_Learning_Project\\dl_project\\test.mp4: 640x384 1 licence, 11.7ms\n",
      "video 1/1 (frame 697/1076) d:\\Term 2\\Deep_Learning_Project\\dl_project\\test.mp4: 640x384 1 licence, 11.6ms\n",
      "video 1/1 (frame 698/1076) d:\\Term 2\\Deep_Learning_Project\\dl_project\\test.mp4: 640x384 1 licence, 11.5ms\n",
      "video 1/1 (frame 699/1076) d:\\Term 2\\Deep_Learning_Project\\dl_project\\test.mp4: 640x384 1 licence, 11.6ms\n",
      "video 1/1 (frame 700/1076) d:\\Term 2\\Deep_Learning_Project\\dl_project\\test.mp4: 640x384 1 licence, 11.6ms\n",
      "video 1/1 (frame 701/1076) d:\\Term 2\\Deep_Learning_Project\\dl_project\\test.mp4: 640x384 1 licence, 11.6ms\n",
      "video 1/1 (frame 702/1076) d:\\Term 2\\Deep_Learning_Project\\dl_project\\test.mp4: 640x384 1 licence, 11.8ms\n",
      "video 1/1 (frame 703/1076) d:\\Term 2\\Deep_Learning_Project\\dl_project\\test.mp4: 640x384 1 licence, 11.7ms\n",
      "video 1/1 (frame 704/1076) d:\\Term 2\\Deep_Learning_Project\\dl_project\\test.mp4: 640x384 (no detections), 16.4ms\n",
      "video 1/1 (frame 705/1076) d:\\Term 2\\Deep_Learning_Project\\dl_project\\test.mp4: 640x384 (no detections), 11.5ms\n",
      "video 1/1 (frame 706/1076) d:\\Term 2\\Deep_Learning_Project\\dl_project\\test.mp4: 640x384 1 licence, 11.6ms\n",
      "video 1/1 (frame 707/1076) d:\\Term 2\\Deep_Learning_Project\\dl_project\\test.mp4: 640x384 1 licence, 11.7ms\n",
      "video 1/1 (frame 708/1076) d:\\Term 2\\Deep_Learning_Project\\dl_project\\test.mp4: 640x384 1 licence, 11.6ms\n",
      "video 1/1 (frame 709/1076) d:\\Term 2\\Deep_Learning_Project\\dl_project\\test.mp4: 640x384 (no detections), 11.6ms\n",
      "video 1/1 (frame 710/1076) d:\\Term 2\\Deep_Learning_Project\\dl_project\\test.mp4: 640x384 (no detections), 13.6ms\n",
      "video 1/1 (frame 711/1076) d:\\Term 2\\Deep_Learning_Project\\dl_project\\test.mp4: 640x384 (no detections), 11.6ms\n",
      "video 1/1 (frame 712/1076) d:\\Term 2\\Deep_Learning_Project\\dl_project\\test.mp4: 640x384 (no detections), 11.7ms\n",
      "video 1/1 (frame 713/1076) d:\\Term 2\\Deep_Learning_Project\\dl_project\\test.mp4: 640x384 (no detections), 16.6ms\n",
      "video 1/1 (frame 714/1076) d:\\Term 2\\Deep_Learning_Project\\dl_project\\test.mp4: 640x384 (no detections), 16.8ms\n",
      "video 1/1 (frame 715/1076) d:\\Term 2\\Deep_Learning_Project\\dl_project\\test.mp4: 640x384 (no detections), 11.6ms\n",
      "video 1/1 (frame 716/1076) d:\\Term 2\\Deep_Learning_Project\\dl_project\\test.mp4: 640x384 (no detections), 11.6ms\n",
      "video 1/1 (frame 717/1076) d:\\Term 2\\Deep_Learning_Project\\dl_project\\test.mp4: 640x384 (no detections), 11.6ms\n",
      "video 1/1 (frame 718/1076) d:\\Term 2\\Deep_Learning_Project\\dl_project\\test.mp4: 640x384 (no detections), 11.6ms\n",
      "video 1/1 (frame 719/1076) d:\\Term 2\\Deep_Learning_Project\\dl_project\\test.mp4: 640x384 (no detections), 11.6ms\n",
      "video 1/1 (frame 720/1076) d:\\Term 2\\Deep_Learning_Project\\dl_project\\test.mp4: 640x384 (no detections), 11.7ms\n",
      "video 1/1 (frame 721/1076) d:\\Term 2\\Deep_Learning_Project\\dl_project\\test.mp4: 640x384 (no detections), 11.6ms\n",
      "video 1/1 (frame 722/1076) d:\\Term 2\\Deep_Learning_Project\\dl_project\\test.mp4: 640x384 (no detections), 10.3ms\n",
      "video 1/1 (frame 723/1076) d:\\Term 2\\Deep_Learning_Project\\dl_project\\test.mp4: 640x384 (no detections), 10.2ms\n",
      "video 1/1 (frame 724/1076) d:\\Term 2\\Deep_Learning_Project\\dl_project\\test.mp4: 640x384 (no detections), 10.3ms\n",
      "video 1/1 (frame 725/1076) d:\\Term 2\\Deep_Learning_Project\\dl_project\\test.mp4: 640x384 (no detections), 12.4ms\n",
      "video 1/1 (frame 726/1076) d:\\Term 2\\Deep_Learning_Project\\dl_project\\test.mp4: 640x384 (no detections), 10.3ms\n",
      "video 1/1 (frame 727/1076) d:\\Term 2\\Deep_Learning_Project\\dl_project\\test.mp4: 640x384 (no detections), 10.3ms\n",
      "video 1/1 (frame 728/1076) d:\\Term 2\\Deep_Learning_Project\\dl_project\\test.mp4: 640x384 (no detections), 10.4ms\n",
      "video 1/1 (frame 729/1076) d:\\Term 2\\Deep_Learning_Project\\dl_project\\test.mp4: 640x384 (no detections), 10.4ms\n",
      "video 1/1 (frame 730/1076) d:\\Term 2\\Deep_Learning_Project\\dl_project\\test.mp4: 640x384 (no detections), 10.5ms\n",
      "video 1/1 (frame 731/1076) d:\\Term 2\\Deep_Learning_Project\\dl_project\\test.mp4: 640x384 (no detections), 15.3ms\n",
      "video 1/1 (frame 732/1076) d:\\Term 2\\Deep_Learning_Project\\dl_project\\test.mp4: 640x384 (no detections), 10.3ms\n",
      "video 1/1 (frame 733/1076) d:\\Term 2\\Deep_Learning_Project\\dl_project\\test.mp4: 640x384 (no detections), 10.2ms\n",
      "video 1/1 (frame 734/1076) d:\\Term 2\\Deep_Learning_Project\\dl_project\\test.mp4: 640x384 (no detections), 10.3ms\n",
      "video 1/1 (frame 735/1076) d:\\Term 2\\Deep_Learning_Project\\dl_project\\test.mp4: 640x384 (no detections), 10.3ms\n",
      "video 1/1 (frame 736/1076) d:\\Term 2\\Deep_Learning_Project\\dl_project\\test.mp4: 640x384 (no detections), 10.3ms\n",
      "video 1/1 (frame 737/1076) d:\\Term 2\\Deep_Learning_Project\\dl_project\\test.mp4: 640x384 (no detections), 10.4ms\n",
      "video 1/1 (frame 738/1076) d:\\Term 2\\Deep_Learning_Project\\dl_project\\test.mp4: 640x384 (no detections), 18.1ms\n",
      "video 1/1 (frame 739/1076) d:\\Term 2\\Deep_Learning_Project\\dl_project\\test.mp4: 640x384 (no detections), 10.3ms\n",
      "video 1/1 (frame 740/1076) d:\\Term 2\\Deep_Learning_Project\\dl_project\\test.mp4: 640x384 (no detections), 10.6ms\n",
      "video 1/1 (frame 741/1076) d:\\Term 2\\Deep_Learning_Project\\dl_project\\test.mp4: 640x384 (no detections), 14.2ms\n",
      "video 1/1 (frame 742/1076) d:\\Term 2\\Deep_Learning_Project\\dl_project\\test.mp4: 640x384 (no detections), 10.4ms\n",
      "video 1/1 (frame 743/1076) d:\\Term 2\\Deep_Learning_Project\\dl_project\\test.mp4: 640x384 (no detections), 10.4ms\n",
      "video 1/1 (frame 744/1076) d:\\Term 2\\Deep_Learning_Project\\dl_project\\test.mp4: 640x384 (no detections), 10.4ms\n",
      "video 1/1 (frame 745/1076) d:\\Term 2\\Deep_Learning_Project\\dl_project\\test.mp4: 640x384 (no detections), 10.3ms\n",
      "video 1/1 (frame 746/1076) d:\\Term 2\\Deep_Learning_Project\\dl_project\\test.mp4: 640x384 (no detections), 10.2ms\n",
      "video 1/1 (frame 747/1076) d:\\Term 2\\Deep_Learning_Project\\dl_project\\test.mp4: 640x384 (no detections), 10.2ms\n",
      "video 1/1 (frame 748/1076) d:\\Term 2\\Deep_Learning_Project\\dl_project\\test.mp4: 640x384 (no detections), 10.2ms\n",
      "video 1/1 (frame 749/1076) d:\\Term 2\\Deep_Learning_Project\\dl_project\\test.mp4: 640x384 (no detections), 10.4ms\n",
      "video 1/1 (frame 750/1076) d:\\Term 2\\Deep_Learning_Project\\dl_project\\test.mp4: 640x384 (no detections), 10.5ms\n",
      "video 1/1 (frame 751/1076) d:\\Term 2\\Deep_Learning_Project\\dl_project\\test.mp4: 640x384 (no detections), 9.5ms\n",
      "video 1/1 (frame 752/1076) d:\\Term 2\\Deep_Learning_Project\\dl_project\\test.mp4: 640x384 (no detections), 9.7ms\n",
      "video 1/1 (frame 753/1076) d:\\Term 2\\Deep_Learning_Project\\dl_project\\test.mp4: 640x384 (no detections), 10.3ms\n",
      "video 1/1 (frame 754/1076) d:\\Term 2\\Deep_Learning_Project\\dl_project\\test.mp4: 640x384 (no detections), 9.5ms\n",
      "video 1/1 (frame 755/1076) d:\\Term 2\\Deep_Learning_Project\\dl_project\\test.mp4: 640x384 (no detections), 10.8ms\n",
      "video 1/1 (frame 756/1076) d:\\Term 2\\Deep_Learning_Project\\dl_project\\test.mp4: 640x384 (no detections), 9.6ms\n",
      "video 1/1 (frame 757/1076) d:\\Term 2\\Deep_Learning_Project\\dl_project\\test.mp4: 640x384 (no detections), 9.5ms\n",
      "video 1/1 (frame 758/1076) d:\\Term 2\\Deep_Learning_Project\\dl_project\\test.mp4: 640x384 (no detections), 11.0ms\n",
      "video 1/1 (frame 759/1076) d:\\Term 2\\Deep_Learning_Project\\dl_project\\test.mp4: 640x384 (no detections), 16.2ms\n",
      "video 1/1 (frame 760/1076) d:\\Term 2\\Deep_Learning_Project\\dl_project\\test.mp4: 640x384 (no detections), 9.6ms\n",
      "video 1/1 (frame 761/1076) d:\\Term 2\\Deep_Learning_Project\\dl_project\\test.mp4: 640x384 (no detections), 11.9ms\n",
      "video 1/1 (frame 762/1076) d:\\Term 2\\Deep_Learning_Project\\dl_project\\test.mp4: 640x384 (no detections), 11.1ms\n",
      "video 1/1 (frame 763/1076) d:\\Term 2\\Deep_Learning_Project\\dl_project\\test.mp4: 640x384 (no detections), 13.5ms\n",
      "video 1/1 (frame 764/1076) d:\\Term 2\\Deep_Learning_Project\\dl_project\\test.mp4: 640x384 (no detections), 10.9ms\n",
      "video 1/1 (frame 765/1076) d:\\Term 2\\Deep_Learning_Project\\dl_project\\test.mp4: 640x384 (no detections), 9.9ms\n",
      "video 1/1 (frame 766/1076) d:\\Term 2\\Deep_Learning_Project\\dl_project\\test.mp4: 640x384 (no detections), 13.7ms\n",
      "video 1/1 (frame 767/1076) d:\\Term 2\\Deep_Learning_Project\\dl_project\\test.mp4: 640x384 (no detections), 17.6ms\n",
      "video 1/1 (frame 768/1076) d:\\Term 2\\Deep_Learning_Project\\dl_project\\test.mp4: 640x384 (no detections), 9.6ms\n",
      "video 1/1 (frame 769/1076) d:\\Term 2\\Deep_Learning_Project\\dl_project\\test.mp4: 640x384 (no detections), 9.5ms\n",
      "video 1/1 (frame 770/1076) d:\\Term 2\\Deep_Learning_Project\\dl_project\\test.mp4: 640x384 1 licence, 9.5ms\n",
      "video 1/1 (frame 771/1076) d:\\Term 2\\Deep_Learning_Project\\dl_project\\test.mp4: 640x384 1 licence, 9.5ms\n",
      "video 1/1 (frame 772/1076) d:\\Term 2\\Deep_Learning_Project\\dl_project\\test.mp4: 640x384 1 licence, 9.5ms\n",
      "video 1/1 (frame 773/1076) d:\\Term 2\\Deep_Learning_Project\\dl_project\\test.mp4: 640x384 1 licence, 11.8ms\n",
      "video 1/1 (frame 774/1076) d:\\Term 2\\Deep_Learning_Project\\dl_project\\test.mp4: 640x384 1 licence, 16.5ms\n",
      "video 1/1 (frame 775/1076) d:\\Term 2\\Deep_Learning_Project\\dl_project\\test.mp4: 640x384 1 licence, 9.4ms\n",
      "video 1/1 (frame 776/1076) d:\\Term 2\\Deep_Learning_Project\\dl_project\\test.mp4: 640x384 1 licence, 12.3ms\n",
      "video 1/1 (frame 777/1076) d:\\Term 2\\Deep_Learning_Project\\dl_project\\test.mp4: 640x384 (no detections), 9.5ms\n",
      "video 1/1 (frame 778/1076) d:\\Term 2\\Deep_Learning_Project\\dl_project\\test.mp4: 640x384 1 licence, 9.7ms\n",
      "video 1/1 (frame 779/1076) d:\\Term 2\\Deep_Learning_Project\\dl_project\\test.mp4: 640x384 (no detections), 9.5ms\n",
      "video 1/1 (frame 780/1076) d:\\Term 2\\Deep_Learning_Project\\dl_project\\test.mp4: 640x384 1 licence, 9.6ms\n",
      "video 1/1 (frame 781/1076) d:\\Term 2\\Deep_Learning_Project\\dl_project\\test.mp4: 640x384 (no detections), 9.5ms\n",
      "video 1/1 (frame 782/1076) d:\\Term 2\\Deep_Learning_Project\\dl_project\\test.mp4: 640x384 (no detections), 9.5ms\n",
      "video 1/1 (frame 783/1076) d:\\Term 2\\Deep_Learning_Project\\dl_project\\test.mp4: 640x384 (no detections), 9.6ms\n",
      "video 1/1 (frame 784/1076) d:\\Term 2\\Deep_Learning_Project\\dl_project\\test.mp4: 640x384 (no detections), 15.1ms\n",
      "video 1/1 (frame 785/1076) d:\\Term 2\\Deep_Learning_Project\\dl_project\\test.mp4: 640x384 (no detections), 9.6ms\n",
      "video 1/1 (frame 786/1076) d:\\Term 2\\Deep_Learning_Project\\dl_project\\test.mp4: 640x384 (no detections), 10.6ms\n",
      "video 1/1 (frame 787/1076) d:\\Term 2\\Deep_Learning_Project\\dl_project\\test.mp4: 640x384 (no detections), 16.7ms\n",
      "video 1/1 (frame 788/1076) d:\\Term 2\\Deep_Learning_Project\\dl_project\\test.mp4: 640x384 (no detections), 9.6ms\n",
      "video 1/1 (frame 789/1076) d:\\Term 2\\Deep_Learning_Project\\dl_project\\test.mp4: 640x384 (no detections), 9.5ms\n",
      "video 1/1 (frame 790/1076) d:\\Term 2\\Deep_Learning_Project\\dl_project\\test.mp4: 640x384 (no detections), 9.5ms\n",
      "video 1/1 (frame 791/1076) d:\\Term 2\\Deep_Learning_Project\\dl_project\\test.mp4: 640x384 (no detections), 9.5ms\n",
      "video 1/1 (frame 792/1076) d:\\Term 2\\Deep_Learning_Project\\dl_project\\test.mp4: 640x384 (no detections), 9.6ms\n",
      "video 1/1 (frame 793/1076) d:\\Term 2\\Deep_Learning_Project\\dl_project\\test.mp4: 640x384 (no detections), 9.5ms\n",
      "video 1/1 (frame 794/1076) d:\\Term 2\\Deep_Learning_Project\\dl_project\\test.mp4: 640x384 (no detections), 9.6ms\n",
      "video 1/1 (frame 795/1076) d:\\Term 2\\Deep_Learning_Project\\dl_project\\test.mp4: 640x384 (no detections), 9.5ms\n",
      "video 1/1 (frame 796/1076) d:\\Term 2\\Deep_Learning_Project\\dl_project\\test.mp4: 640x384 (no detections), 16.6ms\n",
      "video 1/1 (frame 797/1076) d:\\Term 2\\Deep_Learning_Project\\dl_project\\test.mp4: 640x384 (no detections), 9.5ms\n",
      "video 1/1 (frame 798/1076) d:\\Term 2\\Deep_Learning_Project\\dl_project\\test.mp4: 640x384 (no detections), 10.3ms\n",
      "video 1/1 (frame 799/1076) d:\\Term 2\\Deep_Learning_Project\\dl_project\\test.mp4: 640x384 (no detections), 11.9ms\n",
      "video 1/1 (frame 800/1076) d:\\Term 2\\Deep_Learning_Project\\dl_project\\test.mp4: 640x384 (no detections), 13.6ms\n",
      "video 1/1 (frame 801/1076) d:\\Term 2\\Deep_Learning_Project\\dl_project\\test.mp4: 640x384 (no detections), 17.4ms\n",
      "video 1/1 (frame 802/1076) d:\\Term 2\\Deep_Learning_Project\\dl_project\\test.mp4: 640x384 (no detections), 11.9ms\n",
      "video 1/1 (frame 803/1076) d:\\Term 2\\Deep_Learning_Project\\dl_project\\test.mp4: 640x384 (no detections), 11.8ms\n",
      "video 1/1 (frame 804/1076) d:\\Term 2\\Deep_Learning_Project\\dl_project\\test.mp4: 640x384 (no detections), 16.5ms\n",
      "video 1/1 (frame 805/1076) d:\\Term 2\\Deep_Learning_Project\\dl_project\\test.mp4: 640x384 (no detections), 11.8ms\n",
      "video 1/1 (frame 806/1076) d:\\Term 2\\Deep_Learning_Project\\dl_project\\test.mp4: 640x384 (no detections), 12.0ms\n",
      "video 1/1 (frame 807/1076) d:\\Term 2\\Deep_Learning_Project\\dl_project\\test.mp4: 640x384 (no detections), 11.9ms\n",
      "video 1/1 (frame 808/1076) d:\\Term 2\\Deep_Learning_Project\\dl_project\\test.mp4: 640x384 (no detections), 11.8ms\n",
      "video 1/1 (frame 809/1076) d:\\Term 2\\Deep_Learning_Project\\dl_project\\test.mp4: 640x384 (no detections), 12.2ms\n",
      "video 1/1 (frame 810/1076) d:\\Term 2\\Deep_Learning_Project\\dl_project\\test.mp4: 640x384 (no detections), 16.3ms\n",
      "video 1/1 (frame 811/1076) d:\\Term 2\\Deep_Learning_Project\\dl_project\\test.mp4: 640x384 (no detections), 12.3ms\n",
      "video 1/1 (frame 812/1076) d:\\Term 2\\Deep_Learning_Project\\dl_project\\test.mp4: 640x384 (no detections), 12.5ms\n",
      "video 1/1 (frame 813/1076) d:\\Term 2\\Deep_Learning_Project\\dl_project\\test.mp4: 640x384 (no detections), 12.3ms\n",
      "video 1/1 (frame 814/1076) d:\\Term 2\\Deep_Learning_Project\\dl_project\\test.mp4: 640x384 (no detections), 12.4ms\n",
      "video 1/1 (frame 815/1076) d:\\Term 2\\Deep_Learning_Project\\dl_project\\test.mp4: 640x384 (no detections), 12.5ms\n",
      "video 1/1 (frame 816/1076) d:\\Term 2\\Deep_Learning_Project\\dl_project\\test.mp4: 640x384 (no detections), 12.4ms\n",
      "video 1/1 (frame 817/1076) d:\\Term 2\\Deep_Learning_Project\\dl_project\\test.mp4: 640x384 (no detections), 12.4ms\n",
      "video 1/1 (frame 818/1076) d:\\Term 2\\Deep_Learning_Project\\dl_project\\test.mp4: 640x384 (no detections), 12.4ms\n",
      "video 1/1 (frame 819/1076) d:\\Term 2\\Deep_Learning_Project\\dl_project\\test.mp4: 640x384 (no detections), 18.1ms\n",
      "video 1/1 (frame 820/1076) d:\\Term 2\\Deep_Learning_Project\\dl_project\\test.mp4: 640x384 (no detections), 12.5ms\n",
      "video 1/1 (frame 821/1076) d:\\Term 2\\Deep_Learning_Project\\dl_project\\test.mp4: 640x384 (no detections), 12.5ms\n",
      "video 1/1 (frame 822/1076) d:\\Term 2\\Deep_Learning_Project\\dl_project\\test.mp4: 640x384 (no detections), 12.5ms\n",
      "video 1/1 (frame 823/1076) d:\\Term 2\\Deep_Learning_Project\\dl_project\\test.mp4: 640x384 (no detections), 12.5ms\n",
      "video 1/1 (frame 824/1076) d:\\Term 2\\Deep_Learning_Project\\dl_project\\test.mp4: 640x384 (no detections), 12.8ms\n",
      "video 1/1 (frame 825/1076) d:\\Term 2\\Deep_Learning_Project\\dl_project\\test.mp4: 640x384 (no detections), 12.8ms\n",
      "video 1/1 (frame 826/1076) d:\\Term 2\\Deep_Learning_Project\\dl_project\\test.mp4: 640x384 (no detections), 12.8ms\n",
      "video 1/1 (frame 827/1076) d:\\Term 2\\Deep_Learning_Project\\dl_project\\test.mp4: 640x384 (no detections), 12.8ms\n",
      "video 1/1 (frame 828/1076) d:\\Term 2\\Deep_Learning_Project\\dl_project\\test.mp4: 640x384 (no detections), 12.8ms\n",
      "video 1/1 (frame 829/1076) d:\\Term 2\\Deep_Learning_Project\\dl_project\\test.mp4: 640x384 (no detections), 12.8ms\n",
      "video 1/1 (frame 830/1076) d:\\Term 2\\Deep_Learning_Project\\dl_project\\test.mp4: 640x384 (no detections), 16.5ms\n",
      "video 1/1 (frame 831/1076) d:\\Term 2\\Deep_Learning_Project\\dl_project\\test.mp4: 640x384 (no detections), 12.9ms\n",
      "video 1/1 (frame 832/1076) d:\\Term 2\\Deep_Learning_Project\\dl_project\\test.mp4: 640x384 (no detections), 12.9ms\n",
      "video 1/1 (frame 833/1076) d:\\Term 2\\Deep_Learning_Project\\dl_project\\test.mp4: 640x384 1 licence, 12.9ms\n",
      "video 1/1 (frame 834/1076) d:\\Term 2\\Deep_Learning_Project\\dl_project\\test.mp4: 640x384 1 licence, 13.0ms\n",
      "video 1/1 (frame 835/1076) d:\\Term 2\\Deep_Learning_Project\\dl_project\\test.mp4: 640x384 (no detections), 13.1ms\n",
      "video 1/1 (frame 836/1076) d:\\Term 2\\Deep_Learning_Project\\dl_project\\test.mp4: 640x384 (no detections), 13.1ms\n",
      "video 1/1 (frame 837/1076) d:\\Term 2\\Deep_Learning_Project\\dl_project\\test.mp4: 640x384 (no detections), 13.1ms\n",
      "video 1/1 (frame 838/1076) d:\\Term 2\\Deep_Learning_Project\\dl_project\\test.mp4: 640x384 (no detections), 13.1ms\n",
      "video 1/1 (frame 839/1076) d:\\Term 2\\Deep_Learning_Project\\dl_project\\test.mp4: 640x384 (no detections), 13.3ms\n",
      "video 1/1 (frame 840/1076) d:\\Term 2\\Deep_Learning_Project\\dl_project\\test.mp4: 640x384 (no detections), 13.4ms\n",
      "video 1/1 (frame 841/1076) d:\\Term 2\\Deep_Learning_Project\\dl_project\\test.mp4: 640x384 (no detections), 13.3ms\n",
      "video 1/1 (frame 842/1076) d:\\Term 2\\Deep_Learning_Project\\dl_project\\test.mp4: 640x384 (no detections), 13.4ms\n",
      "video 1/1 (frame 843/1076) d:\\Term 2\\Deep_Learning_Project\\dl_project\\test.mp4: 640x384 (no detections), 13.4ms\n",
      "video 1/1 (frame 844/1076) d:\\Term 2\\Deep_Learning_Project\\dl_project\\test.mp4: 640x384 (no detections), 13.5ms\n",
      "video 1/1 (frame 845/1076) d:\\Term 2\\Deep_Learning_Project\\dl_project\\test.mp4: 640x384 (no detections), 13.5ms\n",
      "video 1/1 (frame 846/1076) d:\\Term 2\\Deep_Learning_Project\\dl_project\\test.mp4: 640x384 (no detections), 13.5ms\n",
      "video 1/1 (frame 847/1076) d:\\Term 2\\Deep_Learning_Project\\dl_project\\test.mp4: 640x384 (no detections), 13.6ms\n",
      "video 1/1 (frame 848/1076) d:\\Term 2\\Deep_Learning_Project\\dl_project\\test.mp4: 640x384 (no detections), 16.1ms\n",
      "video 1/1 (frame 849/1076) d:\\Term 2\\Deep_Learning_Project\\dl_project\\test.mp4: 640x384 (no detections), 13.6ms\n",
      "video 1/1 (frame 850/1076) d:\\Term 2\\Deep_Learning_Project\\dl_project\\test.mp4: 640x384 (no detections), 16.1ms\n",
      "video 1/1 (frame 851/1076) d:\\Term 2\\Deep_Learning_Project\\dl_project\\test.mp4: 640x384 (no detections), 13.5ms\n",
      "video 1/1 (frame 852/1076) d:\\Term 2\\Deep_Learning_Project\\dl_project\\test.mp4: 640x384 (no detections), 13.5ms\n",
      "video 1/1 (frame 853/1076) d:\\Term 2\\Deep_Learning_Project\\dl_project\\test.mp4: 640x384 (no detections), 13.5ms\n",
      "video 1/1 (frame 854/1076) d:\\Term 2\\Deep_Learning_Project\\dl_project\\test.mp4: 640x384 (no detections), 13.5ms\n",
      "video 1/1 (frame 855/1076) d:\\Term 2\\Deep_Learning_Project\\dl_project\\test.mp4: 640x384 (no detections), 13.5ms\n",
      "video 1/1 (frame 856/1076) d:\\Term 2\\Deep_Learning_Project\\dl_project\\test.mp4: 640x384 (no detections), 13.5ms\n",
      "video 1/1 (frame 857/1076) d:\\Term 2\\Deep_Learning_Project\\dl_project\\test.mp4: 640x384 (no detections), 13.6ms\n",
      "video 1/1 (frame 858/1076) d:\\Term 2\\Deep_Learning_Project\\dl_project\\test.mp4: 640x384 (no detections), 13.5ms\n",
      "video 1/1 (frame 859/1076) d:\\Term 2\\Deep_Learning_Project\\dl_project\\test.mp4: 640x384 (no detections), 13.5ms\n",
      "video 1/1 (frame 860/1076) d:\\Term 2\\Deep_Learning_Project\\dl_project\\test.mp4: 640x384 (no detections), 13.6ms\n",
      "video 1/1 (frame 861/1076) d:\\Term 2\\Deep_Learning_Project\\dl_project\\test.mp4: 640x384 (no detections), 20.2ms\n",
      "video 1/1 (frame 862/1076) d:\\Term 2\\Deep_Learning_Project\\dl_project\\test.mp4: 640x384 (no detections), 13.7ms\n",
      "video 1/1 (frame 863/1076) d:\\Term 2\\Deep_Learning_Project\\dl_project\\test.mp4: 640x384 (no detections), 13.8ms\n",
      "video 1/1 (frame 864/1076) d:\\Term 2\\Deep_Learning_Project\\dl_project\\test.mp4: 640x384 (no detections), 13.7ms\n",
      "video 1/1 (frame 865/1076) d:\\Term 2\\Deep_Learning_Project\\dl_project\\test.mp4: 640x384 (no detections), 13.8ms\n",
      "video 1/1 (frame 866/1076) d:\\Term 2\\Deep_Learning_Project\\dl_project\\test.mp4: 640x384 (no detections), 15.6ms\n",
      "video 1/1 (frame 867/1076) d:\\Term 2\\Deep_Learning_Project\\dl_project\\test.mp4: 640x384 (no detections), 13.8ms\n",
      "video 1/1 (frame 868/1076) d:\\Term 2\\Deep_Learning_Project\\dl_project\\test.mp4: 640x384 (no detections), 14.1ms\n",
      "video 1/1 (frame 869/1076) d:\\Term 2\\Deep_Learning_Project\\dl_project\\test.mp4: 640x384 (no detections), 16.1ms\n",
      "video 1/1 (frame 870/1076) d:\\Term 2\\Deep_Learning_Project\\dl_project\\test.mp4: 640x384 (no detections), 13.9ms\n",
      "video 1/1 (frame 871/1076) d:\\Term 2\\Deep_Learning_Project\\dl_project\\test.mp4: 640x384 (no detections), 13.9ms\n",
      "video 1/1 (frame 872/1076) d:\\Term 2\\Deep_Learning_Project\\dl_project\\test.mp4: 640x384 (no detections), 13.8ms\n",
      "video 1/1 (frame 873/1076) d:\\Term 2\\Deep_Learning_Project\\dl_project\\test.mp4: 640x384 (no detections), 15.8ms\n",
      "video 1/1 (frame 874/1076) d:\\Term 2\\Deep_Learning_Project\\dl_project\\test.mp4: 640x384 (no detections), 14.1ms\n",
      "video 1/1 (frame 875/1076) d:\\Term 2\\Deep_Learning_Project\\dl_project\\test.mp4: 640x384 (no detections), 14.1ms\n",
      "video 1/1 (frame 876/1076) d:\\Term 2\\Deep_Learning_Project\\dl_project\\test.mp4: 640x384 (no detections), 16.0ms\n",
      "video 1/1 (frame 877/1076) d:\\Term 2\\Deep_Learning_Project\\dl_project\\test.mp4: 640x384 (no detections), 15.9ms\n",
      "video 1/1 (frame 878/1076) d:\\Term 2\\Deep_Learning_Project\\dl_project\\test.mp4: 640x384 (no detections), 14.0ms\n",
      "video 1/1 (frame 879/1076) d:\\Term 2\\Deep_Learning_Project\\dl_project\\test.mp4: 640x384 (no detections), 14.2ms\n",
      "video 1/1 (frame 880/1076) d:\\Term 2\\Deep_Learning_Project\\dl_project\\test.mp4: 640x384 (no detections), 14.0ms\n",
      "video 1/1 (frame 881/1076) d:\\Term 2\\Deep_Learning_Project\\dl_project\\test.mp4: 640x384 (no detections), 14.0ms\n",
      "video 1/1 (frame 882/1076) d:\\Term 2\\Deep_Learning_Project\\dl_project\\test.mp4: 640x384 (no detections), 14.1ms\n",
      "video 1/1 (frame 883/1076) d:\\Term 2\\Deep_Learning_Project\\dl_project\\test.mp4: 640x384 (no detections), 14.1ms\n",
      "video 1/1 (frame 884/1076) d:\\Term 2\\Deep_Learning_Project\\dl_project\\test.mp4: 640x384 (no detections), 13.9ms\n",
      "video 1/1 (frame 885/1076) d:\\Term 2\\Deep_Learning_Project\\dl_project\\test.mp4: 640x384 (no detections), 14.1ms\n",
      "video 1/1 (frame 886/1076) d:\\Term 2\\Deep_Learning_Project\\dl_project\\test.mp4: 640x384 (no detections), 13.9ms\n",
      "video 1/1 (frame 887/1076) d:\\Term 2\\Deep_Learning_Project\\dl_project\\test.mp4: 640x384 (no detections), 11.7ms\n",
      "video 1/1 (frame 888/1076) d:\\Term 2\\Deep_Learning_Project\\dl_project\\test.mp4: 640x384 (no detections), 11.9ms\n",
      "video 1/1 (frame 889/1076) d:\\Term 2\\Deep_Learning_Project\\dl_project\\test.mp4: 640x384 (no detections), 12.5ms\n",
      "video 1/1 (frame 890/1076) d:\\Term 2\\Deep_Learning_Project\\dl_project\\test.mp4: 640x384 (no detections), 11.8ms\n",
      "video 1/1 (frame 891/1076) d:\\Term 2\\Deep_Learning_Project\\dl_project\\test.mp4: 640x384 (no detections), 11.8ms\n",
      "video 1/1 (frame 892/1076) d:\\Term 2\\Deep_Learning_Project\\dl_project\\test.mp4: 640x384 (no detections), 17.5ms\n",
      "video 1/1 (frame 893/1076) d:\\Term 2\\Deep_Learning_Project\\dl_project\\test.mp4: 640x384 (no detections), 11.7ms\n",
      "video 1/1 (frame 894/1076) d:\\Term 2\\Deep_Learning_Project\\dl_project\\test.mp4: 640x384 (no detections), 11.8ms\n",
      "video 1/1 (frame 895/1076) d:\\Term 2\\Deep_Learning_Project\\dl_project\\test.mp4: 640x384 (no detections), 12.0ms\n",
      "video 1/1 (frame 896/1076) d:\\Term 2\\Deep_Learning_Project\\dl_project\\test.mp4: 640x384 (no detections), 14.5ms\n",
      "video 1/1 (frame 897/1076) d:\\Term 2\\Deep_Learning_Project\\dl_project\\test.mp4: 640x384 (no detections), 11.9ms\n",
      "video 1/1 (frame 898/1076) d:\\Term 2\\Deep_Learning_Project\\dl_project\\test.mp4: 640x384 (no detections), 11.8ms\n",
      "video 1/1 (frame 899/1076) d:\\Term 2\\Deep_Learning_Project\\dl_project\\test.mp4: 640x384 (no detections), 11.9ms\n",
      "video 1/1 (frame 900/1076) d:\\Term 2\\Deep_Learning_Project\\dl_project\\test.mp4: 640x384 (no detections), 11.9ms\n",
      "video 1/1 (frame 901/1076) d:\\Term 2\\Deep_Learning_Project\\dl_project\\test.mp4: 640x384 (no detections), 12.0ms\n",
      "video 1/1 (frame 902/1076) d:\\Term 2\\Deep_Learning_Project\\dl_project\\test.mp4: 640x384 (no detections), 12.0ms\n",
      "video 1/1 (frame 903/1076) d:\\Term 2\\Deep_Learning_Project\\dl_project\\test.mp4: 640x384 (no detections), 11.8ms\n",
      "video 1/1 (frame 904/1076) d:\\Term 2\\Deep_Learning_Project\\dl_project\\test.mp4: 640x384 (no detections), 11.8ms\n",
      "video 1/1 (frame 905/1076) d:\\Term 2\\Deep_Learning_Project\\dl_project\\test.mp4: 640x384 (no detections), 20.3ms\n",
      "video 1/1 (frame 906/1076) d:\\Term 2\\Deep_Learning_Project\\dl_project\\test.mp4: 640x384 (no detections), 18.2ms\n",
      "video 1/1 (frame 907/1076) d:\\Term 2\\Deep_Learning_Project\\dl_project\\test.mp4: 640x384 (no detections), 11.8ms\n",
      "video 1/1 (frame 908/1076) d:\\Term 2\\Deep_Learning_Project\\dl_project\\test.mp4: 640x384 (no detections), 12.0ms\n",
      "video 1/1 (frame 909/1076) d:\\Term 2\\Deep_Learning_Project\\dl_project\\test.mp4: 640x384 (no detections), 12.4ms\n",
      "video 1/1 (frame 910/1076) d:\\Term 2\\Deep_Learning_Project\\dl_project\\test.mp4: 640x384 (no detections), 11.5ms\n",
      "video 1/1 (frame 911/1076) d:\\Term 2\\Deep_Learning_Project\\dl_project\\test.mp4: 640x384 (no detections), 12.3ms\n",
      "video 1/1 (frame 912/1076) d:\\Term 2\\Deep_Learning_Project\\dl_project\\test.mp4: 640x384 (no detections), 11.6ms\n",
      "video 1/1 (frame 913/1076) d:\\Term 2\\Deep_Learning_Project\\dl_project\\test.mp4: 640x384 (no detections), 11.7ms\n",
      "video 1/1 (frame 914/1076) d:\\Term 2\\Deep_Learning_Project\\dl_project\\test.mp4: 640x384 (no detections), 11.7ms\n",
      "video 1/1 (frame 915/1076) d:\\Term 2\\Deep_Learning_Project\\dl_project\\test.mp4: 640x384 (no detections), 11.8ms\n",
      "video 1/1 (frame 916/1076) d:\\Term 2\\Deep_Learning_Project\\dl_project\\test.mp4: 640x384 (no detections), 11.6ms\n",
      "video 1/1 (frame 917/1076) d:\\Term 2\\Deep_Learning_Project\\dl_project\\test.mp4: 640x384 (no detections), 11.5ms\n",
      "video 1/1 (frame 918/1076) d:\\Term 2\\Deep_Learning_Project\\dl_project\\test.mp4: 640x384 (no detections), 16.4ms\n",
      "video 1/1 (frame 919/1076) d:\\Term 2\\Deep_Learning_Project\\dl_project\\test.mp4: 640x384 (no detections), 16.4ms\n",
      "video 1/1 (frame 920/1076) d:\\Term 2\\Deep_Learning_Project\\dl_project\\test.mp4: 640x384 (no detections), 18.6ms\n",
      "video 1/1 (frame 921/1076) d:\\Term 2\\Deep_Learning_Project\\dl_project\\test.mp4: 640x384 (no detections), 10.4ms\n",
      "video 1/1 (frame 922/1076) d:\\Term 2\\Deep_Learning_Project\\dl_project\\test.mp4: 640x384 (no detections), 10.6ms\n",
      "video 1/1 (frame 923/1076) d:\\Term 2\\Deep_Learning_Project\\dl_project\\test.mp4: 640x384 (no detections), 11.8ms\n",
      "video 1/1 (frame 924/1076) d:\\Term 2\\Deep_Learning_Project\\dl_project\\test.mp4: 640x384 (no detections), 10.5ms\n",
      "video 1/1 (frame 925/1076) d:\\Term 2\\Deep_Learning_Project\\dl_project\\test.mp4: 640x384 (no detections), 10.4ms\n",
      "video 1/1 (frame 926/1076) d:\\Term 2\\Deep_Learning_Project\\dl_project\\test.mp4: 640x384 (no detections), 15.3ms\n",
      "video 1/1 (frame 927/1076) d:\\Term 2\\Deep_Learning_Project\\dl_project\\test.mp4: 640x384 (no detections), 10.3ms\n",
      "video 1/1 (frame 928/1076) d:\\Term 2\\Deep_Learning_Project\\dl_project\\test.mp4: 640x384 (no detections), 10.4ms\n",
      "video 1/1 (frame 929/1076) d:\\Term 2\\Deep_Learning_Project\\dl_project\\test.mp4: 640x384 1 licence, 16.0ms\n",
      "video 1/1 (frame 930/1076) d:\\Term 2\\Deep_Learning_Project\\dl_project\\test.mp4: 640x384 1 licence, 11.4ms\n",
      "video 1/1 (frame 931/1076) d:\\Term 2\\Deep_Learning_Project\\dl_project\\test.mp4: 640x384 (no detections), 10.3ms\n",
      "video 1/1 (frame 932/1076) d:\\Term 2\\Deep_Learning_Project\\dl_project\\test.mp4: 640x384 1 licence, 10.3ms\n",
      "video 1/1 (frame 933/1076) d:\\Term 2\\Deep_Learning_Project\\dl_project\\test.mp4: 640x384 1 licence, 10.4ms\n",
      "video 1/1 (frame 934/1076) d:\\Term 2\\Deep_Learning_Project\\dl_project\\test.mp4: 640x384 1 licence, 10.4ms\n",
      "video 1/1 (frame 935/1076) d:\\Term 2\\Deep_Learning_Project\\dl_project\\test.mp4: 640x384 1 licence, 16.4ms\n",
      "video 1/1 (frame 936/1076) d:\\Term 2\\Deep_Learning_Project\\dl_project\\test.mp4: 640x384 1 licence, 10.7ms\n",
      "video 1/1 (frame 937/1076) d:\\Term 2\\Deep_Learning_Project\\dl_project\\test.mp4: 640x384 1 licence, 10.4ms\n",
      "video 1/1 (frame 938/1076) d:\\Term 2\\Deep_Learning_Project\\dl_project\\test.mp4: 640x384 1 licence, 10.4ms\n",
      "video 1/1 (frame 939/1076) d:\\Term 2\\Deep_Learning_Project\\dl_project\\test.mp4: 640x384 1 licence, 10.7ms\n",
      "video 1/1 (frame 940/1076) d:\\Term 2\\Deep_Learning_Project\\dl_project\\test.mp4: 640x384 (no detections), 17.8ms\n",
      "video 1/1 (frame 941/1076) d:\\Term 2\\Deep_Learning_Project\\dl_project\\test.mp4: 640x384 (no detections), 10.4ms\n",
      "video 1/1 (frame 942/1076) d:\\Term 2\\Deep_Learning_Project\\dl_project\\test.mp4: 640x384 (no detections), 14.7ms\n",
      "video 1/1 (frame 943/1076) d:\\Term 2\\Deep_Learning_Project\\dl_project\\test.mp4: 640x384 (no detections), 16.2ms\n",
      "video 1/1 (frame 944/1076) d:\\Term 2\\Deep_Learning_Project\\dl_project\\test.mp4: 640x384 (no detections), 17.0ms\n",
      "video 1/1 (frame 945/1076) d:\\Term 2\\Deep_Learning_Project\\dl_project\\test.mp4: 640x384 (no detections), 10.7ms\n",
      "video 1/1 (frame 946/1076) d:\\Term 2\\Deep_Learning_Project\\dl_project\\test.mp4: 640x384 (no detections), 10.4ms\n",
      "video 1/1 (frame 947/1076) d:\\Term 2\\Deep_Learning_Project\\dl_project\\test.mp4: 640x384 (no detections), 10.4ms\n",
      "video 1/1 (frame 948/1076) d:\\Term 2\\Deep_Learning_Project\\dl_project\\test.mp4: 640x384 (no detections), 10.4ms\n",
      "video 1/1 (frame 949/1076) d:\\Term 2\\Deep_Learning_Project\\dl_project\\test.mp4: 640x384 1 licence, 10.4ms\n",
      "video 1/1 (frame 950/1076) d:\\Term 2\\Deep_Learning_Project\\dl_project\\test.mp4: 640x384 1 licence, 10.5ms\n",
      "video 1/1 (frame 951/1076) d:\\Term 2\\Deep_Learning_Project\\dl_project\\test.mp4: 640x384 1 licence, 17.0ms\n",
      "video 1/1 (frame 952/1076) d:\\Term 2\\Deep_Learning_Project\\dl_project\\test.mp4: 640x384 1 licence, 17.6ms\n",
      "video 1/1 (frame 953/1076) d:\\Term 2\\Deep_Learning_Project\\dl_project\\test.mp4: 640x384 1 licence, 10.5ms\n",
      "video 1/1 (frame 954/1076) d:\\Term 2\\Deep_Learning_Project\\dl_project\\test.mp4: 640x384 1 licence, 10.4ms\n",
      "video 1/1 (frame 955/1076) d:\\Term 2\\Deep_Learning_Project\\dl_project\\test.mp4: 640x384 1 licence, 10.4ms\n",
      "video 1/1 (frame 956/1076) d:\\Term 2\\Deep_Learning_Project\\dl_project\\test.mp4: 640x384 1 licence, 10.4ms\n",
      "video 1/1 (frame 957/1076) d:\\Term 2\\Deep_Learning_Project\\dl_project\\test.mp4: 640x384 1 licence, 10.4ms\n",
      "video 1/1 (frame 958/1076) d:\\Term 2\\Deep_Learning_Project\\dl_project\\test.mp4: 640x384 1 licence, 10.4ms\n",
      "video 1/1 (frame 959/1076) d:\\Term 2\\Deep_Learning_Project\\dl_project\\test.mp4: 640x384 1 licence, 10.4ms\n",
      "video 1/1 (frame 960/1076) d:\\Term 2\\Deep_Learning_Project\\dl_project\\test.mp4: 640x384 1 licence, 10.4ms\n",
      "video 1/1 (frame 961/1076) d:\\Term 2\\Deep_Learning_Project\\dl_project\\test.mp4: 640x384 1 licence, 17.0ms\n",
      "video 1/1 (frame 962/1076) d:\\Term 2\\Deep_Learning_Project\\dl_project\\test.mp4: 640x384 1 licence, 10.4ms\n",
      "video 1/1 (frame 963/1076) d:\\Term 2\\Deep_Learning_Project\\dl_project\\test.mp4: 640x384 1 licence, 14.6ms\n",
      "video 1/1 (frame 964/1076) d:\\Term 2\\Deep_Learning_Project\\dl_project\\test.mp4: 640x384 2 licences, 10.4ms\n",
      "video 1/1 (frame 965/1076) d:\\Term 2\\Deep_Learning_Project\\dl_project\\test.mp4: 640x384 1 licence, 10.3ms\n",
      "video 1/1 (frame 966/1076) d:\\Term 2\\Deep_Learning_Project\\dl_project\\test.mp4: 640x384 1 licence, 10.4ms\n",
      "video 1/1 (frame 967/1076) d:\\Term 2\\Deep_Learning_Project\\dl_project\\test.mp4: 640x384 2 licences, 10.4ms\n",
      "video 1/1 (frame 968/1076) d:\\Term 2\\Deep_Learning_Project\\dl_project\\test.mp4: 640x384 2 licences, 10.3ms\n",
      "video 1/1 (frame 969/1076) d:\\Term 2\\Deep_Learning_Project\\dl_project\\test.mp4: 640x384 2 licences, 10.4ms\n",
      "video 1/1 (frame 970/1076) d:\\Term 2\\Deep_Learning_Project\\dl_project\\test.mp4: 640x384 2 licences, 11.6ms\n",
      "video 1/1 (frame 971/1076) d:\\Term 2\\Deep_Learning_Project\\dl_project\\test.mp4: 640x384 2 licences, 11.7ms\n",
      "video 1/1 (frame 972/1076) d:\\Term 2\\Deep_Learning_Project\\dl_project\\test.mp4: 640x384 2 licences, 11.6ms\n",
      "video 1/1 (frame 973/1076) d:\\Term 2\\Deep_Learning_Project\\dl_project\\test.mp4: 640x384 2 licences, 11.7ms\n",
      "video 1/1 (frame 974/1076) d:\\Term 2\\Deep_Learning_Project\\dl_project\\test.mp4: 640x384 1 licence, 11.7ms\n",
      "video 1/1 (frame 975/1076) d:\\Term 2\\Deep_Learning_Project\\dl_project\\test.mp4: 640x384 1 licence, 11.5ms\n",
      "video 1/1 (frame 976/1076) d:\\Term 2\\Deep_Learning_Project\\dl_project\\test.mp4: 640x384 1 licence, 16.6ms\n",
      "video 1/1 (frame 977/1076) d:\\Term 2\\Deep_Learning_Project\\dl_project\\test.mp4: 640x384 1 licence, 11.7ms\n",
      "video 1/1 (frame 978/1076) d:\\Term 2\\Deep_Learning_Project\\dl_project\\test.mp4: 640x384 2 licences, 11.7ms\n",
      "video 1/1 (frame 979/1076) d:\\Term 2\\Deep_Learning_Project\\dl_project\\test.mp4: 640x384 2 licences, 12.0ms\n",
      "video 1/1 (frame 980/1076) d:\\Term 2\\Deep_Learning_Project\\dl_project\\test.mp4: 640x384 1 licence, 11.8ms\n",
      "video 1/1 (frame 981/1076) d:\\Term 2\\Deep_Learning_Project\\dl_project\\test.mp4: 640x384 1 licence, 11.8ms\n",
      "video 1/1 (frame 982/1076) d:\\Term 2\\Deep_Learning_Project\\dl_project\\test.mp4: 640x384 2 licences, 11.9ms\n",
      "video 1/1 (frame 983/1076) d:\\Term 2\\Deep_Learning_Project\\dl_project\\test.mp4: 640x384 1 licence, 11.9ms\n",
      "video 1/1 (frame 984/1076) d:\\Term 2\\Deep_Learning_Project\\dl_project\\test.mp4: 640x384 (no detections), 11.8ms\n",
      "video 1/1 (frame 985/1076) d:\\Term 2\\Deep_Learning_Project\\dl_project\\test.mp4: 640x384 (no detections), 11.9ms\n",
      "video 1/1 (frame 986/1076) d:\\Term 2\\Deep_Learning_Project\\dl_project\\test.mp4: 640x384 1 licence, 11.9ms\n",
      "video 1/1 (frame 987/1076) d:\\Term 2\\Deep_Learning_Project\\dl_project\\test.mp4: 640x384 (no detections), 12.1ms\n",
      "video 1/1 (frame 988/1076) d:\\Term 2\\Deep_Learning_Project\\dl_project\\test.mp4: 640x384 (no detections), 16.4ms\n",
      "video 1/1 (frame 989/1076) d:\\Term 2\\Deep_Learning_Project\\dl_project\\test.mp4: 640x384 (no detections), 12.0ms\n",
      "video 1/1 (frame 990/1076) d:\\Term 2\\Deep_Learning_Project\\dl_project\\test.mp4: 640x384 (no detections), 12.0ms\n",
      "video 1/1 (frame 991/1076) d:\\Term 2\\Deep_Learning_Project\\dl_project\\test.mp4: 640x384 1 licence, 12.1ms\n",
      "video 1/1 (frame 992/1076) d:\\Term 2\\Deep_Learning_Project\\dl_project\\test.mp4: 640x384 1 licence, 12.0ms\n",
      "video 1/1 (frame 993/1076) d:\\Term 2\\Deep_Learning_Project\\dl_project\\test.mp4: 640x384 (no detections), 12.0ms\n",
      "video 1/1 (frame 994/1076) d:\\Term 2\\Deep_Learning_Project\\dl_project\\test.mp4: 640x384 (no detections), 12.0ms\n",
      "video 1/1 (frame 995/1076) d:\\Term 2\\Deep_Learning_Project\\dl_project\\test.mp4: 640x384 1 licence, 11.9ms\n",
      "video 1/1 (frame 996/1076) d:\\Term 2\\Deep_Learning_Project\\dl_project\\test.mp4: 640x384 2 licences, 12.0ms\n",
      "video 1/1 (frame 997/1076) d:\\Term 2\\Deep_Learning_Project\\dl_project\\test.mp4: 640x384 1 licence, 12.5ms\n",
      "video 1/1 (frame 998/1076) d:\\Term 2\\Deep_Learning_Project\\dl_project\\test.mp4: 640x384 1 licence, 14.7ms\n",
      "video 1/1 (frame 999/1076) d:\\Term 2\\Deep_Learning_Project\\dl_project\\test.mp4: 640x384 (no detections), 12.5ms\n",
      "video 1/1 (frame 1000/1076) d:\\Term 2\\Deep_Learning_Project\\dl_project\\test.mp4: 640x384 1 licence, 12.4ms\n",
      "video 1/1 (frame 1001/1076) d:\\Term 2\\Deep_Learning_Project\\dl_project\\test.mp4: 640x384 (no detections), 12.5ms\n",
      "video 1/1 (frame 1002/1076) d:\\Term 2\\Deep_Learning_Project\\dl_project\\test.mp4: 640x384 (no detections), 12.5ms\n",
      "video 1/1 (frame 1003/1076) d:\\Term 2\\Deep_Learning_Project\\dl_project\\test.mp4: 640x384 1 licence, 17.5ms\n",
      "video 1/1 (frame 1004/1076) d:\\Term 2\\Deep_Learning_Project\\dl_project\\test.mp4: 640x384 2 licences, 12.5ms\n",
      "video 1/1 (frame 1005/1076) d:\\Term 2\\Deep_Learning_Project\\dl_project\\test.mp4: 640x384 1 licence, 12.5ms\n",
      "video 1/1 (frame 1006/1076) d:\\Term 2\\Deep_Learning_Project\\dl_project\\test.mp4: 640x384 (no detections), 12.7ms\n",
      "video 1/1 (frame 1007/1076) d:\\Term 2\\Deep_Learning_Project\\dl_project\\test.mp4: 640x384 (no detections), 12.6ms\n",
      "video 1/1 (frame 1008/1076) d:\\Term 2\\Deep_Learning_Project\\dl_project\\test.mp4: 640x384 1 licence, 12.5ms\n",
      "video 1/1 (frame 1009/1076) d:\\Term 2\\Deep_Learning_Project\\dl_project\\test.mp4: 640x384 (no detections), 17.7ms\n",
      "video 1/1 (frame 1010/1076) d:\\Term 2\\Deep_Learning_Project\\dl_project\\test.mp4: 640x384 (no detections), 12.5ms\n",
      "video 1/1 (frame 1011/1076) d:\\Term 2\\Deep_Learning_Project\\dl_project\\test.mp4: 640x384 (no detections), 12.4ms\n",
      "video 1/1 (frame 1012/1076) d:\\Term 2\\Deep_Learning_Project\\dl_project\\test.mp4: 640x384 (no detections), 12.5ms\n",
      "video 1/1 (frame 1013/1076) d:\\Term 2\\Deep_Learning_Project\\dl_project\\test.mp4: 640x384 (no detections), 12.6ms\n",
      "video 1/1 (frame 1014/1076) d:\\Term 2\\Deep_Learning_Project\\dl_project\\test.mp4: 640x384 (no detections), 12.7ms\n",
      "video 1/1 (frame 1015/1076) d:\\Term 2\\Deep_Learning_Project\\dl_project\\test.mp4: 640x384 (no detections), 12.7ms\n",
      "video 1/1 (frame 1016/1076) d:\\Term 2\\Deep_Learning_Project\\dl_project\\test.mp4: 640x384 (no detections), 12.7ms\n",
      "video 1/1 (frame 1017/1076) d:\\Term 2\\Deep_Learning_Project\\dl_project\\test.mp4: 640x384 (no detections), 12.7ms\n",
      "video 1/1 (frame 1018/1076) d:\\Term 2\\Deep_Learning_Project\\dl_project\\test.mp4: 640x384 (no detections), 12.6ms\n",
      "video 1/1 (frame 1019/1076) d:\\Term 2\\Deep_Learning_Project\\dl_project\\test.mp4: 640x384 (no detections), 12.6ms\n",
      "video 1/1 (frame 1020/1076) d:\\Term 2\\Deep_Learning_Project\\dl_project\\test.mp4: 640x384 (no detections), 12.6ms\n",
      "video 1/1 (frame 1021/1076) d:\\Term 2\\Deep_Learning_Project\\dl_project\\test.mp4: 640x384 (no detections), 12.7ms\n",
      "video 1/1 (frame 1022/1076) d:\\Term 2\\Deep_Learning_Project\\dl_project\\test.mp4: 640x384 (no detections), 11.7ms\n",
      "video 1/1 (frame 1023/1076) d:\\Term 2\\Deep_Learning_Project\\dl_project\\test.mp4: 640x384 (no detections), 11.4ms\n",
      "video 1/1 (frame 1024/1076) d:\\Term 2\\Deep_Learning_Project\\dl_project\\test.mp4: 640x384 (no detections), 11.3ms\n",
      "video 1/1 (frame 1025/1076) d:\\Term 2\\Deep_Learning_Project\\dl_project\\test.mp4: 640x384 (no detections), 11.4ms\n",
      "video 1/1 (frame 1026/1076) d:\\Term 2\\Deep_Learning_Project\\dl_project\\test.mp4: 640x384 (no detections), 11.3ms\n",
      "video 1/1 (frame 1027/1076) d:\\Term 2\\Deep_Learning_Project\\dl_project\\test.mp4: 640x384 (no detections), 17.2ms\n",
      "video 1/1 (frame 1028/1076) d:\\Term 2\\Deep_Learning_Project\\dl_project\\test.mp4: 640x384 (no detections), 16.4ms\n",
      "video 1/1 (frame 1029/1076) d:\\Term 2\\Deep_Learning_Project\\dl_project\\test.mp4: 640x384 (no detections), 11.2ms\n",
      "video 1/1 (frame 1030/1076) d:\\Term 2\\Deep_Learning_Project\\dl_project\\test.mp4: 640x384 (no detections), 11.2ms\n",
      "video 1/1 (frame 1031/1076) d:\\Term 2\\Deep_Learning_Project\\dl_project\\test.mp4: 640x384 (no detections), 11.1ms\n",
      "video 1/1 (frame 1032/1076) d:\\Term 2\\Deep_Learning_Project\\dl_project\\test.mp4: 640x384 (no detections), 11.8ms\n",
      "video 1/1 (frame 1033/1076) d:\\Term 2\\Deep_Learning_Project\\dl_project\\test.mp4: 640x384 (no detections), 11.2ms\n",
      "video 1/1 (frame 1034/1076) d:\\Term 2\\Deep_Learning_Project\\dl_project\\test.mp4: 640x384 (no detections), 11.1ms\n",
      "video 1/1 (frame 1035/1076) d:\\Term 2\\Deep_Learning_Project\\dl_project\\test.mp4: 640x384 (no detections), 11.2ms\n",
      "video 1/1 (frame 1036/1076) d:\\Term 2\\Deep_Learning_Project\\dl_project\\test.mp4: 640x384 (no detections), 11.3ms\n",
      "video 1/1 (frame 1037/1076) d:\\Term 2\\Deep_Learning_Project\\dl_project\\test.mp4: 640x384 (no detections), 11.2ms\n",
      "video 1/1 (frame 1038/1076) d:\\Term 2\\Deep_Learning_Project\\dl_project\\test.mp4: 640x384 (no detections), 11.2ms\n",
      "video 1/1 (frame 1039/1076) d:\\Term 2\\Deep_Learning_Project\\dl_project\\test.mp4: 640x384 (no detections), 11.3ms\n",
      "video 1/1 (frame 1040/1076) d:\\Term 2\\Deep_Learning_Project\\dl_project\\test.mp4: 640x384 (no detections), 16.8ms\n",
      "video 1/1 (frame 1041/1076) d:\\Term 2\\Deep_Learning_Project\\dl_project\\test.mp4: 640x384 (no detections), 11.2ms\n",
      "video 1/1 (frame 1042/1076) d:\\Term 2\\Deep_Learning_Project\\dl_project\\test.mp4: 640x384 (no detections), 11.3ms\n",
      "video 1/1 (frame 1043/1076) d:\\Term 2\\Deep_Learning_Project\\dl_project\\test.mp4: 640x384 (no detections), 11.2ms\n",
      "video 1/1 (frame 1044/1076) d:\\Term 2\\Deep_Learning_Project\\dl_project\\test.mp4: 640x384 (no detections), 11.2ms\n",
      "video 1/1 (frame 1045/1076) d:\\Term 2\\Deep_Learning_Project\\dl_project\\test.mp4: 640x384 (no detections), 14.2ms\n",
      "video 1/1 (frame 1046/1076) d:\\Term 2\\Deep_Learning_Project\\dl_project\\test.mp4: 640x384 (no detections), 11.3ms\n",
      "video 1/1 (frame 1047/1076) d:\\Term 2\\Deep_Learning_Project\\dl_project\\test.mp4: 640x384 (no detections), 11.1ms\n",
      "video 1/1 (frame 1048/1076) d:\\Term 2\\Deep_Learning_Project\\dl_project\\test.mp4: 640x384 (no detections), 12.6ms\n",
      "video 1/1 (frame 1049/1076) d:\\Term 2\\Deep_Learning_Project\\dl_project\\test.mp4: 640x384 (no detections), 12.2ms\n",
      "video 1/1 (frame 1050/1076) d:\\Term 2\\Deep_Learning_Project\\dl_project\\test.mp4: 640x384 (no detections), 11.2ms\n",
      "video 1/1 (frame 1051/1076) d:\\Term 2\\Deep_Learning_Project\\dl_project\\test.mp4: 640x384 (no detections), 11.3ms\n",
      "video 1/1 (frame 1052/1076) d:\\Term 2\\Deep_Learning_Project\\dl_project\\test.mp4: 640x384 (no detections), 11.2ms\n",
      "video 1/1 (frame 1053/1076) d:\\Term 2\\Deep_Learning_Project\\dl_project\\test.mp4: 640x384 (no detections), 14.4ms\n",
      "video 1/1 (frame 1054/1076) d:\\Term 2\\Deep_Learning_Project\\dl_project\\test.mp4: 640x384 (no detections), 11.3ms\n",
      "video 1/1 (frame 1055/1076) d:\\Term 2\\Deep_Learning_Project\\dl_project\\test.mp4: 640x384 (no detections), 11.3ms\n",
      "video 1/1 (frame 1056/1076) d:\\Term 2\\Deep_Learning_Project\\dl_project\\test.mp4: 640x384 (no detections), 14.8ms\n",
      "video 1/1 (frame 1057/1076) d:\\Term 2\\Deep_Learning_Project\\dl_project\\test.mp4: 640x384 (no detections), 11.4ms\n",
      "video 1/1 (frame 1058/1076) d:\\Term 2\\Deep_Learning_Project\\dl_project\\test.mp4: 640x384 (no detections), 11.2ms\n",
      "video 1/1 (frame 1059/1076) d:\\Term 2\\Deep_Learning_Project\\dl_project\\test.mp4: 640x384 (no detections), 11.2ms\n",
      "video 1/1 (frame 1060/1076) d:\\Term 2\\Deep_Learning_Project\\dl_project\\test.mp4: 640x384 (no detections), 11.2ms\n",
      "video 1/1 (frame 1061/1076) d:\\Term 2\\Deep_Learning_Project\\dl_project\\test.mp4: 640x384 (no detections), 11.3ms\n",
      "video 1/1 (frame 1062/1076) d:\\Term 2\\Deep_Learning_Project\\dl_project\\test.mp4: 640x384 (no detections), 11.2ms\n",
      "video 1/1 (frame 1063/1076) d:\\Term 2\\Deep_Learning_Project\\dl_project\\test.mp4: 640x384 (no detections), 11.2ms\n",
      "video 1/1 (frame 1064/1076) d:\\Term 2\\Deep_Learning_Project\\dl_project\\test.mp4: 640x384 (no detections), 15.9ms\n",
      "video 1/1 (frame 1065/1076) d:\\Term 2\\Deep_Learning_Project\\dl_project\\test.mp4: 640x384 (no detections), 11.2ms\n",
      "video 1/1 (frame 1066/1076) d:\\Term 2\\Deep_Learning_Project\\dl_project\\test.mp4: 640x384 (no detections), 11.2ms\n",
      "video 1/1 (frame 1067/1076) d:\\Term 2\\Deep_Learning_Project\\dl_project\\test.mp4: 640x384 (no detections), 11.2ms\n",
      "video 1/1 (frame 1068/1076) d:\\Term 2\\Deep_Learning_Project\\dl_project\\test.mp4: 640x384 (no detections), 11.3ms\n",
      "video 1/1 (frame 1069/1076) d:\\Term 2\\Deep_Learning_Project\\dl_project\\test.mp4: 640x384 (no detections), 11.3ms\n",
      "video 1/1 (frame 1070/1076) d:\\Term 2\\Deep_Learning_Project\\dl_project\\test.mp4: 640x384 (no detections), 11.2ms\n",
      "video 1/1 (frame 1071/1076) d:\\Term 2\\Deep_Learning_Project\\dl_project\\test.mp4: 640x384 (no detections), 15.2ms\n",
      "video 1/1 (frame 1072/1076) d:\\Term 2\\Deep_Learning_Project\\dl_project\\test.mp4: 640x384 (no detections), 11.4ms\n",
      "video 1/1 (frame 1073/1076) d:\\Term 2\\Deep_Learning_Project\\dl_project\\test.mp4: 640x384 (no detections), 11.2ms\n",
      "video 1/1 (frame 1074/1076) d:\\Term 2\\Deep_Learning_Project\\dl_project\\test.mp4: 640x384 (no detections), 11.3ms\n",
      "video 1/1 (frame 1075/1076) d:\\Term 2\\Deep_Learning_Project\\dl_project\\test.mp4: 640x384 (no detections), 11.4ms\n",
      "Speed: 1.6ms preprocess, 13.1ms inference, 1.3ms postprocess per image at shape (1, 3, 640, 384)\n",
      "Results saved to \u001b[1mruns\\detect\\predict4\u001b[0m\n"
     ]
    }
   ],
   "source": [
    "model = YOLO(\"runs/detect/model_blur4/weights/best.pt\")\n",
    "results = model.predict(source=\"test.mp4\", conf=0.4, save=True)\n"
   ]
  },
  {
   "cell_type": "code",
   "execution_count": 44,
   "id": "590e4bea",
   "metadata": {},
   "outputs": [
    {
     "name": "stdout",
     "output_type": "stream",
     "text": [
      "Blurred video saved as output.mp4\n"
     ]
    }
   ],
   "source": [
    "import cv2\n",
    "from ultralytics import YOLO\n",
    "\n",
    "model = YOLO(\"runs/detect/model_blur4/weights/best.pt\")\n",
    "\n",
    "input_path = \"test.mp4\"\n",
    "cap = cv2.VideoCapture(input_path)\n",
    "\n",
    "fps = cap.get(cv2.CAP_PROP_FPS)\n",
    "width  = int(cap.get(cv2.CAP_PROP_FRAME_WIDTH))\n",
    "height = int(cap.get(cv2.CAP_PROP_FRAME_HEIGHT))\n",
    "\n",
    "fourcc = cv2.VideoWriter_fourcc(*'mp4v')\n",
    "out = cv2.VideoWriter(\"output.mp4\", fourcc, fps, (width, height))\n",
    "\n",
    "while True:\n",
    "    ret, frame = cap.read()\n",
    "    if not ret:\n",
    "        break\n",
    "\n",
    "    results = model.predict(source=frame, conf=0.4, stream=True, verbose=False)\n",
    "\n",
    "    for result in results:\n",
    "        boxes = result.boxes.xyxy.cpu().numpy()\n",
    "\n",
    "        for box in boxes:\n",
    "            x1, y1, x2, y2 = map(int, box)\n",
    "            x1, y1 = max(0, x1), max(0, y1)\n",
    "            x2, y2 = min(frame.shape[1], x2), min(frame.shape[0], y2)\n",
    "            \n",
    "            roi = frame[y1:y2, x1:x2]\n",
    "            if roi.size > 0:\n",
    "                blur = cv2.GaussianBlur(roi, (35, 35), 0)\n",
    "                frame[y1:y2, x1:x2] = blur\n",
    "\n",
    "    out.write(frame)\n",
    "\n",
    "cap.release()\n",
    "out.release()\n",
    "print(\"Blurred video saved as output.mp4\")\n"
   ]
  }
 ],
 "metadata": {
  "kernelspec": {
   "display_name": "venv (3.12.8)",
   "language": "python",
   "name": "python3"
  },
  "language_info": {
   "codemirror_mode": {
    "name": "ipython",
    "version": 3
   },
   "file_extension": ".py",
   "mimetype": "text/x-python",
   "name": "python",
   "nbconvert_exporter": "python",
   "pygments_lexer": "ipython3",
   "version": "3.12.8"
  }
 },
 "nbformat": 4,
 "nbformat_minor": 5
}
