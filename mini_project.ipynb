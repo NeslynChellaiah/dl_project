{
 "cells": [
  {
   "cell_type": "code",
   "execution_count": 4,
   "id": "97869d39",
   "metadata": {},
   "outputs": [],
   "source": [
    "# !pip3 install --upgrade pip\n",
    "# !pip3 install ultralytics opencv-python\n",
    "\n"
   ]
  },
  {
   "cell_type": "code",
   "execution_count": 3,
   "id": "a04189ed",
   "metadata": {},
   "outputs": [],
   "source": [
    "# download the dataset: https://www.kaggle.com/datasets/andrewmvd/car-plate-detection?resource=\n",
    "# rename the folder: \"dataset\""
   ]
  },
  {
   "cell_type": "code",
   "execution_count": null,
   "id": "2283c272",
   "metadata": {},
   "outputs": [],
   "source": [
    "import os\n",
    "import shutil\n",
    "import random"
   ]
  },
  {
   "cell_type": "code",
   "execution_count": null,
   "id": "e4155ae3",
   "metadata": {},
   "outputs": [
    {
     "name": "stdout",
     "output_type": "stream",
     "text": [
      "Files split and grouped\n"
     ]
    }
   ],
   "source": [
    "random.seed(42)\n",
    "\n",
    "# Input directories\n",
    "image_dir = 'dataset/images'\n",
    "label_dir = 'dataset/annotations'\n",
    "\n",
    "# Output base directory\n",
    "out_base = 'dataset_split'\n",
    "\n",
    "# Collect all image base names\n",
    "image_files = [f for f in os.listdir(image_dir) if f.endswith('.png')]\n",
    "base_names = [os.path.splitext(f)[0] for f in image_files]\n",
    "\n",
    "# Shuffle and split\n",
    "random.shuffle(base_names)\n",
    "total = len(base_names)\n",
    "train_end = int(0.7 * total)\n",
    "val_end = int(0.9 * total)\n",
    "\n",
    "splits = {\n",
    "    'train': base_names[:train_end],\n",
    "    'val': base_names[train_end:val_end],\n",
    "    'test': base_names[val_end:]\n",
    "}\n",
    "\n",
    "# Create target folders\n",
    "for split in ['train', 'val', 'test']:\n",
    "    os.makedirs(f'{out_base}/images/{split}', exist_ok=True)\n",
    "    os.makedirs(f'{out_base}/labels/{split}', exist_ok=True)\n",
    "\n",
    "# Move files\n",
    "for split, names in splits.items():\n",
    "    for name in names:\n",
    "        img_src = os.path.join(image_dir, f'{name}.png')\n",
    "        lbl_src = os.path.join(label_dir, f'{name}.xml')\n",
    "        \n",
    "        img_dst = os.path.join(out_base, 'images', split, f'{name}.png')\n",
    "        lbl_dst = os.path.join(out_base, 'labels', split, f'{name}.xml')\n",
    "        \n",
    "        if os.path.exists(img_src):\n",
    "            shutil.copy(img_src, img_dst)\n",
    "        if os.path.exists(lbl_src):\n",
    "            shutil.copy(lbl_src, lbl_dst)\n",
    "\n",
    "print(\"Files split and grouped\")\n"
   ]
  }
 ],
 "metadata": {
  "kernelspec": {
   "display_name": "Python 3",
   "language": "python",
   "name": "python3"
  },
  "language_info": {
   "codemirror_mode": {
    "name": "ipython",
    "version": 3
   },
   "file_extension": ".py",
   "mimetype": "text/x-python",
   "name": "python",
   "nbconvert_exporter": "python",
   "pygments_lexer": "ipython3",
   "version": "3.10.18"
  }
 },
 "nbformat": 4,
 "nbformat_minor": 5
}
